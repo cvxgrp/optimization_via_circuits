{
 "cells": [
  {
   "cell_type": "code",
   "execution_count": 1,
   "metadata": {},
   "outputs": [],
   "source": [
    "import ciropt as co\n",
    "import cvxpy as cp"
   ]
  },
  {
   "cell_type": "code",
   "execution_count": 2,
   "metadata": {},
   "outputs": [],
   "source": [
    "# L_smooth = 1.\n",
    "mu = 0.0001\n",
    "\n",
    "Capacitance = 2.\n",
    "Inductance = 2.\n",
    "R = 1.\n",
    "L_smooth = 1/(2*R)\n",
    "\n",
    "time_limit=100"
   ]
  },
  {
   "cell_type": "markdown",
   "metadata": {},
   "source": [
    "# Ciropt problem"
   ]
  },
  {
   "cell_type": "code",
   "execution_count": 3,
   "metadata": {},
   "outputs": [],
   "source": [
    "# problem = co.accelerated_gradient_circuit(mu, L_smooth, R, Capacitance, Inductance)\n",
    "# problem.obj = problem.b + problem.d\n",
    "\n",
    "# bounds_names = ['alpha', 'beta', 'Z', \"lamb\"]\n",
    "# res, model = problem.solve(verbose=False, solver=\"sdp_relax\", var_bound=bounds_names[-1], max_iter=100, time_limit=time_limit)[:2]\n",
    "# vars = problem.vars\n",
    "# print(problem.bounds_vars)"
   ]
  },
  {
   "cell_type": "code",
   "execution_count": 4,
   "metadata": {},
   "outputs": [],
   "source": [
    "# problem = co.accelerated_gradient_circuit(mu, L_smooth, R, Capacitance, Inductance)\n",
    "# problem.obj = problem.b + problem.d\n",
    "\n",
    "# bounds_names = ['alpha', 'beta', 'Z', \"lamb\"]\n",
    "# res, model = problem.solve(verbose=True, solver=\"sdp_relax\", cvx_solver=cp.MOSEK, var_bound=bounds_names[2], max_iter=100, time_limit=time_limit)[:2]\n",
    "# vars = problem.vars\n",
    "# print(problem.bounds_vars)"
   ]
  },
  {
   "cell_type": "code",
   "execution_count": 5,
   "metadata": {},
   "outputs": [
    {
     "name": "stdout",
     "output_type": "stream",
     "text": [
      "dim_G=5, dim_F=3\n",
      "Restricted license - for non-production use only - expires 2024-10-28\n",
      "<class 'numpy.ndarray'> <class 'gurobipy.MQuadExpr'> <class 'numpy.ndarray'>\n"
     ]
    },
    {
     "name": "stderr",
     "output_type": "stream",
     "text": [
      "c:\\Users\\jacks\\GitHub\\optimization_via_circuits\\ciropt\\extra_methods.py:250: RuntimeWarning: Chained matrix multiplications of MVars is inefficient, collect numeric terms first when building expressions\n",
      "  model.addConstr(  (M1 @ var_x).item()  - gp_trace(M2 @ var_X) == 0)\n"
     ]
    },
    {
     "name": "stdout",
     "output_type": "stream",
     "text": [
      "<class 'numpy.ndarray'> <class 'gurobipy.MQuadExpr'> <class 'numpy.ndarray'>\n",
      "<class 'numpy.ndarray'> <class 'gurobipy.MQuadExpr'> <class 'numpy.ndarray'>\n"
     ]
    },
    {
     "name": "stderr",
     "output_type": "stream",
     "text": [
      "c:\\Users\\jacks\\GitHub\\optimization_via_circuits\\ciropt\\extra_methods.py:265: RuntimeWarning: Chained matrix multiplications of MVars is inefficient, collect numeric terms first when building expressions\n",
      "  + gp_trace(M2 @ var_X) \\\n",
      "c:\\Users\\jacks\\GitHub\\optimization_via_circuits\\ciropt\\extra_methods.py:266: RuntimeWarning: Chained matrix multiplications of MVars is inefficient, collect numeric terms first when building expressions\n",
      "  - gp_trace(M3 @ var_X) == 0)\n",
      "c:\\Users\\jacks\\GitHub\\optimization_via_circuits\\ciropt\\extra_methods.py:279: RuntimeWarning: Chained matrix multiplications of MVars is inefficient, collect numeric terms first when building expressions\n",
      "  model.addConstr( gp_trace(M1 @ var_X) + (M2 @ var_x).item() == 0)\n"
     ]
    },
    {
     "name": "stdout",
     "output_type": "stream",
     "text": [
      "Set parameter NonConvex to value 2\n",
      "Set parameter TimeLimit to value 100\n",
      "Set parameter FeasibilityTol to value 1e-09\n",
      "Set parameter Method to value 0\n",
      "Set parameter PoolSearchMode to value 1\n",
      "Set parameter Heuristics to value 0.001\n",
      "Gurobi Optimizer version 10.0.3 build v10.0.3rc0 (win64)\n",
      "\n",
      "CPU model: Intel(R) Core(TM) i5-8265U CPU @ 1.60GHz, instruction set [SSE2|AVX|AVX2]\n",
      "Thread count: 4 physical cores, 8 logical processors, using up to 8 threads\n",
      "\n",
      "Optimize a model with 19 rows, 60 columns and 19 nonzeros\n",
      "Model fingerprint: 0x78a7c331\n",
      "Model has 60 quadratic constraints\n",
      "Coefficient statistics:\n",
      "  Matrix range     [1e+00, 1e+00]\n",
      "  QMatrix range    [1e-05, 1e+00]\n",
      "  QLMatrix range   [6e-02, 1e+00]\n",
      "  Objective range  [1e+00, 1e+00]\n",
      "  Bounds range     [1e+03, 1e+03]\n",
      "  RHS range        [1e+00, 1e+00]\n",
      "Warning: Only barrier available for SOCP models\n",
      "Presolve removed 19 rows and 2 columns\n",
      "\n",
      "Continuous model is non-convex -- solving as a MIP\n",
      "\n",
      "Presolve removed 16 rows and 2 columns\n",
      "Presolve time: 0.00s\n",
      "Presolved: 296 rows, 97 columns, 847 nonzeros\n",
      "Presolved model has 75 bilinear constraint(s)\n",
      "Variable types: 97 continuous, 0 integer (0 binary)\n",
      "\n",
      "Root relaxation: objective -1.026633e+03, 146 iterations, 0.00 seconds (0.00 work units)\n",
      "\n",
      "    Nodes    |    Current Node    |     Objective Bounds      |     Work\n",
      " Expl Unexpl |  Obj  Depth IntInf | Incumbent    BestBd   Gap | It/Node Time\n",
      "\n",
      "     0     0 -1026.6334    0   68          - -1026.6334      -     -    0s\n",
      "     0     0 -925.83380    0   66          - -925.83380      -     -    0s\n",
      "     0     0 -925.82909    0   66          - -925.82909      -     -    0s\n",
      "     0     0 -918.55207    0   56          - -918.55207      -     -    0s\n",
      "     0     0 -886.80133    0   56          - -886.80133      -     -    0s\n",
      "     0     0 -771.97986    0   64          - -771.97986      -     -    0s\n",
      "     0     0 -765.21150    0   65          - -765.21150      -     -    0s\n",
      "     0     0 -742.19568    0   61          - -742.19568      -     -    0s\n",
      "     0     0 -737.11320    0   61          - -737.11320      -     -    0s\n",
      "     0     0 -634.08064    0   59          - -634.08064      -     -    0s\n",
      "     0     0 -634.08064    0   61          - -634.08064      -     -    0s\n",
      "     0     0 -634.08064    0   59          - -634.08064      -     -    0s\n",
      "     0     0 -634.08064    0   61          - -634.08064      -     -    0s\n",
      "     0     0 -634.08064    0   57          - -634.08064      -     -    0s\n",
      "     0     0 -634.08064    0   59          - -634.08064      -     -    0s\n",
      "     0     0 -634.08064    0   56          - -634.08064      -     -    0s\n",
      "     0     0 -634.08064    0   58          - -634.08064      -     -    0s\n",
      "     0     0 -634.08064    0   56          - -634.08064      -     -    0s\n",
      "     0     0 -634.08064    0   61          - -634.08064      -     -    0s\n",
      "     0     0 -634.08064    0   61          - -634.08064      -     -    0s\n",
      "     0     0 -634.08064    0   61          - -634.08064      -     -    0s\n",
      "     0     0 -634.08064    0   57          - -634.08064      -     -    0s\n",
      "     0     0 -634.08064    0   57          - -634.08064      -     -    0s\n",
      "     0     0 -634.08064    0   57          - -634.08064      -     -    0s\n",
      "     0     0 -634.08064    0   61          - -634.08064      -     -    0s\n",
      "     0     0 -634.08064    0   61          - -634.08064      -     -    0s\n",
      "     0     0 -634.08064    0   61          - -634.08064      -     -    0s\n",
      "     0     0 -634.08064    0   60          - -634.08064      -     -    0s\n",
      "     0     0 -634.08064    0   62          - -634.08064      -     -    0s\n",
      "     0     0 -634.08064    0   61          - -634.08064      -     -    0s\n",
      "     0     0 -634.08064    0   58          - -634.08064      -     -    0s\n",
      "     0     0 -634.08064    0   60          - -634.08064      -     -    0s\n",
      "     0     0 -634.08064    0   60          - -634.08064      -     -    0s\n",
      "     0     0 -601.88502    0   70          - -601.88502      -     -    0s\n",
      "     0     0 -601.88502    0   68          - -601.88502      -     -    0s\n",
      "     0     2 -601.88502    0   68          - -601.88502      -     -    0s\n",
      "  6417  4062 -197.04201   28   61          - -479.38333      -  45.3    5s\n",
      "* 8365  5344             224      -1.4637600 -444.23469      -  45.2    5s\n",
      "* 9815  6229             172      -1.5614846 -440.34120      -  43.8    6s\n",
      "*14019  8574             215      -1.9996465 -329.15220      -  43.1    7s\n",
      "*14344  6995             235      -1.9998169 -329.15220      -  42.3    7s\n",
      "*15418  7540             216      -1.9999680 -328.48338      -  40.8    8s\n",
      " 19698  9563 infeasible   37        -1.99997 -324.16711      -  43.9   10s\n",
      " 29087 13566 infeasible   63        -1.99997 -320.70710      -  49.1   15s\n",
      " 38258 17018 -218.07481   34   62   -1.99997 -310.07757      -  52.5   20s\n",
      " 46744 20046     cutoff   32        -1.99997 -304.25026      -  55.8   25s\n",
      " 56000 23127  -23.26886   32   60   -1.99997 -299.84210      -  56.5   30s\n",
      " 63559 25691     cutoff   48        -1.99997 -274.70408      -  58.1   35s\n",
      "*67196 27237             171      -1.9999853 -269.86617      -  58.4   37s\n",
      " 70848 27857 infeasible   44        -1.99999 -267.67164      -  58.8   40s\n",
      " 78870 30780 -120.83415   30   60   -1.99999 -261.22550      -  59.6   45s\n",
      " 86288 33215 infeasible   44        -1.99999 -257.18178      -  59.9   50s\n",
      " 93836 34902     cutoff   45        -1.99999 -244.18654      -  60.6   55s\n",
      " 101025 37293  -98.87295   33   66   -1.99999 -229.80012      -  60.9   60s\n",
      "*107006 40148             221      -2.3507352 -223.07104  9389%  60.8   63s\n",
      " 108722 35390  -32.03640   35   63   -2.35074 -220.40232  9276%  60.8   65s\n",
      " 115858 37049 infeasible   44        -2.35074 -206.38666  8680%  61.5   70s\n",
      " 122042 39138 -115.07042   29   61   -2.35074 -199.36821  8381%  61.9   75s\n",
      " 128403 41149 infeasible   43        -2.35074 -192.64460  8095%  62.4   80s\n",
      " 134819 43016  -10.67724   45   60   -2.35074 -186.95455  7853%  62.8   85s\n",
      " 141079 44755 -171.38760   31   67   -2.35074 -182.78007  7675%  63.1   90s\n",
      " 147559 46484  -16.42496   35   74   -2.35074 -177.61960  7456%  63.5   95s\n",
      " 153974 48175 -163.86891   33   66   -2.35074 -173.59774  7285%  63.9  100s\n",
      "\n",
      "Cutting planes:\n",
      "  RLT: 154\n",
      "  BQP: 3\n",
      "  PSD: 425\n",
      "\n",
      "Explored 154262 nodes (9861389 simplex iterations) in 100.01 seconds (42.49 work units)\n",
      "Thread count was 8 (of 8 available processors)\n",
      "\n",
      "Solution count 10: -2.35074 -2.35074 -2.35074 ... -2.35074\n",
      "\n",
      "Time limit reached\n",
      "Best objective -2.350735186332e+00, best bound -1.733755562260e+02, gap 7275.3759%\n"
     ]
    }
   ],
   "source": [
    "# problem = co.accelerated_gradient_circuit(mu, L_smooth, R, Capacitance, Inductance)\n",
    "problem = co.accelerated_gradient_circuit_no_moreau(mu, L_smooth, R, Capacitance, Inductance)\n",
    "problem.obj = problem.b + problem.d\n",
    "\n",
    "res, model = problem.solve(verbose=True, solver=\"gp_canonical_X\", max_iter=100, time_limit=time_limit)[:2]\n",
    "vars = problem.vars"
   ]
  },
  {
   "cell_type": "code",
   "execution_count": 6,
   "metadata": {},
   "outputs": [
    {
     "data": {
      "text/plain": [
       "(9,\n",
       " {'b': 1.410801645492309,\n",
       "  'h': 4.03537493997435,\n",
       "  'd': 0.9399335408399556,\n",
       "  'alpha': 0.35546607756499815,\n",
       "  'beta': 0.26525303681148577})"
      ]
     },
     "execution_count": 6,
     "metadata": {},
     "output_type": "execute_result"
    }
   ],
   "source": [
    "model.status, res"
   ]
  },
  {
   "cell_type": "code",
   "execution_count": 7,
   "metadata": {},
   "outputs": [],
   "source": [
    "# bounds = {  'b': {\"ub\": 10, \"lb\": 0.},\n",
    "#             'd': {\"ub\": 10, \"lb\": 0.},\n",
    "#             'h': {\"ub\": 10, \"lb\": 0},\n",
    "#             'alpha': {\"ub\": 1, \"lb\": -1},\n",
    "#             'beta': {\"ub\": 1, \"lb\": -1},}"
   ]
  },
  {
   "cell_type": "code",
   "execution_count": 8,
   "metadata": {},
   "outputs": [],
   "source": [
    "import numpy as np\n",
    "import pickle\n",
    "\n",
    "# res = vars\n",
    "\n",
    "# with open('AGD_dccp.pickle', 'wb') as handle:\n",
    "#     pickle.dump(res, handle, protocol=pickle.HIGHEST_PROTOCOL)\n",
    "\n",
    "# with open('AGD_dccp.pickle', 'rb') as handle:\n",
    "#     vars = pickle.load(handle)\n",
    "\n",
    "# P = co.cholseky_matrix(vars[\"Z\"])\n",
    "# P_flatten = co.flatten_lower_tri(P)\n",
    "# var_x = np.concatenate([vars[\"x\"], P_flatten.reshape(-1, 1)], axis=0)\n",
    "# print(var_x.shape)\n",
    "# init_values = {\"x\": var_x}\n",
    "\n",
    "\n",
    "# problem = co.accelerated_gradient_circuit(mu, L_smooth, R, Capacitance, Inductance)\n",
    "# problem.obj = problem.b + problem.d\n",
    "# res, model = problem.solve(verbose=True, solver=\"ca_canonical_X\", init_values=init_values)[:2]"
   ]
  },
  {
   "cell_type": "markdown",
   "metadata": {},
   "source": [
    "# PEP verification"
   ]
  },
  {
   "cell_type": "code",
   "execution_count": 9,
   "metadata": {},
   "outputs": [
    {
     "name": "stdout",
     "output_type": "stream",
     "text": [
      "diff=-4.4987865081723337e-13\n"
     ]
    }
   ],
   "source": [
    "# problem = co.accelerated_gradient_circuit(mu, L_smooth, R, Capacitance, Inductance, params=res)\n",
    "problem = co.accelerated_gradient_circuit_no_moreau(mu, L_smooth, R, Capacitance, Inductance, params=res)\n",
    "diff = problem.solve(verbose=0, solver=cp.MOSEK)\n",
    "print(f\"{diff=}\")"
   ]
  },
  {
   "cell_type": "code",
   "execution_count": null,
   "metadata": {},
   "outputs": [],
   "source": []
  },
  {
   "cell_type": "code",
   "execution_count": null,
   "metadata": {},
   "outputs": [],
   "source": []
  }
 ],
 "metadata": {
  "kernelspec": {
   "display_name": "osbdo",
   "language": "python",
   "name": "python3"
  },
  "language_info": {
   "codemirror_mode": {
    "name": "ipython",
    "version": 3
   },
   "file_extension": ".py",
   "mimetype": "text/x-python",
   "name": "python",
   "nbconvert_exporter": "python",
   "pygments_lexer": "ipython3",
   "version": "3.11.5"
  }
 },
 "nbformat": 4,
 "nbformat_minor": 2
}
