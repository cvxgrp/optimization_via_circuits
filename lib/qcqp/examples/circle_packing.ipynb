{
 "cells": [
  {
   "cell_type": "code",
   "execution_count": null,
   "metadata": {},
   "outputs": [],
   "source": [
    "import cvxpy as cvx\n",
    "import numpy as np\n",
    "import matplotlib.pyplot as plt\n",
    "from qcqp import *"
   ]
  },
  {
   "cell_type": "code",
   "execution_count": null,
   "metadata": {},
   "outputs": [],
   "source": [
    "n = 5 # number of circles\n",
    "X = cvx.Variable(2, n)\n",
    "B = 10\n",
    "r = cvx.Variable()\n",
    "obj = cvx.Maximize(r)\n",
    "cons = [X >= r, X <= B-r, r >= 0]\n",
    "for i in range(n):\n",
    "    for j in range(i+1, n):\n",
    "        cons.append(cvx.square(2*r) <= cvx.sum_squares(X[:, i]-X[:, j]))\n",
    "\n",
    "prob = cvx.Problem(obj, cons)\n",
    "qcqp = QCQP(prob)\n",
    "\n",
    "# sample from the semidefinite relaxation\n",
    "qcqp.suggest(SDR)\n",
    "print(\"SDR-based upper bound: %.3f\" % qcqp.sdr_bound)\n",
    "\n",
    "f_cd, v_cd = qcqp.improve(COORD_DESCENT)\n",
    "print(\"Coordinate descent: objective %.3f, violation %.3f\" % (f_cd, v_cd))\n",
    "\n",
    "# SDR solution is cached and not solved again\n",
    "qcqp.suggest(SDR)\n",
    "f_dccp, v_dccp = qcqp.improve(DCCP)\n",
    "print(\"Penalty CCP: objective %.3f, violation %.3f\" % (f_dccp, v_dccp))\n",
    "X_dccp = np.copy(X.value)\n",
    "r_dccp = r.value\n",
    "\n",
    "qcqp.suggest(SDR)\n",
    "f_admm, v_admm = qcqp.improve(ADMM)\n",
    "print(\"Nonconvex ADMM: objective %.3f, violation %.3f\" % (f_admm, v_admm))\n",
    "\n",
    "# plot the circles\n",
    "circ = np.linspace(0, 2*np.pi)\n",
    "for i in xrange(n):\n",
    "    plt.plot(\n",
    "        X_dccp[0, i]+r_dccp*np.cos(circ),\n",
    "        X_dccp[1, i]+r_dccp*np.sin(circ), 'b'\n",
    "    )\n",
    "plt.xlim([0, B])\n",
    "plt.ylim([0, B])\n",
    "plt.axes().set_aspect('equal')\n",
    "plt.show()\n"
   ]
  }
 ],
 "metadata": {
  "language_info": {
   "name": "python"
  }
 },
 "nbformat": 4,
 "nbformat_minor": 2
}
