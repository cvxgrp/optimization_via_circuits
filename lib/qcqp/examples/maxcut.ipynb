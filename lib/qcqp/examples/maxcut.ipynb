{
 "cells": [
  {
   "cell_type": "code",
   "execution_count": 1,
   "metadata": {},
   "outputs": [],
   "source": [
    "import numpy as np\n",
    "import cvxpy as cvx\n",
    "from qcqp import *\n",
    "import scipy\n",
    "import cvxpy as cp"
   ]
  },
  {
   "cell_type": "code",
   "execution_count": 2,
   "metadata": {},
   "outputs": [
    {
     "name": "stdout",
     "output_type": "stream",
     "text": [
      "SDR-based upper bound: -57.2072\n",
      "Coordinate descent: objective -53.0004, violation 0.0001\n",
      "SDR lower bound: -57.2072\n",
      "Coordinate descent + ipopt: objective -54.0000, violation 0.0000\n",
      "SDR lower bound: -57.2072\n",
      "Ipopt: objective -53.0000, violation 0.0000\n",
      "Penalty CCP: objective -53.0000, violation 0.0000\n",
      "Nonconvex ADMM: objective -44.6927, violation 0.9832\n"
     ]
    }
   ],
   "source": [
    "n = 25\n",
    "np.random.seed(1)\n",
    "\n",
    "# Make adjacency matrix.\n",
    "p = 0.2\n",
    "W = np.asmatrix(np.random.uniform(low=0.0, high=1.0, size=(n, n)))\n",
    "for i in range(n):\n",
    "    W[i, i] = 1\n",
    "    for j in range(i+1, n):\n",
    "        W[j, i] = W[i, j]\n",
    "W = np.array((W < p).astype(float))\n",
    "\n",
    "x = cvx.Variable((n, 1))\n",
    "# obj = 0.25*(cvx.sum_entries(W) - cvx.quad_form(x, W))\n",
    "# cons = [cvx.square(x) == 1]\n",
    "\n",
    "\n",
    "sni_f0 = (0.25 * scipy.sparse.csr_matrix(W), scipy.sparse.csc_matrix((n,1)), -0.25 * np.sum(W))\n",
    "sni_fs = []\n",
    "Qi = np.zeros((n, n))\n",
    "for i  in range(n):\n",
    "    Qi[i,i] = 1\n",
    "    sni_fs += [(scipy.sparse.csr_matrix(Qi), scipy.sparse.csc_matrix((n, 1)), -1, \"==\")]\n",
    "    Qi[i,i] = 0\n",
    "prob = QCQPProblem(sni_f0, sni_fs, x)\n",
    "qcqp = QCQP(prob)\n",
    "\n",
    "# sample from the semidefinite relaxation\n",
    "qcqp.suggest(SDR)\n",
    "print(\"SDR-based upper bound: %.4f\" % qcqp.sdr_bound)\n",
    "f_cd, v_cd = qcqp.improve(COORD_DESCENT)\n",
    "print(\"Coordinate descent: objective %.4f, violation %.4f\" % (f_cd, v_cd))\n",
    "\n",
    "qcqp.suggest(SDR)\n",
    "print(\"SDR lower bound: %.4f\" % qcqp.sdr_bound)\n",
    "f_ipopt, v_ipopt = qcqp.improve(COORD_DESCENT)\n",
    "f_ipopt, v_ipopt = qcqp.improve(IPOPT, verbose=False)\n",
    "x_ipopt = x.value\n",
    "print(\"Coordinate descent + ipopt: objective %.4f, violation %.4f\" % (f_ipopt, v_ipopt))\n",
    "\n",
    "qcqp.suggest(SDR)\n",
    "print(\"SDR lower bound: %.4f\" % qcqp.sdr_bound)\n",
    "f_ipopt, v_ipopt = qcqp.improve(IPOPT, verbose=False)\n",
    "x_ipopt = x.value\n",
    "print(\"Ipopt: objective %.4f, violation %.4f\" % (f_ipopt, v_ipopt))\n",
    "\n",
    "# SDR solution is cached and not solved again\n",
    "qcqp.suggest(SDR)\n",
    "f_dccp, v_dccp = qcqp.improve(DCCP, tau=1)\n",
    "print(\"Penalty CCP: objective %.4f, violation %.4f\" % (f_dccp, v_dccp))\n",
    "\n",
    "qcqp.suggest(SDR)\n",
    "f_admm, v_admm = qcqp.improve(ADMM)\n",
    "print(\"Nonconvex ADMM: objective %.4f, violation %.4f\" % (f_admm, v_admm))"
   ]
  },
  {
   "cell_type": "code",
   "execution_count": null,
   "metadata": {},
   "outputs": [],
   "source": []
  }
 ],
 "metadata": {
  "kernelspec": {
   "display_name": "circuits",
   "language": "python",
   "name": "python3"
  },
  "language_info": {
   "codemirror_mode": {
    "name": "ipython",
    "version": 3
   },
   "file_extension": ".py",
   "mimetype": "text/x-python",
   "name": "python",
   "nbconvert_exporter": "python",
   "pygments_lexer": "ipython3",
   "version": "3.10.13"
  }
 },
 "nbformat": 4,
 "nbformat_minor": 2
}
