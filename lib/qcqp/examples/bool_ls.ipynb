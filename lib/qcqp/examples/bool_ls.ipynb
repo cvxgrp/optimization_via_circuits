{
 "cells": [
  {
   "cell_type": "code",
   "execution_count": 1,
   "metadata": {},
   "outputs": [],
   "source": [
    "import numpy as np\n",
    "import cvxpy as cvx\n",
    "from qcqp import *\n",
    "import scipy"
   ]
  },
  {
   "cell_type": "code",
   "execution_count": 2,
   "metadata": {},
   "outputs": [
    {
     "name": "stdout",
     "output_type": "stream",
     "text": [
      "SDR lower bound: 518.0990\n",
      "Coordinate descent + ipopt: objective 1164.7613, violation 0.0000\n",
      "SDR lower bound: 518.0990\n",
      "Ipopt: objective 1391.2021, violation 0.0000\n",
      "SDR lower bound: 518.0990\n",
      "Coordinate descent + nonconvex ADMM: objective 1804.1780, violation 0.0001\n",
      "Coordinate descent: objective 1384.8026, violation 0.0071\n",
      "Penalty CCP: objective 1062.6067, violation 0.0000\n",
      "Penalty CCP + coordinate descent: objective 995.9132, violation 0.0000\n"
     ]
    }
   ],
   "source": [
    "# n, m = 10, 15\n",
    "n, m = 50, 80\n",
    "np.random.seed(1)\n",
    "\n",
    "A = np.random.randn(m, n)\n",
    "b = np.random.randn(m, 1)\n",
    "\n",
    "x = cvx.Variable(n)\n",
    "# obj = cvx.sum_squares(A*x - b)\n",
    "# cons = [cvx.square(x) == 1]\n",
    "# prob = cvx.Problem(cvx.Minimize(obj), cons)\n",
    "sni_f0 = (scipy.sparse.csr_matrix(A.T.dot(A)), scipy.sparse.csc_matrix(-2*A.T.dot(b)), b.T.dot(b))\n",
    "# sni_fs = [(scipy.sparse.csr_matrix(np.eye(n)), scipy.sparse.csc_matrix((n, 1)), -1, \"==\")]\n",
    "sni_fs = []\n",
    "Qi = np.zeros((n, n))\n",
    "for i  in range(n):\n",
    "    Qi[i,i] = 1\n",
    "    sni_fs += [(scipy.sparse.csr_matrix(Qi), scipy.sparse.csc_matrix((n, 1)), -1, \"==\")]\n",
    "    Qi[i,i] = 0\n",
    "prob = QCQPProblem(sni_f0, sni_fs, x)\n",
    "qcqp = QCQP(prob)\n",
    "\n",
    "\n",
    "# sample from the semidefinite relaxation\n",
    "qcqp.suggest(SDR)\n",
    "print(\"SDR lower bound: %.4f\" % qcqp.sdr_bound)\n",
    "f_ipopt, v_ipopt = qcqp.improve(COORD_DESCENT)\n",
    "f_ipopt, v_ipopt = qcqp.improve(IPOPT, verbose=False)\n",
    "x_ipopt = x.value\n",
    "print(\"Coordinate descent + ipopt: objective %.4f, violation %.4f\" % (f_ipopt, v_ipopt))\n",
    "\n",
    "qcqp.suggest(SDR)\n",
    "print(\"SDR lower bound: %.4f\" % qcqp.sdr_bound)\n",
    "f_ipopt, v_ipopt = qcqp.improve(IPOPT, verbose=False)\n",
    "x_ipopt = x.value\n",
    "print(\"Ipopt: objective %.4f, violation %.4f\" % (f_ipopt, v_ipopt))\n",
    "\n",
    "# sample from the semidefinite relaxation\n",
    "qcqp.suggest(SDR)\n",
    "print(\"SDR lower bound: %.4f\" % qcqp.sdr_bound)\n",
    "f_admm, v_admm = qcqp.improve(COORD_DESCENT)\n",
    "f_admm, v_admm = qcqp.improve(ADMM, phase1=False)\n",
    "x_admm = x.value\n",
    "print(\"Coordinate descent + nonconvex ADMM: objective %.4f, violation %.4f\" % (f_admm, v_admm))\n",
    "\n",
    "qcqp.suggest(SDR,) #verbose=True)\n",
    "# print(\"SDR lower bound: %.4f\" % qcqp.sdr_bound)\n",
    "f_cd, v_cd = qcqp.improve(COORD_DESCENT)\n",
    "x_cd = x.value\n",
    "print(\"Coordinate descent: objective %.4f, violation %.4f\" % (f_cd, v_cd))\n",
    "# print(f\"{x_cd=}\")\n",
    "\n",
    "# SDR solution is cached and not solved again\n",
    "qcqp.suggest(SDR)\n",
    "# print(\"SDR lower bound: %.4f\" % qcqp.sdr_bound)\n",
    "f_dccp, v_dccp = qcqp.improve(DCCP)\n",
    "print(\"Penalty CCP: objective %.4f, violation %.4f\" % (f_dccp, v_dccp))\n",
    "f_dccp, v_dccp = qcqp.improve(COORD_DESCENT, phase1=False)\n",
    "x_dccp = x.value\n",
    "print(\"Penalty CCP + coordinate descent: objective %.4f, violation %.4f\" % (f_dccp, v_dccp))\n",
    "# print(f\"{x_dccp=}\")"
   ]
  },
  {
   "cell_type": "code",
   "execution_count": null,
   "metadata": {},
   "outputs": [],
   "source": []
  }
 ],
 "metadata": {
  "kernelspec": {
   "display_name": "circuits",
   "language": "python",
   "name": "python3"
  },
  "language_info": {
   "codemirror_mode": {
    "name": "ipython",
    "version": 3
   },
   "file_extension": ".py",
   "mimetype": "text/x-python",
   "name": "python",
   "nbconvert_exporter": "python",
   "pygments_lexer": "ipython3",
   "version": "3.10.13"
  }
 },
 "nbformat": 4,
 "nbformat_minor": 2
}
