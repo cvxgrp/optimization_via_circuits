{
 "cells": [
  {
   "cell_type": "code",
   "execution_count": 1,
   "metadata": {},
   "outputs": [],
   "source": [
    "import ciropt as co\n",
    "import cvxpy as cp"
   ]
  },
  {
   "cell_type": "code",
   "execution_count": 6,
   "metadata": {},
   "outputs": [],
   "source": [
    "L_smooth = 1.\n",
    "mu = 0.001\n",
    "\n",
    "Inductance = 1 #5.\n",
    "R = 1.\n",
    "\n",
    "n_func = 2\n",
    "# solver = \"ca\"\n",
    "# solver = \"ca_canonical\"\n",
    "# solver = \"ca_canonical_X\"\n",
    "# solver = \"cvx_dccp\"\n",
    "# solver = \"qcqp_sni\"\n",
    "# solver = \"bisection_b\""
   ]
  },
  {
   "cell_type": "markdown",
   "metadata": {},
   "source": [
    "# Ciropt problem"
   ]
  },
  {
   "cell_type": "code",
   "execution_count": 7,
   "metadata": {},
   "outputs": [
    {
     "name": "stdout",
     "output_type": "stream",
     "text": [
      "t=0, b=10, prob.status='infeasible'\n",
      "t=1, b=5.0, prob.status='infeasible'\n",
      "b = 2.5\n"
     ]
    }
   ],
   "source": [
    "problem = co.admm_consensus2(n_func, mu, L_smooth, R, Inductance)\n",
    "problem.obj = problem.b + problem.d\n",
    "\n",
    "# bounds = {  'b': {\"ub\": 0.1, \"lb\": 0.1},\n",
    "#             'h': {\"ub\": 1, \"lb\": 0},\n",
    "#             'alpha': {\"ub\": 1, \"lb\": 1},\n",
    "#             'beta': {\"ub\": 1, \"lb\": 1},}\n",
    "\n",
    "# bounds = {  'b': {\"ub\": 10, \"lb\": 0.},\n",
    "#             'd': {\"ub\": 0, \"lb\": 0.},\n",
    "#             'h': {\"ub\": 10, \"lb\": 0},\n",
    "#             'alpha': {\"ub\": 1, \"lb\": -1},\n",
    "#             'beta': {\"ub\": 1, \"lb\": -1},}\n",
    "\n",
    "# res, model = problem.solve(solver=solver, verbose=True)[:2]\n",
    "# ca_vars = problem.vars\n",
    "\n",
    "res = params = {  'b': 10,\n",
    "            'h': 1,\n",
    "            'd': 0.,\n",
    "            'alpha': 0.5,\n",
    "            'beta': 0.5 }\n",
    "b = problem.solve(solver=solver, freq=1, max_iters=100, params=params, debug=True)\n",
    "print(f\"{b = }\")\n",
    "res[\"b\"] = b"
   ]
  },
  {
   "cell_type": "code",
   "execution_count": 8,
   "metadata": {},
   "outputs": [
    {
     "data": {
      "text/plain": [
       "{'b': 2.5, 'h': 1, 'd': 0.0, 'alpha': 0.5, 'beta': 0.5}"
      ]
     },
     "execution_count": 8,
     "metadata": {},
     "output_type": "execute_result"
    }
   ],
   "source": [
    "res"
   ]
  },
  {
   "cell_type": "markdown",
   "metadata": {},
   "source": [
    "# PEP verification"
   ]
  },
  {
   "cell_type": "code",
   "execution_count": 4,
   "metadata": {},
   "outputs": [],
   "source": [
    "res = {'b': 1,\n",
    "        'h': 1,\n",
    "        'd': 0.,\n",
    "        'alpha': 0,\n",
    "        'beta': 1}"
   ]
  },
  {
   "cell_type": "code",
   "execution_count": 9,
   "metadata": {},
   "outputs": [
    {
     "name": "stdout",
     "output_type": "stream",
     "text": [
      "(PEPit) Setting up the problem: size of the main PSD matrix: 7x7\n",
      "(PEPit) Setting up the problem: performance measure is minimum of 1 element(s)\n",
      "(PEPit) Setting up the problem: Adding initial conditions and general constraints ...\n",
      "(PEPit) Setting up the problem: initial conditions and general constraints (2 constraint(s) added)\n",
      "(PEPit) Setting up the problem: interpolation conditions for 2 function(s)\n",
      "\t\t function 1 : Adding 6 scalar constraint(s) ...\n",
      "\t\t function 1 : 6 scalar constraint(s) added\n",
      "\t\t function 2 : Adding 6 scalar constraint(s) ...\n",
      "\t\t function 2 : 6 scalar constraint(s) added\n",
      "(PEPit) Setting up the problem: constraints for 0 function(s)\n",
      "(PEPit) Compiling SDP\n",
      "(PEPit) Calling SDP solver\n",
      "(PEPit) Solver status: optimal (solver: MOSEK); optimal value: -7.963256663937769e-15\n",
      "\u001b[96m(PEPit) Postprocessing: solver's output is not entirely feasible (smallest eigenvalue of the Gram matrix is: -2.3e-14 < 0).\n",
      " Small deviation from 0 may simply be due to numerical error. Big ones should be deeply investigated.\n",
      " In any case, from now the provided values of parameters are based on the projection of the Gram matrix onto the cone of symmetric semi-definite matrix.\u001b[0m\n",
      "diff=-7.963256663937769e-15\n"
     ]
    }
   ],
   "source": [
    "problem = co.admm_consensus2(n_func, mu, L_smooth, R, Inductance, params=res)\n",
    "diff = problem.solve(verbose=1, solver=cp.MOSEK)\n",
    "print(f\"{diff=}\")"
   ]
  },
  {
   "cell_type": "code",
   "execution_count": null,
   "metadata": {},
   "outputs": [],
   "source": []
  },
  {
   "cell_type": "code",
   "execution_count": null,
   "metadata": {},
   "outputs": [],
   "source": []
  }
 ],
 "metadata": {
  "kernelspec": {
   "display_name": "osbdo",
   "language": "python",
   "name": "python3"
  },
  "language_info": {
   "codemirror_mode": {
    "name": "ipython",
    "version": 3
   },
   "file_extension": ".py",
   "mimetype": "text/x-python",
   "name": "python",
   "nbconvert_exporter": "python",
   "pygments_lexer": "ipython3",
   "version": "3.10.13"
  }
 },
 "nbformat": 4,
 "nbformat_minor": 2
}
