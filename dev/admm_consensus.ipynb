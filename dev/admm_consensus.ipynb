{
 "cells": [
  {
   "cell_type": "code",
   "execution_count": 1,
   "metadata": {},
   "outputs": [],
   "source": [
    "import ciropt as co\n",
    "import cvxpy as cp"
   ]
  },
  {
   "cell_type": "code",
   "execution_count": 2,
   "metadata": {},
   "outputs": [],
   "source": [
    "L_smooth = 1.\n",
    "mu = 0.001\n",
    "\n",
    "Inductance = 1 #5.\n",
    "R = 1.\n",
    "\n",
    "n_func = 2\n",
    "solver = \"ca\"\n",
    "solver = \"ca_canonical\"\n",
    "# solver = \"ca_canonical_X\"\n",
    "# solver = \"cvx_dccp\"\n",
    "# solver = \"qcqp_sni\"\n",
    "solver = \"bisection_b\""
   ]
  },
  {
   "cell_type": "markdown",
   "metadata": {},
   "source": [
    "# Ciropt problem"
   ]
  },
  {
   "cell_type": "code",
   "execution_count": 3,
   "metadata": {},
   "outputs": [
    {
     "name": "stdout",
     "output_type": "stream",
     "text": [
      "t=0, b=10, prob.status='infeasible'\n",
      "t=1, b=5.0, prob.status='infeasible'\n",
      "t=2, b=2.5, prob.status='infeasible'\n",
      "t=3, b=1.25, prob.status='infeasible'\n",
      "t=4, b=0.625, prob.status='infeasible_inaccurate'\n",
      "t=5, b=0.3125, prob.status='infeasible_inaccurate'\n",
      "t=6, b=0.15625, prob.status='infeasible_inaccurate'\n",
      "t=7, b=0.078125, prob.status='infeasible_inaccurate'\n",
      "t=8, b=0.0390625, prob.status='infeasible_inaccurate'\n",
      "t=10, b=0.009765625, prob.status='infeasible_inaccurate'\n"
     ]
    },
    {
     "name": "stderr",
     "output_type": "stream",
     "text": [
      "/Users/parshakova.tanya/opt/anaconda3/envs/circuits/lib/python3.10/site-packages/cvxpy/problems/problem.py:1403: UserWarning: Solution may be inaccurate. Try another solver, adjusting the solver settings, or solve with verbose=True for more information.\n",
      "  warnings.warn(\n"
     ]
    },
    {
     "name": "stdout",
     "output_type": "stream",
     "text": [
      "t=21, b=4.76837158203125e-06, prob.status='infeasible_inaccurate'\n",
      "t=23, b=1.1920928955078125e-06, prob.status='infeasible_inaccurate'\n",
      "t=26, b=1.4901161193847656e-07, prob.status='infeasible'\n",
      "t=44, b=5.684341886080801e-13, prob.status='infeasible_inaccurate'\n",
      "t=71, b=4.235164736271502e-21, prob.status='infeasible_inaccurate'\n",
      "t=78, b=3.3087224502121107e-23, prob.status='infeasible_inaccurate'\n",
      "b = 7.888609052210118e-30\n"
     ]
    }
   ],
   "source": [
    "problem = co.admm_consensus(n_func, mu, L_smooth, R, Inductance)\n",
    "problem.obj = problem.b\n",
    "\n",
    "# bounds = {  'b': {\"ub\": 0.1, \"lb\": 0.1},\n",
    "#             'h': {\"ub\": 1, \"lb\": 0},\n",
    "#             'alpha': {\"ub\": 1, \"lb\": 1},\n",
    "#             'beta': {\"ub\": 1, \"lb\": 1},}\n",
    "\n",
    "# bounds = {  'b': {\"ub\": 10, \"lb\": 0.},\n",
    "#             'd': {\"ub\": 0, \"lb\": 0.},\n",
    "#             'h': {\"ub\": 10, \"lb\": 0},\n",
    "#             'alpha': {\"ub\": 1, \"lb\": -1},\n",
    "#             'beta': {\"ub\": 1, \"lb\": -1},}\n",
    "\n",
    "# # res, model = problem.solve(solver=solver, max_iter=500, bounds=bounds, verbose=True)[:2]\n",
    "# res, model = problem.solve(solver=solver, verbose=True)[:2]\n",
    "# ca_vars = problem.vars\n",
    "\n",
    "res = params = {  'b': 10,\n",
    "            'h': 1,\n",
    "            'd': 0.,\n",
    "            'alpha': 0.5,\n",
    "            'beta': 0.5 }\n",
    "b = problem.solve(solver=solver, freq=1, max_iters=100, params=params, debug=True)\n",
    "print(f\"{b = }\")\n",
    "res[\"b\"] = b"
   ]
  },
  {
   "cell_type": "code",
   "execution_count": 4,
   "metadata": {},
   "outputs": [
    {
     "data": {
      "text/plain": [
       "{'b': 7.888609052210118e-30, 'h': 1, 'd': 0.0, 'alpha': 0.5, 'beta': 0.5}"
      ]
     },
     "execution_count": 4,
     "metadata": {},
     "output_type": "execute_result"
    }
   ],
   "source": [
    "res"
   ]
  },
  {
   "cell_type": "markdown",
   "metadata": {},
   "source": [
    "# PEP verification"
   ]
  },
  {
   "cell_type": "code",
   "execution_count": 5,
   "metadata": {},
   "outputs": [
    {
     "name": "stdout",
     "output_type": "stream",
     "text": [
      "(PEPit) Setting up the problem: size of the main PSD matrix: 9x9\n",
      "(PEPit) Setting up the problem: performance measure is minimum of 1 element(s)\n",
      "(PEPit) Setting up the problem: Adding initial conditions and general constraints ...\n",
      "(PEPit) Setting up the problem: initial conditions and general constraints (0 constraint(s) added)\n",
      "(PEPit) Setting up the problem: interpolation conditions for 2 function(s)\n",
      "\t\t function 1 : Adding 12 scalar constraint(s) ...\n",
      "\t\t function 1 : 12 scalar constraint(s) added\n",
      "\t\t function 2 : Adding 12 scalar constraint(s) ...\n",
      "\t\t function 2 : 12 scalar constraint(s) added\n",
      "(PEPit) Setting up the problem: constraints for 0 function(s)\n",
      "(PEPit) Compiling SDP\n",
      "(PEPit) Calling SDP solver\n",
      "(PEPit) Solver status: unbounded (solver: MOSEK); optimal value: inf\n"
     ]
    },
    {
     "ename": "UserWarning",
     "evalue": "PEPit didn't find any nontrivial worst-case guarantee. It seems that the optimal value of your problem is unbounded.",
     "output_type": "error",
     "traceback": [
      "\u001b[0;31m---------------------------------------------------------------------------\u001b[0m",
      "\u001b[0;31mUserWarning\u001b[0m                               Traceback (most recent call last)",
      "Input \u001b[0;32mIn [5]\u001b[0m, in \u001b[0;36m<cell line: 2>\u001b[0;34m()\u001b[0m\n\u001b[1;32m      1\u001b[0m problem \u001b[38;5;241m=\u001b[39m co\u001b[38;5;241m.\u001b[39madmm_consensus(n_func, mu, L_smooth, R, Inductance, params\u001b[38;5;241m=\u001b[39mres)\n\u001b[0;32m----> 2\u001b[0m diff \u001b[38;5;241m=\u001b[39m \u001b[43mproblem\u001b[49m\u001b[38;5;241;43m.\u001b[39;49m\u001b[43msolve\u001b[49m\u001b[43m(\u001b[49m\u001b[43mverbose\u001b[49m\u001b[38;5;241;43m=\u001b[39;49m\u001b[38;5;241;43m1\u001b[39;49m\u001b[43m,\u001b[49m\u001b[43m \u001b[49m\u001b[43msolver\u001b[49m\u001b[38;5;241;43m=\u001b[39;49m\u001b[43mcp\u001b[49m\u001b[38;5;241;43m.\u001b[39;49m\u001b[43mMOSEK\u001b[49m\u001b[43m)\u001b[49m\n\u001b[1;32m      3\u001b[0m \u001b[38;5;28mprint\u001b[39m(\u001b[38;5;124mf\u001b[39m\u001b[38;5;124m\"\u001b[39m\u001b[38;5;132;01m{\u001b[39;00mdiff\u001b[38;5;132;01m=}\u001b[39;00m\u001b[38;5;124m\"\u001b[39m)\n",
      "File \u001b[0;32m~/opt/anaconda3/envs/circuits/lib/python3.10/site-packages/PEPit/pep.py:496\u001b[0m, in \u001b[0;36mPEP.solve\u001b[0;34m(self, verbose, return_full_cvxpy_problem, dimension_reduction_heuristic, eig_regularization, tol_dimension_reduction, **kwargs)\u001b[0m\n\u001b[1;32m    494\u001b[0m \u001b[38;5;66;03m# Raise explicit error when wc_value in infinite\u001b[39;00m\n\u001b[1;32m    495\u001b[0m \u001b[38;5;28;01mif\u001b[39;00m wc_value \u001b[38;5;241m==\u001b[39m np\u001b[38;5;241m.\u001b[39minf:\n\u001b[0;32m--> 496\u001b[0m     \u001b[38;5;28;01mraise\u001b[39;00m \u001b[38;5;167;01mUserWarning\u001b[39;00m(\u001b[38;5;124m\"\u001b[39m\u001b[38;5;124mPEPit didn\u001b[39m\u001b[38;5;124m'\u001b[39m\u001b[38;5;124mt find any nontrivial worst-case guarantee. \u001b[39m\u001b[38;5;124m\"\u001b[39m\n\u001b[1;32m    497\u001b[0m                       \u001b[38;5;124m\"\u001b[39m\u001b[38;5;124mIt seems that the optimal value of your problem is unbounded.\u001b[39m\u001b[38;5;124m\"\u001b[39m)\n\u001b[1;32m    499\u001b[0m \u001b[38;5;66;03m# Keep dual values before dimension reduction in memory\u001b[39;00m\n\u001b[1;32m    500\u001b[0m \u001b[38;5;66;03m# Dimension aims at finding low dimension lower bound functions,\u001b[39;00m\n\u001b[1;32m    501\u001b[0m \u001b[38;5;66;03m# but solves a different problem with an extra condition and different objective,\u001b[39;00m\n\u001b[1;32m    502\u001b[0m \u001b[38;5;66;03m# leading to different dual values. The ones we store here provide the proof of the obtained guarantee.\u001b[39;00m\n\u001b[1;32m    503\u001b[0m \u001b[38;5;28;01massert\u001b[39;00m \u001b[38;5;28mself\u001b[39m\u001b[38;5;241m.\u001b[39m_list_of_cvxpy_constraints \u001b[38;5;241m==\u001b[39m prob\u001b[38;5;241m.\u001b[39mconstraints\n",
      "\u001b[0;31mUserWarning\u001b[0m: PEPit didn't find any nontrivial worst-case guarantee. It seems that the optimal value of your problem is unbounded."
     ]
    }
   ],
   "source": [
    "problem = co.admm_consensus(n_func, mu, L_smooth, R, Inductance, params=res)\n",
    "diff = problem.solve(verbose=1, solver=cp.MOSEK)\n",
    "print(f\"{diff=}\")"
   ]
  },
  {
   "cell_type": "code",
   "execution_count": null,
   "metadata": {},
   "outputs": [],
   "source": []
  }
 ],
 "metadata": {
  "kernelspec": {
   "display_name": "osbdo",
   "language": "python",
   "name": "python3"
  },
  "language_info": {
   "codemirror_mode": {
    "name": "ipython",
    "version": 3
   },
   "file_extension": ".py",
   "mimetype": "text/x-python",
   "name": "python",
   "nbconvert_exporter": "python",
   "pygments_lexer": "ipython3",
   "version": "3.10.13"
  }
 },
 "nbformat": 4,
 "nbformat_minor": 2
}
