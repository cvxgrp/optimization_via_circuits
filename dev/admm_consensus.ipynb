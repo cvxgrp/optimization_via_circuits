{
 "cells": [
  {
   "cell_type": "code",
   "execution_count": 1,
   "metadata": {},
   "outputs": [],
   "source": [
    "import ciropt as co\n",
    "import cvxpy as cp"
   ]
  },
  {
   "cell_type": "code",
   "execution_count": 2,
   "metadata": {},
   "outputs": [],
   "source": [
    "import numpy as np"
   ]
  },
  {
   "cell_type": "code",
   "execution_count": 3,
   "metadata": {},
   "outputs": [],
   "source": [
    "L_smooth = 1.\n",
    "mu = 0.00001\n",
    "\n",
    "Inductance = 1\n",
    "R = 1\n",
    "\n",
    "n_func = 2\n",
    "# solver = \"ca\"\n",
    "solver = \"ca_canonical\"\n",
    "# solver = \"ca_canonical_X\"\n",
    "# solver = \"cvx_dccp\"\n",
    "# solver = \"qcqp_sni\"\n",
    "# solver = \"bisection_b\""
   ]
  },
  {
   "cell_type": "markdown",
   "metadata": {},
   "source": [
    "# Ciropt problem"
   ]
  },
  {
   "cell_type": "code",
   "execution_count": 4,
   "metadata": {},
   "outputs": [
    {
     "name": "stdout",
     "output_type": "stream",
     "text": [
      "dim_G=8, dim_F=6\n"
     ]
    }
   ],
   "source": [
    "# problem = co.decomp_euler_consensus2(mu, L_smooth, R, Inductance)\n",
    "# problem = co.admm_consensus(n_func, mu, L_smooth, R, Inductance)\n",
    "# problem = co.admm_consensus_pep(mu, L_smooth, R, Inductance)\n",
    "problem = co.admm_consensus2(mu, L_smooth, R, Inductance)\n",
    "# problem = co.admm_consensus_proof(mu, L_smooth, R, Inductance)\n",
    "problem.obj = problem.b + problem.d\n",
    "\n",
    "# bounds = {  'b': {\"ub\": 0.1, \"lb\": 0.1},\n",
    "#             'h': {\"ub\": 1, \"lb\": 0},\n",
    "#             'alpha': {\"ub\": 1, \"lb\": 1},\n",
    "#             'beta': {\"ub\": 1, \"lb\": 1},}\n",
    "\n",
    "# bounds = {  'b': {\"ub\": 10, \"lb\": 0.},\n",
    "#             'd': {\"ub\": 0, \"lb\": 0.},\n",
    "#             'h': {\"ub\": 10, \"lb\": 0},\n",
    "#             'alpha': {\"ub\": 1, \"lb\": -1},\n",
    "#             'beta': {\"ub\": 1, \"lb\": -1},}\n",
    "\n",
    "res, model = problem.solve(solver=solver, verbose=False)[:2]\n",
    "ca_vars = problem.vars\n",
    "\n",
    "# res = params = {  'b': 10,\n",
    "#             'h': 5e-5,\n",
    "#             'd': 0.,\n",
    "#             'alpha': 0,\n",
    "#             'beta': 1}\n",
    "# b = problem.solve(solver=solver, freq=1, max_iters=30, params=params, debug=True)\n",
    "# print(f\"{b = }\")\n",
    "# res[\"b\"] = b"
   ]
  },
  {
   "cell_type": "code",
   "execution_count": 5,
   "metadata": {},
   "outputs": [
    {
     "data": {
      "text/plain": [
       "{'b': 5.409503079179581e-08,\n",
       " 'h': 1.01953592488584e-07,\n",
       " 'd': 6.643726735184523e-08,\n",
       " 'alpha': 0.0,\n",
       " 'beta': 0.0}"
      ]
     },
     "execution_count": 5,
     "metadata": {},
     "output_type": "execute_result"
    }
   ],
   "source": [
    "res"
   ]
  },
  {
   "cell_type": "code",
   "execution_count": 6,
   "metadata": {},
   "outputs": [],
   "source": [
    "# {'b': -1.8307775793323645e-06,\n",
    "#  'h': 0.20720796869821878,\n",
    "#  'd': 4.506477734433067e-07,\n",
    "#  'alpha': 0.0,\n",
    "#  'beta': 0.0}0"
   ]
  },
  {
   "cell_type": "markdown",
   "metadata": {},
   "source": [
    "# PEP verification"
   ]
  },
  {
   "cell_type": "code",
   "execution_count": 7,
   "metadata": {},
   "outputs": [],
   "source": [
    "# res = {'b': 1,\n",
    "#         'h': 1,\n",
    "#         'd': 0.,\n",
    "#         'alpha': 0,\n",
    "#         'beta': 1}"
   ]
  },
  {
   "cell_type": "code",
   "execution_count": 8,
   "metadata": {},
   "outputs": [
    {
     "name": "stdout",
     "output_type": "stream",
     "text": [
      "(PEPit) Setting up the problem: size of the main PSD matrix: 8x8\n",
      "(PEPit) Setting up the problem: performance measure is minimum of 1 element(s)\n",
      "(PEPit) Setting up the problem: Adding initial conditions and general constraints ...\n",
      "(PEPit) Setting up the problem: initial conditions and general constraints (0 constraint(s) added)\n",
      "(PEPit) Setting up the problem: interpolation conditions for 2 function(s)\n",
      "\t\t function 1 : Adding 6 scalar constraint(s) ...\n",
      "\t\t function 1 : 6 scalar constraint(s) added\n",
      "\t\t function 2 : Adding 6 scalar constraint(s) ...\n",
      "\t\t function 2 : 6 scalar constraint(s) added\n",
      "(PEPit) Setting up the problem: constraints for 0 function(s)\n",
      "(PEPit) Compiling SDP\n",
      "(PEPit) Calling SDP solver\n"
     ]
    },
    {
     "ename": "SolverError",
     "evalue": "Solver 'MOSEK' failed. Try another solver, or solve with verbose=True for more information.",
     "output_type": "error",
     "traceback": [
      "\u001b[0;31m---------------------------------------------------------------------------\u001b[0m",
      "\u001b[0;31mSolverError\u001b[0m                               Traceback (most recent call last)",
      "Input \u001b[0;32mIn [8]\u001b[0m, in \u001b[0;36m<cell line: 5>\u001b[0;34m()\u001b[0m\n\u001b[1;32m      2\u001b[0m problem \u001b[38;5;241m=\u001b[39m co\u001b[38;5;241m.\u001b[39madmm_consensus2(mu, L_smooth, R, Inductance, params\u001b[38;5;241m=\u001b[39mres)\n\u001b[1;32m      3\u001b[0m \u001b[38;5;66;03m# problem = co.decomp_euler_consensus2(mu, L_smooth, R, Inductance, params=res)\u001b[39;00m\n\u001b[1;32m      4\u001b[0m \u001b[38;5;66;03m# problem = co.admm_consensus_proof(mu, L_smooth, R, Inductance, params=res)\u001b[39;00m\n\u001b[0;32m----> 5\u001b[0m diff \u001b[38;5;241m=\u001b[39m \u001b[43mproblem\u001b[49m\u001b[38;5;241;43m.\u001b[39;49m\u001b[43msolve\u001b[49m\u001b[43m(\u001b[49m\u001b[43mverbose\u001b[49m\u001b[38;5;241;43m=\u001b[39;49m\u001b[38;5;241;43m1\u001b[39;49m\u001b[43m,\u001b[49m\u001b[43m \u001b[49m\u001b[43msolver\u001b[49m\u001b[38;5;241;43m=\u001b[39;49m\u001b[43mcp\u001b[49m\u001b[38;5;241;43m.\u001b[39;49m\u001b[43mMOSEK\u001b[49m\u001b[43m)\u001b[49m\n\u001b[1;32m      6\u001b[0m \u001b[38;5;28mprint\u001b[39m(\u001b[38;5;124mf\u001b[39m\u001b[38;5;124m\"\u001b[39m\u001b[38;5;132;01m{\u001b[39;00mdiff\u001b[38;5;132;01m=}\u001b[39;00m\u001b[38;5;124m\"\u001b[39m)\n",
      "File \u001b[0;32m~/opt/anaconda3/envs/circuits/lib/python3.10/site-packages/PEPit/pep.py:485\u001b[0m, in \u001b[0;36mPEP.solve\u001b[0;34m(self, verbose, return_full_cvxpy_problem, dimension_reduction_heuristic, eig_regularization, tol_dimension_reduction, **kwargs)\u001b[0m\n\u001b[1;32m    483\u001b[0m \u001b[38;5;28;01mif\u001b[39;00m verbose:\n\u001b[1;32m    484\u001b[0m     \u001b[38;5;28mprint\u001b[39m(\u001b[38;5;124m'\u001b[39m\u001b[38;5;124m(PEPit) Calling SDP solver\u001b[39m\u001b[38;5;124m'\u001b[39m)\n\u001b[0;32m--> 485\u001b[0m \u001b[43mprob\u001b[49m\u001b[38;5;241;43m.\u001b[39;49m\u001b[43msolve\u001b[49m\u001b[43m(\u001b[49m\u001b[38;5;241;43m*\u001b[39;49m\u001b[38;5;241;43m*\u001b[39;49m\u001b[43mkwargs\u001b[49m\u001b[43m)\u001b[49m\n\u001b[1;32m    486\u001b[0m \u001b[38;5;28;01mif\u001b[39;00m verbose:\n\u001b[1;32m    487\u001b[0m     \u001b[38;5;28mprint\u001b[39m(\u001b[38;5;124m'\u001b[39m\u001b[38;5;124m(PEPit) Solver status: \u001b[39m\u001b[38;5;132;01m{}\u001b[39;00m\u001b[38;5;124m (solver: \u001b[39m\u001b[38;5;132;01m{}\u001b[39;00m\u001b[38;5;124m); optimal value: \u001b[39m\u001b[38;5;132;01m{}\u001b[39;00m\u001b[38;5;124m'\u001b[39m\u001b[38;5;241m.\u001b[39mformat(prob\u001b[38;5;241m.\u001b[39mstatus,\n\u001b[1;32m    488\u001b[0m                                                                              prob\u001b[38;5;241m.\u001b[39msolver_stats\u001b[38;5;241m.\u001b[39msolver_name,\n\u001b[1;32m    489\u001b[0m                                                                              prob\u001b[38;5;241m.\u001b[39mvalue))\n",
      "File \u001b[0;32m~/opt/anaconda3/envs/circuits/lib/python3.10/site-packages/cvxpy/problems/problem.py:503\u001b[0m, in \u001b[0;36mProblem.solve\u001b[0;34m(self, *args, **kwargs)\u001b[0m\n\u001b[1;32m    501\u001b[0m \u001b[38;5;28;01melse\u001b[39;00m:\n\u001b[1;32m    502\u001b[0m     solve_func \u001b[38;5;241m=\u001b[39m Problem\u001b[38;5;241m.\u001b[39m_solve\n\u001b[0;32m--> 503\u001b[0m \u001b[38;5;28;01mreturn\u001b[39;00m \u001b[43msolve_func\u001b[49m\u001b[43m(\u001b[49m\u001b[38;5;28;43mself\u001b[39;49m\u001b[43m,\u001b[49m\u001b[43m \u001b[49m\u001b[38;5;241;43m*\u001b[39;49m\u001b[43margs\u001b[49m\u001b[43m,\u001b[49m\u001b[43m \u001b[49m\u001b[38;5;241;43m*\u001b[39;49m\u001b[38;5;241;43m*\u001b[39;49m\u001b[43mkwargs\u001b[49m\u001b[43m)\u001b[49m\n",
      "File \u001b[0;32m~/opt/anaconda3/envs/circuits/lib/python3.10/site-packages/cvxpy/problems/problem.py:1086\u001b[0m, in \u001b[0;36mProblem._solve\u001b[0;34m(self, solver, warm_start, verbose, gp, qcp, requires_grad, enforce_dpp, ignore_dpp, canon_backend, **kwargs)\u001b[0m\n\u001b[1;32m   1084\u001b[0m end \u001b[38;5;241m=\u001b[39m time\u001b[38;5;241m.\u001b[39mtime()\n\u001b[1;32m   1085\u001b[0m \u001b[38;5;28mself\u001b[39m\u001b[38;5;241m.\u001b[39m_solve_time \u001b[38;5;241m=\u001b[39m end \u001b[38;5;241m-\u001b[39m start\n\u001b[0;32m-> 1086\u001b[0m \u001b[38;5;28;43mself\u001b[39;49m\u001b[38;5;241;43m.\u001b[39;49m\u001b[43munpack_results\u001b[49m\u001b[43m(\u001b[49m\u001b[43msolution\u001b[49m\u001b[43m,\u001b[49m\u001b[43m \u001b[49m\u001b[43msolving_chain\u001b[49m\u001b[43m,\u001b[49m\u001b[43m \u001b[49m\u001b[43minverse_data\u001b[49m\u001b[43m)\u001b[49m\n\u001b[1;32m   1087\u001b[0m \u001b[38;5;28;01mif\u001b[39;00m verbose:\n\u001b[1;32m   1088\u001b[0m     \u001b[38;5;28mprint\u001b[39m(_FOOTER)\n",
      "File \u001b[0;32m~/opt/anaconda3/envs/circuits/lib/python3.10/site-packages/cvxpy/problems/problem.py:1411\u001b[0m, in \u001b[0;36mProblem.unpack_results\u001b[0;34m(self, solution, chain, inverse_data)\u001b[0m\n\u001b[1;32m   1409\u001b[0m     warnings\u001b[38;5;241m.\u001b[39mwarn(INF_OR_UNB_MESSAGE)\n\u001b[1;32m   1410\u001b[0m \u001b[38;5;28;01mif\u001b[39;00m solution\u001b[38;5;241m.\u001b[39mstatus \u001b[38;5;129;01min\u001b[39;00m s\u001b[38;5;241m.\u001b[39mERROR:\n\u001b[0;32m-> 1411\u001b[0m     \u001b[38;5;28;01mraise\u001b[39;00m error\u001b[38;5;241m.\u001b[39mSolverError(\n\u001b[1;32m   1412\u001b[0m             \u001b[38;5;124m\"\u001b[39m\u001b[38;5;124mSolver \u001b[39m\u001b[38;5;124m'\u001b[39m\u001b[38;5;132;01m%s\u001b[39;00m\u001b[38;5;124m'\u001b[39m\u001b[38;5;124m failed. \u001b[39m\u001b[38;5;124m\"\u001b[39m \u001b[38;5;241m%\u001b[39m chain\u001b[38;5;241m.\u001b[39msolver\u001b[38;5;241m.\u001b[39mname() \u001b[38;5;241m+\u001b[39m\n\u001b[1;32m   1413\u001b[0m             \u001b[38;5;124m\"\u001b[39m\u001b[38;5;124mTry another solver, or solve with verbose=True for more \u001b[39m\u001b[38;5;124m\"\u001b[39m\n\u001b[1;32m   1414\u001b[0m             \u001b[38;5;124m\"\u001b[39m\u001b[38;5;124minformation.\u001b[39m\u001b[38;5;124m\"\u001b[39m)\n\u001b[1;32m   1416\u001b[0m \u001b[38;5;28mself\u001b[39m\u001b[38;5;241m.\u001b[39munpack(solution)\n\u001b[1;32m   1417\u001b[0m \u001b[38;5;28mself\u001b[39m\u001b[38;5;241m.\u001b[39m_solver_stats \u001b[38;5;241m=\u001b[39m SolverStats\u001b[38;5;241m.\u001b[39mfrom_dict(\u001b[38;5;28mself\u001b[39m\u001b[38;5;241m.\u001b[39m_solution\u001b[38;5;241m.\u001b[39mattr,\n\u001b[1;32m   1418\u001b[0m                                  chain\u001b[38;5;241m.\u001b[39msolver\u001b[38;5;241m.\u001b[39mname())\n",
      "\u001b[0;31mSolverError\u001b[0m: Solver 'MOSEK' failed. Try another solver, or solve with verbose=True for more information."
     ]
    }
   ],
   "source": [
    "# problem = co.admm_consensus_pep(n_func, mu, L_smooth, R, Inductance, params=res)\n",
    "problem = co.admm_consensus2(mu, L_smooth, R, Inductance, params=res)\n",
    "# problem = co.decomp_euler_consensus2(mu, L_smooth, R, Inductance, params=res)\n",
    "# problem = co.admm_consensus_proof(mu, L_smooth, R, Inductance, params=res)\n",
    "diff = problem.solve(verbose=1, solver=cp.MOSEK)\n",
    "print(f\"{diff=}\")"
   ]
  },
  {
   "cell_type": "code",
   "execution_count": null,
   "metadata": {},
   "outputs": [],
   "source": []
  },
  {
   "cell_type": "code",
   "execution_count": null,
   "metadata": {},
   "outputs": [],
   "source": []
  },
  {
   "cell_type": "code",
   "execution_count": null,
   "metadata": {},
   "outputs": [],
   "source": []
  },
  {
   "cell_type": "code",
   "execution_count": null,
   "metadata": {},
   "outputs": [],
   "source": []
  },
  {
   "cell_type": "code",
   "execution_count": null,
   "metadata": {},
   "outputs": [],
   "source": [
    "import sympy as sp"
   ]
  },
  {
   "cell_type": "code",
   "execution_count": null,
   "metadata": {},
   "outputs": [],
   "source": [
    "x1_1 = sp.symbols(\"x_1^(1)\")\n",
    "y1_1 = sp.symbols(\"y_1^(1)\")\n",
    "x2_1 = sp.symbols(\"x_2^(1)\")\n",
    "y2_1 = sp.symbols(\"y_2^(1)\")\n",
    "z_1 = sp.symbols(\"z^(1)\")\n",
    "i1_1 = sp.symbols(\"i_1^(1)\")\n",
    "i2_1 = sp.symbols(\"i_2^(1)\")\n",
    "i1_0 = sp.symbols(\"i_1^(0)\")\n",
    "i2_0 = sp.symbols(\"i_2^(0)\")\n",
    "L, R, h, M = sp.symbols(\"L R h M\")\n",
    "z_star, y1_star, y2_star = sp.symbols(\"z^\\star y_1^\\star y_2^\\star\")\n",
    "f_star, f_1= sp.symbols(\"f^\\star f(x^{(1)})\")"
   ]
  },
  {
   "cell_type": "code",
   "execution_count": null,
   "metadata": {},
   "outputs": [],
   "source": [
    "E_0 = (L/2) * (i1_0 - y1_star)**2 + (L/2) * (i2_0 - y2_star)**2\n",
    "E_1 = (L/2) * (i1_1 - y1_star)**2 + (L/2) * (i2_1 - y2_star)**2"
   ]
  },
  {
   "cell_type": "code",
   "execution_count": null,
   "metadata": {},
   "outputs": [],
   "source": [
    "diff = (E_1 - E_0).subs(i1_1, i1_0 + (h/L)*(z_1 - x1_1))\n",
    "diff = diff.subs(i2_1, i2_0 + (h/L)*(z_1 - x2_1))"
   ]
  },
  {
   "cell_type": "code",
   "execution_count": null,
   "metadata": {},
   "outputs": [
    {
     "data": {
      "text/latex": [
       "$\\displaystyle - \\frac{L \\left(i^{(0)}_{1} - y^{\\star}_{1}\\right)^{2}}{2} - \\frac{L \\left(i^{(0)}_{2} - y^{\\star}_{2}\\right)^{2}}{2} + \\frac{L \\left(i^{(0)}_{1} - y^{\\star}_{1} + \\frac{h \\left(- x^{(1)}_{1} + z^{(1)}\\right)}{L}\\right)^{2}}{2} + \\frac{L \\left(i^{(0)}_{2} - y^{\\star}_{2} + \\frac{h \\left(- x^{(1)}_{2} + z^{(1)}\\right)}{L}\\right)^{2}}{2}$"
      ],
      "text/plain": [
       "-L*(i_1^(0) - y_1^\\star)**2/2 - L*(i_2^(0) - y_2^\\star)**2/2 + L*(i_1^(0) - y_1^\\star + h*(-x_1^(1) + z^(1))/L)**2/2 + L*(i_2^(0) - y_2^\\star + h*(-x_2^(1) + z^(1))/L)**2/2"
      ]
     },
     "execution_count": 13,
     "metadata": {},
     "output_type": "execute_result"
    }
   ],
   "source": [
    "diff"
   ]
  },
  {
   "cell_type": "code",
   "execution_count": null,
   "metadata": {},
   "outputs": [
    {
     "data": {
      "text/latex": [
       "$\\displaystyle \\frac{h \\left(2 L \\left(- i^{(0)}_{1} x^{(1)}_{1} + i^{(0)}_{1} z^{(1)} - i^{(0)}_{2} x^{(1)}_{2} + i^{(0)}_{2} z^{(1)} + x^{(1)}_{1} y^{\\star}_{1} + x^{(1)}_{2} y^{\\star}_{2} - y^{\\star}_{1} z^{(1)} - y^{\\star}_{2} z^{(1)}\\right) + h \\left(x^{(1)}_{1}\\right)^{2} - 2 h x^{(1)}_{1} z^{(1)} + h \\left(x^{(1)}_{2}\\right)^{2} - 2 h x^{(1)}_{2} z^{(1)} + 2 h \\left(z^{(1)}\\right)^{2}\\right)}{2 L}$"
      ],
      "text/plain": [
       "h*(2*L*(-i_1^(0)*x_1^(1) + i_1^(0)*z^(1) - i_2^(0)*x_2^(1) + i_2^(0)*z^(1) + x_1^(1)*y_1^\\star + x_2^(1)*y_2^\\star - y_1^\\star*z^(1) - y_2^\\star*z^(1)) + h*x_1^(1)**2 - 2*h*x_1^(1)*z^(1) + h*x_2^(1)**2 - 2*h*x_2^(1)*z^(1) + 2*h*z^(1)**2)/(2*L)"
      ]
     },
     "execution_count": 14,
     "metadata": {},
     "output_type": "execute_result"
    }
   ],
   "source": [
    "sp.simplify(sp.expand(diff))"
   ]
  },
  {
   "cell_type": "code",
   "execution_count": null,
   "metadata": {},
   "outputs": [
    {
     "data": {
      "text/latex": [
       "$\\displaystyle \\frac{h \\left(- 2 L i^{(0)}_{1} x^{(1)}_{1} + 2 L i^{(0)}_{1} z^{(1)} - 2 L i^{(0)}_{2} x^{(1)}_{2} + 2 L i^{(0)}_{2} z^{(1)} + 2 L x^{(1)}_{1} y^{\\star}_{1} + 2 L x^{(1)}_{2} y^{\\star}_{2} - 2 L y^{\\star}_{1} z^{(1)} - 2 L y^{\\star}_{2} z^{(1)} + h \\left(x^{(1)}_{1}\\right)^{2} - 2 h x^{(1)}_{1} z^{(1)} + h \\left(x^{(1)}_{2}\\right)^{2} - 2 h x^{(1)}_{2} z^{(1)} + 2 h \\left(z^{(1)}\\right)^{2}\\right)}{2 L}$"
      ],
      "text/plain": [
       "h*(-2*L*i_1^(0)*x_1^(1) + 2*L*i_1^(0)*z^(1) - 2*L*i_2^(0)*x_2^(1) + 2*L*i_2^(0)*z^(1) + 2*L*x_1^(1)*y_1^\\star + 2*L*x_2^(1)*y_2^\\star - 2*L*y_1^\\star*z^(1) - 2*L*y_2^\\star*z^(1) + h*x_1^(1)**2 - 2*h*x_1^(1)*z^(1) + h*x_2^(1)**2 - 2*h*x_2^(1)*z^(1) + 2*h*z^(1)**2)/(2*L)"
      ]
     },
     "execution_count": 15,
     "metadata": {},
     "output_type": "execute_result"
    }
   ],
   "source": [
    "sp.factor(sp.simplify(sp.cancel(sp.simplify(sp.expand(diff)))))"
   ]
  },
  {
   "cell_type": "code",
   "execution_count": null,
   "metadata": {},
   "outputs": [],
   "source": [
    "# Delta = R * (i1_0 - y1_1)**2 + R * (i2_0 - y2_1)**2 + (x1_1 - z_star) * (y1_1 - y1_star) + (x2_1 - z_star) * (y2_1 - y2_star)\n",
    "Delta = R * (i1_0 - y1_1)**2 + R * (i2_0 - y2_1)**2 + f_1 - f_star - y1_star * (x1_1 - z_star) - y2_star *(x2_1 - z_star) "
   ]
  },
  {
   "cell_type": "code",
   "execution_count": null,
   "metadata": {},
   "outputs": [
    {
     "data": {
      "text/latex": [
       "$\\displaystyle R \\left(i^{(0)}_{1} - y^{(1)}_{1}\\right)^{2} + R \\left(i^{(0)}_{2} - y^{(1)}_{2}\\right)^{2} + f(x^{(1)}) - f^{\\star} - y^{\\star}_{1} \\left(x^{(1)}_{1} - z^{\\star}\\right) - y^{\\star}_{2} \\left(x^{(1)}_{2} - z^{\\star}\\right)$"
      ],
      "text/plain": [
       "R*(i_1^(0) - y_1^(1))**2 + R*(i_2^(0) - y_2^(1))**2 + f(x^{(1)}) - f^\\star - y_1^\\star*(x_1^(1) - z^\\star) - y_2^\\star*(x_2^(1) - z^\\star)"
      ]
     },
     "execution_count": 17,
     "metadata": {},
     "output_type": "execute_result"
    }
   ],
   "source": [
    "Delta"
   ]
  },
  {
   "cell_type": "code",
   "execution_count": null,
   "metadata": {},
   "outputs": [],
   "source": [
    "F = diff/h + Delta - (h/(2*L))*(z_1 - x1_1)**2 - (h/(2*L))*(z_1 - x2_1)**2"
   ]
  },
  {
   "cell_type": "code",
   "execution_count": null,
   "metadata": {},
   "outputs": [],
   "source": [
    "F2 = (z_1 - x1_1)*(i1_0 - y1_star) + (z_1 - x2_1)*(i2_0 - y2_star) \\\n",
    "    + R * (i1_0 - y1_1)**2 + R * (i2_0 - y2_1)**2 \\\n",
    "    + f_1 - f_star - y1_star * (x1_1 - z_star) - y2_star *(x2_1 - z_star) \n",
    "\n",
    "assert co.equal_expression(F, F2)\n",
    "assert co.is_zero_expr(co.collapse_expression(F - F2))"
   ]
  },
  {
   "cell_type": "code",
   "execution_count": null,
   "metadata": {},
   "outputs": [
    {
     "data": {
      "text/latex": [
       "$\\displaystyle 0$"
      ],
      "text/plain": [
       "0"
      ]
     },
     "execution_count": 20,
     "metadata": {},
     "output_type": "execute_result"
    }
   ],
   "source": [
    "sp.collect(sp.simplify(sp.cancel(sp.expand(F))), h).coeff(h, 1)"
   ]
  },
  {
   "cell_type": "code",
   "execution_count": null,
   "metadata": {},
   "outputs": [],
   "source": [
    "ineq1 = f_1 - f_star + y1_1 * (z_star - x1_1) + y2_1 * (z_star - x2_1) + \\\n",
    "    (1/(2*M)) * (y1_1 - y1_star)**2 + (1/(2*M)) * (y2_1 - y2_star)**2\n",
    "\n",
    "ineq2 = f_star - f_1 - y1_star * (x1_1 - z_star) + y2_star * (x2_1 - z_star)"
   ]
  },
  {
   "cell_type": "code",
   "execution_count": null,
   "metadata": {},
   "outputs": [
    {
     "data": {
      "text/latex": [
       "$\\displaystyle f(x^{(1)}) - f^{\\star} + y^{(1)}_{1} \\left(- x^{(1)}_{1} + z^{\\star}\\right) + y^{(1)}_{2} \\left(- x^{(1)}_{2} + z^{\\star}\\right) + \\frac{\\left(y^{(1)}_{1} - y^{\\star}_{1}\\right)^{2}}{2 M} + \\frac{\\left(y^{(1)}_{2} - y^{\\star}_{2}\\right)^{2}}{2 M}$"
      ],
      "text/plain": [
       "f(x^{(1)}) - f^\\star + y_1^(1)*(-x_1^(1) + z^\\star) + y_2^(1)*(-x_2^(1) + z^\\star) + (y_1^(1) - y_1^\\star)**2/(2*M) + (y_2^(1) - y_2^\\star)**2/(2*M)"
      ]
     },
     "execution_count": 22,
     "metadata": {},
     "output_type": "execute_result"
    }
   ],
   "source": [
    "ineq1"
   ]
  },
  {
   "cell_type": "code",
   "execution_count": null,
   "metadata": {},
   "outputs": [
    {
     "data": {
      "text/latex": [
       "$\\displaystyle - f(x^{(1)}) + f^{\\star} - y^{\\star}_{1} \\left(x^{(1)}_{1} - z^{\\star}\\right) + y^{\\star}_{2} \\left(x^{(1)}_{2} - z^{\\star}\\right)$"
      ],
      "text/plain": [
       "-f(x^{(1)}) + f^\\star - y_1^\\star*(x_1^(1) - z^\\star) + y_2^\\star*(x_2^(1) - z^\\star)"
      ]
     },
     "execution_count": 23,
     "metadata": {},
     "output_type": "execute_result"
    }
   ],
   "source": [
    "ineq2"
   ]
  },
  {
   "cell_type": "code",
   "execution_count": null,
   "metadata": {},
   "outputs": [
    {
     "data": {
      "text/latex": [
       "$\\displaystyle \\frac{M \\left(2 R \\left(i^{(0)}_{2}\\right)^{2} + 2 R i^{(0)}_{2} y^{(1)}_{1} - 2 R i^{(0)}_{2} y^{(1)}_{2} + R \\left(y^{(1)}_{1}\\right)^{2} + R \\left(y^{(1)}_{2}\\right)^{2} + f(x^{(1)}) - f^{\\star} + i^{(0)}_{2} x^{(1)}_{1} - i^{(0)}_{2} x^{(1)}_{2} + 2 x^{(1)}_{1} y^{(1)}_{1} + 2 x^{(1)}_{1} y^{\\star}_{1} + 2 x^{(1)}_{2} y^{\\star}_{1} + 2 x^{(1)}_{2} y^{(1)}_{2} - 2 y^{(1)}_{1} z^{\\star} - 4 y^{\\star}_{1} z^{\\star} - 2 y^{(1)}_{2} z^{\\star}\\right) - \\left(y^{(1)}_{1}\\right)^{2} + 2 y^{(1)}_{1} y^{\\star}_{1} - 2 \\left(y^{\\star}_{1}\\right)^{2} - 2 y^{\\star}_{1} y^{(1)}_{2} - \\left(y^{(1)}_{2}\\right)^{2}}{M}$"
      ],
      "text/plain": [
       "(M*(2*R*i_2^(0)**2 + 2*R*i_2^(0)*y_1^(1) - 2*R*i_2^(0)*y_2^(1) + R*y_1^(1)**2 + R*y_2^(1)**2 + f(x^{(1)}) - f^\\star + i_2^(0)*x_1^(1) - i_2^(0)*x_2^(1) + 2*x_1^(1)*y_1^(1) + 2*x_1^(1)*y_1^\\star + 2*x_2^(1)*y_1^\\star + 2*x_2^(1)*y_2^(1) - 2*y_1^(1)*z^\\star - 4*y_1^\\star*z^\\star - 2*y_2^(1)*z^\\star) - y_1^(1)**2 + 2*y_1^(1)*y_1^\\star - 2*y_1^\\star**2 - 2*y_1^\\star*y_2^(1) - y_2^(1)**2)/M"
      ]
     },
     "execution_count": 24,
     "metadata": {},
     "output_type": "execute_result"
    }
   ],
   "source": [
    "res = sp.simplify(sp.cancel(sp.expand(F - 2*ineq1 - 2 * ineq2))).subs(y2_star, -y1_star)\n",
    "res = sp.simplify(res.subs(i1_0, -i2_0))\n",
    "res"
   ]
  },
  {
   "cell_type": "code",
   "execution_count": null,
   "metadata": {},
   "outputs": [
    {
     "data": {
      "text/latex": [
       "$\\displaystyle \\frac{M f(x^{(1)}) - M f^{\\star} + 2 M \\left(i^{(0)}_{2}\\right)^{2} + M i^{(0)}_{2} x^{(1)}_{1} - M i^{(0)}_{2} x^{(1)}_{2} + 2 M i^{(0)}_{2} y^{(1)}_{1} - 2 M i^{(0)}_{2} y^{(1)}_{2} + 2 M x^{(1)}_{1} y^{(1)}_{1} + 2 M x^{(1)}_{1} y^{\\star}_{1} + 2 M x^{(1)}_{2} y^{\\star}_{1} + 2 M x^{(1)}_{2} y^{(1)}_{2} + M \\left(y^{(1)}_{1}\\right)^{2} - 2 M y^{(1)}_{1} z^{\\star} - 4 M y^{\\star}_{1} z^{\\star} + M \\left(y^{(1)}_{2}\\right)^{2} - 2 M y^{(1)}_{2} z^{\\star} - \\left(y^{(1)}_{1}\\right)^{2} + 2 y^{(1)}_{1} y^{\\star}_{1} - 2 \\left(y^{\\star}_{1}\\right)^{2} - 2 y^{\\star}_{1} y^{(1)}_{2} - \\left(y^{(1)}_{2}\\right)^{2}}{M}$"
      ],
      "text/plain": [
       "(M*f(x^{(1)}) - M*f^\\star + 2*M*i_2^(0)**2 + M*i_2^(0)*x_1^(1) - M*i_2^(0)*x_2^(1) + 2*M*i_2^(0)*y_1^(1) - 2*M*i_2^(0)*y_2^(1) + 2*M*x_1^(1)*y_1^(1) + 2*M*x_1^(1)*y_1^\\star + 2*M*x_2^(1)*y_1^\\star + 2*M*x_2^(1)*y_2^(1) + M*y_1^(1)**2 - 2*M*y_1^(1)*z^\\star - 4*M*y_1^\\star*z^\\star + M*y_2^(1)**2 - 2*M*y_2^(1)*z^\\star - y_1^(1)**2 + 2*y_1^(1)*y_1^\\star - 2*y_1^\\star**2 - 2*y_1^\\star*y_2^(1) - y_2^(1)**2)/M"
      ]
     },
     "execution_count": 25,
     "metadata": {},
     "output_type": "execute_result"
    }
   ],
   "source": [
    "sp.cancel(sp.collect(sp.collect(sp.collect(sp.collect(res.subs(R, 1).subs(L, 1), i2_0), y1_1), y2_1), y1_star))"
   ]
  },
  {
   "cell_type": "code",
   "execution_count": null,
   "metadata": {},
   "outputs": [
    {
     "data": {
      "text/latex": [
       "$\\displaystyle \\frac{M \\left(f(x^{(1)}) - f^{\\star} + 2 \\left(i^{(0)}_{2}\\right)^{2} + i^{(0)}_{2} x^{(1)}_{1} - i^{(0)}_{2} x^{(1)}_{2} + 2 i^{(0)}_{2} y^{(1)}_{1} - 2 i^{(0)}_{2} y^{(1)}_{2} + 2 x^{(1)}_{1} y^{(1)}_{1} + 2 x^{(1)}_{1} y^{\\star}_{1} + 2 x^{(1)}_{2} y^{\\star}_{1} + 2 x^{(1)}_{2} y^{(1)}_{2} + \\left(y^{(1)}_{1}\\right)^{2} - 2 y^{(1)}_{1} z^{\\star} - 4 y^{\\star}_{1} z^{\\star} + \\left(y^{(1)}_{2}\\right)^{2} - 2 y^{(1)}_{2} z^{\\star}\\right) - \\left(y^{(1)}_{1}\\right)^{2} + 2 y^{(1)}_{1} y^{\\star}_{1} - 2 \\left(y^{\\star}_{1}\\right)^{2} - 2 y^{\\star}_{1} y^{(1)}_{2} - \\left(y^{(1)}_{2}\\right)^{2}}{M}$"
      ],
      "text/plain": [
       "(M*(f(x^{(1)}) - f^\\star + 2*i_2^(0)**2 + i_2^(0)*x_1^(1) - i_2^(0)*x_2^(1) + 2*i_2^(0)*y_1^(1) - 2*i_2^(0)*y_2^(1) + 2*x_1^(1)*y_1^(1) + 2*x_1^(1)*y_1^\\star + 2*x_2^(1)*y_1^\\star + 2*x_2^(1)*y_2^(1) + y_1^(1)**2 - 2*y_1^(1)*z^\\star - 4*y_1^\\star*z^\\star + y_2^(1)**2 - 2*y_2^(1)*z^\\star) - y_1^(1)**2 + 2*y_1^(1)*y_1^\\star - 2*y_1^\\star**2 - 2*y_1^\\star*y_2^(1) - y_2^(1)**2)/M"
      ]
     },
     "execution_count": 26,
     "metadata": {},
     "output_type": "execute_result"
    }
   ],
   "source": [
    "res.subs(R, 1).subs(L, 1)"
   ]
  },
  {
   "cell_type": "code",
   "execution_count": null,
   "metadata": {},
   "outputs": [],
   "source": []
  },
  {
   "cell_type": "code",
   "execution_count": null,
   "metadata": {},
   "outputs": [
    {
     "data": {
      "text/latex": [
       "$\\displaystyle \\frac{M \\left(f(x^{(1)}) - f^{\\star} + 2 \\left(i^{(0)}_{2}\\right)^{2} + i^{(0)}_{2} x^{(1)}_{1} - i^{(0)}_{2} x^{(1)}_{2} + 2 i^{(0)}_{2} y^{(1)}_{1} - 2 i^{(0)}_{2} y^{(1)}_{2} + 2 x^{(1)}_{1} y^{(1)}_{1} + 2 x^{(1)}_{1} y^{\\star}_{1} + 2 x^{(1)}_{2} y^{\\star}_{1} + 2 x^{(1)}_{2} y^{(1)}_{2} + \\left(y^{(1)}_{1}\\right)^{2} - 2 y^{(1)}_{1} z^{\\star} - 4 y^{\\star}_{1} z^{\\star} + \\left(y^{(1)}_{2}\\right)^{2} - 2 y^{(1)}_{2} z^{\\star}\\right) - \\left(y^{(1)}_{1}\\right)^{2} + 2 y^{(1)}_{1} y^{\\star}_{1} - 2 \\left(y^{\\star}_{1}\\right)^{2} - 2 y^{\\star}_{1} y^{(1)}_{2} - \\left(y^{(1)}_{2}\\right)^{2}}{M}$"
      ],
      "text/plain": [
       "(M*(f(x^{(1)}) - f^\\star + 2*i_2^(0)**2 + i_2^(0)*x_1^(1) - i_2^(0)*x_2^(1) + 2*i_2^(0)*y_1^(1) - 2*i_2^(0)*y_2^(1) + 2*x_1^(1)*y_1^(1) + 2*x_1^(1)*y_1^\\star + 2*x_2^(1)*y_1^\\star + 2*x_2^(1)*y_2^(1) + y_1^(1)**2 - 2*y_1^(1)*z^\\star - 4*y_1^\\star*z^\\star + y_2^(1)**2 - 2*y_2^(1)*z^\\star) - y_1^(1)**2 + 2*y_1^(1)*y_1^\\star - 2*y_1^\\star**2 - 2*y_1^\\star*y_2^(1) - y_2^(1)**2)/M"
      ]
     },
     "execution_count": 27,
     "metadata": {},
     "output_type": "execute_result"
    }
   ],
   "source": [
    "sp.collect(res.subs(R, 1).subs(L, 1), M)"
   ]
  },
  {
   "cell_type": "code",
   "execution_count": null,
   "metadata": {},
   "outputs": [],
   "source": []
  }
 ],
 "metadata": {
  "kernelspec": {
   "display_name": "osbdo",
   "language": "python",
   "name": "python3"
  },
  "language_info": {
   "codemirror_mode": {
    "name": "ipython",
    "version": 3
   },
   "file_extension": ".py",
   "mimetype": "text/x-python",
   "name": "python",
   "nbconvert_exporter": "python",
   "pygments_lexer": "ipython3",
   "version": "3.10.13"
  }
 },
 "nbformat": 4,
 "nbformat_minor": 2
}
