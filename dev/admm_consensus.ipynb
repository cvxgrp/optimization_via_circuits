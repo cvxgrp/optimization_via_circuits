{
 "cells": [
  {
   "cell_type": "code",
   "execution_count": 1,
   "metadata": {},
   "outputs": [],
   "source": [
    "import ciropt as co\n",
    "import cvxpy as cp"
   ]
  },
  {
   "cell_type": "code",
   "execution_count": 2,
   "metadata": {},
   "outputs": [],
   "source": [
    "L_smooth = 1.\n",
    "mu = 0.001\n",
    "\n",
    "Inductance = 1 #5.\n",
    "R = 1.\n",
    "\n",
    "n_func = 2\n",
    "# solver = \"ca\"\n",
    "solver = \"ca_canonical\"\n",
    "# solver = \"ca_canonical_X\"\n",
    "# solver = \"cvx_dccp\"\n",
    "# solver = \"qcqp_sni\"\n",
    "# solver = \"bisection_b\""
   ]
  },
  {
   "cell_type": "markdown",
   "metadata": {},
   "source": [
    "# Ciropt problem"
   ]
  },
  {
   "cell_type": "code",
   "execution_count": 4,
   "metadata": {},
   "outputs": [
    {
     "name": "stdout",
     "output_type": "stream",
     "text": [
      "dim_G=7, dim_F=6\n",
      "\n",
      "******************************************************************************\n",
      "This program contains Ipopt, a library for large-scale nonlinear optimization.\n",
      " Ipopt is released as open source code under the Eclipse Public License (EPL).\n",
      "         For more information visit https://github.com/coin-or/Ipopt\n",
      "******************************************************************************\n",
      "\n",
      "This is Ipopt version 3.14.11, running with linear solver MUMPS 5.4.1.\n",
      "\n",
      "Number of nonzeros in equality constraint Jacobian...:     1655\n",
      "Number of nonzeros in inequality constraint Jacobian.:      213\n",
      "Number of nonzeros in Lagrangian Hessian.............:      304\n",
      "\n",
      "Total number of variables............................:       73\n",
      "                     variables with only lower bounds:        0\n",
      "                variables with lower and upper bounds:        0\n",
      "                     variables with only upper bounds:        0\n",
      "Total number of equality constraints.................:       61\n",
      "Total number of inequality constraints...............:       24\n",
      "        inequality constraints with only lower bounds:       24\n",
      "   inequality constraints with lower and upper bounds:        0\n",
      "        inequality constraints with only upper bounds:        0\n",
      "\n",
      "iter    objective    inf_pr   inf_du lg(mu)  ||d||  lg(rg) alpha_du alpha_pr  ls\n",
      "   0 -0.0000000e+00 1.00e+00 1.00e+00  -1.0 0.00e+00    -  0.00e+00 0.00e+00   0\n",
      "   1r-0.0000000e+00 1.00e+00 9.99e+02   0.0 0.00e+00  -2.0 0.00e+00 2.55e-07R 18\n",
      "   2r-4.5783643e-05 1.00e+00 8.95e+02   0.0 1.09e+00    -  1.00e+00 1.04e-01f  1\n",
      "   3r-8.8352206e-03 9.91e-01 1.28e+03   0.0 9.05e-01    -  4.69e-01 4.69e-01f  1\n",
      "   4r-1.2135580e-02 9.97e-01 7.46e+01   0.0 4.60e-02   2.0 1.00e+00 1.00e+00h  1\n",
      "   5r-6.1092232e-03 9.96e-01 1.81e+02   0.0 1.29e-01   1.5 1.00e+00 1.00e+00h  1\n",
      "   6r-1.2180692e-02 9.92e-01 1.34e+01   0.0 8.83e-02   1.9 1.00e+00 1.00e+00f  1\n",
      "   7r-1.3973456e-02 9.87e-01 1.80e+01  -0.7 5.76e-02   2.4 8.81e-01 9.11e-01f  1\n",
      "   8r-1.6262242e-02 9.85e-01 4.43e+02  -0.7 1.89e-02   2.8 1.00e+00 6.36e-01f  1\n",
      "   9r-2.5482616e-02 9.78e-01 3.53e+02  -0.7 1.05e-01   2.3 6.39e-01 4.10e-01f  1\n",
      "iter    objective    inf_pr   inf_du lg(mu)  ||d||  lg(rg) alpha_du alpha_pr  ls\n",
      "  10r-3.4840068e-02 9.70e-01 2.52e+01  -0.7 3.48e-02   2.7 1.00e+00 1.00e+00f  1\n",
      "  11r-8.8666036e-02 9.28e-01 3.32e+02  -0.7 1.96e-01   2.3 5.42e-01 1.00e+00f  1\n",
      "  12r-1.3719771e-01 8.81e-01 5.96e+01  -0.7 9.42e-02   2.7 1.00e+00 1.00e+00f  1\n",
      "  13 -4.4096281e-01 1.69e+00 7.78e+00  -1.7 2.73e+00  -1.6 1.75e-01 4.56e-01h  1\n",
      "  14 -3.9373918e-01 3.09e+00 6.96e+01  -1.7 2.78e+00  -0.2 2.16e-01 4.84e-01h  1\n",
      "  15 -4.4620957e-01 7.73e-01 7.17e+01  -1.7 4.77e-01   0.2 4.15e-01 8.31e-01h  1\n",
      "  16 -1.5981694e+00 9.47e-02 1.27e+03  -1.7 1.10e+00  -0.3 9.04e-01 1.00e+00f  1\n",
      "  17 -1.7090173e+00 1.09e-01 1.12e+04  -1.7 1.27e+00   1.0 2.17e-02 1.64e-01h  1\n",
      "  18 -1.4963614e+00 1.94e-02 3.04e+03  -1.7 2.08e-01   3.3 1.00e+00 1.00e+00h  1\n",
      "  19 -1.4852423e+00 4.55e-03 1.07e+03  -1.7 5.10e-02   2.8 1.00e+00 1.00e+00h  1\n",
      "iter    objective    inf_pr   inf_du lg(mu)  ||d||  lg(rg) alpha_du alpha_pr  ls\n",
      "  20 -1.4859822e+00 7.42e-04 2.61e+01  -1.7 2.42e-02   2.3 1.00e+00 1.00e+00h  1\n",
      "  21 -1.4945330e+00 1.08e-02 3.72e+01  -1.7 8.07e-02   1.8 1.92e-01 1.00e+00f  1\n",
      "  22 -1.4949272e+00 2.24e-03 6.70e+01  -1.7 4.60e-02   3.2 1.00e+00 1.00e+00h  1\n",
      "  23 -1.4961380e+00 6.81e-04 1.39e+01  -1.7 2.56e-02   2.7 1.00e+00 1.00e+00h  1\n",
      "  24 -1.4997792e+00 2.39e-04 5.14e+00  -1.7 1.49e-02   2.2 1.00e+00 1.00e+00h  1\n",
      "  25 -1.5106569e+00 6.86e-05 8.04e-01  -1.7 9.27e-03   1.7 1.00e+00 1.00e+00h  1\n",
      "  26 -1.5425685e+00 4.54e-05 8.49e-01  -2.5 2.75e-02   1.3 1.00e+00 1.00e+00f  1\n",
      "  27 -1.6360745e+00 3.57e-04 1.21e+00  -2.5 8.23e-02   0.8 1.00e+00 1.00e+00f  1\n",
      "  28 -1.9048502e+00 2.09e-03 1.71e+00  -2.5 2.47e-01   0.3 1.00e+00 1.00e+00f  1\n",
      "  29 -2.6837496e+00 1.43e-02 3.84e+00  -2.5 7.37e-01  -0.2 1.00e+00 1.00e+00f  1\n",
      "iter    objective    inf_pr   inf_du lg(mu)  ||d||  lg(rg) alpha_du alpha_pr  ls\n",
      "  30 -3.4001580e+00 2.41e-02 3.44e+00  -2.5 2.18e+00  -0.7 1.00e+00 3.16e-01f  1\n",
      "  31 -8.4156475e+00 1.01e+00 1.74e+01  -2.5 6.22e+00  -1.1 1.00e+00 7.73e-01f  1\n",
      "  32 -1.0443529e+01 1.31e+00 2.09e+01  -2.5 7.88e+00  -1.6 3.17e-01 2.45e-01f  1\n",
      "  33 -1.0592448e+01 1.22e+00 1.82e+01  -2.5 2.17e+00  -1.2 9.36e-02 1.49e-01h  1\n",
      "  34 -1.0517625e+01 1.18e+00 1.76e+01  -2.5 2.31e+00   0.1 1.00e+00 3.29e-02h  1\n",
      "  35 -1.0032953e+01 1.05e+00 1.51e+01  -2.5 3.37e+00  -0.3 1.00e+00 1.46e-01h  1\n",
      "  36 -6.9308899e+00 1.99e-01 1.21e+01  -2.5 3.25e+00  -0.8 7.54e-01 9.94e-01h  1\n",
      "  37 -6.8589034e+00 1.44e-01 1.87e+01  -2.5 2.77e-01  -0.4 7.37e-01 1.00e+00h  1\n",
      "  38 -6.8479442e+00 2.08e-02 4.38e+00  -2.5 9.87e-02   0.0 6.04e-01 1.00e+00h  1\n",
      "  39 -6.8493050e+00 4.54e-03 1.69e+00  -2.5 4.96e-02   0.5 1.00e+00 1.00e+00h  1\n",
      "iter    objective    inf_pr   inf_du lg(mu)  ||d||  lg(rg) alpha_du alpha_pr  ls\n",
      "  40 -6.8835174e+00 5.33e-03 1.70e+00  -2.5 4.36e-02  -0.0 1.00e+00 1.00e+00h  1\n",
      "  41 -6.9222228e+00 1.62e-02 6.70e+00  -2.5 9.27e-02  -0.5 1.00e+00 1.00e+00h  1\n",
      "  42 -6.9492372e+00 1.65e-02 2.42e+00  -2.5 1.28e-01  -1.0 1.00e+00 1.00e+00h  1\n",
      "  43 -6.9526084e+00 5.36e-03 3.98e-01  -2.5 6.90e-02  -0.5 1.00e+00 1.00e+00h  1\n",
      "  44 -6.9584966e+00 3.04e-02 7.04e-01  -2.5 1.60e-01  -1.0 1.00e+00 1.00e+00h  1\n",
      "  45 -6.9580264e+00 6.26e-03 1.55e-01  -2.5 6.44e-02  -1.5 1.00e+00 1.00e+00h  1\n",
      "  46 -6.9569276e+00 8.69e-04 1.29e-02  -2.5 2.63e-02  -2.0 1.00e+00 1.00e+00h  1\n",
      "  47 -6.9858689e+00 4.61e-03 1.96e+00  -3.8 1.17e-01  -2.4 1.00e+00 7.02e-01h  1\n",
      "  48 -6.9965277e+00 1.74e-03 4.95e+00  -3.8 8.83e-02  -2.9 1.00e+00 9.47e-01h  1\n",
      "  49 -6.9997995e+00 8.19e-04 7.14e+00  -3.8 6.36e-02  -3.4 1.00e+00 1.00e+00f  1\n",
      "iter    objective    inf_pr   inf_du lg(mu)  ||d||  lg(rg) alpha_du alpha_pr  ls\n",
      "  50 -7.0009158e+00 3.15e-04 3.50e+00  -3.8 4.04e-02  -3.9 1.00e+00 1.00e+00h  1\n",
      "  51 -7.0004958e+00 1.45e-05 3.48e-01  -3.8 7.22e-03  -4.4 1.00e+00 1.00e+00h  1\n",
      "  52 -7.0003927e+00 6.48e-06 2.29e-01  -3.8 5.70e-03  -4.8 1.00e+00 1.00e+00h  1\n",
      "  53 -7.0003172e+00 5.26e-06 1.64e-01  -3.8 6.35e-03  -5.3 1.00e+00 5.00e-01h  2\n",
      "  54 -7.0002367e+00 4.70e-06 1.46e-01  -3.8 6.43e-03  -5.8 1.00e+00 5.00e-01h  2\n",
      "  55 -7.0001511e+00 4.47e-06 1.73e-01  -3.8 6.49e-03  -6.3 1.00e+00 5.00e-01h  2\n",
      "  56 -7.0001054e+00 3.90e-06 2.94e-01  -3.8 6.57e-03  -6.7 1.00e+00 2.50e-01h  3\n",
      "  57 -7.0000580e+00 3.49e-06 3.11e-01  -3.8 6.66e-03  -7.2 1.00e+00 2.50e-01h  3\n",
      "  58 -7.0000098e+00 3.17e-06 3.20e-01  -3.8 6.61e-03  -7.7 1.00e+00 2.50e-01h  3\n",
      "  59 -6.9999609e+00 2.92e-06 3.27e-01  -3.8 6.55e-03  -8.2 1.00e+00 2.50e-01h  3\n",
      "iter    objective    inf_pr   inf_du lg(mu)  ||d||  lg(rg) alpha_du alpha_pr  ls\n",
      "  60 -6.9999117e+00 2.72e-06 3.30e-01  -3.8 6.45e-03  -8.6 1.00e+00 2.50e-01h  3\n",
      "  61 -6.9998623e+00 2.54e-06 3.31e-01  -3.8 6.32e-03  -9.1 1.00e+00 2.50e-01h  3\n",
      "  62 -6.9998135e+00 2.38e-06 3.26e-01  -3.8 6.12e-03  -9.6 1.00e+00 2.50e-01h  3\n",
      "  63 -6.9996230e+00 6.93e-06 3.42e-02  -3.8 5.85e-03 -10.1 1.00e+00 1.00e+00w  1\n",
      "  64 -6.9994747e+00 3.43e-06 8.96e-04  -3.8 4.10e-03 -10.6 1.00e+00 1.00e+00w  1\n",
      "  65 -7.0016963e+00 5.81e-04 1.03e+01  -5.0 1.92e-01 -11.0 1.00e+00 2.77e-01h  1\n",
      "  66 -7.0019581e+00 1.12e-04 2.41e-01  -5.0 2.48e-02 -11.5 1.00e+00 1.00e+00h  1\n",
      "  67 -7.0019343e+00 1.59e-05 1.21e-02  -5.0 3.67e-03 -12.0 1.00e+00 1.00e+00h  1\n",
      "  68 -7.0019383e+00 1.82e-06 2.23e-03  -5.0 1.28e-03 -12.5 1.00e+00 1.00e+00h  1\n",
      "  69 -7.0019382e+00 2.70e-08 1.20e-04  -5.0 1.56e-04 -12.9 1.00e+00 1.00e+00h  1\n",
      "\n",
      "Number of Iterations....: 69\n",
      "\n",
      "                                   (scaled)                 (unscaled)\n",
      "Objective...............:  -7.0019382282940930e+00   -7.0019382282940930e+00\n",
      "Dual infeasibility......:   1.2040398309250827e-04    1.2040398309250827e-04\n",
      "Constraint violation....:   2.6974424651403373e-08    2.6974424651403373e-08\n",
      "Variable bound violation:   0.0000000000000000e+00    0.0000000000000000e+00\n",
      "Complementarity.........:   9.0984060821085911e-06    9.0984060821085911e-06\n",
      "Overall NLP error.......:   2.1575124056682657e-05    1.2040398309250827e-04\n",
      "\n",
      "\n",
      "Number of objective function evaluations             = 116\n",
      "Number of objective gradient evaluations             = 60\n",
      "Number of equality constraint evaluations            = 116\n",
      "Number of inequality constraint evaluations          = 116\n",
      "Number of equality constraint Jacobian evaluations   = 71\n",
      "Number of inequality constraint Jacobian evaluations = 71\n",
      "Number of Lagrangian Hessian evaluations             = 69\n",
      "Total seconds in IPOPT                               = 0.171\n",
      "\n",
      "EXIT: Optimal Solution Found.\n",
      "      solver  :   t_proc      (avg)   t_wall      (avg)    n_eval\n",
      "       nlp_f  | 180.00us (  1.55us) 163.08us (  1.41us)       116\n",
      "       nlp_g  |   8.57ms ( 73.90us)   8.59ms ( 74.01us)       116\n",
      "  nlp_grad_f  | 128.00us (  2.10us) 122.59us (  2.01us)        61\n",
      "  nlp_hess_l  |  21.67ms (318.69us)  21.77ms (320.10us)        68\n",
      "   nlp_jac_g  |  50.33ms (699.04us)  50.78ms (705.21us)        72\n",
      "       total  | 172.68ms (172.68ms) 173.98ms (173.98ms)         1\n"
     ]
    }
   ],
   "source": [
    "# problem = co.admm_consensus2(mu, L_smooth, R, Inductance)\n",
    "# problem = co.admm_consensus(n_func, mu, L_smooth, R, Inductance)\n",
    "problem = co.admm_consensus_pep(mu, L_smooth, R, Inductance)\n",
    "problem.obj = problem.b + problem.d\n",
    "\n",
    "# bounds = {  'b': {\"ub\": 0.1, \"lb\": 0.1},\n",
    "#             'h': {\"ub\": 1, \"lb\": 0},\n",
    "#             'alpha': {\"ub\": 1, \"lb\": 1},\n",
    "#             'beta': {\"ub\": 1, \"lb\": 1},}\n",
    "\n",
    "# bounds = {  'b': {\"ub\": 10, \"lb\": 0.},\n",
    "#             'd': {\"ub\": 0, \"lb\": 0.},\n",
    "#             'h': {\"ub\": 10, \"lb\": 0},\n",
    "#             'alpha': {\"ub\": 1, \"lb\": -1},\n",
    "#             'beta': {\"ub\": 1, \"lb\": -1},}\n",
    "\n",
    "res, model = problem.solve(solver=solver, verbose=True)[:2]\n",
    "ca_vars = problem.vars\n",
    "\n",
    "# res = params = {  'b': 10,\n",
    "#             'h': 0.0001,\n",
    "#             'd': 0.,\n",
    "#             'alpha': 0.5,\n",
    "#             'beta': 0.5 }\n",
    "# b = problem.solve(solver=solver, freq=1, max_iters=30, params=params, debug=True)\n",
    "# print(f\"{b = }\")\n",
    "# res[\"b\"] = b"
   ]
  },
  {
   "cell_type": "code",
   "execution_count": 5,
   "metadata": {},
   "outputs": [
    {
     "data": {
      "text/plain": [
       "{'b': 1.001956775390173,\n",
       " 'h': 0.9999044725934395,\n",
       " 'd': 5.99998145290392,\n",
       " 'alpha': 0.0,\n",
       " 'beta': 0.0}"
      ]
     },
     "execution_count": 5,
     "metadata": {},
     "output_type": "execute_result"
    }
   ],
   "source": [
    "res"
   ]
  },
  {
   "cell_type": "markdown",
   "metadata": {},
   "source": [
    "# PEP verification"
   ]
  },
  {
   "cell_type": "code",
   "execution_count": 6,
   "metadata": {},
   "outputs": [],
   "source": [
    "# res = {'b': 1,\n",
    "#         'h': 1,\n",
    "#         'd': 0.,\n",
    "#         'alpha': 0,\n",
    "#         'beta': 1}"
   ]
  },
  {
   "cell_type": "code",
   "execution_count": 9,
   "metadata": {},
   "outputs": [
    {
     "name": "stdout",
     "output_type": "stream",
     "text": [
      "(PEPit) Setting up the problem: size of the main PSD matrix: 7x7\n",
      "(PEPit) Setting up the problem: performance measure is minimum of 1 element(s)\n",
      "(PEPit) Setting up the problem: Adding initial conditions and general constraints ...\n",
      "(PEPit) Setting up the problem: initial conditions and general constraints (2 constraint(s) added)\n",
      "(PEPit) Setting up the problem: interpolation conditions for 2 function(s)\n",
      "\t\t function 1 : Adding 6 scalar constraint(s) ...\n",
      "\t\t function 1 : 6 scalar constraint(s) added\n",
      "\t\t function 2 : Adding 6 scalar constraint(s) ...\n",
      "\t\t function 2 : 6 scalar constraint(s) added\n",
      "(PEPit) Setting up the problem: constraints for 0 function(s)\n",
      "(PEPit) Compiling SDP\n",
      "(PEPit) Calling SDP solver\n",
      "(PEPit) Solver status: optimal (solver: MOSEK); optimal value: -2.220136031613751e-09\n",
      "\u001b[96m(PEPit) Postprocessing: solver's output is not entirely feasible (smallest eigenvalue of the Gram matrix is: -7.38e-09 < 0).\n",
      " Small deviation from 0 may simply be due to numerical error. Big ones should be deeply investigated.\n",
      " In any case, from now the provided values of parameters are based on the projection of the Gram matrix onto the cone of symmetric semi-definite matrix.\u001b[0m\n",
      "diff=-2.220136031613751e-09\n"
     ]
    }
   ],
   "source": [
    "# problem = co.admm_consensus_pep(n_func, mu, L_smooth, R, Inductance, params=res)\n",
    "problem = co.admm_consensus_pep(mu, L_smooth, R, Inductance, params=res)\n",
    "diff = problem.solve(verbose=1, solver=cp.MOSEK)\n",
    "print(f\"{diff=}\")"
   ]
  },
  {
   "cell_type": "code",
   "execution_count": null,
   "metadata": {},
   "outputs": [],
   "source": []
  },
  {
   "cell_type": "code",
   "execution_count": null,
   "metadata": {},
   "outputs": [],
   "source": []
  }
 ],
 "metadata": {
  "kernelspec": {
   "display_name": "osbdo",
   "language": "python",
   "name": "python3"
  },
  "language_info": {
   "codemirror_mode": {
    "name": "ipython",
    "version": 3
   },
   "file_extension": ".py",
   "mimetype": "text/x-python",
   "name": "python",
   "nbconvert_exporter": "python",
   "pygments_lexer": "ipython3",
   "version": "3.10.13"
  }
 },
 "nbformat": 4,
 "nbformat_minor": 2
}
