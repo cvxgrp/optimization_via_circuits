{
 "cells": [
  {
   "cell_type": "code",
   "execution_count": 1,
   "metadata": {},
   "outputs": [],
   "source": [
    "import ciropt as co\n",
    "import cvxpy as cp"
   ]
  },
  {
   "cell_type": "code",
   "execution_count": 2,
   "metadata": {},
   "outputs": [],
   "source": [
    "L_smooth = 1.\n",
    "mu = 0.0001\n",
    "Capacitance = 1.\n",
    "\n",
    "time_limit = 100\n",
    "ps = 10\n",
    "psm = 1\n",
    "\n",
    "solver = \"gp_canonical_X\"\n",
    "# solver = \"gp\""
   ]
  },
  {
   "cell_type": "markdown",
   "metadata": {},
   "source": [
    "# Ciropt problem"
   ]
  },
  {
   "cell_type": "code",
   "execution_count": 3,
   "metadata": {},
   "outputs": [
    {
     "name": "stdout",
     "output_type": "stream",
     "text": [
      "dim_G=5, dim_F=4\n",
      "Set parameter Username\n",
      "Academic license - for non-commercial use only - expires 2024-10-31\n",
      "<class 'numpy.ndarray'> <class 'gurobipy.MQuadExpr'> <class 'numpy.ndarray'>\n"
     ]
    },
    {
     "name": "stderr",
     "output_type": "stream",
     "text": [
      "/Users/parshakova.tanya/Documents/projects/Circuits/circuit_analysis/ciropt/circuit_opt.py:495: RuntimeWarning: Chained matrix multiplications of MVars is inefficient, collect numeric terms first when building expressions\n",
      "  model.addConstr(  (M1 @ var_x).item()  - gp_trace(M2 @ var_X) == 0)\n"
     ]
    },
    {
     "name": "stdout",
     "output_type": "stream",
     "text": [
      "<class 'numpy.ndarray'> <class 'gurobipy.MQuadExpr'> <class 'numpy.ndarray'>\n",
      "<class 'numpy.ndarray'> <class 'gurobipy.MQuadExpr'> <class 'numpy.ndarray'>\n",
      "<class 'numpy.ndarray'> <class 'gurobipy.MQuadExpr'> <class 'numpy.ndarray'>\n"
     ]
    },
    {
     "name": "stderr",
     "output_type": "stream",
     "text": [
      "/Users/parshakova.tanya/Documents/projects/Circuits/circuit_analysis/ciropt/circuit_opt.py:509: RuntimeWarning: Chained matrix multiplications of MVars is inefficient, collect numeric terms first when building expressions\n",
      "  + gp_trace(M2 @ var_X) \\\n",
      "/Users/parshakova.tanya/Documents/projects/Circuits/circuit_analysis/ciropt/circuit_opt.py:510: RuntimeWarning: Chained matrix multiplications of MVars is inefficient, collect numeric terms first when building expressions\n",
      "  - gp_trace(M3 @ var_X) == 0)\n",
      "/Users/parshakova.tanya/Documents/projects/Circuits/circuit_analysis/ciropt/circuit_opt.py:525: RuntimeWarning: Chained matrix multiplications of MVars is inefficient, collect numeric terms first when building expressions\n",
      "  model.addConstr( gp_trace(M1 @ var_X) + (M2 @ var_x).item() == 0)\n"
     ]
    },
    {
     "name": "stdout",
     "output_type": "stream",
     "text": [
      "Set parameter NonConvex to value 2\n",
      "Set parameter TimeLimit to value 100\n",
      "Set parameter FeasibilityTol to value 1e-09\n",
      "Set parameter Method to value 0\n",
      "Set parameter PoolSearchMode to value 1\n",
      "Set parameter Heuristics to value 0.001\n",
      "Gurobi Optimizer version 10.0.3 build v10.0.3rc0 (mac64[rosetta2])\n",
      "\n",
      "CPU model: Apple M2\n",
      "Thread count: 8 physical cores, 8 logical processors, using up to 8 threads\n",
      "\n",
      "Optimize a model with 25 rows, 47 columns and 25 nonzeros\n",
      "Model fingerprint: 0xc31bf274\n",
      "Model has 43 quadratic constraints\n",
      "Coefficient statistics:\n",
      "  Matrix range     [1e+00, 1e+00]\n",
      "  QMatrix range    [5e-05, 1e+00]\n",
      "  QLMatrix range   [5e-01, 1e+00]\n",
      "  Objective range  [1e+00, 1e+00]\n",
      "  Bounds range     [1e+03, 1e+03]\n",
      "  RHS range        [1e+00, 1e+00]\n",
      "Warning: Only barrier available for SOCP models\n",
      "Presolve removed 25 rows and 2 columns\n",
      "\n",
      "Continuous model is non-convex -- solving as a MIP\n",
      "\n",
      "Presolve removed 21 rows and 2 columns\n",
      "Presolve time: 0.00s\n",
      "Presolved: 378 rows, 123 columns, 1079 nonzeros\n",
      "Presolved model has 95 bilinear constraint(s)\n",
      "Variable types: 123 continuous, 0 integer (0 binary)\n",
      "\n",
      "Root relaxation: objective -1.824026e+02, 254 iterations, 0.00 seconds (0.00 work units)\n",
      "\n",
      "    Nodes    |    Current Node    |     Objective Bounds      |     Work\n",
      " Expl Unexpl |  Obj  Depth IntInf | Incumbent    BestBd   Gap | It/Node Time\n",
      "\n",
      "     0     0 -182.40262    0   61          - -182.40262      -     -    0s\n",
      "     0     0 -146.57661    0   60          - -146.57661      -     -    0s\n",
      "     0     0 -146.03189    0   53          - -146.03189      -     -    0s\n",
      "     0     0 -131.71450    0   78          - -131.71450      -     -    0s\n",
      "     0     0 -129.34699    0   86          - -129.34699      -     -    0s\n",
      "     0     0 -129.34436    0   59          - -129.34436      -     -    0s\n",
      "     0     0 -127.03261    0   87          - -127.03261      -     -    0s\n",
      "     0     0 -117.67024    0   87          - -117.67024      -     -    0s\n",
      "     0     0 -107.43662    0   87          - -107.43662      -     -    0s\n",
      "     0     0 -107.35497    0   87          - -107.35497      -     -    0s\n",
      "     0     0 -107.30864    0   87          - -107.30864      -     -    0s\n",
      "     0     0 -104.95532    0   87          - -104.95532      -     -    0s\n",
      "     0     0  -92.62613    0   64          -  -92.62613      -     -    0s\n",
      "     0     0  -92.52711    0   63          -  -92.52711      -     -    0s\n",
      "     0     0  -83.94196    0   64          -  -83.94196      -     -    0s\n",
      "     0     0  -83.80852    0   86          -  -83.80852      -     -    0s\n",
      "     0     0  -80.60209    0   85          -  -80.60209      -     -    0s\n",
      "     0     0  -80.48567    0   83          -  -80.48567      -     -    0s\n",
      "     0     0  -77.41610    0   83          -  -77.41610      -     -    0s\n",
      "     0     0  -77.40593    0   85          -  -77.40593      -     -    0s\n",
      "     0     0  -74.70998    0   85          -  -74.70998      -     -    0s\n",
      "     0     0  -74.65928    0   85          -  -74.65928      -     -    0s\n",
      "     0     0  -71.73983    0   86          -  -71.73983      -     -    0s\n",
      "     0     0  -70.73993    0   86          -  -70.73993      -     -    0s\n",
      "     0     0  -68.74522    0   61          -  -68.74522      -     -    0s\n",
      "     0     0  -68.62950    0   61          -  -68.62950      -     -    0s\n",
      "     0     0  -67.38365    0   87          -  -67.38365      -     -    0s\n",
      "     0     0  -67.09463    0   87          -  -67.09463      -     -    0s\n",
      "     0     0  -66.84316    0   87          -  -66.84316      -     -    0s\n",
      "     0     0  -66.82226    0   86          -  -66.82226      -     -    0s\n",
      "     0     0  -66.32260    0   63          -  -66.32260      -     -    0s\n",
      "     0     0  -66.04321    0   61          -  -66.04321      -     -    0s\n",
      "     0     0  -65.85844    0   61          -  -65.85844      -     -    0s\n",
      "     0     0  -65.66972    0   61          -  -65.66972      -     -    0s\n",
      "     0     2  -65.66972    0   61          -  -65.66972      -     -    0s\n",
      "  4529  1881 infeasible   37        -1.00000  -33.53503  3254%  63.8    5s\n",
      "  8968  3692  -32.98743   34   81   -1.00000  -33.30422  3230%  73.0   10s\n",
      " 15442  6847 infeasible   42        -1.00000  -33.15339  3215%  77.8   15s\n",
      " 23491 10656  -32.64088   44   58   -1.00000  -32.95420  3195%  82.5   20s\n",
      " 33295 15756  -17.99512   42   54   -1.00000  -32.78374  3178%  83.7   25s\n",
      " 41543 19616 infeasible   46        -1.00000  -32.59019  3159%  84.0   30s\n",
      " 48992 23515   -8.82529   55   69   -1.00000  -32.43423  3143%  84.2   35s\n",
      " 56525 27848  -14.22077   38   86   -1.00000  -32.30228  3130%  84.0   40s\n",
      " 64832 32365  -28.65227   43   81   -1.00000  -32.14189  3114%  83.7   45s\n",
      " 71554 36032  -17.65536   44   57   -1.00000  -32.02019  3102%  83.6   50s\n",
      " 78919 40656  -13.24965   52   67   -1.00000  -31.92434  3092%  83.5   55s\n",
      " 86318 44819   -5.32312   50   70   -1.00000  -31.80016  3080%  83.2   60s\n",
      " 93423 48846  -11.49324   52   67   -1.00000  -31.66797  3067%  83.2   65s\n",
      " 101345 52533   -3.27900   87   61   -1.00000  -31.44061  3044%  83.3   70s\n",
      " 112259 57799   -8.16410   48   61   -1.00000  -30.95448  2995%  83.8   75s\n",
      " 124371 64064   -1.71543   60   53   -1.00000  -30.50957  2951%  84.2   80s\n",
      " 135514 71045   -2.86817   50   56   -1.00000  -30.38191  2938%  83.9   85s\n",
      " 144629 76592  -21.51956   45   66   -1.00000  -30.31276  2931%  83.7   90s\n",
      " 151304 80995  -27.22325   38   78   -1.00000  -30.27315  2927%  83.4   95s\n",
      " 158583 85380 infeasible   59        -1.00000  -30.22433  2922%  83.2  100s\n",
      "\n",
      "Cutting planes:\n",
      "  RLT: 58\n",
      "  BQP: 4\n",
      "  PSD: 41\n",
      "\n",
      "Explored 158854 nodes (13214630 simplex iterations) in 100.05 seconds (59.75 work units)\n",
      "Thread count was 8 (of 8 available processors)\n",
      "\n",
      "Solution count 1: -1 \n",
      "\n",
      "Time limit reached\n",
      "Warning: max constraint violation (1.8978e-08) exceeds tolerance\n",
      "Best objective -9.999999970169e-01, best bound -3.022197594349e+01, gap 2922.1976%\n",
      "{'b': 0.9999999970168865, 'h': 2.362919398175109, 'd': 1000.0, 'alpha': 0.4231896162011234, 'beta': 0.4231517686761676}\n"
     ]
    }
   ],
   "source": [
    "problem = co.gradient_flow_circuit(mu, L_smooth, Capacitance)\n",
    "\n",
    "res, model, sp_exp = problem.solve(solver=solver, verbose=True, debug=True, time_limit=time_limit, psm=psm, ps=ps)[:3]\n",
    "print(res)"
   ]
  },
  {
   "cell_type": "code",
   "execution_count": 4,
   "metadata": {},
   "outputs": [],
   "source": [
    "# model.tune()\n",
    "\n",
    "# for i in range(model.tuneResultCount):\n",
    "#     model.getTuneResult(i)\n",
    "#     model.write('tune'+str(i)+'.prm')\n",
    "\n",
    "# gp_vars = {name : var_x[idx].item() for name, idx in problem.name2idx.items()}\n",
    "# co.gp_print_solutions(model, gp_vars, all=False)"
   ]
  },
  {
   "cell_type": "code",
   "execution_count": 6,
   "metadata": {},
   "outputs": [
    {
     "name": "stdout",
     "output_type": "stream",
     "text": [
      "\n",
      "Solution quality statistics for model Unnamed :\n",
      "  Maximum violation:\n",
      "    Bound       : 0.00000000e+00\n",
      "    Constraint  : 1.89779305e-08 (QC22)\n",
      "    Integrality : 0.00000000e+00\n",
      "None\n"
     ]
    }
   ],
   "source": [
    "print(model.printQuality())"
   ]
  },
  {
   "cell_type": "code",
   "execution_count": 8,
   "metadata": {},
   "outputs": [
    {
     "data": {
      "text/plain": [
       "{'b': 0.9999999970168865,\n",
       " 'h': 2.362919398175109,\n",
       " 'd': 1000.0,\n",
       " 'alpha': 0.4231896162011234,\n",
       " 'beta': 0.4231517686761676}"
      ]
     },
     "execution_count": 8,
     "metadata": {},
     "output_type": "execute_result"
    }
   ],
   "source": [
    "res"
   ]
  },
  {
   "cell_type": "markdown",
   "metadata": {},
   "source": [
    "# PEP verification"
   ]
  },
  {
   "cell_type": "code",
   "execution_count": 9,
   "metadata": {},
   "outputs": [],
   "source": [
    "import PEPit\n",
    "from PEPit.functions import SmoothStronglyConvexFunction, SmoothConvexFunction\n",
    "from PEPit.primitive_steps import proximal_step\n",
    "\n",
    "b = res[\"b\"] \n",
    "h = res[\"h\"]\n",
    "alpha = res[\"alpha\"]\n",
    "beta = res[\"beta\"]"
   ]
  },
  {
   "cell_type": "code",
   "execution_count": 10,
   "metadata": {},
   "outputs": [
    {
     "name": "stdout",
     "output_type": "stream",
     "text": [
      "diff=-1.3067190662852113e-09\n"
     ]
    }
   ],
   "source": [
    "problem = PEPit.PEP()\n",
    "func = problem.declare_function(\n",
    "                    SmoothStronglyConvexFunction,\n",
    "                    mu=mu, \n",
    "                    L=L_smooth) \n",
    "\n",
    "\n",
    "x_P_star = func.stationary_point()\n",
    "g_star, f_star = func.oracle(x_P_star)\n",
    "x_P_1 = problem.set_initial_point()\n",
    "\n",
    "g_1, f_1 = func.oracle(x_P_1)\n",
    "x_P_1p5 = x_P_1 - (alpha * h / Capacitance) * g_1 \n",
    "g_1p5, f_1p5 = func.oracle(x_P_1p5)\n",
    "x_P_2 = x_P_1  - (beta * h / Capacitance) * g_1 - ((1 - beta) * h / Capacitance) * g_1p5\n",
    "\n",
    "g_2, f_2 = func.oracle(x_P_2)\n",
    "\n",
    "# Set the performance metric to the function values accuracy\n",
    "E_1 = (Capacitance/2) * (x_P_1 - x_P_star)**2\n",
    "E_2 = (Capacitance/2) * (x_P_2 - x_P_star)**2\n",
    "Delta_1 = b * (f_1 - f_star)\n",
    "problem.set_performance_metric(E_2 - (E_1 - Delta_1))\n",
    "\n",
    "# Solve the PEP with verbose = 1\n",
    "verbose = 0\n",
    "diff = problem.solve(verbose=verbose, solver=cp.MOSEK)\n",
    "print(f\"{diff=}\")"
   ]
  },
  {
   "cell_type": "code",
   "execution_count": null,
   "metadata": {},
   "outputs": [],
   "source": []
  }
 ],
 "metadata": {
  "kernelspec": {
   "display_name": "osbdo",
   "language": "python",
   "name": "python3"
  },
  "language_info": {
   "codemirror_mode": {
    "name": "ipython",
    "version": 3
   },
   "file_extension": ".py",
   "mimetype": "text/x-python",
   "name": "python",
   "nbconvert_exporter": "python",
   "pygments_lexer": "ipython3",
   "version": "3.10.13"
  }
 },
 "nbformat": 4,
 "nbformat_minor": 2
}
