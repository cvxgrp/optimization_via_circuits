{
 "cells": [
  {
   "cell_type": "code",
   "execution_count": 1,
   "metadata": {},
   "outputs": [],
   "source": [
    "import ciropt as co\n",
    "import cvxpy as cp"
   ]
  },
  {
   "cell_type": "code",
   "execution_count": 2,
   "metadata": {},
   "outputs": [],
   "source": [
    "L_smooth = 1.\n",
    "mu = 0.0001\n",
    "Capacitance = 1.\n",
    "\n",
    "time_limit = 100\n",
    "ps = 10\n",
    "psm = 1\n",
    "\n",
    "solver = \"gp_canonical_X\"\n",
    "# solver = \"gp\""
   ]
  },
  {
   "cell_type": "markdown",
   "metadata": {},
   "source": [
    "# Ciropt problem"
   ]
  },
  {
   "cell_type": "code",
   "execution_count": 3,
   "metadata": {},
   "outputs": [
    {
     "name": "stdout",
     "output_type": "stream",
     "text": [
      "dim_G=5, dim_F=4\n",
      "Set parameter Username\n",
      "Academic license - for non-commercial use only - expires 2024-10-31\n",
      "<class 'numpy.ndarray'> <class 'gurobipy.MQuadExpr'> <class 'numpy.ndarray'>\n"
     ]
    },
    {
     "name": "stderr",
     "output_type": "stream",
     "text": [
      "/Users/parshakova.tanya/Documents/projects/Circuits/optimization_via_circuits/ciropt/extra_methods.py:250: RuntimeWarning: Chained matrix multiplications of MVars is inefficient, collect numeric terms first when building expressions\n",
      "  model.addConstr(  (M1 @ var_x).item()  - gp_trace(M2 @ var_X) == 0)\n"
     ]
    },
    {
     "name": "stdout",
     "output_type": "stream",
     "text": [
      "<class 'numpy.ndarray'> <class 'gurobipy.MQuadExpr'> <class 'numpy.ndarray'>\n",
      "<class 'numpy.ndarray'> <class 'gurobipy.MQuadExpr'> <class 'numpy.ndarray'>\n",
      "<class 'numpy.ndarray'> <class 'gurobipy.MQuadExpr'> <class 'numpy.ndarray'>\n"
     ]
    },
    {
     "name": "stderr",
     "output_type": "stream",
     "text": [
      "/Users/parshakova.tanya/Documents/projects/Circuits/optimization_via_circuits/ciropt/extra_methods.py:265: RuntimeWarning: Chained matrix multiplications of MVars is inefficient, collect numeric terms first when building expressions\n",
      "  + gp_trace(M2 @ var_X) \\\n",
      "/Users/parshakova.tanya/Documents/projects/Circuits/optimization_via_circuits/ciropt/extra_methods.py:266: RuntimeWarning: Chained matrix multiplications of MVars is inefficient, collect numeric terms first when building expressions\n",
      "  - gp_trace(M3 @ var_X) == 0)\n",
      "/Users/parshakova.tanya/Documents/projects/Circuits/optimization_via_circuits/ciropt/extra_methods.py:279: RuntimeWarning: Chained matrix multiplications of MVars is inefficient, collect numeric terms first when building expressions\n",
      "  model.addConstr( gp_trace(M1 @ var_X) + (M2 @ var_x).item() == 0)\n"
     ]
    },
    {
     "name": "stdout",
     "output_type": "stream",
     "text": [
      "Set parameter NonConvex to value 2\n",
      "Set parameter TimeLimit to value 100\n",
      "Set parameter FeasibilityTol to value 1e-09\n",
      "Set parameter Method to value 0\n",
      "Set parameter PoolSearchMode to value 1\n",
      "Set parameter Heuristics to value 0.001\n",
      "Gurobi Optimizer version 10.0.3 build v10.0.3rc0 (mac64[rosetta2])\n",
      "\n",
      "CPU model: Apple M2\n",
      "Thread count: 8 physical cores, 8 logical processors, using up to 8 threads\n",
      "\n",
      "Optimize a model with 25 rows, 48 columns and 25 nonzeros\n",
      "Model fingerprint: 0x0a22a539\n",
      "Model has 43 quadratic constraints\n",
      "Coefficient statistics:\n",
      "  Matrix range     [1e+00, 1e+00]\n",
      "  QMatrix range    [5e-05, 1e+00]\n",
      "  QLMatrix range   [5e-01, 1e+00]\n",
      "  Objective range  [1e+00, 1e+00]\n",
      "  Bounds range     [1e+03, 1e+03]\n",
      "  RHS range        [1e+00, 1e+00]\n",
      "Warning: Only barrier available for SOCP models\n",
      "Presolve removed 25 rows and 3 columns\n",
      "\n",
      "Continuous model is non-convex -- solving as a MIP\n",
      "\n",
      "Presolve removed 21 rows and 3 columns\n",
      "Presolve time: 0.00s\n",
      "Presolved: 378 rows, 123 columns, 1079 nonzeros\n",
      "Presolved model has 95 bilinear constraint(s)\n",
      "Variable types: 123 continuous, 0 integer (0 binary)\n",
      "\n",
      "Root relaxation: objective -1.824032e+02, 227 iterations, 0.01 seconds (0.00 work units)\n",
      "\n",
      "    Nodes    |    Current Node    |     Objective Bounds      |     Work\n",
      " Expl Unexpl |  Obj  Depth IntInf | Incumbent    BestBd   Gap | It/Node Time\n",
      "\n",
      "     0     0 -182.40321    0   57          - -182.40321      -     -    0s\n",
      "     0     0 -182.03817    0   66          - -182.03817      -     -    0s\n",
      "     0     0 -170.45169    0   75          - -170.45169      -     -    0s\n",
      "     0     0 -169.51401    0   75          - -169.51401      -     -    0s\n",
      "     0     0 -148.65965    0   80          - -148.65965      -     -    0s\n",
      "     0     0 -148.10896    0   79          - -148.10896      -     -    0s\n",
      "     0     0 -142.35725    0   82          - -142.35725      -     -    0s\n",
      "     0     0 -142.16599    0   87          - -142.16599      -     -    0s\n",
      "     0     0 -138.36045    0   87          - -138.36045      -     -    0s\n",
      "     0     0 -137.73491    0   87          - -137.73491      -     -    0s\n",
      "     0     0 -117.39413    0   77          - -117.39413      -     -    0s\n",
      "     0     0 -104.36502    0   86          - -104.36502      -     -    0s\n",
      "     0     0  -89.86111    0   62          -  -89.86111      -     -    0s\n",
      "     0     0  -88.79337    0   62          -  -88.79337      -     -    0s\n",
      "     0     0  -83.25376    0   58          -  -83.25376      -     -    0s\n",
      "     0     0  -81.47731    0   60          -  -81.47731      -     -    0s\n",
      "     0     0  -81.27406    0   60          -  -81.27406      -     -    0s\n",
      "     0     0  -81.22167    0   60          -  -81.22167      -     -    0s\n",
      "     0     0  -79.31578    0   60          -  -79.31578      -     -    0s\n",
      "     0     0  -79.26862    0   84          -  -79.26862      -     -    0s\n",
      "     0     0  -77.35819    0   87          -  -77.35819      -     -    0s\n",
      "     0     0  -77.30620    0   87          -  -77.30620      -     -    0s\n",
      "     0     0  -75.10995    0   87          -  -75.10995      -     -    0s\n",
      "     0     0  -75.03557    0   86          -  -75.03557      -     -    0s\n",
      "     0     0  -74.73476    0   61          -  -74.73476      -     -    0s\n",
      "     0     0  -74.65543    0   61          -  -74.65543      -     -    0s\n",
      "     0     2  -74.65543    0   61          -  -74.65543      -     -    0s\n",
      "  1863  1166   -5.77380   33    0   -1.00000  -29.66855  2867%  53.2    5s\n",
      "  4851  1867   -1.65139   74   42   -1.00000  -26.79212  2579%  55.8   10s\n",
      "  9802  4213  -24.66394   65   59   -1.00000  -26.59312  2559%  64.7   15s\n",
      " 14103  6182  -19.46986   67   68   -1.00000  -26.49686  2550%  67.6   20s\n",
      " 19575  8824 infeasible   66        -1.00000  -26.40966  2541%  71.6   25s\n",
      " 25707 11253   -1.61016  112   48   -1.00000  -26.30380  2530%  74.4   30s\n",
      " 39640 17248 infeasible   71        -1.00000  -26.12887  2513%  75.6   35s\n",
      " 55566 23722   -7.58375   73   45   -1.00000  -25.96727  2497%  79.4   40s\n",
      " 70867 28947  -18.99102   74   76   -1.00000  -25.83712  2484%  81.4   45s\n",
      " 86249 34987   -5.31403   84   40   -1.00000  -25.72635  2473%  82.6   50s\n",
      " 100440 38712  -20.39868   94   64   -1.00000  -25.55775  2456%  84.9   55s\n",
      " 113015 42457 infeasible   67        -1.00000  -25.40872  2441%  86.4   60s\n",
      " 124944 46962   -5.15211   65   58   -1.00000  -25.32195  2432%  86.9   65s\n",
      " 137644 52369 infeasible   78        -1.00000  -25.25080  2425%  86.8   70s\n",
      " 150157 57284  -19.72948   69   72   -1.00000  -25.16746  2417%  87.2   75s\n",
      " 163523 61187  -23.67678   68   76   -1.00000  -25.06450  2406%  88.0   80s\n",
      " 177538 65685  -17.02028   64   41   -1.00000  -24.98200  2398%  88.5   85s\n",
      " 191030 69430   -3.30312   86   79   -1.00000  -24.87039  2387%  89.1   90s\n",
      " 204265 73183 infeasible   69        -1.00000  -24.76504  2377%  89.7   95s\n",
      " 216933 76299  -14.08978   66   74   -1.00000  -24.66903  2367%  90.4  100s\n",
      "\n",
      "Cutting planes:\n",
      "  RLT: 49\n",
      "  BQP: 3\n",
      "  PSD: 41\n",
      "\n",
      "Explored 217714 nodes (19678746 simplex iterations) in 100.01 seconds (88.82 work units)\n",
      "Thread count was 8 (of 8 available processors)\n",
      "\n",
      "Solution count 1: -1 \n",
      "\n",
      "Time limit reached\n",
      "Warning: max constraint violation (1.4584e-08) exceeds tolerance\n",
      "Best objective -9.999999970132e-01, best bound -2.466582910636e+01, gap 2366.5829%\n",
      "{'b': 0.9999999970132463, 'h': 2.327498912461208, 'd': 1000.0, 'alpha': 0.429633369497114, 'beta': 0.42959733754829854}\n"
     ]
    }
   ],
   "source": [
    "problem = co.gradient_flow_circuit(mu, L_smooth, Capacitance)\n",
    "problem.obj = problem.b\n",
    "res, model, sp_exp = problem.solve(solver=solver, verbose=True, debug=True, time_limit=time_limit, psm=psm, ps=ps)[:3]\n",
    "print(res)"
   ]
  },
  {
   "cell_type": "code",
   "execution_count": 4,
   "metadata": {},
   "outputs": [],
   "source": [
    "# model.tune()\n",
    "\n",
    "# for i in range(model.tuneResultCount):\n",
    "#     model.getTuneResult(i)\n",
    "#     model.write('tune'+str(i)+'.prm')\n",
    "\n",
    "# gp_vars = {name : var_x[idx].item() for name, idx in problem.name2idx.items()}\n",
    "# co.gp_print_solutions(model, gp_vars, all=False)"
   ]
  },
  {
   "cell_type": "code",
   "execution_count": 5,
   "metadata": {},
   "outputs": [
    {
     "name": "stdout",
     "output_type": "stream",
     "text": [
      "\n",
      "Solution quality statistics for model Unnamed :\n",
      "  Maximum violation:\n",
      "    Bound       : 0.00000000e+00\n",
      "    Constraint  : 1.45842935e-08 (QC22)\n",
      "    Integrality : 0.00000000e+00\n",
      "None\n"
     ]
    }
   ],
   "source": [
    "print(model.printQuality())"
   ]
  },
  {
   "cell_type": "markdown",
   "metadata": {},
   "source": [
    "# PEP verification"
   ]
  },
  {
   "cell_type": "code",
   "execution_count": 6,
   "metadata": {},
   "outputs": [
    {
     "data": {
      "text/plain": [
       "{'b': 0.9999999970132463,\n",
       " 'h': 2.327498912461208,\n",
       " 'd': 1000.0,\n",
       " 'alpha': 0.429633369497114,\n",
       " 'beta': 0.42959733754829854}"
      ]
     },
     "execution_count": 6,
     "metadata": {},
     "output_type": "execute_result"
    }
   ],
   "source": [
    "res"
   ]
  },
  {
   "cell_type": "code",
   "execution_count": 7,
   "metadata": {},
   "outputs": [
    {
     "name": "stdout",
     "output_type": "stream",
     "text": [
      "diff=-1.62876279130586e-09\n"
     ]
    }
   ],
   "source": [
    "problem = co.gradient_flow_circuit(mu, L_smooth, Capacitance, params=res)\n",
    "diff = problem.solve(verbose=0, solver=cp.MOSEK)\n",
    "print(f\"{diff=}\")"
   ]
  },
  {
   "cell_type": "code",
   "execution_count": null,
   "metadata": {},
   "outputs": [],
   "source": []
  }
 ],
 "metadata": {
  "kernelspec": {
   "display_name": "osbdo",
   "language": "python",
   "name": "python3"
  },
  "language_info": {
   "codemirror_mode": {
    "name": "ipython",
    "version": 3
   },
   "file_extension": ".py",
   "mimetype": "text/x-python",
   "name": "python",
   "nbconvert_exporter": "python",
   "pygments_lexer": "ipython3",
   "version": "3.10.13"
  }
 },
 "nbformat": 4,
 "nbformat_minor": 2
}
