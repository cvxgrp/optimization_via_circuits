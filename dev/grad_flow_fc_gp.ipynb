{
 "cells": [
  {
   "cell_type": "code",
   "execution_count": 1,
   "metadata": {},
   "outputs": [],
   "source": [
    "import ciropt as co\n",
    "import cvxpy as cp"
   ]
  },
  {
   "cell_type": "code",
   "execution_count": 2,
   "metadata": {},
   "outputs": [],
   "source": [
    "L_smooth = 1.\n",
    "mu = 0.0001\n",
    "Capacitance = 1.\n",
    "\n",
    "time_limit = 100\n",
    "ps = 10\n",
    "psm = 1\n",
    "\n",
    "solver = \"gp_canonical_X\"\n",
    "# solver = \"gp\""
   ]
  },
  {
   "cell_type": "markdown",
   "metadata": {},
   "source": [
    "# Ciropt problem"
   ]
  },
  {
   "cell_type": "code",
   "execution_count": 3,
   "metadata": {},
   "outputs": [
    {
     "name": "stdout",
     "output_type": "stream",
     "text": [
      "dim_G=5, dim_F=4\n",
      "Set parameter Username\n",
      "Academic license - for non-commercial use only - expires 2024-10-31\n",
      "<class 'numpy.ndarray'> <class 'gurobipy.MQuadExpr'> <class 'numpy.ndarray'>\n"
     ]
    },
    {
     "name": "stderr",
     "output_type": "stream",
     "text": [
      "/Users/parshakova.tanya/Documents/projects/Circuits/optimization_via_circuits/ciropt/circuit_opt.py:488: RuntimeWarning: Chained matrix multiplications of MVars is inefficient, collect numeric terms first when building expressions\n",
      "  model.addConstr(  (M1 @ var_x).item()  - gp_trace(M2 @ var_X) == 0)\n"
     ]
    },
    {
     "name": "stdout",
     "output_type": "stream",
     "text": [
      "<class 'numpy.ndarray'> <class 'gurobipy.MQuadExpr'> <class 'numpy.ndarray'>\n",
      "<class 'numpy.ndarray'> <class 'gurobipy.MQuadExpr'> <class 'numpy.ndarray'>\n",
      "<class 'numpy.ndarray'> <class 'gurobipy.MQuadExpr'> <class 'numpy.ndarray'>\n"
     ]
    },
    {
     "name": "stderr",
     "output_type": "stream",
     "text": [
      "/Users/parshakova.tanya/Documents/projects/Circuits/optimization_via_circuits/ciropt/circuit_opt.py:502: RuntimeWarning: Chained matrix multiplications of MVars is inefficient, collect numeric terms first when building expressions\n",
      "  + gp_trace(M2 @ var_X) \\\n",
      "/Users/parshakova.tanya/Documents/projects/Circuits/optimization_via_circuits/ciropt/circuit_opt.py:503: RuntimeWarning: Chained matrix multiplications of MVars is inefficient, collect numeric terms first when building expressions\n",
      "  - gp_trace(M3 @ var_X) == 0)\n",
      "/Users/parshakova.tanya/Documents/projects/Circuits/optimization_via_circuits/ciropt/circuit_opt.py:518: RuntimeWarning: Chained matrix multiplications of MVars is inefficient, collect numeric terms first when building expressions\n",
      "  model.addConstr( gp_trace(M1 @ var_X) + (M2 @ var_x).item() == 0)\n"
     ]
    },
    {
     "name": "stdout",
     "output_type": "stream",
     "text": [
      "Set parameter NonConvex to value 2\n",
      "Set parameter TimeLimit to value 100\n",
      "Set parameter FeasibilityTol to value 1e-09\n",
      "Set parameter Method to value 0\n",
      "Set parameter PoolSearchMode to value 1\n",
      "Set parameter Heuristics to value 0.001\n",
      "Gurobi Optimizer version 10.0.3 build v10.0.3rc0 (mac64[rosetta2])\n",
      "\n",
      "CPU model: Apple M2\n",
      "Thread count: 8 physical cores, 8 logical processors, using up to 8 threads\n",
      "\n",
      "Optimize a model with 25 rows, 47 columns and 25 nonzeros\n",
      "Model fingerprint: 0xc31bf274\n",
      "Model has 43 quadratic constraints\n",
      "Coefficient statistics:\n",
      "  Matrix range     [1e+00, 1e+00]\n",
      "  QMatrix range    [5e-05, 1e+00]\n",
      "  QLMatrix range   [5e-01, 1e+00]\n",
      "  Objective range  [1e+00, 1e+00]\n",
      "  Bounds range     [1e+03, 1e+03]\n",
      "  RHS range        [1e+00, 1e+00]\n",
      "Warning: Only barrier available for SOCP models\n",
      "Presolve removed 25 rows and 2 columns\n",
      "\n",
      "Continuous model is non-convex -- solving as a MIP\n",
      "\n",
      "Presolve removed 21 rows and 2 columns\n",
      "Presolve time: 0.00s\n",
      "Presolved: 378 rows, 123 columns, 1079 nonzeros\n",
      "Presolved model has 95 bilinear constraint(s)\n",
      "Variable types: 123 continuous, 0 integer (0 binary)\n",
      "\n",
      "Root relaxation: objective -1.824026e+02, 254 iterations, 0.00 seconds (0.00 work units)\n",
      "\n",
      "    Nodes    |    Current Node    |     Objective Bounds      |     Work\n",
      " Expl Unexpl |  Obj  Depth IntInf | Incumbent    BestBd   Gap | It/Node Time\n",
      "\n",
      "     0     0 -182.40262    0   61          - -182.40262      -     -    0s\n",
      "     0     0 -146.57661    0   60          - -146.57661      -     -    0s\n",
      "     0     0 -146.03189    0   53          - -146.03189      -     -    0s\n",
      "     0     0 -131.71450    0   78          - -131.71450      -     -    0s\n",
      "     0     0 -129.34699    0   86          - -129.34699      -     -    0s\n",
      "     0     0 -129.34436    0   59          - -129.34436      -     -    0s\n",
      "     0     0 -127.03261    0   87          - -127.03261      -     -    0s\n",
      "     0     0 -117.67024    0   87          - -117.67024      -     -    0s\n",
      "     0     0 -107.43662    0   87          - -107.43662      -     -    0s\n",
      "     0     0 -107.35497    0   87          - -107.35497      -     -    0s\n",
      "     0     0 -107.30864    0   87          - -107.30864      -     -    0s\n",
      "     0     0 -104.95532    0   87          - -104.95532      -     -    0s\n",
      "     0     0  -92.62613    0   64          -  -92.62613      -     -    0s\n",
      "     0     0  -92.52711    0   63          -  -92.52711      -     -    0s\n",
      "     0     0  -83.94196    0   64          -  -83.94196      -     -    0s\n",
      "     0     0  -83.80852    0   86          -  -83.80852      -     -    0s\n",
      "     0     0  -80.60209    0   85          -  -80.60209      -     -    0s\n",
      "     0     0  -80.48567    0   83          -  -80.48567      -     -    0s\n",
      "     0     0  -77.41610    0   83          -  -77.41610      -     -    0s\n",
      "     0     0  -77.40593    0   85          -  -77.40593      -     -    0s\n",
      "     0     0  -74.70998    0   85          -  -74.70998      -     -    0s\n",
      "     0     0  -74.65928    0   85          -  -74.65928      -     -    0s\n",
      "     0     0  -71.73983    0   86          -  -71.73983      -     -    0s\n",
      "     0     0  -70.73993    0   86          -  -70.73993      -     -    0s\n",
      "     0     0  -68.74522    0   61          -  -68.74522      -     -    0s\n",
      "     0     0  -68.62950    0   61          -  -68.62950      -     -    0s\n",
      "     0     0  -67.38365    0   87          -  -67.38365      -     -    0s\n",
      "     0     0  -67.09463    0   87          -  -67.09463      -     -    0s\n",
      "     0     0  -66.84316    0   87          -  -66.84316      -     -    0s\n",
      "     0     0  -66.82226    0   86          -  -66.82226      -     -    0s\n",
      "     0     0  -66.32260    0   63          -  -66.32260      -     -    0s\n",
      "     0     0  -66.04321    0   61          -  -66.04321      -     -    0s\n",
      "     0     0  -65.85844    0   61          -  -65.85844      -     -    0s\n",
      "     0     0  -65.66972    0   61          -  -65.66972      -     -    0s\n",
      "     0     2  -65.66972    0   61          -  -65.66972      -     -    0s\n",
      "  8202  3368  -29.82315   38   81   -1.00000  -33.33146  3233%  71.4    5s\n",
      " 21163  9707   -1.46643   52   48   -1.00000  -33.04109  3204%  81.5   10s\n",
      " 34162 16196  -18.05955   39   53   -1.00000  -32.75483  3175%  83.6   15s\n",
      " 47305 22472  -11.77845   41   70   -1.00000  -32.44890  3145%  84.3   20s\n",
      " 60765 30030  -17.75645   41   51   -1.00000  -32.21522  3122%  83.8   25s\n",
      " 74787 38093  -10.03313   51   74   -1.00000  -31.97813  3098%  83.6   30s\n",
      " 87847 45774 infeasible   49        -1.00000  -31.77546  3078%  83.3   35s\n",
      " 100488 52169  -15.33508   46   64   -1.00000  -31.44818  3045%  83.4   40s\n",
      " 110661 57093 infeasible   54        -1.00000  -31.02260  3002%  83.8   45s\n",
      " 121151 62377 infeasible   54        -1.00000  -30.57461  2957%  84.1   50s\n",
      " 132869 69431   -4.74980   64   72   -1.00000  -30.41096  2941%  84.0   55s\n",
      " 142927 75517 infeasible   47        -1.00000  -30.32432  2932%  83.7   60s\n",
      " 154509 83050   -4.35679   55   58   -1.00000  -30.25253  2925%  83.3   65s\n",
      " 162010 87833 infeasible   43        -1.00000  -30.18415  2918%  83.0   70s\n",
      " 169285 92645  -16.34419   40   55   -1.00000  -30.13250  2913%  82.8   75s\n",
      " 179760 99189   -1.93255   59   66   -1.00000  -30.07935  2908%  82.7   80s\n",
      " 188029 104335   -0.78576   77   39   -1.00000  -30.01974  2902%  82.4   85s\n",
      " 194536 108101  -25.99356   44   91   -1.00000  -29.95938  2896%  82.3   90s\n",
      " 201766 112841  -16.38717   40   55   -1.00000  -29.88976  2889%  82.2   95s\n",
      " 208837 117038   -2.16280   79   43   -1.00000  -29.79073  2879%  82.1  100s\n",
      "\n",
      "Cutting planes:\n",
      "  RLT: 59\n",
      "  BQP: 4\n",
      "  PSD: 44\n",
      "\n",
      "Explored 209542 nodes (17213114 simplex iterations) in 100.01 seconds (77.20 work units)\n",
      "Thread count was 8 (of 8 available processors)\n",
      "\n",
      "Solution count 1: -1 \n",
      "\n",
      "Time limit reached\n",
      "Warning: max constraint violation (1.8978e-08) exceeds tolerance\n",
      "Best objective -9.999999970169e-01, best bound -2.977739668785e+01, gap 2877.7397%\n",
      "{'b': 0.9999999970168865, 'h': 2.362919398175109, 'd': 1000.0, 'alpha': 0.4231896162011234, 'beta': 0.4231517686761676}\n"
     ]
    }
   ],
   "source": [
    "problem = co.gradient_flow_circuit(mu, L_smooth, Capacitance)\n",
    "problem.obj = problem.b\n",
    "res, model, sp_exp = problem.solve(solver=solver, verbose=True, debug=True, time_limit=time_limit, psm=psm, ps=ps)[:3]\n",
    "print(res)"
   ]
  },
  {
   "cell_type": "code",
   "execution_count": 4,
   "metadata": {},
   "outputs": [],
   "source": [
    "# model.tune()\n",
    "\n",
    "# for i in range(model.tuneResultCount):\n",
    "#     model.getTuneResult(i)\n",
    "#     model.write('tune'+str(i)+'.prm')\n",
    "\n",
    "# gp_vars = {name : var_x[idx].item() for name, idx in problem.name2idx.items()}\n",
    "# co.gp_print_solutions(model, gp_vars, all=False)"
   ]
  },
  {
   "cell_type": "code",
   "execution_count": 5,
   "metadata": {},
   "outputs": [
    {
     "name": "stdout",
     "output_type": "stream",
     "text": [
      "\n",
      "Solution quality statistics for model Unnamed :\n",
      "  Maximum violation:\n",
      "    Bound       : 0.00000000e+00\n",
      "    Constraint  : 1.89779305e-08 (QC22)\n",
      "    Integrality : 0.00000000e+00\n",
      "None\n"
     ]
    }
   ],
   "source": [
    "print(model.printQuality())"
   ]
  },
  {
   "cell_type": "markdown",
   "metadata": {},
   "source": [
    "# PEP verification"
   ]
  },
  {
   "cell_type": "code",
   "execution_count": 6,
   "metadata": {},
   "outputs": [
    {
     "data": {
      "text/plain": [
       "{'b': 0.9999999970168865,\n",
       " 'h': 2.362919398175109,\n",
       " 'd': 1000.0,\n",
       " 'alpha': 0.4231896162011234,\n",
       " 'beta': 0.4231517686761676}"
      ]
     },
     "execution_count": 6,
     "metadata": {},
     "output_type": "execute_result"
    }
   ],
   "source": [
    "res"
   ]
  },
  {
   "cell_type": "code",
   "execution_count": 7,
   "metadata": {},
   "outputs": [
    {
     "name": "stdout",
     "output_type": "stream",
     "text": [
      "diff=-1.3067190662852113e-09\n"
     ]
    }
   ],
   "source": [
    "problem = co.gradient_flow_circuit(mu, L_smooth, Capacitance, params=res)\n",
    "diff = problem.solve(verbose=0, solver=cp.MOSEK)\n",
    "print(f\"{diff=}\")"
   ]
  },
  {
   "cell_type": "code",
   "execution_count": null,
   "metadata": {},
   "outputs": [],
   "source": []
  }
 ],
 "metadata": {
  "kernelspec": {
   "display_name": "osbdo",
   "language": "python",
   "name": "python3"
  },
  "language_info": {
   "codemirror_mode": {
    "name": "ipython",
    "version": 3
   },
   "file_extension": ".py",
   "mimetype": "text/x-python",
   "name": "python",
   "nbconvert_exporter": "python",
   "pygments_lexer": "ipython3",
   "version": "3.10.13"
  }
 },
 "nbformat": 4,
 "nbformat_minor": 2
}
