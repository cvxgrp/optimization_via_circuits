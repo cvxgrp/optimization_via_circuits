{
 "cells": [
  {
   "cell_type": "code",
   "execution_count": 1,
   "metadata": {},
   "outputs": [],
   "source": [
    "import ciropt as co\n",
    "import cvxpy as cp"
   ]
  },
  {
   "cell_type": "code",
   "execution_count": 2,
   "metadata": {},
   "outputs": [],
   "source": [
    "L_smooth = 1.\n",
    "mu = 0.00001\n",
    "\n",
    "Inductance = 1#5.\n",
    "R = 1.\n",
    "\n",
    "# solver = \"ca\"\n",
    "# solver = \"ca_canonical\"\n",
    "# solver = \"ca_canonical_X\"\n",
    "# solver = \"qcqp_sni\"\n",
    "solver = \"bisection_b\""
   ]
  },
  {
   "cell_type": "markdown",
   "metadata": {},
   "source": [
    "# Ciropt problem"
   ]
  },
  {
   "cell_type": "code",
   "execution_count": 6,
   "metadata": {},
   "outputs": [
    {
     "name": "stdout",
     "output_type": "stream",
     "text": [
      "t=0, b=10, prob.status='infeasible'\n",
      "t=1, b=5.0, prob.status='infeasible'\n",
      "t=2, b=2.5, prob.status='infeasible'\n",
      "t=3, b=1.25, prob.status='infeasible'\n",
      "t=4, b=0.625, prob.status='infeasible'\n",
      "t=5, b=0.3125, prob.status='infeasible'\n",
      "t=6, b=0.15625, prob.status='infeasible_inaccurate'\n",
      "t=7, b=0.078125, prob.status='infeasible_inaccurate'\n",
      "t=8, b=0.0390625, prob.status='infeasible_inaccurate'\n",
      "t=9, b=0.01953125, prob.status='infeasible_inaccurate'\n",
      "t=10, b=0.009765625, prob.status='infeasible_inaccurate'\n",
      "t=11, b=0.0048828125, prob.status='infeasible_inaccurate'\n",
      "t=12, b=0.00244140625, prob.status='infeasible_inaccurate'\n",
      "t=13, b=0.001220703125, prob.status='infeasible_inaccurate'\n",
      "t=14, b=0.0006103515625, prob.status='infeasible_inaccurate'\n",
      "t=15, b=0.00030517578125, prob.status='infeasible_inaccurate'\n",
      "t=16, b=0.000152587890625, prob.status='infeasible_inaccurate'\n",
      "t=17, b=7.62939453125e-05, prob.status='infeasible_inaccurate'\n",
      "t=18, b=3.814697265625e-05, prob.status='infeasible_inaccurate'\n",
      "t=19, b=1.9073486328125e-05, prob.status='infeasible_inaccurate'\n",
      "t=20, b=9.5367431640625e-06, prob.status='infeasible_inaccurate'\n",
      "t=21, b=4.76837158203125e-06, prob.status='infeasible_inaccurate'\n",
      "t=22, b=2.384185791015625e-06, prob.status='infeasible_inaccurate'\n",
      "t=23, b=1.1920928955078125e-06, prob.status='infeasible_inaccurate'\n",
      "t=24, b=5.960464477539062e-07, prob.status='infeasible_inaccurate'\n",
      "t=25, b=2.980232238769531e-07, prob.status='infeasible_inaccurate'\n",
      "t=26, b=1.4901161193847656e-07, prob.status='infeasible_inaccurate'\n",
      "t=27, b=7.450580596923828e-08, prob.status='infeasible_inaccurate'\n",
      "t=28, b=3.725290298461914e-08, prob.status='infeasible_inaccurate'\n",
      "t=29, b=1.862645149230957e-08, prob.status='infeasible_inaccurate'\n",
      "b = 9.313225746154785e-09\n"
     ]
    }
   ],
   "source": [
    "problem = co.douglas_rachford_splitting(mu, L_smooth, R, Inductance)\n",
    "problem.obj = problem.b #+ problem.d\n",
    "\n",
    "# bounds = {  'b': {\"ub\": 0.1, \"lb\": 0.1},\n",
    "#             'h': {\"ub\": 1, \"lb\": 1},\n",
    "#             'alpha': {\"ub\": 1, \"lb\": 1},\n",
    "#             'beta': {\"ub\": 1, \"lb\": 1},}\n",
    "\n",
    "# res, sol = problem.solve(solver=solver, bounds=bounds, verbose=True)[:2]\n",
    "# res, sol = problem.solve(solver=solver, verbose=True)[:2]\n",
    "# ca_vars = problem.vars\n",
    "\n",
    "res = params = {  'b': 10,\n",
    "            'h': 1,\n",
    "            'd': 0.,\n",
    "            'alpha': 0.5,\n",
    "            'beta': 0.5 }\n",
    "b = problem.solve(solver=solver, freq=1, max_iters=30, params=params, debug=True)\n",
    "print(f\"{b = }\")\n",
    "res[\"b\"] = b"
   ]
  },
  {
   "cell_type": "code",
   "execution_count": 4,
   "metadata": {},
   "outputs": [
    {
     "data": {
      "text/plain": [
       "{'b': 7.888609052210118e-30, 'h': 1, 'd': 0.0, 'alpha': 0.5, 'beta': 0.5}"
      ]
     },
     "execution_count": 4,
     "metadata": {},
     "output_type": "execute_result"
    }
   ],
   "source": [
    "res"
   ]
  },
  {
   "cell_type": "markdown",
   "metadata": {},
   "source": [
    "# PEP verification"
   ]
  },
  {
   "cell_type": "code",
   "execution_count": 5,
   "metadata": {},
   "outputs": [
    {
     "name": "stdout",
     "output_type": "stream",
     "text": [
      "(PEPit) Setting up the problem: size of the main PSD matrix: 10x10\n",
      "(PEPit) Setting up the problem: performance measure is minimum of 1 element(s)\n",
      "(PEPit) Setting up the problem: Adding initial conditions and general constraints ...\n",
      "(PEPit) Setting up the problem: initial conditions and general constraints (0 constraint(s) added)\n",
      "(PEPit) Setting up the problem: interpolation conditions for 2 function(s)\n",
      "\t\t function 1 : Adding 12 scalar constraint(s) ...\n",
      "\t\t function 1 : 12 scalar constraint(s) added\n",
      "\t\t function 2 : Adding 12 scalar constraint(s) ...\n",
      "\t\t function 2 : 12 scalar constraint(s) added\n",
      "(PEPit) Setting up the problem: constraints for 0 function(s)\n",
      "(PEPit) Compiling SDP\n",
      "(PEPit) Calling SDP solver\n",
      "(PEPit) Solver status: unbounded (solver: MOSEK); optimal value: inf\n"
     ]
    },
    {
     "ename": "UserWarning",
     "evalue": "PEPit didn't find any nontrivial worst-case guarantee. It seems that the optimal value of your problem is unbounded.",
     "output_type": "error",
     "traceback": [
      "\u001b[0;31m---------------------------------------------------------------------------\u001b[0m",
      "\u001b[0;31mUserWarning\u001b[0m                               Traceback (most recent call last)",
      "Input \u001b[0;32mIn [5]\u001b[0m, in \u001b[0;36m<cell line: 2>\u001b[0;34m()\u001b[0m\n\u001b[1;32m      1\u001b[0m problem \u001b[38;5;241m=\u001b[39m co\u001b[38;5;241m.\u001b[39mdouglas_rachford_splitting(mu, L_smooth, R, Inductance, params\u001b[38;5;241m=\u001b[39mres)\n\u001b[0;32m----> 2\u001b[0m diff \u001b[38;5;241m=\u001b[39m \u001b[43mproblem\u001b[49m\u001b[38;5;241;43m.\u001b[39;49m\u001b[43msolve\u001b[49m\u001b[43m(\u001b[49m\u001b[43mverbose\u001b[49m\u001b[38;5;241;43m=\u001b[39;49m\u001b[38;5;241;43m1\u001b[39;49m\u001b[43m,\u001b[49m\u001b[43m \u001b[49m\u001b[43msolver\u001b[49m\u001b[38;5;241;43m=\u001b[39;49m\u001b[43mcp\u001b[49m\u001b[38;5;241;43m.\u001b[39;49m\u001b[43mMOSEK\u001b[49m\u001b[43m)\u001b[49m\n\u001b[1;32m      3\u001b[0m \u001b[38;5;28mprint\u001b[39m(\u001b[38;5;124mf\u001b[39m\u001b[38;5;124m\"\u001b[39m\u001b[38;5;132;01m{\u001b[39;00mdiff\u001b[38;5;132;01m=}\u001b[39;00m\u001b[38;5;124m\"\u001b[39m)\n",
      "File \u001b[0;32m~/opt/anaconda3/envs/circuits/lib/python3.10/site-packages/PEPit/pep.py:496\u001b[0m, in \u001b[0;36mPEP.solve\u001b[0;34m(self, verbose, return_full_cvxpy_problem, dimension_reduction_heuristic, eig_regularization, tol_dimension_reduction, **kwargs)\u001b[0m\n\u001b[1;32m    494\u001b[0m \u001b[38;5;66;03m# Raise explicit error when wc_value in infinite\u001b[39;00m\n\u001b[1;32m    495\u001b[0m \u001b[38;5;28;01mif\u001b[39;00m wc_value \u001b[38;5;241m==\u001b[39m np\u001b[38;5;241m.\u001b[39minf:\n\u001b[0;32m--> 496\u001b[0m     \u001b[38;5;28;01mraise\u001b[39;00m \u001b[38;5;167;01mUserWarning\u001b[39;00m(\u001b[38;5;124m\"\u001b[39m\u001b[38;5;124mPEPit didn\u001b[39m\u001b[38;5;124m'\u001b[39m\u001b[38;5;124mt find any nontrivial worst-case guarantee. \u001b[39m\u001b[38;5;124m\"\u001b[39m\n\u001b[1;32m    497\u001b[0m                       \u001b[38;5;124m\"\u001b[39m\u001b[38;5;124mIt seems that the optimal value of your problem is unbounded.\u001b[39m\u001b[38;5;124m\"\u001b[39m)\n\u001b[1;32m    499\u001b[0m \u001b[38;5;66;03m# Keep dual values before dimension reduction in memory\u001b[39;00m\n\u001b[1;32m    500\u001b[0m \u001b[38;5;66;03m# Dimension aims at finding low dimension lower bound functions,\u001b[39;00m\n\u001b[1;32m    501\u001b[0m \u001b[38;5;66;03m# but solves a different problem with an extra condition and different objective,\u001b[39;00m\n\u001b[1;32m    502\u001b[0m \u001b[38;5;66;03m# leading to different dual values. The ones we store here provide the proof of the obtained guarantee.\u001b[39;00m\n\u001b[1;32m    503\u001b[0m \u001b[38;5;28;01massert\u001b[39;00m \u001b[38;5;28mself\u001b[39m\u001b[38;5;241m.\u001b[39m_list_of_cvxpy_constraints \u001b[38;5;241m==\u001b[39m prob\u001b[38;5;241m.\u001b[39mconstraints\n",
      "\u001b[0;31mUserWarning\u001b[0m: PEPit didn't find any nontrivial worst-case guarantee. It seems that the optimal value of your problem is unbounded."
     ]
    }
   ],
   "source": [
    "problem = co.douglas_rachford_splitting(mu, L_smooth, R, Inductance, params=res)\n",
    "diff = problem.solve(verbose=1, solver=cp.MOSEK)\n",
    "print(f\"{diff=}\")"
   ]
  },
  {
   "cell_type": "code",
   "execution_count": null,
   "metadata": {},
   "outputs": [],
   "source": []
  },
  {
   "cell_type": "code",
   "execution_count": null,
   "metadata": {},
   "outputs": [],
   "source": [
    "# Instantiate PEP\n",
    "problem = PEPit.PEP()\n",
    "verbose=False\n",
    "n = 1\n",
    "L = 1\n",
    "theta = 1\n",
    "alpha = 1\n",
    "# Declare a convex and a smooth convex function.\n",
    "func1 = problem.declare_function(ConvexFunction)\n",
    "func2 = problem.declare_function(SmoothConvexFunction, L=L)\n",
    "# Define the function to optimize as the sum of func1 and func2\n",
    "func = func1 + func2\n",
    "\n",
    "# Start by defining its unique optimal point xs = x_* and its function value fs = F(x_*)\n",
    "xs = func.stationary_point()\n",
    "fs = func(xs)\n",
    "\n",
    "# Then define the starting point x0 of the algorithm and its function value f0\n",
    "x0 = problem.set_initial_point()\n",
    "\n",
    "# Compute n steps of the Douglas-Rachford splitting starting from x0\n",
    "x = [x0 for _ in range(n)]\n",
    "w = [x0 for _ in range(n + 1)]\n",
    "for i in range(n):\n",
    "    x[i], _, _ = proximal_step(w[i], func2, alpha)\n",
    "    y, _, fy = proximal_step(2 * x[i] - w[i], func1, alpha)\n",
    "    w[i + 1] = w[i] + theta * (y - x[i])\n",
    "\n",
    "# Set the initial constraint that is the distance between x0 and xs = x_*\n",
    "problem.set_initial_condition((x[0] - xs) ** 2 <= 1)\n",
    "\n",
    "# Set the performance metric to the final distance to the optimum in function values\n",
    "problem.set_performance_metric((func2(y) + fy) - fs)\n",
    "\n",
    "# Solve the PEP\n",
    "pepit_verbose = max(verbose, 0)\n",
    "pepit_tau = problem.solve(verbose=pepit_verbose)\n",
    "\n",
    "# Compute theoretical guarantee (for comparison) when theta = 1\n",
    "if theta == 1 and alpha == 1 and L == 1 and 0 < n <= 10:\n",
    "    pesto_tau = [1 / 4, 0.1273, 0.0838, 0.0627, 0.0501, 0.0417, 0.0357, 0.0313, 0.0278, 0.0250]\n",
    "    theoretical_tau = pesto_tau[n - 1]\n",
    "\n",
    "print(theoretical_tau, pepit_tau)"
   ]
  },
  {
   "cell_type": "code",
   "execution_count": null,
   "metadata": {},
   "outputs": [],
   "source": []
  }
 ],
 "metadata": {
  "kernelspec": {
   "display_name": "osbdo",
   "language": "python",
   "name": "python3"
  },
  "language_info": {
   "codemirror_mode": {
    "name": "ipython",
    "version": 3
   },
   "file_extension": ".py",
   "mimetype": "text/x-python",
   "name": "python",
   "nbconvert_exporter": "python",
   "pygments_lexer": "ipython3",
   "version": "3.10.13"
  }
 },
 "nbformat": 4,
 "nbformat_minor": 2
}
