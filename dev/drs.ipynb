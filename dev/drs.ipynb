{
 "cells": [
  {
   "cell_type": "code",
   "execution_count": 1,
   "metadata": {},
   "outputs": [],
   "source": [
    "import ciropt as co\n",
    "import cvxpy as cp"
   ]
  },
  {
   "cell_type": "code",
   "execution_count": 2,
   "metadata": {},
   "outputs": [],
   "source": [
    "L_smooth = 1.\n",
    "mu = 0.00001\n",
    "\n",
    "Inductance = 1#5.\n",
    "R = 1.\n",
    "\n",
    "# solver = \"ca\"\n",
    "solver = \"ca_canonical\"\n",
    "# solver = \"ca_canonical_X\"\n",
    "# solver = \"qcqp_sni\"\n",
    "# solver = \"bisection_b\""
   ]
  },
  {
   "cell_type": "markdown",
   "metadata": {},
   "source": [
    "# Ciropt problem"
   ]
  },
  {
   "cell_type": "code",
   "execution_count": 3,
   "metadata": {},
   "outputs": [
    {
     "name": "stdout",
     "output_type": "stream",
     "text": [
      "dim_G=9, dim_F=8\n",
      "\n",
      "******************************************************************************\n",
      "This program contains Ipopt, a library for large-scale nonlinear optimization.\n",
      " Ipopt is released as open source code under the Eclipse Public License (EPL).\n",
      "         For more information visit https://github.com/coin-or/Ipopt\n",
      "******************************************************************************\n",
      "\n",
      "This is Ipopt version 3.14.11, running with linear solver MUMPS 5.4.1.\n",
      "\n",
      "Number of nonzeros in equality constraint Jacobian...:     5367\n",
      "Number of nonzeros in inequality constraint Jacobian.:      439\n",
      "Number of nonzeros in Lagrangian Hessian.............:     1062\n",
      "\n",
      "Total number of variables............................:      115\n",
      "                     variables with only lower bounds:        0\n",
      "                variables with lower and upper bounds:        0\n",
      "                     variables with only upper bounds:        0\n",
      "Total number of equality constraints.................:      107\n",
      "Total number of inequality constraints...............:       43\n",
      "        inequality constraints with only lower bounds:       41\n",
      "   inequality constraints with lower and upper bounds:        0\n",
      "        inequality constraints with only upper bounds:        2\n",
      "\n",
      "iter    objective    inf_pr   inf_du lg(mu)  ||d||  lg(rg) alpha_du alpha_pr  ls\n",
      "   0 -0.0000000e+00 1.00e+00 1.00e+00  -1.0 0.00e+00    -  0.00e+00 0.00e+00   0\n",
      "   1 -2.0285142e-08 9.80e-01 9.76e+00  -1.0 1.10e+00  -2.0 9.92e-01 9.02e-01f  1\n",
      "   2 -3.5496476e-03 1.25e+01 6.24e+00  -1.0 7.14e+00  -1.6 8.89e-01 3.46e-01f  1\n",
      "   3 -3.1924000e-01 8.06e+00 4.10e+00  -1.0 1.81e+00  -0.2 5.10e-01 3.97e-01f  1\n",
      "   4 -1.7691970e-01 5.10e+00 3.09e+00  -1.0 9.98e-01   0.2 5.70e-01 3.98e-01h  1\n",
      "   5 -1.6621132e-03 2.66e+00 4.94e+00  -1.0 8.12e-01  -0.3 1.00e+00 5.30e-01h  1\n",
      "   6 -1.6590353e-02 1.13e+00 5.64e+00  -1.0 7.45e-01  -0.8 1.00e+00 7.54e-01h  1\n",
      "   7 -1.5285631e-04 9.95e-01 3.93e+01  -1.0 9.00e-01  -1.3 1.00e+00 5.04e-01h  1\n",
      "   8 -2.2760036e-03 7.79e-01 8.12e+01  -1.0 7.45e-01  -1.7 1.00e+00 5.67e-01h  1\n",
      "   9 -6.2813303e-04 5.29e-01 1.54e+02  -1.0 1.51e+00  -2.2 1.00e+00 6.33e-01h  1\n",
      "iter    objective    inf_pr   inf_du lg(mu)  ||d||  lg(rg) alpha_du alpha_pr  ls\n",
      "  10 -5.0459491e-04 4.39e-01 4.34e+02  -1.0 2.81e+00  -2.7 1.00e+00 5.83e-01h  1\n",
      "  11 -2.6377626e-04 1.97e-01 6.53e+02  -1.0 5.12e+00  -3.2 1.00e+00 6.91e-01h  1\n",
      "  12 -1.3119138e-04 1.34e-01 5.45e+02  -1.0 8.81e+00  -3.6 1.00e+00 8.06e-01h  1\n",
      "  13 -7.3352467e-05 5.66e-02 9.32e+02  -1.0 1.52e+01  -4.1 1.00e+00 5.99e-01h  1\n",
      "  14 -4.8757357e-05 4.29e-02 7.83e+02  -1.0 2.74e+01  -4.6 1.00e+00 6.24e-01h  1\n",
      "  15 -2.2258430e-05 1.29e-02 4.32e+02  -1.0 4.68e+01  -5.1 1.00e+00 7.67e-01h  1\n",
      "  16 -9.2376780e-06 9.03e-03 8.26e+02  -1.0 8.00e+01  -5.5 1.00e+00 6.36e-01h  1\n",
      "  17  2.2415508e-06 2.26e-03 1.02e+02  -1.0 1.42e+02  -6.0 6.90e-01 8.11e-01h  1\n",
      "  18  5.8668048e-06 1.28e-03 9.35e+00  -1.0 2.06e+02  -6.5 1.00e+00 1.00e+00h  1\n",
      "  19  7.8254181e-07 3.49e-04 6.56e+00  -1.7 8.77e+01  -7.0 1.00e+00 1.00e+00h  1\n",
      "iter    objective    inf_pr   inf_du lg(mu)  ||d||  lg(rg) alpha_du alpha_pr  ls\n",
      "  20  1.2432741e-06 4.28e-05 3.25e+00  -1.7 3.51e+02  -7.5 1.00e+00 1.00e+00f  1\n",
      "  21  5.5609536e-08 3.73e-05 1.25e+00  -2.5 6.12e+01  -7.9 1.00e+00 1.00e+00H  1\n",
      "  22  1.1209339e-07 4.09e-06 2.10e-01  -2.5 3.15e+02  -8.4 1.00e+00 1.00e+00h  1\n",
      "  23 -6.2661992e-08 3.06e-06 1.46e-01  -3.8 2.56e+01  -8.9 1.00e+00 1.00e+00H  1\n",
      "  24 -6.2476025e-08 8.28e-07 1.03e-02  -3.8 1.25e+02  -9.4 1.00e+00 1.00e+00h  1\n",
      "  25 -7.2551550e-08 8.28e-07 6.35e-03  -5.0 1.72e+01  -9.8 1.00e+00 1.00e+00h  1\n",
      "  26 -7.0934098e-08 1.82e-07 3.11e-03  -5.0 6.24e+01 -10.3 1.00e+00 1.00e+00h  1\n",
      "  27 -7.0848291e-08 2.93e-08 1.39e-03  -5.0 1.65e+02 -10.8 1.00e+00 1.00e+00h  1\n",
      "\n",
      "Number of Iterations....: 27\n",
      "\n",
      "                                   (scaled)                 (unscaled)\n",
      "Objective...............:  -7.0848291104155311e-08   -7.0848291104155311e-08\n",
      "Dual infeasibility......:   1.3857959522198537e-03    1.3857959522198537e-03\n",
      "Constraint violation....:   2.9281255921942418e-08    2.9281255921942418e-08\n",
      "Variable bound violation:   0.0000000000000000e+00    0.0000000000000000e+00\n",
      "Complementarity.........:   1.1758618630936271e-05    1.1758618630936271e-05\n",
      "Overall NLP error.......:   4.7864279170650641e-05    1.3857959522198537e-03\n",
      "\n",
      "\n",
      "Number of objective function evaluations             = 31\n",
      "Number of objective gradient evaluations             = 28\n",
      "Number of equality constraint evaluations            = 31\n",
      "Number of inequality constraint evaluations          = 31\n",
      "Number of equality constraint Jacobian evaluations   = 28\n",
      "Number of inequality constraint Jacobian evaluations = 28\n",
      "Number of Lagrangian Hessian evaluations             = 27\n",
      "Total seconds in IPOPT                               = 0.272\n",
      "\n",
      "EXIT: Optimal Solution Found.\n",
      "      solver  :   t_proc      (avg)   t_wall      (avg)    n_eval\n",
      "       nlp_f  |  51.00us (  1.65us)  49.42us (  1.59us)        31\n",
      "       nlp_g  |  10.46ms (337.39us)  10.44ms (336.92us)        31\n",
      "  nlp_grad_f  |  82.00us (  2.83us)  73.79us (  2.54us)        29\n",
      "  nlp_hess_l  |  66.79ms (  2.47ms)  67.00ms (  2.48ms)        27\n",
      "   nlp_jac_g  | 107.77ms (  3.72ms) 108.05ms (  3.73ms)        29\n",
      "       total  | 274.47ms (274.47ms) 275.45ms (275.45ms)         1\n"
     ]
    }
   ],
   "source": [
    "problem = co.douglas_rachford_splitting(mu, L_smooth, R, Inductance)\n",
    "problem.obj = problem.b #+ problem.d\n",
    "\n",
    "bounds = {  #'b': {\"ub\": 0.1, \"lb\": 0.1},\n",
    "            #'h': {\"ub\": 1, \"lb\": 1},\n",
    "            'alpha': {\"ub\": 1, \"lb\": 1},\n",
    "            'beta': {\"ub\": 1, \"lb\": 1},}\n",
    "\n",
    "res, sol = problem.solve(solver=solver, bounds=bounds, verbose=True)[:2]\n",
    "# res, sol = problem.solve(solver=solver, verbose=True)[:2]\n",
    "ca_vars = problem.vars\n",
    "\n",
    "# res = params = {  'b': 10,\n",
    "#             'h': 1,\n",
    "#             'd': 0.,\n",
    "#             'alpha': 0.5,\n",
    "#             'beta': 0.5 }\n",
    "# b = problem.solve(solver=solver, freq=1, max_iters=30, params=params, debug=True)\n",
    "# print(f\"{b = }\")\n",
    "# res[\"b\"] = b"
   ]
  },
  {
   "cell_type": "code",
   "execution_count": 6,
   "metadata": {},
   "outputs": [
    {
     "data": {
      "text/plain": [
       "{'b': 7.084829110415531e-08,\n",
       " 'h': 3.25441630034873e-05,\n",
       " 'd': 1659.6640862847446,\n",
       " 'alpha': 1.0,\n",
       " 'beta': 1.0}"
      ]
     },
     "execution_count": 6,
     "metadata": {},
     "output_type": "execute_result"
    }
   ],
   "source": [
    "res"
   ]
  },
  {
   "cell_type": "markdown",
   "metadata": {},
   "source": [
    "# PEP verification"
   ]
  },
  {
   "cell_type": "code",
   "execution_count": 5,
   "metadata": {},
   "outputs": [
    {
     "name": "stdout",
     "output_type": "stream",
     "text": [
      "(PEPit) Setting up the problem: size of the main PSD matrix: 9x9\n",
      "(PEPit) Setting up the problem: performance measure is minimum of 1 element(s)\n",
      "(PEPit) Setting up the problem: Adding initial conditions and general constraints ...\n",
      "(PEPit) Setting up the problem: initial conditions and general constraints (3 constraint(s) added)\n",
      "(PEPit) Setting up the problem: interpolation conditions for 2 function(s)\n",
      "\t\t function 1 : Adding 12 scalar constraint(s) ...\n",
      "\t\t function 1 : 12 scalar constraint(s) added\n",
      "\t\t function 2 : Adding 12 scalar constraint(s) ...\n",
      "\t\t function 2 : 12 scalar constraint(s) added\n",
      "(PEPit) Setting up the problem: constraints for 0 function(s)\n",
      "(PEPit) Compiling SDP\n",
      "(PEPit) Calling SDP solver\n"
     ]
    },
    {
     "ename": "SolverError",
     "evalue": "Solver 'MOSEK' failed. Try another solver, or solve with verbose=True for more information.",
     "output_type": "error",
     "traceback": [
      "\u001b[0;31m---------------------------------------------------------------------------\u001b[0m",
      "\u001b[0;31mSolverError\u001b[0m                               Traceback (most recent call last)",
      "Input \u001b[0;32mIn [5]\u001b[0m, in \u001b[0;36m<cell line: 2>\u001b[0;34m()\u001b[0m\n\u001b[1;32m      1\u001b[0m problem \u001b[38;5;241m=\u001b[39m co\u001b[38;5;241m.\u001b[39mdouglas_rachford_splitting(mu, L_smooth, R, Inductance, params\u001b[38;5;241m=\u001b[39mres)\n\u001b[0;32m----> 2\u001b[0m diff \u001b[38;5;241m=\u001b[39m \u001b[43mproblem\u001b[49m\u001b[38;5;241;43m.\u001b[39;49m\u001b[43msolve\u001b[49m\u001b[43m(\u001b[49m\u001b[43mverbose\u001b[49m\u001b[38;5;241;43m=\u001b[39;49m\u001b[38;5;241;43m1\u001b[39;49m\u001b[43m,\u001b[49m\u001b[43m \u001b[49m\u001b[43msolver\u001b[49m\u001b[38;5;241;43m=\u001b[39;49m\u001b[43mcp\u001b[49m\u001b[38;5;241;43m.\u001b[39;49m\u001b[43mMOSEK\u001b[49m\u001b[43m)\u001b[49m\n\u001b[1;32m      3\u001b[0m \u001b[38;5;28mprint\u001b[39m(\u001b[38;5;124mf\u001b[39m\u001b[38;5;124m\"\u001b[39m\u001b[38;5;132;01m{\u001b[39;00mdiff\u001b[38;5;132;01m=}\u001b[39;00m\u001b[38;5;124m\"\u001b[39m)\n",
      "File \u001b[0;32m~/opt/anaconda3/envs/circuits/lib/python3.10/site-packages/PEPit/pep.py:485\u001b[0m, in \u001b[0;36mPEP.solve\u001b[0;34m(self, verbose, return_full_cvxpy_problem, dimension_reduction_heuristic, eig_regularization, tol_dimension_reduction, **kwargs)\u001b[0m\n\u001b[1;32m    483\u001b[0m \u001b[38;5;28;01mif\u001b[39;00m verbose:\n\u001b[1;32m    484\u001b[0m     \u001b[38;5;28mprint\u001b[39m(\u001b[38;5;124m'\u001b[39m\u001b[38;5;124m(PEPit) Calling SDP solver\u001b[39m\u001b[38;5;124m'\u001b[39m)\n\u001b[0;32m--> 485\u001b[0m \u001b[43mprob\u001b[49m\u001b[38;5;241;43m.\u001b[39;49m\u001b[43msolve\u001b[49m\u001b[43m(\u001b[49m\u001b[38;5;241;43m*\u001b[39;49m\u001b[38;5;241;43m*\u001b[39;49m\u001b[43mkwargs\u001b[49m\u001b[43m)\u001b[49m\n\u001b[1;32m    486\u001b[0m \u001b[38;5;28;01mif\u001b[39;00m verbose:\n\u001b[1;32m    487\u001b[0m     \u001b[38;5;28mprint\u001b[39m(\u001b[38;5;124m'\u001b[39m\u001b[38;5;124m(PEPit) Solver status: \u001b[39m\u001b[38;5;132;01m{}\u001b[39;00m\u001b[38;5;124m (solver: \u001b[39m\u001b[38;5;132;01m{}\u001b[39;00m\u001b[38;5;124m); optimal value: \u001b[39m\u001b[38;5;132;01m{}\u001b[39;00m\u001b[38;5;124m'\u001b[39m\u001b[38;5;241m.\u001b[39mformat(prob\u001b[38;5;241m.\u001b[39mstatus,\n\u001b[1;32m    488\u001b[0m                                                                              prob\u001b[38;5;241m.\u001b[39msolver_stats\u001b[38;5;241m.\u001b[39msolver_name,\n\u001b[1;32m    489\u001b[0m                                                                              prob\u001b[38;5;241m.\u001b[39mvalue))\n",
      "File \u001b[0;32m~/opt/anaconda3/envs/circuits/lib/python3.10/site-packages/cvxpy/problems/problem.py:503\u001b[0m, in \u001b[0;36mProblem.solve\u001b[0;34m(self, *args, **kwargs)\u001b[0m\n\u001b[1;32m    501\u001b[0m \u001b[38;5;28;01melse\u001b[39;00m:\n\u001b[1;32m    502\u001b[0m     solve_func \u001b[38;5;241m=\u001b[39m Problem\u001b[38;5;241m.\u001b[39m_solve\n\u001b[0;32m--> 503\u001b[0m \u001b[38;5;28;01mreturn\u001b[39;00m \u001b[43msolve_func\u001b[49m\u001b[43m(\u001b[49m\u001b[38;5;28;43mself\u001b[39;49m\u001b[43m,\u001b[49m\u001b[43m \u001b[49m\u001b[38;5;241;43m*\u001b[39;49m\u001b[43margs\u001b[49m\u001b[43m,\u001b[49m\u001b[43m \u001b[49m\u001b[38;5;241;43m*\u001b[39;49m\u001b[38;5;241;43m*\u001b[39;49m\u001b[43mkwargs\u001b[49m\u001b[43m)\u001b[49m\n",
      "File \u001b[0;32m~/opt/anaconda3/envs/circuits/lib/python3.10/site-packages/cvxpy/problems/problem.py:1086\u001b[0m, in \u001b[0;36mProblem._solve\u001b[0;34m(self, solver, warm_start, verbose, gp, qcp, requires_grad, enforce_dpp, ignore_dpp, canon_backend, **kwargs)\u001b[0m\n\u001b[1;32m   1084\u001b[0m end \u001b[38;5;241m=\u001b[39m time\u001b[38;5;241m.\u001b[39mtime()\n\u001b[1;32m   1085\u001b[0m \u001b[38;5;28mself\u001b[39m\u001b[38;5;241m.\u001b[39m_solve_time \u001b[38;5;241m=\u001b[39m end \u001b[38;5;241m-\u001b[39m start\n\u001b[0;32m-> 1086\u001b[0m \u001b[38;5;28;43mself\u001b[39;49m\u001b[38;5;241;43m.\u001b[39;49m\u001b[43munpack_results\u001b[49m\u001b[43m(\u001b[49m\u001b[43msolution\u001b[49m\u001b[43m,\u001b[49m\u001b[43m \u001b[49m\u001b[43msolving_chain\u001b[49m\u001b[43m,\u001b[49m\u001b[43m \u001b[49m\u001b[43minverse_data\u001b[49m\u001b[43m)\u001b[49m\n\u001b[1;32m   1087\u001b[0m \u001b[38;5;28;01mif\u001b[39;00m verbose:\n\u001b[1;32m   1088\u001b[0m     \u001b[38;5;28mprint\u001b[39m(_FOOTER)\n",
      "File \u001b[0;32m~/opt/anaconda3/envs/circuits/lib/python3.10/site-packages/cvxpy/problems/problem.py:1411\u001b[0m, in \u001b[0;36mProblem.unpack_results\u001b[0;34m(self, solution, chain, inverse_data)\u001b[0m\n\u001b[1;32m   1409\u001b[0m     warnings\u001b[38;5;241m.\u001b[39mwarn(INF_OR_UNB_MESSAGE)\n\u001b[1;32m   1410\u001b[0m \u001b[38;5;28;01mif\u001b[39;00m solution\u001b[38;5;241m.\u001b[39mstatus \u001b[38;5;129;01min\u001b[39;00m s\u001b[38;5;241m.\u001b[39mERROR:\n\u001b[0;32m-> 1411\u001b[0m     \u001b[38;5;28;01mraise\u001b[39;00m error\u001b[38;5;241m.\u001b[39mSolverError(\n\u001b[1;32m   1412\u001b[0m             \u001b[38;5;124m\"\u001b[39m\u001b[38;5;124mSolver \u001b[39m\u001b[38;5;124m'\u001b[39m\u001b[38;5;132;01m%s\u001b[39;00m\u001b[38;5;124m'\u001b[39m\u001b[38;5;124m failed. \u001b[39m\u001b[38;5;124m\"\u001b[39m \u001b[38;5;241m%\u001b[39m chain\u001b[38;5;241m.\u001b[39msolver\u001b[38;5;241m.\u001b[39mname() \u001b[38;5;241m+\u001b[39m\n\u001b[1;32m   1413\u001b[0m             \u001b[38;5;124m\"\u001b[39m\u001b[38;5;124mTry another solver, or solve with verbose=True for more \u001b[39m\u001b[38;5;124m\"\u001b[39m\n\u001b[1;32m   1414\u001b[0m             \u001b[38;5;124m\"\u001b[39m\u001b[38;5;124minformation.\u001b[39m\u001b[38;5;124m\"\u001b[39m)\n\u001b[1;32m   1416\u001b[0m \u001b[38;5;28mself\u001b[39m\u001b[38;5;241m.\u001b[39munpack(solution)\n\u001b[1;32m   1417\u001b[0m \u001b[38;5;28mself\u001b[39m\u001b[38;5;241m.\u001b[39m_solver_stats \u001b[38;5;241m=\u001b[39m SolverStats\u001b[38;5;241m.\u001b[39mfrom_dict(\u001b[38;5;28mself\u001b[39m\u001b[38;5;241m.\u001b[39m_solution\u001b[38;5;241m.\u001b[39mattr,\n\u001b[1;32m   1418\u001b[0m                                  chain\u001b[38;5;241m.\u001b[39msolver\u001b[38;5;241m.\u001b[39mname())\n",
      "\u001b[0;31mSolverError\u001b[0m: Solver 'MOSEK' failed. Try another solver, or solve with verbose=True for more information."
     ]
    }
   ],
   "source": [
    "problem = co.douglas_rachford_splitting(mu, L_smooth, R, Inductance, params=res)\n",
    "diff = problem.solve(verbose=1, solver=cp.MOSEK)\n",
    "print(f\"{diff=}\")"
   ]
  },
  {
   "cell_type": "code",
   "execution_count": null,
   "metadata": {},
   "outputs": [],
   "source": []
  },
  {
   "cell_type": "code",
   "execution_count": null,
   "metadata": {},
   "outputs": [],
   "source": [
    "# Instantiate PEP\n",
    "problem = PEPit.PEP()\n",
    "verbose=False\n",
    "n = 1\n",
    "L = 1\n",
    "theta = 1\n",
    "alpha = 1\n",
    "# Declare a convex and a smooth convex function.\n",
    "func1 = problem.declare_function(ConvexFunction)\n",
    "func2 = problem.declare_function(SmoothConvexFunction, L=L)\n",
    "# Define the function to optimize as the sum of func1 and func2\n",
    "func = func1 + func2\n",
    "\n",
    "# Start by defining its unique optimal point xs = x_* and its function value fs = F(x_*)\n",
    "xs = func.stationary_point()\n",
    "fs = func(xs)\n",
    "\n",
    "# Then define the starting point x0 of the algorithm and its function value f0\n",
    "x0 = problem.set_initial_point()\n",
    "\n",
    "# Compute n steps of the Douglas-Rachford splitting starting from x0\n",
    "x = [x0 for _ in range(n)]\n",
    "w = [x0 for _ in range(n + 1)]\n",
    "for i in range(n):\n",
    "    x[i], _, _ = proximal_step(w[i], func2, alpha)\n",
    "    y, _, fy = proximal_step(2 * x[i] - w[i], func1, alpha)\n",
    "    w[i + 1] = w[i] + theta * (y - x[i])\n",
    "\n",
    "# Set the initial constraint that is the distance between x0 and xs = x_*\n",
    "problem.set_initial_condition((x[0] - xs) ** 2 <= 1)\n",
    "\n",
    "# Set the performance metric to the final distance to the optimum in function values\n",
    "problem.set_performance_metric((func2(y) + fy) - fs)\n",
    "\n",
    "# Solve the PEP\n",
    "pepit_verbose = max(verbose, 0)\n",
    "pepit_tau = problem.solve(verbose=pepit_verbose)\n",
    "\n",
    "# Compute theoretical guarantee (for comparison) when theta = 1\n",
    "if theta == 1 and alpha == 1 and L == 1 and 0 < n <= 10:\n",
    "    pesto_tau = [1 / 4, 0.1273, 0.0838, 0.0627, 0.0501, 0.0417, 0.0357, 0.0313, 0.0278, 0.0250]\n",
    "    theoretical_tau = pesto_tau[n - 1]\n",
    "\n",
    "print(theoretical_tau, pepit_tau)"
   ]
  },
  {
   "cell_type": "code",
   "execution_count": null,
   "metadata": {},
   "outputs": [],
   "source": []
  }
 ],
 "metadata": {
  "kernelspec": {
   "display_name": "osbdo",
   "language": "python",
   "name": "python3"
  },
  "language_info": {
   "codemirror_mode": {
    "name": "ipython",
    "version": 3
   },
   "file_extension": ".py",
   "mimetype": "text/x-python",
   "name": "python",
   "nbconvert_exporter": "python",
   "pygments_lexer": "ipython3",
   "version": "3.10.13"
  }
 },
 "nbformat": 4,
 "nbformat_minor": 2
}
