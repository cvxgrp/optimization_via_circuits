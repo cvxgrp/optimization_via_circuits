{
 "cells": [
  {
   "cell_type": "code",
   "execution_count": 1,
   "metadata": {},
   "outputs": [],
   "source": [
    "import ciropt as co\n",
    "import cvxpy as cp"
   ]
  },
  {
   "cell_type": "code",
   "execution_count": 2,
   "metadata": {},
   "outputs": [],
   "source": [
    "L_smooth = 1.\n",
    "mu = 0 #0.00001\n",
    "\n",
    "Inductance = 1#5.\n",
    "R = 1.\n",
    "\n",
    "# solver = \"ca\"\n",
    "solver = \"ca_canonical\"\n",
    "# solver = \"ca_canonical_X\"\n",
    "# solver = \"qcqp_sni\"\n",
    "# solver = \"bisection_b\""
   ]
  },
  {
   "cell_type": "markdown",
   "metadata": {},
   "source": [
    "# Ciropt problem"
   ]
  },
  {
   "cell_type": "code",
   "execution_count": 3,
   "metadata": {},
   "outputs": [
    {
     "name": "stdout",
     "output_type": "stream",
     "text": [
      "dim_G=9, dim_F=8\n",
      "\n",
      "******************************************************************************\n",
      "This program contains Ipopt, a library for large-scale nonlinear optimization.\n",
      " Ipopt is released as open source code under the Eclipse Public License (EPL).\n",
      "         For more information visit https://github.com/coin-or/Ipopt\n",
      "******************************************************************************\n",
      "\n",
      "This is Ipopt version 3.14.11, running with linear solver MUMPS 5.4.1.\n",
      "\n",
      "Number of nonzeros in equality constraint Jacobian...:     4666\n",
      "Number of nonzeros in inequality constraint Jacobian.:      432\n",
      "Number of nonzeros in Lagrangian Hessian.............:      900\n",
      "\n",
      "Total number of variables............................:      140\n",
      "                     variables with only lower bounds:        0\n",
      "                variables with lower and upper bounds:        0\n",
      "                     variables with only upper bounds:        0\n",
      "Total number of equality constraints.................:      105\n",
      "Total number of inequality constraints...............:       36\n",
      "        inequality constraints with only lower bounds:       36\n",
      "   inequality constraints with lower and upper bounds:        0\n",
      "        inequality constraints with only upper bounds:        0\n",
      "\n",
      "iter    objective    inf_pr   inf_du lg(mu)  ||d||  lg(rg) alpha_du alpha_pr  ls\n",
      "   0 -0.0000000e+00 1.00e+00 1.00e+00  -1.0 0.00e+00    -  0.00e+00 0.00e+00   0\n",
      "   1 -2.0337965e-08 1.76e-01 7.31e+00  -1.7 1.00e+00  -2.0 9.90e-01 9.90e-01f  1\n",
      "   2 -5.3182541e-04 2.07e-01 1.12e+01  -1.7 6.43e-01   0.2 9.26e-03 5.88e-02F  1\n",
      "   3 -1.6767027e-03 1.67e-01 3.43e+01  -1.7 4.82e-01   1.6 1.00e+00 2.00e-01h  1\n",
      "   4 -2.1909835e-03 7.93e-02 2.36e+01  -1.7 2.21e-01   1.1 3.57e-01 6.52e-01h  1\n",
      "   5 -1.9130739e-03 4.52e-02 1.24e+01  -1.7 1.40e-01   1.5 1.00e+00 4.92e-01h  1\n",
      "   6 -5.9109677e-04 2.85e-02 1.94e+01  -1.7 1.33e-01   1.0 1.00e+00 6.63e-01h  1\n",
      "   7 -3.4023202e-04 1.67e-02 5.63e+01  -1.7 1.05e-01   1.5 1.00e+00 5.40e-01h  1\n",
      "   8 -3.4038019e-04 1.29e-02 5.47e+01  -1.7 1.08e-01   1.0 1.00e+00 5.82e-01h  1\n",
      "   9 -7.6747547e-05 1.27e-02 5.83e+01  -1.7 3.07e-01   0.5 1.14e-01 2.08e-01H  1\n",
      "iter    objective    inf_pr   inf_du lg(mu)  ||d||  lg(rg) alpha_du alpha_pr  ls\n",
      "  10 -1.0301462e-04 9.76e-03 2.32e+02  -1.7 7.71e-02   0.9 1.00e+00 2.74e-01h  1\n",
      "  11 -1.0173335e-04 1.68e-02 1.89e+02  -1.7 5.95e-01   0.5 1.43e-01 1.68e-01h  2\n",
      "  12 -2.4352468e-05 8.06e-03 3.52e+02  -1.7 4.01e-02   1.8 1.00e+00 6.00e-01h  1\n",
      "  13 -3.6038198e-05 5.18e-03 2.14e+02  -1.7 5.60e-02   1.3 1.00e+00 7.69e-01h  1\n",
      "  14 -1.8338629e-05 3.03e-03 2.05e+02  -1.7 3.11e-02   0.8 1.00e+00 8.27e-01h  1\n",
      "  15 -1.0856571e-05 1.05e-03 5.58e+00  -1.7 2.76e-02   0.4 1.00e+00 1.00e+00h  1\n",
      "  16 -6.8483696e-06 5.47e-04 6.14e+00  -1.7 2.34e-02  -0.1 1.00e+00 1.00e+00h  1\n",
      "  17 -5.8641146e-06 3.73e-04 4.48e+00  -1.7 6.48e-02  -0.6 1.00e+00 1.00e+00H  1\n",
      "  18 -4.5689617e-06 1.79e-05 2.00e+00  -1.7 1.49e-01  -1.1 1.00e+00 1.00e+00H  1\n",
      "  19 -4.0832564e-06 6.23e-06 1.55e+02  -2.5 2.65e-02  -1.6 1.00e+00 1.25e-01h  4\n",
      "iter    objective    inf_pr   inf_du lg(mu)  ||d||  lg(rg) alpha_du alpha_pr  ls\n",
      "  20 -3.8887677e-06 6.81e-06 1.58e+02  -2.5 5.37e-02  -2.0 1.00e+00 6.25e-02h  5\n",
      "  21 -3.8661017e-06 7.25e-06 1.75e+02  -2.5 8.96e-02  -2.5 1.00e+00 7.81e-03h  8\n",
      "  22 -3.8436429e-06 7.90e-06 1.80e+02  -2.5 1.07e-01  -3.0 1.00e+00 7.81e-03h  8\n",
      "  23 -3.8324887e-06 8.06e-06 1.84e+02  -2.5 1.14e-01  -3.5 1.00e+00 3.91e-03h  9\n",
      "  24 -3.8213686e-06 8.24e-06 1.86e+02  -2.5 1.16e-01  -3.9 1.00e+00 3.91e-03h  9\n",
      "  25 -3.8102826e-06 8.41e-06 1.87e+02  -2.5 1.17e-01  -4.4 1.00e+00 3.91e-03h  9\n",
      "  26 -3.7992311e-06 8.59e-06 1.88e+02  -2.5 1.40e-01  -4.9 1.00e+00 3.91e-03h  9\n",
      "  27 -3.7882150e-06 8.77e-06 1.88e+02  -2.5 4.17e-01  -5.4 1.00e+00 3.91e-03h  9\n",
      "  28 -3.7772351e-06 8.95e-06 1.89e+02  -2.5 1.24e+00  -5.9 1.00e+00 3.91e-03h  9\n",
      "  29 -9.7582890e-07 1.41e-02 1.44e+00  -2.5 3.70e+00  -6.3 1.00e+00 1.00e+00w  1\n",
      "iter    objective    inf_pr   inf_du lg(mu)  ||d||  lg(rg) alpha_du alpha_pr  ls\n",
      "  30 -4.7616330e-07 9.78e+01 6.04e+03  -2.5 1.31e+01  -6.8 1.75e-01 7.53e-01w  1\n",
      "  31 -2.7841756e-07 2.25e+01 2.80e+03  -2.5 4.75e+00   3.0 6.91e-01 1.00e+00w  1\n",
      "  32 -3.7662921e-06 9.13e-06 1.89e+02  -2.5 1.99e+00   2.6 1.00e+00 3.91e-03h  8\n",
      "  33 -2.4140361e-07 5.87e-06 6.52e-01  -2.5 4.13e-03   2.1 1.00e+00 1.00e+00H  1\n",
      "  34 -7.9704559e-07 8.26e-06 1.41e-01  -2.5 2.60e-03   1.6 1.00e+00 1.00e+00h  1\n",
      "  35 -1.2592632e-07 5.93e-06 7.76e-02  -3.8 2.90e-03   1.1 1.00e+00 1.00e+00H  1\n",
      "  36 -1.6275537e-07 1.34e-06 1.50e-02  -3.8 8.97e-04   0.7 1.00e+00 1.00e+00h  1\n",
      "  37 -1.3070324e-07 9.74e-07 2.02e-02  -5.0 7.65e-04   0.2 1.00e+00 1.00e+00h  1\n",
      "  38 -1.2378697e-07 2.07e-07 1.29e-02  -5.0 3.50e-04  -0.3 1.00e+00 1.00e+00h  1\n",
      "  39 -1.2221713e-07 3.44e-08 5.05e-03  -5.0 1.32e-04  -0.8 1.00e+00 1.00e+00h  1\n",
      "iter    objective    inf_pr   inf_du lg(mu)  ||d||  lg(rg) alpha_du alpha_pr  ls\n",
      "  40 -1.2252558e-07 3.01e-08 1.84e-03  -5.0 8.94e-05  -1.3 1.00e+00 1.00e+00h  1\n",
      "\n",
      "Number of Iterations....: 40\n",
      "\n",
      "                                   (scaled)                 (unscaled)\n",
      "Objective...............:  -1.2252557613151692e-07   -1.2252557613151692e-07\n",
      "Dual infeasibility......:   1.8403595445306564e-03    1.8403595445306564e-03\n",
      "Constraint violation....:   3.0147862276574292e-08    3.0147862276574292e-08\n",
      "Variable bound violation:   0.0000000000000000e+00    0.0000000000000000e+00\n",
      "Complementarity.........:   9.1961080400607961e-06    9.1961080400607961e-06\n",
      "Overall NLP error.......:   8.4516586539911626e-05    1.8403595445306564e-03\n",
      "\n",
      "\n",
      "Number of objective function evaluations             = 170\n",
      "Number of objective gradient evaluations             = 41\n",
      "Number of equality constraint evaluations            = 170\n",
      "Number of inequality constraint evaluations          = 170\n",
      "Number of equality constraint Jacobian evaluations   = 41\n",
      "Number of inequality constraint Jacobian evaluations = 41\n",
      "Number of Lagrangian Hessian evaluations             = 40\n",
      "Total seconds in IPOPT                               = 0.429\n",
      "\n",
      "EXIT: Optimal Solution Found.\n",
      "      solver  :   t_proc      (avg)   t_wall      (avg)    n_eval\n",
      "       nlp_f  | 278.00us (  1.64us) 275.16us (  1.62us)       170\n",
      "       nlp_g  |  53.09ms (312.29us)  53.22ms (313.06us)       170\n",
      "  nlp_grad_f  | 137.00us (  3.26us) 122.41us (  2.91us)        42\n",
      "  nlp_hess_l  |  85.05ms (  2.13ms)  85.05ms (  2.13ms)        40\n",
      "   nlp_jac_g  | 143.38ms (  3.41ms) 143.71ms (  3.42ms)        42\n",
      "       total  | 431.34ms (431.34ms) 432.45ms (432.45ms)         1\n"
     ]
    }
   ],
   "source": [
    "problem = co.douglas_rachford_splitting(mu, L_smooth, R, Inductance)\n",
    "problem.obj = problem.b + problem.d\n",
    "\n",
    "bounds = {  #'b': {\"ub\": 0.1, \"lb\": 0.1},\n",
    "            #'h': {\"ub\": 1, \"lb\": 1},\n",
    "            'alpha': {\"ub\": 1, \"lb\": 1},\n",
    "            'beta': {\"ub\": 1, \"lb\": 1},}\n",
    "\n",
    "# res, sol = problem.solve(solver=solver, bounds=bounds, verbose=True)[:2]\n",
    "res, sol = problem.solve(solver=solver, verbose=True)[:2]\n",
    "ca_vars = problem.vars\n",
    "\n",
    "# res = params = {  'b': 10,\n",
    "#             'h': 1,\n",
    "#             'd': 0.,\n",
    "#             'alpha': 0.5,\n",
    "#             'beta': 0.5 }\n",
    "# b = problem.solve(solver=solver, freq=1, max_iters=30, params=params, debug=True)\n",
    "# print(f\"{b = }\")\n",
    "# res[\"b\"] = b"
   ]
  },
  {
   "cell_type": "code",
   "execution_count": 4,
   "metadata": {},
   "outputs": [
    {
     "data": {
      "text/plain": [
       "{'b': 6.001993399475328e-08,\n",
       " 'h': 1.1155526136015996e-07,\n",
       " 'd': 6.250564213676365e-08,\n",
       " 'alpha': 0.021800961351692155,\n",
       " 'beta': -0.2746291583546428}"
      ]
     },
     "execution_count": 4,
     "metadata": {},
     "output_type": "execute_result"
    }
   ],
   "source": [
    "res"
   ]
  },
  {
   "cell_type": "markdown",
   "metadata": {},
   "source": [
    "# PEP verification"
   ]
  },
  {
   "cell_type": "code",
   "execution_count": 5,
   "metadata": {},
   "outputs": [
    {
     "name": "stdout",
     "output_type": "stream",
     "text": [
      "(PEPit) Setting up the problem: size of the main PSD matrix: 9x9\n",
      "(PEPit) Setting up the problem: performance measure is minimum of 1 element(s)\n",
      "(PEPit) Setting up the problem: Adding initial conditions and general constraints ...\n",
      "(PEPit) Setting up the problem: initial conditions and general constraints (0 constraint(s) added)\n",
      "(PEPit) Setting up the problem: interpolation conditions for 2 function(s)\n",
      "\t\t function 1 : Adding 12 scalar constraint(s) ...\n",
      "\t\t function 1 : 12 scalar constraint(s) added\n",
      "\t\t function 2 : Adding 12 scalar constraint(s) ...\n",
      "\t\t function 2 : 12 scalar constraint(s) added\n",
      "(PEPit) Setting up the problem: constraints for 0 function(s)\n",
      "(PEPit) Compiling SDP\n",
      "(PEPit) Calling SDP solver\n"
     ]
    },
    {
     "ename": "SolverError",
     "evalue": "Solver 'MOSEK' failed. Try another solver, or solve with verbose=True for more information.",
     "output_type": "error",
     "traceback": [
      "\u001b[0;31m---------------------------------------------------------------------------\u001b[0m",
      "\u001b[0;31mSolverError\u001b[0m                               Traceback (most recent call last)",
      "Input \u001b[0;32mIn [5]\u001b[0m, in \u001b[0;36m<cell line: 2>\u001b[0;34m()\u001b[0m\n\u001b[1;32m      1\u001b[0m problem \u001b[38;5;241m=\u001b[39m co\u001b[38;5;241m.\u001b[39mdouglas_rachford_splitting(mu, L_smooth, R, Inductance, params\u001b[38;5;241m=\u001b[39mres)\n\u001b[0;32m----> 2\u001b[0m diff \u001b[38;5;241m=\u001b[39m \u001b[43mproblem\u001b[49m\u001b[38;5;241;43m.\u001b[39;49m\u001b[43msolve\u001b[49m\u001b[43m(\u001b[49m\u001b[43mverbose\u001b[49m\u001b[38;5;241;43m=\u001b[39;49m\u001b[38;5;241;43m1\u001b[39;49m\u001b[43m,\u001b[49m\u001b[43m \u001b[49m\u001b[43msolver\u001b[49m\u001b[38;5;241;43m=\u001b[39;49m\u001b[43mcp\u001b[49m\u001b[38;5;241;43m.\u001b[39;49m\u001b[43mMOSEK\u001b[49m\u001b[43m)\u001b[49m\n\u001b[1;32m      3\u001b[0m \u001b[38;5;28mprint\u001b[39m(\u001b[38;5;124mf\u001b[39m\u001b[38;5;124m\"\u001b[39m\u001b[38;5;132;01m{\u001b[39;00mdiff\u001b[38;5;132;01m=}\u001b[39;00m\u001b[38;5;124m\"\u001b[39m)\n",
      "File \u001b[0;32m~/opt/anaconda3/envs/circuits/lib/python3.10/site-packages/PEPit/pep.py:485\u001b[0m, in \u001b[0;36mPEP.solve\u001b[0;34m(self, verbose, return_full_cvxpy_problem, dimension_reduction_heuristic, eig_regularization, tol_dimension_reduction, **kwargs)\u001b[0m\n\u001b[1;32m    483\u001b[0m \u001b[38;5;28;01mif\u001b[39;00m verbose:\n\u001b[1;32m    484\u001b[0m     \u001b[38;5;28mprint\u001b[39m(\u001b[38;5;124m'\u001b[39m\u001b[38;5;124m(PEPit) Calling SDP solver\u001b[39m\u001b[38;5;124m'\u001b[39m)\n\u001b[0;32m--> 485\u001b[0m \u001b[43mprob\u001b[49m\u001b[38;5;241;43m.\u001b[39;49m\u001b[43msolve\u001b[49m\u001b[43m(\u001b[49m\u001b[38;5;241;43m*\u001b[39;49m\u001b[38;5;241;43m*\u001b[39;49m\u001b[43mkwargs\u001b[49m\u001b[43m)\u001b[49m\n\u001b[1;32m    486\u001b[0m \u001b[38;5;28;01mif\u001b[39;00m verbose:\n\u001b[1;32m    487\u001b[0m     \u001b[38;5;28mprint\u001b[39m(\u001b[38;5;124m'\u001b[39m\u001b[38;5;124m(PEPit) Solver status: \u001b[39m\u001b[38;5;132;01m{}\u001b[39;00m\u001b[38;5;124m (solver: \u001b[39m\u001b[38;5;132;01m{}\u001b[39;00m\u001b[38;5;124m); optimal value: \u001b[39m\u001b[38;5;132;01m{}\u001b[39;00m\u001b[38;5;124m'\u001b[39m\u001b[38;5;241m.\u001b[39mformat(prob\u001b[38;5;241m.\u001b[39mstatus,\n\u001b[1;32m    488\u001b[0m                                                                              prob\u001b[38;5;241m.\u001b[39msolver_stats\u001b[38;5;241m.\u001b[39msolver_name,\n\u001b[1;32m    489\u001b[0m                                                                              prob\u001b[38;5;241m.\u001b[39mvalue))\n",
      "File \u001b[0;32m~/opt/anaconda3/envs/circuits/lib/python3.10/site-packages/cvxpy/problems/problem.py:503\u001b[0m, in \u001b[0;36mProblem.solve\u001b[0;34m(self, *args, **kwargs)\u001b[0m\n\u001b[1;32m    501\u001b[0m \u001b[38;5;28;01melse\u001b[39;00m:\n\u001b[1;32m    502\u001b[0m     solve_func \u001b[38;5;241m=\u001b[39m Problem\u001b[38;5;241m.\u001b[39m_solve\n\u001b[0;32m--> 503\u001b[0m \u001b[38;5;28;01mreturn\u001b[39;00m \u001b[43msolve_func\u001b[49m\u001b[43m(\u001b[49m\u001b[38;5;28;43mself\u001b[39;49m\u001b[43m,\u001b[49m\u001b[43m \u001b[49m\u001b[38;5;241;43m*\u001b[39;49m\u001b[43margs\u001b[49m\u001b[43m,\u001b[49m\u001b[43m \u001b[49m\u001b[38;5;241;43m*\u001b[39;49m\u001b[38;5;241;43m*\u001b[39;49m\u001b[43mkwargs\u001b[49m\u001b[43m)\u001b[49m\n",
      "File \u001b[0;32m~/opt/anaconda3/envs/circuits/lib/python3.10/site-packages/cvxpy/problems/problem.py:1086\u001b[0m, in \u001b[0;36mProblem._solve\u001b[0;34m(self, solver, warm_start, verbose, gp, qcp, requires_grad, enforce_dpp, ignore_dpp, canon_backend, **kwargs)\u001b[0m\n\u001b[1;32m   1084\u001b[0m end \u001b[38;5;241m=\u001b[39m time\u001b[38;5;241m.\u001b[39mtime()\n\u001b[1;32m   1085\u001b[0m \u001b[38;5;28mself\u001b[39m\u001b[38;5;241m.\u001b[39m_solve_time \u001b[38;5;241m=\u001b[39m end \u001b[38;5;241m-\u001b[39m start\n\u001b[0;32m-> 1086\u001b[0m \u001b[38;5;28;43mself\u001b[39;49m\u001b[38;5;241;43m.\u001b[39;49m\u001b[43munpack_results\u001b[49m\u001b[43m(\u001b[49m\u001b[43msolution\u001b[49m\u001b[43m,\u001b[49m\u001b[43m \u001b[49m\u001b[43msolving_chain\u001b[49m\u001b[43m,\u001b[49m\u001b[43m \u001b[49m\u001b[43minverse_data\u001b[49m\u001b[43m)\u001b[49m\n\u001b[1;32m   1087\u001b[0m \u001b[38;5;28;01mif\u001b[39;00m verbose:\n\u001b[1;32m   1088\u001b[0m     \u001b[38;5;28mprint\u001b[39m(_FOOTER)\n",
      "File \u001b[0;32m~/opt/anaconda3/envs/circuits/lib/python3.10/site-packages/cvxpy/problems/problem.py:1411\u001b[0m, in \u001b[0;36mProblem.unpack_results\u001b[0;34m(self, solution, chain, inverse_data)\u001b[0m\n\u001b[1;32m   1409\u001b[0m     warnings\u001b[38;5;241m.\u001b[39mwarn(INF_OR_UNB_MESSAGE)\n\u001b[1;32m   1410\u001b[0m \u001b[38;5;28;01mif\u001b[39;00m solution\u001b[38;5;241m.\u001b[39mstatus \u001b[38;5;129;01min\u001b[39;00m s\u001b[38;5;241m.\u001b[39mERROR:\n\u001b[0;32m-> 1411\u001b[0m     \u001b[38;5;28;01mraise\u001b[39;00m error\u001b[38;5;241m.\u001b[39mSolverError(\n\u001b[1;32m   1412\u001b[0m             \u001b[38;5;124m\"\u001b[39m\u001b[38;5;124mSolver \u001b[39m\u001b[38;5;124m'\u001b[39m\u001b[38;5;132;01m%s\u001b[39;00m\u001b[38;5;124m'\u001b[39m\u001b[38;5;124m failed. \u001b[39m\u001b[38;5;124m\"\u001b[39m \u001b[38;5;241m%\u001b[39m chain\u001b[38;5;241m.\u001b[39msolver\u001b[38;5;241m.\u001b[39mname() \u001b[38;5;241m+\u001b[39m\n\u001b[1;32m   1413\u001b[0m             \u001b[38;5;124m\"\u001b[39m\u001b[38;5;124mTry another solver, or solve with verbose=True for more \u001b[39m\u001b[38;5;124m\"\u001b[39m\n\u001b[1;32m   1414\u001b[0m             \u001b[38;5;124m\"\u001b[39m\u001b[38;5;124minformation.\u001b[39m\u001b[38;5;124m\"\u001b[39m)\n\u001b[1;32m   1416\u001b[0m \u001b[38;5;28mself\u001b[39m\u001b[38;5;241m.\u001b[39munpack(solution)\n\u001b[1;32m   1417\u001b[0m \u001b[38;5;28mself\u001b[39m\u001b[38;5;241m.\u001b[39m_solver_stats \u001b[38;5;241m=\u001b[39m SolverStats\u001b[38;5;241m.\u001b[39mfrom_dict(\u001b[38;5;28mself\u001b[39m\u001b[38;5;241m.\u001b[39m_solution\u001b[38;5;241m.\u001b[39mattr,\n\u001b[1;32m   1418\u001b[0m                                  chain\u001b[38;5;241m.\u001b[39msolver\u001b[38;5;241m.\u001b[39mname())\n",
      "\u001b[0;31mSolverError\u001b[0m: Solver 'MOSEK' failed. Try another solver, or solve with verbose=True for more information."
     ]
    }
   ],
   "source": [
    "problem = co.douglas_rachford_splitting(mu, L_smooth, R, Inductance, params=res)\n",
    "diff = problem.solve(verbose=1, solver=cp.MOSEK)\n",
    "print(f\"{diff=}\")"
   ]
  },
  {
   "cell_type": "code",
   "execution_count": null,
   "metadata": {},
   "outputs": [],
   "source": []
  },
  {
   "cell_type": "code",
   "execution_count": null,
   "metadata": {},
   "outputs": [],
   "source": [
    "# Instantiate PEP\n",
    "problem = PEPit.PEP()\n",
    "verbose=False\n",
    "n = 1\n",
    "L = 1\n",
    "theta = 1\n",
    "alpha = 1\n",
    "# Declare a convex and a smooth convex function.\n",
    "func1 = problem.declare_function(ConvexFunction)\n",
    "func2 = problem.declare_function(SmoothConvexFunction, L=L)\n",
    "# Define the function to optimize as the sum of func1 and func2\n",
    "func = func1 + func2\n",
    "\n",
    "# Start by defining its unique optimal point xs = x_* and its function value fs = F(x_*)\n",
    "xs = func.stationary_point()\n",
    "fs = func(xs)\n",
    "\n",
    "# Then define the starting point x0 of the algorithm and its function value f0\n",
    "x0 = problem.set_initial_point()\n",
    "\n",
    "# Compute n steps of the Douglas-Rachford splitting starting from x0\n",
    "x = [x0 for _ in range(n)]\n",
    "w = [x0 for _ in range(n + 1)]\n",
    "for i in range(n):\n",
    "    x[i], _, _ = proximal_step(w[i], func2, alpha)\n",
    "    y, _, fy = proximal_step(2 * x[i] - w[i], func1, alpha)\n",
    "    w[i + 1] = w[i] + theta * (y - x[i])\n",
    "\n",
    "# Set the initial constraint that is the distance between x0 and xs = x_*\n",
    "problem.set_initial_condition((x[0] - xs) ** 2 <= 1)\n",
    "\n",
    "# Set the performance metric to the final distance to the optimum in function values\n",
    "problem.set_performance_metric((func2(y) + fy) - fs)\n",
    "\n",
    "# Solve the PEP\n",
    "pepit_verbose = max(verbose, 0)\n",
    "pepit_tau = problem.solve(verbose=pepit_verbose)\n",
    "\n",
    "# Compute theoretical guarantee (for comparison) when theta = 1\n",
    "if theta == 1 and alpha == 1 and L == 1 and 0 < n <= 10:\n",
    "    pesto_tau = [1 / 4, 0.1273, 0.0838, 0.0627, 0.0501, 0.0417, 0.0357, 0.0313, 0.0278, 0.0250]\n",
    "    theoretical_tau = pesto_tau[n - 1]\n",
    "\n",
    "print(theoretical_tau, pepit_tau)"
   ]
  },
  {
   "cell_type": "code",
   "execution_count": null,
   "metadata": {},
   "outputs": [],
   "source": []
  }
 ],
 "metadata": {
  "kernelspec": {
   "display_name": "osbdo",
   "language": "python",
   "name": "python3"
  },
  "language_info": {
   "codemirror_mode": {
    "name": "ipython",
    "version": 3
   },
   "file_extension": ".py",
   "mimetype": "text/x-python",
   "name": "python",
   "nbconvert_exporter": "python",
   "pygments_lexer": "ipython3",
   "version": "3.10.13"
  }
 },
 "nbformat": 4,
 "nbformat_minor": 2
}
