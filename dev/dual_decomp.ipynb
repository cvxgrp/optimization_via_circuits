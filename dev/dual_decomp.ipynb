{
 "cells": [
  {
   "cell_type": "code",
   "execution_count": 1,
   "metadata": {},
   "outputs": [],
   "source": [
    "import ciropt as co\n",
    "import cvxpy as cp"
   ]
  },
  {
   "cell_type": "code",
   "execution_count": 2,
   "metadata": {},
   "outputs": [],
   "source": [
    "L_smooth = 1.\n",
    "mu = 0#0.000001\n",
    "n_func = 2\n",
    "\n",
    "Inductance = 1\n",
    "\n",
    "# solver = \"ca\"\n",
    "solver = \"ca_canonical\"\n",
    "# solver = \"ca_canonical_X\"\n",
    "# solver = \"qcqp_sni\"\n",
    "# solver = \"bisection_b\""
   ]
  },
  {
   "cell_type": "markdown",
   "metadata": {},
   "source": [
    "# Ciropt problem"
   ]
  },
  {
   "cell_type": "code",
   "execution_count": 3,
   "metadata": {},
   "outputs": [
    {
     "name": "stdout",
     "output_type": "stream",
     "text": [
      "dim_G=7, dim_F=6\n"
     ]
    }
   ],
   "source": [
    "problem = co.dual_decomposition(n_func, mu, L_smooth, Inductance)\n",
    "problem.obj = problem.b\n",
    "\n",
    "res, sol = problem.solve(solver=solver, verbose=False)[:2]\n",
    "ca_vars = problem.vars\n",
    "\n",
    "# res = params = {  'b': 10,\n",
    "#             'h': 1,\n",
    "#             'd': 0.,\n",
    "#             'alpha': 0,\n",
    "#             'beta': 1 }\n",
    "# b = problem.solve(solver=solver, freq=1, max_iters=30, params=params, debug=True)\n",
    "# print(f\"{b = }\")\n",
    "# res[\"b\"] = b"
   ]
  },
  {
   "cell_type": "code",
   "execution_count": 4,
   "metadata": {},
   "outputs": [
    {
     "data": {
      "text/plain": [
       "{'b': 0.0015524894737630572,\n",
       " 'h': 0.0016320819013145769,\n",
       " 'd': 5.681639560492392,\n",
       " 'alpha': 1.3506941829713663e-07,\n",
       " 'beta': 0.9946065005437612}"
      ]
     },
     "execution_count": 4,
     "metadata": {},
     "output_type": "execute_result"
    }
   ],
   "source": [
    "res"
   ]
  },
  {
   "cell_type": "code",
   "execution_count": 5,
   "metadata": {},
   "outputs": [],
   "source": [
    "# 0.000001\n",
    "# {'b': 6.17034369268445e-06,\n",
    "#  'h': 5.793332718658182e-05,\n",
    "#  'd': 0.9212457867118045,\n",
    "#  'alpha': 7.929521556930914e-06,\n",
    "#  'beta': 0.924462679731234}\n",
    "\n",
    "\n",
    "# 0\n",
    "# {'b': 0.0015524894737630572,\n",
    "#  'h': 0.0016320819013145769,\n",
    "#  'd': 5.681639560492392,\n",
    "#  'alpha': 1.3506941829713663e-07,\n",
    "#  'beta': 0.9946065005437612}"
   ]
  }
 ],
 "metadata": {
  "kernelspec": {
   "display_name": "osbdo",
   "language": "python",
   "name": "python3"
  },
  "language_info": {
   "codemirror_mode": {
    "name": "ipython",
    "version": 3
   },
   "file_extension": ".py",
   "mimetype": "text/x-python",
   "name": "python",
   "nbconvert_exporter": "python",
   "pygments_lexer": "ipython3",
   "version": "3.10.13"
  }
 },
 "nbformat": 4,
 "nbformat_minor": 2
}
