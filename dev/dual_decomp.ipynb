{
 "cells": [
  {
   "cell_type": "code",
   "execution_count": 1,
   "metadata": {},
   "outputs": [],
   "source": [
    "import ciropt as co\n",
    "import cvxpy as cp"
   ]
  },
  {
   "cell_type": "code",
   "execution_count": 2,
   "metadata": {},
   "outputs": [],
   "source": [
    "L_smooth = 1.\n",
    "mu = 0 #0.001\n",
    "n_func = 3\n",
    "\n",
    "Inductance = 1\n",
    "\n",
    "# solver = \"ca\"\n",
    "# solver = \"ca_canonical\"\n",
    "# solver = \"ca_canonical_X\"\n",
    "# solver = \"qcqp_sni\"\n",
    "solver = \"bisection_b\""
   ]
  },
  {
   "cell_type": "markdown",
   "metadata": {},
   "source": [
    "# Ciropt problem"
   ]
  },
  {
   "cell_type": "code",
   "execution_count": 3,
   "metadata": {},
   "outputs": [
    {
     "name": "stdout",
     "output_type": "stream",
     "text": [
      "t=0, b=10, prob.status='infeasible'\n",
      "t=1, b=5.0, prob.status='infeasible'\n",
      "t=2, b=2.5, prob.status='infeasible'\n",
      "t=3, b=1.25, prob.status='infeasible'\n",
      "t=4, b=0.625, prob.status='infeasible'\n",
      "t=5, b=0.3125, prob.status='infeasible'\n",
      "t=6, b=0.15625, prob.status='infeasible'\n",
      "t=7, b=0.078125, prob.status='infeasible'\n",
      "t=8, b=0.0390625, prob.status='infeasible'\n",
      "t=9, b=0.01953125, prob.status='infeasible'\n",
      "t=10, b=0.009765625, prob.status='infeasible'\n",
      "t=11, b=0.0048828125, prob.status='infeasible'\n",
      "t=12, b=0.00244140625, prob.status='infeasible'\n",
      "t=13, b=0.001220703125, prob.status='infeasible'\n",
      "t=14, b=0.0006103515625, prob.status='infeasible'\n",
      "t=15, b=0.00030517578125, prob.status='infeasible'\n",
      "t=16, b=0.000152587890625, prob.status='infeasible_inaccurate'\n",
      "b = 3.814697265625e-05\n"
     ]
    },
    {
     "name": "stderr",
     "output_type": "stream",
     "text": [
      "/Users/parshakova.tanya/opt/anaconda3/envs/circuits/lib/python3.10/site-packages/cvxpy/problems/problem.py:1403: UserWarning: Solution may be inaccurate. Try another solver, adjusting the solver settings, or solve with verbose=True for more information.\n",
      "  warnings.warn(\n"
     ]
    }
   ],
   "source": [
    "problem = co.dual_decomposition(n_func, mu, L_smooth, Inductance)\n",
    "problem.obj = problem.b\n",
    "\n",
    "# res, sol = problem.solve(solver=solver, verbose=False)[:2]\n",
    "# ca_vars = problem.vars\n",
    "\n",
    "res = params = {  'b': 10,\n",
    "            'h': 5e-5,\n",
    "            'd': 0.,\n",
    "            'alpha': 0,\n",
    "            'beta': 1 }\n",
    "b = problem.solve(solver=solver, freq=1, max_iters=30, params=params, debug=True)\n",
    "print(f\"{b = }\")\n",
    "res[\"b\"] = b"
   ]
  },
  {
   "cell_type": "code",
   "execution_count": 4,
   "metadata": {},
   "outputs": [
    {
     "data": {
      "text/plain": [
       "{'b': 3.814697265625e-05, 'h': 5e-05, 'd': 0.0, 'alpha': 0, 'beta': 1}"
      ]
     },
     "execution_count": 4,
     "metadata": {},
     "output_type": "execute_result"
    }
   ],
   "source": [
    "res"
   ]
  },
  {
   "cell_type": "code",
   "execution_count": 5,
   "metadata": {},
   "outputs": [],
   "source": [
    "# 0.000001\n",
    "# {'b': 6.17034369268445e-06,\n",
    "#  'h': 5.793332718658182e-05,\n",
    "#  'd': 0.9212457867118045,\n",
    "#  'alpha': 7.929521556930914e-06,\n",
    "#  'beta': 0.924462679731234}\n",
    "\n",
    "\n",
    "# 0\n",
    "# {'b': 0.0015524894737630572,\n",
    "#  'h': 0.0016320819013145769,\n",
    "#  'd': 5.681639560492392,\n",
    "#  'alpha': 1.3506941829713663e-07,\n",
    "#  'beta': 0.9946065005437612}"
   ]
  }
 ],
 "metadata": {
  "kernelspec": {
   "display_name": "osbdo",
   "language": "python",
   "name": "python3"
  },
  "language_info": {
   "codemirror_mode": {
    "name": "ipython",
    "version": 3
   },
   "file_extension": ".py",
   "mimetype": "text/x-python",
   "name": "python",
   "nbconvert_exporter": "python",
   "pygments_lexer": "ipython3",
   "version": "3.10.13"
  }
 },
 "nbformat": 4,
 "nbformat_minor": 2
}
