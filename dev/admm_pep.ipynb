{
 "cells": [
  {
   "cell_type": "code",
   "execution_count": 4,
   "metadata": {},
   "outputs": [],
   "source": [
    "import PEPit\n",
    "from PEPit.functions import SmoothStronglyConvexFunction, StronglyConvexFunction, ConvexFunction, SmoothConvexFunction\n",
    "from PEPit.primitive_steps import proximal_step\n",
    "from PEPit.constraint import Constraint\n",
    "\n",
    "import numpy as np\n",
    "import cvxpy as cp"
   ]
  },
  {
   "cell_type": "markdown",
   "metadata": {},
   "source": [
    "# $f(x)=f_1(x_1)+f_2(x_2), \\quad g(z)=0$"
   ]
  },
  {
   "cell_type": "code",
   "execution_count": 16,
   "metadata": {},
   "outputs": [
    {
     "name": "stdout",
     "output_type": "stream",
     "text": [
      "diff=-1.2122119865419926e-11\n"
     ]
    }
   ],
   "source": [
    "# verification mode: PEP\n",
    "problem = PEPit.PEP()\n",
    "\n",
    "rho = 0.5\n",
    "\n",
    "L_smooth = 1; mu = 0.1\n",
    "# f = problem.declare_function(StronglyConvexFunction, mu=mu)\n",
    "# g = problem.declare_function(StronglyConvexFunction, mu=mu)\n",
    "f = problem.declare_function(SmoothStronglyConvexFunction, mu=mu, L=L_smooth)\n",
    "g = problem.declare_function(SmoothStronglyConvexFunction, mu=mu, L=L_smooth)\n",
    "# f = problem.declare_function(ConvexFunction)\n",
    "# g = problem.declare_function(ConvexFunction)\n",
    "func = f + g\n",
    "x_star, y_star, func_star = func.stationary_point(return_gradient_and_function_value=True)\n",
    "y1_star, _ = f.oracle(x_star)\n",
    "y2_star = y_star - y1_star\n",
    "z1 = problem.set_initial_point()\n",
    "y1_1 = problem.set_initial_point()\n",
    "y2_1 = - y1_1\n",
    "\n",
    "x1_2, grad_f_2, f_2 = proximal_step(z1 - (1/rho) * y1_1, f, 1/rho)\n",
    "x2_2, grad_g_2, g_2 = proximal_step(z1 - (1/rho) * y2_1, g, 1/rho)\n",
    "z2 = (x1_2 + x2_2) / 2\n",
    "y1_2 = y1_1 - rho * (z2 - x1_2)\n",
    "y2_2 = y2_1 - rho * (z2 - x2_2)\n",
    "# problem.add_constraint(Constraint(func_star - (f_2 + g_2 - y1_star * (x1_2 - z2) - y2_star * (x2_2 - z2)), equality_or_inequality=\"inequality\"))\n",
    "\n",
    "E_1 = (1/rho) * (y1_1 + y1_star)**2 + (1/rho) * (y2_1 + y2_star)**2 + 2 * rho * (z1 - x_star)**2 \n",
    "E_2 = (1/rho) * (y1_2 + y1_star)**2 + (1/rho) * (y2_2 + y2_star)**2 + 2 * rho * (z2 - x_star)**2 \n",
    "Delta_1 = rho * (x1_2 - z2)**2 + rho * (x2_2 - z2)**2 + rho * (z1 - z2)**2 \n",
    "\n",
    "problem.set_performance_metric(E_2 - (E_1 - Delta_1))\n",
    "\n",
    "diff = problem.solve(verbose=0, solver=cp.MOSEK)\n",
    "print(f\"{diff=}\")"
   ]
  },
  {
   "cell_type": "markdown",
   "metadata": {},
   "source": [
    "# $f(x)=f_1(x_1), \\quad g(z)=f_2(x_2)$"
   ]
  },
  {
   "cell_type": "code",
   "execution_count": 18,
   "metadata": {},
   "outputs": [
    {
     "ename": "UserWarning",
     "evalue": "PEPit didn't find any nontrivial worst-case guarantee. It seems that the optimal value of your problem is unbounded.",
     "output_type": "error",
     "traceback": [
      "\u001b[0;31m---------------------------------------------------------------------------\u001b[0m",
      "\u001b[0;31mUserWarning\u001b[0m                               Traceback (most recent call last)",
      "Input \u001b[0;32mIn [18]\u001b[0m, in \u001b[0;36m<cell line: 30>\u001b[0;34m()\u001b[0m\n\u001b[1;32m     26\u001b[0m Delta_1 \u001b[38;5;241m=\u001b[39m rho \u001b[38;5;241m*\u001b[39m (x2 \u001b[38;5;241m-\u001b[39m z2)\u001b[38;5;241m*\u001b[39m\u001b[38;5;241m*\u001b[39m\u001b[38;5;241m2\u001b[39m \u001b[38;5;241m+\u001b[39m rho \u001b[38;5;241m*\u001b[39m (z2 \u001b[38;5;241m-\u001b[39m z1)\u001b[38;5;241m*\u001b[39m\u001b[38;5;241m*\u001b[39m\u001b[38;5;241m2\u001b[39m\n\u001b[1;32m     28\u001b[0m problem\u001b[38;5;241m.\u001b[39mset_performance_metric(E_2 \u001b[38;5;241m-\u001b[39m (E_1 \u001b[38;5;241m-\u001b[39m Delta_1))\n\u001b[0;32m---> 30\u001b[0m diff \u001b[38;5;241m=\u001b[39m \u001b[43mproblem\u001b[49m\u001b[38;5;241;43m.\u001b[39;49m\u001b[43msolve\u001b[49m\u001b[43m(\u001b[49m\u001b[43mverbose\u001b[49m\u001b[38;5;241;43m=\u001b[39;49m\u001b[38;5;241;43m0\u001b[39;49m\u001b[43m,\u001b[49m\u001b[43m \u001b[49m\u001b[43msolver\u001b[49m\u001b[38;5;241;43m=\u001b[39;49m\u001b[43mcp\u001b[49m\u001b[38;5;241;43m.\u001b[39;49m\u001b[43mMOSEK\u001b[49m\u001b[43m)\u001b[49m\n\u001b[1;32m     31\u001b[0m \u001b[38;5;28mprint\u001b[39m(\u001b[38;5;124mf\u001b[39m\u001b[38;5;124m\"\u001b[39m\u001b[38;5;132;01m{\u001b[39;00mdiff\u001b[38;5;132;01m=}\u001b[39;00m\u001b[38;5;124m\"\u001b[39m)\n",
      "File \u001b[0;32m~/opt/anaconda3/envs/circuits/lib/python3.10/site-packages/PEPit/pep.py:496\u001b[0m, in \u001b[0;36mPEP.solve\u001b[0;34m(self, verbose, return_full_cvxpy_problem, dimension_reduction_heuristic, eig_regularization, tol_dimension_reduction, **kwargs)\u001b[0m\n\u001b[1;32m    494\u001b[0m \u001b[38;5;66;03m# Raise explicit error when wc_value in infinite\u001b[39;00m\n\u001b[1;32m    495\u001b[0m \u001b[38;5;28;01mif\u001b[39;00m wc_value \u001b[38;5;241m==\u001b[39m np\u001b[38;5;241m.\u001b[39minf:\n\u001b[0;32m--> 496\u001b[0m     \u001b[38;5;28;01mraise\u001b[39;00m \u001b[38;5;167;01mUserWarning\u001b[39;00m(\u001b[38;5;124m\"\u001b[39m\u001b[38;5;124mPEPit didn\u001b[39m\u001b[38;5;124m'\u001b[39m\u001b[38;5;124mt find any nontrivial worst-case guarantee. \u001b[39m\u001b[38;5;124m\"\u001b[39m\n\u001b[1;32m    497\u001b[0m                       \u001b[38;5;124m\"\u001b[39m\u001b[38;5;124mIt seems that the optimal value of your problem is unbounded.\u001b[39m\u001b[38;5;124m\"\u001b[39m)\n\u001b[1;32m    499\u001b[0m \u001b[38;5;66;03m# Keep dual values before dimension reduction in memory\u001b[39;00m\n\u001b[1;32m    500\u001b[0m \u001b[38;5;66;03m# Dimension aims at finding low dimension lower bound functions,\u001b[39;00m\n\u001b[1;32m    501\u001b[0m \u001b[38;5;66;03m# but solves a different problem with an extra condition and different objective,\u001b[39;00m\n\u001b[1;32m    502\u001b[0m \u001b[38;5;66;03m# leading to different dual values. The ones we store here provide the proof of the obtained guarantee.\u001b[39;00m\n\u001b[1;32m    503\u001b[0m \u001b[38;5;28;01massert\u001b[39;00m \u001b[38;5;28mself\u001b[39m\u001b[38;5;241m.\u001b[39m_list_of_cvxpy_constraints \u001b[38;5;241m==\u001b[39m prob\u001b[38;5;241m.\u001b[39mconstraints\n",
      "\u001b[0;31mUserWarning\u001b[0m: PEPit didn't find any nontrivial worst-case guarantee. It seems that the optimal value of your problem is unbounded."
     ]
    }
   ],
   "source": [
    "# verification mode: PEP\n",
    "problem = PEPit.PEP()\n",
    "\n",
    "rho = 1\n",
    "\n",
    "L_smooth = 1; mu = 0.001\n",
    "# f = problem.declare_function(StronglyConvexFunction, mu=mu)\n",
    "# g = problem.declare_function(StronglyConvexFunction, mu=mu)\n",
    "f = problem.declare_function(SmoothStronglyConvexFunction, mu=mu, L=L_smooth)\n",
    "g = problem.declare_function(SmoothStronglyConvexFunction, mu=mu, L=L_smooth)\n",
    "# f = problem.declare_function(ConvexFunction)\n",
    "# g = problem.declare_function(ConvexFunction)\n",
    "func = f + g\n",
    "x_star, y_star, func_star = func.stationary_point(return_gradient_and_function_value=True)\n",
    "z1 = problem.set_initial_point()\n",
    "y1 = problem.set_initial_point()\n",
    "\n",
    "\n",
    "x2, _, f_2 = proximal_step(z1 - (1/rho) * y1, f, 1/rho)\n",
    "z2, _, g_2 = proximal_step(x2 + (1/rho) * y1, g, 1/rho)\n",
    "y2 = y1 + rho * (x2 - z2)\n",
    "# problem.add_constraint(Constraint(func_star - f_2 - g_2, equality_or_inequality=\"inequality\"))\n",
    "\n",
    "E_1 = (1/rho) * (y1 - y_star)**2 + rho * (z1 - x_star)**2\n",
    "E_2 = (1/rho) * (y2 - y_star)**2 + rho * (z2 - x_star)**2\n",
    "Delta_1 = rho * (x2 - z2)**2 + rho * (z2 - z1)**2\n",
    "\n",
    "problem.set_performance_metric(E_2 - (E_1 - Delta_1))\n",
    "\n",
    "diff = problem.solve(verbose=0, solver=cp.MOSEK)\n",
    "print(f\"{diff=}\")"
   ]
  },
  {
   "cell_type": "code",
   "execution_count": null,
   "metadata": {},
   "outputs": [],
   "source": []
  }
 ],
 "metadata": {
  "kernelspec": {
   "display_name": "circuits",
   "language": "python",
   "name": "python3"
  },
  "language_info": {
   "codemirror_mode": {
    "name": "ipython",
    "version": 3
   },
   "file_extension": ".py",
   "mimetype": "text/x-python",
   "name": "python",
   "nbconvert_exporter": "python",
   "pygments_lexer": "ipython3",
   "version": "3.10.13"
  }
 },
 "nbformat": 4,
 "nbformat_minor": 2
}
