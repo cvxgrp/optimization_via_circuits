{
 "cells": [
  {
   "cell_type": "code",
   "execution_count": 1,
   "metadata": {},
   "outputs": [],
   "source": [
    "import PEPit\n",
    "from PEPit.functions import SmoothStronglyConvexFunction\n",
    "from PEPit.primitive_steps import proximal_step\n",
    "\n",
    "import numpy as np\n",
    "import cvxpy as cp"
   ]
  },
  {
   "cell_type": "code",
   "execution_count": 2,
   "metadata": {},
   "outputs": [
    {
     "name": "stdout",
     "output_type": "stream",
     "text": [
      "(PEPit) Setting up the problem: size of the main PSD matrix: 7x7\n",
      "(PEPit) Setting up the problem: performance measure is minimum of 1 element(s)\n",
      "(PEPit) Setting up the problem: Adding initial conditions and general constraints ...\n",
      "(PEPit) Setting up the problem: initial conditions and general constraints (0 constraint(s) added)\n",
      "(PEPit) Setting up the problem: interpolation conditions for 2 function(s)\n",
      "\t\t function 1 : Adding 6 scalar constraint(s) ...\n",
      "\t\t function 1 : 6 scalar constraint(s) added\n",
      "\t\t function 2 : Adding 6 scalar constraint(s) ...\n",
      "\t\t function 2 : 6 scalar constraint(s) added\n",
      "(PEPit) Setting up the problem: constraints for 0 function(s)\n",
      "(PEPit) Compiling SDP\n",
      "(PEPit) Calling SDP solver\n",
      "(PEPit) Solver status: unbounded (solver: MOSEK); optimal value: inf\n"
     ]
    },
    {
     "ename": "UserWarning",
     "evalue": "PEPit didn't find any nontrivial worst-case guarantee. It seems that the optimal value of your problem is unbounded.",
     "output_type": "error",
     "traceback": [
      "\u001b[0;31m---------------------------------------------------------------------------\u001b[0m",
      "\u001b[0;31mUserWarning\u001b[0m                               Traceback (most recent call last)",
      "\u001b[1;32m/Users/parshakova.tanya/Documents/projects/Circuits/optimization_via_circuits/dev/admm_pep.ipynb Cell 2\u001b[0m line \u001b[0;36m<cell line: 28>\u001b[0;34m()\u001b[0m\n\u001b[1;32m     <a href='vscode-notebook-cell:/Users/parshakova.tanya/Documents/projects/Circuits/optimization_via_circuits/dev/admm_pep.ipynb#W1sZmlsZQ%3D%3D?line=23'>24</a>\u001b[0m Delta_1 \u001b[39m=\u001b[39m rho \u001b[39m*\u001b[39m (x2 \u001b[39m-\u001b[39m z2)\u001b[39m*\u001b[39m\u001b[39m*\u001b[39m\u001b[39m2\u001b[39m \u001b[39m+\u001b[39m rho \u001b[39m*\u001b[39m (z2 \u001b[39m-\u001b[39m z1)\u001b[39m*\u001b[39m\u001b[39m*\u001b[39m\u001b[39m2\u001b[39m\n\u001b[1;32m     <a href='vscode-notebook-cell:/Users/parshakova.tanya/Documents/projects/Circuits/optimization_via_circuits/dev/admm_pep.ipynb#W1sZmlsZQ%3D%3D?line=25'>26</a>\u001b[0m problem\u001b[39m.\u001b[39mset_performance_metric(E_2 \u001b[39m-\u001b[39m (E_1 \u001b[39m-\u001b[39m Delta_1))\n\u001b[0;32m---> <a href='vscode-notebook-cell:/Users/parshakova.tanya/Documents/projects/Circuits/optimization_via_circuits/dev/admm_pep.ipynb#W1sZmlsZQ%3D%3D?line=27'>28</a>\u001b[0m diff \u001b[39m=\u001b[39m problem\u001b[39m.\u001b[39;49msolve(verbose\u001b[39m=\u001b[39;49m\u001b[39m1\u001b[39;49m, solver\u001b[39m=\u001b[39;49mcp\u001b[39m.\u001b[39;49mMOSEK)\n\u001b[1;32m     <a href='vscode-notebook-cell:/Users/parshakova.tanya/Documents/projects/Circuits/optimization_via_circuits/dev/admm_pep.ipynb#W1sZmlsZQ%3D%3D?line=28'>29</a>\u001b[0m \u001b[39mprint\u001b[39m(\u001b[39mf\u001b[39m\u001b[39m\"\u001b[39m\u001b[39m{\u001b[39;00mdiff\u001b[39m=}\u001b[39;00m\u001b[39m\"\u001b[39m)\n",
      "File \u001b[0;32m~/opt/anaconda3/envs/circuits/lib/python3.10/site-packages/PEPit/pep.py:496\u001b[0m, in \u001b[0;36mPEP.solve\u001b[0;34m(self, verbose, return_full_cvxpy_problem, dimension_reduction_heuristic, eig_regularization, tol_dimension_reduction, **kwargs)\u001b[0m\n\u001b[1;32m    494\u001b[0m \u001b[39m# Raise explicit error when wc_value in infinite\u001b[39;00m\n\u001b[1;32m    495\u001b[0m \u001b[39mif\u001b[39;00m wc_value \u001b[39m==\u001b[39m np\u001b[39m.\u001b[39minf:\n\u001b[0;32m--> 496\u001b[0m     \u001b[39mraise\u001b[39;00m \u001b[39mUserWarning\u001b[39;00m(\u001b[39m\"\u001b[39m\u001b[39mPEPit didn\u001b[39m\u001b[39m'\u001b[39m\u001b[39mt find any nontrivial worst-case guarantee. \u001b[39m\u001b[39m\"\u001b[39m\n\u001b[1;32m    497\u001b[0m                       \u001b[39m\"\u001b[39m\u001b[39mIt seems that the optimal value of your problem is unbounded.\u001b[39m\u001b[39m\"\u001b[39m)\n\u001b[1;32m    499\u001b[0m \u001b[39m# Keep dual values before dimension reduction in memory\u001b[39;00m\n\u001b[1;32m    500\u001b[0m \u001b[39m# Dimension aims at finding low dimension lower bound functions,\u001b[39;00m\n\u001b[1;32m    501\u001b[0m \u001b[39m# but solves a different problem with an extra condition and different objective,\u001b[39;00m\n\u001b[1;32m    502\u001b[0m \u001b[39m# leading to different dual values. The ones we store here provide the proof of the obtained guarantee.\u001b[39;00m\n\u001b[1;32m    503\u001b[0m \u001b[39massert\u001b[39;00m \u001b[39mself\u001b[39m\u001b[39m.\u001b[39m_list_of_cvxpy_constraints \u001b[39m==\u001b[39m prob\u001b[39m.\u001b[39mconstraints\n",
      "\u001b[0;31mUserWarning\u001b[0m: PEPit didn't find any nontrivial worst-case guarantee. It seems that the optimal value of your problem is unbounded."
     ]
    }
   ],
   "source": [
    "# verification mode: PEP\n",
    "problem = PEPit.PEP()\n",
    "\n",
    "L_smooth = 1\n",
    "mu = 0.001\n",
    "\n",
    "rho = 1\n",
    "f = problem.declare_function(SmoothStronglyConvexFunction, mu=mu, L=L_smooth)\n",
    "g = problem.declare_function(SmoothStronglyConvexFunction, mu=mu, L=L_smooth)\n",
    "\n",
    "x_star, y_star, _ = (f + g).stationary_point(return_gradient_and_function_value=True)\n",
    "z0 = problem.set_initial_point()\n",
    "\n",
    "x1, grad_f_1, f_1 = proximal_step(z0, f, 1/rho)\n",
    "z1, grad_g_1, g_1 = proximal_step(x1, g, 1/rho)\n",
    "y1 = rho * (x1 - z1)\n",
    "\n",
    "x2, _, _ = proximal_step(z1 - (1/rho) * y1, f, 1/rho)\n",
    "z2, _, _ = proximal_step(x2 + (1/rho) * y1, g, 1/rho)\n",
    "y2 = y1 + rho * (x2 - z2)\n",
    "\n",
    "E_1 = (1/rho) * (y1 - y_star)**2 + rho * (z1 - x_star)**2\n",
    "E_2 = (1/rho) * (y2 - y_star)**2 + rho * (z2 - x_star)**2\n",
    "Delta_1 = rho * (x2 - z2)**2 + rho * (z2 - z1)**2\n",
    "\n",
    "problem.set_performance_metric(E_2 - (E_1 - Delta_1))\n",
    "\n",
    "diff = problem.solve(verbose=1, solver=cp.MOSEK)\n",
    "print(f\"{diff=}\")"
   ]
  },
  {
   "cell_type": "code",
   "execution_count": null,
   "metadata": {},
   "outputs": [],
   "source": []
  }
 ],
 "metadata": {
  "kernelspec": {
   "display_name": "circuits",
   "language": "python",
   "name": "python3"
  },
  "language_info": {
   "codemirror_mode": {
    "name": "ipython",
    "version": 3
   },
   "file_extension": ".py",
   "mimetype": "text/x-python",
   "name": "python",
   "nbconvert_exporter": "python",
   "pygments_lexer": "ipython3",
   "version": "3.10.13"
  }
 },
 "nbformat": 4,
 "nbformat_minor": 2
}
