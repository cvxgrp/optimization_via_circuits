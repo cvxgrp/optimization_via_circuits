{
 "cells": [
  {
   "cell_type": "code",
   "execution_count": 1,
   "metadata": {},
   "outputs": [],
   "source": [
    "import PEPit\n",
    "from PEPit.functions import SmoothStronglyConvexFunction, StronglyConvexFunction, ConvexFunction, SmoothConvexFunction\n",
    "from PEPit.primitive_steps import proximal_step\n",
    "from PEPit.constraint import Constraint\n",
    "\n",
    "import numpy as np\n",
    "import cvxpy as cp"
   ]
  },
  {
   "cell_type": "markdown",
   "metadata": {},
   "source": [
    "# $f(x)=f_1(x_1)+f_2(x_2), \\quad g(z)=0$"
   ]
  },
  {
   "cell_type": "code",
   "execution_count": 8,
   "metadata": {},
   "outputs": [
    {
     "name": "stdout",
     "output_type": "stream",
     "text": [
      "diff=-1.2122119865419926e-11\n"
     ]
    }
   ],
   "source": [
    "# verification mode: PEP\n",
    "problem = PEPit.PEP()\n",
    "\n",
    "rho = 0.5\n",
    "\n",
    "L_smooth = 1; mu = 0.1\n",
    "# f = problem.declare_function(StronglyConvexFunction, mu=mu)\n",
    "# g = problem.declare_function(StronglyConvexFunction, mu=mu)\n",
    "f = problem.declare_function(SmoothStronglyConvexFunction, mu=mu, L=L_smooth)\n",
    "g = problem.declare_function(SmoothStronglyConvexFunction, mu=mu, L=L_smooth)\n",
    "# f = problem.declare_function(ConvexFunction)\n",
    "# g = problem.declare_function(ConvexFunction)\n",
    "func = f + g\n",
    "x_star, y_star, func_star = func.stationary_point(return_gradient_and_function_value=True)\n",
    "y1_star, _ = f.oracle(x_star)\n",
    "y2_star = y_star - y1_star\n",
    "z1 = problem.set_initial_point()\n",
    "y1_1 = problem.set_initial_point()\n",
    "y2_1 = - y1_1\n",
    "\n",
    "x1_2, grad_f_2, f_2 = proximal_step(z1 - (1/rho) * y1_1, f, 1/rho)\n",
    "x2_2, grad_g_2, g_2 = proximal_step(z1 - (1/rho) * y2_1, g, 1/rho)\n",
    "z2 = (x1_2 + x2_2) / 2\n",
    "y1_2 = y1_1 - rho * (z2 - x1_2)\n",
    "y2_2 = y2_1 - rho * (z2 - x2_2)\n",
    "\n",
    "E_1 = (1/rho) * (y1_1 + y1_star)**2 + (1/rho) * (y2_1 + y2_star)**2 + 2 * rho * (z1 - x_star)**2 \n",
    "E_2 = (1/rho) * (y1_2 + y1_star)**2 + (1/rho) * (y2_2 + y2_star)**2 + 2 * rho * (z2 - x_star)**2 \n",
    "Delta_1 = rho * (x1_2 - z2)**2 + rho * (x2_2 - z2)**2 + rho * (z1 - z2)**2 \n",
    "\n",
    "problem.set_performance_metric(E_2 - (E_1 - Delta_1))\n",
    "\n",
    "diff = problem.solve(verbose=0, solver=cp.MOSEK)\n",
    "print(f\"{diff=}\")"
   ]
  },
  {
   "cell_type": "markdown",
   "metadata": {},
   "source": [
    "# $f(x)=f_1(x_1), \\quad g(z)=f_2(x_2)$"
   ]
  },
  {
   "cell_type": "code",
   "execution_count": 13,
   "metadata": {},
   "outputs": [
    {
     "name": "stdout",
     "output_type": "stream",
     "text": [
      "diff=-2.1470603073225902e-12\n"
     ]
    }
   ],
   "source": [
    "# verification mode: PEP\n",
    "problem = PEPit.PEP()\n",
    "\n",
    "rho = 1\n",
    "\n",
    "L_smooth = 1; mu = 0.001\n",
    "# f = problem.declare_function(StronglyConvexFunction, mu=mu)\n",
    "# g = problem.declare_function(StronglyConvexFunction, mu=mu)\n",
    "# f = problem.declare_function(SmoothStronglyConvexFunction, mu=mu, L=L_smooth)\n",
    "# g = problem.declare_function(SmoothStronglyConvexFunction, mu=mu, L=L_smooth)\n",
    "f = problem.declare_function(ConvexFunction)\n",
    "g = problem.declare_function(ConvexFunction)\n",
    "func = f + g\n",
    "x_star, y_star, func_star = func.stationary_point(return_gradient_and_function_value=True)\n",
    "z0 = problem.set_initial_point()\n",
    "y0 = problem.set_initial_point()\n",
    "\n",
    "x1, grad_f_1, f_1 = proximal_step(z0 - (1/rho) * y0, f, 1/rho)\n",
    "z1, grad_g_1, g_1 = proximal_step(x1 + (1/rho) * y0, g, 1/rho)\n",
    "y1 = y0 + rho * (x1 - z1)\n",
    "\n",
    "x2, _, f_2 = proximal_step(z1 - (1/rho) * y1, f, 1/rho)\n",
    "z2, _, g_2 = proximal_step(x2 + (1/rho) * y1, g, 1/rho)\n",
    "y2 = y1 + rho * (x2 - z2)\n",
    "problem.add_constraint(Constraint(func_star - f_2 - g_2 - y_star * (x2 - z2), equality_or_inequality=\"inequality\"))\n",
    "\n",
    "E_1 = (1/rho) * (y1 - y_star)**2 + rho * (z1 - x_star)**2\n",
    "E_2 = (1/rho) * (y2 - y_star)**2 + rho * (z2 - x_star)**2\n",
    "Delta_1 = rho * (x2 - z2)**2 + rho * (z2 - z1)**2\n",
    "\n",
    "problem.set_performance_metric(E_2 - (E_1 - Delta_1))\n",
    "\n",
    "diff = problem.solve(verbose=0, solver=cp.MOSEK)\n",
    "print(f\"{diff=}\")"
   ]
  },
  {
   "cell_type": "code",
   "execution_count": null,
   "metadata": {},
   "outputs": [],
   "source": []
  }
 ],
 "metadata": {
  "kernelspec": {
   "display_name": "circuits",
   "language": "python",
   "name": "python3"
  },
  "language_info": {
   "codemirror_mode": {
    "name": "ipython",
    "version": 3
   },
   "file_extension": ".py",
   "mimetype": "text/x-python",
   "name": "python",
   "nbconvert_exporter": "python",
   "pygments_lexer": "ipython3",
   "version": "3.10.13"
  }
 },
 "nbformat": 4,
 "nbformat_minor": 2
}
