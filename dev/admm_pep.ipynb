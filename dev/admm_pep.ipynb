{
 "cells": [
  {
   "cell_type": "code",
   "execution_count": 1,
   "metadata": {},
   "outputs": [],
   "source": [
    "import PEPit\n",
    "from PEPit.functions import SmoothStronglyConvexFunction, StronglyConvexFunction, ConvexFunction, SmoothConvexFunction\n",
    "from PEPit.primitive_steps import proximal_step\n",
    "from PEPit.constraint import Constraint\n",
    "\n",
    "import numpy as np\n",
    "import cvxpy as cp"
   ]
  },
  {
   "cell_type": "code",
   "execution_count": 2,
   "metadata": {},
   "outputs": [
    {
     "name": "stdout",
     "output_type": "stream",
     "text": [
      "(PEPit) Setting up the problem: size of the main PSD matrix: 7x7\n",
      "(PEPit) Setting up the problem: performance measure is minimum of 1 element(s)\n",
      "(PEPit) Setting up the problem: Adding initial conditions and general constraints ...\n",
      "(PEPit) Setting up the problem: initial conditions and general constraints (2 constraint(s) added)\n",
      "(PEPit) Setting up the problem: interpolation conditions for 2 function(s)\n",
      "\t\t function 1 : Adding 6 scalar constraint(s) ...\n",
      "\t\t function 1 : 6 scalar constraint(s) added\n",
      "\t\t function 2 : Adding 6 scalar constraint(s) ...\n",
      "\t\t function 2 : 6 scalar constraint(s) added\n",
      "(PEPit) Setting up the problem: constraints for 0 function(s)\n",
      "(PEPit) Compiling SDP\n",
      "(PEPit) Calling SDP solver\n",
      "(PEPit) Solver status: optimal (solver: MOSEK); optimal value: -1.4225415290169963e-10\n",
      "diff=-1.4225415290169963e-10\n"
     ]
    }
   ],
   "source": [
    "# verification mode: PEP\n",
    "problem = PEPit.PEP()\n",
    "\n",
    "rho = 1\n",
    "\n",
    "L_smooth = 1; mu = 0.001\n",
    "# f = problem.declare_function(StronglyConvexFunction, mu=mu)\n",
    "# g = problem.declare_function(StronglyConvexFunction, mu=mu)\n",
    "# f = problem.declare_function(SmoothStronglyConvexFunction, mu=mu, L=L_smooth)\n",
    "# g = problem.declare_function(SmoothStronglyConvexFunction, mu=mu, L=L_smooth)\n",
    "f = problem.declare_function(ConvexFunction)\n",
    "g = problem.declare_function(ConvexFunction)\n",
    "func = f + g\n",
    "x_star, y_star, func_star = func.stationary_point(return_gradient_and_function_value=True)\n",
    "z0 = problem.set_initial_point()\n",
    "\n",
    "x1, grad_f_1, f_1 = proximal_step(z0, f, 1/rho)\n",
    "z1, grad_g_1, g_1 = proximal_step(x1, g, 1/rho)\n",
    "y1 = rho * (x1 - z1)\n",
    "problem.add_constraint(Constraint(func_star - f_1 - g_1, equality_or_inequality=\"inequality\"))\n",
    "\n",
    "x2, _, f_2 = proximal_step(z1 - (1/rho) * y1, f, 1/rho)\n",
    "z2, _, g_2 = proximal_step(x2 + (1/rho) * y1, g, 1/rho)\n",
    "y2 = y1 + rho * (x2 - z2)\n",
    "problem.add_constraint(Constraint(func_star - f_2 - g_2, equality_or_inequality=\"inequality\"))\n",
    "\n",
    "E_1 = (1/rho) * (y1 - y_star)**2 + rho * (z1 - x_star)**2\n",
    "E_2 = (1/rho) * (y2 - y_star)**2 + rho * (z2 - x_star)**2\n",
    "Delta_1 = rho * (x2 - z2)**2 + rho * (z2 - z1)**2\n",
    "\n",
    "problem.set_performance_metric(E_2 - (E_1 - Delta_1))\n",
    "\n",
    "diff = problem.solve(verbose=1, solver=cp.MOSEK)\n",
    "print(f\"{diff=}\")"
   ]
  },
  {
   "cell_type": "code",
   "execution_count": null,
   "metadata": {},
   "outputs": [],
   "source": []
  },
  {
   "cell_type": "code",
   "execution_count": null,
   "metadata": {},
   "outputs": [],
   "source": []
  },
  {
   "cell_type": "code",
   "execution_count": null,
   "metadata": {},
   "outputs": [],
   "source": []
  }
 ],
 "metadata": {
  "kernelspec": {
   "display_name": "circuits",
   "language": "python",
   "name": "python3"
  },
  "language_info": {
   "codemirror_mode": {
    "name": "ipython",
    "version": 3
   },
   "file_extension": ".py",
   "mimetype": "text/x-python",
   "name": "python",
   "nbconvert_exporter": "python",
   "pygments_lexer": "ipython3",
   "version": "3.10.13"
  }
 },
 "nbformat": 4,
 "nbformat_minor": 2
}
