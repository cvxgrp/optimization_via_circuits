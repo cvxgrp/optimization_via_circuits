{
 "cells": [
  {
   "cell_type": "code",
   "execution_count": 1,
   "metadata": {},
   "outputs": [],
   "source": [
    "import ciropt as co\n",
    "import cvxpy as cp"
   ]
  },
  {
   "cell_type": "code",
   "execution_count": 2,
   "metadata": {},
   "outputs": [],
   "source": [
    "L_smooth = 1.\n",
    "mu = 0.0001\n",
    "\n",
    "Capacitance = 2.\n",
    "Inductance = 2.\n",
    "R = 1.\n",
    "\n",
    "time_limit=100"
   ]
  },
  {
   "cell_type": "markdown",
   "metadata": {},
   "source": [
    "# Ciropt problem"
   ]
  },
  {
   "cell_type": "code",
   "execution_count": null,
   "metadata": {},
   "outputs": [],
   "source": [
    "problem = co.accelerated_gradient_circuit(mu, L_smooth, R, Capacitance, Inductance)\n",
    "problem.obj = problem.b + problem.d\n",
    "\n",
    "bounds_names = ['alpha', 'beta', 'Z', \"lamb\"]\n",
    "res, model = problem.solve(verbose=False, solver=\"sdp_relax\", var_bound=bounds_names[-1], max_iter=100, time_limit=time_limit)[:2]\n",
    "vars = problem.vars\n",
    "print(problem.bounds_vars)"
   ]
  },
  {
   "cell_type": "code",
   "execution_count": null,
   "metadata": {},
   "outputs": [],
   "source": [
    "problem = co.accelerated_gradient_circuit(mu, L_smooth, R, Capacitance, Inductance)\n",
    "problem.obj = problem.b + problem.d\n",
    "\n",
    "bounds_names = ['alpha', 'beta', 'Z', \"lamb\"]\n",
    "res, model = problem.solve(verbose=True, solver=\"sdp_relax\", cvx_solver=cp.MOSEK, var_bound=bounds_names[2], max_iter=100, time_limit=time_limit)[:2]\n",
    "vars = problem.vars\n",
    "print(problem.bounds_vars)"
   ]
  },
  {
   "cell_type": "code",
   "execution_count": 3,
   "metadata": {},
   "outputs": [
    {
     "name": "stdout",
     "output_type": "stream",
     "text": [
      "dim_G=6, dim_F=4\n",
      "Set parameter Username\n",
      "Academic license - for non-commercial use only - expires 2024-10-31\n",
      "<class 'numpy.ndarray'> <class 'gurobipy.MQuadExpr'> <class 'numpy.ndarray'>\n"
     ]
    },
    {
     "name": "stderr",
     "output_type": "stream",
     "text": [
      "/Users/parshakova.tanya/Documents/projects/Circuits/optimization_via_circuits/ciropt/extra_methods.py:250: RuntimeWarning: Chained matrix multiplications of MVars is inefficient, collect numeric terms first when building expressions\n",
      "  model.addConstr(  (M1 @ var_x).item()  - gp_trace(M2 @ var_X) == 0)\n"
     ]
    },
    {
     "name": "stdout",
     "output_type": "stream",
     "text": [
      "<class 'numpy.ndarray'> <class 'gurobipy.MQuadExpr'> <class 'numpy.ndarray'>\n",
      "<class 'numpy.ndarray'> <class 'gurobipy.MQuadExpr'> <class 'numpy.ndarray'>\n",
      "<class 'numpy.ndarray'> <class 'gurobipy.MQuadExpr'> <class 'numpy.ndarray'>\n"
     ]
    },
    {
     "name": "stderr",
     "output_type": "stream",
     "text": [
      "/Users/parshakova.tanya/Documents/projects/Circuits/optimization_via_circuits/ciropt/extra_methods.py:265: RuntimeWarning: Chained matrix multiplications of MVars is inefficient, collect numeric terms first when building expressions\n",
      "  + gp_trace(M2 @ var_X) \\\n",
      "/Users/parshakova.tanya/Documents/projects/Circuits/optimization_via_circuits/ciropt/extra_methods.py:266: RuntimeWarning: Chained matrix multiplications of MVars is inefficient, collect numeric terms first when building expressions\n",
      "  - gp_trace(M3 @ var_X) == 0)\n",
      "/Users/parshakova.tanya/Documents/projects/Circuits/optimization_via_circuits/ciropt/extra_methods.py:279: RuntimeWarning: Chained matrix multiplications of MVars is inefficient, collect numeric terms first when building expressions\n",
      "  model.addConstr( gp_trace(M1 @ var_X) + (M2 @ var_x).item() == 0)\n"
     ]
    },
    {
     "name": "stdout",
     "output_type": "stream",
     "text": [
      "Set parameter NonConvex to value 2\n",
      "Set parameter TimeLimit to value 100\n",
      "Set parameter FeasibilityTol to value 1e-09\n",
      "Set parameter Method to value 0\n",
      "Set parameter PoolSearchMode to value 1\n",
      "Set parameter Heuristics to value 0.001\n",
      "Gurobi Optimizer version 10.0.3 build v10.0.3rc0 (mac64[rosetta2])\n",
      "\n",
      "CPU model: Apple M2\n",
      "Thread count: 8 physical cores, 8 logical processors, using up to 8 threads\n",
      "\n",
      "Optimize a model with 26 rows, 72 columns and 26 nonzeros\n",
      "Model fingerprint: 0xa81bc9a9\n",
      "Model has 72 quadratic constraints\n",
      "Coefficient statistics:\n",
      "  Matrix range     [1e+00, 1e+00]\n",
      "  QMatrix range    [3e-06, 1e+00]\n",
      "  QLMatrix range   [6e-02, 1e+00]\n",
      "  Objective range  [1e+00, 1e+00]\n",
      "  Bounds range     [1e+03, 1e+03]\n",
      "  RHS range        [1e+00, 1e+00]\n",
      "Warning: Only barrier available for SOCP models\n",
      "Presolve removed 26 rows and 2 columns\n",
      "\n",
      "Continuous model is non-convex -- solving as a MIP\n",
      "\n",
      "Presolve removed 22 rows and 2 columns\n",
      "Presolve time: 0.00s\n",
      "Presolved: 629 rows, 192 columns, 1875 nonzeros\n",
      "Presolved model has 158 bilinear constraint(s)\n",
      "Variable types: 192 continuous, 0 integer (0 binary)\n",
      "\n",
      "Root relaxation: objective -1.230437e+03, 424 iterations, 0.01 seconds (0.01 work units)\n",
      "\n",
      "    Nodes    |    Current Node    |     Objective Bounds      |     Work\n",
      " Expl Unexpl |  Obj  Depth IntInf | Incumbent    BestBd   Gap | It/Node Time\n",
      "\n",
      "     0     0 -1230.4372    0  104          - -1230.4372      -     -    0s\n",
      "     0     0 -1215.4668    0  117          - -1215.4668      -     -    0s\n",
      "     0     0 -1215.4558    0  117          - -1215.4558      -     -    0s\n",
      "     0     0 -1087.6141    0  118          - -1087.6141      -     -    0s\n",
      "     0     0 -1087.4046    0  118          - -1087.4046      -     -    0s\n",
      "     0     0 -1029.4521    0  118          - -1029.4521      -     -    0s\n",
      "     0     0 -1028.3104    0  119          - -1028.3104      -     -    0s\n",
      "     0     0 -981.80357    0  121          - -981.80357      -     -    0s\n",
      "     0     0 -981.61697    0  103          - -981.61697      -     -    0s\n",
      "     0     0 -976.24940    0  125          - -976.24940      -     -    0s\n",
      "     0     0 -976.23592    0  125          - -976.23592      -     -    0s\n",
      "     0     0 -963.10108    0  125          - -963.10108      -     -    0s\n",
      "     0     0 -963.02538    0  125          - -963.02538      -     -    0s\n",
      "     0     0 -954.92676    0  122          - -954.92676      -     -    0s\n",
      "     0     0 -954.88007    0  121          - -954.88007      -     -    0s\n",
      "     0     0 -913.98693    0  121          - -913.98693      -     -    0s\n",
      "     0     0 -912.48397    0  122          - -912.48397      -     -    0s\n",
      "     0     0 -898.81921    0  122          - -898.81921      -     -    0s\n",
      "     0     0 -896.56844    0  122          - -896.56844      -     -    0s\n",
      "     0     0 -801.04477    0  124          - -801.04477      -     -    0s\n",
      "     0     0 -800.17161    0  123          - -800.17161      -     -    0s\n",
      "     0     0 -670.70612    0  124          - -670.70612      -     -    0s\n",
      "     0     0 -670.70612    0  122          - -670.70612      -     -    0s\n",
      "     0     0 -670.70612    0  125          - -670.70612      -     -    0s\n",
      "     0     0 -670.70612    0  123          - -670.70612      -     -    0s\n",
      "     0     0 -670.70612    0  124          - -670.70612      -     -    0s\n",
      "     0     0 -670.70612    0  124          - -670.70612      -     -    0s\n",
      "     0     0 -670.70612    0  129          - -670.70612      -     -    0s\n",
      "     0     0 -670.70612    0  124          - -670.70612      -     -    0s\n",
      "     0     0 -670.70612    0  129          - -670.70612      -     -    0s\n",
      "     0     0 -670.70612    0  124          - -670.70612      -     -    0s\n",
      "     0     0 -670.70612    0  131          - -670.70612      -     -    0s\n",
      "     0     0 -670.70612    0  116          - -670.70612      -     -    0s\n",
      "     0     2 -670.70612    0  116          - -670.70612      -     -    0s\n",
      "  3757  1990   -6.27121   89  124          - -560.80667      -   106    5s\n",
      " 11859  6483   -2.72947   88  127          - -481.51215      -   116   10s\n",
      " 22343 13129   -5.26618   74   99          - -451.18066      -   116   15s\n",
      " 29427 17219 -282.10519   43  132          - -431.18957      -   117   20s\n",
      " 37192 22506  -18.82165   67  111          - -419.04408      -   117   25s\n",
      " 46160 28197   -6.16345   61   98          - -404.86152      -   117   30s\n",
      " 53536 33015 -299.32854   31  131          - -391.93585      -   117   35s\n",
      " 64386 40124   -5.56467   77  146          - -383.71934      -   116   40s\n",
      " 74291 46628  -44.86522   50  136          - -374.03792      -   115   45s\n",
      " 82144 51845   -3.72282   93  125          - -367.42368      -   116   50s\n",
      " 91799 58338 -156.92561   37  142          - -363.61061      -   115   55s\n",
      " 101216 64711   -9.62021   65   83          - -359.99675      -   116   60s\n",
      " 109302 70055 -192.05481   38  136          - -357.51800      -   115   65s\n",
      " 117269 75598 -161.17644   51  133          - -355.67695      -   116   70s\n",
      " 127121 82175   -4.02283   91  124          - -351.89483      -   115   75s\n",
      " 136201 88204 -112.73190   60  135          - -350.01844      -   115   80s\n",
      " 145923 94822   -9.87734   77  137          - -347.83353      -   115   85s\n",
      " 155498 101284  -24.93030   79  138          - -345.67097      -   115   90s\n",
      " 163320 106236  -10.20404   59   95          - -344.50461      -   115   95s\n",
      " 171995 111783   -6.83411   77  124          - -342.90268      -   115  100s\n",
      "\n",
      "Cutting planes:\n",
      "  RLT: 54\n",
      "  BQP: 2\n",
      "  PSD: 69\n",
      "\n",
      "Explored 172848 nodes (19821732 simplex iterations) in 100.00 seconds (123.01 work units)\n",
      "Thread count was 8 (of 8 available processors)\n",
      "\n",
      "Solution count 0\n",
      "\n",
      "Time limit reached\n",
      "Best objective -, best bound -3.426731866829e+02, gap -\n"
     ]
    },
    {
     "ename": "GurobiError",
     "evalue": "Unable to retrieve attribute 'X'",
     "output_type": "error",
     "traceback": [
      "\u001b[0;31m---------------------------------------------------------------------------\u001b[0m",
      "\u001b[0;31mGurobiError\u001b[0m                               Traceback (most recent call last)",
      "Input \u001b[0;32mIn [3]\u001b[0m, in \u001b[0;36m<cell line: 4>\u001b[0;34m()\u001b[0m\n\u001b[1;32m      1\u001b[0m problem \u001b[38;5;241m=\u001b[39m co\u001b[38;5;241m.\u001b[39maccelerated_gradient_circuit(mu, L_smooth, R, Capacitance, Inductance)\n\u001b[1;32m      2\u001b[0m problem\u001b[38;5;241m.\u001b[39mobj \u001b[38;5;241m=\u001b[39m problem\u001b[38;5;241m.\u001b[39mb \u001b[38;5;241m+\u001b[39m problem\u001b[38;5;241m.\u001b[39md\n\u001b[0;32m----> 4\u001b[0m res, model \u001b[38;5;241m=\u001b[39m \u001b[43mproblem\u001b[49m\u001b[38;5;241;43m.\u001b[39;49m\u001b[43msolve\u001b[49m\u001b[43m(\u001b[49m\u001b[43mverbose\u001b[49m\u001b[38;5;241;43m=\u001b[39;49m\u001b[38;5;28;43;01mTrue\u001b[39;49;00m\u001b[43m,\u001b[49m\u001b[43m \u001b[49m\u001b[43msolver\u001b[49m\u001b[38;5;241;43m=\u001b[39;49m\u001b[38;5;124;43m\"\u001b[39;49m\u001b[38;5;124;43mgp_canonical_X\u001b[39;49m\u001b[38;5;124;43m\"\u001b[39;49m\u001b[43m,\u001b[49m\u001b[43m \u001b[49m\u001b[43mmax_iter\u001b[49m\u001b[38;5;241;43m=\u001b[39;49m\u001b[38;5;241;43m100\u001b[39;49m\u001b[43m,\u001b[49m\u001b[43m \u001b[49m\u001b[43mtime_limit\u001b[49m\u001b[38;5;241;43m=\u001b[39;49m\u001b[43mtime_limit\u001b[49m\u001b[43m)\u001b[49m[:\u001b[38;5;241m2\u001b[39m]\n\u001b[1;32m      5\u001b[0m \u001b[38;5;28mvars\u001b[39m \u001b[38;5;241m=\u001b[39m problem\u001b[38;5;241m.\u001b[39mvars\n",
      "File \u001b[0;32m~/Documents/projects/Circuits/optimization_via_circuits/ciropt/circuit_opt.py:412\u001b[0m, in \u001b[0;36mCircuitOpt.solve\u001b[0;34m(self, solver, **kwargs)\u001b[0m\n\u001b[1;32m    410\u001b[0m     \u001b[38;5;28;01mreturn\u001b[39;00m \u001b[38;5;28mself\u001b[39m\u001b[38;5;241m.\u001b[39msolve_gp(\u001b[38;5;241m*\u001b[39m\u001b[38;5;241m*\u001b[39mkwargs)\n\u001b[1;32m    411\u001b[0m \u001b[38;5;28;01melif\u001b[39;00m solver \u001b[38;5;241m==\u001b[39m \u001b[38;5;124m\"\u001b[39m\u001b[38;5;124mgp_canonical_X\u001b[39m\u001b[38;5;124m\"\u001b[39m:\n\u001b[0;32m--> 412\u001b[0m     \u001b[38;5;28;01mreturn\u001b[39;00m \u001b[38;5;28;43mself\u001b[39;49m\u001b[38;5;241;43m.\u001b[39;49m\u001b[43msolve_gp_canonical_X\u001b[49m\u001b[43m(\u001b[49m\u001b[38;5;241;43m*\u001b[39;49m\u001b[38;5;241;43m*\u001b[39;49m\u001b[43mkwargs\u001b[49m\u001b[43m)\u001b[49m\n\u001b[1;32m    413\u001b[0m \u001b[38;5;28;01melif\u001b[39;00m solver \u001b[38;5;241m==\u001b[39m \u001b[38;5;124m\"\u001b[39m\u001b[38;5;124msdp_relax\u001b[39m\u001b[38;5;124m\"\u001b[39m:\n\u001b[1;32m    414\u001b[0m     \u001b[38;5;28;01mreturn\u001b[39;00m \u001b[38;5;28mself\u001b[39m\u001b[38;5;241m.\u001b[39msolve_sdp_relax(\u001b[38;5;241m*\u001b[39m\u001b[38;5;241m*\u001b[39mkwargs)\n",
      "File \u001b[0;32m~/Documents/projects/Circuits/optimization_via_circuits/ciropt/extra_methods.py:310\u001b[0m, in \u001b[0;36msolve_gp_canonical_X\u001b[0;34m(self, verbose, debug, time_limit, ftol, heur, method, bounds, **kwargs)\u001b[0m\n\u001b[1;32m    308\u001b[0m \u001b[38;5;28mself\u001b[39m\u001b[38;5;241m.\u001b[39mname2idx \u001b[38;5;241m=\u001b[39m name2idx\n\u001b[1;32m    309\u001b[0m \u001b[38;5;28mself\u001b[39m\u001b[38;5;241m.\u001b[39mv_names \u001b[38;5;241m=\u001b[39m v_names\n\u001b[0;32m--> 310\u001b[0m \u001b[38;5;28mself\u001b[39m\u001b[38;5;241m.\u001b[39mvars \u001b[38;5;241m=\u001b[39m {\u001b[38;5;124m\"\u001b[39m\u001b[38;5;124mx\u001b[39m\u001b[38;5;124m\"\u001b[39m: \u001b[43mvar_x\u001b[49m\u001b[38;5;241;43m.\u001b[39;49m\u001b[43mX\u001b[49m, \u001b[38;5;124m\"\u001b[39m\u001b[38;5;124mv_names\u001b[39m\u001b[38;5;124m\"\u001b[39m:v_names}\n\u001b[1;32m    311\u001b[0m \u001b[38;5;28;01mreturn\u001b[39;00m dict_parameters_ciropt_gp(model, gp_vars), model, sp_exp\n",
      "File \u001b[0;32msrc/gurobipy/mvar.pxi:296\u001b[0m, in \u001b[0;36mgurobipy.MVar.__getattr__\u001b[0;34m()\u001b[0m\n",
      "File \u001b[0;32msrc/gurobipy/mvar.pxi:559\u001b[0m, in \u001b[0;36mgurobipy.MVar.getAttr\u001b[0;34m()\u001b[0m\n",
      "File \u001b[0;32msrc/gurobipy/attrutil.pxi:148\u001b[0m, in \u001b[0;36mgurobipy.__gettypedattrlist\u001b[0;34m()\u001b[0m\n",
      "\u001b[0;31mGurobiError\u001b[0m: Unable to retrieve attribute 'X'"
     ]
    }
   ],
   "source": [
    "problem = co.accelerated_gradient_circuit(mu, L_smooth, R, Capacitance, Inductance)\n",
    "problem.obj = problem.b + problem.d\n",
    "\n",
    "res, model = problem.solve(verbose=True, solver=\"gp_qcqp_matrix\", max_iter=100, time_limit=time_limit)[:2]\n",
    "vars = problem.vars"
   ]
  },
  {
   "cell_type": "code",
   "execution_count": null,
   "metadata": {},
   "outputs": [],
   "source": [
    "model.status, res"
   ]
  },
  {
   "cell_type": "code",
   "execution_count": null,
   "metadata": {},
   "outputs": [],
   "source": [
    "bounds = {  'b': {\"ub\": 10, \"lb\": 0.},\n",
    "            'd': {\"ub\": 10, \"lb\": 0.},\n",
    "            'h': {\"ub\": 10, \"lb\": 0},\n",
    "            'alpha': {\"ub\": 1, \"lb\": -1},\n",
    "            'beta': {\"ub\": 1, \"lb\": -1},}"
   ]
  },
  {
   "cell_type": "code",
   "execution_count": null,
   "metadata": {},
   "outputs": [],
   "source": [
    "import numpy as np\n",
    "import pickle\n",
    "\n",
    "# res = vars\n",
    "\n",
    "# with open('AGD_dccp.pickle', 'wb') as handle:\n",
    "#     pickle.dump(res, handle, protocol=pickle.HIGHEST_PROTOCOL)\n",
    "\n",
    "# with open('AGD_dccp.pickle', 'rb') as handle:\n",
    "#     vars = pickle.load(handle)\n",
    "\n",
    "# P = co.cholseky_matrix(vars[\"Z\"])\n",
    "# P_flatten = co.flatten_lower_tri(P)\n",
    "# var_x = np.concatenate([vars[\"x\"], P_flatten.reshape(-1, 1)], axis=0)\n",
    "# print(var_x.shape)\n",
    "# init_values = {\"x\": var_x}\n",
    "\n",
    "\n",
    "# problem = co.accelerated_gradient_circuit(mu, L_smooth, R, Capacitance, Inductance)\n",
    "# problem.obj = problem.b + problem.d\n",
    "# res, model = problem.solve(verbose=True, solver=\"ca_canonical_X\", init_values=init_values)[:2]"
   ]
  },
  {
   "cell_type": "markdown",
   "metadata": {},
   "source": [
    "# PEP verification"
   ]
  },
  {
   "cell_type": "code",
   "execution_count": null,
   "metadata": {},
   "outputs": [],
   "source": [
    "problem = co.accelerated_gradient_circuit(mu, L_smooth, R, Capacitance, Inductance, params=res)\n",
    "diff = problem.solve(verbose=0, solver=cp.MOSEK)\n",
    "print(f\"{diff=}\")"
   ]
  },
  {
   "cell_type": "code",
   "execution_count": null,
   "metadata": {},
   "outputs": [],
   "source": []
  }
 ],
 "metadata": {
  "kernelspec": {
   "display_name": "osbdo",
   "language": "python",
   "name": "python3"
  },
  "language_info": {
   "codemirror_mode": {
    "name": "ipython",
    "version": 3
   },
   "file_extension": ".py",
   "mimetype": "text/x-python",
   "name": "python",
   "nbconvert_exporter": "python",
   "pygments_lexer": "ipython3",
   "version": "3.10.13"
  }
 },
 "nbformat": 4,
 "nbformat_minor": 2
}
