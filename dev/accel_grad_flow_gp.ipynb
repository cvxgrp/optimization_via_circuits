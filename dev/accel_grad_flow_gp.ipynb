{
 "cells": [
  {
   "cell_type": "code",
   "execution_count": 1,
   "metadata": {},
   "outputs": [],
   "source": [
    "import ciropt as co\n",
    "import cvxpy as cp"
   ]
  },
  {
   "cell_type": "code",
   "execution_count": 2,
   "metadata": {},
   "outputs": [],
   "source": [
    "L_smooth = 1.\n",
    "mu = 0.0001\n",
    "\n",
    "Capacitance = 2.\n",
    "Inductance = 2.\n",
    "R = 1\n",
    "\n",
    "solver = \"gp\"\n",
    "# solver = \"solve_cvx_canonical_sdp_relax\"\n",
    "solver = \"cvx_dccp\"\n",
    "# solver = \"ca\"\n",
    "time_limit=1000"
   ]
  },
  {
   "cell_type": "markdown",
   "metadata": {},
   "source": [
    "# Ciropt problem"
   ]
  },
  {
   "cell_type": "code",
   "execution_count": 3,
   "metadata": {},
   "outputs": [
    {
     "name": "stdout",
     "output_type": "stream",
     "text": [
      "dim_G=6, dim_F=4\n"
     ]
    }
   ],
   "source": [
    "problem = co.accelerated_gradient_circuit(mu, L_smooth, R, Capacitance, Inductance)\n",
    "problem.obj = problem.b + problem.d\n",
    "\n",
    "bounds = {  'b': {\"ub\": 10, \"lb\": 0.},\n",
    "            'd': {\"ub\": 10, \"lb\": 0.},\n",
    "            'h': {\"ub\": 10, \"lb\": 0},\n",
    "            'alpha': {\"ub\": 1, \"lb\": -1},\n",
    "            'beta': {\"ub\": 1, \"lb\": -1},}\n",
    "\n",
    "res, model = problem.solve(verbose=True, solver=solver, max_iter=1000, time_limit=time_limit)[:2]\n",
    "vars = problem.vars"
   ]
  },
  {
   "cell_type": "code",
   "execution_count": null,
   "metadata": {},
   "outputs": [],
   "source": [
    "model.status"
   ]
  },
  {
   "cell_type": "code",
   "execution_count": null,
   "metadata": {},
   "outputs": [],
   "source": [
    "res"
   ]
  },
  {
   "cell_type": "code",
   "execution_count": null,
   "metadata": {},
   "outputs": [],
   "source": [
    "import numpy as np\n",
    "import pickle\n",
    "\n",
    "# res = vars\n",
    "\n",
    "# with open('AGD_dccp.pickle', 'wb') as handle:\n",
    "#     pickle.dump(res, handle, protocol=pickle.HIGHEST_PROTOCOL)\n",
    "\n",
    "# with open('AGD_dccp.pickle', 'rb') as handle:\n",
    "#     vars = pickle.load(handle)\n",
    "\n",
    "# P = co.cholseky_matrix(vars[\"Z\"])\n",
    "# P_flatten = co.flatten_lower_tri(P)\n",
    "# var_x = np.concatenate([vars[\"x\"], P_flatten.reshape(-1, 1)], axis=0)\n",
    "# print(var_x.shape)\n",
    "# init_values = {\"x\": var_x}\n",
    "\n",
    "\n",
    "# problem = co.accelerated_gradient_circuit(mu, L_smooth, R, Capacitance, Inductance)\n",
    "# problem.obj = problem.b + problem.d\n",
    "# res, model = problem.solve(verbose=True, solver=\"ca_canonical_X\", init_values=init_values)[:2]"
   ]
  },
  {
   "cell_type": "markdown",
   "metadata": {},
   "source": [
    "# PEP verification"
   ]
  },
  {
   "cell_type": "code",
   "execution_count": null,
   "metadata": {},
   "outputs": [],
   "source": [
    "b = res[\"b\"] \n",
    "d = res[\"d\"] \n",
    "h = res[\"h\"]\n",
    "alpha = res[\"alpha\"]\n",
    "beta = res[\"beta\"]"
   ]
  },
  {
   "cell_type": "code",
   "execution_count": null,
   "metadata": {},
   "outputs": [],
   "source": [
    "problem = co.accelerated_gradient_circuit(mu, L_smooth, R, Capacitance, Inductance, params=res)\n",
    "diff = problem.solve(verbose=0, solver=cp.MOSEK)\n",
    "print(f\"{diff=}\")"
   ]
  },
  {
   "cell_type": "code",
   "execution_count": null,
   "metadata": {},
   "outputs": [],
   "source": []
  },
  {
   "cell_type": "code",
   "execution_count": null,
   "metadata": {},
   "outputs": [],
   "source": []
  }
 ],
 "metadata": {
  "kernelspec": {
   "display_name": "osbdo",
   "language": "python",
   "name": "python3"
  },
  "language_info": {
   "codemirror_mode": {
    "name": "ipython",
    "version": 3
   },
   "file_extension": ".py",
   "mimetype": "text/x-python",
   "name": "python",
   "nbconvert_exporter": "python",
   "pygments_lexer": "ipython3",
   "version": "3.10.13"
  }
 },
 "nbformat": 4,
 "nbformat_minor": 2
}
