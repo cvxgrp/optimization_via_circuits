{
 "cells": [
  {
   "cell_type": "code",
   "execution_count": 1,
   "metadata": {},
   "outputs": [],
   "source": [
    "import ciropt as co\n",
    "import cvxpy as cp"
   ]
  },
  {
   "cell_type": "code",
   "execution_count": 2,
   "metadata": {},
   "outputs": [],
   "source": [
    "L_smooth = 1.\n",
    "mu = 0.0001\n",
    "\n",
    "Capacitance = 2.\n",
    "Inductance = 2.\n",
    "R = 1\n",
    "\n",
    "solver = \"gp\"\n",
    "solver = \"solve_cvx_canonical_sdp_relax\"\n",
    "time_limit=1000"
   ]
  },
  {
   "cell_type": "markdown",
   "metadata": {},
   "source": [
    "# Ciropt problem"
   ]
  },
  {
   "cell_type": "code",
   "execution_count": 3,
   "metadata": {},
   "outputs": [
    {
     "ename": "TypeError",
     "evalue": "'NoneType' object is not subscriptable",
     "output_type": "error",
     "traceback": [
      "\u001b[0;31m---------------------------------------------------------------------------\u001b[0m",
      "\u001b[0;31mTypeError\u001b[0m                                 Traceback (most recent call last)",
      "\u001b[1;32m/Users/parshakova.tanya/Documents/projects/Circuits/optimization_via_circuits/dev/accel_grad_flow_gp.ipynb Cell 4\u001b[0m line \u001b[0;36m<cell line: 3>\u001b[0;34m()\u001b[0m\n\u001b[1;32m      <a href='vscode-notebook-cell:/Users/parshakova.tanya/Documents/projects/Circuits/optimization_via_circuits/dev/accel_grad_flow_gp.ipynb#W3sZmlsZQ%3D%3D?line=0'>1</a>\u001b[0m problem \u001b[39m=\u001b[39m co\u001b[39m.\u001b[39maccelerated_gradient_circuit(mu, L_smooth, R, Capacitance, Inductance)\n\u001b[0;32m----> <a href='vscode-notebook-cell:/Users/parshakova.tanya/Documents/projects/Circuits/optimization_via_circuits/dev/accel_grad_flow_gp.ipynb#W3sZmlsZQ%3D%3D?line=2'>3</a>\u001b[0m res, sol \u001b[39m=\u001b[39m problem\u001b[39m.\u001b[39;49msolve(verbose\u001b[39m=\u001b[39;49m\u001b[39mTrue\u001b[39;49;00m, solver\u001b[39m=\u001b[39;49msolver, time_limit\u001b[39m=\u001b[39;49mtime_limit)[:\u001b[39m2\u001b[39;49m]\n\u001b[1;32m      <a href='vscode-notebook-cell:/Users/parshakova.tanya/Documents/projects/Circuits/optimization_via_circuits/dev/accel_grad_flow_gp.ipynb#W3sZmlsZQ%3D%3D?line=3'>4</a>\u001b[0m \u001b[39mvars\u001b[39m \u001b[39m=\u001b[39m problem\u001b[39m.\u001b[39mvars\n",
      "\u001b[0;31mTypeError\u001b[0m: 'NoneType' object is not subscriptable"
     ]
    }
   ],
   "source": [
    "problem = co.accelerated_gradient_circuit(mu, L_smooth, R, Capacitance, Inductance)\n",
    "\n",
    "res, sol = problem.solve(verbose=True, solver=solver, time_limit=time_limit)[:2]\n",
    "vars = problem.vars"
   ]
  },
  {
   "cell_type": "code",
   "execution_count": 4,
   "metadata": {},
   "outputs": [
    {
     "data": {
      "text/plain": [
       "<ciropt.circuit_opt.CircuitOpt at 0x16e00fd30>"
      ]
     },
     "execution_count": 4,
     "metadata": {},
     "output_type": "execute_result"
    }
   ],
   "source": [
    "problem"
   ]
  },
  {
   "cell_type": "code",
   "execution_count": null,
   "metadata": {},
   "outputs": [],
   "source": [
    "res"
   ]
  },
  {
   "cell_type": "markdown",
   "metadata": {},
   "source": [
    "# PEP verification"
   ]
  },
  {
   "cell_type": "code",
   "execution_count": null,
   "metadata": {},
   "outputs": [],
   "source": [
    "import PEPit\n",
    "from PEPit.functions import SmoothStronglyConvexFunction, SmoothConvexFunction\n",
    "from PEPit.primitive_steps import proximal_step\n",
    "\n",
    "b = res[\"b\"] \n",
    "d = res[\"d\"] \n",
    "h = res[\"h\"]\n",
    "alpha = res[\"alpha\"]\n",
    "beta = res[\"beta\"]"
   ]
  },
  {
   "cell_type": "code",
   "execution_count": null,
   "metadata": {},
   "outputs": [],
   "source": [
    "problem = PEPit.PEP()\n",
    "func = problem.declare_function(\n",
    "                    SmoothStronglyConvexFunction,\n",
    "                    mu=mu,   # Strong convexity param.\n",
    "                    L=L_smooth) \n",
    "\n",
    "x_P_star = func.stationary_point()\n",
    "g_star, f_star = func.oracle(x_P_star)\n",
    "\n",
    "x_C_1 = problem.set_initial_point()\n",
    "y_L_1 = problem.set_initial_point()\n",
    "\n",
    "\n",
    "x_P_1, g_1, f_1 = proximal_step((R * y_L_1 + x_C_1), func, R)\n",
    "\n",
    "y_L_1p5 = y_L_1 + (alpha * h / Inductance) * (x_C_1 - x_P_1) \n",
    "x_C_1p5 = x_C_1 - (alpha * h / Capacitance) * g_1 \n",
    "x_P_1p5, g_1p5, f_1p5 = proximal_step((R * y_L_1p5 + x_C_1p5), func, R)\n",
    "\n",
    "y_L_2 = y_L_1 + (beta * h / Inductance) * (x_C_1 - x_P_1) + \\\n",
    "                ((1 - beta) * h / Inductance) * (x_C_1p5 - x_P_1p5)\n",
    "x_C_2 = x_C_1 - (beta * h / Capacitance) * g_1 - ((1 - beta) * h / Capacitance) * g_1p5  \n",
    "x_P_2, g_2, f_2 = proximal_step((R * y_L_2 + x_C_2), func, R)\n",
    "\n",
    "# Set the performance metric to the function values accuracy\n",
    "E_1 = (Capacitance/2) * (x_C_1 - x_P_star)**2 + (Inductance/2) * (y_L_1 - g_star) ** 2\n",
    "E_2 = (Capacitance/2) * (x_C_2 - x_P_star)**2 + (Inductance/2) * (y_L_2 - g_star) ** 2\n",
    "Delta_1 = d * R * (g_1 - y_L_1)**2 + b * (f_1 - f_star)\n",
    "problem.set_performance_metric(E_2 - (E_1 - Delta_1))\n",
    "\n",
    "# Solve the PEP with verbose = 1\n",
    "verbose = 0\n",
    "diff = problem.solve(verbose=verbose, solver=cp.MOSEK)\n",
    "print(f\"{diff=}\")"
   ]
  },
  {
   "cell_type": "code",
   "execution_count": null,
   "metadata": {},
   "outputs": [],
   "source": []
  }
 ],
 "metadata": {
  "kernelspec": {
   "display_name": "osbdo",
   "language": "python",
   "name": "python3"
  },
  "language_info": {
   "codemirror_mode": {
    "name": "ipython",
    "version": 3
   },
   "file_extension": ".py",
   "mimetype": "text/x-python",
   "name": "python",
   "nbconvert_exporter": "python",
   "pygments_lexer": "ipython3",
   "version": "3.10.13"
  }
 },
 "nbformat": 4,
 "nbformat_minor": 2
}
