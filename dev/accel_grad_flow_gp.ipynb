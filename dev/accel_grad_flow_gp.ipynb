{
 "cells": [
  {
   "cell_type": "code",
   "execution_count": 1,
   "metadata": {},
   "outputs": [],
   "source": [
    "import ciropt as co\n",
    "import cvxpy as cp"
   ]
  },
  {
   "cell_type": "code",
   "execution_count": 2,
   "metadata": {},
   "outputs": [],
   "source": [
    "L_smooth = 1.\n",
    "mu = 0.0001\n",
    "\n",
    "Capacitance = 2.\n",
    "Inductance = 2.\n",
    "R = 1\n",
    "\n",
    "solver = \"gp\"\n",
    "# solver = \"solve_cvx_canonical_sdp_relax\"\n",
    "solver = \"cvx_dccp\"\n",
    "time_limit=1000"
   ]
  },
  {
   "cell_type": "markdown",
   "metadata": {},
   "source": [
    "# Ciropt problem"
   ]
  },
  {
   "cell_type": "code",
   "execution_count": 3,
   "metadata": {},
   "outputs": [
    {
     "name": "stdout",
     "output_type": "stream",
     "text": [
      "dim_G=6, dim_F=4\n",
      "problem is DCP: False\n",
      "problem is DCCP: False\n"
     ]
    },
    {
     "ename": "Exception",
     "evalue": "Problem is not DCCP.",
     "output_type": "error",
     "traceback": [
      "\u001b[0;31m---------------------------------------------------------------------------\u001b[0m",
      "\u001b[0;31mException\u001b[0m                                 Traceback (most recent call last)",
      "\u001b[1;32m/Users/parshakova.tanya/Documents/projects/Circuits/optimization_via_circuits/dev/accel_grad_flow_gp.ipynb Cell 4\u001b[0m line \u001b[0;36m<cell line: 3>\u001b[0;34m()\u001b[0m\n\u001b[1;32m      <a href='vscode-notebook-cell:/Users/parshakova.tanya/Documents/projects/Circuits/optimization_via_circuits/dev/accel_grad_flow_gp.ipynb#W3sZmlsZQ%3D%3D?line=0'>1</a>\u001b[0m problem \u001b[39m=\u001b[39m co\u001b[39m.\u001b[39maccelerated_gradient_circuit(mu, L_smooth, R, Capacitance, Inductance)\n\u001b[1;32m      <a href='vscode-notebook-cell:/Users/parshakova.tanya/Documents/projects/Circuits/optimization_via_circuits/dev/accel_grad_flow_gp.ipynb#W3sZmlsZQ%3D%3D?line=1'>2</a>\u001b[0m problem\u001b[39m.\u001b[39mobj \u001b[39m=\u001b[39m problem\u001b[39m.\u001b[39mb \u001b[39m+\u001b[39m problem\u001b[39m.\u001b[39md\n\u001b[0;32m----> <a href='vscode-notebook-cell:/Users/parshakova.tanya/Documents/projects/Circuits/optimization_via_circuits/dev/accel_grad_flow_gp.ipynb#W3sZmlsZQ%3D%3D?line=2'>3</a>\u001b[0m res, sol \u001b[39m=\u001b[39m problem\u001b[39m.\u001b[39;49msolve(verbose\u001b[39m=\u001b[39;49m\u001b[39mTrue\u001b[39;49;00m, solver\u001b[39m=\u001b[39;49msolver, time_limit\u001b[39m=\u001b[39;49mtime_limit)[:\u001b[39m2\u001b[39m]\n\u001b[1;32m      <a href='vscode-notebook-cell:/Users/parshakova.tanya/Documents/projects/Circuits/optimization_via_circuits/dev/accel_grad_flow_gp.ipynb#W3sZmlsZQ%3D%3D?line=3'>4</a>\u001b[0m \u001b[39mvars\u001b[39m \u001b[39m=\u001b[39m problem\u001b[39m.\u001b[39mvars\n",
      "File \u001b[0;32m~/Documents/projects/Circuits/optimization_via_circuits/ciropt/circuit_opt.py:980\u001b[0m, in \u001b[0;36mCircuitOpt.solve\u001b[0;34m(self, solver, **kwargs)\u001b[0m\n\u001b[1;32m    978\u001b[0m     \u001b[39mreturn\u001b[39;00m \u001b[39mself\u001b[39m\u001b[39m.\u001b[39msolve_cvx_fix_discr_sdp(\u001b[39m*\u001b[39m\u001b[39m*\u001b[39mkwargs)\n\u001b[1;32m    979\u001b[0m \u001b[39melif\u001b[39;00m solver \u001b[39m==\u001b[39m \u001b[39m\"\u001b[39m\u001b[39mcvx_dccp\u001b[39m\u001b[39m\"\u001b[39m:\n\u001b[0;32m--> 980\u001b[0m     \u001b[39mreturn\u001b[39;00m \u001b[39mself\u001b[39;49m\u001b[39m.\u001b[39;49msolve_cvx_dccp(\u001b[39m*\u001b[39;49m\u001b[39m*\u001b[39;49mkwargs)\n",
      "File \u001b[0;32m~/Documents/projects/Circuits/optimization_via_circuits/ciropt/circuit_opt.py:779\u001b[0m, in \u001b[0;36mCircuitOpt.solve_cvx_dccp\u001b[0;34m(self, verbose, debug, bounds, **kwargs)\u001b[0m\n\u001b[1;32m    777\u001b[0m \u001b[39mprint\u001b[39m(\u001b[39m\"\u001b[39m\u001b[39mproblem is DCP:\u001b[39m\u001b[39m\"\u001b[39m, prob\u001b[39m.\u001b[39mis_dcp())   \u001b[39m# false\u001b[39;00m\n\u001b[1;32m    778\u001b[0m \u001b[39mprint\u001b[39m(\u001b[39m\"\u001b[39m\u001b[39mproblem is DCCP:\u001b[39m\u001b[39m\"\u001b[39m, dccp\u001b[39m.\u001b[39mis_dccp(prob))  \u001b[39m# true\u001b[39;00m\n\u001b[0;32m--> 779\u001b[0m prob\u001b[39m.\u001b[39;49msolve(method\u001b[39m=\u001b[39;49m\u001b[39m'\u001b[39;49m\u001b[39mdccp\u001b[39;49m\u001b[39m'\u001b[39;49m, verbose\u001b[39m=\u001b[39;49mverbose, max_iter\u001b[39m=\u001b[39;49m\u001b[39m200\u001b[39;49m)\n\u001b[1;32m    780\u001b[0m \u001b[39mprint\u001b[39m(\u001b[39mf\u001b[39m\u001b[39m\"\u001b[39m\u001b[39m{\u001b[39;00mprob\u001b[39m.\u001b[39mstatus\u001b[39m=}\u001b[39;00m\u001b[39m\"\u001b[39m)\n\u001b[1;32m    781\u001b[0m \u001b[39mself\u001b[39m\u001b[39m.\u001b[39mprob \u001b[39m=\u001b[39m prob\n",
      "File \u001b[0;32m~/opt/anaconda3/envs/circuits/lib/python3.10/site-packages/cvxpy/problems/problem.py:503\u001b[0m, in \u001b[0;36mProblem.solve\u001b[0;34m(self, *args, **kwargs)\u001b[0m\n\u001b[1;32m    501\u001b[0m \u001b[39melse\u001b[39;00m:\n\u001b[1;32m    502\u001b[0m     solve_func \u001b[39m=\u001b[39m Problem\u001b[39m.\u001b[39m_solve\n\u001b[0;32m--> 503\u001b[0m \u001b[39mreturn\u001b[39;00m solve_func(\u001b[39mself\u001b[39;49m, \u001b[39m*\u001b[39;49margs, \u001b[39m*\u001b[39;49m\u001b[39m*\u001b[39;49mkwargs)\n",
      "File \u001b[0;32m~/opt/anaconda3/envs/circuits/lib/python3.10/site-packages/dccp/problem.py:43\u001b[0m, in \u001b[0;36mdccp\u001b[0;34m(self, max_iter, tau, mu, tau_max, solver, ccp_times, max_slack, ep, **kwargs)\u001b[0m\n\u001b[1;32m     31\u001b[0m \u001b[39m\u001b[39m\u001b[39m\"\"\"\u001b[39;00m\n\u001b[1;32m     32\u001b[0m \u001b[39mmain algorithm ccp\u001b[39;00m\n\u001b[1;32m     33\u001b[0m \u001b[39m:param max_iter: maximum number of iterations in ccp\u001b[39;00m\n\u001b[0;32m   (...)\u001b[0m\n\u001b[1;32m     40\u001b[0m \u001b[39m    if the transformed problem is infeasible, return None;\u001b[39;00m\n\u001b[1;32m     41\u001b[0m \u001b[39m\"\"\"\u001b[39;00m\n\u001b[1;32m     42\u001b[0m \u001b[39mif\u001b[39;00m \u001b[39mnot\u001b[39;00m is_dccp(\u001b[39mself\u001b[39m):\n\u001b[0;32m---> 43\u001b[0m     \u001b[39mraise\u001b[39;00m \u001b[39mException\u001b[39;00m(\u001b[39m\"\u001b[39m\u001b[39mProblem is not DCCP.\u001b[39m\u001b[39m\"\u001b[39m)\n\u001b[1;32m     44\u001b[0m \u001b[39mif\u001b[39;00m is_contain_complex_numbers(\u001b[39mself\u001b[39m):\n\u001b[1;32m     45\u001b[0m     warnings\u001b[39m.\u001b[39mwarn(\u001b[39m\"\u001b[39m\u001b[39mProblem contains complex numbers and may not be supported by DCCP.\u001b[39m\u001b[39m\"\u001b[39m)\n",
      "\u001b[0;31mException\u001b[0m: Problem is not DCCP."
     ]
    }
   ],
   "source": [
    "problem = co.accelerated_gradient_circuit(mu, L_smooth, R, Capacitance, Inductance)\n",
    "problem.obj = problem.b + problem.d\n",
    "res, sol = problem.solve(verbose=True, solver=solver, time_limit=time_limit)[:2]\n",
    "vars = problem.vars"
   ]
  },
  {
   "cell_type": "code",
   "execution_count": null,
   "metadata": {},
   "outputs": [
    {
     "data": {
      "text/plain": [
       "<ciropt.circuit_opt.CircuitOpt at 0x172824310>"
      ]
     },
     "execution_count": 4,
     "metadata": {},
     "output_type": "execute_result"
    }
   ],
   "source": [
    "problem"
   ]
  },
  {
   "cell_type": "code",
   "execution_count": null,
   "metadata": {},
   "outputs": [
    {
     "data": {
      "text/plain": [
       "{}"
      ]
     },
     "execution_count": 5,
     "metadata": {},
     "output_type": "execute_result"
    }
   ],
   "source": [
    "res"
   ]
  },
  {
   "cell_type": "markdown",
   "metadata": {},
   "source": [
    "# PEP verification"
   ]
  },
  {
   "cell_type": "code",
   "execution_count": null,
   "metadata": {},
   "outputs": [
    {
     "ename": "KeyError",
     "evalue": "'b'",
     "output_type": "error",
     "traceback": [
      "\u001b[0;31m---------------------------------------------------------------------------\u001b[0m",
      "\u001b[0;31mKeyError\u001b[0m                                  Traceback (most recent call last)",
      "\u001b[1;32m/Users/parshakova.tanya/Documents/projects/Circuits/optimization_via_circuits/dev/accel_grad_flow_gp.ipynb Cell 8\u001b[0m line \u001b[0;36m<cell line: 1>\u001b[0;34m()\u001b[0m\n\u001b[0;32m----> <a href='vscode-notebook-cell:/Users/parshakova.tanya/Documents/projects/Circuits/optimization_via_circuits/dev/accel_grad_flow_gp.ipynb#X10sZmlsZQ%3D%3D?line=0'>1</a>\u001b[0m b \u001b[39m=\u001b[39m res[\u001b[39m\"\u001b[39;49m\u001b[39mb\u001b[39;49m\u001b[39m\"\u001b[39;49m] \n\u001b[1;32m      <a href='vscode-notebook-cell:/Users/parshakova.tanya/Documents/projects/Circuits/optimization_via_circuits/dev/accel_grad_flow_gp.ipynb#X10sZmlsZQ%3D%3D?line=1'>2</a>\u001b[0m d \u001b[39m=\u001b[39m res[\u001b[39m\"\u001b[39m\u001b[39md\u001b[39m\u001b[39m\"\u001b[39m] \n\u001b[1;32m      <a href='vscode-notebook-cell:/Users/parshakova.tanya/Documents/projects/Circuits/optimization_via_circuits/dev/accel_grad_flow_gp.ipynb#X10sZmlsZQ%3D%3D?line=2'>3</a>\u001b[0m h \u001b[39m=\u001b[39m res[\u001b[39m\"\u001b[39m\u001b[39mh\u001b[39m\u001b[39m\"\u001b[39m]\n",
      "\u001b[0;31mKeyError\u001b[0m: 'b'"
     ]
    }
   ],
   "source": [
    "b = res[\"b\"] \n",
    "d = res[\"d\"] \n",
    "h = res[\"h\"]\n",
    "alpha = res[\"alpha\"]\n",
    "beta = res[\"beta\"]"
   ]
  },
  {
   "cell_type": "code",
   "execution_count": null,
   "metadata": {},
   "outputs": [],
   "source": [
    "problem = co.accelerated_gradient_circuit(mu, L_smooth, R, Capacitance, Inductance, params=res)\n",
    "diff = problem.solve(verbose=0, solver=cp.MOSEK)\n",
    "print(f\"{diff=}\")"
   ]
  },
  {
   "cell_type": "code",
   "execution_count": null,
   "metadata": {},
   "outputs": [],
   "source": []
  }
 ],
 "metadata": {
  "kernelspec": {
   "display_name": "osbdo",
   "language": "python",
   "name": "python3"
  },
  "language_info": {
   "codemirror_mode": {
    "name": "ipython",
    "version": 3
   },
   "file_extension": ".py",
   "mimetype": "text/x-python",
   "name": "python",
   "nbconvert_exporter": "python",
   "pygments_lexer": "ipython3",
   "version": "3.10.13"
  }
 },
 "nbformat": 4,
 "nbformat_minor": 2
}
