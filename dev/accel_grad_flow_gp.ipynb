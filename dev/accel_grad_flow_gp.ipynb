{
 "cells": [
  {
   "cell_type": "code",
   "execution_count": 2,
   "metadata": {},
   "outputs": [],
   "source": [
    "import ciropt as co\n",
    "import cvxpy as cp"
   ]
  },
  {
   "cell_type": "code",
   "execution_count": 3,
   "metadata": {},
   "outputs": [],
   "source": [
    "L_smooth = 1.\n",
    "mu = 0.0001\n",
    "\n",
    "Capacitance = 2.\n",
    "Inductance = 2.\n",
    "R = 1.\n",
    "\n",
    "time_limit=100"
   ]
  },
  {
   "cell_type": "markdown",
   "metadata": {},
   "source": [
    "# Ciropt problem"
   ]
  },
  {
   "cell_type": "code",
   "execution_count": 12,
   "metadata": {},
   "outputs": [
    {
     "name": "stdout",
     "output_type": "stream",
     "text": [
      "dim_G=6, dim_F=4\n",
      "prob.status='optimal'\n",
      "{'Z': 164380767.11397588, 'alpha': 0.999960535229351, 'beta': 0.12302177852289177, 'lamb': 150936.86094551277, 'P': 12821.106313964325}\n"
     ]
    }
   ],
   "source": [
    "problem = co.accelerated_gradient_circuit(mu, L_smooth, R, Capacitance, Inductance)\n",
    "problem.obj = problem.b + problem.d\n",
    "\n",
    "bounds_names = ['alpha', 'beta', 'Z', \"lamb\"]\n",
    "res, model = problem.solve(verbose=False, solver=\"sdp_relax\", var_bound=bounds_names[-1], max_iter=100, time_limit=time_limit)[:2]\n",
    "vars = problem.vars\n",
    "print(problem.bounds_vars)"
   ]
  },
  {
   "cell_type": "code",
   "execution_count": 14,
   "metadata": {},
   "outputs": [
    {
     "name": "stdout",
     "output_type": "stream",
     "text": [
      "dim_G=6, dim_F=4\n",
      "===============================================================================\n",
      "                                     CVXPY                                     \n",
      "                                     v1.4.1                                    \n",
      "===============================================================================\n",
      "(CVXPY) Jan 19 09:08:17 AM: Your problem has 5396 variables, 101 constraints, and 0 parameters.\n",
      "(CVXPY) Jan 19 09:08:17 AM: It is compliant with the following grammars: DCP, DQCP\n",
      "(CVXPY) Jan 19 09:08:17 AM: (If you need to solve this problem multiple times, but with different data, consider using parameters.)\n",
      "(CVXPY) Jan 19 09:08:17 AM: CVXPY will first compile your problem; then, it will invoke a numerical solver to obtain a solution.\n",
      "(CVXPY) Jan 19 09:08:17 AM: Your problem is compiled with the CPP canonicalization backend.\n",
      "-------------------------------------------------------------------------------\n",
      "                                  Compilation                                  \n",
      "-------------------------------------------------------------------------------\n",
      "(CVXPY) Jan 19 09:08:17 AM: Compiling problem (target solver=MOSEK).\n",
      "(CVXPY) Jan 19 09:08:17 AM: Reduction chain: Dcp2Cone -> CvxAttr2Constr -> ConeMatrixStuffing -> MOSEK\n",
      "(CVXPY) Jan 19 09:08:17 AM: Applying reduction Dcp2Cone\n",
      "(CVXPY) Jan 19 09:08:17 AM: Applying reduction CvxAttr2Constr\n",
      "(CVXPY) Jan 19 09:08:17 AM: Applying reduction ConeMatrixStuffing\n",
      "(CVXPY) Jan 19 09:08:17 AM: Applying reduction MOSEK\n",
      "(CVXPY) Jan 19 09:08:17 AM: Finished problem compilation (took 5.610e-01 seconds).\n",
      "-------------------------------------------------------------------------------\n",
      "                                Numerical solver                               \n",
      "-------------------------------------------------------------------------------\n",
      "(CVXPY) Jan 19 09:08:17 AM: Invoking solver MOSEK  to obtain a solution.\n",
      "\n",
      "\n",
      "(CVXPY) Jan 19 09:08:17 AM: Problem\n",
      "(CVXPY) Jan 19 09:08:17 AM:   Name                   :                 \n",
      "(CVXPY) Jan 19 09:08:17 AM:   Objective sense        : maximize        \n",
      "(CVXPY) Jan 19 09:08:17 AM:   Type                   : CONIC (conic optimization problem)\n",
      "(CVXPY) Jan 19 09:08:17 AM:   Constraints            : 2915            \n",
      "(CVXPY) Jan 19 09:08:17 AM:   Affine conic cons.     : 0               \n",
      "(CVXPY) Jan 19 09:08:17 AM:   Disjunctive cons.      : 0               \n",
      "(CVXPY) Jan 19 09:08:17 AM:   Cones                  : 120             \n",
      "(CVXPY) Jan 19 09:08:17 AM:   Scalar variables       : 14028           \n",
      "(CVXPY) Jan 19 09:08:17 AM:   Matrix variables       : 3 (scalarized: 2725)\n",
      "(CVXPY) Jan 19 09:08:17 AM:   Integer variables      : 0               \n",
      "(CVXPY) Jan 19 09:08:17 AM: \n",
      "(CVXPY) Jan 19 09:08:17 AM: Optimizer started.\n",
      "(CVXPY) Jan 19 09:08:17 AM: Presolve started.\n",
      "(CVXPY) Jan 19 09:08:17 AM: Linear dependency checker started.\n",
      "(CVXPY) Jan 19 09:08:17 AM: Linear dependency checker terminated.\n",
      "(CVXPY) Jan 19 09:08:17 AM: Eliminator started.\n",
      "(CVXPY) Jan 19 09:08:17 AM: Freed constraints in eliminator : 54\n",
      "(CVXPY) Jan 19 09:08:17 AM: Eliminator terminated.\n",
      "(CVXPY) Jan 19 09:08:17 AM: Eliminator started.\n",
      "(CVXPY) Jan 19 09:08:17 AM: Freed constraints in eliminator : 0\n",
      "(CVXPY) Jan 19 09:08:17 AM: Eliminator terminated.\n",
      "(CVXPY) Jan 19 09:08:17 AM: Eliminator - tries                  : 2                 time                   : 0.00            \n",
      "(CVXPY) Jan 19 09:08:17 AM: Lin. dep.  - tries                  : 1                 time                   : 0.00            \n",
      "(CVXPY) Jan 19 09:08:17 AM: Lin. dep.  - primal attempts        : 1                 successes              : 1               \n",
      "(CVXPY) Jan 19 09:08:17 AM: Lin. dep.  - dual attempts          : 0                 successes              : 0               \n",
      "(CVXPY) Jan 19 09:08:17 AM: Lin. dep.  - primal deps.           : 0                 dual deps.             : 0               \n",
      "(CVXPY) Jan 19 09:08:17 AM: Presolve terminated. Time: 0.01    \n",
      "(CVXPY) Jan 19 09:08:18 AM: GP based matrix reordering started.\n",
      "(CVXPY) Jan 19 09:08:18 AM: GP based matrix reordering terminated.\n",
      "(CVXPY) Jan 19 09:08:18 AM: Optimizer  - threads                : 8               \n",
      "(CVXPY) Jan 19 09:08:18 AM: Optimizer  - solved problem         : the primal      \n",
      "(CVXPY) Jan 19 09:08:18 AM: Optimizer  - Constraints            : 2859            \n",
      "(CVXPY) Jan 19 09:08:18 AM: Optimizer  - Cones                  : 121             \n",
      "(CVXPY) Jan 19 09:08:18 AM: Optimizer  - Scalar variables       : 7149              conic                  : 1812            \n",
      "(CVXPY) Jan 19 09:08:18 AM: Optimizer  - Semi-definite variables: 3                 scalarized             : 2725            \n",
      "(CVXPY) Jan 19 09:08:18 AM: Factor     - setup time             : 0.55            \n",
      "(CVXPY) Jan 19 09:08:18 AM: Factor     - dense det. time        : 0.06              GP order time          : 0.27            \n",
      "(CVXPY) Jan 19 09:08:18 AM: Factor     - nonzeros before factor : 1.84e+06          after factor           : 2.82e+06        \n",
      "(CVXPY) Jan 19 09:08:18 AM: Factor     - dense dim.             : 2                 flops                  : 3.52e+09        \n",
      "(CVXPY) Jan 19 09:08:18 AM: ITE PFEAS    DFEAS    GFEAS    PRSTATUS   POBJ              DOBJ              MU       TIME  \n",
      "(CVXPY) Jan 19 09:08:18 AM: 0   1.2e+01  1.0e+00  1.0e+00  0.00e+00   -0.000000000e+00  -0.000000000e+00  1.0e+00  0.58  \n",
      "(CVXPY) Jan 19 09:08:18 AM: 1   7.0e+00  5.8e-01  4.1e-01  1.25e-02   -8.656505904e-01  -7.585020786e-01  5.8e-01  0.67  \n",
      "(CVXPY) Jan 19 09:08:18 AM: 2   3.1e+00  2.6e-01  1.0e-01  7.47e-01   -2.350828333e+00  -2.259140801e+00  2.6e-01  0.76  \n",
      "(CVXPY) Jan 19 09:08:18 AM: 3   2.0e+00  1.6e-01  6.2e-02  8.38e-01   -5.604179923e+00  -5.562978086e+00  1.6e-01  0.84  \n",
      "(CVXPY) Jan 19 09:08:18 AM: 4   1.2e+00  1.0e-01  3.0e-02  5.51e-01   -4.464995131e+00  -4.435504822e+00  1.0e-01  0.92  \n",
      "(CVXPY) Jan 19 09:08:18 AM: 5   2.1e-01  1.8e-02  5.1e-03  4.67e-01   -1.524809853e+01  -1.529430232e+01  1.8e-02  1.01  \n",
      "(CVXPY) Jan 19 09:08:19 AM: 6   9.2e-02  7.6e-03  2.5e-03  -2.47e-01  -2.248701110e+01  -2.256809445e+01  7.6e-03  1.10  \n",
      "(CVXPY) Jan 19 09:08:19 AM: 7   3.2e-02  2.6e-03  1.2e-03  -4.96e-01  -3.658416353e+01  -3.675018144e+01  2.6e-03  1.18  \n",
      "(CVXPY) Jan 19 09:08:19 AM: 8   7.7e-03  6.4e-04  4.0e-04  -4.54e-01  -7.024713861e+01  -7.061795316e+01  6.4e-04  1.27  \n",
      "(CVXPY) Jan 19 09:08:19 AM: 9   3.2e-03  2.7e-04  1.9e-04  -2.63e-01  -1.028182425e+02  -1.033182491e+02  2.7e-04  1.36  \n",
      "(CVXPY) Jan 19 09:08:19 AM: 10  7.9e-04  6.6e-05  7.1e-05  -4.60e-01  -2.172541795e+02  -2.184211835e+02  6.6e-05  1.45  \n",
      "(CVXPY) Jan 19 09:08:19 AM: 11  1.1e-04  9.3e-06  1.9e-05  -6.43e-01  -6.734264435e+02  -6.775362338e+02  9.3e-06  1.55  \n",
      "(CVXPY) Jan 19 09:08:19 AM: 12  4.9e-05  4.1e-06  1.2e-05  -7.35e-01  -1.343659030e+03  -1.352533847e+03  4.1e-06  1.63  \n",
      "(CVXPY) Jan 19 09:08:19 AM: 13  7.2e-06  6.0e-07  4.2e-06  -8.58e-01  -7.014068465e+03  -7.063368564e+03  6.0e-07  1.72  \n",
      "(CVXPY) Jan 19 09:08:19 AM: 14  6.2e-06  5.2e-07  3.7e-06  -3.44e-01  -7.919002687e+03  -7.970070405e+03  5.2e-07  1.80  \n",
      "(CVXPY) Jan 19 09:08:19 AM: 15  3.7e-06  3.0e-07  3.0e-06  -9.32e-01  -1.423120951e+04  -1.433009561e+04  3.0e-07  1.88  \n",
      "(CVXPY) Jan 19 09:08:19 AM: 16  1.7e-06  1.4e-07  2.1e-06  -9.85e-01  -2.966647622e+04  -2.987450137e+04  1.4e-07  1.96  \n",
      "(CVXPY) Jan 19 09:08:20 AM: 17  6.3e-07  5.2e-08  1.6e-06  -1.29e+00  -1.024981317e+05  -1.034636897e+05  5.2e-08  2.04  \n",
      "(CVXPY) Jan 19 09:08:20 AM: 18  2.3e-07  1.9e-08  8.6e-07  -6.21e-01  -2.616692732e+05  -2.636530938e+05  1.9e-08  2.12  \n",
      "(CVXPY) Jan 19 09:08:20 AM: 19  3.2e-08  2.2e-09  2.3e-07  -8.44e-01  -1.542215644e+06  -1.552663291e+06  2.3e-09  2.21  \n",
      "(CVXPY) Jan 19 09:08:20 AM: 20  1.9e-08  9.2e-10  1.2e-07  -6.62e-01  -3.170479839e+06  -3.188178141e+06  9.3e-10  2.32  \n",
      "(CVXPY) Jan 19 09:08:20 AM: 21  1.9e-08  9.2e-10  1.2e-07  -6.62e-01  -3.170479839e+06  -3.188178141e+06  9.3e-10  2.42  \n",
      "(CVXPY) Jan 19 09:08:20 AM: 22  1.9e-08  9.2e-10  1.2e-07  -6.62e-01  -3.170479839e+06  -3.188178141e+06  9.3e-10  2.52  \n",
      "(CVXPY) Jan 19 09:08:20 AM: Optimizer terminated. Time: 2.63    \n",
      "(CVXPY) Jan 19 09:08:20 AM: \n",
      "(CVXPY) Jan 19 09:08:20 AM: \n",
      "(CVXPY) Jan 19 09:08:20 AM: Interior-point solution summary\n",
      "(CVXPY) Jan 19 09:08:20 AM:   Problem status  : UNKNOWN\n",
      "(CVXPY) Jan 19 09:08:20 AM:   Solution status : UNKNOWN\n",
      "(CVXPY) Jan 19 09:08:20 AM:   Primal.  obj: -3.1704798389e+06   nrm: 3e+06    Viol.  con: 8e-02    var: 4e-03    barvar: 0e+00    cones: 0e+00  \n",
      "(CVXPY) Jan 19 09:08:20 AM:   Dual.    obj: -3.1881781411e+06   nrm: 2e+07    Viol.  con: 0e+00    var: 5e-03    barvar: 4e-03    cones: 0e+00  \n"
     ]
    },
    {
     "ename": "SolverError",
     "evalue": "Solver 'MOSEK' failed. Try another solver, or solve with verbose=True for more information.",
     "output_type": "error",
     "traceback": [
      "\u001b[0;31m---------------------------------------------------------------------------\u001b[0m",
      "\u001b[0;31mSolverError\u001b[0m                               Traceback (most recent call last)",
      "Input \u001b[0;32mIn [14]\u001b[0m, in \u001b[0;36m<cell line: 5>\u001b[0;34m()\u001b[0m\n\u001b[1;32m      2\u001b[0m problem\u001b[38;5;241m.\u001b[39mobj \u001b[38;5;241m=\u001b[39m problem\u001b[38;5;241m.\u001b[39mb \u001b[38;5;241m+\u001b[39m problem\u001b[38;5;241m.\u001b[39md\n\u001b[1;32m      4\u001b[0m bounds_names \u001b[38;5;241m=\u001b[39m [\u001b[38;5;124m'\u001b[39m\u001b[38;5;124malpha\u001b[39m\u001b[38;5;124m'\u001b[39m, \u001b[38;5;124m'\u001b[39m\u001b[38;5;124mbeta\u001b[39m\u001b[38;5;124m'\u001b[39m, \u001b[38;5;124m'\u001b[39m\u001b[38;5;124mZ\u001b[39m\u001b[38;5;124m'\u001b[39m, \u001b[38;5;124m\"\u001b[39m\u001b[38;5;124mlamb\u001b[39m\u001b[38;5;124m\"\u001b[39m]\n\u001b[0;32m----> 5\u001b[0m res, model \u001b[38;5;241m=\u001b[39m \u001b[43mproblem\u001b[49m\u001b[38;5;241;43m.\u001b[39;49m\u001b[43msolve\u001b[49m\u001b[43m(\u001b[49m\u001b[43mverbose\u001b[49m\u001b[38;5;241;43m=\u001b[39;49m\u001b[38;5;28;43;01mTrue\u001b[39;49;00m\u001b[43m,\u001b[49m\u001b[43m \u001b[49m\u001b[43msolver\u001b[49m\u001b[38;5;241;43m=\u001b[39;49m\u001b[38;5;124;43m\"\u001b[39;49m\u001b[38;5;124;43msdp_relax\u001b[39;49m\u001b[38;5;124;43m\"\u001b[39;49m\u001b[43m,\u001b[49m\u001b[43m \u001b[49m\u001b[43mcvx_solver\u001b[49m\u001b[38;5;241;43m=\u001b[39;49m\u001b[43mcp\u001b[49m\u001b[38;5;241;43m.\u001b[39;49m\u001b[43mMOSEK\u001b[49m\u001b[43m,\u001b[49m\u001b[43m \u001b[49m\u001b[43mvar_bound\u001b[49m\u001b[38;5;241;43m=\u001b[39;49m\u001b[43mbounds_names\u001b[49m\u001b[43m[\u001b[49m\u001b[38;5;241;43m2\u001b[39;49m\u001b[43m]\u001b[49m\u001b[43m,\u001b[49m\u001b[43m \u001b[49m\u001b[43mmax_iter\u001b[49m\u001b[38;5;241;43m=\u001b[39;49m\u001b[38;5;241;43m100\u001b[39;49m\u001b[43m,\u001b[49m\u001b[43m \u001b[49m\u001b[43mtime_limit\u001b[49m\u001b[38;5;241;43m=\u001b[39;49m\u001b[43mtime_limit\u001b[49m\u001b[43m)\u001b[49m[:\u001b[38;5;241m2\u001b[39m]\n\u001b[1;32m      6\u001b[0m \u001b[38;5;28mvars\u001b[39m \u001b[38;5;241m=\u001b[39m problem\u001b[38;5;241m.\u001b[39mvars\n\u001b[1;32m      7\u001b[0m \u001b[38;5;28mprint\u001b[39m(problem\u001b[38;5;241m.\u001b[39mbounds_vars)\n",
      "File \u001b[0;32m~/Documents/projects/Circuits/optimization_via_circuits/ciropt/circuit_opt.py:402\u001b[0m, in \u001b[0;36mCircuitOpt.solve\u001b[0;34m(self, solver, **kwargs)\u001b[0m\n\u001b[1;32m    400\u001b[0m     \u001b[38;5;28;01mreturn\u001b[39;00m \u001b[38;5;28mself\u001b[39m\u001b[38;5;241m.\u001b[39msolve_gp_canonical_X(\u001b[38;5;241m*\u001b[39m\u001b[38;5;241m*\u001b[39mkwargs)\n\u001b[1;32m    401\u001b[0m \u001b[38;5;28;01melif\u001b[39;00m solver \u001b[38;5;241m==\u001b[39m \u001b[38;5;124m\"\u001b[39m\u001b[38;5;124msdp_relax\u001b[39m\u001b[38;5;124m\"\u001b[39m:\n\u001b[0;32m--> 402\u001b[0m     \u001b[38;5;28;01mreturn\u001b[39;00m \u001b[38;5;28;43mself\u001b[39;49m\u001b[38;5;241;43m.\u001b[39;49m\u001b[43msolve_sdp_relax\u001b[49m\u001b[43m(\u001b[49m\u001b[38;5;241;43m*\u001b[39;49m\u001b[38;5;241;43m*\u001b[39;49m\u001b[43mkwargs\u001b[49m\u001b[43m)\u001b[49m\n\u001b[1;32m    403\u001b[0m \u001b[38;5;28;01melif\u001b[39;00m solver \u001b[38;5;241m==\u001b[39m \u001b[38;5;124m\"\u001b[39m\u001b[38;5;124mbounds_sdp_relax_all\u001b[39m\u001b[38;5;124m\"\u001b[39m:\n\u001b[1;32m    404\u001b[0m     \u001b[38;5;28;01mreturn\u001b[39;00m \u001b[38;5;28mself\u001b[39m\u001b[38;5;241m.\u001b[39mbounds_sdp_relax_all(\u001b[38;5;241m*\u001b[39m\u001b[38;5;241m*\u001b[39mkwargs)\n",
      "File \u001b[0;32m~/Documents/projects/Circuits/optimization_via_circuits/ciropt/extra_methods.py:730\u001b[0m, in \u001b[0;36msolve_sdp_relax\u001b[0;34m(self, verbose, var_bound, debug, bounds, cvx_solver, **kwargs)\u001b[0m\n\u001b[1;32m    728\u001b[0m prob \u001b[38;5;241m=\u001b[39m cp\u001b[38;5;241m.\u001b[39mProblem(cp\u001b[38;5;241m.\u001b[39mMinimize(obj), constraints)\n\u001b[1;32m    729\u001b[0m \u001b[38;5;66;03m# 'SCS', 'CVXOPT','SDPA', cp.CLARABEL, cp.MOSEK\u001b[39;00m\n\u001b[0;32m--> 730\u001b[0m \u001b[43mprob\u001b[49m\u001b[38;5;241;43m.\u001b[39;49m\u001b[43msolve\u001b[49m\u001b[43m(\u001b[49m\u001b[43msolver\u001b[49m\u001b[38;5;241;43m=\u001b[39;49m\u001b[43mcvx_solver\u001b[49m\u001b[43m,\u001b[49m\u001b[43m \u001b[49m\u001b[43mverbose\u001b[49m\u001b[38;5;241;43m=\u001b[39;49m\u001b[43mverbose\u001b[49m\u001b[43m)\u001b[49m\n\u001b[1;32m    731\u001b[0m \u001b[38;5;28mprint\u001b[39m(\u001b[38;5;124mf\u001b[39m\u001b[38;5;124m\"\u001b[39m\u001b[38;5;132;01m{\u001b[39;00mprob\u001b[38;5;241m.\u001b[39mstatus\u001b[38;5;132;01m=}\u001b[39;00m\u001b[38;5;124m\"\u001b[39m)\n\u001b[1;32m    732\u001b[0m \u001b[38;5;28mself\u001b[39m\u001b[38;5;241m.\u001b[39mprob \u001b[38;5;241m=\u001b[39m prob\n",
      "File \u001b[0;32m~/opt/anaconda3/envs/circuits/lib/python3.10/site-packages/cvxpy/problems/problem.py:503\u001b[0m, in \u001b[0;36mProblem.solve\u001b[0;34m(self, *args, **kwargs)\u001b[0m\n\u001b[1;32m    501\u001b[0m \u001b[38;5;28;01melse\u001b[39;00m:\n\u001b[1;32m    502\u001b[0m     solve_func \u001b[38;5;241m=\u001b[39m Problem\u001b[38;5;241m.\u001b[39m_solve\n\u001b[0;32m--> 503\u001b[0m \u001b[38;5;28;01mreturn\u001b[39;00m \u001b[43msolve_func\u001b[49m\u001b[43m(\u001b[49m\u001b[38;5;28;43mself\u001b[39;49m\u001b[43m,\u001b[49m\u001b[43m \u001b[49m\u001b[38;5;241;43m*\u001b[39;49m\u001b[43margs\u001b[49m\u001b[43m,\u001b[49m\u001b[43m \u001b[49m\u001b[38;5;241;43m*\u001b[39;49m\u001b[38;5;241;43m*\u001b[39;49m\u001b[43mkwargs\u001b[49m\u001b[43m)\u001b[49m\n",
      "File \u001b[0;32m~/opt/anaconda3/envs/circuits/lib/python3.10/site-packages/cvxpy/problems/problem.py:1086\u001b[0m, in \u001b[0;36mProblem._solve\u001b[0;34m(self, solver, warm_start, verbose, gp, qcp, requires_grad, enforce_dpp, ignore_dpp, canon_backend, **kwargs)\u001b[0m\n\u001b[1;32m   1084\u001b[0m end \u001b[38;5;241m=\u001b[39m time\u001b[38;5;241m.\u001b[39mtime()\n\u001b[1;32m   1085\u001b[0m \u001b[38;5;28mself\u001b[39m\u001b[38;5;241m.\u001b[39m_solve_time \u001b[38;5;241m=\u001b[39m end \u001b[38;5;241m-\u001b[39m start\n\u001b[0;32m-> 1086\u001b[0m \u001b[38;5;28;43mself\u001b[39;49m\u001b[38;5;241;43m.\u001b[39;49m\u001b[43munpack_results\u001b[49m\u001b[43m(\u001b[49m\u001b[43msolution\u001b[49m\u001b[43m,\u001b[49m\u001b[43m \u001b[49m\u001b[43msolving_chain\u001b[49m\u001b[43m,\u001b[49m\u001b[43m \u001b[49m\u001b[43minverse_data\u001b[49m\u001b[43m)\u001b[49m\n\u001b[1;32m   1087\u001b[0m \u001b[38;5;28;01mif\u001b[39;00m verbose:\n\u001b[1;32m   1088\u001b[0m     \u001b[38;5;28mprint\u001b[39m(_FOOTER)\n",
      "File \u001b[0;32m~/opt/anaconda3/envs/circuits/lib/python3.10/site-packages/cvxpy/problems/problem.py:1411\u001b[0m, in \u001b[0;36mProblem.unpack_results\u001b[0;34m(self, solution, chain, inverse_data)\u001b[0m\n\u001b[1;32m   1409\u001b[0m     warnings\u001b[38;5;241m.\u001b[39mwarn(INF_OR_UNB_MESSAGE)\n\u001b[1;32m   1410\u001b[0m \u001b[38;5;28;01mif\u001b[39;00m solution\u001b[38;5;241m.\u001b[39mstatus \u001b[38;5;129;01min\u001b[39;00m s\u001b[38;5;241m.\u001b[39mERROR:\n\u001b[0;32m-> 1411\u001b[0m     \u001b[38;5;28;01mraise\u001b[39;00m error\u001b[38;5;241m.\u001b[39mSolverError(\n\u001b[1;32m   1412\u001b[0m             \u001b[38;5;124m\"\u001b[39m\u001b[38;5;124mSolver \u001b[39m\u001b[38;5;124m'\u001b[39m\u001b[38;5;132;01m%s\u001b[39;00m\u001b[38;5;124m'\u001b[39m\u001b[38;5;124m failed. \u001b[39m\u001b[38;5;124m\"\u001b[39m \u001b[38;5;241m%\u001b[39m chain\u001b[38;5;241m.\u001b[39msolver\u001b[38;5;241m.\u001b[39mname() \u001b[38;5;241m+\u001b[39m\n\u001b[1;32m   1413\u001b[0m             \u001b[38;5;124m\"\u001b[39m\u001b[38;5;124mTry another solver, or solve with verbose=True for more \u001b[39m\u001b[38;5;124m\"\u001b[39m\n\u001b[1;32m   1414\u001b[0m             \u001b[38;5;124m\"\u001b[39m\u001b[38;5;124minformation.\u001b[39m\u001b[38;5;124m\"\u001b[39m)\n\u001b[1;32m   1416\u001b[0m \u001b[38;5;28mself\u001b[39m\u001b[38;5;241m.\u001b[39munpack(solution)\n\u001b[1;32m   1417\u001b[0m \u001b[38;5;28mself\u001b[39m\u001b[38;5;241m.\u001b[39m_solver_stats \u001b[38;5;241m=\u001b[39m SolverStats\u001b[38;5;241m.\u001b[39mfrom_dict(\u001b[38;5;28mself\u001b[39m\u001b[38;5;241m.\u001b[39m_solution\u001b[38;5;241m.\u001b[39mattr,\n\u001b[1;32m   1418\u001b[0m                                  chain\u001b[38;5;241m.\u001b[39msolver\u001b[38;5;241m.\u001b[39mname())\n",
      "\u001b[0;31mSolverError\u001b[0m: Solver 'MOSEK' failed. Try another solver, or solve with verbose=True for more information."
     ]
    }
   ],
   "source": [
    "problem = co.accelerated_gradient_circuit(mu, L_smooth, R, Capacitance, Inductance)\n",
    "problem.obj = problem.b + problem.d\n",
    "\n",
    "bounds_names = ['alpha', 'beta', 'Z', \"lamb\"]\n",
    "res, model = problem.solve(verbose=True, solver=\"sdp_relax\", cvx_solver=cp.MOSEK, var_bound=bounds_names[2], max_iter=100, time_limit=time_limit)[:2]\n",
    "vars = problem.vars\n",
    "print(problem.bounds_vars)"
   ]
  },
  {
   "cell_type": "code",
   "execution_count": 4,
   "metadata": {},
   "outputs": [
    {
     "name": "stdout",
     "output_type": "stream",
     "text": [
      "dim_G=6, dim_F=4\n",
      "Set parameter Username\n",
      "Academic license - for non-commercial use only - expires 2024-10-31\n",
      "<class 'numpy.ndarray'> <class 'gurobipy.MQuadExpr'> <class 'numpy.ndarray'>\n"
     ]
    },
    {
     "name": "stderr",
     "output_type": "stream",
     "text": [
      "/Users/parshakova.tanya/Documents/projects/Circuits/optimization_via_circuits/ciropt/extra_methods.py:250: RuntimeWarning: Chained matrix multiplications of MVars is inefficient, collect numeric terms first when building expressions\n",
      "  model.addConstr(  (M1 @ var_x).item()  - gp_trace(M2 @ var_X) == 0)\n"
     ]
    },
    {
     "name": "stdout",
     "output_type": "stream",
     "text": [
      "<class 'numpy.ndarray'> <class 'gurobipy.MQuadExpr'> <class 'numpy.ndarray'>\n",
      "<class 'numpy.ndarray'> <class 'gurobipy.MQuadExpr'> <class 'numpy.ndarray'>\n",
      "<class 'numpy.ndarray'> <class 'gurobipy.MQuadExpr'> <class 'numpy.ndarray'>\n"
     ]
    },
    {
     "name": "stderr",
     "output_type": "stream",
     "text": [
      "/Users/parshakova.tanya/Documents/projects/Circuits/optimization_via_circuits/ciropt/extra_methods.py:265: RuntimeWarning: Chained matrix multiplications of MVars is inefficient, collect numeric terms first when building expressions\n",
      "  + gp_trace(M2 @ var_X) \\\n",
      "/Users/parshakova.tanya/Documents/projects/Circuits/optimization_via_circuits/ciropt/extra_methods.py:266: RuntimeWarning: Chained matrix multiplications of MVars is inefficient, collect numeric terms first when building expressions\n",
      "  - gp_trace(M3 @ var_X) == 0)\n",
      "/Users/parshakova.tanya/Documents/projects/Circuits/optimization_via_circuits/ciropt/extra_methods.py:279: RuntimeWarning: Chained matrix multiplications of MVars is inefficient, collect numeric terms first when building expressions\n",
      "  model.addConstr( gp_trace(M1 @ var_X) + (M2 @ var_x).item() == 0)\n"
     ]
    },
    {
     "name": "stdout",
     "output_type": "stream",
     "text": [
      "Set parameter NonConvex to value 2\n",
      "Set parameter TimeLimit to value 100\n",
      "Set parameter FeasibilityTol to value 1e-09\n",
      "Set parameter Method to value 0\n",
      "Set parameter PoolSearchMode to value 1\n",
      "Set parameter Heuristics to value 0.001\n",
      "Gurobi Optimizer version 10.0.3 build v10.0.3rc0 (mac64[rosetta2])\n",
      "\n",
      "CPU model: Apple M2\n",
      "Thread count: 8 physical cores, 8 logical processors, using up to 8 threads\n",
      "\n",
      "Optimize a model with 26 rows, 72 columns and 26 nonzeros\n",
      "Model fingerprint: 0x38e6299b\n",
      "Model has 72 quadratic constraints\n",
      "Coefficient statistics:\n",
      "  Matrix range     [1e+00, 1e+00]\n",
      "  QMatrix range    [3e-06, 2e+00]\n",
      "  QLMatrix range   [6e-02, 1e+00]\n",
      "  Objective range  [1e+00, 1e+00]\n",
      "  Bounds range     [1e+03, 1e+03]\n",
      "  RHS range        [1e+00, 1e+00]\n",
      "Warning: Only barrier available for SOCP models\n",
      "Presolve removed 26 rows and 2 columns\n",
      "\n",
      "Continuous model is non-convex -- solving as a MIP\n",
      "\n",
      "Presolve removed 22 rows and 2 columns\n",
      "Presolve time: 0.00s\n",
      "Presolved: 629 rows, 192 columns, 1875 nonzeros\n",
      "Presolved model has 158 bilinear constraint(s)\n",
      "Variable types: 192 continuous, 0 integer (0 binary)\n",
      "\n",
      "Root relaxation: objective -1.252854e+03, 440 iterations, 0.01 seconds (0.01 work units)\n",
      "\n",
      "    Nodes    |    Current Node    |     Objective Bounds      |     Work\n",
      " Expl Unexpl |  Obj  Depth IntInf | Incumbent    BestBd   Gap | It/Node Time\n",
      "\n",
      "     0     0 -1252.8541    0  103          - -1252.8541      -     -    0s\n",
      "     0     0 -1224.8935    0  110          - -1224.8935      -     -    0s\n",
      "     0     0 -1094.2843    0  125          - -1094.2843      -     -    0s\n",
      "     0     0 -1094.1006    0  126          - -1094.1006      -     -    0s\n",
      "     0     0 -1042.2234    0  104          - -1042.2234      -     -    0s\n",
      "     0     0 -1040.6655    0  107          - -1040.6655      -     -    0s\n",
      "     0     0 -994.76956    0  118          - -994.76956      -     -    0s\n",
      "     0     0 -994.68536    0  119          - -994.68536      -     -    0s\n",
      "     0     0 -986.18025    0  124          - -986.18025      -     -    0s\n",
      "     0     0 -985.41995    0  124          - -985.41995      -     -    0s\n",
      "     0     0 -984.14304    0  123          - -984.14304      -     -    0s\n",
      "     0     0 -984.08715    0  120          - -984.08715      -     -    0s\n",
      "     0     0 -979.46494    0  117          - -979.46494      -     -    0s\n",
      "     0     0 -978.64763    0  119          - -978.64763      -     -    0s\n",
      "     0     0 -965.11958    0  123          - -965.11958      -     -    0s\n",
      "     0     0 -964.40379    0  122          - -964.40379      -     -    0s\n",
      "     0     0 -818.38130    0  122          - -818.38130      -     -    0s\n",
      "     0     0 -816.66772    0  119          - -816.66772      -     -    0s\n",
      "     0     0 -804.30688    0  123          - -804.30688      -     -    0s\n",
      "     0     0 -802.72299    0  126          - -802.72299      -     -    0s\n",
      "     0     0 -791.51616    0  123          - -791.51616      -     -    0s\n",
      "     0     0 -790.25430    0  124          - -790.25430      -     -    0s\n",
      "     0     0 -780.97479    0  124          - -780.97479      -     -    0s\n",
      "     0     0 -780.33710    0  125          - -780.33710      -     -    0s\n",
      "     0     0 -778.01900    0  125          - -778.01900      -     -    0s\n",
      "     0     0 -777.82904    0  126          - -777.82904      -     -    0s\n",
      "     0     0 -774.76855    0  124          - -774.76855      -     -    0s\n",
      "     0     0 -774.73032    0  124          - -774.73032      -     -    0s\n",
      "     0     0 -772.14721    0  119          - -772.14721      -     -    0s\n",
      "     0     0 -771.69602    0  115          - -771.69602      -     -    0s\n",
      "     0     0 -769.99493    0  119          - -769.99493      -     -    0s\n",
      "     0     0 -769.74038    0  124          - -769.74038      -     -    0s\n",
      "     0     0 -769.12643    0  124          - -769.12643      -     -    0s\n",
      "     0     0 -768.99216    0  124          - -768.99216      -     -    0s\n",
      "     0     0 -768.56035    0  124          - -768.56035      -     -    0s\n",
      "     0     0 -751.10410    0  114          - -751.10410      -     -    0s\n",
      "     0     2 -751.10410    0  114          - -751.10410      -     -    0s\n",
      "  1697  1380 -471.19172   15    0          - -585.08717      -  77.7    5s\n",
      "  2188  1565 -150.19257   46  109   -3.44058 -563.13316      -  84.5   11s\n",
      "  2823  1735 -493.01042   36  133   -3.44058 -557.05054      -  93.2   15s\n",
      "  5529  2471 -117.69378   58  138   -3.44058 -547.83665      -   104   20s\n",
      "  8024  3753  -12.12679   94  149   -3.44058 -527.91854      -   110   25s\n",
      " 11978  6172 -100.64912   54  136   -3.44058 -512.51452      -   112   30s\n",
      " 15729  8281 -126.76526   46  108   -3.44058 -506.94705      -   112   35s\n",
      " 19181 10495 -197.10569   44  103   -3.44058 -504.50901      -   111   40s\n",
      " 22540 12579 infeasible   45        -3.44058 -503.21256      -   110   45s\n",
      " 27175 15736 -246.73105   62  111   -3.44058 -501.75366      -   108   50s\n",
      " 31291 17814  -26.90819   65  138   -3.44058 -500.03915      -   108   55s\n",
      " 34391 19646   -4.65379  126   94   -3.44058 -499.13691      -   108   60s\n",
      " 39123 22271 -387.91530   48  126   -3.44058 -493.46603      -   108   65s\n",
      " 42266 24093   -6.83919   88   89   -3.44058 -489.08645      -   108   70s\n",
      " 46569 26579  -30.52439   75  146   -3.44058 -482.87795      -   108   75s\n",
      " 50467 28900   -2.01282   59   78   -3.44058 -479.83961      -   108   80s\n",
      " 54282 30969 infeasible   53        -3.44058 -476.38100      -   109   85s\n",
      " 58320 33157 -448.15046   46  148   -3.44058 -472.36120      -   109   90s\n",
      " 62566 35742 infeasible   58        -3.44058 -468.64942      -   109   96s\n",
      " 64924 37087  -21.35633   55   97   -3.44058 -465.97776      -   109  100s\n",
      "\n",
      "Cutting planes:\n",
      "  RLT: 76\n",
      "  BQP: 1\n",
      "  PSD: 86\n",
      "\n",
      "Explored 65661 nodes (7166372 simplex iterations) in 100.01 seconds (44.43 work units)\n",
      "Thread count was 8 (of 8 available processors)\n",
      "\n",
      "Solution count 1: -3.44058 \n",
      "\n",
      "Time limit reached\n",
      "Warning: max constraint violation (6.9405e-08) exceeds tolerance\n",
      "Best objective -3.440583684450e+00, best bound -4.653632527235e+02, gap 13425.7065%\n"
     ]
    }
   ],
   "source": [
    "problem = co.accelerated_gradient_circuit(mu, L_smooth, R, Capacitance, Inductance)\n",
    "problem.obj = problem.b + problem.d\n",
    "\n",
    "res, model = problem.solve(verbose=True, solver=\"gp_canonical_X\", max_iter=100, time_limit=time_limit)[:2]\n",
    "vars = problem.vars"
   ]
  },
  {
   "cell_type": "code",
   "execution_count": 7,
   "metadata": {},
   "outputs": [
    {
     "data": {
      "text/plain": [
       "(9,\n",
       " {'b': 2.668461443498818,\n",
       "  'h': 6.0353472069069545,\n",
       "  'd': 0.772122240951405,\n",
       "  'alpha': 0.49158858605002326,\n",
       "  'beta': 0.4437526072821218})"
      ]
     },
     "execution_count": 7,
     "metadata": {},
     "output_type": "execute_result"
    }
   ],
   "source": [
    "model.status, res"
   ]
  },
  {
   "cell_type": "code",
   "execution_count": null,
   "metadata": {},
   "outputs": [],
   "source": [
    "bounds = {  'b': {\"ub\": 10, \"lb\": 0.},\n",
    "            'd': {\"ub\": 10, \"lb\": 0.},\n",
    "            'h': {\"ub\": 10, \"lb\": 0},\n",
    "            'alpha': {\"ub\": 1, \"lb\": -1},\n",
    "            'beta': {\"ub\": 1, \"lb\": -1},}"
   ]
  },
  {
   "cell_type": "code",
   "execution_count": 6,
   "metadata": {},
   "outputs": [],
   "source": [
    "import numpy as np\n",
    "import pickle\n",
    "\n",
    "# res = vars\n",
    "\n",
    "# with open('AGD_dccp.pickle', 'wb') as handle:\n",
    "#     pickle.dump(res, handle, protocol=pickle.HIGHEST_PROTOCOL)\n",
    "\n",
    "# with open('AGD_dccp.pickle', 'rb') as handle:\n",
    "#     vars = pickle.load(handle)\n",
    "\n",
    "# P = co.cholseky_matrix(vars[\"Z\"])\n",
    "# P_flatten = co.flatten_lower_tri(P)\n",
    "# var_x = np.concatenate([vars[\"x\"], P_flatten.reshape(-1, 1)], axis=0)\n",
    "# print(var_x.shape)\n",
    "# init_values = {\"x\": var_x}\n",
    "\n",
    "\n",
    "# problem = co.accelerated_gradient_circuit(mu, L_smooth, R, Capacitance, Inductance)\n",
    "# problem.obj = problem.b + problem.d\n",
    "# res, model = problem.solve(verbose=True, solver=\"ca_canonical_X\", init_values=init_values)[:2]"
   ]
  },
  {
   "cell_type": "markdown",
   "metadata": {},
   "source": [
    "# PEP verification"
   ]
  },
  {
   "cell_type": "code",
   "execution_count": null,
   "metadata": {},
   "outputs": [],
   "source": [
    "problem = co.accelerated_gradient_circuit(mu, L_smooth, R, Capacitance, Inductance, params=res)\n",
    "diff = problem.solve(verbose=0, solver=cp.MOSEK)\n",
    "print(f\"{diff=}\")"
   ]
  }
 ],
 "metadata": {
  "kernelspec": {
   "display_name": "osbdo",
   "language": "python",
   "name": "python3"
  },
  "language_info": {
   "codemirror_mode": {
    "name": "ipython",
    "version": 3
   },
   "file_extension": ".py",
   "mimetype": "text/x-python",
   "name": "python",
   "nbconvert_exporter": "python",
   "pygments_lexer": "ipython3",
   "version": "3.10.13"
  }
 },
 "nbformat": 4,
 "nbformat_minor": 2
}
