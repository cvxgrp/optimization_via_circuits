{
 "cells": [
  {
   "cell_type": "code",
   "execution_count": 4,
   "metadata": {},
   "outputs": [],
   "source": [
    "import numpy as np\n",
    "import ciropt as co\n",
    "import cvxpy as cp"
   ]
  },
  {
   "cell_type": "code",
   "execution_count": 5,
   "metadata": {},
   "outputs": [],
   "source": [
    "L_smooth = 1.\n",
    "mu = 0.0001\n",
    "Capacitance = 2.\n",
    "Inductance = 2.\n",
    "R = 1.\n",
    "\n",
    "# solver = \"ca\"\n",
    "solver = \"cvx_fix_discr_sdp\"\n",
    "# solver = \"bounds_sdp_relax\""
   ]
  },
  {
   "cell_type": "code",
   "execution_count": 6,
   "metadata": {},
   "outputs": [
    {
     "name": "stdout",
     "output_type": "stream",
     "text": [
      "prob.status='optimal'\n"
     ]
    }
   ],
   "source": [
    "params = {  'b': 2.668461416208648,\n",
    "            'h': 6.035346326485873,\n",
    "            'd': 0.7721222828714854,\n",
    "            'alpha': 0.49158864756189447,\n",
    "            'beta': 0.44375266588967205 }\n",
    "\n",
    "bounds = {  'b': {\"ub\": 10, \"lb\": 1},\n",
    "            'd': {\"ub\": 10, \"lb\": 0.},\n",
    "            'h': {\"ub\": 10, \"lb\": 1},\n",
    "            'alpha': {\"ub\": 1, \"lb\": -1},\n",
    "            'beta': {\"ub\": 1, \"lb\": -1},}\n",
    "\n",
    "\n",
    "problem = co.accelerated_gradient_circuit(mu, L_smooth, R, Capacitance, Inductance)\n",
    "problem.obj = problem.b + problem.d\n",
    "\n",
    "vars, model, sp_exp = problem.solve(solver=solver, verbose=False, debug=True, params=params)\n",
    "\n",
    "# vars, model, sp_exp = problem.solve(solver=solver, verbose=False, debug=True, bounds=bounds)"
   ]
  },
  {
   "cell_type": "code",
   "execution_count": 11,
   "metadata": {},
   "outputs": [
    {
     "data": {
      "text/plain": [
       "(True, Constant(CONSTANT, ZERO, ()))"
      ]
     },
     "execution_count": 11,
     "metadata": {},
     "output_type": "execute_result"
    }
   ],
   "source": [
    "model.objective.args[0].is_quadratic(), model.objective.args[0]"
   ]
  },
  {
   "cell_type": "code",
   "execution_count": 15,
   "metadata": {},
   "outputs": [
    {
     "ename": "AttributeError",
     "evalue": "'Equality' object has no attribute 'OP_NAME'",
     "output_type": "error",
     "traceback": [
      "\u001b[0;31m---------------------------------------------------------------------------\u001b[0m",
      "\u001b[0;31mAttributeError\u001b[0m                            Traceback (most recent call last)",
      "\u001b[1;32m/Users/parshakova.tanya/Documents/projects/Circuits/optimization_via_circuits/dev/test_sdp_fixed_discretization.ipynb Cell 5\u001b[0m line \u001b[0;36m<cell line: 1>\u001b[0;34m()\u001b[0m\n\u001b[0;32m----> <a href='vscode-notebook-cell:/Users/parshakova.tanya/Documents/projects/Circuits/optimization_via_circuits/dev/test_sdp_fixed_discretization.ipynb#X34sZmlsZQ%3D%3D?line=0'>1</a>\u001b[0m model\u001b[39m.\u001b[39;49mconstraints[\u001b[39m2\u001b[39;49m]\u001b[39m.\u001b[39;49mOP_NAME\n",
      "\u001b[0;31mAttributeError\u001b[0m: 'Equality' object has no attribute 'OP_NAME'"
     ]
    }
   ],
   "source": [
    "model.constraints[2].OP_NAME"
   ]
  },
  {
   "cell_type": "code",
   "execution_count": null,
   "metadata": {},
   "outputs": [
    {
     "data": {
      "text/plain": [
       "(dict_keys(['Z', 'lambdas']), dict_keys(['b', 'h', 'd', 'alpha', 'beta']))"
      ]
     },
     "execution_count": 4,
     "metadata": {},
     "output_type": "execute_result"
    }
   ],
   "source": [
    "vars.keys(), params.keys()"
   ]
  },
  {
   "cell_type": "code",
   "execution_count": null,
   "metadata": {},
   "outputs": [],
   "source": []
  },
  {
   "cell_type": "code",
   "execution_count": null,
   "metadata": {},
   "outputs": [],
   "source": [
    "assert np.allclose(vars[\"lambdas\"], co.flatten_lamb(co.reshape_lamb_2d(vars[\"lambdas\"].flatten())))"
   ]
  },
  {
   "cell_type": "code",
   "execution_count": null,
   "metadata": {},
   "outputs": [],
   "source": [
    "Z = vars[\"Z\"]\n",
    "P = co.cholseky_matrix(Z, eps=1e-9)\n",
    "\n",
    "lamb0 = co.reshape_lamb_2d(vars[\"lambdas\"].flatten())\n",
    "\n",
    "bounds = {\"P\": {\"ub\": P, \"lb\":P},\n",
    "          \"lamb0\": {\"ub\" : lamb0, \"lb\" : lamb0}}\n",
    "for name, val in params.items():\n",
    "    bounds[name] = {\"ub\": val, \"lb\":val}"
   ]
  },
  {
   "cell_type": "code",
   "execution_count": null,
   "metadata": {},
   "outputs": [
    {
     "data": {
      "text/plain": [
       "(-0.3409628464735698,\n",
       " 1.2017619342908925,\n",
       " -0.2617026145591449,\n",
       " 0.9600868837752917)"
      ]
     },
     "execution_count": 7,
     "metadata": {},
     "output_type": "execute_result"
    }
   ],
   "source": [
    "Z.min(), Z.max(), P.min(), P.max()"
   ]
  },
  {
   "cell_type": "code",
   "execution_count": null,
   "metadata": {},
   "outputs": [
    {
     "name": "stdout",
     "output_type": "stream",
     "text": [
      "dim_G=6, dim_F=4\n",
      "Set parameter Username\n",
      "Academic license - for non-commercial use only - expires 2024-10-31\n",
      "13\n"
     ]
    }
   ],
   "source": [
    "problem = co.accelerated_gradient_circuit(mu, L_smooth, R, Capacitance, Inductance)\n",
    "problem.obj = problem.b + problem.d\n",
    "\n",
    "gp_vars, model, sp_exp = problem.solve(solver=\"gp\", verbose=False, debug=True, bounds=bounds, ftol=1e-7)\n",
    "print(model.status)"
   ]
  },
  {
   "cell_type": "code",
   "execution_count": null,
   "metadata": {},
   "outputs": [
    {
     "name": "stdout",
     "output_type": "stream",
     "text": [
      "dim_G=6, dim_F=4\n",
      "===============================================================================\n",
      "                                     CVXPY                                     \n",
      "                                     v1.4.1                                    \n",
      "===============================================================================\n",
      "(CVXPY) Dec 09 09:01:35 PM: Your problem has 5191 variables, 129 constraints, and 0 parameters.\n",
      "(CVXPY) Dec 09 09:01:35 PM: It is compliant with the following grammars: DCP, DQCP\n",
      "(CVXPY) Dec 09 09:01:35 PM: (If you need to solve this problem multiple times, but with different data, consider using parameters.)\n",
      "(CVXPY) Dec 09 09:01:35 PM: CVXPY will first compile your problem; then, it will invoke a numerical solver to obtain a solution.\n",
      "(CVXPY) Dec 09 09:01:35 PM: Your problem is compiled with the CPP canonicalization backend.\n",
      "-------------------------------------------------------------------------------\n",
      "                                  Compilation                                  \n",
      "-------------------------------------------------------------------------------\n",
      "(CVXPY) Dec 09 09:01:35 PM: Compiling problem (target solver=MOSEK).\n",
      "(CVXPY) Dec 09 09:01:35 PM: Reduction chain: Dcp2Cone -> CvxAttr2Constr -> ConeMatrixStuffing -> MOSEK\n",
      "(CVXPY) Dec 09 09:01:35 PM: Applying reduction Dcp2Cone\n",
      "(CVXPY) Dec 09 09:01:35 PM: Applying reduction CvxAttr2Constr\n",
      "(CVXPY) Dec 09 09:01:35 PM: Applying reduction ConeMatrixStuffing\n",
      "(CVXPY) Dec 09 09:01:35 PM: Applying reduction MOSEK\n",
      "(CVXPY) Dec 09 09:01:36 PM: Finished problem compilation (took 5.553e-01 seconds).\n",
      "-------------------------------------------------------------------------------\n",
      "                                Numerical solver                               \n",
      "-------------------------------------------------------------------------------\n",
      "(CVXPY) Dec 09 09:01:36 PM: Invoking solver MOSEK  to obtain a solution.\n",
      "\n",
      "\n",
      "(CVXPY) Dec 09 09:01:36 PM: Problem\n",
      "(CVXPY) Dec 09 09:01:36 PM:   Name                   :                 \n",
      "(CVXPY) Dec 09 09:01:36 PM:   Objective sense        : maximize        \n",
      "(CVXPY) Dec 09 09:01:36 PM:   Type                   : CONIC (conic optimization problem)\n",
      "(CVXPY) Dec 09 09:01:36 PM:   Constraints            : 5412            \n",
      "(CVXPY) Dec 09 09:01:36 PM:   Affine conic cons.     : 0               \n",
      "(CVXPY) Dec 09 09:01:36 PM:   Disjunctive cons.      : 0               \n",
      "(CVXPY) Dec 09 09:01:36 PM:   Cones                  : 120             \n",
      "(CVXPY) Dec 09 09:01:36 PM:   Scalar variables       : 10996           \n",
      "(CVXPY) Dec 09 09:01:36 PM:   Matrix variables       : 2 (scalarized: 1347)\n",
      "(CVXPY) Dec 09 09:01:36 PM:   Integer variables      : 0               \n",
      "(CVXPY) Dec 09 09:01:36 PM: \n",
      "(CVXPY) Dec 09 09:01:36 PM: Optimizer started.\n",
      "(CVXPY) Dec 09 09:01:36 PM: Presolve started.\n",
      "(CVXPY) Dec 09 09:01:36 PM: Linear dependency checker started.\n",
      "(CVXPY) Dec 09 09:01:36 PM: Linear dependency checker terminated.\n",
      "(CVXPY) Dec 09 09:01:36 PM: Eliminator started.\n",
      "(CVXPY) Dec 09 09:01:36 PM: Freed constraints in eliminator : 3882\n",
      "(CVXPY) Dec 09 09:01:36 PM: Eliminator terminated.\n",
      "(CVXPY) Dec 09 09:01:36 PM: Eliminator started.\n",
      "(CVXPY) Dec 09 09:01:36 PM: Freed constraints in eliminator : 0\n",
      "(CVXPY) Dec 09 09:01:36 PM: Eliminator terminated.\n",
      "(CVXPY) Dec 09 09:01:36 PM: Eliminator - tries                  : 2                 time                   : 0.00            \n",
      "(CVXPY) Dec 09 09:01:36 PM: Lin. dep.  - tries                  : 1                 time                   : 0.00            \n",
      "(CVXPY) Dec 09 09:01:36 PM: Lin. dep.  - primal attempts        : 1                 successes              : 1               \n",
      "(CVXPY) Dec 09 09:01:36 PM: Lin. dep.  - dual attempts          : 0                 successes              : 0               \n",
      "(CVXPY) Dec 09 09:01:36 PM: Lin. dep.  - primal deps.           : 0                 dual deps.             : 0               \n",
      "(CVXPY) Dec 09 09:01:36 PM: Presolve terminated. Time: 0.01    \n",
      "(CVXPY) Dec 09 09:01:36 PM: GP based matrix reordering started.\n",
      "(CVXPY) Dec 09 09:01:36 PM: GP based matrix reordering terminated.\n",
      "(CVXPY) Dec 09 09:01:36 PM: Optimizer  - threads                : 8               \n",
      "(CVXPY) Dec 09 09:01:36 PM: Optimizer  - solved problem         : the primal      \n",
      "(CVXPY) Dec 09 09:01:36 PM: Optimizer  - Constraints            : 1481            \n",
      "(CVXPY) Dec 09 09:01:36 PM: Optimizer  - Cones                  : 121             \n",
      "(CVXPY) Dec 09 09:01:36 PM: Optimizer  - Scalar variables       : 3068              conic                  : 434             \n",
      "(CVXPY) Dec 09 09:01:36 PM: Optimizer  - Semi-definite variables: 2                 scalarized             : 1347            \n",
      "(CVXPY) Dec 09 09:01:36 PM: Factor     - setup time             : 0.06            \n",
      "(CVXPY) Dec 09 09:01:36 PM: Factor     - dense det. time        : 0.03              GP order time          : 0.00            \n",
      "(CVXPY) Dec 09 09:01:36 PM: Factor     - nonzeros before factor : 8.89e+05          after factor           : 8.89e+05        \n",
      "(CVXPY) Dec 09 09:01:36 PM: Factor     - dense dim.             : 0                 flops                  : 7.86e+08        \n",
      "(CVXPY) Dec 09 09:01:36 PM: Factor     - GP saved nzs           : 7.37e+04          GP saved flops         : 9.61e+07        \n",
      "(CVXPY) Dec 09 09:01:36 PM: ITE PFEAS    DFEAS    GFEAS    PRSTATUS   POBJ              DOBJ              MU       TIME  \n",
      "(CVXPY) Dec 09 09:01:36 PM: 0   1.2e+01  1.0e+00  1.0e+00  0.00e+00   -0.000000000e+00  -0.000000000e+00  1.0e+00  0.08  \n",
      "(CVXPY) Dec 09 09:01:36 PM: 1   6.3e+00  5.3e-01  3.8e-01  9.48e-03   -9.054600015e-01  -8.496001451e-01  5.3e-01  0.11  \n",
      "(CVXPY) Dec 09 09:01:36 PM: 2   3.3e+00  2.7e-01  1.3e-01  8.79e-01   -1.760031368e+00  -1.695152121e+00  2.7e-01  0.13  \n",
      "(CVXPY) Dec 09 09:01:36 PM: 3   5.7e-01  4.8e-02  2.5e-02  6.69e-01   -1.721223024e+01  -1.738530470e+01  4.8e-02  0.15  \n",
      "(CVXPY) Dec 09 09:01:36 PM: 4   1.9e-01  1.6e-02  1.5e-02  -8.36e-01  -5.309341088e+01  -5.383527785e+01  1.6e-02  0.17  \n",
      "(CVXPY) Dec 09 09:01:36 PM: 5   2.8e-02  2.4e-03  4.3e-03  -5.04e-01  -3.285582851e+02  -3.318207158e+02  2.4e-03  0.19  \n",
      "(CVXPY) Dec 09 09:01:36 PM: 6   1.9e-02  1.6e-03  3.4e-03  -6.12e-01  -5.637597878e+02  -5.681750798e+02  1.6e-03  0.21  \n",
      "(CVXPY) Dec 09 09:01:36 PM: 7   1.1e-02  9.3e-04  3.2e-03  -1.25e+00  -8.124945369e+02  -8.245606454e+02  9.3e-04  0.23  \n",
      "(CVXPY) Dec 09 09:01:36 PM: 8   5.1e-03  4.2e-04  1.7e-03  -6.12e-01  -1.826005069e+03  -1.841302558e+03  4.2e-04  0.24  \n",
      "(CVXPY) Dec 09 09:01:36 PM: 9   1.1e-03  8.9e-05  7.4e-04  -9.55e-01  -8.443203434e+03  -8.512544372e+03  8.9e-05  0.26  \n",
      "(CVXPY) Dec 09 09:01:36 PM: 10  1.4e-04  1.2e-05  2.5e-04  -1.06e+00  -5.458015317e+04  -5.503451431e+04  1.2e-05  0.28  \n",
      "(CVXPY) Dec 09 09:01:36 PM: 11  6.9e-05  5.7e-06  1.8e-04  -9.43e-01  -1.213337364e+05  -1.222921401e+05  5.7e-06  0.30  \n",
      "(CVXPY) Dec 09 09:01:36 PM: 12  3.2e-05  2.6e-06  1.3e-04  -1.09e+00  -2.075960982e+05  -2.100044205e+05  2.6e-06  0.32  \n",
      "(CVXPY) Dec 09 09:01:36 PM: 13  1.5e-05  1.2e-06  8.3e-05  -9.20e-01  -5.596751061e+05  -5.643269758e+05  1.2e-06  0.34  \n",
      "(CVXPY) Dec 09 09:01:36 PM: 14  4.8e-06  4.0e-07  5.2e-05  -1.06e+00  -1.739974948e+06  -1.757081393e+06  4.0e-07  0.36  \n",
      "(CVXPY) Dec 09 09:01:36 PM: 15  5.1e-07  4.2e-08  1.5e-05  -1.04e+00  -1.331078843e+07  -1.343102940e+07  4.2e-08  0.38  \n",
      "(CVXPY) Dec 09 09:01:36 PM: 16  4.5e-07  3.7e-08  1.6e-05  -2.02e+00  -1.693593700e+07  -1.713188291e+07  3.7e-08  0.40  \n",
      "(CVXPY) Dec 09 09:01:36 PM: 17  2.9e-07  2.4e-08  8.5e-06  -2.05e-01  -1.969075427e+07  -1.981363114e+07  2.4e-08  0.42  \n",
      "(CVXPY) Dec 09 09:01:36 PM: 18  2.2e-07  1.8e-08  1.1e-05  -1.44e+00  -4.124773125e+07  -4.161590482e+07  1.8e-08  0.43  \n",
      "(CVXPY) Dec 09 09:01:36 PM: 19  7.8e-08  2.7e-09  3.4e-06  -6.86e-01  -2.179953576e+08  -2.195910448e+08  2.8e-09  0.46  \n",
      "(CVXPY) Dec 09 09:01:36 PM: 20  6.0e-08  2.1e-09  4.3e-06  -2.19e+00  -3.748679453e+08  -3.789702817e+08  2.2e-09  0.47  \n",
      "(CVXPY) Dec 09 09:01:36 PM: 21  2.9e-08  9.8e-10  1.6e-06  -6.88e-02  -4.899209161e+08  -4.925841160e+08  1.0e-09  0.49  \n",
      "(CVXPY) Dec 09 09:01:36 PM: 22  1.3e-08  5.6e-10  1.9e-06  -1.28e+00  -1.518011628e+09  -1.529177753e+09  5.7e-10  0.51  \n",
      "(CVXPY) Dec 09 09:01:36 PM: 23  4.4e-09  7.5e-11  5.2e-07  -5.96e-01  -7.803620461e+09  -7.851158767e+09  7.7e-11  0.53  \n",
      "(CVXPY) Dec 09 09:01:36 PM: 24  4.0e-09  7.2e-11  5.6e-07  -2.66e+00  -8.644375625e+09  -8.704857418e+09  7.3e-11  0.56  \n",
      "(CVXPY) Dec 09 09:01:36 PM: 25  1.7e-09  2.7e-11  3.7e-07  -1.39e+00  -2.221215736e+10  -2.239807540e+10  2.8e-11  0.58  \n",
      "(CVXPY) Dec 09 09:01:37 PM: 26  1.7e-09  2.7e-11  3.7e-07  -1.39e+00  -2.221215736e+10  -2.239807540e+10  2.8e-11  0.61  \n",
      "(CVXPY) Dec 09 09:01:37 PM: 27  1.3e-09  2.3e-11  3.6e-07  -1.27e+00  -2.695668275e+10  -2.719453288e+10  2.4e-11  0.63  \n",
      "(CVXPY) Dec 09 09:01:37 PM: 28  1.3e-09  2.2e-11  3.5e-07  -1.16e+00  -2.826272274e+10  -2.851411994e+10  2.3e-11  0.65  \n",
      "(CVXPY) Dec 09 09:01:37 PM: 29  1.3e-09  2.2e-11  3.5e-07  -1.14e+00  -2.893537600e+10  -2.919369852e+10  2.2e-11  0.68  \n",
      "(CVXPY) Dec 09 09:01:37 PM: 30  1.2e-09  2.1e-11  3.5e-07  -1.14e+00  -2.927660927e+10  -2.953843634e+10  2.2e-11  0.70  \n",
      "(CVXPY) Dec 09 09:01:37 PM: 31  1.2e-09  2.1e-11  3.5e-07  -1.14e+00  -2.931938624e+10  -2.958165204e+10  2.2e-11  0.73  \n",
      "(CVXPY) Dec 09 09:01:37 PM: 32  1.2e-09  2.1e-11  3.5e-07  -1.14e+00  -2.931938624e+10  -2.958165204e+10  2.2e-11  0.76  \n",
      "(CVXPY) Dec 09 09:01:37 PM: 33  1.2e-09  2.1e-11  3.5e-07  -1.14e+00  -2.931938624e+10  -2.958165204e+10  2.2e-11  0.79  \n",
      "(CVXPY) Dec 09 09:01:37 PM: Optimizer terminated. Time: 0.83    \n",
      "(CVXPY) Dec 09 09:01:37 PM: \n",
      "(CVXPY) Dec 09 09:01:37 PM: \n",
      "(CVXPY) Dec 09 09:01:37 PM: Interior-point solution summary\n",
      "(CVXPY) Dec 09 09:01:37 PM:   Problem status  : PRIMAL_INFEASIBLE\n",
      "(CVXPY) Dec 09 09:01:37 PM:   Solution status : PRIMAL_INFEASIBLE_CER\n",
      "(CVXPY) Dec 09 09:01:37 PM:   Dual.    obj: -8.9247873133e+00   nrm: 9e+00    Viol.  con: 0e+00    var: 3e-10    barvar: 2e-11    cones: 0e+00  \n",
      "-------------------------------------------------------------------------------\n",
      "                                    Summary                                    \n",
      "-------------------------------------------------------------------------------\n",
      "(CVXPY) Dec 09 09:01:37 PM: Problem status: unbounded\n",
      "(CVXPY) Dec 09 09:01:37 PM: Optimal value: -inf\n",
      "(CVXPY) Dec 09 09:01:37 PM: Compilation took 5.553e-01 seconds\n",
      "(CVXPY) Dec 09 09:01:37 PM: Solver (including time spent in interface) took 8.633e-01 seconds\n",
      "prob.status='unbounded'\n"
     ]
    },
    {
     "ename": "TypeError",
     "evalue": "'NoneType' object is not subscriptable",
     "output_type": "error",
     "traceback": [
      "\u001b[0;31m---------------------------------------------------------------------------\u001b[0m",
      "\u001b[0;31mTypeError\u001b[0m                                 Traceback (most recent call last)",
      "\u001b[1;32m/Users/parshakova.tanya/Documents/projects/Circuits/optimization_via_circuits/dev/test_sdp_fixed_discretization.ipynb Cell 10\u001b[0m line \u001b[0;36m<cell line: 10>\u001b[0;34m()\u001b[0m\n\u001b[1;32m      <a href='vscode-notebook-cell:/Users/parshakova.tanya/Documents/projects/Circuits/optimization_via_circuits/dev/test_sdp_fixed_discretization.ipynb#X11sZmlsZQ%3D%3D?line=7'>8</a>\u001b[0m cvx_solver \u001b[39m=\u001b[39m [cp\u001b[39m.\u001b[39mCLARABEL, cp\u001b[39m.\u001b[39mMOSEK, \u001b[39m'\u001b[39m\u001b[39mCVXOPT\u001b[39m\u001b[39m'\u001b[39m, \u001b[39m'\u001b[39m\u001b[39mSCS\u001b[39m\u001b[39m'\u001b[39m][\u001b[39m1\u001b[39m]\n\u001b[1;32m      <a href='vscode-notebook-cell:/Users/parshakova.tanya/Documents/projects/Circuits/optimization_via_circuits/dev/test_sdp_fixed_discretization.ipynb#X11sZmlsZQ%3D%3D?line=8'>9</a>\u001b[0m var_bound \u001b[39m=\u001b[39m [\u001b[39m\"\u001b[39m\u001b[39mZ\u001b[39m\u001b[39m\"\u001b[39m, \u001b[39m\"\u001b[39m\u001b[39mlamb\u001b[39m\u001b[39m\"\u001b[39m][\u001b[39m0\u001b[39m]\n\u001b[0;32m---> <a href='vscode-notebook-cell:/Users/parshakova.tanya/Documents/projects/Circuits/optimization_via_circuits/dev/test_sdp_fixed_discretization.ipynb#X11sZmlsZQ%3D%3D?line=9'>10</a>\u001b[0m bounds, sol, sp_exp \u001b[39m=\u001b[39m problem\u001b[39m.\u001b[39;49msolve(solver\u001b[39m=\u001b[39;49m\u001b[39m\"\u001b[39;49m\u001b[39mbounds_sdp_relax\u001b[39;49m\u001b[39m\"\u001b[39;49m, var_bound\u001b[39m=\u001b[39;49mvar_bound, cvx_solver\u001b[39m=\u001b[39;49mcvx_solver, verbose\u001b[39m=\u001b[39;49m\u001b[39mTrue\u001b[39;49;00m, debug\u001b[39m=\u001b[39;49m\u001b[39mTrue\u001b[39;49;00m, bounds\u001b[39m=\u001b[39;49mbounds)\n\u001b[1;32m     <a href='vscode-notebook-cell:/Users/parshakova.tanya/Documents/projects/Circuits/optimization_via_circuits/dev/test_sdp_fixed_discretization.ipynb#X11sZmlsZQ%3D%3D?line=10'>11</a>\u001b[0m bounds\n",
      "File \u001b[0;32m~/Documents/projects/Circuits/optimization_via_circuits/ciropt/circuit_opt.py:881\u001b[0m, in \u001b[0;36mCircuitOpt.solve\u001b[0;34m(self, solver, **kwargs)\u001b[0m\n\u001b[1;32m    879\u001b[0m     \u001b[39mreturn\u001b[39;00m \u001b[39mself\u001b[39m\u001b[39m.\u001b[39msolve_gp_canonical_X(\u001b[39m*\u001b[39m\u001b[39m*\u001b[39mkwargs)\n\u001b[1;32m    880\u001b[0m \u001b[39melif\u001b[39;00m solver \u001b[39m==\u001b[39m \u001b[39m\"\u001b[39m\u001b[39mbounds_sdp_relax\u001b[39m\u001b[39m\"\u001b[39m:\n\u001b[0;32m--> 881\u001b[0m     \u001b[39mreturn\u001b[39;00m \u001b[39mself\u001b[39;49m\u001b[39m.\u001b[39;49mbounds_sdp_relax(\u001b[39m*\u001b[39;49m\u001b[39m*\u001b[39;49mkwargs)\n\u001b[1;32m    882\u001b[0m \u001b[39melif\u001b[39;00m solver \u001b[39m==\u001b[39m \u001b[39m\"\u001b[39m\u001b[39mca\u001b[39m\u001b[39m\"\u001b[39m:\n\u001b[1;32m    883\u001b[0m     \u001b[39mreturn\u001b[39;00m \u001b[39mself\u001b[39m\u001b[39m.\u001b[39msolve_ca(\u001b[39m*\u001b[39m\u001b[39m*\u001b[39mkwargs)\n",
      "File \u001b[0;32m~/Documents/projects/Circuits/optimization_via_circuits/ciropt/circuit_opt.py:821\u001b[0m, in \u001b[0;36mCircuitOpt.bounds_sdp_relax\u001b[0;34m(self, verbose, var_bound, debug, bounds, cvx_solver, **kwargs)\u001b[0m\n\u001b[1;32m    819\u001b[0m \u001b[39mself\u001b[39m\u001b[39m.\u001b[39mv_names \u001b[39m=\u001b[39m v_names\n\u001b[1;32m    820\u001b[0m \u001b[39mself\u001b[39m\u001b[39m.\u001b[39mvar_x \u001b[39m=\u001b[39m var_x\n\u001b[0;32m--> 821\u001b[0m \u001b[39mself\u001b[39m\u001b[39m.\u001b[39mbounds_vars \u001b[39m=\u001b[39m {name:bounds_vars\u001b[39m.\u001b[39mvalue[b_idx] \u001b[39mfor\u001b[39;00m b_idx, name \u001b[39min\u001b[39;00m \u001b[39menumerate\u001b[39m(bounds_names) }\n\u001b[1;32m    822\u001b[0m \u001b[39mself\u001b[39m\u001b[39m.\u001b[39mbounds_vars[\u001b[39m\"\u001b[39m\u001b[39mP\u001b[39m\u001b[39m\"\u001b[39m] \u001b[39m=\u001b[39m np\u001b[39m.\u001b[39msqrt(\u001b[39mself\u001b[39m\u001b[39m.\u001b[39mbounds_vars[\u001b[39m\"\u001b[39m\u001b[39mZ\u001b[39m\u001b[39m\"\u001b[39m])\n\u001b[1;32m    823\u001b[0m \u001b[39mreturn\u001b[39;00m \u001b[39mself\u001b[39m\u001b[39m.\u001b[39mbounds_vars, prob, sp_exp\n",
      "File \u001b[0;32m~/Documents/projects/Circuits/optimization_via_circuits/ciropt/circuit_opt.py:821\u001b[0m, in \u001b[0;36m<dictcomp>\u001b[0;34m(.0)\u001b[0m\n\u001b[1;32m    819\u001b[0m \u001b[39mself\u001b[39m\u001b[39m.\u001b[39mv_names \u001b[39m=\u001b[39m v_names\n\u001b[1;32m    820\u001b[0m \u001b[39mself\u001b[39m\u001b[39m.\u001b[39mvar_x \u001b[39m=\u001b[39m var_x\n\u001b[0;32m--> 821\u001b[0m \u001b[39mself\u001b[39m\u001b[39m.\u001b[39mbounds_vars \u001b[39m=\u001b[39m {name:bounds_vars\u001b[39m.\u001b[39;49mvalue[b_idx] \u001b[39mfor\u001b[39;00m b_idx, name \u001b[39min\u001b[39;00m \u001b[39menumerate\u001b[39m(bounds_names) }\n\u001b[1;32m    822\u001b[0m \u001b[39mself\u001b[39m\u001b[39m.\u001b[39mbounds_vars[\u001b[39m\"\u001b[39m\u001b[39mP\u001b[39m\u001b[39m\"\u001b[39m] \u001b[39m=\u001b[39m np\u001b[39m.\u001b[39msqrt(\u001b[39mself\u001b[39m\u001b[39m.\u001b[39mbounds_vars[\u001b[39m\"\u001b[39m\u001b[39mZ\u001b[39m\u001b[39m\"\u001b[39m])\n\u001b[1;32m    823\u001b[0m \u001b[39mreturn\u001b[39;00m \u001b[39mself\u001b[39m\u001b[39m.\u001b[39mbounds_vars, prob, sp_exp\n",
      "\u001b[0;31mTypeError\u001b[0m: 'NoneType' object is not subscriptable"
     ]
    }
   ],
   "source": [
    "bounds = {  #\"Z\": {\"ub\": Z, \"lb\" : Z},\n",
    "            #\"lamb\": {\"ub\" : vars[\"lambdas\"], \"lb\" : vars[\"lambdas\"]}\n",
    "          }\n",
    "\n",
    "problem = co.accelerated_gradient_circuit(mu, L_smooth, R, Capacitance, Inductance)\n",
    "problem.obj = problem.b + problem.d\n",
    "\n",
    "cvx_solver = [cp.CLARABEL, cp.MOSEK, 'CVXOPT', 'SCS'][1]\n",
    "var_bound = [\"Z\", \"lamb\"][0]\n",
    "bounds, sol, sp_exp = problem.solve(solver=\"bounds_sdp_relax\", var_bound=var_bound, cvx_solver=cvx_solver, verbose=True, debug=True, bounds=bounds)\n",
    "bounds"
   ]
  },
  {
   "cell_type": "code",
   "execution_count": null,
   "metadata": {},
   "outputs": [],
   "source": [
    "# fixed Z\n",
    "# {'Z': 1.3976658160664561,\n",
    "#  'alpha': 836.5515168748786,\n",
    "#  'beta': 836.5584902659812,\n",
    "#  'lamb': 104.48776609702135,\n",
    "#  'P': 1.1822291723969833}"
   ]
  },
  {
   "cell_type": "code",
   "execution_count": null,
   "metadata": {},
   "outputs": [],
   "source": [
    "assert 1 == 0"
   ]
  },
  {
   "cell_type": "code",
   "execution_count": null,
   "metadata": {},
   "outputs": [],
   "source": [
    "L_smooth = 1.\n",
    "mu = 0.001\n",
    "Inductance = 5.\n",
    "R = 1.\n",
    "\n",
    "num_fi = 3\n",
    "problem = co.admm_consensus(num_fi, mu, L_smooth, R, Inductance)"
   ]
  },
  {
   "cell_type": "code",
   "execution_count": null,
   "metadata": {},
   "outputs": [],
   "source": [
    "bounds = {  'b': {\"ub\": 0.000001, \"lb\": 0.000001},\n",
    "            'h': {\"ub\": 0.000001, \"lb\": 0.000001}}\n",
    "\n",
    "vars, model, sp_exp = problem.solve(solver=\"ca\", verbose=True, debug=True, bounds=bounds)"
   ]
  },
  {
   "cell_type": "code",
   "execution_count": null,
   "metadata": {},
   "outputs": [],
   "source": [
    "params = {'b': -6.586851988799446e-12,\n",
    " 'h': 2.0050490196829352e-11,\n",
    " 'd': 0,\n",
    " 'alpha': 0.00021484442616463077,\n",
    " 'beta': 0.18371375512916682}\n",
    "\n",
    "\n",
    "params = {  'b': 0.000001,\n",
    "            'h': 0.000001,\n",
    "            'd': 0.,\n",
    "            'alpha': 0.5,\n",
    "            'beta': 0.5}\n",
    "\n",
    "bounds = {  'b': {\"ub\": 0.000001, \"lb\": 0.000001},\n",
    "            'h': {\"ub\": 0.000001, \"lb\": 0.000001}}"
   ]
  },
  {
   "cell_type": "code",
   "execution_count": null,
   "metadata": {},
   "outputs": [],
   "source": [
    "# vars, prob, sp_exp = problem.solve(solver=solver, verbose=True, debug=True)\n",
    "vars, prob, sp_exp = problem.solve(solver=solver, verbose=False, debug=True, params=params)\n",
    "print(prob.status)"
   ]
  },
  {
   "cell_type": "code",
   "execution_count": null,
   "metadata": {},
   "outputs": [],
   "source": [
    "init_vals = {}\n",
    "Fi_size = vars[\"lambda\"].size // num_fi\n",
    "size_I = int(np.ceil(np.sqrt(Fi_size)))\n",
    "for f_idx in range(num_fi):\n",
    "    lamb_i = np.zeros((size_I, size_I))\n",
    "    vec = np.maximum(vars[\"lambda\"][f_idx * Fi_size : (f_idx+1) * Fi_size], 0)\n",
    "    count  = 0\n",
    "    for i in range(size_I):\n",
    "        for j in range(size_I):\n",
    "            if i == j: continue\n",
    "            lamb_i[i, j] = vec[count]\n",
    "            count += 1\n",
    "    assert count == size_I * (size_I - 1)\n",
    "    init_vals[\"lamb%d\"%f_idx] = lamb_i\n",
    "\n",
    "Z = vars[\"Z\"]\n",
    "Lamb, V = np.linalg.eigh(Z)\n",
    "assert np.allclose(V @ np.diag(Lamb) @ V.T, Z)\n",
    "Z_plus = V @ np.diag(np.maximum(Lamb, 0)) @ V.T\n",
    "P = np.linalg.cholesky(Z_plus)\n",
    "\n",
    "init_vals[\"P_full\"] = P"
   ]
  },
  {
   "cell_type": "code",
   "execution_count": null,
   "metadata": {},
   "outputs": [],
   "source": [
    "# problem = co.accelerated_gradient_circuit(mu, L_smooth, R, Capacitance, Inductance)"
   ]
  },
  {
   "cell_type": "code",
   "execution_count": null,
   "metadata": {},
   "outputs": [],
   "source": [
    "problem = co.admm_consensus(num_fi, mu, L_smooth, R, Inductance)"
   ]
  },
  {
   "cell_type": "code",
   "execution_count": null,
   "metadata": {},
   "outputs": [],
   "source": []
  },
  {
   "cell_type": "code",
   "execution_count": null,
   "metadata": {},
   "outputs": [],
   "source": [
    "vars, model, sp_exp = problem.solve(solver=\"casadi_short\", verbose=True, debug=True, bounds=bounds)#init_vals=init_vals)"
   ]
  },
  {
   "cell_type": "code",
   "execution_count": null,
   "metadata": {},
   "outputs": [],
   "source": [
    "print(problem.opti.stats()[\"iter_count\"])"
   ]
  },
  {
   "cell_type": "code",
   "execution_count": null,
   "metadata": {},
   "outputs": [],
   "source": [
    "vars"
   ]
  },
  {
   "cell_type": "code",
   "execution_count": 16,
   "metadata": {},
   "outputs": [],
   "source": [
    "from scipy import sparse\n",
    "A = np.array([[1,2,0],[0,0,3],[1,0,4]])\n",
    "B = np.matrix([[1,2,0],[0,0,3],[1,0,4]])\n",
    "\n",
    "\n",
    "\n",
    "sA = sparse.csr_matrix(A)"
   ]
  },
  {
   "cell_type": "code",
   "execution_count": 21,
   "metadata": {},
   "outputs": [
    {
     "data": {
      "text/plain": [
       "numpy.ndarray"
      ]
     },
     "execution_count": 21,
     "metadata": {},
     "output_type": "execute_result"
    }
   ],
   "source": [
    "type(sA.toarray())"
   ]
  },
  {
   "cell_type": "code",
   "execution_count": 23,
   "metadata": {},
   "outputs": [
    {
     "data": {
      "text/plain": [
       "EighResult(eigenvalues=array([-1.71751428,  2.36590198,  9.3516123 ]), eigenvectors=matrix([[-0.41247137,  0.88475813,  0.2169572 ],\n",
       "        [ 0.88153518,  0.3276061 ,  0.33995582],\n",
       "        [-0.22970218, -0.33147745,  0.91507356]]))"
      ]
     },
     "execution_count": 23,
     "metadata": {},
     "output_type": "execute_result"
    }
   ],
   "source": [
    "np.linalg.eigh((sA + sA.T).todense())"
   ]
  },
  {
   "cell_type": "code",
   "execution_count": 40,
   "metadata": {},
   "outputs": [],
   "source": [
    "z = sparse.bmat([[A, A], [None, A]]).tocsr()\n",
    "x = sparse.csc_array(np.random.randn(6, 1))"
   ]
  },
  {
   "cell_type": "code",
   "execution_count": 42,
   "metadata": {},
   "outputs": [
    {
     "data": {
      "text/plain": [
       "(6, 1)"
      ]
     },
     "execution_count": 42,
     "metadata": {},
     "output_type": "execute_result"
    }
   ],
   "source": [
    "(z @ x).shape"
   ]
  },
  {
   "cell_type": "code",
   "execution_count": 37,
   "metadata": {},
   "outputs": [
    {
     "data": {
      "text/plain": [
       "1"
      ]
     },
     "execution_count": 37,
     "metadata": {},
     "output_type": "execute_result"
    }
   ],
   "source": [
    "np.random.randn(1,6).dot(np.random.randn(6,1\n",
    "                                         )).size"
   ]
  },
  {
   "cell_type": "code",
   "execution_count": 26,
   "metadata": {},
   "outputs": [
    {
     "data": {
      "text/plain": [
       "SX(@1=4, \n",
       "[[3, 00, @1], \n",
       " [00, @1, 5]])"
      ]
     },
     "execution_count": 26,
     "metadata": {},
     "output_type": "execute_result"
    }
   ],
   "source": [
    "M = ca.SX(scipy.sparse.csr_matrix((np.array([[3,0, 4],[0,4,5]]))))\n",
    "M"
   ]
  },
  {
   "cell_type": "code",
   "execution_count": null,
   "metadata": {},
   "outputs": [],
   "source": []
  }
 ],
 "metadata": {
  "kernelspec": {
   "display_name": "circuits",
   "language": "python",
   "name": "python3"
  },
  "language_info": {
   "codemirror_mode": {
    "name": "ipython",
    "version": 3
   },
   "file_extension": ".py",
   "mimetype": "text/x-python",
   "name": "python",
   "nbconvert_exporter": "python",
   "pygments_lexer": "ipython3",
   "version": "3.10.13"
  }
 },
 "nbformat": 4,
 "nbformat_minor": 2
}
