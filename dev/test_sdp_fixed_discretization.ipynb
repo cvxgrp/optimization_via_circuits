{
 "cells": [
  {
   "cell_type": "code",
   "execution_count": 1,
   "metadata": {},
   "outputs": [],
   "source": [
    "import numpy as np\n",
    "import ciropt as co\n",
    "import cvxpy as cp"
   ]
  },
  {
   "cell_type": "code",
   "execution_count": 2,
   "metadata": {},
   "outputs": [],
   "source": [
    "L_smooth = 1.\n",
    "mu = 0.0001\n",
    "Capacitance = 2.\n",
    "Inductance = 2.\n",
    "R = 1.\n",
    "\n",
    "# solver = \"ipopt\"\n",
    "# solver = \"cvx_fix_discr_sdp\"\n",
    "solver = \"sdp_relax\""
   ]
  },
  {
   "cell_type": "code",
   "execution_count": 3,
   "metadata": {},
   "outputs": [
    {
     "name": "stdout",
     "output_type": "stream",
     "text": [
      "dim_G=6, dim_F=4\n",
      "prob.status='optimal'\n"
     ]
    }
   ],
   "source": [
    "params = {  'b': 2.668461416208648,\n",
    "            'h': 6.035346326485873,\n",
    "            'd': 0.7721222828714854,\n",
    "            'alpha': 0.49158864756189447,\n",
    "            'beta': 0.44375266588967205 }\n",
    "\n",
    "bounds = {  \n",
    "            # 'b': {\"ub\": 10, \"lb\": 1},\n",
    "            # 'd': {\"ub\": 10, \"lb\": 0.},\n",
    "            # 'h': {\"ub\": 10, \"lb\": 1},\n",
    "            # 'alpha': {\"ub\": 1, \"lb\": -1},\n",
    "            # 'beta': {\"ub\": 1, \"lb\": -1},\n",
    "            }\n",
    "\n",
    "problem = co.accelerated_gradient_circuit(mu, L_smooth, R, Capacitance, Inductance)\n",
    "problem.obj = problem.b + problem.d\n",
    "\n",
    "# vars, model, sp_exp = problem.solve(solver=solver, verbose=False, debug=True, params=params)\n",
    "vars, model, sp_exp = problem.solve(solver=solver, verbose=False, debug=True, bounds=bounds)"
   ]
  },
  {
   "cell_type": "code",
   "execution_count": 4,
   "metadata": {},
   "outputs": [
    {
     "data": {
      "text/plain": [
       "{'alpha': -0.748242183264136,\n",
       " 'b': 5341.897183307361,\n",
       " 'beta': 0.11616269847606024,\n",
       " 'd': 16379.177707024262,\n",
       " 'h': 25.059613157366154}"
      ]
     },
     "execution_count": 4,
     "metadata": {},
     "output_type": "execute_result"
    }
   ],
   "source": [
    "vars"
   ]
  },
  {
   "cell_type": "code",
   "execution_count": 5,
   "metadata": {},
   "outputs": [],
   "source": [
    "Z = problem.vars[\"Z\"]\n",
    "P = co.cholseky_matrix(Z, eps=1e-9)\n",
    "P_flat = co.flatten_lower_tri(P)\n",
    "x0 = np.concatenate([problem.vars[\"x\"], P_flat.reshape(-1, 1)], axis=0)"
   ]
  },
  {
   "cell_type": "code",
   "execution_count": 7,
   "metadata": {},
   "outputs": [
    {
     "name": "stdout",
     "output_type": "stream",
     "text": [
      "dim_G=6, dim_F=4\n",
      "This is Ipopt version 3.14.11, running with linear solver MUMPS 5.4.1.\n",
      "\n",
      "Number of nonzeros in equality constraint Jacobian...:     3378\n",
      "Number of nonzeros in inequality constraint Jacobian.:      138\n",
      "Number of nonzeros in Lagrangian Hessian.............:     1253\n",
      "\n",
      "Total number of variables............................:       91\n",
      "                     variables with only lower bounds:        0\n",
      "                variables with lower and upper bounds:        0\n",
      "                     variables with only upper bounds:        0\n",
      "Total number of equality constraints.................:       73\n",
      "Total number of inequality constraints...............:       18\n",
      "        inequality constraints with only lower bounds:       18\n",
      "   inequality constraints with lower and upper bounds:        0\n",
      "        inequality constraints with only upper bounds:        0\n",
      "\n",
      "iter    objective    inf_pr   inf_du lg(mu)  ||d||  lg(rg) alpha_du alpha_pr  ls\n",
      "   0 -0.0000000e+00 1.00e+00 1.00e+00  -1.0 0.00e+00    -  0.00e+00 0.00e+00   0\n",
      "   1 -3.9031594e-09 1.79e-01 2.02e+00  -1.7 1.00e+00  -2.0 9.90e-01 1.00e+00h  1\n",
      "   2 -5.7931848e-02 1.54e-01 1.86e+00  -1.7 3.79e+00  -1.6 1.00e+00 7.61e-02f  1\n",
      "   3 -2.8781180e-02 2.01e-01 7.56e-01  -1.7 5.68e-01  -1.1 5.79e-01 5.94e-01h  1\n",
      "   4 -2.7866936e-02 5.55e-02 1.40e+00  -1.7 8.89e-02   1.1 8.17e-01 7.78e-01h  1\n",
      "   5 -1.1926002e-01 2.01e-02 1.81e+00  -1.7 1.26e-01   0.6 8.63e-01 1.00e+00f  1\n",
      "   6 -5.1183204e-01 1.24e-01 1.34e+01  -1.7 3.09e-01   0.1 4.84e-01 1.00e+00f  1\n",
      "   7 -6.6790009e-01 7.28e-03 1.63e+00  -1.7 1.28e-01   0.6 1.00e+00 1.00e+00h  1\n",
      "   8 -9.6091502e-01 3.04e-02 7.50e-01  -1.7 1.86e-01   0.1 1.00e+00 1.00e+00f  1\n",
      "   9 -1.7098741e+00 1.87e-01 4.54e+00  -1.7 5.93e-01  -0.4 8.91e-01 1.00e+00f  1\n",
      "iter    objective    inf_pr   inf_du lg(mu)  ||d||  lg(rg) alpha_du alpha_pr  ls\n",
      "  10 -2.3948407e+00 2.60e-01 3.09e+00  -1.7 1.29e+00  -0.9 1.00e+00 1.00e+00h  1\n",
      "  11 -2.8655088e+00 7.14e-01 8.80e+00  -1.7 1.72e+00  -1.4 9.25e-01 1.00e+00h  1\n",
      "  12 -2.7775513e+00 5.04e-02 9.16e-01  -1.7 4.12e-01  -0.9 1.00e+00 1.00e+00h  1\n",
      "  13 -2.8805592e+00 7.70e-02 1.67e+00  -1.7 7.07e-01  -1.4 1.00e+00 1.00e+00h  1\n",
      "  14 -2.8885465e+00 3.55e-01 4.79e-01  -1.7 7.37e-01  -1.9 1.00e+00 1.00e+00h  1\n",
      "  15 -2.8708402e+00 4.58e-02 3.05e-01  -1.7 1.63e-01  -1.5 1.00e+00 1.00e+00h  1\n",
      "  16 -2.8691281e+00 1.38e-01 3.17e-02  -1.7 4.44e-01  -1.9 1.00e+00 1.00e+00h  1\n",
      "  17 -2.9855448e+00 1.31e-01 1.07e-01  -2.5 5.20e-01  -2.4 1.00e+00 1.00e+00h  1\n",
      "  18 -2.9822707e+00 3.96e-02 3.77e-02  -2.5 2.86e-01  -2.0 1.00e+00 1.00e+00h  1\n",
      "  19 -3.0363927e+00 4.45e-01 7.39e-02  -2.5 1.82e+00  -2.5 1.00e+00 8.83e-01H  1\n",
      "iter    objective    inf_pr   inf_du lg(mu)  ||d||  lg(rg) alpha_du alpha_pr  ls\n",
      "  20 -3.0591173e+00 6.69e-01 1.29e-01  -2.5 2.23e+00  -2.9 1.00e+00 1.00e+00h  1\n",
      "  21 -3.0583263e+00 1.29e-01 8.84e-03  -2.5 3.35e-01  -1.6 1.00e+00 1.00e+00h  1\n",
      "  22 -3.0785849e+00 1.75e-01 1.28e-02  -2.5 5.50e-01  -2.1 1.00e+00 1.00e+00h  1\n",
      "  23 -3.0986601e+00 3.17e-02 1.16e-02  -2.5 1.45e+00  -2.6 1.00e+00 1.00e+00h  1\n",
      "  24 -3.1373256e+00 1.47e-01 4.68e-02  -2.5 3.50e+00  -3.0 1.00e+00 1.00e+00h  1\n",
      "  25 -3.1448714e+00 1.17e-02 3.49e-03  -2.5 1.43e+00  -2.6 1.00e+00 1.00e+00h  1\n",
      "  26 -3.1766414e+00 3.39e-02 1.09e-01  -3.8 3.12e+00  -3.1 7.76e-01 7.29e-01h  1\n",
      "  27 -3.2309620e+00 8.27e-01 2.56e-01  -3.8 7.20e+00  -3.6 1.00e+00 1.00e+00h  1\n",
      "  28 -3.2292310e+00 8.54e-02 1.28e-01  -3.8 2.37e-01  -1.3 1.00e+00 1.00e+00h  1\n",
      "  29 -3.2252558e+00 4.69e-03 2.47e-03  -3.8 1.60e-01  -1.8 1.00e+00 1.00e+00h  1\n",
      "iter    objective    inf_pr   inf_du lg(mu)  ||d||  lg(rg) alpha_du alpha_pr  ls\n",
      "  30 -3.2276444e+00 4.43e-03 1.95e-03  -3.8 3.80e-01  -2.3 1.00e+00 1.00e+00h  1\n",
      "  31 -3.2336853e+00 3.71e-02 1.40e-02  -3.8 1.13e+00  -2.8 1.00e+00 1.00e+00h  1\n",
      "  32 -3.2484335e+00 7.09e-01 7.58e-02  -3.8 3.11e+00  -3.2 1.00e+00 1.00e+00h  1\n",
      "  33 -3.2531718e+00 1.02e-01 4.04e-03  -3.8 1.20e+00  -2.8 1.00e+00 1.00e+00h  1\n",
      "  34 -3.2651526e+00 4.42e-02 1.27e-02  -3.8 3.21e+00  -3.3 1.00e+00 1.00e+00h  1\n",
      "  35 -3.2914702e+00 2.60e-01 6.62e-02  -3.8 7.88e+00  -3.8 1.00e+00 1.00e+00h  1\n",
      "  36 -3.2900484e+00 6.73e-03 1.72e-03  -3.8 4.78e-01  -2.4 1.00e+00 1.00e+00h  1\n",
      "  37 -3.2930955e+00 5.38e-03 1.76e-03  -3.8 1.15e+00  -2.9 1.00e+00 1.00e+00h  1\n",
      "  38 -3.3014285e+00 3.82e-02 1.11e-02  -3.8 3.20e+00  -3.4 1.00e+00 1.00e+00h  1\n",
      "  39 -3.3204841e+00 2.24e-01 6.47e-02  -3.8 8.05e+00  -3.9 1.00e+00 1.00e+00h  1\n",
      "iter    objective    inf_pr   inf_du lg(mu)  ||d||  lg(rg) alpha_du alpha_pr  ls\n",
      "  40 -3.3524519e+00 8.93e-01 2.82e-01  -3.8 1.71e+01  -4.4 1.00e+00 1.00e+00h  1\n",
      "  41 -3.3482303e+00 2.05e-03 2.55e-03  -3.8 2.79e-01  -2.1 1.00e+00 1.00e+00h  1\n",
      "  42 -3.3483612e+00 4.45e-04 9.44e-04  -3.8 3.73e-01  -2.6 1.00e+00 1.00e+00h  1\n",
      "  43 -3.3506045e+00 2.94e-02 2.63e-02  -5.7 9.96e-01  -3.1 9.44e-01 9.92e-01h  1\n",
      "  44 -3.3542100e+00 3.49e-02 2.00e-02  -5.7 2.83e+00  -3.6 1.00e+00 9.25e-01h  1\n",
      "  45 -3.3637243e+00 1.44e-01 5.65e-02  -5.7 7.48e+00  -4.0 1.00e+00 1.00e+00h  1\n",
      "  46 -3.3819476e+00 6.75e-01 2.81e-01  -5.7 1.70e+01  -4.5 1.00e+00 1.00e+00h  1\n",
      "  47 -3.3804787e+00 5.42e-03 6.54e-04  -5.7 9.82e-01  -3.2 1.00e+00 1.00e+00h  1\n",
      "  48 -3.3824223e+00 1.42e-02 9.07e-03  -5.7 2.49e+00  -3.7 1.00e+00 1.00e+00h  1\n",
      "  49 -3.3876732e+00 9.41e-02 5.06e-02  -5.7 6.68e+00  -4.1 1.00e+00 1.00e+00h  1\n",
      "iter    objective    inf_pr   inf_du lg(mu)  ||d||  lg(rg) alpha_du alpha_pr  ls\n",
      "  50 -3.3987713e+00 4.94e-01 2.70e-01  -5.7 1.59e+01  -4.6 1.00e+00 1.00e+00h  1\n",
      "  51 -3.3980923e+00 8.80e-05 4.49e-04  -5.7 8.54e-01  -3.3 1.00e+00 1.00e+00h  1\n",
      "  52 -3.3993600e+00 9.67e-03 6.97e-03  -5.7 2.28e+00  -3.8 1.00e+00 1.00e+00h  1\n",
      "  53 -3.4027526e+00 6.93e-02 4.52e-02  -5.7 6.26e+00  -4.2 1.00e+00 1.00e+00h  1\n",
      "  54 -3.4103269e+00 3.96e-01 2.63e-01  -5.7 1.54e+01  -4.7 1.00e+00 1.00e+00h  1\n",
      "  55 -3.4119614e+00 4.29e-02 3.46e-02  -5.7 5.67e+00  -4.3 1.00e+00 1.00e+00h  1\n",
      "  56 -3.4173524e+00 3.00e-01 2.30e-01  -5.7 1.42e+01  -4.8 1.00e+00 1.00e+00h  1\n",
      "  57 -3.4186228e+00 3.33e-02 3.00e-02  -5.7 5.20e+00  -4.3 1.00e+00 1.00e+00h  1\n",
      "  58 -3.4226833e+00 2.39e-01 2.06e-01  -5.7 1.33e+01  -4.8 1.00e+00 1.00e+00h  1\n",
      "  59 -3.4236959e+00 2.72e-02 2.66e-02  -5.7 4.87e+00  -4.4 1.00e+00 1.00e+00h  1\n",
      "iter    objective    inf_pr   inf_du lg(mu)  ||d||  lg(rg) alpha_du alpha_pr  ls\n",
      "  60 -3.4268741e+00 1.98e-01 1.88e-01  -5.7 1.27e+01  -4.9 1.00e+00 1.00e+00h  1\n",
      "  61 -3.4328364e+00 8.97e-01 9.06e-01  -5.7 2.79e+01  -5.3 1.00e+00 1.00e+00h  1\n",
      "  62 -3.4322938e+00 1.03e-01 1.09e-03  -5.7 1.44e+00  -4.0 1.00e+00 1.00e+00h  1\n",
      "  63 -3.4329223e+00 1.73e-02 2.00e-02  -5.7 3.91e+00  -4.5 1.00e+00 1.00e+00h  1\n",
      "  64 -3.4345472e+00 1.11e-01 1.28e-01  -5.7 1.04e+01  -5.0 1.00e+00 1.00e+00h  1\n",
      "  65 -3.4376944e+00 5.16e-01 6.15e-01  -5.7 2.31e+01  -5.4 1.00e+00 1.00e+00h  1\n",
      "  66 -3.4407963e+00 9.92e-01 1.27e+00  -5.7 3.67e+01  -5.9 1.00e+00 8.96e-01h  1\n",
      "  67 -3.4402702e+00 1.71e+00 6.50e-03  -5.7 4.77e+00  -5.1 3.50e-01 1.00e+00h  1\n",
      "  68 -3.4402723e+00 1.75e+00 2.15e-02  -5.7 2.63e+01  -4.6 3.19e-01 8.57e-03h  5\n",
      "  69 -3.4402215e+00 4.79e-01 3.87e-03  -5.7 6.06e-01  -4.2 1.00e+00 1.00e+00h  1\n",
      "iter    objective    inf_pr   inf_du lg(mu)  ||d||  lg(rg) alpha_du alpha_pr  ls\n",
      "  70 -3.4403145e+00 1.26e-01 4.75e-03  -5.7 1.72e+00  -4.7 1.00e+00 1.00e+00h  1\n",
      "  71 -3.4404772e+00 4.44e-02 1.53e-02  -5.7 4.02e+00  -5.2 1.00e+00 1.00e+00h  1\n",
      "  72 -3.4406454e+00 3.46e-02 2.74e-02  -5.7 5.69e+00  -5.6 1.00e+00 1.00e+00h  1\n",
      "  73 -3.4405810e+00 5.27e-04 8.46e-04  -5.7 3.00e-01  -6.1 1.00e+00 1.00e+00h  1\n",
      "  74 -3.4405726e+00 7.82e-05 6.46e-06  -5.7 2.61e-02  -6.6 1.00e+00 1.00e+00h  1\n",
      "  75 -3.4405725e+00 2.22e-06 9.83e-09  -5.7 2.67e-03  -7.1 1.00e+00 1.00e+00h  1\n",
      "  76 -3.4405839e+00 2.08e-04 5.39e-05  -8.6 1.35e-01  -7.6 1.00e+00 9.99e-01h  1\n",
      "  77 -3.4405837e+00 3.06e-05 8.65e-08  -8.6 5.53e-03  -8.0 1.00e+00 1.00e+00h  1\n",
      "  78 -3.4405837e+00 2.89e-06 9.65e-08  -8.6 4.06e-02  -8.5 1.00e+00 1.00e+00H  1\n",
      "  79 -3.4405837e+00 3.49e-05 3.72e-08  -8.6 2.25e-02  -9.0 1.00e+00 1.00e+00H  1\n",
      "iter    objective    inf_pr   inf_du lg(mu)  ||d||  lg(rg) alpha_du alpha_pr  ls\n",
      "  80 -3.4405837e+00 9.68e-06 3.70e-09  -8.6 1.89e-03  -5.9 1.00e+00 1.00e+00h  1\n",
      "  81 -3.4405837e+00 8.44e-06 6.66e-08  -8.6 4.81e-03  -6.3 1.00e+00 1.00e+00H  1\n",
      "  82 -3.4405837e+00 1.51e-07 5.65e-09  -8.6 5.34e-03  -6.8 1.00e+00 1.00e+00H  1\n",
      "  83 -3.4405837e+00 4.19e-06 3.68e-07  -8.6 3.38e-03  -7.3 1.00e+00 5.00e-01h  2\n",
      "  84 -3.4405837e+00 3.69e-06 1.84e-07  -8.6 1.85e-03  -7.3 1.00e+00 5.00e-01h  2\n",
      "  85 -3.4405837e+00 4.87e-08 1.48e-08  -8.6 1.96e-03  -7.8 1.00e+00 1.00e+00H  1\n",
      "  86 -3.4405837e+00 2.71e-06 1.80e-10  -8.6 1.25e-03  -8.3 1.00e+00 1.00e+00h  1\n",
      "  87 -3.4405837e+00 4.17e-10 2.76e-10  -8.6 1.97e-05  -6.1 1.00e+00 1.00e+00h  1\n",
      "\n",
      "Number of Iterations....: 87\n",
      "\n",
      "                                   (scaled)                 (unscaled)\n",
      "Objective...............:  -3.4405836990801335e+00   -3.4405836990801335e+00\n",
      "Dual infeasibility......:   2.7647346434803155e-10    2.7647346434803155e-10\n",
      "Constraint violation....:   4.1708630993397833e-10    4.1708630993397833e-10\n",
      "Variable bound violation:   0.0000000000000000e+00    0.0000000000000000e+00\n",
      "Complementarity.........:   2.5059035597267665e-09    2.5059035597267665e-09\n",
      "Overall NLP error.......:   2.5059035597267665e-09    2.5059035597267665e-09\n",
      "\n",
      "\n",
      "Number of objective function evaluations             = 108\n",
      "Number of objective gradient evaluations             = 88\n",
      "Number of equality constraint evaluations            = 108\n",
      "Number of inequality constraint evaluations          = 108\n",
      "Number of equality constraint Jacobian evaluations   = 88\n",
      "Number of inequality constraint Jacobian evaluations = 88\n",
      "Number of Lagrangian Hessian evaluations             = 87\n",
      "Total seconds in IPOPT                               = 0.571\n",
      "\n",
      "EXIT: Optimal Solution Found.\n",
      "      solver  :   t_proc      (avg)   t_wall      (avg)    n_eval\n",
      "       nlp_f  | 101.00us (935.19ns) 102.91us (952.90ns)       108\n",
      "       nlp_g  |  22.08ms (204.42us)  22.24ms (205.91us)       108\n",
      "  nlp_grad_f  | 136.00us (  1.53us) 120.91us (  1.36us)        89\n",
      "  nlp_hess_l  | 248.91ms (  2.86ms) 250.56ms (  2.88ms)        87\n",
      "   nlp_jac_g  | 194.27ms (  2.18ms) 196.25ms (  2.21ms)        89\n",
      "       total  | 567.08ms (567.08ms) 571.14ms (571.14ms)         1\n"
     ]
    }
   ],
   "source": [
    "problem = co.accelerated_gradient_circuit(mu, L_smooth, R, Capacitance, Inductance)\n",
    "problem.obj = problem.b + problem.d\n",
    "\n",
    "# vars, model, sp_exp = problem.solve(solver=\"ca_canonical\", verbose=True, x0=x0)\n",
    "vars, model, sp_exp = problem.solve(solver=\"ca_canonical\", verbose=True)"
   ]
  },
  {
   "cell_type": "code",
   "execution_count": null,
   "metadata": {},
   "outputs": [],
   "source": []
  },
  {
   "cell_type": "code",
   "execution_count": null,
   "metadata": {},
   "outputs": [],
   "source": []
  },
  {
   "cell_type": "code",
   "execution_count": null,
   "metadata": {},
   "outputs": [],
   "source": []
  },
  {
   "cell_type": "code",
   "execution_count": 6,
   "metadata": {},
   "outputs": [
    {
     "ename": "KeyError",
     "evalue": "'lambdas'",
     "output_type": "error",
     "traceback": [
      "\u001b[0;31m---------------------------------------------------------------------------\u001b[0m",
      "\u001b[0;31mKeyError\u001b[0m                                  Traceback (most recent call last)",
      "Input \u001b[0;32mIn [6]\u001b[0m, in \u001b[0;36m<cell line: 1>\u001b[0;34m()\u001b[0m\n\u001b[0;32m----> 1\u001b[0m \u001b[38;5;28;01massert\u001b[39;00m np\u001b[38;5;241m.\u001b[39mallclose(\u001b[38;5;28;43mvars\u001b[39;49m\u001b[43m[\u001b[49m\u001b[38;5;124;43m\"\u001b[39;49m\u001b[38;5;124;43mlambdas\u001b[39;49m\u001b[38;5;124;43m\"\u001b[39;49m\u001b[43m]\u001b[49m, co\u001b[38;5;241m.\u001b[39mflatten_lamb(co\u001b[38;5;241m.\u001b[39mreshape_lamb_2d(\u001b[38;5;28mvars\u001b[39m[\u001b[38;5;124m\"\u001b[39m\u001b[38;5;124mlambdas\u001b[39m\u001b[38;5;124m\"\u001b[39m]\u001b[38;5;241m.\u001b[39mflatten())))\n",
      "\u001b[0;31mKeyError\u001b[0m: 'lambdas'"
     ]
    }
   ],
   "source": [
    "assert np.allclose(vars[\"lambdas\"], co.flatten_lamb(co.reshape_lamb_2d(vars[\"lambdas\"].flatten())))"
   ]
  },
  {
   "cell_type": "code",
   "execution_count": 7,
   "metadata": {},
   "outputs": [
    {
     "ename": "LinAlgError",
     "evalue": "0-dimensional array given. Array must be at least two-dimensional",
     "output_type": "error",
     "traceback": [
      "\u001b[0;31m---------------------------------------------------------------------------\u001b[0m",
      "\u001b[0;31mLinAlgError\u001b[0m                               Traceback (most recent call last)",
      "Input \u001b[0;32mIn [7]\u001b[0m, in \u001b[0;36m<cell line: 2>\u001b[0;34m()\u001b[0m\n\u001b[1;32m      1\u001b[0m Z \u001b[38;5;241m=\u001b[39m \u001b[38;5;28mvars\u001b[39m[\u001b[38;5;124m\"\u001b[39m\u001b[38;5;124mZ\u001b[39m\u001b[38;5;124m\"\u001b[39m]\n\u001b[0;32m----> 2\u001b[0m P \u001b[38;5;241m=\u001b[39m \u001b[43mco\u001b[49m\u001b[38;5;241;43m.\u001b[39;49m\u001b[43mcholseky_matrix\u001b[49m\u001b[43m(\u001b[49m\u001b[43mZ\u001b[49m\u001b[43m,\u001b[49m\u001b[43m \u001b[49m\u001b[43meps\u001b[49m\u001b[38;5;241;43m=\u001b[39;49m\u001b[38;5;241;43m1e-9\u001b[39;49m\u001b[43m)\u001b[49m\n\u001b[1;32m      4\u001b[0m lamb0 \u001b[38;5;241m=\u001b[39m co\u001b[38;5;241m.\u001b[39mreshape_lamb_2d(\u001b[38;5;28mvars\u001b[39m[\u001b[38;5;124m\"\u001b[39m\u001b[38;5;124mlambdas\u001b[39m\u001b[38;5;124m\"\u001b[39m]\u001b[38;5;241m.\u001b[39mflatten())\n\u001b[1;32m      6\u001b[0m bounds \u001b[38;5;241m=\u001b[39m {\u001b[38;5;124m\"\u001b[39m\u001b[38;5;124mP\u001b[39m\u001b[38;5;124m\"\u001b[39m: {\u001b[38;5;124m\"\u001b[39m\u001b[38;5;124mub\u001b[39m\u001b[38;5;124m\"\u001b[39m: P, \u001b[38;5;124m\"\u001b[39m\u001b[38;5;124mlb\u001b[39m\u001b[38;5;124m\"\u001b[39m:P},\n\u001b[1;32m      7\u001b[0m           \u001b[38;5;124m\"\u001b[39m\u001b[38;5;124mlamb0\u001b[39m\u001b[38;5;124m\"\u001b[39m: {\u001b[38;5;124m\"\u001b[39m\u001b[38;5;124mub\u001b[39m\u001b[38;5;124m\"\u001b[39m : lamb0, \u001b[38;5;124m\"\u001b[39m\u001b[38;5;124mlb\u001b[39m\u001b[38;5;124m\"\u001b[39m : lamb0}}\n",
      "File \u001b[0;32m~/Documents/projects/Circuits/optimization_via_circuits/ciropt/utils.py:100\u001b[0m, in \u001b[0;36mcholseky_matrix\u001b[0;34m(Z, eps)\u001b[0m\n\u001b[1;32m     99\u001b[0m \u001b[38;5;28;01mdef\u001b[39;00m \u001b[38;5;21mcholseky_matrix\u001b[39m(Z, eps\u001b[38;5;241m=\u001b[39m\u001b[38;5;241m1e-9\u001b[39m):\n\u001b[0;32m--> 100\u001b[0m     Lamb, V \u001b[38;5;241m=\u001b[39m \u001b[43mnp\u001b[49m\u001b[38;5;241;43m.\u001b[39;49m\u001b[43mlinalg\u001b[49m\u001b[38;5;241;43m.\u001b[39;49m\u001b[43meigh\u001b[49m\u001b[43m(\u001b[49m\u001b[43mZ\u001b[49m\u001b[43m)\u001b[49m\n\u001b[1;32m    101\u001b[0m     \u001b[38;5;66;03m# print(Lamb)\u001b[39;00m\n\u001b[1;32m    102\u001b[0m     \u001b[38;5;28;01massert\u001b[39;00m np\u001b[38;5;241m.\u001b[39mallclose(V \u001b[38;5;241m@\u001b[39m np\u001b[38;5;241m.\u001b[39mdiag(Lamb) \u001b[38;5;241m@\u001b[39m V\u001b[38;5;241m.\u001b[39mT, Z)\n",
      "File \u001b[0;32m~/opt/anaconda3/envs/circuits/lib/python3.10/site-packages/numpy/linalg/linalg.py:1475\u001b[0m, in \u001b[0;36meigh\u001b[0;34m(a, UPLO)\u001b[0m\n\u001b[1;32m   1472\u001b[0m     \u001b[38;5;28;01mraise\u001b[39;00m \u001b[38;5;167;01mValueError\u001b[39;00m(\u001b[38;5;124m\"\u001b[39m\u001b[38;5;124mUPLO argument must be \u001b[39m\u001b[38;5;124m'\u001b[39m\u001b[38;5;124mL\u001b[39m\u001b[38;5;124m'\u001b[39m\u001b[38;5;124m or \u001b[39m\u001b[38;5;124m'\u001b[39m\u001b[38;5;124mU\u001b[39m\u001b[38;5;124m'\u001b[39m\u001b[38;5;124m\"\u001b[39m)\n\u001b[1;32m   1474\u001b[0m a, wrap \u001b[38;5;241m=\u001b[39m _makearray(a)\n\u001b[0;32m-> 1475\u001b[0m \u001b[43m_assert_stacked_2d\u001b[49m\u001b[43m(\u001b[49m\u001b[43ma\u001b[49m\u001b[43m)\u001b[49m\n\u001b[1;32m   1476\u001b[0m _assert_stacked_square(a)\n\u001b[1;32m   1477\u001b[0m t, result_t \u001b[38;5;241m=\u001b[39m _commonType(a)\n",
      "File \u001b[0;32m~/opt/anaconda3/envs/circuits/lib/python3.10/site-packages/numpy/linalg/linalg.py:206\u001b[0m, in \u001b[0;36m_assert_stacked_2d\u001b[0;34m(*arrays)\u001b[0m\n\u001b[1;32m    204\u001b[0m \u001b[38;5;28;01mfor\u001b[39;00m a \u001b[38;5;129;01min\u001b[39;00m arrays:\n\u001b[1;32m    205\u001b[0m     \u001b[38;5;28;01mif\u001b[39;00m a\u001b[38;5;241m.\u001b[39mndim \u001b[38;5;241m<\u001b[39m \u001b[38;5;241m2\u001b[39m:\n\u001b[0;32m--> 206\u001b[0m         \u001b[38;5;28;01mraise\u001b[39;00m LinAlgError(\u001b[38;5;124m'\u001b[39m\u001b[38;5;132;01m%d\u001b[39;00m\u001b[38;5;124m-dimensional array given. Array must be \u001b[39m\u001b[38;5;124m'\u001b[39m\n\u001b[1;32m    207\u001b[0m                 \u001b[38;5;124m'\u001b[39m\u001b[38;5;124mat least two-dimensional\u001b[39m\u001b[38;5;124m'\u001b[39m \u001b[38;5;241m%\u001b[39m a\u001b[38;5;241m.\u001b[39mndim)\n",
      "\u001b[0;31mLinAlgError\u001b[0m: 0-dimensional array given. Array must be at least two-dimensional"
     ]
    }
   ],
   "source": [
    "Z = vars[\"Z\"]\n",
    "P = co.cholseky_matrix(Z, eps=1e-9)\n",
    "\n",
    "lamb0 = co.reshape_lamb_2d(vars[\"lambdas\"].flatten())\n",
    "\n",
    "bounds = {\"P\": {\"ub\": P, \"lb\":P},\n",
    "          \"lamb0\": {\"ub\" : lamb0, \"lb\" : lamb0}}\n",
    "for name, val in params.items():\n",
    "    bounds[name] = {\"ub\": val, \"lb\":val}"
   ]
  },
  {
   "cell_type": "code",
   "execution_count": null,
   "metadata": {},
   "outputs": [],
   "source": [
    "Z.min(), Z.max(), P.min(), P.max()"
   ]
  },
  {
   "cell_type": "code",
   "execution_count": null,
   "metadata": {},
   "outputs": [],
   "source": [
    "problem = co.accelerated_gradient_circuit(mu, L_smooth, R, Capacitance, Inductance)\n",
    "problem.obj = problem.b + problem.d\n",
    "\n",
    "gp_vars, model, sp_exp = problem.solve(solver=\"gp\", verbose=False, debug=True, bounds=bounds, ftol=1e-7)\n",
    "print(model.status)"
   ]
  },
  {
   "cell_type": "code",
   "execution_count": null,
   "metadata": {},
   "outputs": [],
   "source": [
    "bounds = {  #\"Z\": {\"ub\": Z, \"lb\" : Z},\n",
    "            #\"lamb\": {\"ub\" : vars[\"lambdas\"], \"lb\" : vars[\"lambdas\"]}\n",
    "          }\n",
    "\n",
    "problem = co.accelerated_gradient_circuit(mu, L_smooth, R, Capacitance, Inductance)\n",
    "problem.obj = problem.b + problem.d\n",
    "\n",
    "cvx_solver = [cp.CLARABEL, cp.MOSEK, 'CVXOPT', 'SCS'][1]\n",
    "var_bound = [\"Z\", \"lamb\"][0]\n",
    "bounds, sol, sp_exp = problem.solve(solver=\"bounds_sdp_relax\", var_bound=var_bound, cvx_solver=cvx_solver, verbose=True, debug=True, bounds=bounds)\n",
    "bounds"
   ]
  },
  {
   "cell_type": "code",
   "execution_count": null,
   "metadata": {},
   "outputs": [],
   "source": [
    "# fixed Z\n",
    "# {'Z': 1.3976658160664561,\n",
    "#  'alpha': 836.5515168748786,\n",
    "#  'beta': 836.5584902659812,\n",
    "#  'lamb': 104.48776609702135,\n",
    "#  'P': 1.1822291723969833}"
   ]
  },
  {
   "cell_type": "code",
   "execution_count": null,
   "metadata": {},
   "outputs": [],
   "source": [
    "assert 1 == 0"
   ]
  },
  {
   "cell_type": "code",
   "execution_count": null,
   "metadata": {},
   "outputs": [],
   "source": [
    "L_smooth = 1.\n",
    "mu = 0.001\n",
    "Inductance = 5.\n",
    "R = 1.\n",
    "\n",
    "num_fi = 3\n",
    "problem = co.admm_consensus(num_fi, mu, L_smooth, R, Inductance)"
   ]
  },
  {
   "cell_type": "code",
   "execution_count": null,
   "metadata": {},
   "outputs": [],
   "source": [
    "bounds = {  'b': {\"ub\": 0.000001, \"lb\": 0.000001},\n",
    "            'h': {\"ub\": 0.000001, \"lb\": 0.000001}}\n",
    "\n",
    "vars, model, sp_exp = problem.solve(solver=\"ca\", verbose=True, debug=True, bounds=bounds)"
   ]
  },
  {
   "cell_type": "code",
   "execution_count": null,
   "metadata": {},
   "outputs": [],
   "source": [
    "params = {'b': -6.586851988799446e-12,\n",
    " 'h': 2.0050490196829352e-11,\n",
    " 'd': 0,\n",
    " 'alpha': 0.00021484442616463077,\n",
    " 'beta': 0.18371375512916682}\n",
    "\n",
    "\n",
    "params = {  'b': 0.000001,\n",
    "            'h': 0.000001,\n",
    "            'd': 0.,\n",
    "            'alpha': 0.5,\n",
    "            'beta': 0.5}\n",
    "\n",
    "bounds = {  'b': {\"ub\": 0.000001, \"lb\": 0.000001},\n",
    "            'h': {\"ub\": 0.000001, \"lb\": 0.000001}}"
   ]
  },
  {
   "cell_type": "code",
   "execution_count": null,
   "metadata": {},
   "outputs": [],
   "source": [
    "# vars, prob, sp_exp = problem.solve(solver=solver, verbose=True, debug=True)\n",
    "vars, prob, sp_exp = problem.solve(solver=solver, verbose=False, debug=True, params=params)\n",
    "print(prob.status)"
   ]
  },
  {
   "cell_type": "code",
   "execution_count": null,
   "metadata": {},
   "outputs": [],
   "source": [
    "init_vals = {}\n",
    "Fi_size = vars[\"lambda\"].size // num_fi\n",
    "size_I = int(np.ceil(np.sqrt(Fi_size)))\n",
    "for f_idx in range(num_fi):\n",
    "    lamb_i = np.zeros((size_I, size_I))\n",
    "    vec = np.maximum(vars[\"lambda\"][f_idx * Fi_size : (f_idx+1) * Fi_size], 0)\n",
    "    count  = 0\n",
    "    for i in range(size_I):\n",
    "        for j in range(size_I):\n",
    "            if i == j: continue\n",
    "            lamb_i[i, j] = vec[count]\n",
    "            count += 1\n",
    "    assert count == size_I * (size_I - 1)\n",
    "    init_vals[\"lamb%d\"%f_idx] = lamb_i\n",
    "\n",
    "Z = vars[\"Z\"]\n",
    "Lamb, V = np.linalg.eigh(Z)\n",
    "assert np.allclose(V @ np.diag(Lamb) @ V.T, Z)\n",
    "Z_plus = V @ np.diag(np.maximum(Lamb, 0)) @ V.T\n",
    "P = np.linalg.cholesky(Z_plus)\n",
    "\n",
    "init_vals[\"P_full\"] = P"
   ]
  },
  {
   "cell_type": "code",
   "execution_count": null,
   "metadata": {},
   "outputs": [],
   "source": [
    "# problem = co.accelerated_gradient_circuit(mu, L_smooth, R, Capacitance, Inductance)"
   ]
  },
  {
   "cell_type": "code",
   "execution_count": null,
   "metadata": {},
   "outputs": [],
   "source": [
    "problem = co.admm_consensus(num_fi, mu, L_smooth, R, Inductance)"
   ]
  },
  {
   "cell_type": "code",
   "execution_count": null,
   "metadata": {},
   "outputs": [],
   "source": []
  },
  {
   "cell_type": "code",
   "execution_count": null,
   "metadata": {},
   "outputs": [],
   "source": [
    "vars, model, sp_exp = problem.solve(solver=\"casadi_short\", verbose=True, debug=True, bounds=bounds)#init_vals=init_vals)"
   ]
  },
  {
   "cell_type": "code",
   "execution_count": null,
   "metadata": {},
   "outputs": [],
   "source": [
    "print(problem.opti.stats()[\"iter_count\"])"
   ]
  },
  {
   "cell_type": "code",
   "execution_count": null,
   "metadata": {},
   "outputs": [],
   "source": [
    "vars"
   ]
  },
  {
   "cell_type": "code",
   "execution_count": null,
   "metadata": {},
   "outputs": [],
   "source": []
  },
  {
   "cell_type": "code",
   "execution_count": 12,
   "metadata": {},
   "outputs": [
    {
     "name": "stdout",
     "output_type": "stream",
     "text": [
      "[[46 32 18 51 91  1 36 97 33 97]\n",
      " [53 10  5 29 87 91 85 20 80  3]\n",
      " [83 28 26 33 91  8 94 84 34 53]\n",
      " [89 66 99 71 99 10 91 19 95 76]\n",
      " [64 75 73  8 40 44 16 47  3 76]\n",
      " [94 46 24 34 21 25 44 74 21 21]\n",
      " [38 64 72 76 31 48 62 21 70  8]\n",
      " [57 50 81 24 12  2 29 31 76 91]\n",
      " [15 38 76 85 41 32 47 28 98 63]\n",
      " [50 92  5 44 72 65  1 18 19 72]]\n"
     ]
    },
    {
     "data": {
      "text/plain": [
       "array([46., 53., 10., 83., 28., 26., 89., 66., 99., 71., 64., 75., 73.,\n",
       "        8., 40., 94., 46., 24., 34., 21., 25., 38., 64., 72., 76., 31.,\n",
       "       48., 62., 57., 50., 81., 24., 12.,  2., 29., 31., 15., 38., 76.,\n",
       "       85., 41., 32., 47., 28., 98., 50., 92.,  5., 44., 72., 65.,  1.,\n",
       "       18., 19., 72.])"
      ]
     },
     "execution_count": 12,
     "metadata": {},
     "output_type": "execute_result"
    }
   ],
   "source": [
    "a = np.random.randint(0, 100, 100).reshape(10, 10)\n",
    "print(a)\n",
    "co.flatten_lower_tri(a)"
   ]
  },
  {
   "cell_type": "code",
   "execution_count": null,
   "metadata": {},
   "outputs": [],
   "source": []
  }
 ],
 "metadata": {
  "kernelspec": {
   "display_name": "circuits",
   "language": "python",
   "name": "python3"
  },
  "language_info": {
   "codemirror_mode": {
    "name": "ipython",
    "version": 3
   },
   "file_extension": ".py",
   "mimetype": "text/x-python",
   "name": "python",
   "nbconvert_exporter": "python",
   "pygments_lexer": "ipython3",
   "version": "3.10.13"
  }
 },
 "nbformat": 4,
 "nbformat_minor": 2
}
