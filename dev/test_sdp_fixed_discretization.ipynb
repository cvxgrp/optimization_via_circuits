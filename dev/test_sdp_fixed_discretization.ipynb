{
 "cells": [
  {
   "cell_type": "code",
   "execution_count": 1,
   "metadata": {},
   "outputs": [],
   "source": [
    "import numpy as np\n",
    "import ciropt as co\n",
    "import cvxpy as cp"
   ]
  },
  {
   "cell_type": "code",
   "execution_count": 2,
   "metadata": {},
   "outputs": [],
   "source": [
    "L_smooth = 1.\n",
    "mu = 0.0001\n",
    "Capacitance = 2.\n",
    "Inductance = 2.\n",
    "R = 1.\n",
    "\n",
    "# solver = \"ca\"\n",
    "# solver = \"cvx_fix_discr_sdp\"\n",
    "solver = \"cvx_sdp_relax\""
   ]
  },
  {
   "cell_type": "code",
   "execution_count": 3,
   "metadata": {},
   "outputs": [
    {
     "name": "stdout",
     "output_type": "stream",
     "text": [
      "===============================================================================\n",
      "                                     CVXPY                                     \n",
      "                                     v1.4.1                                    \n",
      "===============================================================================\n",
      "(CVXPY) Dec 06 01:55:57 PM: Your problem has 48 variables, 3 constraints, and 0 parameters.\n",
      "(CVXPY) Dec 06 01:55:57 PM: It is compliant with the following grammars: DCP, DQCP\n",
      "(CVXPY) Dec 06 01:55:57 PM: (If you need to solve this problem multiple times, but with different data, consider using parameters.)\n",
      "(CVXPY) Dec 06 01:55:57 PM: CVXPY will first compile your problem; then, it will invoke a numerical solver to obtain a solution.\n",
      "(CVXPY) Dec 06 01:55:57 PM: Your problem is compiled with the CPP canonicalization backend.\n",
      "-------------------------------------------------------------------------------\n",
      "                                  Compilation                                  \n",
      "-------------------------------------------------------------------------------\n",
      "(CVXPY) Dec 06 01:55:57 PM: Compiling problem (target solver=CLARABEL).\n",
      "(CVXPY) Dec 06 01:55:57 PM: Reduction chain: Dcp2Cone -> CvxAttr2Constr -> ConeMatrixStuffing -> CLARABEL\n",
      "(CVXPY) Dec 06 01:55:57 PM: Applying reduction Dcp2Cone\n",
      "(CVXPY) Dec 06 01:55:57 PM: Applying reduction CvxAttr2Constr\n",
      "(CVXPY) Dec 06 01:55:57 PM: Applying reduction ConeMatrixStuffing\n",
      "(CVXPY) Dec 06 01:55:57 PM: Applying reduction CLARABEL\n",
      "(CVXPY) Dec 06 01:55:57 PM: Finished problem compilation (took 8.353e-03 seconds).\n",
      "-------------------------------------------------------------------------------\n",
      "                                Numerical solver                               \n",
      "-------------------------------------------------------------------------------\n",
      "(CVXPY) Dec 06 01:55:57 PM: Invoking solver CLARABEL  to obtain a solution.\n",
      "-------------------------------------------------------------\n",
      "           Clarabel.rs v0.6.0  -  Clever Acronym              \n",
      "\n",
      "                   (c) Paul Goulart                          \n",
      "                University of Oxford, 2022                   \n",
      "-------------------------------------------------------------\n",
      "\n",
      "problem:\n",
      "  variables     = 33\n",
      "  constraints   = 73\n",
      "  nnz(P)        = 0\n",
      "  nnz(A)        = 275\n",
      "  cones (total) = 3\n",
      "    :        Zero = 1,  numel = 40\n",
      "    : Nonnegative = 1,  numel = 12\n",
      "    : PSDTriangle = 1,  numel = 21\n",
      "\n",
      "settings:\n",
      "  linear algebra: direct / qdldl, precision: 64 bit\n",
      "  max iter = 200, time limit = Inf,  max step = 0.990\n",
      "  tol_feas = 1.0e-8, tol_gap_abs = 1.0e-8, tol_gap_rel = 1.0e-8,\n",
      "  static reg : on, ϵ1 = 1.0e-8, ϵ2 = 4.9e-32\n",
      "  dynamic reg: on, ϵ = 1.0e-13, δ = 2.0e-7\n",
      "  iter refine: on, reltol = 1.0e-13, abstol = 1.0e-12,\n",
      "               max iter = 10, stop ratio = 5.0\n",
      "  equilibrate: on, min_scale = 1.0e-4, max_scale = 1.0e4\n",
      "               max iter = 10\n",
      "\n",
      "iter    pcost        dcost       gap       pres      dres      k/t        μ       step      \n",
      "---------------------------------------------------------------------------------------------\n",
      "  0  +0.0000e+00  -0.0000e+00  0.00e+00  5.59e-01  4.96e-01  1.00e+00  3.63e+00   ------   \n",
      "  1  +0.0000e+00  +7.2192e-02  7.22e-02  1.51e-01  1.02e-01  3.22e-01  1.19e+00  7.11e-01  \n",
      "  2  +0.0000e+00  +7.7465e-02  7.75e-02  3.17e-02  1.70e-02  1.32e-01  2.87e-01  8.88e-01  \n",
      "  3  +0.0000e+00  +2.2235e-02  2.22e-02  9.74e-03  3.88e-03  3.49e-02  6.87e-02  8.85e-01  \n",
      "  4  +0.0000e+00  -4.3683e-04  4.37e-04  6.18e-04  2.57e-04  3.55e-04  4.87e-03  9.31e-01  \n",
      "  5  +0.0000e+00  +8.2715e-05  8.27e-05  8.94e-05  5.06e-05  1.97e-04  1.09e-03  8.66e-01  \n",
      "  6  +0.0000e+00  +1.9459e-06  1.95e-06  1.27e-05  7.49e-06  1.81e-05  1.64e-04  9.67e-01  \n",
      "  7  +0.0000e+00  +5.7948e-07  5.79e-07  1.74e-06  1.01e-06  2.79e-06  2.18e-05  8.73e-01  \n",
      "  8  +0.0000e+00  +2.8501e-08  2.85e-08  9.94e-08  5.75e-08  1.55e-07  1.24e-06  9.49e-01  \n",
      "  9  +0.0000e+00  +8.2199e-10  8.22e-10  6.96e-09  4.06e-09  9.68e-09  8.85e-08  9.29e-01  \n",
      "---------------------------------------------------------------------------------------------\n",
      "Terminated with status = Solved\n",
      "solve time = 828.166µs\n",
      "-------------------------------------------------------------------------------\n",
      "                                    Summary                                    \n",
      "-------------------------------------------------------------------------------\n",
      "(CVXPY) Dec 06 01:55:57 PM: Problem status: optimal\n",
      "(CVXPY) Dec 06 01:55:57 PM: Optimal value: 0.000e+00\n",
      "(CVXPY) Dec 06 01:55:57 PM: Compilation took 8.353e-03 seconds\n",
      "(CVXPY) Dec 06 01:55:57 PM: Solver (including time spent in interface) took 1.140e-03 seconds\n",
      "prob.status='optimal'\n"
     ]
    }
   ],
   "source": [
    "params = {  'b': 2.668461416208648,\n",
    "            'h': 6.035346326485873,\n",
    "            'd': 0.7721222828714854,\n",
    "            'alpha': 0.49158864756189447,\n",
    "            'beta': 0.44375266588967205 }\n",
    "\n",
    "problem = co.accelerated_gradient_circuit(mu, L_smooth, R, Capacitance, Inductance)\n",
    "problem.obj = problem.b + problem.d\n",
    "\n",
    "vars, sol, sp_exp = problem.solve(solver=\"cvx_fix_discr_sdp\", verbose=True, debug=True, params=params)"
   ]
  },
  {
   "cell_type": "code",
   "execution_count": 4,
   "metadata": {},
   "outputs": [
    {
     "data": {
      "text/plain": [
       "(dict_keys(['Z', 'lambdas']), dict_keys(['b', 'h', 'd', 'alpha', 'beta']))"
      ]
     },
     "execution_count": 4,
     "metadata": {},
     "output_type": "execute_result"
    }
   ],
   "source": [
    "vars.keys(), params.keys()"
   ]
  },
  {
   "cell_type": "code",
   "execution_count": 5,
   "metadata": {},
   "outputs": [],
   "source": [
    "def reshape_lamb_2d(lamb):\n",
    "    size = int(np.sqrt(lamb.size)) + 1\n",
    "    res = np.zeros((size, size))\n",
    "    count = 0\n",
    "    for i in range(size):\n",
    "        for j in range(size):\n",
    "            if i == j: continue\n",
    "            res[i, j] = lamb[count]\n",
    "            count += 1\n",
    "    return res\n",
    "\n",
    "\n",
    "def flatten_lamb(lamb):\n",
    "    # remove diagonal entries\n",
    "    res = []\n",
    "    for i in range(lamb.shape[0]):\n",
    "        for j in range(lamb.shape[0]):\n",
    "            if i == j: continue\n",
    "            res += [lamb[i, j]]\n",
    "    return np.array(res).reshape(-1, 1)"
   ]
  },
  {
   "cell_type": "code",
   "execution_count": 6,
   "metadata": {},
   "outputs": [],
   "source": [
    "assert np.allclose(vars[\"lambdas\"], flatten_lamb(reshape_lamb_2d(vars[\"lambdas\"].flatten())))"
   ]
  },
  {
   "cell_type": "code",
   "execution_count": 7,
   "metadata": {},
   "outputs": [],
   "source": [
    "Z = vars[\"Z\"]\n",
    "P = co.cholseky_matrix(Z, eps=1e-9)\n",
    "\n",
    "lamb0 = reshape_lamb_2d(vars[\"lambdas\"].flatten())\n",
    "\n",
    "bounds = {\"P\": {\"ub\": P, \"lb\":P},\n",
    "          \"lamb0\": {\"ub\" : lamb0, \"lb\" : lamb0}}\n",
    "for name, val in params.items():\n",
    "    bounds[name] = {\"ub\": val, \"lb\":val}"
   ]
  },
  {
   "cell_type": "code",
   "execution_count": 8,
   "metadata": {},
   "outputs": [
    {
     "name": "stdout",
     "output_type": "stream",
     "text": [
      "dim_G=6, dim_F=4\n",
      "Set parameter Username\n",
      "Academic license - for non-commercial use only - expires 2024-10-31\n",
      "13\n"
     ]
    }
   ],
   "source": [
    "problem = co.accelerated_gradient_circuit(mu, L_smooth, R, Capacitance, Inductance)\n",
    "problem.obj = problem.b + problem.d\n",
    "\n",
    "gp_vars, model, sp_exp = problem.solve(solver=\"gp\", verbose=False, debug=True, bounds=bounds, ftol=1e-7)\n",
    "print(model.status)"
   ]
  },
  {
   "cell_type": "code",
   "execution_count": 9,
   "metadata": {},
   "outputs": [
    {
     "name": "stdout",
     "output_type": "stream",
     "text": [
      "dim_G=6, dim_F=4\n",
      "set bounds for Z\n",
      "===============================================================================\n",
      "                                     CVXPY                                     \n",
      "                                     v1.4.1                                    \n",
      "===============================================================================\n",
      "(CVXPY) Dec 06 01:56:29 PM: Your problem has 5191 variables, 134 constraints, and 0 parameters.\n",
      "(CVXPY) Dec 06 01:56:29 PM: It is compliant with the following grammars: DCP, DQCP\n",
      "(CVXPY) Dec 06 01:56:29 PM: (If you need to solve this problem multiple times, but with different data, consider using parameters.)\n",
      "(CVXPY) Dec 06 01:56:29 PM: CVXPY will first compile your problem; then, it will invoke a numerical solver to obtain a solution.\n",
      "(CVXPY) Dec 06 01:56:29 PM: Your problem is compiled with the CPP canonicalization backend.\n",
      "-------------------------------------------------------------------------------\n",
      "                                  Compilation                                  \n",
      "-------------------------------------------------------------------------------\n",
      "(CVXPY) Dec 06 01:56:30 PM: Compiling problem (target solver=CLARABEL).\n",
      "(CVXPY) Dec 06 01:56:30 PM: Reduction chain: Dcp2Cone -> CvxAttr2Constr -> ConeMatrixStuffing -> CLARABEL\n",
      "(CVXPY) Dec 06 01:56:30 PM: Applying reduction Dcp2Cone\n",
      "(CVXPY) Dec 06 01:56:30 PM: Applying reduction CvxAttr2Constr\n",
      "(CVXPY) Dec 06 01:56:30 PM: Applying reduction ConeMatrixStuffing\n",
      "(CVXPY) Dec 06 01:56:30 PM: Applying reduction CLARABEL\n",
      "(CVXPY) Dec 06 01:56:30 PM: Finished problem compilation (took 1.465e-01 seconds).\n",
      "-------------------------------------------------------------------------------\n",
      "                                Numerical solver                               \n",
      "-------------------------------------------------------------------------------\n",
      "(CVXPY) Dec 06 01:56:30 PM: Invoking solver CLARABEL  to obtain a solution.\n",
      "-------------------------------------------------------------\n",
      "           Clarabel.rs v0.6.0  -  Clever Acronym              \n",
      "\n",
      "                   (c) Paul Goulart                          \n",
      "                University of Oxford, 2022                   \n",
      "-------------------------------------------------------------\n",
      "\n",
      "problem:\n",
      "  variables     = 2811\n",
      "  constraints   = 16137\n",
      "  nnz(P)        = 0\n",
      "  nnz(A)        = 39539\n",
      "  cones (total) = 125\n",
      "    :        Zero = 1,  numel = 2707\n",
      "    : Nonnegative = 1,  numel = 10448\n",
      "    : SecondOrder = 120,  numel = (3,3,3,3,...,3)\n",
      "    : PSDTriangle = 3,  numel = (1326,1275,21)\n",
      "\n",
      "settings:\n",
      "  linear algebra: direct / qdldl, precision: 64 bit\n",
      "  max iter = 200, time limit = Inf,  max step = 0.990\n",
      "  tol_feas = 1.0e-8, tol_gap_abs = 1.0e-8, tol_gap_rel = 1.0e-8,\n",
      "  static reg : on, ϵ1 = 1.0e-8, ϵ2 = 4.9e-32\n",
      "  dynamic reg: on, ϵ = 1.0e-13, δ = 2.0e-7\n",
      "  iter refine: on, reltol = 1.0e-13, abstol = 1.0e-12,\n",
      "               max iter = 10, stop ratio = 5.0\n",
      "  equilibrate: on, min_scale = 1.0e-4, max_scale = 1.0e4\n",
      "               max iter = 10\n",
      "\n",
      "iter    pcost        dcost       gap       pres      dres      k/t        μ       step      \n",
      "---------------------------------------------------------------------------------------------\n",
      "  0  -1.0716e-01  -4.7220e+00  4.61e+00  9.72e-01  1.33e+01  1.00e+00  2.12e+00   ------   \n",
      "  1  -2.1852e+00  -3.5388e+00  6.19e-01  4.55e-01  9.74e+00  5.45e-01  1.07e+00  5.89e-01  \n",
      "  2  -2.6443e+00  -4.0324e+00  5.25e-01  4.38e-01  8.94e+00  6.98e-01  1.03e+00  1.67e-01  \n",
      "  3  -4.0345e+00  -4.4073e+00  9.24e-02  1.60e-01  3.83e+00  3.81e-01  4.01e-01  6.81e-01  \n",
      "  4  -5.1858e+00  -5.2649e+00  1.53e-02  4.23e-02  1.27e+00  1.67e-01  1.10e-01  8.02e-01  \n",
      "  5  -7.0242e+00  -7.0644e+00  5.73e-03  2.43e-02  7.70e-01  1.54e-01  6.34e-02  5.22e-01  \n",
      "  6  -6.9978e+00  -7.0710e+00  1.05e-02  1.92e-02  5.91e-01  6.76e-02  5.04e-02  5.56e-01  \n",
      "  7  -1.0309e+01  -1.0358e+01  4.73e-03  1.10e-02  3.57e-01  9.60e-02  2.91e-02  7.01e-01  \n",
      "  8  -1.1400e+01  -1.1443e+01  3.79e-03  8.65e-03  2.78e-01  7.78e-02  2.29e-02  4.35e-01  \n",
      "  9  -1.6301e+01  -1.6301e+01  3.31e-05  3.94e-03  1.29e-01  9.08e-02  1.05e-02  6.53e-01  \n",
      " 10  -1.5555e+01  -1.5558e+01  2.02e-04  3.69e-03  1.20e-01  8.04e-02  9.79e-03  1.88e-01  \n",
      " 11  -2.3370e+01  -2.3328e+01  1.83e-03  1.16e-03  3.85e-02  9.18e-02  3.08e-03  8.12e-01  \n",
      " 12  -2.6196e+01  -2.6142e+01  2.06e-03  8.34e-04  2.79e-02  9.84e-02  2.22e-03  4.95e-01  \n",
      " 13  -4.0489e+01  -4.0378e+01  2.76e-03  2.47e-04  8.34e-03  1.40e-01  6.56e-04  8.34e-01  \n",
      " 14  -5.9644e+01  -5.9472e+01  2.90e-03  7.95e-05  2.70e-03  1.91e-01  2.12e-04  8.71e-01  \n",
      " 15  -8.4931e+01  -8.4671e+01  3.07e-03  3.08e-05  1.05e-03  2.74e-01  8.22e-05  8.34e-01  \n",
      " 16  -1.2467e+02  -1.2434e+02  2.67e-03  8.14e-06  2.78e-04  3.39e-01  2.17e-05  8.81e-01  \n",
      " 17  -1.6487e+02  -1.6403e+02  5.13e-03  5.72e-06  1.96e-04  8.53e-01  1.53e-05  5.73e-01  \n",
      " 18  -1.8737e+02  -1.8689e+02  2.55e-03  2.79e-06  9.50e-05  4.83e-01  7.45e-06  8.52e-01  \n",
      " 19  -2.2314e+02  -2.2253e+02  2.73e-03  1.64e-06  5.56e-05  6.13e-01  4.38e-06  5.39e-01  \n",
      " 20  -3.3727e+02  -3.3645e+02  2.43e-03  3.83e-07  1.29e-05  8.20e-01  1.02e-06  8.15e-01  \n",
      " 21  -4.9146e+02  -4.8896e+02  5.10e-03  2.35e-07  8.05e-06  2.50e+00  6.29e-07  6.52e-01  \n",
      " 22  -5.5278e+02  -5.5135e+02  2.59e-03  1.08e-07  3.71e-06  1.43e+00  2.90e-07  8.03e-01  \n",
      " 23  -7.9662e+02  -7.9433e+02  2.88e-03  3.94e-08  1.35e-06  2.29e+00  1.05e-07  8.41e-01  \n",
      " 24  -8.6942e+02  -8.6729e+02  2.45e-03  2.65e-08  9.06e-07  2.12e+00  7.08e-08  4.29e-01  \n",
      " 25  -1.2748e+03  -1.2714e+03  2.64e-03  8.66e-09  2.98e-07  3.35e+00  2.32e-08  8.51e-01  \n",
      " 26  -1.5775e+03  -1.5740e+03  2.18e-03  3.87e-09  1.33e-07  3.44e+00  1.04e-08  6.86e-01  \n",
      " 27  -2.2983e+03  -2.2906e+03  3.38e-03  1.83e-09  6.31e-08  7.75e+00  4.90e-09  7.33e-01  \n",
      " 28  -2.4587e+03  -2.4523e+03  2.63e-03  1.30e-09  4.50e-08  6.45e+00  3.49e-09  4.65e-01  \n",
      " 29  -3.4003e+03  -3.3915e+03  2.58e-03  4.80e-10  1.66e-08  8.75e+00  1.28e-09  8.05e-01  \n",
      " 30  -4.0160e+03  -4.0068e+03  2.29e-03  2.49e-10  8.59e-09  9.17e+00  6.66e-10  6.19e-01  \n",
      " 31  -5.2170e+03  -5.1990e+03  3.47e-03  1.53e-10  5.29e-09  1.80e+01  4.09e-10  5.80e-01  \n",
      " 32  -6.1888e+03  -6.1727e+03  2.61e-03  7.01e-11  2.42e-09  1.61e+01  1.87e-10  6.89e-01  \n",
      " 33  -8.9975e+03  -8.9683e+03  3.26e-03  2.86e-11  9.85e-10  2.92e+01  7.60e-11  7.31e-01  \n",
      " 34  -9.2468e+03  -9.2216e+03  2.73e-03  2.38e-11  8.22e-10  2.52e+01  6.35e-11  3.19e-01  \n",
      " 35  -1.0937e+04  -1.0909e+04  2.53e-03  1.36e-11  4.70e-10  2.76e+01  3.63e-11  5.39e-01  \n",
      " 36  -1.0937e+04  -1.0909e+04  2.53e-03  1.36e-11  4.70e-10  2.76e+01  3.63e-11  0.00e+00  \n",
      "---------------------------------------------------------------------------------------------\n",
      "Terminated with status = NumericalError\n",
      "solve time = 44.842793836s\n"
     ]
    },
    {
     "ename": "SolverError",
     "evalue": "Solver 'CLARABEL' failed. Try another solver, or solve with verbose=True for more information.",
     "output_type": "error",
     "traceback": [
      "\u001b[0;31m---------------------------------------------------------------------------\u001b[0m",
      "\u001b[0;31mSolverError\u001b[0m                               Traceback (most recent call last)",
      "\u001b[1;32m/Users/parshakova.tanya/Documents/projects/Circuits/optimization_via_circuits/dev/test_sdp_fixed_discretization.ipynb Cell 9\u001b[0m line \u001b[0;36m<cell line: 9>\u001b[0;34m()\u001b[0m\n\u001b[1;32m      <a href='vscode-notebook-cell:/Users/parshakova.tanya/Documents/projects/Circuits/optimization_via_circuits/dev/test_sdp_fixed_discretization.ipynb#X30sZmlsZQ%3D%3D?line=5'>6</a>\u001b[0m problem\u001b[39m.\u001b[39mobj \u001b[39m=\u001b[39m problem\u001b[39m.\u001b[39mb \u001b[39m+\u001b[39m problem\u001b[39m.\u001b[39md\n\u001b[1;32m      <a href='vscode-notebook-cell:/Users/parshakova.tanya/Documents/projects/Circuits/optimization_via_circuits/dev/test_sdp_fixed_discretization.ipynb#X30sZmlsZQ%3D%3D?line=7'>8</a>\u001b[0m cvx_solver \u001b[39m=\u001b[39m [cp\u001b[39m.\u001b[39mCLARABEL, cp\u001b[39m.\u001b[39mMOSEK, \u001b[39m'\u001b[39m\u001b[39mCVXOPT\u001b[39m\u001b[39m'\u001b[39m][\u001b[39m0\u001b[39m]\n\u001b[0;32m----> <a href='vscode-notebook-cell:/Users/parshakova.tanya/Documents/projects/Circuits/optimization_via_circuits/dev/test_sdp_fixed_discretization.ipynb#X30sZmlsZQ%3D%3D?line=8'>9</a>\u001b[0m bounds, sol, sp_exp \u001b[39m=\u001b[39m problem\u001b[39m.\u001b[39;49msolve(solver\u001b[39m=\u001b[39;49m\u001b[39m\"\u001b[39;49m\u001b[39mcvx_sdp_relax\u001b[39;49m\u001b[39m\"\u001b[39;49m, cvx_solver\u001b[39m=\u001b[39;49mcvx_solver, verbose\u001b[39m=\u001b[39;49m\u001b[39mTrue\u001b[39;49;00m, debug\u001b[39m=\u001b[39;49m\u001b[39mTrue\u001b[39;49;00m, bounds\u001b[39m=\u001b[39;49mbounds)\n\u001b[1;32m     <a href='vscode-notebook-cell:/Users/parshakova.tanya/Documents/projects/Circuits/optimization_via_circuits/dev/test_sdp_fixed_discretization.ipynb#X30sZmlsZQ%3D%3D?line=9'>10</a>\u001b[0m bounds\n",
      "File \u001b[0;32m~/Documents/projects/Circuits/optimization_via_circuits/ciropt/circuit_opt.py:905\u001b[0m, in \u001b[0;36mCircuitOpt.solve\u001b[0;34m(self, solver, **kwargs)\u001b[0m\n\u001b[1;32m    903\u001b[0m     \u001b[39mreturn\u001b[39;00m \u001b[39mself\u001b[39m\u001b[39m.\u001b[39msolve_gp_canonical_X(\u001b[39m*\u001b[39m\u001b[39m*\u001b[39mkwargs)\n\u001b[1;32m    904\u001b[0m \u001b[39melif\u001b[39;00m solver \u001b[39m==\u001b[39m \u001b[39m\"\u001b[39m\u001b[39mcvx_sdp_relax\u001b[39m\u001b[39m\"\u001b[39m:\n\u001b[0;32m--> 905\u001b[0m     \u001b[39mreturn\u001b[39;00m \u001b[39mself\u001b[39;49m\u001b[39m.\u001b[39;49msolve_cvx_canonical_sdp_relax(\u001b[39m*\u001b[39;49m\u001b[39m*\u001b[39;49mkwargs)\n\u001b[1;32m    906\u001b[0m \u001b[39melif\u001b[39;00m solver \u001b[39m==\u001b[39m \u001b[39m\"\u001b[39m\u001b[39mca\u001b[39m\u001b[39m\"\u001b[39m:\n\u001b[1;32m    907\u001b[0m     \u001b[39mreturn\u001b[39;00m \u001b[39mself\u001b[39m\u001b[39m.\u001b[39msolve_ca(\u001b[39m*\u001b[39m\u001b[39m*\u001b[39mkwargs)\n",
      "File \u001b[0;32m~/Documents/projects/Circuits/optimization_via_circuits/ciropt/circuit_opt.py:836\u001b[0m, in \u001b[0;36mCircuitOpt.solve_cvx_canonical_sdp_relax\u001b[0;34m(self, verbose, debug, bounds, cvx_solver, **kwargs)\u001b[0m\n\u001b[1;32m    834\u001b[0m prob \u001b[39m=\u001b[39m cp\u001b[39m.\u001b[39mProblem(cp\u001b[39m.\u001b[39mMinimize(obj), constraints)\n\u001b[1;32m    835\u001b[0m \u001b[39m# 'SCS', 'CVXOPT','SDPA', cp.CLARABEL, cp.MOSEK\u001b[39;00m\n\u001b[0;32m--> 836\u001b[0m prob\u001b[39m.\u001b[39;49msolve(solver\u001b[39m=\u001b[39;49mcvx_solver, verbose\u001b[39m=\u001b[39;49mverbose)\n\u001b[1;32m    837\u001b[0m \u001b[39mprint\u001b[39m(\u001b[39mf\u001b[39m\u001b[39m\"\u001b[39m\u001b[39m{\u001b[39;00mprob\u001b[39m.\u001b[39mstatus\u001b[39m=}\u001b[39;00m\u001b[39m\"\u001b[39m)\n\u001b[1;32m    838\u001b[0m \u001b[39mself\u001b[39m\u001b[39m.\u001b[39mprob \u001b[39m=\u001b[39m prob\n",
      "File \u001b[0;32m~/opt/anaconda3/envs/circuits/lib/python3.10/site-packages/cvxpy/problems/problem.py:503\u001b[0m, in \u001b[0;36mProblem.solve\u001b[0;34m(self, *args, **kwargs)\u001b[0m\n\u001b[1;32m    501\u001b[0m \u001b[39melse\u001b[39;00m:\n\u001b[1;32m    502\u001b[0m     solve_func \u001b[39m=\u001b[39m Problem\u001b[39m.\u001b[39m_solve\n\u001b[0;32m--> 503\u001b[0m \u001b[39mreturn\u001b[39;00m solve_func(\u001b[39mself\u001b[39;49m, \u001b[39m*\u001b[39;49margs, \u001b[39m*\u001b[39;49m\u001b[39m*\u001b[39;49mkwargs)\n",
      "File \u001b[0;32m~/opt/anaconda3/envs/circuits/lib/python3.10/site-packages/cvxpy/problems/problem.py:1086\u001b[0m, in \u001b[0;36mProblem._solve\u001b[0;34m(self, solver, warm_start, verbose, gp, qcp, requires_grad, enforce_dpp, ignore_dpp, canon_backend, **kwargs)\u001b[0m\n\u001b[1;32m   1084\u001b[0m end \u001b[39m=\u001b[39m time\u001b[39m.\u001b[39mtime()\n\u001b[1;32m   1085\u001b[0m \u001b[39mself\u001b[39m\u001b[39m.\u001b[39m_solve_time \u001b[39m=\u001b[39m end \u001b[39m-\u001b[39m start\n\u001b[0;32m-> 1086\u001b[0m \u001b[39mself\u001b[39;49m\u001b[39m.\u001b[39;49munpack_results(solution, solving_chain, inverse_data)\n\u001b[1;32m   1087\u001b[0m \u001b[39mif\u001b[39;00m verbose:\n\u001b[1;32m   1088\u001b[0m     \u001b[39mprint\u001b[39m(_FOOTER)\n",
      "File \u001b[0;32m~/opt/anaconda3/envs/circuits/lib/python3.10/site-packages/cvxpy/problems/problem.py:1411\u001b[0m, in \u001b[0;36mProblem.unpack_results\u001b[0;34m(self, solution, chain, inverse_data)\u001b[0m\n\u001b[1;32m   1409\u001b[0m     warnings\u001b[39m.\u001b[39mwarn(INF_OR_UNB_MESSAGE)\n\u001b[1;32m   1410\u001b[0m \u001b[39mif\u001b[39;00m solution\u001b[39m.\u001b[39mstatus \u001b[39min\u001b[39;00m s\u001b[39m.\u001b[39mERROR:\n\u001b[0;32m-> 1411\u001b[0m     \u001b[39mraise\u001b[39;00m error\u001b[39m.\u001b[39mSolverError(\n\u001b[1;32m   1412\u001b[0m             \u001b[39m\"\u001b[39m\u001b[39mSolver \u001b[39m\u001b[39m'\u001b[39m\u001b[39m%s\u001b[39;00m\u001b[39m'\u001b[39m\u001b[39m failed. \u001b[39m\u001b[39m\"\u001b[39m \u001b[39m%\u001b[39m chain\u001b[39m.\u001b[39msolver\u001b[39m.\u001b[39mname() \u001b[39m+\u001b[39m\n\u001b[1;32m   1413\u001b[0m             \u001b[39m\"\u001b[39m\u001b[39mTry another solver, or solve with verbose=True for more \u001b[39m\u001b[39m\"\u001b[39m\n\u001b[1;32m   1414\u001b[0m             \u001b[39m\"\u001b[39m\u001b[39minformation.\u001b[39m\u001b[39m\"\u001b[39m)\n\u001b[1;32m   1416\u001b[0m \u001b[39mself\u001b[39m\u001b[39m.\u001b[39munpack(solution)\n\u001b[1;32m   1417\u001b[0m \u001b[39mself\u001b[39m\u001b[39m.\u001b[39m_solver_stats \u001b[39m=\u001b[39m SolverStats\u001b[39m.\u001b[39mfrom_dict(\u001b[39mself\u001b[39m\u001b[39m.\u001b[39m_solution\u001b[39m.\u001b[39mattr,\n\u001b[1;32m   1418\u001b[0m                                  chain\u001b[39m.\u001b[39msolver\u001b[39m.\u001b[39mname())\n",
      "\u001b[0;31mSolverError\u001b[0m: Solver 'CLARABEL' failed. Try another solver, or solve with verbose=True for more information."
     ]
    }
   ],
   "source": [
    "bounds = {  \"Z\": {\"ub\": Z, \"lb\" : Z},\n",
    "            # \"lamb\": {\"ub\" : vars[\"lambdas\"], \"lb\" : vars[\"lambdas\"]}\n",
    "          }\n",
    "\n",
    "problem = co.accelerated_gradient_circuit(mu, L_smooth, R, Capacitance, Inductance)\n",
    "problem.obj = problem.b + problem.d\n",
    "\n",
    "cvx_solver = [cp.CLARABEL, cp.MOSEK, 'CVXOPT'][0]\n",
    "bounds, sol, sp_exp = problem.solve(solver=\"cvx_sdp_relax\", cvx_solver=cvx_solver, verbose=True, debug=True, bounds=bounds)\n",
    "bounds"
   ]
  },
  {
   "cell_type": "code",
   "execution_count": null,
   "metadata": {},
   "outputs": [],
   "source": [
    "# fixed Z\n",
    "# {'Z': 1.3976658160664561,\n",
    "#  'alpha': 836.5515168748786,\n",
    "#  'beta': 836.5584902659812,\n",
    "#  'lamb': 104.48776609702135,\n",
    "#  'P': 1.1822291723969833}"
   ]
  },
  {
   "cell_type": "code",
   "execution_count": null,
   "metadata": {},
   "outputs": [],
   "source": [
    "assert 1 == 0"
   ]
  },
  {
   "cell_type": "code",
   "execution_count": null,
   "metadata": {},
   "outputs": [],
   "source": [
    "L_smooth = 1.\n",
    "mu = 0.001\n",
    "Inductance = 5.\n",
    "R = 1.\n",
    "\n",
    "num_fi = 3\n",
    "problem = co.admm_consensus(num_fi, mu, L_smooth, R, Inductance)"
   ]
  },
  {
   "cell_type": "code",
   "execution_count": null,
   "metadata": {},
   "outputs": [],
   "source": [
    "bounds = {  'b': {\"ub\": 0.000001, \"lb\": 0.000001},\n",
    "            'h': {\"ub\": 0.000001, \"lb\": 0.000001}}\n",
    "\n",
    "vars, sol, sp_exp = problem.solve(solver=\"ca\", verbose=True, debug=True, bounds=bounds)"
   ]
  },
  {
   "cell_type": "code",
   "execution_count": null,
   "metadata": {},
   "outputs": [],
   "source": [
    "params = {'b': -6.586851988799446e-12,\n",
    " 'h': 2.0050490196829352e-11,\n",
    " 'd': 0,\n",
    " 'alpha': 0.00021484442616463077,\n",
    " 'beta': 0.18371375512916682}\n",
    "\n",
    "\n",
    "params = {  'b': 0.000001,\n",
    "            'h': 0.000001,\n",
    "            'd': 0.,\n",
    "            'alpha': 0.5,\n",
    "            'beta': 0.5}\n",
    "\n",
    "bounds = {  'b': {\"ub\": 0.000001, \"lb\": 0.000001},\n",
    "            'h': {\"ub\": 0.000001, \"lb\": 0.000001}}"
   ]
  },
  {
   "cell_type": "code",
   "execution_count": null,
   "metadata": {},
   "outputs": [],
   "source": [
    "# vars, prob, sp_exp = problem.solve(solver=solver, verbose=True, debug=True)\n",
    "vars, prob, sp_exp = problem.solve(solver=solver, verbose=False, debug=True, params=params)\n",
    "print(prob.status)"
   ]
  },
  {
   "cell_type": "code",
   "execution_count": null,
   "metadata": {},
   "outputs": [],
   "source": [
    "init_vals = {}\n",
    "Fi_size = vars[\"lambda\"].size // num_fi\n",
    "size_I = int(np.ceil(np.sqrt(Fi_size)))\n",
    "for f_idx in range(num_fi):\n",
    "    lamb_i = np.zeros((size_I, size_I))\n",
    "    vec = np.maximum(vars[\"lambda\"][f_idx * Fi_size : (f_idx+1) * Fi_size], 0)\n",
    "    count  = 0\n",
    "    for i in range(size_I):\n",
    "        for j in range(size_I):\n",
    "            if i == j: continue\n",
    "            lamb_i[i, j] = vec[count]\n",
    "            count += 1\n",
    "    assert count == size_I * (size_I - 1)\n",
    "    init_vals[\"lamb%d\"%f_idx] = lamb_i\n",
    "\n",
    "Z = vars[\"Z\"]\n",
    "Lamb, V = np.linalg.eigh(Z)\n",
    "assert np.allclose(V @ np.diag(Lamb) @ V.T, Z)\n",
    "Z_plus = V @ np.diag(np.maximum(Lamb, 0)) @ V.T\n",
    "P = np.linalg.cholesky(Z_plus)\n",
    "\n",
    "init_vals[\"P_full\"] = P"
   ]
  },
  {
   "cell_type": "code",
   "execution_count": null,
   "metadata": {},
   "outputs": [],
   "source": [
    "# problem = co.accelerated_gradient_circuit(mu, L_smooth, R, Capacitance, Inductance)"
   ]
  },
  {
   "cell_type": "code",
   "execution_count": null,
   "metadata": {},
   "outputs": [],
   "source": [
    "problem = co.admm_consensus(num_fi, mu, L_smooth, R, Inductance)"
   ]
  },
  {
   "cell_type": "code",
   "execution_count": null,
   "metadata": {},
   "outputs": [],
   "source": []
  },
  {
   "cell_type": "code",
   "execution_count": null,
   "metadata": {},
   "outputs": [],
   "source": [
    "vars, sol, sp_exp = problem.solve(solver=\"casadi_short\", verbose=True, debug=True, bounds=bounds)#init_vals=init_vals)"
   ]
  },
  {
   "cell_type": "code",
   "execution_count": null,
   "metadata": {},
   "outputs": [],
   "source": [
    "print(problem.opti.stats()[\"iter_count\"])"
   ]
  },
  {
   "cell_type": "code",
   "execution_count": null,
   "metadata": {},
   "outputs": [],
   "source": [
    "vars"
   ]
  },
  {
   "cell_type": "code",
   "execution_count": null,
   "metadata": {},
   "outputs": [],
   "source": []
  }
 ],
 "metadata": {
  "kernelspec": {
   "display_name": "circuits",
   "language": "python",
   "name": "python3"
  },
  "language_info": {
   "codemirror_mode": {
    "name": "ipython",
    "version": 3
   },
   "file_extension": ".py",
   "mimetype": "text/x-python",
   "name": "python",
   "nbconvert_exporter": "python",
   "pygments_lexer": "ipython3",
   "version": "3.10.13"
  }
 },
 "nbformat": 4,
 "nbformat_minor": 2
}
