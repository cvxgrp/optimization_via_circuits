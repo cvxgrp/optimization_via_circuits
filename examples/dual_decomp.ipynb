{
 "cells": [
  {
   "cell_type": "code",
   "execution_count": 1,
   "metadata": {},
   "outputs": [],
   "source": [
    "import ciropt as co\n",
    "import cvxpy as cp\n",
    "\n",
    "import numpy as np"
   ]
  },
  {
   "cell_type": "code",
   "execution_count": 2,
   "metadata": {},
   "outputs": [],
   "source": [
    "L_smooth = 1\n",
    "mu = 0.0001\n",
    "n_func = 2\n",
    "\n",
    "Inductance = 1\n",
    "\n",
    "# solver = \"ipopt\"\n",
    "solver = \"ipopt_qcqp\"\n",
    "# solver = \"ipopt_qcqp_matrix\"\n",
    "# solver = \"qcqp_sni\"\n",
    "# solver = \"bisection_b\""
   ]
  },
  {
   "cell_type": "markdown",
   "metadata": {},
   "source": [
    "# Ciropt problem"
   ]
  },
  {
   "cell_type": "code",
   "execution_count": 3,
   "metadata": {},
   "outputs": [
    {
     "name": "stdout",
     "output_type": "stream",
     "text": [
      "dim_G=7, dim_F=6\n",
      "Ipopt total # of variables = 207\n",
      "Actual # of variables = 57\n"
     ]
    }
   ],
   "source": [
    "problem = co.dual_decomposition(n_func, mu, L_smooth, Inductance)\n",
    "problem.obj = problem.b\n",
    "\n",
    "res, sol = problem.solve(solver=solver, verbose=False)[:2]"
   ]
  },
  {
   "cell_type": "code",
   "execution_count": 4,
   "metadata": {},
   "outputs": [
    {
     "data": {
      "text/plain": [
       "{'b': 0.0005046943279531927,\n",
       " 'h': 0.0005046968392066972,\n",
       " 'd': 0.360849151193575,\n",
       " 'alpha': -7.166524005895513e-11,\n",
       " 'beta': 1.0046626927240683,\n",
       " 'gamma': 0.360849151193575}"
      ]
     },
     "execution_count": 4,
     "metadata": {},
     "output_type": "execute_result"
    }
   ],
   "source": [
    "res"
   ]
  }
 ],
 "metadata": {
  "kernelspec": {
   "display_name": "osbdo",
   "language": "python",
   "name": "python3"
  },
  "language_info": {
   "codemirror_mode": {
    "name": "ipython",
    "version": 3
   },
   "file_extension": ".py",
   "mimetype": "text/x-python",
   "name": "python",
   "nbconvert_exporter": "python",
   "pygments_lexer": "ipython3",
   "version": "3.10.13"
  }
 },
 "nbformat": 4,
 "nbformat_minor": 2
}
