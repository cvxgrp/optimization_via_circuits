{
 "cells": [
  {
   "cell_type": "code",
   "execution_count": 2,
   "metadata": {},
   "outputs": [],
   "source": [
    "import ciropt as co\n",
    "import cvxpy as cp"
   ]
  },
  {
   "cell_type": "code",
   "execution_count": 3,
   "metadata": {},
   "outputs": [],
   "source": [
    "import numpy as np"
   ]
  },
  {
   "cell_type": "code",
   "execution_count": 4,
   "metadata": {},
   "outputs": [],
   "source": [
    "R = 2\n",
    "L_smooth = 0.1 #np.inf\n",
    "# L_smooth = 3 #np.inf\n",
    "mu = 0.\n",
    "\n",
    "\n",
    "Inductance = 4\n",
    "Capacitance = 4 # 5\n",
    "\n",
    "solver = \"ipopt\"\n",
    "# solver = \"ipopt_qcqp\"\n",
    "# solver = \"ipopt_qcqp_matrix\""
   ]
  },
  {
   "cell_type": "markdown",
   "metadata": {},
   "source": [
    "# Ciropt problem"
   ]
  },
  {
   "cell_type": "code",
   "execution_count": 5,
   "metadata": {},
   "outputs": [
    {
     "name": "stdout",
     "output_type": "stream",
     "text": [
      "mu=0.0, L_smooth=3, R=2, Capacitance=4, Inductance=4, solver='ipopt'\n"
     ]
    }
   ],
   "source": [
    "print(f\"{mu=}, {L_smooth=}, {R=}, {Capacitance=}, {Inductance=}, {solver=}\")"
   ]
  },
  {
   "cell_type": "code",
   "execution_count": 6,
   "metadata": {},
   "outputs": [
    {
     "ename": "AttributeError",
     "evalue": "module 'ciropt' has no attribute 'dadmm_C_graph6'",
     "output_type": "error",
     "traceback": [
      "\u001b[1;31m---------------------------------------------------------------------------\u001b[0m",
      "\u001b[1;31mAttributeError\u001b[0m                            Traceback (most recent call last)",
      "Cell \u001b[1;32mIn[6], line 1\u001b[0m\n\u001b[1;32m----> 1\u001b[0m problem \u001b[38;5;241m=\u001b[39m co\u001b[38;5;241m.\u001b[39mdadmm_C_graph6( mu, L_smooth, R, Capacitance, Inductance)\n\u001b[0;32m      2\u001b[0m problem\u001b[38;5;241m.\u001b[39mobj \u001b[38;5;241m=\u001b[39m problem\u001b[38;5;241m.\u001b[39mb \u001b[38;5;241m+\u001b[39m problem\u001b[38;5;241m.\u001b[39md \n\u001b[0;32m      4\u001b[0m bounds \u001b[38;5;241m=\u001b[39m {  \u001b[38;5;66;03m# 'd': {\"ub\": 100, \"lb\": 1e-4},\u001b[39;00m\n\u001b[0;32m      5\u001b[0m             \u001b[38;5;66;03m# 'b': {\"ub\": 100, \"lb\": 1e-4},\u001b[39;00m\n\u001b[0;32m      6\u001b[0m             \u001b[38;5;66;03m# 'h': {\"ub\": 100, \"lb\": 1e-4},\u001b[39;00m\n\u001b[0;32m      7\u001b[0m             \u001b[38;5;66;03m# 'gamma': {\"ub\": 10, \"lb\": 1e-5}\u001b[39;00m\n\u001b[0;32m      8\u001b[0m             }\n",
      "\u001b[1;31mAttributeError\u001b[0m: module 'ciropt' has no attribute 'dadmm_C_graph6'"
     ]
    }
   ],
   "source": [
    "problem = co.dadmm_C_graph6( mu, L_smooth, R, Capacitance, Inductance)\n",
    "problem.obj = problem.b + problem.d \n",
    "\n",
    "bounds = {  # 'd': {\"ub\": 100, \"lb\": 1e-4},\n",
    "            # 'b': {\"ub\": 100, \"lb\": 1e-4},\n",
    "            # 'h': {\"ub\": 100, \"lb\": 1e-4},\n",
    "            # 'gamma': {\"ub\": 10, \"lb\": 1e-5}\n",
    "            }\n",
    "\n",
    "# res, sol = problem.solve(solver=solver, bounds=bounds, extra_dim=530, verbose=True)[:2]\n",
    "res, sol = problem.solve(solver=solver, extra_dim=530, verbose=False)[:2]\n",
    "\n",
    "ca_vars = problem.vars\n",
    "print(res[\"b\"])"
   ]
  },
  {
   "cell_type": "code",
   "execution_count": 6,
   "metadata": {},
   "outputs": [
    {
     "data": {
      "text/plain": [
       "{'b': 2.7644089027398016,\n",
       " 'h': 2.764408907848405,\n",
       " 'd': 0.07044237664742883,\n",
       " 'gamma': 1.3822044539230276}"
      ]
     },
     "execution_count": 6,
     "metadata": {},
     "output_type": "execute_result"
    }
   ],
   "source": [
    "res"
   ]
  },
  {
   "cell_type": "code",
   "execution_count": 7,
   "metadata": {},
   "outputs": [],
   "source": [
    "# mu=0.0, L_smooth=0.1, R=2, Capacitance=4, Inductance=4, solver='ipopt'\n",
    "# {'b': 2.7644089027398016,\n",
    "#  'h': 2.764408907848405,\n",
    "#  'd': 0.07044237664742883,\n",
    "#  'gamma': 1.3822044539230276}\n",
    "\n",
    "# mu=0.0, L_smooth=0.5, R=50, Capacitance=1, Inductance=10, solver='ipopt_qcqp'\n",
    "# {'b': 0.3978152863640579,\n",
    "#  'h': 0.3978152934397974,\n",
    "#  'd': 0.0003904411732310108,\n",
    "#  'alpha': 0.0,\n",
    "#  'beta': 0.0,\n",
    "#  'gamma': 0.007956305939653716,\n",
    "#  'delta': 0.0}\n",
    "\n",
    "# mu=0.0, L_smooth=0.5, R=18, Capacitance=1, Inductance=5, solver='ipopt_qcqp'\n",
    "# {'b': 0.5425479142544587,\n",
    "#  'h': 0.5425477172429249,\n",
    "#  'd': 0.0018205564359045578,\n",
    "#  'alpha': 0.0,\n",
    "#  'beta': 0.0,\n",
    "#  'gamma': 0.030141488274104795,\n",
    "#  'delta': 0.0}\n",
    "\n",
    "\n",
    "# mu=0.0, L_smooth=0.5, R=18, Capacitance=1, Inductance=10, solver='ipopt_qcqp'\n",
    "# {'b': 1.0541047016940057,\n",
    "#  'h': 1.0541046971920436,\n",
    "#  'd': 0.005040260539486683,\n",
    "#  'alpha': 0.0,\n",
    "#  'beta': 0.0,\n",
    "#  'gamma': 0.05856137206621561,\n",
    "#  'delta': 0.0}"
   ]
  },
  {
   "cell_type": "markdown",
   "metadata": {},
   "source": [
    "# PEP verification"
   ]
  },
  {
   "cell_type": "code",
   "execution_count": 8,
   "metadata": {},
   "outputs": [],
   "source": [
    "# res[\"b\"] = 1.\n",
    "res[\"d\"] = 0"
   ]
  },
  {
   "cell_type": "code",
   "execution_count": 9,
   "metadata": {},
   "outputs": [
    {
     "name": "stdout",
     "output_type": "stream",
     "text": [
      "diff=3.360289667141648e-09\n"
     ]
    }
   ],
   "source": [
    "problem = co.dadmm_C_graph6( mu, L_smooth, R, Capacitance, Inductance, params=res)\n",
    "diff = problem.solve(verbose=0, solver=cp.MOSEK)\n",
    "print(f\"{diff=}\")"
   ]
  }
 ],
 "metadata": {
  "kernelspec": {
   "display_name": "osbdo",
   "language": "python",
   "name": "python3"
  },
  "language_info": {
   "codemirror_mode": {
    "name": "ipython",
    "version": 3
   },
   "file_extension": ".py",
   "mimetype": "text/x-python",
   "name": "python",
   "nbconvert_exporter": "python",
   "pygments_lexer": "ipython3",
   "version": "3.11.5"
  }
 },
 "nbformat": 4,
 "nbformat_minor": 2
}
