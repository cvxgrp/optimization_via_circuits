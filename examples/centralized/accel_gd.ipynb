{
 "cells": [
  {
   "cell_type": "code",
   "execution_count": 1,
   "metadata": {},
   "outputs": [],
   "source": [
    "import ciropt as co\n",
    "import cvxpy as cp"
   ]
  },
  {
   "cell_type": "code",
   "execution_count": 2,
   "metadata": {},
   "outputs": [],
   "source": [
    "L_smooth = 1.\n",
    "mu = 0.1 #0\n",
    "\n",
    "Capacitance = 2.\n",
    "Inductance = 1.\n",
    "R = 1.\n",
    "\n",
    "solver = \"ipopt\"\n",
    "# solver = \"ipopt_qcqp\"\n",
    "# solver = \"ipopt_qcqp_matrix\" "
   ]
  },
  {
   "cell_type": "markdown",
   "metadata": {},
   "source": [
    "# Ciropt problem"
   ]
  },
  {
   "cell_type": "code",
   "execution_count": 3,
   "metadata": {},
   "outputs": [
    {
     "name": "stdout",
     "output_type": "stream",
     "text": [
      "dim_G=6, dim_F=4\n",
      "Ipopt total # of variables = 91\n",
      "Actual # of variables = 44\n"
     ]
    }
   ],
   "source": [
    "problem = co.accelerated_gradient_circuit(mu, L_smooth, R, Capacitance, Inductance)\n",
    "problem.obj = problem.b + problem.d\n",
    "\n",
    "res, model, sp_exp = problem.solve(solver=solver, verbose=False, debug=True)"
   ]
  },
  {
   "cell_type": "code",
   "execution_count": 4,
   "metadata": {},
   "outputs": [
    {
     "data": {
      "text/plain": [
       "{'b': 0.2723527935391417,\n",
       " 'h': 1.11558938563597,\n",
       " 'd': 0.22118752203149536,\n",
       " 'alpha': 1.320855051552182,\n",
       " 'beta': 0.405286377470778}"
      ]
     },
     "execution_count": 4,
     "metadata": {},
     "output_type": "execute_result"
    }
   ],
   "source": [
    "res"
   ]
  },
  {
   "cell_type": "markdown",
   "metadata": {},
   "source": [
    "# PEP verification"
   ]
  },
  {
   "cell_type": "code",
   "execution_count": 5,
   "metadata": {},
   "outputs": [
    {
     "name": "stdout",
     "output_type": "stream",
     "text": [
      "diff=-5.824326384032408e-09\n"
     ]
    }
   ],
   "source": [
    "problem = co.accelerated_gradient_circuit(mu, L_smooth, R, Capacitance, Inductance, params=res)\n",
    "diff = problem.solve(verbose=0, solver=cp.MOSEK)\n",
    "print(f\"{diff=}\")"
   ]
  }
 ],
 "metadata": {
  "kernelspec": {
   "display_name": "osbdo",
   "language": "python",
   "name": "python3"
  },
  "language_info": {
   "codemirror_mode": {
    "name": "ipython",
    "version": 3
   },
   "file_extension": ".py",
   "mimetype": "text/x-python",
   "name": "python",
   "nbconvert_exporter": "python",
   "pygments_lexer": "ipython3",
   "version": "3.10.13"
  }
 },
 "nbformat": 4,
 "nbformat_minor": 2
}
