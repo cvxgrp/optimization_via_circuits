{
 "cells": [
  {
   "cell_type": "code",
   "execution_count": 1,
   "metadata": {},
   "outputs": [],
   "source": [
    "import ciropt as co\n",
    "import cvxpy as cp\n",
    "\n",
    "import PEPit\n",
    "import PEPit.functions as pep_func\n",
    "import ciropt.function as co_func\n",
    "import sympy as sp"
   ]
  },
  {
   "cell_type": "code",
   "execution_count": 2,
   "metadata": {},
   "outputs": [],
   "source": [
    "L_smooth = 1.\n",
    "mu = 0 #0.1\n",
    "Capacitance = 1.\n",
    "\n",
    "\n",
    "solver = \"ipopt\"\n",
    "# solver = \"ipopt_qcqp\"\n",
    "# solver = \"ipopt_qcqp_matrix\""
   ]
  },
  {
   "cell_type": "markdown",
   "metadata": {},
   "source": [
    "# Ciropt problem"
   ]
  },
  {
   "cell_type": "code",
   "execution_count": 3,
   "metadata": {},
   "outputs": [],
   "source": [
    "def gradient_flow_circuit(mu, L_smooth, params=None): \n",
    "    if params is not None:\n",
    "        # verification mode: PEP\n",
    "        problem = PEPit.PEP()\n",
    "        package = pep_func\n",
    "        h, alpha, beta, eta, C, invC = params[\"h\"], params[\"alpha\"], params[\"beta\"], params[\"eta\"], params[\"C\"], params[\"invC\"]\n",
    "    else:\n",
    "        # Ciropt mode\n",
    "        problem = co.CircuitOpt()\n",
    "        package = co_func\n",
    "        C = sp.symbols('C')\n",
    "        invC = sp.symbols(\"invC\")\n",
    "        problem.discretization_params = sorted(problem.discretization_params + [\"C\", \"invC\"])\n",
    "        h, alpha, beta, eta = problem.h, problem.alpha, problem.beta, problem.eta\n",
    "    func = co.define_function(problem, mu, L_smooth, package )\n",
    "    x_star, y_star, f_star = func.stationary_point(return_gradient_and_function_value=True)\n",
    "\n",
    "    x_1 = problem.set_initial_point()\n",
    "    y_1, f_1 = func.oracle(x_1)\n",
    "\n",
    "    x_1p5 = x_1 - (alpha * h * invC) * y_1 \n",
    "    y_1p5, f_1p5 = func.oracle(x_1p5)\n",
    "\n",
    "    x_2 = x_1  - (beta * h * invC) * y_1 - ((1 - beta) * h * invC) * y_1p5\n",
    "    y_2, f_2 = func.oracle(x_2)\n",
    "\n",
    "    E_1 = (C/2) * (x_1 - x_star)**2\n",
    "    E_2 = (C/2) * (x_2 - x_star)**2\n",
    "    Delta_1 = eta * (f_1 - f_star)\n",
    "    problem.set_performance_metric(E_2 - (E_1 - Delta_1))\n",
    "    return problem"
   ]
  },
  {
   "cell_type": "code",
   "execution_count": 4,
   "metadata": {},
   "outputs": [
    {
     "name": "stdout",
     "output_type": "stream",
     "text": [
      "dim_G=5, dim_F=4\n",
      "Ipopt total # of variables = 71\n",
      "Actual # of variables = 40\n"
     ]
    }
   ],
   "source": [
    "problem = gradient_flow_circuit(mu, L_smooth)\n",
    "problem.obj = problem.eta\n",
    "\n",
    "bounds = {\"C\":{\"ub\": 10, \"lb\":1e-3}}\n",
    "\n",
    "res, model = problem.solve(solver=solver, bounds=bounds, verbose=False)[:2]"
   ]
  },
  {
   "cell_type": "code",
   "execution_count": 5,
   "metadata": {},
   "outputs": [
    {
     "data": {
      "text/plain": [
       "{'C': 10.00000009909091,\n",
       " 'alpha': 1.1399172342650544e-05,\n",
       " 'beta': 0.02629254510698183,\n",
       " 'eta': 10.000000094750202,\n",
       " 'h': 10.000226267838396,\n",
       " 'invC': 0.09999999900909094,\n",
       " 'rho': 20.284120306168266}"
      ]
     },
     "execution_count": 5,
     "metadata": {},
     "output_type": "execute_result"
    }
   ],
   "source": [
    "res"
   ]
  },
  {
   "cell_type": "markdown",
   "metadata": {},
   "source": [
    "# PEP verification"
   ]
  },
  {
   "cell_type": "code",
   "execution_count": 6,
   "metadata": {},
   "outputs": [
    {
     "name": "stdout",
     "output_type": "stream",
     "text": [
      "diff=2.7442957971546286e-09\n"
     ]
    }
   ],
   "source": [
    "problem = gradient_flow_circuit(mu, L_smooth, params=res)\n",
    "diff = problem.solve(verbose=0, solver=cp.MOSEK)\n",
    "print(f\"{diff=}\")"
   ]
  },
  {
   "cell_type": "code",
   "execution_count": null,
   "metadata": {},
   "outputs": [],
   "source": []
  }
 ],
 "metadata": {
  "kernelspec": {
   "display_name": "osbdo",
   "language": "python",
   "name": "python3"
  },
  "language_info": {
   "codemirror_mode": {
    "name": "ipython",
    "version": 3
   },
   "file_extension": ".py",
   "mimetype": "text/x-python",
   "name": "python",
   "nbconvert_exporter": "python",
   "pygments_lexer": "ipython3",
   "version": "3.10.13"
  }
 },
 "nbformat": 4,
 "nbformat_minor": 2
}
