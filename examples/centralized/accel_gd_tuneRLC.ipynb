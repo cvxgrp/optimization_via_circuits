{
 "cells": [
  {
   "cell_type": "code",
   "execution_count": 1,
   "metadata": {},
   "outputs": [],
   "source": [
    "import ciropt as co\n",
    "import cvxpy as cp\n",
    "\n",
    "import PEPit\n",
    "import PEPit.functions as pep_func\n",
    "import ciropt.function as co_func\n",
    "import sympy as sp"
   ]
  },
  {
   "cell_type": "code",
   "execution_count": 2,
   "metadata": {},
   "outputs": [],
   "source": [
    "L_smooth = 1.\n",
    "mu = 0.1 #0\n",
    "\n",
    "solver = \"ipopt\"\n",
    "# solver = \"ipopt_qcqp\"\n",
    "# solver = \"ipopt_qcqp_matrix\" "
   ]
  },
  {
   "cell_type": "markdown",
   "metadata": {},
   "source": [
    "# Ciropt problem"
   ]
  },
  {
   "cell_type": "code",
   "execution_count": 3,
   "metadata": {},
   "outputs": [
    {
     "name": "stdout",
     "output_type": "stream",
     "text": [
      "dim_G=6, dim_F=4\n",
      "Ipopt total # of variables = 374\n",
      "Actual # of variables = 49\n"
     ]
    }
   ],
   "source": [
    "problem = co.accelerated_gradient_circuit_tuneRLC(mu, L_smooth)\n",
    "problem.obj = problem.eta + problem.rho\n",
    "\n",
    "bounds = {\"C\":{\"ub\": 10, \"lb\":0.5},\n",
    "          \"R\":{\"ub\": 10, \"lb\":0.5},\n",
    "          \"L\":{\"ub\": 10, \"lb\":0.5}}\n",
    "\n",
    "res, model, sp_exp = problem.solve(solver=solver, bounds=bounds, verbose=False, debug=True)"
   ]
  },
  {
   "cell_type": "code",
   "execution_count": 4,
   "metadata": {},
   "outputs": [
    {
     "data": {
      "text/plain": [
       "{'C': 10.000000098593643,\n",
       " 'L': 10.00000004985383,\n",
       " 'R': 0.49999999005637524,\n",
       " 'alpha': 0.25662344259673525,\n",
       " 'beta': -0.17464682307232068,\n",
       " 'eta': 2.78344092932915,\n",
       " 'h': 10.644399118460987,\n",
       " 'invC': 0.09999999901406355,\n",
       " 'invL': 0.09999999950146175,\n",
       " 'rho': 5.832952935283037}"
      ]
     },
     "execution_count": 4,
     "metadata": {},
     "output_type": "execute_result"
    }
   ],
   "source": [
    "res"
   ]
  },
  {
   "cell_type": "markdown",
   "metadata": {},
   "source": [
    "# PEP verification"
   ]
  },
  {
   "cell_type": "code",
   "execution_count": 5,
   "metadata": {},
   "outputs": [
    {
     "name": "stdout",
     "output_type": "stream",
     "text": [
      "diff=8.157456932167406e-10\n"
     ]
    }
   ],
   "source": [
    "problem = co.accelerated_gradient_circuit_tuneRLC(mu, L_smooth, params=res)\n",
    "diff = problem.solve(verbose=0, solver=cp.MOSEK)\n",
    "print(f\"{diff=}\")"
   ]
  },
  {
   "cell_type": "code",
   "execution_count": null,
   "metadata": {},
   "outputs": [],
   "source": []
  }
 ],
 "metadata": {
  "kernelspec": {
   "display_name": "circuits",
   "language": "python",
   "name": "python3"
  },
  "language_info": {
   "codemirror_mode": {
    "name": "ipython",
    "version": 3
   },
   "file_extension": ".py",
   "mimetype": "text/x-python",
   "name": "python",
   "nbconvert_exporter": "python",
   "pygments_lexer": "ipython3",
   "version": "3.10.13"
  }
 },
 "nbformat": 4,
 "nbformat_minor": 2
}
