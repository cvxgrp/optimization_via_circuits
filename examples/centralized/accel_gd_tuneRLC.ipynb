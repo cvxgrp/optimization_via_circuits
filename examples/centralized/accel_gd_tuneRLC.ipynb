{
 "cells": [
  {
   "cell_type": "code",
   "execution_count": 1,
   "metadata": {},
   "outputs": [],
   "source": [
    "import ciropt as co\n",
    "import cvxpy as cp\n",
    "\n",
    "import PEPit\n",
    "import PEPit.functions as pep_func\n",
    "import ciropt.function as co_func\n",
    "import sympy as sp"
   ]
  },
  {
   "cell_type": "code",
   "execution_count": 2,
   "metadata": {},
   "outputs": [],
   "source": [
    "L_smooth = 1.\n",
    "mu = 0.1 #0\n",
    "\n",
    "Capacitance = 2.\n",
    "Inductance = 1.\n",
    "R = 1.\n",
    "\n",
    "solver = \"ipopt\"\n",
    "# solver = \"ipopt_qcqp\"\n",
    "# solver = \"ipopt_qcqp_matrix\" "
   ]
  },
  {
   "cell_type": "markdown",
   "metadata": {},
   "source": [
    "# Ciropt problem"
   ]
  },
  {
   "cell_type": "code",
   "execution_count": 3,
   "metadata": {},
   "outputs": [],
   "source": [
    "def accelerated_gradient_circuit(mu, L_smooth, params=None): \n",
    "    if params is not None:\n",
    "        # verification mode: PEP\n",
    "        problem = PEPit.PEP()\n",
    "        package = pep_func\n",
    "        h, alpha, beta, eta, rho, C, invC, L, invL, R = params[\"h\"], params[\"alpha\"], params[\"beta\"], params[\"eta\"], \\\n",
    "                                    params[\"rho\"], params[\"C\"], params[\"invC\"], params[\"L\"], params[\"invL\"], params[\"R\"]\n",
    "    else:\n",
    "        # Ciropt mode\n",
    "        problem = co.CircuitOpt()\n",
    "        package = co_func\n",
    "        C, R, L = sp.symbols('C'), sp.symbols('R'), sp.symbols('L')\n",
    "        invC, invL = sp.symbols(\"invC\"), sp.symbols(\"invL\")\n",
    "        problem.discretization_params = sorted(problem.discretization_params + \n",
    "                                               [\"C\", \"invC\", \"L\", \"invL\", \"R\"])\n",
    "        h, alpha, beta, eta, rho = problem.h, problem.alpha, problem.beta, problem.eta, problem.rho\n",
    "\n",
    "    func = co.define_function(problem, mu, L_smooth, package)\n",
    "    x_star, y_star, f_star = func.stationary_point(return_gradient_and_function_value=True)\n",
    "\n",
    "    v_C_1 = problem.set_initial_point()\n",
    "    i_L_1 = problem.set_initial_point()\n",
    "    x_1 = R * i_L_1 + v_C_1\n",
    "    y_1, f_1 = func.oracle(x_1)\n",
    "\n",
    "    i_L_1p5 = i_L_1 + (alpha * h * invL) * (v_C_1 - (x_1 - R * y_1)) \n",
    "    v_C_1p5 = v_C_1 - (alpha * h * invC) * y_1 \n",
    "    x_1p5 = R * i_L_1p5 + v_C_1p5\n",
    "    y_1p5, f_1p5 = func.oracle(x_1p5)\n",
    "\n",
    "    i_L_2 = i_L_1 + (beta * h * invL) * (v_C_1 - (x_1 - R * y_1)) + \\\n",
    "                    ((1 - beta) * h * invL) * (v_C_1p5 - (x_1p5 - R * y_1p5))\n",
    "    v_C_2 = v_C_1 - (beta * h * invC) * y_1 - ((1 - beta) * h * invC) * y_1p5  \n",
    "    x_2 = R * i_L_2 + v_C_2\n",
    "    y_2, f_2 = func.oracle(x_2)\n",
    "\n",
    "    E_1 = (C/2) * (v_C_1 - x_star)**2 + (L/2) * (i_L_1 - y_star) ** 2\n",
    "    E_2 = (C/2) * (v_C_2 - x_star)**2 + (L/2) * (i_L_2 - y_star) ** 2\n",
    "    Delta_1 = rho * R * (y_1 - i_L_1)**2 + eta * (f_1 - f_star)\n",
    "    problem.set_performance_metric(E_2 - (E_1 - Delta_1))\n",
    "    return problem\n"
   ]
  },
  {
   "cell_type": "code",
   "execution_count": 5,
   "metadata": {},
   "outputs": [
    {
     "name": "stdout",
     "output_type": "stream",
     "text": [
      "dim_G=6, dim_F=4\n",
      "Ipopt total # of variables = 374\n",
      "Actual # of variables = 49\n"
     ]
    }
   ],
   "source": [
    "problem = accelerated_gradient_circuit(mu, L_smooth)\n",
    "problem.obj = problem.eta + problem.rho\n",
    "\n",
    "bounds = {\"C\":{\"ub\": 10, \"lb\":0.5},\n",
    "          \"R\":{\"ub\": 10, \"lb\":0.5},\n",
    "          \"L\":{\"ub\": 10, \"lb\":0.5}}\n",
    "\n",
    "res, model, sp_exp = problem.solve(solver=solver, bounds=bounds, verbose=False, debug=True)"
   ]
  },
  {
   "cell_type": "code",
   "execution_count": 6,
   "metadata": {},
   "outputs": [
    {
     "data": {
      "text/plain": [
       "{'C': 10.000000098593643,\n",
       " 'L': 10.00000004985383,\n",
       " 'R': 0.49999999005637524,\n",
       " 'alpha': 0.25662344259673525,\n",
       " 'beta': -0.17464682307232068,\n",
       " 'eta': 2.78344092932915,\n",
       " 'h': 10.644399118460987,\n",
       " 'invC': 0.09999999901406355,\n",
       " 'invL': 0.09999999950146175,\n",
       " 'rho': 5.832952935283037}"
      ]
     },
     "execution_count": 6,
     "metadata": {},
     "output_type": "execute_result"
    }
   ],
   "source": [
    "res"
   ]
  },
  {
   "cell_type": "markdown",
   "metadata": {},
   "source": [
    "# PEP verification"
   ]
  },
  {
   "cell_type": "code",
   "execution_count": 9,
   "metadata": {},
   "outputs": [
    {
     "name": "stdout",
     "output_type": "stream",
     "text": [
      "diff=7.945997673989319e-09\n"
     ]
    },
    {
     "name": "stderr",
     "output_type": "stream",
     "text": [
      "/Users/parshakova.tanya/opt/anaconda3/envs/circuits/lib/python3.10/site-packages/cvxpy/problems/problem.py:1403: UserWarning: Solution may be inaccurate. Try another solver, adjusting the solver settings, or solve with verbose=True for more information.\n",
      "  warnings.warn(\n"
     ]
    }
   ],
   "source": [
    "problem = accelerated_gradient_circuit(mu, L_smooth, params=res)\n",
    "diff = problem.solve(verbose=0, solver=cp.MOSEK)\n",
    "print(f\"{diff=}\")"
   ]
  },
  {
   "cell_type": "code",
   "execution_count": null,
   "metadata": {},
   "outputs": [],
   "source": []
  }
 ],
 "metadata": {
  "kernelspec": {
   "display_name": "osbdo",
   "language": "python",
   "name": "python3"
  },
  "language_info": {
   "codemirror_mode": {
    "name": "ipython",
    "version": 3
   },
   "file_extension": ".py",
   "mimetype": "text/x-python",
   "name": "python",
   "nbconvert_exporter": "python",
   "pygments_lexer": "ipython3",
   "version": "3.10.13"
  }
 },
 "nbformat": 4,
 "nbformat_minor": 2
}
