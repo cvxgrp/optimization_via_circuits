{
 "cells": [
  {
   "cell_type": "code",
   "execution_count": 1,
   "metadata": {},
   "outputs": [],
   "source": [
    "import ciropt as co\n",
    "import cvxpy as cp"
   ]
  },
  {
   "cell_type": "code",
   "execution_count": 2,
   "metadata": {},
   "outputs": [],
   "source": [
    "L_smooth = 1.\n",
    "mu = 0 #0.1\n",
    "Capacitance = 1.\n",
    "\n",
    "\n",
    "# solver = \"ipopt\"\n",
    "# solver = \"ipopt_qcqp\"\n",
    "solver = \"ipopt_qcqp_matrix\""
   ]
  },
  {
   "cell_type": "markdown",
   "metadata": {},
   "source": [
    "# Ciropt problem"
   ]
  },
  {
   "cell_type": "code",
   "execution_count": 3,
   "metadata": {},
   "outputs": [
    {
     "name": "stdout",
     "output_type": "stream",
     "text": [
      "dim_G=5, dim_F=4\n",
      "Ipopt total # of variables = 142\n",
      "Actual # of variables = 42\n"
     ]
    }
   ],
   "source": [
    "problem = co.gradient_flow_circuit(mu, L_smooth, Capacitance)\n",
    "problem.obj = problem.eta\n",
    "\n",
    "res, model = problem.solve(solver=solver, verbose=False)[:2]"
   ]
  },
  {
   "cell_type": "code",
   "execution_count": 4,
   "metadata": {},
   "outputs": [
    {
     "data": {
      "text/plain": [
       "{'alpha': 0.41637703542473814,\n",
       " 'beta': 0.4001939784810832,\n",
       " 'delta': 0.0,\n",
       " 'eta': 0.9999999924842474,\n",
       " 'gamma': 0.0,\n",
       " 'h': 2.0673398459900447,\n",
       " 'rho': 0.0}"
      ]
     },
     "execution_count": 4,
     "metadata": {},
     "output_type": "execute_result"
    }
   ],
   "source": [
    "res"
   ]
  },
  {
   "cell_type": "markdown",
   "metadata": {},
   "source": [
    "# PEP verification"
   ]
  },
  {
   "cell_type": "code",
   "execution_count": 7,
   "metadata": {},
   "outputs": [
    {
     "name": "stdout",
     "output_type": "stream",
     "text": [
      "diff=-4.0058278916177414e-09\n"
     ]
    }
   ],
   "source": [
    "problem = co.gradient_flow_circuit(mu, L_smooth, Capacitance, params=res)\n",
    "diff = problem.solve(verbose=0, solver=cp.MOSEK)\n",
    "print(f\"{diff=}\")"
   ]
  },
  {
   "cell_type": "code",
   "execution_count": null,
   "metadata": {},
   "outputs": [],
   "source": []
  }
 ],
 "metadata": {
  "kernelspec": {
   "display_name": "osbdo",
   "language": "python",
   "name": "python3"
  },
  "language_info": {
   "codemirror_mode": {
    "name": "ipython",
    "version": 3
   },
   "file_extension": ".py",
   "mimetype": "text/x-python",
   "name": "python",
   "nbconvert_exporter": "python",
   "pygments_lexer": "ipython3",
   "version": "3.10.13"
  }
 },
 "nbformat": 4,
 "nbformat_minor": 2
}
