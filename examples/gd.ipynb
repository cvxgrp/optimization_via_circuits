{
 "cells": [
  {
   "cell_type": "code",
   "execution_count": 2,
   "metadata": {},
   "outputs": [],
   "source": [
    "import ciropt as co\n",
    "import cvxpy as cp"
   ]
  },
  {
   "cell_type": "code",
   "execution_count": 3,
   "metadata": {},
   "outputs": [],
   "source": [
    "L_smooth = 1.\n",
    "mu = 0#0.1\n",
    "Capacitance = 1.\n",
    "\n",
    "\n",
    "# solver = \"ipopt\"\n",
    "# solver = \"ipopt_qcqp\"\n",
    "solver = \"ipopt_qcqp_matrix\"\n",
    "# solver = \"gp_qcqp_matrix\"\n",
    "# solver = \"qcqp_sni\"\n",
    "# solver = \"cvx_dccp\"\n",
    "\n",
    "time_limit = 100"
   ]
  },
  {
   "cell_type": "markdown",
   "metadata": {},
   "source": [
    "# Ciropt problem"
   ]
  },
  {
   "cell_type": "code",
   "execution_count": 4,
   "metadata": {},
   "outputs": [
    {
     "name": "stdout",
     "output_type": "stream",
     "text": [
      "dim_G=5, dim_F=4\n",
      "Ipopt total # of variables = 142\n",
      "Actual # of variables = 42\n",
      "\n",
      "******************************************************************************\n",
      "This program contains Ipopt, a library for large-scale nonlinear optimization.\n",
      " Ipopt is released as open source code under the Eclipse Public License (EPL).\n",
      "         For more information visit https://github.com/coin-or/Ipopt\n",
      "******************************************************************************\n",
      "\n",
      "This is Ipopt version 3.14.11, running with linear solver MUMPS 5.4.1.\n",
      "\n",
      "Number of nonzeros in equality constraint Jacobian...:     1513\n",
      "Number of nonzeros in inequality constraint Jacobian.:      714\n",
      "Number of nonzeros in Lagrangian Hessian.............:      903\n",
      "\n",
      "Total number of variables............................:      142\n",
      "                     variables with only lower bounds:        0\n",
      "                variables with lower and upper bounds:        0\n",
      "                     variables with only upper bounds:        0\n",
      "Total number of equality constraints.................:       37\n",
      "Total number of inequality constraints...............:       17\n",
      "        inequality constraints with only lower bounds:       17\n",
      "   inequality constraints with lower and upper bounds:        0\n",
      "        inequality constraints with only upper bounds:        0\n",
      "\n",
      "iter    objective    inf_pr   inf_du lg(mu)  ||d||  lg(rg) alpha_du alpha_pr  ls\n",
      "   0 -0.0000000e+00 1.00e+00 1.00e+00  -1.0 0.00e+00    -  0.00e+00 0.00e+00   0\n",
      "   1 -1.8803015e-09 8.91e-02 1.00e+00  -1.7 1.00e+00  -2.0 9.90e-01 1.00e+00h  1\n",
      "   2 -7.0698133e-02 8.53e-02 1.08e+00  -1.7 3.15e+00  -1.6 1.00e+00 2.24e-02f  1\n",
      "   3 -1.2312257e-01 1.17e+00 2.17e+00  -1.7 1.03e+00  -1.1 2.11e-01 8.88e-01f  1\n",
      "   4 -1.3493929e-01 2.15e-01 4.21e+01  -1.7 3.65e-01   1.1 2.99e-01 1.00e+00h  1\n",
      "   5 -1.8076415e-01 1.15e-02 2.28e+00  -1.7 9.54e-02   0.6 1.00e+00 1.00e+00h  1\n",
      "   6 -3.6047255e-01 2.19e-02 4.22e+00  -1.7 1.80e-01   0.1 1.00e+00 1.00e+00h  1\n",
      "   7 -7.4900562e-01 1.44e-01 2.38e+00  -1.7 3.89e-01  -0.3 1.00e+00 1.00e+00f  1\n",
      "   8 -1.2721275e+00 3.31e-01 9.95e-01  -1.7 1.02e+00  -0.8 1.00e+00 1.00e+00h  1\n",
      "   9 -1.1810673e+00 1.25e-01 8.93e-01  -1.7 5.43e-01  -1.3 8.92e-01 7.60e-01h  1\n",
      "iter    objective    inf_pr   inf_du lg(mu)  ||d||  lg(rg) alpha_du alpha_pr  ls\n",
      "  10 -1.1148247e+00 2.11e-01 6.58e+00  -1.7 1.67e+00  -1.8 2.74e-01 1.62e-01h  3\n",
      "  11 -1.0502942e+00 1.78e-01 1.55e+00  -1.7 6.41e-01  -1.4 9.85e-01 2.50e-01h  3\n",
      "  12 -8.9677446e-01 1.85e-02 4.01e-01  -1.7 3.23e-01  -0.9 1.00e+00 1.00e+00h  1\n",
      "  13 -9.0737015e-01 2.30e-02 7.27e-02  -1.7 4.23e-01  -1.4 1.00e+00 1.00e+00h  1\n",
      "  14 -9.9686033e-01 2.47e-02 3.37e-01  -2.5 4.84e-01  -1.9 9.29e-01 9.91e-01h  1\n",
      "  15 -9.8827100e-01 3.42e-03 1.12e-01  -2.5 1.39e-01  -1.5 1.00e+00 1.00e+00h  1\n",
      "  16 -9.8895362e-01 9.51e-03 5.04e-02  -2.5 2.96e-01  -1.9 1.00e+00 1.00e+00h  1\n",
      "  17 -9.9819227e-01 4.26e-03 6.05e-02  -3.8 6.56e-02  -1.5 1.00e+00 1.00e+00h  1\n",
      "  18 -9.9913987e-01 8.82e-03 2.06e-02  -3.8 1.02e-01  -2.0 1.00e+00 1.00e+00h  1\n",
      "  19 -9.9894454e-01 8.37e-04 3.71e-03  -3.8 3.12e-02  -1.6 1.00e+00 1.00e+00h  1\n",
      "iter    objective    inf_pr   inf_du lg(mu)  ||d||  lg(rg) alpha_du alpha_pr  ls\n",
      "  20 -9.9929998e-01 1.52e-03 9.19e-04  -3.8 6.23e-02  -2.0 1.00e+00 1.00e+00h  1\n",
      "  21 -9.9951734e-01 1.78e-03 5.01e-04  -3.8 8.33e-02  -2.5 1.00e+00 1.00e+00h  1\n",
      "  22 -9.9951838e-01 2.21e-03 3.38e-03  -3.8 1.70e-01  -3.0 1.00e+00 1.00e+00h  1\n",
      "  23 -9.9951803e-01 2.20e-04 4.03e-04  -3.8 6.25e-02  -2.6 1.00e+00 1.00e+00h  1\n",
      "  24 -9.9999881e-01 1.64e-03 7.18e-03  -5.7 4.85e-02  -3.0 9.93e-01 1.00e+00h  1\n",
      "  25 -9.9999076e-01 4.10e-04 1.18e-03  -5.7 2.02e-02  -2.6 1.00e+00 1.00e+00h  1\n",
      "  26 -9.9999545e-01 1.14e-04 2.96e-04  -5.7 1.24e-02  -3.1 1.00e+00 1.00e+00h  1\n",
      "  27 -9.9999448e-01 9.78e-06 3.34e-05  -5.7 8.29e-03  -3.6 1.00e+00 1.00e+00h  1\n",
      "  28 -1.0000000e+00 2.40e-05 6.68e-05  -8.6 4.99e-03  -4.0 9.99e-01 1.00e+00h  1\n",
      "  29 -9.9999999e-01 5.95e-06 1.43e-05  -8.6 2.48e-03  -4.5 1.00e+00 1.00e+00h  1\n",
      "iter    objective    inf_pr   inf_du lg(mu)  ||d||  lg(rg) alpha_du alpha_pr  ls\n",
      "  30 -9.9999999e-01 1.44e-06 3.62e-06  -8.6 1.22e-03  -4.6 1.00e+00 1.00e+00h  1\n",
      "  31 -9.9999999e-01 3.34e-07 8.31e-07  -8.6 5.87e-04  -4.1 1.00e+00 1.00e+00h  1\n",
      "  32 -9.9999999e-01 5.53e-08 1.61e-07  -8.6 2.55e-04  -4.6 1.00e+00 1.00e+00h  1\n",
      "  33 -9.9999999e-01 1.49e-08 2.25e-08  -8.6 3.76e-04  -5.1 1.00e+00 1.00e+00h  1\n",
      "  34 -1.0000000e+00 1.15e-08 3.39e-08  -9.0 1.15e-04  -4.7 1.00e+00 1.00e+00h  1\n",
      "  35 -1.0000000e+00 6.36e-10 2.15e-09  -9.0 2.81e-05  -4.2 1.00e+00 1.00e+00h  1\n",
      "\n",
      "Number of Iterations....: 35\n",
      "\n",
      "                                   (scaled)                 (unscaled)\n",
      "Objective...............:  -9.9999999727298061e-01   -9.9999999727298061e-01\n",
      "Dual infeasibility......:   2.1468413596327507e-09    2.1468413596327507e-09\n",
      "Constraint violation....:   6.3612359824105624e-10    6.3612359824105624e-10\n",
      "Variable bound violation:   0.0000000000000000e+00    0.0000000000000000e+00\n",
      "Complementarity.........:   9.2562454055110145e-10    9.2562454055110145e-10\n",
      "Overall NLP error.......:   1.0046766100323809e-09    2.1468413596327507e-09\n",
      "\n",
      "\n",
      "Number of objective function evaluations             = 45\n",
      "Number of objective gradient evaluations             = 36\n",
      "Number of equality constraint evaluations            = 45\n",
      "Number of inequality constraint evaluations          = 45\n",
      "Number of equality constraint Jacobian evaluations   = 36\n",
      "Number of inequality constraint Jacobian evaluations = 36\n",
      "Number of Lagrangian Hessian evaluations             = 35\n",
      "Total seconds in IPOPT                               = 11.065\n",
      "\n",
      "EXIT: Optimal Solution Found.\n",
      "      solver  :   t_proc      (avg)   t_wall      (avg)    n_eval\n",
      "       nlp_f  |        0 (       0) 130.00us (  2.89us)        45\n",
      "       nlp_g  | 317.00ms (  7.04ms) 314.21ms (  6.98ms)        45\n",
      "  nlp_grad_f  |        0 (       0)  88.00us (  2.38us)        37\n",
      "  nlp_hess_l  | 234.00ms (  6.69ms) 231.09ms (  6.60ms)        35\n",
      "   nlp_jac_g  |  10.42 s (281.49ms)  10.42 s (281.66ms)        37\n",
      "       total  |  11.07 s ( 11.07 s)  11.07 s ( 11.07 s)         1\n"
     ]
    }
   ],
   "source": [
    "problem = co.gradient_flow_circuit(mu, L_smooth, Capacitance)\n",
    "problem.obj = problem.b\n",
    "\n",
    "res, model = problem.solve(solver=solver, verbose=False)[:2]"
   ]
  },
  {
   "cell_type": "code",
   "execution_count": 4,
   "metadata": {},
   "outputs": [
    {
     "data": {
      "text/plain": [
       "{'b': 0.9999999926181268,\n",
       " 'h': 2.067343154211181,\n",
       " 'd': 0.0,\n",
       " 'alpha': 0.41637444590328326,\n",
       " 'beta': 0.40019089262456375,\n",
       " 'gamma': 0.0,\n",
       " 'delta': 0.0}"
      ]
     },
     "execution_count": 4,
     "metadata": {},
     "output_type": "execute_result"
    }
   ],
   "source": [
    "res"
   ]
  },
  {
   "cell_type": "markdown",
   "metadata": {},
   "source": [
    "# PEP verification"
   ]
  },
  {
   "cell_type": "code",
   "execution_count": 5,
   "metadata": {},
   "outputs": [
    {
     "name": "stdout",
     "output_type": "stream",
     "text": [
      "diff=-4.220390203979463e-09\n"
     ]
    }
   ],
   "source": [
    "problem = co.gradient_flow_circuit(mu, L_smooth, Capacitance, params=res)\n",
    "diff = problem.solve(verbose=0, solver=cp.MOSEK)\n",
    "print(f\"{diff=}\")"
   ]
  }
 ],
 "metadata": {
  "kernelspec": {
   "display_name": "osbdo",
   "language": "python",
   "name": "python3"
  },
  "language_info": {
   "codemirror_mode": {
    "name": "ipython",
    "version": 3
   },
   "file_extension": ".py",
   "mimetype": "text/x-python",
   "name": "python",
   "nbconvert_exporter": "python",
   "pygments_lexer": "ipython3",
   "version": "3.11.5"
  }
 },
 "nbformat": 4,
 "nbformat_minor": 2
}
