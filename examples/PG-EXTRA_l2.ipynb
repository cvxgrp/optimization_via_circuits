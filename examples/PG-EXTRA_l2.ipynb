{
 "cells": [
  {
   "cell_type": "code",
   "execution_count": 1,
   "metadata": {},
   "outputs": [],
   "source": [
    "import ciropt as co\n",
    "import cvxpy as cp"
   ]
  },
  {
   "cell_type": "code",
   "execution_count": 2,
   "metadata": {},
   "outputs": [],
   "source": [
    "import numpy as np"
   ]
  },
  {
   "cell_type": "code",
   "execution_count": 3,
   "metadata": {},
   "outputs": [],
   "source": [
    "L_smooth = 0.1 #np.inf\n",
    "# mu = 1 #0.01\n",
    "mu = 0 #0.01\n",
    "\n",
    "# h = 1/2\n",
    "R = 1/3\n",
    "# R12 = 2\n",
    "R12 = 10\n",
    "\n",
    "# solver = \"ipopt\"\n",
    "solver = \"ipopt_qcqp\"\n",
    "# solver = \"ipopt_qcqp_matrix\"\n",
    "# solver = \"cvx_dccp\"\n",
    "# solver = \"qcqp_sni\"\n",
    "# solver = \"bisection_b\""
   ]
  },
  {
   "cell_type": "markdown",
   "metadata": {},
   "source": [
    "# Ciropt problem"
   ]
  },
  {
   "cell_type": "code",
   "execution_count": 4,
   "metadata": {},
   "outputs": [
    {
     "name": "stdout",
     "output_type": "stream",
     "text": [
      "dim_G=13, dim_F=10\n",
      "Ipopt total # of variables = 267\n",
      "Actual # of variables = 117\n",
      "\n",
      "******************************************************************************\n",
      "This program contains Ipopt, a library for large-scale nonlinear optimization.\n",
      " Ipopt is released as open source code under the Eclipse Public License (EPL).\n",
      "         For more information visit https://github.com/coin-or/Ipopt\n",
      "******************************************************************************\n",
      "\n",
      "This is Ipopt version 3.14.11, running with linear solver MUMPS 5.4.1.\n",
      "\n",
      "Number of nonzeros in equality constraint Jacobian...:     4842\n",
      "Number of nonzeros in inequality constraint Jacobian.:     1215\n",
      "Number of nonzeros in Lagrangian Hessian.............:      653\n",
      "\n",
      "Total number of variables............................:      267\n",
      "                     variables with only lower bounds:        0\n",
      "                variables with lower and upper bounds:        0\n",
      "                     variables with only upper bounds:        0\n",
      "Total number of equality constraints.................:      181\n",
      "Total number of inequality constraints...............:       45\n",
      "        inequality constraints with only lower bounds:       39\n",
      "   inequality constraints with lower and upper bounds:        0\n",
      "        inequality constraints with only upper bounds:        6\n",
      "\n",
      "iter    objective    inf_pr   inf_du lg(mu)  ||d||  lg(rg) alpha_du alpha_pr  ls\n",
      "   0 -0.0000000e+00 1.00e+00 1.00e+00  -1.0 0.00e+00    -  0.00e+00 0.00e+00   0\n",
      "   1 -1.6680370e-08 1.00e+00 2.65e+05  -1.0 1.10e+00  -2.0 9.91e-01 9.02e-01f  1\n",
      "   2  3.8227171e-04 1.00e+00 1.43e+06  -1.0 5.02e-02   7.8 1.00e+00 4.08e-01h  1\n",
      "   3  3.8547120e-04 1.00e+00 1.43e+06  -1.0 4.69e-02   7.4 1.00e+00 3.64e-03h  1\n",
      "   4  4.2885436e-04 1.00e+00 1.38e+06  -1.0 1.09e-01   6.9 1.00e+00 4.82e-02h  1\n",
      "   5  4.3250785e-04 1.00e+00 1.38e+06  -1.0 6.08e-02   7.3 1.00e+00 5.25e-03h  1\n",
      "   6  7.8538152e-04 1.00e+00 1.11e+06  -1.0 1.41e-01   6.8 1.00e+00 3.00e-01h  1\n",
      "   7  8.2577327e-04 1.00e+00 1.11e+06  -1.0 5.80e-02   7.3 1.00e+00 1.97e-02h  1\n",
      "   8  1.2853177e-03 9.99e-01 1.17e+06  -1.0 2.93e-01   6.8 1.00e+00 7.34e-02h  1\n",
      "   9  2.0876171e-03 9.99e-01 9.32e+05  -1.0 7.37e-02   7.2 1.00e+00 3.14e-01h  1\n",
      "iter    objective    inf_pr   inf_du lg(mu)  ||d||  lg(rg) alpha_du alpha_pr  ls\n",
      "  10r 2.0876171e-03 9.99e-01 1.00e+03  -0.0 0.00e+00   6.7 0.00e+00 2.94e-07R 20\n",
      "  11r 1.7477492e-03 1.00e+00 9.42e+02  -0.0 1.01e+00    -  9.41e-01 5.70e-02f  1\n",
      "  12r-3.5750411e-03 1.00e+00 9.13e+02  -0.0 3.36e+00    -  9.09e-03 1.22e-01f  1\n",
      "  13r-1.4803817e-02 9.99e-01 5.11e+03  -0.0 1.21e+00    -  3.08e-01 1.00e+00f  1\n",
      "  14r-1.0460383e-02 9.99e-01 1.80e+02  -0.0 4.52e-01    -  9.08e-01 1.00e+00h  1\n",
      "  15r-2.6568755e-03 1.00e+00 2.14e+02  -0.0 4.16e-01    -  1.00e+00 8.91e-01h  1\n",
      "  16r-3.1147009e-03 1.00e+00 2.00e+02  -0.0 1.23e-01    -  1.00e+00 7.82e-01h  1\n",
      "  17r-1.0895805e-03 1.00e+00 5.75e+01  -0.0 6.85e-02    -  1.00e+00 1.00e+00f  1\n",
      "  18r-2.3596721e-04 1.00e+00 4.57e+03  -0.7 4.74e-01    -  1.00e+00 1.00e+00f  1\n",
      "  19r-1.0436016e-04 1.00e+00 5.95e+02  -0.7 4.99e-02    -  1.00e+00 1.00e+00h  1\n",
      "iter    objective    inf_pr   inf_du lg(mu)  ||d||  lg(rg) alpha_du alpha_pr  ls\n",
      "  20r-5.1903171e-05 1.00e+00 1.28e+02  -0.7 6.71e-02    -  1.00e+00 1.00e+00h  1\n",
      "  21r-4.6791184e-05 1.00e+00 2.18e-02  -0.7 4.58e-03    -  1.00e+00 1.00e+00h  1\n",
      "  22r-4.0114277e-05 1.00e+00 6.75e+03  -3.1 4.47e-01    -  1.00e+00 8.80e-01f  1\n",
      "  23r-2.4640938e-05 1.00e+00 2.57e+03  -3.1 5.09e-02    -  1.00e+00 6.50e-01f  1\n",
      "  24r-4.2225391e-06 1.00e+00 5.41e+02  -3.1 1.23e-01    -  8.60e-01 9.31e-01f  1\n",
      "  25r-6.3884018e-07 1.00e+00 1.44e+02  -3.1 8.67e-02    -  1.00e+00 1.00e+00f  1\n",
      "  26r-5.9639275e-07 1.00e+00 1.86e+02  -3.1 2.43e-02    -  1.00e+00 1.00e+00h  1\n",
      "  27r-6.4054658e-07 1.00e+00 7.86e+00  -3.1 9.38e-04    -  1.00e+00 1.00e+00h  1\n",
      "  28r-6.4755703e-07 1.00e+00 2.58e-01  -3.1 2.46e-04    -  1.00e+00 1.00e+00h  1\n",
      "  29r-6.4764913e-07 1.00e+00 6.88e-07  -3.1 2.74e-07    -  1.00e+00 1.00e+00h  1\n",
      "iter    objective    inf_pr   inf_du lg(mu)  ||d||  lg(rg) alpha_du alpha_pr  ls\n",
      "  30r-8.3033127e-08 1.00e+00 2.95e+02  -7.1 8.50e-02    -  9.97e-01 9.44e-01f  1\n",
      "  31r-3.6190081e-08 1.00e+00 1.10e+02  -7.1 1.62e-03    -  1.00e+00 6.34e-01f  1\n",
      "  32r-1.3489037e-08 1.00e+00 8.31e+01  -7.1 3.26e-02    -  8.91e-01 7.48e-01f  1\n",
      "  33r-3.7620945e-09 1.00e+00 2.98e+01  -7.1 1.87e-02    -  6.24e-01 6.41e-01f  1\n",
      "  34r-5.1825870e-10 1.00e+00 3.51e+01  -7.1 9.33e-03    -  9.07e-01 9.82e-01f  1\n",
      "  35r-9.2764181e-11 1.00e+00 6.34e-02  -7.1 4.03e-04    -  1.00e+00 1.00e+00f  1\n",
      "  36r-1.0711291e-10 1.00e+00 2.95e-02  -7.1 4.10e-05    -  1.00e+00 1.00e+00h  1\n",
      "  37r-1.0977714e-10 1.00e+00 1.69e-02  -7.1 1.01e-05    -  1.00e+00 1.00e+00h  1\n",
      "  38r-1.1299758e-10 1.00e+00 1.71e-02  -7.1 4.84e-06    -  1.00e+00 1.00e+00h  1\n",
      "  39r-1.1359665e-10 1.00e+00 1.03e-04  -7.1 3.32e-07    -  1.00e+00 1.00e+00h  1\n",
      "\n",
      "Number of Iterations....: 39\n",
      "\n",
      "                                   (scaled)                 (unscaled)\n",
      "Objective...............:  -1.1359776629149441e-10   -1.1359776629149441e-10\n",
      "Dual infeasibility......:   1.0000002289716576e+00    1.0000002289716576e+00\n",
      "Constraint violation....:   9.9999999999739497e-01    9.9999999999739497e-01\n",
      "Variable bound violation:   0.0000000000000000e+00    0.0000000000000000e+00\n",
      "Complementarity.........:   8.3471426824567586e-08    8.3471426824567586e-08\n",
      "Overall NLP error.......:   9.9999999999739497e-01    1.0000002289716576e+00\n",
      "\n",
      "\n",
      "Number of objective function evaluations             = 62\n",
      "Number of objective gradient evaluations             = 12\n",
      "Number of equality constraint evaluations            = 62\n",
      "Number of inequality constraint evaluations          = 62\n",
      "Number of equality constraint Jacobian evaluations   = 42\n",
      "Number of inequality constraint Jacobian evaluations = 42\n",
      "Number of Lagrangian Hessian evaluations             = 40\n",
      "Total seconds in IPOPT                               = 0.418\n",
      "\n",
      "EXIT: Converged to a point of local infeasibility. Problem may be infeasible.\n",
      "      solver  :   t_proc      (avg)   t_wall      (avg)    n_eval\n",
      "       nlp_f  |        0 (       0) 131.00us (  2.11us)        62\n",
      "       nlp_g  |   8.00ms (129.03us)  10.77ms (173.76us)        62\n",
      "  nlp_grad_f  |        0 (       0)  46.00us (  3.54us)        13\n",
      "  nlp_hess_l  |  32.00ms (820.51us)  38.23ms (980.26us)        39\n",
      "   nlp_jac_g  | 128.00ms (  2.98ms) 129.19ms (  3.00ms)        43\n",
      "       total  | 418.00ms (418.00ms) 418.88ms (418.88ms)         1\n",
      "Could not find a solution using Ipopt\n"
     ]
    },
    {
     "ename": "AttributeError",
     "evalue": "'CircuitOpt' object has no attribute 'vars'",
     "output_type": "error",
     "traceback": [
      "\u001b[1;31m---------------------------------------------------------------------------\u001b[0m",
      "\u001b[1;31mAttributeError\u001b[0m                            Traceback (most recent call last)",
      "Cell \u001b[1;32mIn[4], line 16\u001b[0m\n\u001b[0;32m      5\u001b[0m bounds \u001b[38;5;241m=\u001b[39m {  \n\u001b[0;32m      6\u001b[0m             \u001b[38;5;124m'\u001b[39m\u001b[38;5;124md\u001b[39m\u001b[38;5;124m'\u001b[39m: {\u001b[38;5;124m\"\u001b[39m\u001b[38;5;124mub\u001b[39m\u001b[38;5;124m\"\u001b[39m: \u001b[38;5;241m100\u001b[39m, \u001b[38;5;124m\"\u001b[39m\u001b[38;5;124mlb\u001b[39m\u001b[38;5;124m\"\u001b[39m: \u001b[38;5;241m1e-4\u001b[39m},\n\u001b[0;32m      7\u001b[0m             \u001b[38;5;124m'\u001b[39m\u001b[38;5;124mb\u001b[39m\u001b[38;5;124m'\u001b[39m: {\u001b[38;5;124m\"\u001b[39m\u001b[38;5;124mub\u001b[39m\u001b[38;5;124m\"\u001b[39m: \u001b[38;5;241m100\u001b[39m, \u001b[38;5;124m\"\u001b[39m\u001b[38;5;124mlb\u001b[39m\u001b[38;5;124m\"\u001b[39m: \u001b[38;5;241m1e-4\u001b[39m},\n\u001b[1;32m   (...)\u001b[0m\n\u001b[0;32m     11\u001b[0m             \u001b[38;5;124m'\u001b[39m\u001b[38;5;124mbeta\u001b[39m\u001b[38;5;124m'\u001b[39m: {\u001b[38;5;124m\"\u001b[39m\u001b[38;5;124mub\u001b[39m\u001b[38;5;124m\"\u001b[39m: \u001b[38;5;241m0\u001b[39m, \u001b[38;5;124m\"\u001b[39m\u001b[38;5;124mlb\u001b[39m\u001b[38;5;124m\"\u001b[39m: \u001b[38;5;241m0\u001b[39m},\n\u001b[0;32m     12\u001b[0m             }\n\u001b[0;32m     14\u001b[0m res, sol \u001b[38;5;241m=\u001b[39m problem\u001b[38;5;241m.\u001b[39msolve(solver\u001b[38;5;241m=\u001b[39msolver, bounds\u001b[38;5;241m=\u001b[39mbounds, verbose\u001b[38;5;241m=\u001b[39m\u001b[38;5;28;01mTrue\u001b[39;00m)[:\u001b[38;5;241m2\u001b[39m]\n\u001b[1;32m---> 16\u001b[0m ca_vars \u001b[38;5;241m=\u001b[39m problem\u001b[38;5;241m.\u001b[39mvars\n",
      "\u001b[1;31mAttributeError\u001b[0m: 'CircuitOpt' object has no attribute 'vars'"
     ]
    }
   ],
   "source": [
    "problem = co.pg_extra_line2( mu, L_smooth, R, R12)\n",
    "problem.obj = problem.b + problem.d /2\n",
    "# problem.obj = problem.b\n",
    "\n",
    "bounds = {  \n",
    "            'd': {\"ub\": 100, \"lb\": 1e-4},\n",
    "            'b': {\"ub\": 100, \"lb\": 1e-4},\n",
    "            'h': {\"ub\": 100, \"lb\": 1e-4},\n",
    "            'gamma': {\"ub\": 100, \"lb\": 1e-4},\n",
    "            'alpha': {\"ub\": 1, \"lb\": 1},\n",
    "            'beta': {\"ub\": 0, \"lb\": 0},\n",
    "            }\n",
    "\n",
    "res, sol = problem.solve(solver=solver, bounds=bounds, verbose=True)[:2]\n",
    "\n",
    "ca_vars = problem.vars"
   ]
  },
  {
   "cell_type": "code",
   "execution_count": null,
   "metadata": {},
   "outputs": [],
   "source": [
    "res"
   ]
  },
  {
   "cell_type": "markdown",
   "metadata": {},
   "source": [
    "# PEP verification"
   ]
  },
  {
   "cell_type": "code",
   "execution_count": null,
   "metadata": {},
   "outputs": [],
   "source": [
    "res['b'] = 4"
   ]
  },
  {
   "cell_type": "code",
   "execution_count": null,
   "metadata": {},
   "outputs": [],
   "source": [
    "problem = co.pg_extra_line2( mu, L_smooth, R, R12, params=res)\n",
    "diff = problem.solve(verbose=0, solver=cp.MOSEK)\n",
    "print(f\"{diff=}\")"
   ]
  }
 ],
 "metadata": {
  "kernelspec": {
   "display_name": "osbdo",
   "language": "python",
   "name": "python3"
  },
  "language_info": {
   "codemirror_mode": {
    "name": "ipython",
    "version": 3
   },
   "file_extension": ".py",
   "mimetype": "text/x-python",
   "name": "python",
   "nbconvert_exporter": "python",
   "pygments_lexer": "ipython3",
   "version": "3.11.5"
  }
 },
 "nbformat": 4,
 "nbformat_minor": 2
}
