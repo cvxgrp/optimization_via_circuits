{
 "cells": [
  {
   "cell_type": "code",
   "execution_count": 1,
   "metadata": {},
   "outputs": [],
   "source": [
    "import ciropt as co\n",
    "import cvxpy as cp"
   ]
  },
  {
   "cell_type": "code",
   "execution_count": 2,
   "metadata": {},
   "outputs": [],
   "source": [
    "R = 0.8\n",
    "L_smooth = [100, 100]\n",
    "mu = [0., 2]\n",
    "Inductance = 2\n",
    "Capacitance = 15\n",
    "\n",
    "# R = 0.1\n",
    "# L_smooth = [100, 100]\n",
    "# mu = [0., 2]\n",
    "# Inductance = 2\n",
    "# Capacitance = 100\n",
    "\n",
    "solver = \"ipopt\"\n",
    "# solver = \"ipopt_qcqp\"\n",
    "# solver = \"ipopt_qcqp_matrix\""
   ]
  },
  {
   "cell_type": "markdown",
   "metadata": {},
   "source": [
    "# Ciropt problem"
   ]
  },
  {
   "cell_type": "code",
   "execution_count": 3,
   "metadata": {},
   "outputs": [
    {
     "name": "stdout",
     "output_type": "stream",
     "text": [
      "mu=[0.0, 2], L_smooth=[100, 100], R=0.8, Capacitance=15, Inductance=2, solver='ipopt'\n"
     ]
    }
   ],
   "source": [
    "print(f\"{mu=}, {L_smooth=}, {R=}, {Capacitance=}, {Inductance=}, {solver=}\")"
   ]
  },
  {
   "cell_type": "code",
   "execution_count": 4,
   "metadata": {},
   "outputs": [],
   "source": [
    "problem = co.dadmm_C_graph6_rk( mu, L_smooth, R, Capacitance, Inductance)\n",
    "problem.obj = problem.eta + problem.rho * 0.5\n",
    "# problem.obj = problem.eta + problem.rho * 0.1\n",
    "\n",
    "bounds = {  \n",
    "            'alpha': {\"ub\": 1, \"lb\": 1},\n",
    "            'beta': {\"ub\": 0, \"lb\": 0},\n",
    "            }\n",
    "\n",
    "res, sol = problem.solve(solver=solver, bounds=bounds, extra_dim=530, verbose=False)[:2]\n",
    "\n",
    "# res, sol = problem.solve(solver=solver, extra_dim=530, verbose=False)[:2]"
   ]
  },
  {
   "cell_type": "code",
   "execution_count": null,
   "metadata": {},
   "outputs": [
    {
     "data": {
      "text/plain": [
       "{'eta': 8.791332314020643,\n",
       " 'h': 7.6449033046031625,\n",
       " 'rho': 1.5567298701038743e-09,\n",
       " 'gamma': 84.26843080103471}"
      ]
     },
     "execution_count": 5,
     "metadata": {},
     "output_type": "execute_result"
    }
   ],
   "source": [
    "res"
   ]
  },
  {
   "cell_type": "markdown",
   "metadata": {},
   "source": [
    "# PEP verification"
   ]
  },
  {
   "cell_type": "code",
   "execution_count": null,
   "metadata": {},
   "outputs": [],
   "source": [
    "res[\"rho\"] = 0"
   ]
  },
  {
   "cell_type": "code",
   "execution_count": null,
   "metadata": {},
   "outputs": [
    {
     "name": "stdout",
     "output_type": "stream",
     "text": [
      "diff=-2.7217592940517572e-15\n"
     ]
    }
   ],
   "source": [
    "problem = co.dadmm_C_graph6_rk( mu, L_smooth, R, Capacitance, Inductance, params=res)\n",
    "diff = problem.solve(verbose=0, solver=cp.MOSEK)\n",
    "print(f\"{diff=}\")"
   ]
  },
  {
   "cell_type": "code",
   "execution_count": null,
   "metadata": {},
   "outputs": [],
   "source": []
  }
 ],
 "metadata": {
  "kernelspec": {
   "display_name": "osbdo",
   "language": "python",
   "name": "python3"
  },
  "language_info": {
   "codemirror_mode": {
    "name": "ipython",
    "version": 3
   },
   "file_extension": ".py",
   "mimetype": "text/x-python",
   "name": "python",
   "nbconvert_exporter": "python",
   "pygments_lexer": "ipython3",
   "version": "3.10.13"
  }
 },
 "nbformat": 4,
 "nbformat_minor": 2
}
