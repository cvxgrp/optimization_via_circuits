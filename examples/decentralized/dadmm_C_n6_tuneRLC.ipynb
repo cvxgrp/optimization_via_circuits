{
 "cells": [
  {
   "cell_type": "code",
   "execution_count": 1,
   "metadata": {},
   "outputs": [],
   "source": [
    "import ciropt as co\n",
    "import cvxpy as cp\n",
    "\n",
    "import PEPit\n",
    "import PEPit.functions as pep_func\n",
    "from PEPit.constraint import Constraint as pep_constr\n",
    "from PEPit.primitive_steps import proximal_step as pep_proximal_step\n",
    "\n",
    "import ciropt.function as co_func\n",
    "import ciropt.function as co_func\n",
    "from ciropt.constraint import Constraint as co_constr\n",
    "import sympy as sp"
   ]
  },
  {
   "cell_type": "code",
   "execution_count": 2,
   "metadata": {},
   "outputs": [],
   "source": [
    "R = 0.8\n",
    "L_smooth = [100, 100]\n",
    "mu = [0., 2]\n",
    "L = 2\n",
    "C = 15\n",
    "\n",
    "solver = \"ipopt\"\n",
    "# solver = \"ipopt_qcqp\"\n",
    "# solver = \"ipopt_qcqp_matrix\""
   ]
  },
  {
   "cell_type": "markdown",
   "metadata": {},
   "source": [
    "# Ciropt problem"
   ]
  },
  {
   "cell_type": "code",
   "execution_count": 3,
   "metadata": {},
   "outputs": [],
   "source": [
    "def dadmm_C_graph6(mus, L_smooths, params=None):\n",
    "    # graph with 6 nodes and 7 edges (1,2), (1,3), (2,3), (2,4), (3,4), (4,5), (4,6)\n",
    "    # 1 -- 2 -- 4 -- 5\n",
    "    #   \\  |  /  \\\n",
    "    #      3       6 \n",
    "    # D-ADMM with Capacitor at e_45\n",
    "    if params is not None:\n",
    "        # verification mode: PEP\n",
    "        problem = PEPit.PEP()\n",
    "        package = pep_func \n",
    "        Constraint = pep_constr\n",
    "        proximal_step = pep_proximal_step \n",
    "        h, eta, rho, gamma, C, invC, L, invL, R, invR = params[\"h\"], params[\"eta\"], params[\"rho\"], params[\"gamma\"], \\\n",
    "                                        params[\"C\"], params[\"invC\"], params[\"L\"], params[\"invL\"], params[\"R\"], params[\"invR\"]\n",
    "    else:\n",
    "        # Ciropt mode\n",
    "        problem = co.CircuitOpt()\n",
    "        package = co_func\n",
    "        Constraint = co_constr\n",
    "        proximal_step = co_func.proximal_step \n",
    "        C, R, L = sp.symbols('C'), sp.symbols('R'), sp.symbols('L')\n",
    "        invC, invL, invR = sp.symbols(\"invC\"), sp.symbols(\"invL\"), sp.symbols(\"invR\")\n",
    "        problem.discretization_params = sorted(problem.discretization_params + \n",
    "                                               [\"C\", \"invC\", \"L\", \"invL\", \"R\", \"invR\"])\n",
    "        h, eta, rho, gamma = problem.h, problem.eta, problem.rho, problem.gamma\n",
    "\n",
    "    f1 = co.define_function(problem, mus[0], L_smooths[0], package)\n",
    "    f2 = co.define_function(problem, mus[0], L_smooths[0], package)\n",
    "    f3 = co.define_function(problem, mus[0], L_smooths[0], package)\n",
    "    f4 = co.define_function(problem, mus[1], L_smooths[1], package)\n",
    "    f5 = co.define_function(problem, mus[1], L_smooths[1], package)\n",
    "    f6 = co.define_function(problem, mus[0], L_smooths[0], package)\n",
    "\n",
    "    x_star, y_star, f_star = (f1 + f2 + f3 + f4 + f5 + f6).stationary_point(return_gradient_and_function_value=True)\n",
    "    y1_star, f1_star = f1.oracle(x_star)\n",
    "    y2_star, f2_star = f2.oracle(x_star)\n",
    "    y3_star, f3_star = f3.oracle(x_star)\n",
    "    y4_star, f4_star = f4.oracle(x_star)\n",
    "    y5_star, f5_star = f5.oracle(x_star)\n",
    "    y6_star, f6_star = f6.oracle(x_star)\n",
    "    # when f is not differentiable\n",
    "    problem.add_constraint(Constraint((y1_star + y2_star + y3_star + y4_star + y5_star + y6_star - y_star) ** 2, \"equality\"))\n",
    "\n",
    "    y1_12_star = problem.set_initial_point()\n",
    "    y1_13_star = y1_star - y1_12_star\n",
    "    y2_23_star = problem.set_initial_point()\n",
    "    y2_24_star = y2_star + y1_12_star - y2_23_star\n",
    "    y3_34_star = y3_star + y1_13_star + y2_23_star\n",
    "    # y5_54_star = y5_star;     y6_64_star = y6_star\n",
    "    # currents on each new at equilibrium sum to 0\n",
    "    problem.add_constraint(Constraint((y2_24_star + y3_34_star + y5_star + y6_star + y4_star) ** 2, \"equality\"))\n",
    "\n",
    "    # edges (1,2), (1,3), (2,3), (2,4), (3,4), (4,5), (4,6)\n",
    "    e_12_1 = problem.set_initial_point()\n",
    "    e_13_1 = problem.set_initial_point()\n",
    "    e_23_1 = problem.set_initial_point()\n",
    "    e_24_1 = problem.set_initial_point()\n",
    "    e_34_1 = problem.set_initial_point()\n",
    "    e_45_1 = problem.set_initial_point()\n",
    "    e_46_1 = problem.set_initial_point()\n",
    "    # initialize currents on inductors to sum to 0 on every edge\n",
    "    i_L_12_1 = problem.set_initial_point()\n",
    "    i_L_13_1 = problem.set_initial_point()\n",
    "    i_L_23_1 = problem.set_initial_point()\n",
    "    i_L_24_1 = problem.set_initial_point()\n",
    "    i_L_34_1 = problem.set_initial_point()\n",
    "    i_L_45_1 = problem.set_initial_point()\n",
    "    i_L_54_1 = problem.set_initial_point()\n",
    "    i_L_46_1 = problem.set_initial_point()\n",
    "\n",
    "\n",
    "    x1_2, y1_2, f1_2 = proximal_step((1/2)*((R * i_L_12_1 + e_12_1) + (R * i_L_13_1 + e_13_1)), f1, R/2)\n",
    "    x2_2, y2_2, f2_2 = proximal_step((1/3)*((-R * i_L_12_1 + e_12_1) + (R * i_L_23_1 + e_23_1) \\\n",
    "                                            + (R * i_L_24_1 + e_24_1)), f2, R/3)\n",
    "    x3_2, y3_2, f3_2 = proximal_step((1/3)*((-R * i_L_13_1 + e_13_1) + (-R * i_L_23_1 + e_23_1) \\\n",
    "                                            + (R * i_L_34_1 + e_34_1)), f3, R/3)\n",
    "    x4_2, y4_2, f4_2 = proximal_step((1/4)*((-R * i_L_24_1 + e_24_1) + (-R * i_L_34_1 + e_34_1) \\\n",
    "                                            + (R * i_L_45_1 + e_45_1) + (R * i_L_46_1 + e_46_1)), f4, R/4)\n",
    "    x5_2, y5_2, f5_2 = proximal_step(R * i_L_54_1 + e_45_1, f5, R)\n",
    "    x6_2, y6_2, f6_2 = proximal_step(-R * i_L_46_1 + e_46_1, f6, R)\n",
    "\n",
    "    e_12_2 = (x1_2 + x2_2) / 2\n",
    "    e_13_2 = (x1_2 + x3_2) / 2\n",
    "    e_23_2 = (x2_2 + x3_2) / 2\n",
    "    e_24_2 = (x2_2 + x4_2) / 2\n",
    "    e_34_2 = (x3_2 + x4_2) / 2\n",
    "    e_45_2 = e_45_1 - ( h * invC) * (i_L_45_1 + i_L_54_1 + (2 * e_45_1 - x4_2 - x5_2) * invR)\n",
    "    e_46_2 = (x4_2 + x6_2) / 2\n",
    "    i_L_12_2 = i_L_12_1 + ( h * invL) * (e_12_2 - x1_2)      \n",
    "    i_L_13_2 = i_L_13_1 + ( h * invL) * (e_13_2 - x1_2)\n",
    "    i_L_23_2 = i_L_23_1 + ( h * invL) * (e_23_2 - x2_2)\n",
    "    i_L_24_2 = i_L_24_1 + ( h * invL) * (e_24_2 - x2_2)\n",
    "    i_L_34_2 = i_L_34_1 + ( h * invL) * (e_34_2 - x3_2)\n",
    "    i_L_45_2 = i_L_45_1 + ( h * invL) * (e_45_2 - x4_2)\n",
    "    i_L_54_2 = i_L_54_1 + ( h * invL) * (e_45_2 - x5_2)\n",
    "    i_L_46_2 = i_L_46_1 + ( h * invL) * (e_46_2 - x4_2)\n",
    "    \n",
    "    # energy of two inductors on each net is twice the energy on one inductor\n",
    "    E_1 = gamma * ((e_12_1 - x_star)**2 + (e_13_1 - x_star)**2 + (e_23_1 - x_star)**2 + (e_24_1 - x_star)**2\\\n",
    "                   + (e_34_1 - x_star)**2 + (e_46_1 - x_star)**2) +  \\\n",
    "            + L * (i_L_12_1 - y1_12_star) ** 2 + L * (i_L_13_1 - y1_13_star) ** 2 \\\n",
    "            + L * (i_L_23_1 - y2_23_star) ** 2 + L * (i_L_24_1 - y2_24_star) ** 2 \\\n",
    "            + L * (i_L_34_1 - y3_34_star) ** 2 \\\n",
    "            + (L/2) * (i_L_45_1 + y5_star) ** 2 + (L/2) * (i_L_54_1 - y5_star) ** 2 \\\n",
    "            + L * (i_L_46_1 + y6_star) ** 2 \\\n",
    "            + (C / 2) * (e_45_1 - x_star) ** 2\n",
    "    E_2 = gamma * ((e_12_2 - x_star)**2 + (e_13_2 - x_star)**2 + (e_23_2 - x_star)**2 + (e_24_2 - x_star)**2\\\n",
    "                   + (e_34_2 - x_star)**2 + (e_46_2 - x_star)**2) +  \\\n",
    "            + L * (i_L_12_2 - y1_12_star) ** 2 + L * (i_L_13_2 - y1_13_star) ** 2 \\\n",
    "            + L * (i_L_23_2 - y2_23_star) ** 2 + L * (i_L_24_2 - y2_24_star) ** 2 \\\n",
    "            + L * (i_L_34_2 - y3_34_star) ** 2 \\\n",
    "            + (L/2) * (i_L_45_2 + y5_star) ** 2 + (L/2) * (i_L_54_2 - y5_star) ** 2 \\\n",
    "            + L * (i_L_46_2 + y6_star) ** 2 \\\n",
    "            + (C / 2) * (e_45_2 - x_star) ** 2\n",
    "    # currents on resistors on each net sum to 0\n",
    "    Delta_2 = rho * ((2*invR) * ((e_12_2 - x1_2)**2 + (e_13_2 - x3_2)**2 \\\n",
    "                         + (e_23_2 - x2_2)**2 + (e_24_2 - x2_2)**2 \\\n",
    "                         + (e_34_2 - x4_2)**2  + (e_46_2 - x6_2)**2 )  \\\n",
    "                    + (1*invR) * ((e_45_2 - x5_2)**2 + (e_45_2 - x4_2)**2)) \\\n",
    "              + eta * ( f1_2 - f1_star - y1_star * (x1_2 - x_star) \\\n",
    "                    + f2_2 - f2_star - y2_star * (x2_2 - x_star) \\\n",
    "                    + f3_2 - f3_star - y3_star * (x3_2 - x_star) \\\n",
    "                    + f4_2 - f4_star - y4_star * (x4_2 - x_star) \\\n",
    "                    + f5_2 - f5_star - y5_star * (x5_2 - x_star) \\\n",
    "                    + f6_2 - f6_star - y6_star * (x6_2 - x_star))\n",
    "\n",
    "    problem.set_performance_metric(E_2 - (E_1 - Delta_2))\n",
    "    return problem\n"
   ]
  },
  {
   "cell_type": "code",
   "execution_count": 4,
   "metadata": {},
   "outputs": [
    {
     "name": "stdout",
     "output_type": "stream",
     "text": [
      "mu=[0.0, 2], L_smooth=[100, 100], R=0.8, C=15, L=2, solver='ipopt'\n"
     ]
    }
   ],
   "source": [
    "print(f\"{mu=}, {L_smooth=}, {R=}, {C=}, {L=}, {solver=}\")"
   ]
  },
  {
   "cell_type": "code",
   "execution_count": 5,
   "metadata": {},
   "outputs": [
    {
     "name": "stdout",
     "output_type": "stream",
     "text": [
      "dim_G=29, dim_F=12\n",
      "Ipopt total # of variables = 1011\n",
      "Actual # of variables = 474\n"
     ]
    }
   ],
   "source": [
    "problem = dadmm_C_graph6( mu, L_smooth)\n",
    "problem.obj = problem.eta + problem.rho * 0.1\n",
    "\n",
    "bounds = {\"C\":{\"ub\": 20, \"lb\":12},\n",
    "          \"R\":{\"ub\": 0.9, \"lb\":0.5},\n",
    "          \"L\":{\"ub\": 3, \"lb\":1}}\n",
    "\n",
    "res, sol = problem.solve(solver=solver, extra_dim=530, bounds=bounds, verbose=False)[:2]"
   ]
  },
  {
   "cell_type": "code",
   "execution_count": 6,
   "metadata": {},
   "outputs": [
    {
     "data": {
      "text/plain": [
       "{'C': 20.000000185323408,\n",
       " 'L': 3.000000027632129,\n",
       " 'R': 0.5006518814170846,\n",
       " 'eta': 5.8946161576573015,\n",
       " 'gamma': 11.263722454630313,\n",
       " 'h': 5.407711160894115,\n",
       " 'invC': 0.049999999536691736,\n",
       " 'invL': 0.3333333302630969,\n",
       " 'invR': 1.9973958695002236,\n",
       " 'rho': -7.808308896867274e-09}"
      ]
     },
     "execution_count": 6,
     "metadata": {},
     "output_type": "execute_result"
    }
   ],
   "source": [
    "res"
   ]
  },
  {
   "cell_type": "code",
   "execution_count": 7,
   "metadata": {},
   "outputs": [],
   "source": [
    "# {'C': 18.00000016422373,\n",
    "#  'L': 3.0000000272145817,\n",
    "#  'R': 0.5432001487867559,\n",
    "#  'eta': 5.586517803570342,\n",
    "#  'gamma': 9.851337233500212,\n",
    "#  'h': 5.141722689015985,\n",
    "#  'invC': 0.05555555504869218,\n",
    "#  'invL': 0.3333333303094909,\n",
    "#  'invR': 1.8409420583435165,\n",
    "#  'rho': 9.279396912061786e-09}\n",
    "\n",
    "# {'C': 18.00000017205779,\n",
    "#  'L': 2.0000000000021845,\n",
    "#  'R': 0.49999999082527685,\n",
    "#  'eta': 4.553025144693309,\n",
    "#  'gamma': 8.722547253422393,\n",
    "#  'h': 4.198902827245454,\n",
    "#  'invC': 0.055555555024513016,\n",
    "#  'invL': 0.4999999999999984,\n",
    "#  'invR': 2.000000036698893,\n",
    "#  'rho': -3.066024650469293e-09}\n",
    "\n",
    "\n",
    "# {'C': 15.000000143594386,\n",
    "#  'L': 2.0,\n",
    "#  'R': 0.49999999367453674,\n",
    "#  'eta': 4.174822294507111,\n",
    "#  'gamma': 7.986324661697676,\n",
    "#  'h': 3.8366031716977202,\n",
    "#  'invC': 0.06666666602846939,\n",
    "#  'invL': 0.5,\n",
    "#  'invR': 2.0000000253018535,\n",
    "#  'rho': -3.3691535584123036e-09}\n",
    "\n",
    "# {'C': 18.00000016252312,\n",
    "#  'L': 2.0000000000000013,\n",
    "#  'R': 0.7999999999999993,\n",
    "#  'eta': 3.882325611200754,\n",
    "#  'gamma': 4.700910522843513,\n",
    "#  'h': 3.6976844281294214,\n",
    "#  'invC': 0.05555555505394075,\n",
    "#  'invL': 0.4999999999999997,\n",
    "#  'invR': 1.2500000000000038,\n",
    "#  'rho': 1.7494454375448952e-09}"
   ]
  },
  {
   "cell_type": "code",
   "execution_count": 8,
   "metadata": {},
   "outputs": [
    {
     "data": {
      "text/plain": [
       "0.06666666666666667"
      ]
     },
     "execution_count": 8,
     "metadata": {},
     "output_type": "execute_result"
    }
   ],
   "source": [
    "1/15"
   ]
  },
  {
   "cell_type": "markdown",
   "metadata": {},
   "source": [
    "# PEP verification"
   ]
  },
  {
   "cell_type": "code",
   "execution_count": 9,
   "metadata": {},
   "outputs": [],
   "source": [
    "res[\"rho\"] = 0"
   ]
  },
  {
   "cell_type": "code",
   "execution_count": 10,
   "metadata": {},
   "outputs": [
    {
     "name": "stdout",
     "output_type": "stream",
     "text": [
      "diff=-1.0897382649033283e-09\n"
     ]
    }
   ],
   "source": [
    "problem = dadmm_C_graph6( mu, L_smooth, params=res)\n",
    "diff = problem.solve(verbose=0, solver=cp.MOSEK)\n",
    "print(f\"{diff=}\")"
   ]
  },
  {
   "cell_type": "code",
   "execution_count": null,
   "metadata": {},
   "outputs": [],
   "source": []
  }
 ],
 "metadata": {
  "kernelspec": {
   "display_name": "osbdo",
   "language": "python",
   "name": "python3"
  },
  "language_info": {
   "codemirror_mode": {
    "name": "ipython",
    "version": 3
   },
   "file_extension": ".py",
   "mimetype": "text/x-python",
   "name": "python",
   "nbconvert_exporter": "python",
   "pygments_lexer": "ipython3",
   "version": "3.10.13"
  }
 },
 "nbformat": 4,
 "nbformat_minor": 2
}
