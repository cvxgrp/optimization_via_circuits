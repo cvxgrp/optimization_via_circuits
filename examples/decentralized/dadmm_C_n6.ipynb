{
 "cells": [
  {
   "cell_type": "code",
   "execution_count": 1,
   "metadata": {},
   "outputs": [],
   "source": [
    "import ciropt as co\n",
    "import cvxpy as cp"
   ]
  },
  {
   "cell_type": "code",
   "execution_count": 2,
   "metadata": {},
   "outputs": [],
   "source": [
    "# R = 0.8\n",
    "# L_smooth = [100, 100]\n",
    "# mu = [0., 2]\n",
    "\n",
    "\n",
    "# Inductance = 2\n",
    "# Capacitance = 15\n",
    "\n",
    "\n",
    "R = 0.8\n",
    "L_smooth = [100, 100]\n",
    "mu = [0., 2]\n",
    "\n",
    "\n",
    "Inductance = 2\n",
    "Capacitance = 15\n",
    "\n",
    "solver = \"ipopt\"\n",
    "# solver = \"ipopt_qcqp\"\n",
    "# solver = \"ipopt_qcqp_matrix\""
   ]
  },
  {
   "cell_type": "markdown",
   "metadata": {},
   "source": [
    "# Ciropt problem"
   ]
  },
  {
   "cell_type": "code",
   "execution_count": 3,
   "metadata": {},
   "outputs": [
    {
     "name": "stdout",
     "output_type": "stream",
     "text": [
      "mu=[0.0, 2], L_smooth=[100, 100], R=0.8, Capacitance=15, Inductance=2, solver='ipopt'\n"
     ]
    }
   ],
   "source": [
    "print(f\"{mu=}, {L_smooth=}, {R=}, {Capacitance=}, {Inductance=}, {solver=}\")"
   ]
  },
  {
   "cell_type": "code",
   "execution_count": 4,
   "metadata": {},
   "outputs": [
    {
     "name": "stdout",
     "output_type": "stream",
     "text": [
      "dim_G=29, dim_F=12\n",
      "Ipopt total # of variables = 879\n",
      "Actual # of variables = 468\n"
     ]
    }
   ],
   "source": [
    "problem = co.dadmm_C_graph6( mu, L_smooth, R, Capacitance, Inductance)\n",
    "problem.obj = problem.b + problem.d * 0.1\n",
    "\n",
    "res, sol = problem.solve(solver=solver, extra_dim=530, verbose=False)[:2]"
   ]
  },
  {
   "cell_type": "code",
   "execution_count": 5,
   "metadata": {},
   "outputs": [
    {
     "data": {
      "text/plain": [
       "{'b': 3.703257924901173,\n",
       " 'h': 3.51541700023903,\n",
       " 'd': -9.074931384412127e-09,\n",
       " 'gamma': 4.477637928374076}"
      ]
     },
     "execution_count": 5,
     "metadata": {},
     "output_type": "execute_result"
    }
   ],
   "source": [
    "res"
   ]
  },
  {
   "cell_type": "markdown",
   "metadata": {},
   "source": [
    "# PEP verification"
   ]
  },
  {
   "cell_type": "code",
   "execution_count": 6,
   "metadata": {},
   "outputs": [],
   "source": [
    "# res[\"b\"] = 1.\n",
    "res[\"d\"] = 0"
   ]
  },
  {
   "cell_type": "code",
   "execution_count": 7,
   "metadata": {},
   "outputs": [
    {
     "name": "stdout",
     "output_type": "stream",
     "text": [
      "diff=6.3147602849880635e-09\n"
     ]
    }
   ],
   "source": [
    "problem = co.dadmm_C_graph6( mu, L_smooth, R, Capacitance, Inductance, params=res)\n",
    "diff = problem.solve(verbose=0, solver=cp.MOSEK)\n",
    "print(f\"{diff=}\")"
   ]
  }
 ],
 "metadata": {
  "kernelspec": {
   "display_name": "osbdo",
   "language": "python",
   "name": "python3"
  },
  "language_info": {
   "codemirror_mode": {
    "name": "ipython",
    "version": 3
   },
   "file_extension": ".py",
   "mimetype": "text/x-python",
   "name": "python",
   "nbconvert_exporter": "python",
   "pygments_lexer": "ipython3",
   "version": "3.10.13"
  }
 },
 "nbformat": 4,
 "nbformat_minor": 2
}
