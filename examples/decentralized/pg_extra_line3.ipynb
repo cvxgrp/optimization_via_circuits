{
 "cells": [
  {
   "cell_type": "code",
   "execution_count": 1,
   "metadata": {},
   "outputs": [],
   "source": [
    "import ciropt as co\n",
    "import cvxpy as cp"
   ]
  },
  {
   "cell_type": "code",
   "execution_count": 2,
   "metadata": {},
   "outputs": [],
   "source": [
    "import numpy as np"
   ]
  },
  {
   "cell_type": "code",
   "execution_count": 3,
   "metadata": {},
   "outputs": [],
   "source": [
    "L_smooth_h = 0.1\n",
    "L_smooth_f = 10\n",
    "mu = 0\n",
    "\n",
    "R = 1\n",
    "\n",
    "W = np.array([\n",
    "    [1/3, 2/3, 0],\n",
    "    [2/3, 1/6, 1/6],\n",
    "    [0, 1/6, 5/6]\n",
    "])\n",
    "\n",
    "\n",
    "solver = \"ipopt\"\n",
    "# solver = \"ipopt_qcqp\"\n",
    "# solver = \"ipopt_qcqp_matrix\""
   ]
  },
  {
   "cell_type": "markdown",
   "metadata": {},
   "source": [
    "# Ciropt problem"
   ]
  },
  {
   "cell_type": "code",
   "execution_count": 4,
   "metadata": {},
   "outputs": [
    {
     "name": "stdout",
     "output_type": "stream",
     "text": [
      "dim_G=20, dim_F=15\n",
      "Ipopt total # of variables = 448\n",
      "Actual # of variables = 257\n",
      "0.5470025750964042\n"
     ]
    }
   ],
   "source": [
    "problem = co.pg_extra_l3(mu, L_smooth_h, L_smooth_f, R, W)\n",
    "problem.obj = problem.b + problem.d/2\n",
    "\n",
    "bounds = {  \n",
    "            'd': {\"ub\": 100, \"lb\": 1e-4},\n",
    "            'b': {\"ub\": 100, \"lb\": 1e-4},\n",
    "            'h': {\"ub\": 100, \"lb\": 1e-4},\n",
    "            'gamma': {\"ub\": 100, \"lb\": 1e-4},\n",
    "            'alpha': {\"ub\": 1, \"lb\": 1},\n",
    "            'beta': {\"ub\": 0, \"lb\": 0},\n",
    "            }\n",
    "\n",
    "res, sol = problem.solve(solver=solver, bounds=bounds, verbose=False)[:2]\n",
    "\n",
    "vars = problem.vars\n",
    "print(res['b'])"
   ]
  },
  {
   "cell_type": "code",
   "execution_count": 5,
   "metadata": {},
   "outputs": [
    {
     "data": {
      "text/plain": [
       "{'b': 0.5470025750964042,\n",
       " 'h': 0.547002585538837,\n",
       " 'd': 0.3952163000518784,\n",
       " 'alpha': 0.999999999999996,\n",
       " 'beta': 1.3650584307365143e-14,\n",
       " 'gamma': 0.27349932069498545}"
      ]
     },
     "execution_count": 5,
     "metadata": {},
     "output_type": "execute_result"
    }
   ],
   "source": [
    "res"
   ]
  },
  {
   "cell_type": "markdown",
   "metadata": {},
   "source": [
    "# PEP verification"
   ]
  },
  {
   "cell_type": "code",
   "execution_count": 6,
   "metadata": {},
   "outputs": [
    {
     "name": "stdout",
     "output_type": "stream",
     "text": [
      "diff=-3.380315229334699e-09\n"
     ]
    }
   ],
   "source": [
    "problem = co.pg_extra_l3(mu, L_smooth_h, L_smooth_f, R, W, params=res)\n",
    "diff = problem.solve(verbose=0, solver=cp.MOSEK)\n",
    "print(f\"{diff=}\")"
   ]
  }
 ],
 "metadata": {
  "kernelspec": {
   "display_name": "osbdo",
   "language": "python",
   "name": "python3"
  },
  "language_info": {
   "codemirror_mode": {
    "name": "ipython",
    "version": 3
   },
   "file_extension": ".py",
   "mimetype": "text/x-python",
   "name": "python",
   "nbconvert_exporter": "python",
   "pygments_lexer": "ipython3",
   "version": "3.10.13"
  }
 },
 "nbformat": 4,
 "nbformat_minor": 2
}
