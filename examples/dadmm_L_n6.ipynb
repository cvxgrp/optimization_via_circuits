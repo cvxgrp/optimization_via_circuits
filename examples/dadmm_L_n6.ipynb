{
 "cells": [
  {
   "cell_type": "code",
   "execution_count": 1,
   "metadata": {},
   "outputs": [],
   "source": [
    "import ciropt as co\n",
    "import cvxpy as cp"
   ]
  },
  {
   "cell_type": "code",
   "execution_count": 2,
   "metadata": {},
   "outputs": [],
   "source": [
    "import numpy as np"
   ]
  },
  {
   "cell_type": "code",
   "execution_count": 3,
   "metadata": {},
   "outputs": [],
   "source": [
    "L_smooth = 1. #np.inf\n",
    "mu = 0.\n",
    "\n",
    "\n",
    "Inductance = 10\n",
    "L_extra = 15\n",
    "R = 18\n",
    "\n",
    "solver = \"ipopt\"\n",
    "# solver = \"ipopt_qcqp\"\n",
    "# solver = \"ipopt_qcqp_matrix\""
   ]
  },
  {
   "cell_type": "markdown",
   "metadata": {},
   "source": [
    "# Ciropt problem"
   ]
  },
  {
   "cell_type": "code",
   "execution_count": 4,
   "metadata": {},
   "outputs": [
    {
     "name": "stdout",
     "output_type": "stream",
     "text": [
      "dim_G=30, dim_F=12\n",
      "Ipopt total # of variables = 934\n",
      "Actual # of variables = 498\n",
      "0.4837995662921906\n"
     ]
    }
   ],
   "source": [
    "problem = co.dadmm_L_graph6( mu, L_smooth, R, L_extra, Inductance)\n",
    "problem.obj = problem.b + problem.d \n",
    "\n",
    "bounds = {  # 'd': {\"ub\": 100, \"lb\": 1e-4},\n",
    "            # 'b': {\"ub\": 100, \"lb\": 1e-4},\n",
    "            # 'h': {\"ub\": 100, \"lb\": 1e-4},\n",
    "            # 'gamma': {\"ub\": 10, \"lb\": 1e-5}\n",
    "            }\n",
    "\n",
    "# res, sol = problem.solve(solver=solver, bounds=bounds, extra_dim=530, verbose=True)[:2]\n",
    "res, sol = problem.solve(solver=solver, extra_dim=530, verbose=False)[:2]\n",
    "\n",
    "ca_vars = problem.vars\n",
    "print(res[\"b\"])"
   ]
  },
  {
   "cell_type": "code",
   "execution_count": 5,
   "metadata": {},
   "outputs": [
    {
     "data": {
      "text/plain": [
       "{'b': 0.4837995662921906,\n",
       " 'h': 0.4689115339931859,\n",
       " 'd': 4.234428107913778e-08,\n",
       " 'gamma': 0.026877566621706844}"
      ]
     },
     "execution_count": 5,
     "metadata": {},
     "output_type": "execute_result"
    }
   ],
   "source": [
    "res"
   ]
  },
  {
   "cell_type": "code",
   "execution_count": 6,
   "metadata": {},
   "outputs": [],
   "source": [
    "# L=15; M=2\n",
    "# {'b': 0.4800638818197505,\n",
    "#  'h': 0.47240544313814353,\n",
    "#  'd': 1.927584994859738e-07,\n",
    "#  'alpha': 0.0,\n",
    "#  'beta': 0.0,\n",
    "#  'gamma': 0.02667021594303267,\n",
    "#  'delta': 0.0}\n",
    "\n",
    "# L=1\n",
    "# {'b': 0.05375768242961878,\n",
    "#  'h': 0.0520951144895247,\n",
    "#  'd': 4.2071271912574144e-08,\n",
    "#  'gamma': 0.002986538205365809}\n",
    "\n",
    "# L2=1, M=2\n",
    "# {'b': 0.05334185413836188,\n",
    "#  'h': 0.05248667876738224,\n",
    "#  'd': 9.223714753125689e-08,\n",
    "#  'gamma': 0.0029634366274456734}\n",
    "\n",
    "# L2 = 10\n",
    "# {'b': 0.37629416889886336,\n",
    "#  'h': 0.36469384329156657,\n",
    "#  'd': 4.22482216887075e-08,\n",
    "#  'gamma': 0.020904846891891114}\n",
    "\n",
    "# L2 = 5\n",
    "# {'b': 0.22623770454309822,\n",
    "#  'h': 0.21908905666906447,\n",
    "#  'd': 4.279655423615889e-08,\n",
    "#  'gamma': 0.012220412035638957}"
   ]
  },
  {
   "cell_type": "markdown",
   "metadata": {},
   "source": [
    "# PEP verification"
   ]
  },
  {
   "cell_type": "code",
   "execution_count": 7,
   "metadata": {},
   "outputs": [],
   "source": [
    "# res[\"b\"] = 0.37705843942487743\n",
    "res[\"d\"] = 0"
   ]
  },
  {
   "cell_type": "code",
   "execution_count": 8,
   "metadata": {},
   "outputs": [
    {
     "name": "stdout",
     "output_type": "stream",
     "text": [
      "diff=-2.5437255119116486e-09\n"
     ]
    }
   ],
   "source": [
    "problem = co.dadmm_L_graph6( mu, L_smooth, R, L_extra, Inductance, params=res)\n",
    "diff = problem.solve(verbose=0, solver=cp.MOSEK)\n",
    "print(f\"{diff=}\")"
   ]
  }
 ],
 "metadata": {
  "kernelspec": {
   "display_name": "osbdo",
   "language": "python",
   "name": "python3"
  },
  "language_info": {
   "codemirror_mode": {
    "name": "ipython",
    "version": 3
   },
   "file_extension": ".py",
   "mimetype": "text/x-python",
   "name": "python",
   "nbconvert_exporter": "python",
   "pygments_lexer": "ipython3",
   "version": "3.10.13"
  }
 },
 "nbformat": 4,
 "nbformat_minor": 2
}
