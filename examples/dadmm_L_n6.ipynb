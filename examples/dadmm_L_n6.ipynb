{
 "cells": [
  {
   "cell_type": "code",
   "execution_count": 1,
   "metadata": {},
   "outputs": [],
   "source": [
    "import ciropt as co\n",
    "import cvxpy as cp"
   ]
  },
  {
   "cell_type": "code",
   "execution_count": 2,
   "metadata": {},
   "outputs": [],
   "source": [
    "import numpy as np"
   ]
  },
  {
   "cell_type": "code",
   "execution_count": 3,
   "metadata": {},
   "outputs": [],
   "source": [
    "L_smooth = 1.#np.inf\n",
    "mu = 0.001\n",
    "\n",
    "\n",
    "Inductance = 10\n",
    "R_extra = 5\n",
    "R = 18\n",
    "\n",
    "solver = \"ipopt\"\n",
    "# solver = \"ipopt_qcqp\"\n",
    "# solver = \"ipopt_qcqp_matrix\""
   ]
  },
  {
   "cell_type": "markdown",
   "metadata": {},
   "source": [
    "# Ciropt problem"
   ]
  },
  {
   "cell_type": "code",
   "execution_count": 4,
   "metadata": {},
   "outputs": [
    {
     "name": "stdout",
     "output_type": "stream",
     "text": [
      "dim_G=29, dim_F=12\n",
      "Ipopt total # of variables = 876\n",
      "Actual # of variables = 469\n",
      "1.1462445877263832\n"
     ]
    }
   ],
   "source": [
    "problem = co.dadmm_R_graph6( mu, L_smooth, R, R_extra, Inductance)\n",
    "problem.obj = problem.b + problem.d \n",
    "\n",
    "bounds = {  # 'd': {\"ub\": 100, \"lb\": 1e-4},\n",
    "            # 'b': {\"ub\": 100, \"lb\": 1e-4},\n",
    "            # 'h': {\"ub\": 100, \"lb\": 1e-4},\n",
    "            # 'gamma': {\"ub\": 10, \"lb\": 1e-5}\n",
    "            }\n",
    "\n",
    "# res, sol = problem.solve(solver=solver, bounds=bounds, extra_dim=530, verbose=True)[:2]\n",
    "res, sol = problem.solve(solver=solver, extra_dim=530, verbose=False)[:2]\n",
    "\n",
    "ca_vars = problem.vars\n",
    "print(res[\"b\"])"
   ]
  },
  {
   "cell_type": "code",
   "execution_count": 5,
   "metadata": {},
   "outputs": [
    {
     "data": {
      "text/plain": [
       "{'b': 1.1462445877263832,\n",
       " 'h': 1.1111053454604403,\n",
       " 'd': 6.922524840404317e-08,\n",
       " 'gamma': 0.0617294008513494}"
      ]
     },
     "execution_count": 5,
     "metadata": {},
     "output_type": "execute_result"
    }
   ],
   "source": [
    "res"
   ]
  },
  {
   "cell_type": "markdown",
   "metadata": {},
   "source": [
    "# PEP verification"
   ]
  },
  {
   "cell_type": "code",
   "execution_count": 10,
   "metadata": {},
   "outputs": [],
   "source": [
    "res[\"b\"] = 1.\n",
    "res[\"d\"] = 0"
   ]
  },
  {
   "cell_type": "code",
   "execution_count": 11,
   "metadata": {},
   "outputs": [
    {
     "name": "stdout",
     "output_type": "stream",
     "text": [
      "diff=8.329292117137399e-11\n"
     ]
    }
   ],
   "source": [
    "problem = co.dadmm_R_graph6( mu, L_smooth, R, R_extra, Inductance, params=res)\n",
    "diff = problem.solve(verbose=0, solver=cp.MOSEK)\n",
    "print(f\"{diff=}\")"
   ]
  },
  {
   "cell_type": "code",
   "execution_count": null,
   "metadata": {},
   "outputs": [],
   "source": []
  }
 ],
 "metadata": {
  "kernelspec": {
   "display_name": "osbdo",
   "language": "python",
   "name": "python3"
  },
  "language_info": {
   "codemirror_mode": {
    "name": "ipython",
    "version": 3
   },
   "file_extension": ".py",
   "mimetype": "text/x-python",
   "name": "python",
   "nbconvert_exporter": "python",
   "pygments_lexer": "ipython3",
   "version": "3.10.13"
  }
 },
 "nbformat": 4,
 "nbformat_minor": 2
}
