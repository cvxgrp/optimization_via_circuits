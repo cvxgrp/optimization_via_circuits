{
 "cells": [
  {
   "cell_type": "code",
   "execution_count": 1,
   "metadata": {},
   "outputs": [],
   "source": [
    "import ciropt as co\n",
    "import cvxpy as cp"
   ]
  },
  {
   "cell_type": "code",
   "execution_count": 2,
   "metadata": {},
   "outputs": [],
   "source": [
    "import numpy as np"
   ]
  },
  {
   "cell_type": "code",
   "execution_count": 3,
   "metadata": {},
   "outputs": [],
   "source": [
    "L_smooth = 1 #np.inf\n",
    "mu = 0.001 #0.01\n",
    "\n",
    "Inductance = 2\n",
    "R = 1\n",
    "\n",
    "# solver = \"ipopt\"\n",
    "solver = \"ipopt_qcqp\"\n",
    "# solver = \"ipopt_qcqp_matrix\"\n",
    "# solver = \"cvx_dccp\"\n",
    "# solver = \"qcqp_sni\"\n",
    "# solver = \"bisection_b\""
   ]
  },
  {
   "cell_type": "markdown",
   "metadata": {},
   "source": [
    "# Ciropt problem"
   ]
  },
  {
   "cell_type": "code",
   "execution_count": 4,
   "metadata": {},
   "outputs": [
    {
     "name": "stdout",
     "output_type": "stream",
     "text": [
      "dim_G=14, dim_F=9\n",
      "Ipopt total # of variables = 328\n",
      "Actual # of variables = 178\n"
     ]
    }
   ],
   "source": [
    "problem = co.decentralized_admm_consensus_l3( mu, L_smooth, R, Inductance)\n",
    "problem.obj = problem.b + problem.d / 2\n",
    "\n",
    "bounds = {  \n",
    "            'd': {\"ub\": 100, \"lb\": 1e-4},\n",
    "            'b': {\"ub\": 100, \"lb\": 1e-4},\n",
    "            'h': {\"ub\": 100, \"lb\": 1e-4},\n",
    "            'gamma': {\"ub\": 100, \"lb\": 1e-4},\n",
    "            'alpha': {\"ub\": 1, \"lb\": 1},\n",
    "            'beta': {\"ub\": 0, \"lb\": 0},\n",
    "            }\n",
    "\n",
    "res, sol = problem.solve(solver=solver, bounds=bounds, verbose=False)[:2]\n",
    "\n",
    "ca_vars = problem.vars"
   ]
  },
  {
   "cell_type": "code",
   "execution_count": 5,
   "metadata": {},
   "outputs": [
    {
     "data": {
      "text/plain": [
       "{'b': 4.86810474749296,\n",
       " 'h': 1.993958117189794,\n",
       " 'd': 9.999601250475152e-05,\n",
       " 'alpha': 0.9999999906096083,\n",
       " 'beta': 9.494212389762613e-09,\n",
       " 'gamma': 2.3224125383564993,\n",
       " 'delta': 0.0}"
      ]
     },
     "execution_count": 5,
     "metadata": {},
     "output_type": "execute_result"
    }
   ],
   "source": [
    "res"
   ]
  },
  {
   "cell_type": "markdown",
   "metadata": {},
   "source": [
    "# PEP verification"
   ]
  },
  {
   "cell_type": "code",
   "execution_count": 6,
   "metadata": {},
   "outputs": [],
   "source": [
    "res['b'] = 4"
   ]
  },
  {
   "cell_type": "code",
   "execution_count": 7,
   "metadata": {},
   "outputs": [
    {
     "name": "stdout",
     "output_type": "stream",
     "text": [
      "diff=-1.1060078804858541e-11\n"
     ]
    }
   ],
   "source": [
    "problem = co.decentralized_admm_consensus_l3( mu, L_smooth, R, Inductance, params=res)\n",
    "diff = problem.solve(verbose=0, solver=cp.MOSEK)\n",
    "print(f\"{diff=}\")"
   ]
  }
 ],
 "metadata": {
  "kernelspec": {
   "display_name": "osbdo",
   "language": "python",
   "name": "python3"
  },
  "language_info": {
   "codemirror_mode": {
    "name": "ipython",
    "version": 3
   },
   "file_extension": ".py",
   "mimetype": "text/x-python",
   "name": "python",
   "nbconvert_exporter": "python",
   "pygments_lexer": "ipython3",
   "version": "3.10.13"
  }
 },
 "nbformat": 4,
 "nbformat_minor": 2
}
