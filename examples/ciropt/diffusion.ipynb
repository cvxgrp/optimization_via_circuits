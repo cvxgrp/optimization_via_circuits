{
 "cells": [
  {
   "cell_type": "code",
   "execution_count": 1,
   "metadata": {},
   "outputs": [],
   "source": [
    "import ciropt as co\n",
    "import cvxpy as cp\n",
    "\n",
    "import numpy as np"
   ]
  },
  {
   "cell_type": "code",
   "execution_count": 2,
   "metadata": {},
   "outputs": [],
   "source": [
    "L_smooth = 1.\n",
    "mu = 0.001\n",
    "\n",
    "Capacitance = 0.05\n",
    "R = 0.9 / L_smooth\n",
    "\n",
    "# solver = \"ipopt\"\n",
    "solver = \"ipopt_qcqp\"\n",
    "# solver = \"ipopt_qcqp_matrix\"\n",
    "# solver = \"qcqp_sni\"\n",
    "# solver = \"bisection_b\""
   ]
  },
  {
   "cell_type": "code",
   "execution_count": 7,
   "metadata": {},
   "outputs": [
    {
     "name": "stdout",
     "output_type": "stream",
     "text": [
      "dim_G=15, dim_F=9\n",
      "Ipopt total # of variables = 300\n",
      "Actual # of variables = 150\n"
     ]
    }
   ],
   "source": [
    "problem = co.diffusion_line3(mu, L_smooth, R, Capacitance)\n",
    "problem.obj = problem.b + problem.d / 30\n",
    "\n",
    "# bounds = {  'd': {\"ub\": 100, \"lb\": 1e-4},\n",
    "#             'b': {\"ub\": 100, \"lb\": 1e-4},\n",
    "#             'h': {\"ub\": 100, \"lb\": 1e-4},\n",
    "#             'gamma': {\"ub\": 1000, \"lb\": 1e-4},\n",
    "#             }\n",
    "# res, sol = problem.solve(solver=solver, bounds=bounds, verbose=False)[:2]\n",
    "\n",
    "res, sol = problem.solve(solver=solver, verbose=False)[:2]"
   ]
  },
  {
   "cell_type": "code",
   "execution_count": 8,
   "metadata": {},
   "outputs": [
    {
     "data": {
      "text/plain": [
       "{'b': 0.0011844773870237277,\n",
       " 'h': 0.04490616987404401,\n",
       " 'd': 0.0033673656951391084,\n",
       " 'alpha': 0.0,\n",
       " 'beta': 0.0,\n",
       " 'gamma': 44.7033752035796,\n",
       " 'delta': 0.0}"
      ]
     },
     "execution_count": 8,
     "metadata": {},
     "output_type": "execute_result"
    }
   ],
   "source": [
    "res"
   ]
  },
  {
   "cell_type": "markdown",
   "metadata": {},
   "source": [
    "# PEP verification"
   ]
  },
  {
   "cell_type": "code",
   "execution_count": 16,
   "metadata": {},
   "outputs": [],
   "source": [
    "res[\"b\"] = 0.001\n",
    "res[\"d\"] = 0.001"
   ]
  },
  {
   "cell_type": "code",
   "execution_count": 17,
   "metadata": {},
   "outputs": [
    {
     "name": "stdout",
     "output_type": "stream",
     "text": [
      "diff=2.6535255926146e-11\n"
     ]
    }
   ],
   "source": [
    "problem = co.diffusion_line3(mu, L_smooth, R, Capacitance, params=res)\n",
    "diff = problem.solve(verbose=0, solver=cp.MOSEK)\n",
    "print(f\"{diff=}\")"
   ]
  }
 ],
 "metadata": {
  "kernelspec": {
   "display_name": "osbdo",
   "language": "python",
   "name": "python3"
  },
  "language_info": {
   "codemirror_mode": {
    "name": "ipython",
    "version": 3
   },
   "file_extension": ".py",
   "mimetype": "text/x-python",
   "name": "python",
   "nbconvert_exporter": "python",
   "pygments_lexer": "ipython3",
   "version": "3.10.13"
  }
 },
 "nbformat": 4,
 "nbformat_minor": 2
}
