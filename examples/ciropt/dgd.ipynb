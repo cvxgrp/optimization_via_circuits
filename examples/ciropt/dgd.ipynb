{
 "cells": [
  {
   "cell_type": "code",
   "execution_count": 1,
   "metadata": {},
   "outputs": [],
   "source": [
    "import ciropt as co\n",
    "import cvxpy as cp\n",
    "\n",
    "import numpy as np"
   ]
  },
  {
   "cell_type": "code",
   "execution_count": 2,
   "metadata": {},
   "outputs": [],
   "source": [
    "L_smooth = 1.\n",
    "mu = 0.01\n",
    "\n",
    "Capacitance = 2.\n",
    "R = 1.\n",
    "\n",
    "# solver = \"ipopt\"\n",
    "solver = \"ipopt_qcqp\"\n",
    "# solver = \"ipopt_qcqp_matrix\"\n",
    "# solver = \"qcqp_sni\"\n",
    "# solver = \"bisection_b\""
   ]
  },
  {
   "cell_type": "code",
   "execution_count": 3,
   "metadata": {},
   "outputs": [
    {
     "name": "stdout",
     "output_type": "stream",
     "text": [
      "dim_G=14, dim_F=10\n",
      "Ipopt total # of variables = 292\n",
      "Actual # of variables = 142\n"
     ]
    }
   ],
   "source": [
    "problem = co.decentralized_gradient_descent_line3(mu, L_smooth, R, Capacitance)\n",
    "problem.obj = problem.b + problem.d * 0.7\n",
    "\n",
    "bounds = {  'd': {\"ub\": 100, \"lb\": 1e-4},\n",
    "            'b': {\"ub\": 100, \"lb\": 1e-4},\n",
    "            'h': {\"ub\": 100, \"lb\": 1e-4},\n",
    "            'gamma': {\"ub\": 1000, \"lb\": 1e-4},\n",
    "            'alpha': {\"ub\": 100, \"lb\": -100},\n",
    "            'beta': {\"ub\": 100, \"lb\": -100},\n",
    "            }\n",
    "\n",
    "res, sol = problem.solve(solver=solver, bounds=bounds, verbose=False)[:2]\n",
    "# res, sol = problem.solve(solver=solver, verbose=False)[:2]\n",
    "# ca_vars = problem.vars "
   ]
  },
  {
   "cell_type": "code",
   "execution_count": 4,
   "metadata": {},
   "outputs": [
    {
     "data": {
      "text/plain": [
       "{'b': 0.11794382232416066,\n",
       " 'h': 0.6832853071216277,\n",
       " 'd': 1.2000447076214724,\n",
       " 'alpha': 0.0,\n",
       " 'beta': 0.0,\n",
       " 'gamma': 82.30289210615466,\n",
       " 'delta': 0.0}"
      ]
     },
     "execution_count": 4,
     "metadata": {},
     "output_type": "execute_result"
    }
   ],
   "source": [
    "res"
   ]
  },
  {
   "cell_type": "markdown",
   "metadata": {},
   "source": [
    "# PEP verification"
   ]
  },
  {
   "cell_type": "code",
   "execution_count": 6,
   "metadata": {},
   "outputs": [
    {
     "name": "stdout",
     "output_type": "stream",
     "text": [
      "diff=1.0004080897019207e-12\n"
     ]
    }
   ],
   "source": [
    "problem = co.decentralized_gradient_descent_line3(mu, L_smooth, R, Capacitance, params=res)\n",
    "diff = problem.solve(verbose=0, solver=cp.MOSEK)\n",
    "print(f\"{diff=}\")"
   ]
  }
 ],
 "metadata": {
  "kernelspec": {
   "display_name": "osbdo",
   "language": "python",
   "name": "python3"
  },
  "language_info": {
   "codemirror_mode": {
    "name": "ipython",
    "version": 3
   },
   "file_extension": ".py",
   "mimetype": "text/x-python",
   "name": "python",
   "nbconvert_exporter": "python",
   "pygments_lexer": "ipython3",
   "version": "3.10.13"
  }
 },
 "nbformat": 4,
 "nbformat_minor": 2
}
