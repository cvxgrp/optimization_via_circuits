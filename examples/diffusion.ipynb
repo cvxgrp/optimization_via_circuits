{
 "cells": [
  {
   "cell_type": "code",
   "execution_count": 1,
   "metadata": {},
   "outputs": [],
   "source": [
    "import ciropt as co\n",
    "import cvxpy as cp\n",
    "\n",
    "import numpy as np"
   ]
  },
  {
   "cell_type": "code",
   "execution_count": 2,
   "metadata": {},
   "outputs": [],
   "source": [
    "L_smooth = 1.\n",
    "mu = 0.01\n",
    "\n",
    "Capacitance = 0.1\n",
    "R = 0.9 / L_smooth\n",
    "\n",
    "solver = \"ipopt\"\n",
    "# solver = \"ipopt_qcqp\"\n",
    "# solver = \"ipopt_qcqp _matrix\"\n",
    "# solver = \"qcqp_sni\"\n",
    "# solver = \"bisection_b\""
   ]
  },
  {
   "cell_type": "code",
   "execution_count": 3,
   "metadata": {},
   "outputs": [
    {
     "ename": "AttributeError",
     "evalue": "module 'ciropt' has no attribute 'diffusion'",
     "output_type": "error",
     "traceback": [
      "\u001b[1;31m---------------------------------------------------------------------------\u001b[0m",
      "\u001b[1;31mAttributeError\u001b[0m                            Traceback (most recent call last)",
      "Cell \u001b[1;32mIn[3], line 1\u001b[0m\n\u001b[1;32m----> 1\u001b[0m problem \u001b[38;5;241m=\u001b[39m \u001b[43mco\u001b[49m\u001b[38;5;241;43m.\u001b[39;49m\u001b[43mdiffusion\u001b[49m(mu, L_smooth, R, Capacitance)\n\u001b[0;32m      2\u001b[0m problem\u001b[38;5;241m.\u001b[39mobj \u001b[38;5;241m=\u001b[39m problem\u001b[38;5;241m.\u001b[39mb \u001b[38;5;241m+\u001b[39m problem\u001b[38;5;241m.\u001b[39md \u001b[38;5;241m*\u001b[39m \u001b[38;5;241m0.5\u001b[39m\n\u001b[0;32m      4\u001b[0m \u001b[38;5;66;03m# bounds = { #'alpha': {\"ub\": 1, \"lb\": 1},\u001b[39;00m\n\u001b[0;32m      5\u001b[0m \u001b[38;5;66;03m#             #'beta': {\"ub\": 1, \"lb\": 1},\u001b[39;00m\n\u001b[0;32m      6\u001b[0m \u001b[38;5;66;03m#             'h': {\"ub\": 0.01, \"lb\": 0.0001},\u001b[39;00m\n\u001b[0;32m      7\u001b[0m \u001b[38;5;66;03m#             'b': {\"ub\": 0.5, \"lb\": 0.0001}, }\u001b[39;00m\n",
      "\u001b[1;31mAttributeError\u001b[0m: module 'ciropt' has no attribute 'diffusion'"
     ]
    }
   ],
   "source": [
    "problem = co.diffusion(mu, L_smooth, R, Capacitance)\n",
    "problem.obj = problem.b + problem.d * 0.5\n",
    "\n",
    "# bounds = { #'alpha': {\"ub\": 1, \"lb\": 1},\n",
    "#             #'beta': {\"ub\": 1, \"lb\": 1},\n",
    "#             'h': {\"ub\": 0.01, \"lb\": 0.0001},\n",
    "#             'b': {\"ub\": 0.5, \"lb\": 0.0001}, }\n",
    "res, sol = problem.solve(solver=solver, verbose=False)[:2]\n",
    "# ca_vars = problem.vars "
   ]
  },
  {
   "cell_type": "code",
   "execution_count": null,
   "metadata": {},
   "outputs": [],
   "source": [
    "res"
   ]
  },
  {
   "cell_type": "markdown",
   "metadata": {},
   "source": [
    "# PEP verification"
   ]
  },
  {
   "cell_type": "code",
   "execution_count": null,
   "metadata": {},
   "outputs": [],
   "source": [
    "# res[\"b\"] -= 0.06\n",
    "# assert res[\"b\"] >= 1e-2"
   ]
  },
  {
   "cell_type": "code",
   "execution_count": null,
   "metadata": {},
   "outputs": [],
   "source": [
    "problem = co.diffusion(mu, L_smooth, R, Capacitance, params=res)\n",
    "diff = problem.solve(verbose=0, solver=cp.MOSEK)\n",
    "print(f\"{diff=}\")"
   ]
  }
 ],
 "metadata": {
  "kernelspec": {
   "display_name": "osbdo",
   "language": "python",
   "name": "python3"
  },
  "language_info": {
   "codemirror_mode": {
    "name": "ipython",
    "version": 3
   },
   "file_extension": ".py",
   "mimetype": "text/x-python",
   "name": "python",
   "nbconvert_exporter": "python",
   "pygments_lexer": "ipython3",
   "version": "3.9.18"
  }
 },
 "nbformat": 4,
 "nbformat_minor": 2
}
