{
 "cells": [
  {
   "cell_type": "code",
   "execution_count": 1,
   "metadata": {},
   "outputs": [],
   "source": [
    "import ciropt as co\n",
    "import cvxpy as cp\n",
    "\n",
    "import numpy as np"
   ]
  },
  {
   "cell_type": "code",
   "execution_count": 2,
   "metadata": {},
   "outputs": [],
   "source": [
    "L_smooth = 1.\n",
    "mu = 0.1\n",
    "\n",
    "Capacitance = 0.05\n",
    "R = 0.9 / L_smooth\n",
    "\n",
    "# solver = \"ipopt\"\n",
    "solver = \"ipopt_qcqp\"\n",
    "# solver = \"ipopt_qcqp_matrix\"\n",
    "# solver = \"qcqp_sni\"\n",
    "# solver = \"bisection_b\""
   ]
  },
  {
   "cell_type": "code",
   "execution_count": 3,
   "metadata": {},
   "outputs": [
    {
     "name": "stdout",
     "output_type": "stream",
     "text": [
      "dim_G=15, dim_F=9\n",
      "Ipopt total # of variables = 302\n",
      "Actual # of variables = 152\n",
      "Could not find a solution using Ipopt\n"
     ]
    },
    {
     "name": "stderr",
     "output_type": "stream",
     "text": [
      "CasADi - 2024-04-07 19:10:02 WARNING(\"KeyboardInterruptException\") [.../casadi/interfaces/ipopt/ipopt_nlp.cpp:132]\n"
     ]
    }
   ],
   "source": [
    "problem = co.diffusion_line3(mu, L_smooth, R, Capacitance)\n",
    "problem.obj = problem.b + problem.d * 2\n",
    "\n",
    "# bounds = {  'd': {\"ub\": 100, \"lb\": 1e-4},\n",
    "#             'b': {\"ub\": 100, \"lb\": 1e-4},\n",
    "#             'h': {\"ub\": 100, \"lb\": 1e-4},\n",
    "#             'gamma': {\"ub\": 1000, \"lb\": 1e-4},\n",
    "#             'alpha': {\"ub\": 100, \"lb\": -100},\n",
    "#             'beta': {\"ub\": 100, \"lb\": -100},\n",
    "#             }\n",
    "# res, sol = problem.solve(solver=solver, bounds=bounds, verbose=False)[:2]\n",
    "res, sol = problem.solve(solver=solver, verbose=False)[:2]\n",
    "\n",
    "# ca_vars = problem.vars "
   ]
  },
  {
   "cell_type": "code",
   "execution_count": null,
   "metadata": {},
   "outputs": [],
   "source": [
    "res"
   ]
  },
  {
   "cell_type": "markdown",
   "metadata": {},
   "source": [
    "# PEP verification"
   ]
  },
  {
   "cell_type": "code",
   "execution_count": null,
   "metadata": {},
   "outputs": [],
   "source": [
    "# res[\"b\"] -= 0.06\n",
    "# assert res[\"b\"] >= 1e-2"
   ]
  },
  {
   "cell_type": "code",
   "execution_count": null,
   "metadata": {},
   "outputs": [
    {
     "name": "stdout",
     "output_type": "stream",
     "text": [
      "diff=None\n"
     ]
    }
   ],
   "source": [
    "problem = co.diffusion_line3(mu, L_smooth, R, Capacitance, params=res)\n",
    "diff = problem.solve(verbose=0, solver=cp.MOSEK)\n",
    "print(f\"{diff=}\")"
   ]
  }
 ],
 "metadata": {
  "kernelspec": {
   "display_name": "osbdo",
   "language": "python",
   "name": "python3"
  },
  "language_info": {
   "codemirror_mode": {
    "name": "ipython",
    "version": 3
   },
   "file_extension": ".py",
   "mimetype": "text/x-python",
   "name": "python",
   "nbconvert_exporter": "python",
   "pygments_lexer": "ipython3",
   "version": "3.10.13"
  }
 },
 "nbformat": 4,
 "nbformat_minor": 2
}
