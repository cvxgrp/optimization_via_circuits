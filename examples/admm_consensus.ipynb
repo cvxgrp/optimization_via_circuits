{
 "cells": [
  {
   "cell_type": "code",
   "execution_count": 5,
   "metadata": {},
   "outputs": [],
   "source": [
    "import ciropt as co\n",
    "import cvxpy as cp"
   ]
  },
  {
   "cell_type": "code",
   "execution_count": 6,
   "metadata": {},
   "outputs": [],
   "source": [
    "import numpy as np"
   ]
  },
  {
   "cell_type": "code",
   "execution_count": 7,
   "metadata": {},
   "outputs": [],
   "source": [
    "L_smooth = 1 #np.inf\n",
    "mu = 0.0001\n",
    "\n",
    "Inductance = 1\n",
    "R = 1\n",
    "\n",
    "n_func = 3\n",
    "# solver = \"ca\"\n",
    "solver = \"ca_canonical\"\n",
    "# solver = \"ca_canonical_X\"\n",
    "# solver = \"cvx_dccp\"\n",
    "# solver = \"qcqp_sni\"\n",
    "# solver = \"bisection_b\""
   ]
  },
  {
   "cell_type": "markdown",
   "metadata": {},
   "source": [
    "# Ciropt problem"
   ]
  },
  {
   "cell_type": "code",
   "execution_count": 8,
   "metadata": {},
   "outputs": [
    {
     "name": "stdout",
     "output_type": "stream",
     "text": [
      "dim_G=14, dim_F=12\n"
     ]
    },
    {
     "name": "stderr",
     "output_type": "stream",
     "text": [
      "CasADi - 2024-01-08 11:35:14 WARNING(\"NLP is overconstrained: There are 241 equality constraints but only 199 variables.\") [.../casadi/core/nlpsol.cpp:630]\n"
     ]
    },
    {
     "ename": "RuntimeError",
     "evalue": "Error in Opti::solve [OptiNode] at .../casadi/core/optistack.cpp:157:\n.../casadi/core/optistack_internal.cpp:998: Assertion \"return_success(accept_limit)\" failed:\nSolver failed. You may use opti.debug.value to investigate the latest values of variables. return_status is 'Not_Enough_Degrees_Of_Freedom'",
     "output_type": "error",
     "traceback": [
      "\u001b[1;31m---------------------------------------------------------------------------\u001b[0m",
      "\u001b[1;31mRuntimeError\u001b[0m                              Traceback (most recent call last)",
      "Cell \u001b[1;32mIn[8], line 11\u001b[0m\n\u001b[0;32m      5\u001b[0m problem\u001b[38;5;241m.\u001b[39mobj \u001b[38;5;241m=\u001b[39m problem\u001b[38;5;241m.\u001b[39mb \u001b[38;5;241m+\u001b[39m problem\u001b[38;5;241m.\u001b[39md\n\u001b[0;32m      7\u001b[0m \u001b[38;5;66;03m# bounds = {  'alpha': {\"ub\": 0, \"lb\": 0},\u001b[39;00m\n\u001b[0;32m      8\u001b[0m \u001b[38;5;66;03m#             'beta': {\"ub\": 1, \"lb\": 1},}\u001b[39;00m\n\u001b[0;32m      9\u001b[0m \n\u001b[0;32m     10\u001b[0m \u001b[38;5;66;03m# res, sol = problem.solve(solver=solver, bounds=bounds, verbose=False)[:2]\u001b[39;00m\n\u001b[1;32m---> 11\u001b[0m res, model \u001b[38;5;241m=\u001b[39m \u001b[43mproblem\u001b[49m\u001b[38;5;241;43m.\u001b[39;49m\u001b[43msolve\u001b[49m\u001b[43m(\u001b[49m\u001b[43msolver\u001b[49m\u001b[38;5;241;43m=\u001b[39;49m\u001b[43msolver\u001b[49m\u001b[43m,\u001b[49m\u001b[43m \u001b[49m\u001b[43mverbose\u001b[49m\u001b[38;5;241;43m=\u001b[39;49m\u001b[38;5;28;43;01mFalse\u001b[39;49;00m\u001b[43m)\u001b[49m[:\u001b[38;5;241m2\u001b[39m]\n\u001b[0;32m     12\u001b[0m ca_vars \u001b[38;5;241m=\u001b[39m problem\u001b[38;5;241m.\u001b[39mvars\n\u001b[0;32m     14\u001b[0m \u001b[38;5;66;03m# res = params = {  'b': 10,\u001b[39;00m\n\u001b[0;32m     15\u001b[0m \u001b[38;5;66;03m#             'h': 5e-5,\u001b[39;00m\n\u001b[0;32m     16\u001b[0m \u001b[38;5;66;03m#             'd': 0.,\u001b[39;00m\n\u001b[1;32m   (...)\u001b[0m\n\u001b[0;32m     20\u001b[0m \u001b[38;5;66;03m# print(f\"{b = }\")\u001b[39;00m\n\u001b[0;32m     21\u001b[0m \u001b[38;5;66;03m# res[\"b\"] = b\u001b[39;00m\n",
      "File \u001b[1;32mc:\\Users\\owner\\Documents\\GitHub\\optimization_via_circuits\\examples\\ciropt\\circuit_opt.py:769\u001b[0m, in \u001b[0;36mCircuitOpt.solve\u001b[1;34m(self, solver, **kwargs)\u001b[0m\n\u001b[0;32m    767\u001b[0m     \u001b[38;5;28;01mreturn\u001b[39;00m \u001b[38;5;28mself\u001b[39m\u001b[38;5;241m.\u001b[39msolve_ca(\u001b[38;5;241m*\u001b[39m\u001b[38;5;241m*\u001b[39mkwargs)\n\u001b[0;32m    768\u001b[0m \u001b[38;5;28;01melif\u001b[39;00m solver \u001b[38;5;241m==\u001b[39m \u001b[38;5;124m\"\u001b[39m\u001b[38;5;124mca_canonical\u001b[39m\u001b[38;5;124m\"\u001b[39m:\n\u001b[1;32m--> 769\u001b[0m     \u001b[38;5;28;01mreturn\u001b[39;00m \u001b[38;5;28mself\u001b[39m\u001b[38;5;241m.\u001b[39msolve_ca_canonical(\u001b[38;5;241m*\u001b[39m\u001b[38;5;241m*\u001b[39mkwargs)\n\u001b[0;32m    770\u001b[0m \u001b[38;5;28;01melif\u001b[39;00m solver \u001b[38;5;241m==\u001b[39m \u001b[38;5;124m\"\u001b[39m\u001b[38;5;124mca_canonical_X\u001b[39m\u001b[38;5;124m\"\u001b[39m:\n\u001b[0;32m    771\u001b[0m     \u001b[38;5;28;01mreturn\u001b[39;00m \u001b[38;5;28mself\u001b[39m\u001b[38;5;241m.\u001b[39msolve_ca_canonical_X(\u001b[38;5;241m*\u001b[39m\u001b[38;5;241m*\u001b[39mkwargs)\n",
      "File \u001b[1;32mc:\\Users\\owner\\Documents\\GitHub\\optimization_via_circuits\\examples\\ciropt\\circuit_opt.py:348\u001b[0m, in \u001b[0;36mCircuitOpt.solve_ca_canonical\u001b[1;34m(self, verbose, debug, **kwargs)\u001b[0m\n\u001b[0;32m    346\u001b[0m opti\u001b[38;5;241m.\u001b[39mminimize( \u001b[38;5;241m-\u001b[39m sympy_expression_to_casadi(\u001b[38;5;28mself\u001b[39m\u001b[38;5;241m.\u001b[39mobj, ca_vars, opti))\n\u001b[0;32m    347\u001b[0m opti\u001b[38;5;241m.\u001b[39msolver(\u001b[38;5;124m'\u001b[39m\u001b[38;5;124mipopt\u001b[39m\u001b[38;5;124m'\u001b[39m, opts)\n\u001b[1;32m--> 348\u001b[0m sol \u001b[38;5;241m=\u001b[39m \u001b[43mopti\u001b[49m\u001b[38;5;241;43m.\u001b[39;49m\u001b[43msolve\u001b[49m\u001b[43m(\u001b[49m\u001b[43m)\u001b[49m \u001b[38;5;66;03m# QCQP for solving CircuitOpt\u001b[39;00m\n\u001b[0;32m    349\u001b[0m \u001b[38;5;28;01massert\u001b[39;00m sol\u001b[38;5;241m.\u001b[39mstats()[\u001b[38;5;124m'\u001b[39m\u001b[38;5;124msuccess\u001b[39m\u001b[38;5;124m'\u001b[39m], \u001b[38;5;28mprint\u001b[39m(sol\u001b[38;5;241m.\u001b[39mstats())\n\u001b[0;32m    350\u001b[0m \u001b[38;5;28mself\u001b[39m\u001b[38;5;241m.\u001b[39mopti \u001b[38;5;241m=\u001b[39m opti\n",
      "File \u001b[1;32mc:\\Users\\owner\\anaconda3\\envs\\my-env\\lib\\site-packages\\casadi\\casadi.py:47783\u001b[0m, in \u001b[0;36mOpti.solve\u001b[1;34m(self, *args)\u001b[0m\n\u001b[0;32m  47763\u001b[0m \u001b[38;5;28;01mdef\u001b[39;00m \u001b[38;5;21msolve\u001b[39m(\u001b[38;5;28mself\u001b[39m, \u001b[38;5;241m*\u001b[39margs) \u001b[38;5;241m-\u001b[39m\u001b[38;5;241m>\u001b[39m \u001b[38;5;124m\"\u001b[39m\u001b[38;5;124mcasadi::OptiSol\u001b[39m\u001b[38;5;124m\"\u001b[39m:\n\u001b[0;32m  47764\u001b[0m \u001b[38;5;250m    \u001b[39m\u001b[38;5;124;03m\"\"\"\u001b[39;00m\n\u001b[0;32m  47765\u001b[0m \u001b[38;5;124;03m      [INTERNAL] \u001b[39;00m\n\u001b[0;32m  47766\u001b[0m \n\u001b[1;32m   (...)\u001b[0m\n\u001b[0;32m  47781\u001b[0m \n\u001b[0;32m  47782\u001b[0m \u001b[38;5;124;03m    \"\"\"\u001b[39;00m\n\u001b[1;32m> 47783\u001b[0m     \u001b[38;5;28;01mreturn\u001b[39;00m \u001b[43m_casadi\u001b[49m\u001b[38;5;241;43m.\u001b[39;49m\u001b[43mOpti_solve\u001b[49m\u001b[43m(\u001b[49m\u001b[38;5;28;43mself\u001b[39;49m\u001b[43m,\u001b[49m\u001b[43m \u001b[49m\u001b[38;5;241;43m*\u001b[39;49m\u001b[43margs\u001b[49m\u001b[43m)\u001b[49m\n",
      "\u001b[1;31mRuntimeError\u001b[0m: Error in Opti::solve [OptiNode] at .../casadi/core/optistack.cpp:157:\n.../casadi/core/optistack_internal.cpp:998: Assertion \"return_success(accept_limit)\" failed:\nSolver failed. You may use opti.debug.value to investigate the latest values of variables. return_status is 'Not_Enough_Degrees_Of_Freedom'"
     ]
    }
   ],
   "source": [
    "# problem = co.decomp_euler_consensus2(mu, L_smooth, R, Inductance)\n",
    "problem = co.admm_consensus(n_func, mu, L_smooth, R, Inductance)\n",
    "# problem = co.admm_consensus2(mu, L_smooth, R, Inductance)\n",
    "# problem = co.admm_consensus_proof(mu, L_smooth, R, Inductance)\n",
    "problem.obj = problem.b + problem.d\n",
    "\n",
    "# bounds = {  'alpha': {\"ub\": 0, \"lb\": 0},\n",
    "#             'beta': {\"ub\": 1, \"lb\": 1},}\n",
    "\n",
    "# res, sol = problem.solve(solver=solver, bounds=bounds, verbose=False)[:2]\n",
    "res, model = problem.solve(solver=solver, verbose=False)[:2]\n",
    "ca_vars = problem.vars\n",
    "\n",
    "# res = params = {  'b': 10,\n",
    "#             'h': 5e-5,\n",
    "#             'd': 0.,\n",
    "#             'alpha': 0,\n",
    "#             'beta': 1}\n",
    "# b = problem.solve(solver=solver, freq=1, max_iters=30, params=params, debug=True)\n",
    "# print(f\"{b = }\")\n",
    "# res[\"b\"] = b"
   ]
  },
  {
   "cell_type": "code",
   "execution_count": null,
   "metadata": {},
   "outputs": [
    {
     "data": {
      "text/plain": [
       "{'b': 2.994291962110235,\n",
       " 'h': 1.493396008483282,\n",
       " 'd': 9.054346319604022e-08,\n",
       " 'alpha': 5.045599628219873e-13,\n",
       " 'beta': -0.38830304944659283,\n",
       " 'gamma': 2.2071556523636393}"
      ]
     },
     "execution_count": 5,
     "metadata": {},
     "output_type": "execute_result"
    }
   ],
   "source": [
    "res"
   ]
  },
  {
   "cell_type": "markdown",
   "metadata": {},
   "source": [
    "# PEP verification"
   ]
  },
  {
   "cell_type": "code",
   "execution_count": 6,
   "metadata": {},
   "outputs": [],
   "source": [
    "res['b'] -= 0.1"
   ]
  },
  {
   "cell_type": "code",
   "execution_count": 7,
   "metadata": {},
   "outputs": [
    {
     "name": "stdout",
     "output_type": "stream",
     "text": [
      "diff=-2.841152920900903e-09\n"
     ]
    }
   ],
   "source": [
    "# problem = co.admm_consensus2(mu, L_smooth, R, Inductance, params=res)\n",
    "# problem = co.admm_consensus_proof(mu, L_smooth, R, Inductance, params=res)\n",
    "problem = co.admm_consensus(n_func, mu, L_smooth, R, Inductance, params=res)\n",
    "diff = problem.solve(verbose=0, solver=cp.MOSEK)\n",
    "print(f\"{diff=}\")"
   ]
  },
  {
   "cell_type": "code",
   "execution_count": null,
   "metadata": {},
   "outputs": [],
   "source": []
  }
 ],
 "metadata": {
  "kernelspec": {
   "display_name": "osbdo",
   "language": "python",
   "name": "python3"
  },
  "language_info": {
   "codemirror_mode": {
    "name": "ipython",
    "version": 3
   },
   "file_extension": ".py",
   "mimetype": "text/x-python",
   "name": "python",
   "nbconvert_exporter": "python",
   "pygments_lexer": "ipython3",
   "version": "3.9.18"
  }
 },
 "nbformat": 4,
 "nbformat_minor": 2
}
