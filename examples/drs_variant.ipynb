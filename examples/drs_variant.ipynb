{
 "cells": [
  {
   "cell_type": "code",
   "execution_count": 1,
   "metadata": {},
   "outputs": [],
   "source": [
    "import ciropt as co\n",
    "import cvxpy as cp\n",
    "\n",
    "import numpy as np"
   ]
  },
  {
   "cell_type": "code",
   "execution_count": 2,
   "metadata": {},
   "outputs": [],
   "source": [
    "L_smooth = 1.\n",
    "mu = 0.001\n",
    "\n",
    "Inductance = 1\n",
    "Capacitance = 1\n",
    "R = 0.5\n",
    "\n",
    "solver = \"ipopt\"\n",
    "# solver = \"ipopt_qcqp\"\n",
    "# solver = \"ipopt_qcqp_matrix\"\n",
    "# solver = \"qcqp_sni\"\n",
    "# solver = \"bisection_b\""
   ]
  },
  {
   "cell_type": "markdown",
   "metadata": {},
   "source": [
    "# Ciropt problem"
   ]
  },
  {
   "cell_type": "code",
   "execution_count": 3,
   "metadata": {},
   "outputs": [
    {
     "ename": "UnboundLocalError",
     "evalue": "cannot access local variable 'y1_1' where it is not associated with a value",
     "output_type": "error",
     "traceback": [
      "\u001b[1;31m---------------------------------------------------------------------------\u001b[0m",
      "\u001b[1;31mUnboundLocalError\u001b[0m                         Traceback (most recent call last)",
      "Cell \u001b[1;32mIn[3], line 1\u001b[0m\n\u001b[1;32m----> 1\u001b[0m problem \u001b[38;5;241m=\u001b[39m co\u001b[38;5;241m.\u001b[39mdrs_variant2(mu, L_smooth, R, Inductance, Capacitance)\n\u001b[0;32m      2\u001b[0m problem\u001b[38;5;241m.\u001b[39mobj \u001b[38;5;241m=\u001b[39m problem\u001b[38;5;241m.\u001b[39mb \u001b[38;5;241m+\u001b[39m problem\u001b[38;5;241m.\u001b[39md \u001b[38;5;241m*\u001b[39m \u001b[38;5;241m0.9\u001b[39m\n\u001b[0;32m      4\u001b[0m res, sol \u001b[38;5;241m=\u001b[39m problem\u001b[38;5;241m.\u001b[39msolve(solver\u001b[38;5;241m=\u001b[39msolver, verbose\u001b[38;5;241m=\u001b[39m\u001b[38;5;28;01mFalse\u001b[39;00m)[:\u001b[38;5;241m2\u001b[39m]\n",
      "File \u001b[1;32mc:\\Users\\jacks\\GitHub\\optimization_via_circuits\\examples\\ciropt\\dev_methods.py:270\u001b[0m, in \u001b[0;36mdrs_variant2\u001b[1;34m(mu, L_smooth, R, Inductance, Capacitance, params)\u001b[0m\n\u001b[0;32m    268\u001b[0m x1_0 \u001b[38;5;241m=\u001b[39m problem\u001b[38;5;241m.\u001b[39mset_initial_point()\n\u001b[0;32m    269\u001b[0m v_C_0 \u001b[38;5;241m=\u001b[39m problem\u001b[38;5;241m.\u001b[39mset_initial_point()\n\u001b[1;32m--> 270\u001b[0m i_C_0 \u001b[38;5;241m=\u001b[39m \u001b[38;5;241m-\u001b[39m i_L_0 \u001b[38;5;241m-\u001b[39m y1_1 \u001b[38;5;241m-\u001b[39m v_C_0\u001b[38;5;241m/\u001b[39mR\n\u001b[0;32m    272\u001b[0m y1_1, f1_1 \u001b[38;5;241m=\u001b[39m f1\u001b[38;5;241m.\u001b[39moracle(x1_0) \u001b[38;5;66;03m# f1=g\u001b[39;00m\n\u001b[0;32m    274\u001b[0m \u001b[38;5;66;03m# x1_1, y1_1, f1_1 = proximal_step(x2_0 + R * i_L_0 + R * i_C_1, f1, R)\u001b[39;00m\n",
      "\u001b[1;31mUnboundLocalError\u001b[0m: cannot access local variable 'y1_1' where it is not associated with a value"
     ]
    }
   ],
   "source": [
    "problem = co.drs_variant2(mu, L_smooth, R, Inductance, Capacitance)\n",
    "problem.obj = problem.b + problem.d * 0.9\n",
    "\n",
    "res, sol = problem.solve(solver=solver, verbose=False)[:2]\n",
    "ca_vars = problem.vars"
   ]
  },
  {
   "cell_type": "code",
   "execution_count": 4,
   "metadata": {},
   "outputs": [],
   "source": [
    "res"
   ]
  },
  {
   "cell_type": "markdown",
   "metadata": {},
   "source": [
    "# PEP verification"
   ]
  },
  {
   "cell_type": "code",
   "execution_count": null,
   "metadata": {},
   "outputs": [],
   "source": [
    "problem = co.drs_variant2(mu, L_smooth, R, Inductance, Capacitance, params=res)\n",
    "diff = problem.solve(verbose=0, solver=cp.MOSEK)\n",
    "print(f\"{diff=}\")"
   ]
  },
  {
   "cell_type": "code",
   "execution_count": null,
   "metadata": {},
   "outputs": [],
   "source": []
  }
 ],
 "metadata": {
  "kernelspec": {
   "display_name": "osbdo",
   "language": "python",
   "name": "python3"
  },
  "language_info": {
   "codemirror_mode": {
    "name": "ipython",
    "version": 3
   },
   "file_extension": ".py",
   "mimetype": "text/x-python",
   "name": "python",
   "nbconvert_exporter": "python",
   "pygments_lexer": "ipython3",
   "version": "3.11.5"
  }
 },
 "nbformat": 4,
 "nbformat_minor": 2
}
