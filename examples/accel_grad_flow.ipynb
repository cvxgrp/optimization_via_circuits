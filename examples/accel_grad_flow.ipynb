{
 "cells": [
  {
   "cell_type": "code",
   "execution_count": 1,
   "metadata": {},
   "outputs": [],
   "source": [
    "import ciropt as co\n",
    "import cvxpy as cp"
   ]
  },
  {
   "cell_type": "code",
   "execution_count": 2,
   "metadata": {},
   "outputs": [],
   "source": [
    "L_smooth = 1.\n",
    "mu = 0.0001\n",
    "\n",
    "Capacitance = 2.\n",
    "Inductance = 2.\n",
    "R = 1\n",
    "\n",
    "# solver = \"ca\"\n",
    "solver = \"ca_canonical\"\n",
    "# solver = \"ca_canonical_X\"\n",
    "# solver = \"gp_canonical_X\"\n",
    "\n",
    "time_limit = 200"
   ]
  },
  {
   "cell_type": "markdown",
   "metadata": {},
   "source": [
    "# Ciropt problem"
   ]
  },
  {
   "cell_type": "code",
   "execution_count": 3,
   "metadata": {},
   "outputs": [
    {
     "name": "stdout",
     "output_type": "stream",
     "text": [
      "dim_G=6, dim_F=4\n",
      "opts={'ipopt.max_iter': 50000, 'ipopt.print_level': 0, 'print_time': 0, 'ipopt.sb': 'yes'}\n"
     ]
    }
   ],
   "source": [
    "problem = co.accelerated_gradient_circuit(mu, L_smooth, R, Capacitance, Inductance)\n",
    "\n",
    "res, sol = problem.solve(verbose=False, solver=solver, time_limit=time_limit)[:2]\n",
    "vars = problem.vars"
   ]
  },
  {
   "cell_type": "code",
   "execution_count": 4,
   "metadata": {},
   "outputs": [
    {
     "name": "stdout",
     "output_type": "stream",
     "text": [
      "93\n",
      "-0.2616978970582967 0.960673602673453 -6.706883948109366e-09 6.503619564325703\n"
     ]
    }
   ],
   "source": [
    "print(problem.opti.stats()[\"iter_count\"])\n",
    "\n",
    "if solver == \"ca\":\n",
    "    P = sol.value(vars['P_full'])\n",
    "    lamb = sol.value(vars['lamb0'])\n",
    "    print(P.min(), P.max(), lamb.min(), lamb.max())"
   ]
  },
  {
   "cell_type": "code",
   "execution_count": 5,
   "metadata": {},
   "outputs": [
    {
     "data": {
      "text/plain": [
       "{'b': 2.668461572568973,\n",
       " 'h': 6.0353467370354705,\n",
       " 'd': 0.7721221265094984,\n",
       " 'alpha': 0.4915886656470814,\n",
       " 'beta': 0.44375266078718323}"
      ]
     },
     "execution_count": 5,
     "metadata": {},
     "output_type": "execute_result"
    }
   ],
   "source": [
    "res"
   ]
  },
  {
   "cell_type": "code",
   "execution_count": 6,
   "metadata": {},
   "outputs": [],
   "source": [
    "# {'b': 2.66846146628235,\n",
    "#  'h': 6.035347263881326,\n",
    "#  'd': 0.7721222423737911,\n",
    "#  'alpha': 0.4915885826616601,\n",
    "#  'beta': 0.4437526051891429}"
   ]
  },
  {
   "cell_type": "markdown",
   "metadata": {},
   "source": [
    "# PEP verification"
   ]
  },
  {
   "cell_type": "code",
   "execution_count": 7,
   "metadata": {},
   "outputs": [],
   "source": [
    "import PEPit\n",
    "from PEPit.functions import SmoothStronglyConvexFunction, SmoothConvexFunction\n",
    "from PEPit.primitive_steps import proximal_step\n",
    "\n",
    "b = res[\"b\"] \n",
    "d = res[\"d\"] \n",
    "h = res[\"h\"]\n",
    "alpha = res[\"alpha\"]\n",
    "beta = res[\"beta\"]"
   ]
  },
  {
   "cell_type": "code",
   "execution_count": 8,
   "metadata": {},
   "outputs": [
    {
     "name": "stdout",
     "output_type": "stream",
     "text": [
      "diff=-1.0268350614239807e-09\n"
     ]
    }
   ],
   "source": [
    "problem = PEPit.PEP()\n",
    "func = problem.declare_function(\n",
    "                    SmoothStronglyConvexFunction,\n",
    "                    mu=mu,   # Strong convexity param.\n",
    "                    L=L_smooth) \n",
    "\n",
    "x_P_star = func.stationary_point()\n",
    "g_star, f_star = func.oracle(x_P_star)\n",
    "\n",
    "x_C_1 = problem.set_initial_point()\n",
    "y_L_1 = problem.set_initial_point()\n",
    "\n",
    "\n",
    "x_P_1, g_1, f_1 = proximal_step((R * y_L_1 + x_C_1), func, R)\n",
    "\n",
    "y_L_1p5 = y_L_1 + (alpha * h / Inductance) * (x_C_1 - x_P_1) \n",
    "x_C_1p5 = x_C_1 - (alpha * h / Capacitance) * g_1 \n",
    "x_P_1p5, g_1p5, f_1p5 = proximal_step((R * y_L_1p5 + x_C_1p5), func, R)\n",
    "\n",
    "y_L_2 = y_L_1 + (beta * h / Inductance) * (x_C_1 - x_P_1) + \\\n",
    "                ((1 - beta) * h / Inductance) * (x_C_1p5 - x_P_1p5)\n",
    "x_C_2 = x_C_1 - (beta * h / Capacitance) * g_1 - ((1 - beta) * h / Capacitance) * g_1p5  \n",
    "x_P_2, g_2, f_2 = proximal_step((R * y_L_2 + x_C_2), func, R)\n",
    "\n",
    "# Set the performance metric to the function values accuracy\n",
    "E_1 = (Capacitance/2) * (x_C_1 - x_P_star)**2 + (Inductance/2) * (y_L_1 - g_star) ** 2\n",
    "E_2 = (Capacitance/2) * (x_C_2 - x_P_star)**2 + (Inductance/2) * (y_L_2 - g_star) ** 2\n",
    "Delta_1 = d * R * (g_1 - y_L_1)**2 + b * (f_1 - f_star)\n",
    "problem.set_performance_metric(E_2 - (E_1 - Delta_1))\n",
    "\n",
    "# Solve the PEP with verbose = 1\n",
    "verbose = 0\n",
    "diff = problem.solve(verbose=verbose, solver=cp.MOSEK)\n",
    "print(f\"{diff=}\")"
   ]
  },
  {
   "cell_type": "code",
   "execution_count": null,
   "metadata": {},
   "outputs": [],
   "source": []
  },
  {
   "cell_type": "code",
   "execution_count": null,
   "metadata": {},
   "outputs": [],
   "source": []
  }
 ],
 "metadata": {
  "kernelspec": {
   "display_name": "osbdo",
   "language": "python",
   "name": "python3"
  },
  "language_info": {
   "codemirror_mode": {
    "name": "ipython",
    "version": 3
   },
   "file_extension": ".py",
   "mimetype": "text/x-python",
   "name": "python",
   "nbconvert_exporter": "python",
   "pygments_lexer": "ipython3",
   "version": "3.10.13"
  }
 },
 "nbformat": 4,
 "nbformat_minor": 2
}
