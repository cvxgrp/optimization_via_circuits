{
 "cells": [
  {
   "cell_type": "code",
   "execution_count": 1,
   "metadata": {},
   "outputs": [],
   "source": [
    "import ciropt as co\n",
    "import cvxpy as cp"
   ]
  },
  {
   "cell_type": "code",
   "execution_count": 2,
   "metadata": {},
   "outputs": [],
   "source": [
    "L_smooth = 1.\n",
    "mu = 0.0001\n",
    "\n",
    "Capacitance = 2.\n",
    "Inductance = 2.\n",
    "R = 1\n",
    "\n",
    "# solver = \"ca\"\n",
    "solver = \"ca_canonical\"\n",
    "# solver = \"ca_canonical_X\"\n",
    "# solver = \"gp_canonical_X\"\n",
    "# solver = \"qcqp_sni\"\n",
    "solver = \"bisection_b\"\n",
    "time_limit = 200"
   ]
  },
  {
   "cell_type": "markdown",
   "metadata": {},
   "source": [
    "# Ciropt problem"
   ]
  },
  {
   "cell_type": "code",
   "execution_count": 3,
   "metadata": {},
   "outputs": [
    {
     "name": "stdout",
     "output_type": "stream",
     "text": [
      "t=0, b=10, prob.status='infeasible'\n",
      "t=1, b=5.0, prob.status='infeasible'\n",
      "t=2, b=2.5, prob.status='infeasible'\n",
      "t=3, b=1.25, prob.status='infeasible'\n",
      "b = 0.625\n"
     ]
    }
   ],
   "source": [
    "problem = co.accelerated_gradient_circuit(mu, L_smooth, R, Capacitance, Inductance)\n",
    "problem.obj = problem.b + problem.d\n",
    "# bounds = {  \n",
    "#             # 'b': {\"ub\": 10, \"lb\": 1},\n",
    "#             # 'd': {\"ub\": 10, \"lb\": 0.},\n",
    "#             'h': {\"ub\": 1, \"lb\": 1},\n",
    "#             'alpha': {\"ub\": 0.5, \"lb\": 0.5},\n",
    "#             'beta': {\"ub\": 0.5, \"lb\": 0.5},\n",
    "#             }\n",
    "# res, model, sp_exp = problem.solve(solver=solver, verbose=False, bounds=bounds, debug=True)\n",
    "\n",
    "res = params = {  'b': 10,\n",
    "            'h': 1,\n",
    "            'd': 0.,\n",
    "            'alpha': 0.5,\n",
    "            'beta': 0.5 }\n",
    "b = problem.solve(solver=solver, freq=1, max_iters=100, params=params, debug=True)\n",
    "print(f\"{b = }\")\n",
    "res[\"b\"] = b"
   ]
  },
  {
   "cell_type": "code",
   "execution_count": 4,
   "metadata": {},
   "outputs": [],
   "source": [
    "# list(problem.name2idx.keys())"
   ]
  },
  {
   "cell_type": "code",
   "execution_count": 5,
   "metadata": {},
   "outputs": [],
   "source": [
    "# print(problem.opti.stats()[\"iter_count\"])\n",
    "\n",
    "# if solver == \"ca\":\n",
    "#     P = model.value(vars['P_full'])\n",
    "#     lamb = model.value(vars['lamb0'])\n",
    "#     print(P.min(), P.max(), lamb.min(), lamb.max())"
   ]
  },
  {
   "cell_type": "code",
   "execution_count": 6,
   "metadata": {},
   "outputs": [],
   "source": [
    "# {'b': 2.66846146628235,\n",
    "#  'h': 6.035347263881326,\n",
    "#  'd': 0.7721222423737911,\n",
    "#  'alpha': 0.4915885826616601,\n",
    "#  'beta': 0.4437526051891429}"
   ]
  },
  {
   "cell_type": "markdown",
   "metadata": {},
   "source": [
    "# PEP verification"
   ]
  },
  {
   "cell_type": "code",
   "execution_count": 7,
   "metadata": {},
   "outputs": [
    {
     "data": {
      "text/plain": [
       "{'b': 0.625, 'h': 1, 'd': 0.0, 'alpha': 0.5, 'beta': 0.5}"
      ]
     },
     "execution_count": 7,
     "metadata": {},
     "output_type": "execute_result"
    }
   ],
   "source": [
    "res"
   ]
  },
  {
   "cell_type": "code",
   "execution_count": 8,
   "metadata": {},
   "outputs": [
    {
     "name": "stdout",
     "output_type": "stream",
     "text": [
      "diff=-8.228222991448953e-13\n"
     ]
    }
   ],
   "source": [
    "problem = co.accelerated_gradient_circuit(mu, L_smooth, R, Capacitance, Inductance, params=res)\n",
    "diff = problem.solve(verbose=0, solver=cp.MOSEK)\n",
    "print(f\"{diff=}\")"
   ]
  },
  {
   "cell_type": "code",
   "execution_count": null,
   "metadata": {},
   "outputs": [],
   "source": []
  }
 ],
 "metadata": {
  "kernelspec": {
   "display_name": "osbdo",
   "language": "python",
   "name": "python3"
  },
  "language_info": {
   "codemirror_mode": {
    "name": "ipython",
    "version": 3
   },
   "file_extension": ".py",
   "mimetype": "text/x-python",
   "name": "python",
   "nbconvert_exporter": "python",
   "pygments_lexer": "ipython3",
   "version": "3.10.13"
  }
 },
 "nbformat": 4,
 "nbformat_minor": 2
}
