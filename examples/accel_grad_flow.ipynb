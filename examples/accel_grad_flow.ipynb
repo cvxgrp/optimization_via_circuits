{
 "cells": [
  {
   "cell_type": "code",
   "execution_count": 1,
   "metadata": {},
   "outputs": [],
   "source": [
    "import ciropt as co\n",
    "import cvxpy as cp"
   ]
  },
  {
   "cell_type": "code",
   "execution_count": 2,
   "metadata": {},
   "outputs": [],
   "source": [
    "L_smooth = 1.\n",
    "mu = 0.0001\n",
    "\n",
    "Capacitance = 2.\n",
    "Inductance = 2.\n",
    "R = 1\n",
    "\n",
    "# solver = \"ca\"\n",
    "solver = \"ca_canonical\"\n",
    "# solver = \"ca_canonical_X\"\n",
    "# solver = \"gp_canonical_X\"\n",
    "\n",
    "time_limit = 200"
   ]
  },
  {
   "cell_type": "markdown",
   "metadata": {},
   "source": [
    "# Ciropt problem"
   ]
  },
  {
   "cell_type": "code",
   "execution_count": 3,
   "metadata": {},
   "outputs": [
    {
     "name": "stdout",
     "output_type": "stream",
     "text": [
      "dim_G=6, dim_F=4\n"
     ]
    }
   ],
   "source": [
    "problem = co.accelerated_gradient_circuit(mu, L_smooth, R, Capacitance, Inductance)\n",
    "problem.obj = problem.b + problem.d\n",
    "res, sol = problem.solve(verbose=False, solver=solver, time_limit=time_limit)[:2]\n",
    "vars = problem.vars"
   ]
  },
  {
   "cell_type": "code",
   "execution_count": 4,
   "metadata": {},
   "outputs": [
    {
     "name": "stdout",
     "output_type": "stream",
     "text": [
      "87\n"
     ]
    }
   ],
   "source": [
    "print(problem.opti.stats()[\"iter_count\"])\n",
    "\n",
    "if solver == \"ca\":\n",
    "    P = sol.value(vars['P_full'])\n",
    "    lamb = sol.value(vars['lamb0'])\n",
    "    print(P.min(), P.max(), lamb.min(), lamb.max())"
   ]
  },
  {
   "cell_type": "code",
   "execution_count": 5,
   "metadata": {},
   "outputs": [],
   "source": [
    "# {'b': 2.66846146628235,\n",
    "#  'h': 6.035347263881326,\n",
    "#  'd': 0.7721222423737911,\n",
    "#  'alpha': 0.4915885826616601,\n",
    "#  'beta': 0.4437526051891429}"
   ]
  },
  {
   "cell_type": "markdown",
   "metadata": {},
   "source": [
    "# PEP verification"
   ]
  },
  {
   "cell_type": "code",
   "execution_count": 6,
   "metadata": {},
   "outputs": [
    {
     "data": {
      "text/plain": [
       "{'b': 2.668461416208648,\n",
       " 'h': 6.035346326485873,\n",
       " 'd': 0.7721222828714854,\n",
       " 'alpha': 0.49158864756189447,\n",
       " 'beta': 0.44375266588967205}"
      ]
     },
     "execution_count": 6,
     "metadata": {},
     "output_type": "execute_result"
    }
   ],
   "source": [
    "res"
   ]
  },
  {
   "cell_type": "code",
   "execution_count": 8,
   "metadata": {},
   "outputs": [
    {
     "name": "stdout",
     "output_type": "stream",
     "text": [
      "diff=-7.105948052199551e-10\n"
     ]
    }
   ],
   "source": [
    "problem = co.accelerated_gradient_circuit(mu, L_smooth, R, Capacitance, Inductance, params=res)\n",
    "diff = problem.solve(verbose=0, solver=cp.MOSEK)\n",
    "print(f\"{diff=}\")"
   ]
  },
  {
   "cell_type": "code",
   "execution_count": null,
   "metadata": {},
   "outputs": [],
   "source": []
  }
 ],
 "metadata": {
  "kernelspec": {
   "display_name": "osbdo",
   "language": "python",
   "name": "python3"
  },
  "language_info": {
   "codemirror_mode": {
    "name": "ipython",
    "version": 3
   },
   "file_extension": ".py",
   "mimetype": "text/x-python",
   "name": "python",
   "nbconvert_exporter": "python",
   "pygments_lexer": "ipython3",
   "version": "3.10.13"
  }
 },
 "nbformat": 4,
 "nbformat_minor": 2
}
