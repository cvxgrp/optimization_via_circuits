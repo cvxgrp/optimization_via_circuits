{
 "cells": [
  {
   "cell_type": "code",
   "execution_count": 1,
   "metadata": {},
   "outputs": [],
   "source": [
    "import ciropt as co\n",
    "import cvxpy as cp"
   ]
  },
  {
   "cell_type": "code",
   "execution_count": 2,
   "metadata": {},
   "outputs": [],
   "source": [
    "L_smooth = 1.\n",
    "mu = 0.0001\n",
    "\n",
    "Capacitance = 2.\n",
    "Inductance = 2.\n",
    "R = 1\n",
    "\n",
    "# solver = \"ca\"\n",
    "# solver = \"ca_canonical\"\n",
    "# solver = \"ca_canonical_X\"\n",
    "# solver = \"gp_canonical_X\"\n",
    "solver = \"qcqp_sni\"\n",
    "time_limit = 200"
   ]
  },
  {
   "cell_type": "markdown",
   "metadata": {},
   "source": [
    "# Ciropt problem"
   ]
  },
  {
   "cell_type": "code",
   "execution_count": 3,
   "metadata": {},
   "outputs": [
    {
     "name": "stdout",
     "output_type": "stream",
     "text": [
      "dim_G=6, dim_F=4\n",
      "|x| = 71\n",
      "\n",
      "******************************************************************************\n",
      "This program contains Ipopt, a library for large-scale nonlinear optimization.\n",
      " Ipopt is released as open source code under the Eclipse Public License (EPL).\n",
      "         For more information visit https://github.com/coin-or/Ipopt\n",
      "******************************************************************************\n",
      "\n",
      "This is Ipopt version 3.14.11, running with linear solver MUMPS 5.4.1.\n",
      "\n",
      "Number of nonzeros in equality constraint Jacobian...:     5183\n",
      "Number of nonzeros in inequality constraint Jacobian.:     1278\n",
      "Number of nonzeros in Lagrangian Hessian.............:     2556\n",
      "\n",
      "Total number of variables............................:       91\n",
      "                     variables with only lower bounds:        0\n",
      "                variables with lower and upper bounds:        0\n",
      "                     variables with only upper bounds:        0\n",
      "Total number of equality constraints.................:       73\n",
      "Total number of inequality constraints...............:       18\n",
      "        inequality constraints with only lower bounds:        0\n",
      "   inequality constraints with lower and upper bounds:        0\n",
      "        inequality constraints with only upper bounds:       18\n",
      "\n",
      "iter    objective    inf_pr   inf_du lg(mu)  ||d||  lg(rg) alpha_du alpha_pr  ls\n",
      "   0  0.0000000e+00 1.00e+00 1.00e+00  -1.0 0.00e+00    -  0.00e+00 0.00e+00   0\n",
      "   1 -3.9031594e-09 1.79e-01 2.02e+00  -1.7 1.00e+00  -2.0 9.90e-01 1.00e+00h  1\n",
      "   2 -5.7931848e-02 1.54e-01 1.86e+00  -1.7 3.79e+00  -1.6 1.00e+00 7.61e-02f  1\n",
      "   3 -2.8781180e-02 2.01e-01 7.56e-01  -1.7 5.68e-01  -1.1 5.79e-01 5.94e-01h  1\n",
      "   4 -2.7866936e-02 5.55e-02 1.40e+00  -1.7 8.89e-02   1.1 8.17e-01 7.78e-01h  1\n",
      "   5 -1.1926002e-01 2.01e-02 1.81e+00  -1.7 1.26e-01   0.6 8.63e-01 1.00e+00f  1\n",
      "   6 -5.1183204e-01 1.24e-01 1.34e+01  -1.7 3.09e-01   0.1 4.84e-01 1.00e+00f  1\n",
      "   7 -6.6790009e-01 7.28e-03 1.63e+00  -1.7 1.28e-01   0.6 1.00e+00 1.00e+00h  1\n",
      "   8 -9.6091502e-01 3.04e-02 7.50e-01  -1.7 1.86e-01   0.1 1.00e+00 1.00e+00f  1\n",
      "   9 -1.7098741e+00 1.87e-01 4.54e+00  -1.7 5.93e-01  -0.4 8.91e-01 1.00e+00f  1\n",
      "iter    objective    inf_pr   inf_du lg(mu)  ||d||  lg(rg) alpha_du alpha_pr  ls\n",
      "  10 -2.3948407e+00 2.60e-01 3.09e+00  -1.7 1.29e+00  -0.9 1.00e+00 1.00e+00h  1\n",
      "  11 -2.8655088e+00 7.14e-01 8.80e+00  -1.7 1.72e+00  -1.4 9.25e-01 1.00e+00h  1\n",
      "  12 -2.7775513e+00 5.04e-02 9.16e-01  -1.7 4.12e-01  -0.9 1.00e+00 1.00e+00h  1\n",
      "  13 -2.8805592e+00 7.70e-02 1.67e+00  -1.7 7.07e-01  -1.4 1.00e+00 1.00e+00h  1\n",
      "  14 -2.8885465e+00 3.55e-01 4.79e-01  -1.7 7.37e-01  -1.9 1.00e+00 1.00e+00h  1\n",
      "  15 -2.8708402e+00 4.58e-02 3.05e-01  -1.7 1.63e-01  -1.5 1.00e+00 1.00e+00h  1\n",
      "  16 -2.8691281e+00 1.38e-01 3.17e-02  -1.7 4.44e-01  -1.9 1.00e+00 1.00e+00h  1\n",
      "  17 -2.9855448e+00 1.31e-01 1.07e-01  -2.5 5.20e-01  -2.4 1.00e+00 1.00e+00h  1\n",
      "  18 -2.9822707e+00 3.96e-02 3.77e-02  -2.5 2.86e-01  -2.0 1.00e+00 1.00e+00h  1\n",
      "  19 -3.0363948e+00 4.45e-01 7.39e-02  -2.5 1.82e+00  -2.5 1.00e+00 8.83e-01H  1\n",
      "iter    objective    inf_pr   inf_du lg(mu)  ||d||  lg(rg) alpha_du alpha_pr  ls\n",
      "  20 -3.0591162e+00 6.69e-01 1.29e-01  -2.5 2.23e+00  -2.9 1.00e+00 1.00e+00h  1\n",
      "  21 -3.0583247e+00 1.29e-01 8.84e-03  -2.5 3.35e-01  -1.6 1.00e+00 1.00e+00h  1\n",
      "  22 -3.0785841e+00 1.75e-01 1.28e-02  -2.5 5.50e-01  -2.1 1.00e+00 1.00e+00h  1\n",
      "  23 -3.0986597e+00 3.17e-02 1.16e-02  -2.5 1.45e+00  -2.6 1.00e+00 1.00e+00h  1\n",
      "  24 -3.1373252e+00 1.47e-01 4.68e-02  -2.5 3.50e+00  -3.0 1.00e+00 1.00e+00h  1\n",
      "  25 -3.1448711e+00 1.17e-02 3.49e-03  -2.5 1.43e+00  -2.6 1.00e+00 1.00e+00h  1\n",
      "  26 -3.1766410e+00 3.39e-02 1.09e-01  -3.8 3.12e+00  -3.1 7.76e-01 7.29e-01h  1\n",
      "  27 -3.2309619e+00 8.27e-01 2.56e-01  -3.8 7.20e+00  -3.6 1.00e+00 1.00e+00h  1\n",
      "  28 -3.2292309e+00 8.54e-02 1.28e-01  -3.8 2.37e-01  -1.3 1.00e+00 1.00e+00h  1\n",
      "  29 -3.2252556e+00 4.69e-03 2.47e-03  -3.8 1.60e-01  -1.8 1.00e+00 1.00e+00h  1\n",
      "iter    objective    inf_pr   inf_du lg(mu)  ||d||  lg(rg) alpha_du alpha_pr  ls\n",
      "  30 -3.2276442e+00 4.43e-03 1.95e-03  -3.8 3.80e-01  -2.3 1.00e+00 1.00e+00h  1\n",
      "  31 -3.2336851e+00 3.71e-02 1.40e-02  -3.8 1.13e+00  -2.8 1.00e+00 1.00e+00h  1\n",
      "  32 -3.2484334e+00 7.09e-01 7.58e-02  -3.8 3.11e+00  -3.2 1.00e+00 1.00e+00h  1\n",
      "  33 -3.2531717e+00 1.02e-01 4.04e-03  -3.8 1.20e+00  -2.8 1.00e+00 1.00e+00h  1\n",
      "  34 -3.2651525e+00 4.42e-02 1.27e-02  -3.8 3.21e+00  -3.3 1.00e+00 1.00e+00h  1\n",
      "  35 -3.2914701e+00 2.60e-01 6.62e-02  -3.8 7.88e+00  -3.8 1.00e+00 1.00e+00h  1\n",
      "  36 -3.2900483e+00 6.73e-03 1.72e-03  -3.8 4.78e-01  -2.4 1.00e+00 1.00e+00h  1\n",
      "  37 -3.2930954e+00 5.38e-03 1.76e-03  -3.8 1.15e+00  -2.9 1.00e+00 1.00e+00h  1\n",
      "  38 -3.3014284e+00 3.82e-02 1.11e-02  -3.8 3.20e+00  -3.4 1.00e+00 1.00e+00h  1\n",
      "  39 -3.3204841e+00 2.24e-01 6.47e-02  -3.8 8.05e+00  -3.9 1.00e+00 1.00e+00h  1\n",
      "iter    objective    inf_pr   inf_du lg(mu)  ||d||  lg(rg) alpha_du alpha_pr  ls\n",
      "  40 -3.3524519e+00 8.93e-01 2.82e-01  -3.8 1.71e+01  -4.4 1.00e+00 1.00e+00h  1\n",
      "  41 -3.3482303e+00 2.05e-03 2.55e-03  -3.8 2.79e-01  -2.1 1.00e+00 1.00e+00h  1\n",
      "  42 -3.3483612e+00 4.45e-04 9.44e-04  -3.8 3.73e-01  -2.6 1.00e+00 1.00e+00h  1\n",
      "  43 -3.3506045e+00 2.94e-02 2.63e-02  -5.7 9.96e-01  -3.1 9.44e-01 9.92e-01h  1\n",
      "  44 -3.3542099e+00 3.49e-02 2.00e-02  -5.7 2.83e+00  -3.6 1.00e+00 9.25e-01h  1\n",
      "  45 -3.3637243e+00 1.44e-01 5.65e-02  -5.7 7.48e+00  -4.0 1.00e+00 1.00e+00h  1\n",
      "  46 -3.3819476e+00 6.75e-01 2.81e-01  -5.7 1.70e+01  -4.5 1.00e+00 1.00e+00h  1\n",
      "  47 -3.3804787e+00 5.43e-03 6.54e-04  -5.7 9.82e-01  -3.2 1.00e+00 1.00e+00h  1\n",
      "  48 -3.3824223e+00 1.42e-02 9.07e-03  -5.7 2.49e+00  -3.7 1.00e+00 1.00e+00h  1\n",
      "  49 -3.3876732e+00 9.41e-02 5.06e-02  -5.7 6.68e+00  -4.1 1.00e+00 1.00e+00h  1\n",
      "iter    objective    inf_pr   inf_du lg(mu)  ||d||  lg(rg) alpha_du alpha_pr  ls\n",
      "  50 -3.3987713e+00 4.94e-01 2.70e-01  -5.7 1.59e+01  -4.6 1.00e+00 1.00e+00h  1\n",
      "  51 -3.3980923e+00 8.80e-05 4.49e-04  -5.7 8.54e-01  -3.3 1.00e+00 1.00e+00h  1\n",
      "  52 -3.3993600e+00 9.67e-03 6.97e-03  -5.7 2.28e+00  -3.8 1.00e+00 1.00e+00h  1\n",
      "  53 -3.4027526e+00 6.93e-02 4.52e-02  -5.7 6.26e+00  -4.2 1.00e+00 1.00e+00h  1\n",
      "  54 -3.4103269e+00 3.96e-01 2.63e-01  -5.7 1.54e+01  -4.7 1.00e+00 1.00e+00h  1\n",
      "  55 -3.4119614e+00 4.29e-02 3.46e-02  -5.7 5.67e+00  -4.3 1.00e+00 1.00e+00h  1\n",
      "  56 -3.4173524e+00 3.00e-01 2.30e-01  -5.7 1.42e+01  -4.8 1.00e+00 1.00e+00h  1\n",
      "  57 -3.4186228e+00 3.33e-02 3.00e-02  -5.7 5.20e+00  -4.3 1.00e+00 1.00e+00h  1\n",
      "  58 -3.4226833e+00 2.39e-01 2.06e-01  -5.7 1.33e+01  -4.8 1.00e+00 1.00e+00h  1\n",
      "  59 -3.4236959e+00 2.72e-02 2.66e-02  -5.7 4.87e+00  -4.4 1.00e+00 1.00e+00h  1\n",
      "iter    objective    inf_pr   inf_du lg(mu)  ||d||  lg(rg) alpha_du alpha_pr  ls\n",
      "  60 -3.4268741e+00 1.98e-01 1.88e-01  -5.7 1.27e+01  -4.9 1.00e+00 1.00e+00h  1\n",
      "  61 -3.4328364e+00 8.97e-01 9.06e-01  -5.7 2.79e+01  -5.3 1.00e+00 1.00e+00h  1\n",
      "  62 -3.4322938e+00 1.03e-01 1.09e-03  -5.7 1.44e+00  -4.0 1.00e+00 1.00e+00h  1\n",
      "  63 -3.4329223e+00 1.73e-02 2.00e-02  -5.7 3.91e+00  -4.5 1.00e+00 1.00e+00h  1\n",
      "  64 -3.4345472e+00 1.11e-01 1.28e-01  -5.7 1.04e+01  -5.0 1.00e+00 1.00e+00h  1\n",
      "  65 -3.4377382e+00 5.31e-01 6.32e-01  -5.7 2.34e+01  -5.4 1.00e+00 1.00e+00h  1\n",
      "  66 -3.4407667e+00 1.01e+00 1.24e+00  -5.7 3.65e+01  -5.9 1.00e+00 8.86e-01h  1\n",
      "  67 -3.4423134e+00 4.09e+02 1.00e+00  -5.7 3.77e+01  -6.4 1.63e-02 8.61e-01h  1\n",
      "  68 -3.4419589e+00 3.89e+02 9.57e-01  -5.7 8.25e+00  -1.5 7.42e-02 4.93e-02h  1\n",
      "  69 -3.4419477e+00 3.88e+02 9.56e-01  -5.7 7.95e+00  -1.9 1.63e-01 1.02e-03h  1\n",
      "iter    objective    inf_pr   inf_du lg(mu)  ||d||  lg(rg) alpha_du alpha_pr  ls\n",
      "  70 -3.4412992e+00 3.66e+02 9.01e-01  -5.7 7.63e+00  -2.4 1.00e+00 5.83e-02h  5\n",
      "  71 -3.4407338e+00 3.44e+02 8.46e-01  -5.7 7.82e+00  -2.0 1.27e-01 6.25e-02h  5\n",
      "  72 -3.4407307e+00 3.43e+02 8.45e-01  -5.7 7.55e+00  -2.5 1.00e+00 4.29e-04h 12\n",
      "  73 -3.4407288e+00 3.43e+02 8.45e-01  -5.7 7.63e+00  -2.0 2.05e-01 2.44e-04h 13\n",
      "  74 -3.4407285e+00 3.43e+02 8.45e-01  -5.7 7.69e+00  -1.6 1.48e-01 3.05e-05h 16\n",
      "  75 -3.4246437e+00 8.86e+01 2.45e-01  -5.7 7.65e+00  -2.1 1.00e+00 9.91e-01h  1\n",
      "  76 -3.4246396e+00 7.43e+01 3.50e-01  -5.7 4.26e+00  -1.7 1.00e+00 1.68e-01h  1\n",
      "  77 -3.4354764e+00 1.87e+01 4.32e-02  -5.7 3.95e+00  -2.1 1.00e+00 1.00e+00h  1\n",
      "  78 -3.4370587e+00 1.50e+01 1.40e-01  -5.7 2.00e+00  -2.6 1.00e+00 2.10e-01h  1\n",
      "  79 -3.4379173e+00 8.39e+00 1.03e-01  -5.7 1.81e+00  -3.1 1.00e+00 5.04e-01h  1\n",
      "iter    objective    inf_pr   inf_du lg(mu)  ||d||  lg(rg) alpha_du alpha_pr  ls\n",
      "  80 -3.4387642e+00 2.12e+00 4.26e-02  -5.7 1.35e+00  -3.6 1.00e+00 1.00e+00h  1\n",
      "  81 -3.4395444e+00 8.57e-01 2.80e-02  -5.7 1.80e+00  -4.0 4.22e-01 7.57e-01h  1\n",
      "  82 -3.4404369e+00 4.24e-01 2.55e-02  -5.7 3.08e+00  -4.5 6.98e-01 1.00e+00h  1\n",
      "  83 -3.4406792e+00 1.25e-01 1.35e-02  -5.7 4.63e+00  -5.0 1.00e+00 1.00e+00h  1\n",
      "  84 -3.4406063e+00 2.77e-02 9.73e-03  -5.7 3.45e+00  -5.5 7.06e-01 1.00e+00h  1\n",
      "  85 -3.4406287e+00 9.85e-03 5.60e-03  -5.7 2.51e+00  -6.0 7.63e-01 1.00e+00h  1\n",
      "  86 -3.4405765e+00 2.61e-03 9.07e-05  -5.7 4.41e-02  -2.8 1.00e+00 1.00e+00h  1\n",
      "  87 -3.4405721e+00 2.17e-04 1.73e-05  -5.7 1.19e-02  -3.3 1.00e+00 1.00e+00h  1\n",
      "  88 -3.4405718e+00 1.39e-06 6.50e-06  -5.7 2.63e-02  -3.8 1.00e+00 1.00e+00H  1\n",
      "  89 -3.4405831e+00 1.87e-04 2.38e-06  -8.6 4.23e-02  -4.3 1.00e+00 1.00e+00h  1\n",
      "iter    objective    inf_pr   inf_du lg(mu)  ||d||  lg(rg) alpha_du alpha_pr  ls\n",
      "  90 -3.4405835e+00 2.79e-05 1.83e-06  -8.6 9.77e-02  -4.7 1.00e+00 1.00e+00h  1\n",
      "  91 -3.4405837e+00 1.41e-05 3.07e-06  -8.6 1.34e-01  -5.2 1.00e+00 1.00e+00h  1\n",
      "  92 -3.4405837e+00 2.84e-06 8.19e-07  -8.6 6.40e-02  -5.3 1.00e+00 1.00e+00h  1\n",
      "  93 -3.4405837e+00 7.65e-07 1.95e-07  -8.6 3.04e-02  -5.3 1.00e+00 1.00e+00h  1\n",
      "  94 -3.4405837e+00 6.38e-07 1.14e-06  -8.6 1.68e-02  -5.8 1.00e+00 1.00e+00H  1\n",
      "  95 -3.4405837e+00 1.37e-08 2.75e-06  -8.6 1.15e-02  -6.3 1.00e+00 1.00e+00H  1\n",
      "  96 -3.4405837e+00 6.87e-09 1.58e-06  -8.6 4.76e-01  -6.3 1.00e+00 1.00e+00H  1\n",
      "  97 -3.4405837e+00 9.91e-09 3.53e-07  -8.6 5.39e-03  -6.8 1.00e+00 1.00e+00H  1\n",
      "  98 -3.4405837e+00 1.33e-06 5.65e-09  -8.6 1.15e-03  -7.3 1.00e+00 1.00e+00h  1\n",
      "  99 -3.4405837e+00 2.59e-08 1.16e-10  -8.6 1.60e-04  -6.8 1.00e+00 1.00e+00h  1\n",
      "iter    objective    inf_pr   inf_du lg(mu)  ||d||  lg(rg) alpha_du alpha_pr  ls\n",
      " 100 -3.4405837e+00 5.59e-09 3.61e-12  -8.6 7.44e-05  -7.3 1.00e+00 1.00e+00h  1\n",
      "\n",
      "Number of Iterations....: 100\n",
      "\n",
      "                                   (scaled)                 (unscaled)\n",
      "Objective...............:  -3.4405836990801633e+00   -3.4405836990801633e+00\n",
      "Dual infeasibility......:   3.6128085386614300e-12    3.6128085386614300e-12\n",
      "Constraint violation....:   5.5860711589763852e-09    5.5860711589763852e-09\n",
      "Variable bound violation:   0.0000000000000000e+00    0.0000000000000000e+00\n",
      "Complementarity.........:   2.5059035596800622e-09    2.5059035596800622e-09\n",
      "Overall NLP error.......:   5.5860711589763852e-09    5.5860711589763852e-09\n",
      "\n",
      "\n",
      "Number of objective function evaluations             = 157\n",
      "Number of objective gradient evaluations             = 101\n",
      "Number of equality constraint evaluations            = 157\n",
      "Number of inequality constraint evaluations          = 157\n",
      "Number of equality constraint Jacobian evaluations   = 101\n",
      "Number of inequality constraint Jacobian evaluations = 101\n",
      "Number of Lagrangian Hessian evaluations             = 100\n",
      "Total seconds in IPOPT                               = 1.317\n",
      "\n",
      "EXIT: Optimal Solution Found.\n",
      "      solver  :   t_proc      (avg)   t_wall      (avg)    n_eval\n",
      "       nlp_f  | 318.00us (  2.03us) 308.95us (  1.97us)       157\n",
      "       nlp_g  |  84.29ms (536.90us)  84.65ms (539.19us)       157\n",
      "  nlp_grad_f  | 374.00us (  3.67us) 262.71us (  2.58us)       102\n",
      "  nlp_hess_l  | 424.89ms (  4.25ms) 426.82ms (  4.27ms)       100\n",
      "   nlp_jac_g  | 568.85ms (  5.58ms) 571.99ms (  5.61ms)       102\n",
      "       total  |   1.31 s (  1.31 s)   1.32 s (  1.32 s)         1\n",
      "Ipopt: objective -3.4406, violation 0.0000\n"
     ]
    }
   ],
   "source": [
    "problem = co.accelerated_gradient_circuit(mu, L_smooth, R, Capacitance, Inductance)\n",
    "problem.obj = problem.b + problem.d\n",
    "\n",
    "res, model, sp_exp = problem.solve(solver=solver, verbose=True, debug=True)"
   ]
  },
  {
   "cell_type": "code",
   "execution_count": 4,
   "metadata": {},
   "outputs": [
    {
     "data": {
      "text/plain": [
       "[1,\n",
       " 'alpha',\n",
       " 'b',\n",
       " 'beta',\n",
       " 'd',\n",
       " 'h',\n",
       " 'alpha_h',\n",
       " 'alpha_alpha',\n",
       " 'alpha_alpha_h',\n",
       " 'alpha_alpha_h_h',\n",
       " 'alpha_beta',\n",
       " 'alpha_beta_h',\n",
       " 'alpha_beta_h_h',\n",
       " 'alpha_h_h',\n",
       " 'alpha_alpha_beta',\n",
       " 'alpha_alpha_beta_beta',\n",
       " 'alpha_alpha_beta_beta_h',\n",
       " 'alpha_alpha_beta_beta_h_h',\n",
       " 'alpha_alpha_beta_beta_h_h_h',\n",
       " 'alpha_alpha_beta_beta_h_h_h_h',\n",
       " 'alpha_alpha_beta_h',\n",
       " 'alpha_alpha_beta_h_h',\n",
       " 'alpha_alpha_beta_h_h_h',\n",
       " 'alpha_alpha_beta_h_h_h_h',\n",
       " 'alpha_alpha_h_h_h',\n",
       " 'alpha_alpha_h_h_h_h',\n",
       " 'alpha_beta_h_h_h',\n",
       " 'alpha_h_h_h',\n",
       " 'h_h',\n",
       " 'beta_h',\n",
       " 'alpha_beta_beta',\n",
       " 'alpha_beta_beta_h',\n",
       " 'alpha_beta_beta_h_h',\n",
       " 'alpha_beta_beta_h_h_h',\n",
       " 'beta_h_h',\n",
       " 'beta_beta',\n",
       " 'beta_beta_h',\n",
       " 'beta_beta_h_h']"
      ]
     },
     "execution_count": 4,
     "metadata": {},
     "output_type": "execute_result"
    }
   ],
   "source": [
    "list(problem.name2idx.keys())"
   ]
  },
  {
   "cell_type": "code",
   "execution_count": 5,
   "metadata": {},
   "outputs": [],
   "source": [
    "# print(problem.opti.stats()[\"iter_count\"])\n",
    "\n",
    "# if solver == \"ca\":\n",
    "#     P = model.value(vars['P_full'])\n",
    "#     lamb = model.value(vars['lamb0'])\n",
    "#     print(P.min(), P.max(), lamb.min(), lamb.max())"
   ]
  },
  {
   "cell_type": "code",
   "execution_count": 6,
   "metadata": {},
   "outputs": [],
   "source": [
    "# {'b': 2.66846146628235,\n",
    "#  'h': 6.035347263881326,\n",
    "#  'd': 0.7721222423737911,\n",
    "#  'alpha': 0.4915885826616601,\n",
    "#  'beta': 0.4437526051891429}"
   ]
  },
  {
   "cell_type": "markdown",
   "metadata": {},
   "source": [
    "# PEP verification"
   ]
  },
  {
   "cell_type": "code",
   "execution_count": 7,
   "metadata": {},
   "outputs": [
    {
     "data": {
      "text/plain": [
       "{'alpha': 0.49158864756015663,\n",
       " 'b': 2.6684614161181113,\n",
       " 'beta': 0.4437526659180731,\n",
       " 'd': 0.772122282962052,\n",
       " 'h': 6.035346325972984}"
      ]
     },
     "execution_count": 7,
     "metadata": {},
     "output_type": "execute_result"
    }
   ],
   "source": [
    "res"
   ]
  },
  {
   "cell_type": "code",
   "execution_count": 8,
   "metadata": {},
   "outputs": [
    {
     "name": "stdout",
     "output_type": "stream",
     "text": [
      "diff=-1.0423502061485124e-09\n"
     ]
    }
   ],
   "source": [
    "problem = co.accelerated_gradient_circuit(mu, L_smooth, R, Capacitance, Inductance, params=res)\n",
    "diff = problem.solve(verbose=0, solver=cp.MOSEK)\n",
    "print(f\"{diff=}\")"
   ]
  },
  {
   "cell_type": "code",
   "execution_count": null,
   "metadata": {},
   "outputs": [],
   "source": []
  }
 ],
 "metadata": {
  "kernelspec": {
   "display_name": "osbdo",
   "language": "python",
   "name": "python3"
  },
  "language_info": {
   "codemirror_mode": {
    "name": "ipython",
    "version": 3
   },
   "file_extension": ".py",
   "mimetype": "text/x-python",
   "name": "python",
   "nbconvert_exporter": "python",
   "pygments_lexer": "ipython3",
   "version": "3.10.13"
  }
 },
 "nbformat": 4,
 "nbformat_minor": 2
}
