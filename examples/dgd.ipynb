{
 "cells": [
  {
   "cell_type": "code",
   "execution_count": 1,
   "metadata": {},
   "outputs": [],
   "source": [
    "import ciropt as co\n",
    "import cvxpy as cp\n",
    "\n",
    "import numpy as np"
   ]
  },
  {
   "cell_type": "code",
   "execution_count": 2,
   "metadata": {},
   "outputs": [],
   "source": [
    "L_smooth = 1.\n",
    "mu = 0.001\n",
    "\n",
    "Inductance = 1\n",
    "R = 0.5 / 3\n",
    "\n",
    "solver = \"ca\"\n",
    "# solver = \"ca_canonical\"\n",
    "# solver = \"ca_canonical_X\"\n",
    "# solver = \"qcqp_sni\"\n",
    "# solver = \"bisection_b\""
   ]
  },
  {
   "cell_type": "code",
   "execution_count": 3,
   "metadata": {},
   "outputs": [
    {
     "name": "stdout",
     "output_type": "stream",
     "text": [
      "dim_G=14, dim_F=10\n"
     ]
    },
    {
     "ename": "RuntimeError",
     "evalue": ".../casadi/core/sparsity_internal.cpp:2196: Assertion \"in_range(cc, -size2()+ind1, size2()+ind1)\" failed:\nOut of bounds error. Got elements in range [3,3], which is outside the range [-3,3).",
     "output_type": "error",
     "traceback": [
      "\u001b[0;31m---------------------------------------------------------------------------\u001b[0m",
      "\u001b[0;31mRuntimeError\u001b[0m                              Traceback (most recent call last)",
      "Input \u001b[0;32mIn [3]\u001b[0m, in \u001b[0;36m<cell line: 10>\u001b[0;34m()\u001b[0m\n\u001b[1;32m      4\u001b[0m bounds \u001b[38;5;241m=\u001b[39m { \u001b[38;5;124m'\u001b[39m\u001b[38;5;124malpha\u001b[39m\u001b[38;5;124m'\u001b[39m: {\u001b[38;5;124m\"\u001b[39m\u001b[38;5;124mub\u001b[39m\u001b[38;5;124m\"\u001b[39m: \u001b[38;5;241m1\u001b[39m, \u001b[38;5;124m\"\u001b[39m\u001b[38;5;124mlb\u001b[39m\u001b[38;5;124m\"\u001b[39m: \u001b[38;5;241m1\u001b[39m},\n\u001b[1;32m      5\u001b[0m             \u001b[38;5;124m'\u001b[39m\u001b[38;5;124mbeta\u001b[39m\u001b[38;5;124m'\u001b[39m: {\u001b[38;5;124m\"\u001b[39m\u001b[38;5;124mub\u001b[39m\u001b[38;5;124m\"\u001b[39m: \u001b[38;5;241m1\u001b[39m, \u001b[38;5;124m\"\u001b[39m\u001b[38;5;124mlb\u001b[39m\u001b[38;5;124m\"\u001b[39m: \u001b[38;5;241m1\u001b[39m},\n\u001b[1;32m      6\u001b[0m             \u001b[38;5;124m'\u001b[39m\u001b[38;5;124mh\u001b[39m\u001b[38;5;124m'\u001b[39m: {\u001b[38;5;124m\"\u001b[39m\u001b[38;5;124mub\u001b[39m\u001b[38;5;124m\"\u001b[39m: \u001b[38;5;241m0.01\u001b[39m, \u001b[38;5;124m\"\u001b[39m\u001b[38;5;124mlb\u001b[39m\u001b[38;5;124m\"\u001b[39m: \u001b[38;5;241m0.01\u001b[39m},\n\u001b[1;32m      7\u001b[0m             \u001b[38;5;124m'\u001b[39m\u001b[38;5;124md\u001b[39m\u001b[38;5;124m'\u001b[39m: {\u001b[38;5;124m\"\u001b[39m\u001b[38;5;124mub\u001b[39m\u001b[38;5;124m\"\u001b[39m: \u001b[38;5;241m0.1\u001b[39m, \u001b[38;5;124m\"\u001b[39m\u001b[38;5;124mlb\u001b[39m\u001b[38;5;124m\"\u001b[39m: \u001b[38;5;241m0.001\u001b[39m}, }\n\u001b[1;32m      8\u001b[0m \u001b[38;5;66;03m# res, sol = problem.solve(solver=solver, verbose=False)[:2]\u001b[39;00m\n\u001b[1;32m      9\u001b[0m \u001b[38;5;66;03m# params = {\"alpha\": 0, \"beta\": 1, \"h\": 0.01, \"b\": 1, \"d\":0., \"gamma\": 0 }\u001b[39;00m\n\u001b[0;32m---> 10\u001b[0m res, sol \u001b[38;5;241m=\u001b[39m \u001b[43mproblem\u001b[49m\u001b[38;5;241;43m.\u001b[39;49m\u001b[43msolve\u001b[49m\u001b[43m(\u001b[49m\u001b[43msolver\u001b[49m\u001b[38;5;241;43m=\u001b[39;49m\u001b[43msolver\u001b[49m\u001b[43m,\u001b[49m\u001b[43m \u001b[49m\u001b[43mbounds\u001b[49m\u001b[38;5;241;43m=\u001b[39;49m\u001b[43mbounds\u001b[49m\u001b[43m,\u001b[49m\u001b[43m \u001b[49m\u001b[43mverbose\u001b[49m\u001b[38;5;241;43m=\u001b[39;49m\u001b[38;5;28;43;01mFalse\u001b[39;49;00m\u001b[43m)\u001b[49m[:\u001b[38;5;241m2\u001b[39m]\n\u001b[1;32m     11\u001b[0m \u001b[38;5;66;03m# ca_vars = problem.vars \u001b[39;00m\n",
      "File \u001b[0;32m~/Documents/projects/Circuits/optimization_via_circuits/ciropt/circuit_opt.py:416\u001b[0m, in \u001b[0;36mCircuitOpt.solve\u001b[0;34m(self, solver, **kwargs)\u001b[0m\n\u001b[1;32m    414\u001b[0m     \u001b[38;5;28;01mreturn\u001b[39;00m \u001b[38;5;28mself\u001b[39m\u001b[38;5;241m.\u001b[39mbounds_sdp_relax_all(\u001b[38;5;241m*\u001b[39m\u001b[38;5;241m*\u001b[39mkwargs)\n\u001b[1;32m    415\u001b[0m \u001b[38;5;28;01melif\u001b[39;00m solver \u001b[38;5;241m==\u001b[39m \u001b[38;5;124m\"\u001b[39m\u001b[38;5;124mca\u001b[39m\u001b[38;5;124m\"\u001b[39m:\n\u001b[0;32m--> 416\u001b[0m     \u001b[38;5;28;01mreturn\u001b[39;00m \u001b[38;5;28;43mself\u001b[39;49m\u001b[38;5;241;43m.\u001b[39;49m\u001b[43msolve_ca\u001b[49m\u001b[43m(\u001b[49m\u001b[38;5;241;43m*\u001b[39;49m\u001b[38;5;241;43m*\u001b[39;49m\u001b[43mkwargs\u001b[49m\u001b[43m)\u001b[49m\n\u001b[1;32m    417\u001b[0m \u001b[38;5;28;01melif\u001b[39;00m solver \u001b[38;5;241m==\u001b[39m \u001b[38;5;124m\"\u001b[39m\u001b[38;5;124mca_canonical\u001b[39m\u001b[38;5;124m\"\u001b[39m:\n\u001b[1;32m    418\u001b[0m     \u001b[38;5;28;01mreturn\u001b[39;00m \u001b[38;5;28mself\u001b[39m\u001b[38;5;241m.\u001b[39msolve_ca_canonical(\u001b[38;5;241m*\u001b[39m\u001b[38;5;241m*\u001b[39mkwargs)\n",
      "File \u001b[0;32m~/Documents/projects/Circuits/optimization_via_circuits/ciropt/circuit_opt.py:180\u001b[0m, in \u001b[0;36mCircuitOpt.solve_ca\u001b[0;34m(self, verbose, debug, init_vals, bounds, **kwargs)\u001b[0m\n\u001b[1;32m    178\u001b[0m sp_z1 \u001b[38;5;241m=\u001b[39m simplify_matrix(sum_ij_La \u001b[38;5;241m-\u001b[39m sp_exp[\u001b[38;5;124m\"\u001b[39m\u001b[38;5;124mFG_d\u001b[39m\u001b[38;5;124m\"\u001b[39m][\u001b[38;5;124m\"\u001b[39m\u001b[38;5;124mF\u001b[39m\u001b[38;5;124m\"\u001b[39m])\n\u001b[1;32m    179\u001b[0m sp_z2 \u001b[38;5;241m=\u001b[39m simplify_matrix(sum_ij_AC \u001b[38;5;241m-\u001b[39m sp_exp[\u001b[38;5;124m\"\u001b[39m\u001b[38;5;124mFG_d\u001b[39m\u001b[38;5;124m\"\u001b[39m][\u001b[38;5;124m\"\u001b[39m\u001b[38;5;124mG\u001b[39m\u001b[38;5;124m\"\u001b[39m]) \u001b[38;5;66;03m# sum_ij_AC - P @ P.T - Gweights_d\u001b[39;00m\n\u001b[0;32m--> 180\u001b[0m z1 \u001b[38;5;241m=\u001b[39m \u001b[43msympy_matrix_to_casadi\u001b[49m\u001b[43m(\u001b[49m\u001b[43msp_z1\u001b[49m\u001b[43m,\u001b[49m\u001b[43m \u001b[49m\u001b[43mca_vars\u001b[49m\u001b[43m,\u001b[49m\u001b[43m \u001b[49m\u001b[43mopti\u001b[49m\u001b[43m)\u001b[49m\n\u001b[1;32m    181\u001b[0m z2 \u001b[38;5;241m=\u001b[39m sympy_matrix_to_casadi(sp_z2, ca_vars, opti)\n\u001b[1;32m    182\u001b[0m opti\u001b[38;5;241m.\u001b[39msubject_to( z1 \u001b[38;5;241m==\u001b[39m np\u001b[38;5;241m.\u001b[39mzeros((dim_F, \u001b[38;5;241m1\u001b[39m))) \n",
      "File \u001b[0;32m~/Documents/projects/Circuits/optimization_via_circuits/ciropt/sympy_to_solvers.py:130\u001b[0m, in \u001b[0;36msympy_matrix_to_casadi\u001b[0;34m(sp_matrix, ca_vars, model)\u001b[0m\n\u001b[1;32m    128\u001b[0m \u001b[38;5;28;01mfor\u001b[39;00m i \u001b[38;5;129;01min\u001b[39;00m \u001b[38;5;28mrange\u001b[39m(M\u001b[38;5;241m.\u001b[39mshape[\u001b[38;5;241m0\u001b[39m]):\n\u001b[1;32m    129\u001b[0m         \u001b[38;5;28;01mfor\u001b[39;00m j \u001b[38;5;129;01min\u001b[39;00m \u001b[38;5;28mrange\u001b[39m(M\u001b[38;5;241m.\u001b[39mshape[\u001b[38;5;241m1\u001b[39m]):\n\u001b[0;32m--> 130\u001b[0m             val \u001b[38;5;241m=\u001b[39m \u001b[43msympy_expression_to_casadi_lamb\u001b[49m\u001b[43m(\u001b[49m\u001b[43msp_matrix\u001b[49m\u001b[43m[\u001b[49m\u001b[43mi\u001b[49m\u001b[43m,\u001b[49m\u001b[43m \u001b[49m\u001b[43mj\u001b[49m\u001b[43m]\u001b[49m\u001b[43m,\u001b[49m\u001b[43m \u001b[49m\u001b[43mca_vars\u001b[49m\u001b[43m,\u001b[49m\u001b[43m \u001b[49m\u001b[43mmodel\u001b[49m\u001b[43m)\u001b[49m\n\u001b[1;32m    131\u001b[0m             M \u001b[38;5;241m+\u001b[39m\u001b[38;5;241m=\u001b[39m val \u001b[38;5;241m*\u001b[39m prod_one_hot(M\u001b[38;5;241m.\u001b[39mshape, i, j)\n\u001b[1;32m    132\u001b[0m \u001b[38;5;28;01mreturn\u001b[39;00m M\n",
      "File \u001b[0;32m~/Documents/projects/Circuits/optimization_via_circuits/ciropt/sympy_to_solvers.py:114\u001b[0m, in \u001b[0;36msympy_expression_to_casadi_lamb\u001b[0;34m(sp_expression, ca_vars, model)\u001b[0m\n\u001b[1;32m    112\u001b[0m     prefix, ab, _ \u001b[38;5;241m=\u001b[39m name\u001b[38;5;241m.\u001b[39msplit(\u001b[38;5;124m\"\u001b[39m\u001b[38;5;124m|\u001b[39m\u001b[38;5;124m\"\u001b[39m)\n\u001b[1;32m    113\u001b[0m     a, b \u001b[38;5;241m=\u001b[39m \u001b[38;5;28mmap\u001b[39m(\u001b[38;5;28mint\u001b[39m, ab\u001b[38;5;241m.\u001b[39msplit(\u001b[38;5;124m\"\u001b[39m\u001b[38;5;124m.\u001b[39m\u001b[38;5;124m\"\u001b[39m))\n\u001b[0;32m--> 114\u001b[0m     lamb_ab \u001b[38;5;241m=\u001b[39m \u001b[43mca_vars\u001b[49m\u001b[43m[\u001b[49m\u001b[43mprefix\u001b[49m\u001b[43m]\u001b[49m\u001b[43m[\u001b[49m\u001b[43ma\u001b[49m\u001b[43m,\u001b[49m\u001b[43m \u001b[49m\u001b[43mb\u001b[49m\u001b[43m]\u001b[49m\n\u001b[1;32m    115\u001b[0m     gp_monomial \u001b[38;5;241m=\u001b[39m lamb_ab \u001b[38;5;241m*\u001b[39m ca_linearize_monomial(variables_in_monomial, ca_vars, model)\n\u001b[1;32m    116\u001b[0m \u001b[38;5;28;01melse\u001b[39;00m:\n",
      "File \u001b[0;32m~/opt/anaconda3/envs/circuits/lib/python3.10/site-packages/casadi/casadi.py:16309\u001b[0m, in \u001b[0;36mMX.__getitem__\u001b[0;34m(self, s)\u001b[0m\n\u001b[1;32m  16307\u001b[0m \u001b[38;5;28;01mif\u001b[39;00m \u001b[38;5;28misinstance\u001b[39m(s, \u001b[38;5;28mtuple\u001b[39m) \u001b[38;5;129;01mand\u001b[39;00m \u001b[38;5;28mlen\u001b[39m(s)\u001b[38;5;241m==\u001b[39m\u001b[38;5;241m2\u001b[39m:\n\u001b[1;32m  16308\u001b[0m   \u001b[38;5;28;01mif\u001b[39;00m s[\u001b[38;5;241m1\u001b[39m] \u001b[38;5;129;01mis\u001b[39;00m \u001b[38;5;28;01mNone\u001b[39;00m: \u001b[38;5;28;01mraise\u001b[39;00m \u001b[38;5;167;01mTypeError\u001b[39;00m(\u001b[38;5;124m\"\u001b[39m\u001b[38;5;124mCannot slice with None\u001b[39m\u001b[38;5;124m\"\u001b[39m)\n\u001b[0;32m> 16309\u001b[0m   \u001b[38;5;28;01mreturn\u001b[39;00m \u001b[38;5;28;43mself\u001b[39;49m\u001b[38;5;241;43m.\u001b[39;49m\u001b[43mget\u001b[49m\u001b[43m(\u001b[49m\u001b[38;5;28;43;01mFalse\u001b[39;49;00m\u001b[43m,\u001b[49m\u001b[43m \u001b[49m\u001b[43ms\u001b[49m\u001b[43m[\u001b[49m\u001b[38;5;241;43m0\u001b[39;49m\u001b[43m]\u001b[49m\u001b[43m,\u001b[49m\u001b[43m \u001b[49m\u001b[43ms\u001b[49m\u001b[43m[\u001b[49m\u001b[38;5;241;43m1\u001b[39;49m\u001b[43m]\u001b[49m\u001b[43m)\u001b[49m\n\u001b[1;32m  16310\u001b[0m \u001b[38;5;28;01mreturn\u001b[39;00m \u001b[38;5;28mself\u001b[39m\u001b[38;5;241m.\u001b[39mget(\u001b[38;5;28;01mFalse\u001b[39;00m, s)\n",
      "File \u001b[0;32m~/opt/anaconda3/envs/circuits/lib/python3.10/site-packages/casadi/casadi.py:15584\u001b[0m, in \u001b[0;36mMX.get\u001b[0;34m(self, *args)\u001b[0m\n\u001b[1;32m  15294\u001b[0m \u001b[38;5;28;01mdef\u001b[39;00m \u001b[38;5;21mget\u001b[39m(\u001b[38;5;28mself\u001b[39m, \u001b[38;5;241m*\u001b[39margs) \u001b[38;5;241m-\u001b[39m\u001b[38;5;241m>\u001b[39m \u001b[38;5;124m\"\u001b[39m\u001b[38;5;124mvoid\u001b[39m\u001b[38;5;124m\"\u001b[39m:\n\u001b[1;32m  15295\u001b[0m \u001b[38;5;250m    \u001b[39m\u001b[38;5;124;03m\"\"\"\u001b[39;00m\n\u001b[1;32m  15296\u001b[0m \u001b[38;5;124;03m      [INTERNAL] \u001b[39;00m\n\u001b[1;32m  15297\u001b[0m \n\u001b[0;32m   (...)\u001b[0m\n\u001b[1;32m  15582\u001b[0m \n\u001b[1;32m  15583\u001b[0m \u001b[38;5;124;03m    \"\"\"\u001b[39;00m\n\u001b[0;32m> 15584\u001b[0m     \u001b[38;5;28;01mreturn\u001b[39;00m \u001b[43m_casadi\u001b[49m\u001b[38;5;241;43m.\u001b[39;49m\u001b[43mMX_get\u001b[49m\u001b[43m(\u001b[49m\u001b[38;5;28;43mself\u001b[39;49m\u001b[43m,\u001b[49m\u001b[43m \u001b[49m\u001b[38;5;241;43m*\u001b[39;49m\u001b[43margs\u001b[49m\u001b[43m)\u001b[49m\n",
      "\u001b[0;31mRuntimeError\u001b[0m: .../casadi/core/sparsity_internal.cpp:2196: Assertion \"in_range(cc, -size2()+ind1, size2()+ind1)\" failed:\nOut of bounds error. Got elements in range [3,3], which is outside the range [-3,3)."
     ]
    }
   ],
   "source": [
    "problem = co.decentralized_gradient_descent_line3(mu, L_smooth, R, Inductance)\n",
    "problem.obj = problem.b + problem.d * 0.5\n",
    "\n",
    "bounds = { 'alpha': {\"ub\": 1, \"lb\": 1},\n",
    "            'beta': {\"ub\": 1, \"lb\": 1},\n",
    "            'h': {\"ub\": 0.01, \"lb\": 0.01},\n",
    "            'd': {\"ub\": 0.1, \"lb\": 0.001}, }\n",
    "# res, sol = problem.solve(solver=solver, verbose=False)[:2]\n",
    "# params = {\"alpha\": 0, \"beta\": 1, \"h\": 0.01, \"b\": 1, \"d\":0., \"gamma\": 0 }\n",
    "res, sol = problem.solve(solver=solver, bounds=bounds, verbose=False)[:2]\n",
    "# ca_vars = problem.vars "
   ]
  },
  {
   "cell_type": "code",
   "execution_count": null,
   "metadata": {},
   "outputs": [],
   "source": [
    "res"
   ]
  },
  {
   "cell_type": "markdown",
   "metadata": {},
   "source": [
    "# PEP verification"
   ]
  },
  {
   "cell_type": "code",
   "execution_count": null,
   "metadata": {},
   "outputs": [],
   "source": [
    "# res[\"b\"] -= 0.01\n",
    "# print(res[\"b\"])"
   ]
  },
  {
   "cell_type": "code",
   "execution_count": null,
   "metadata": {},
   "outputs": [],
   "source": [
    "problem = co.decentralized_gradient_descent_line3(mu, L_smooth, R, Inductance, params=res)\n",
    "diff = problem.solve(verbose=0, solver=cp.MOSEK)\n",
    "print(f\"{diff=}\")"
   ]
  },
  {
   "cell_type": "code",
   "execution_count": null,
   "metadata": {},
   "outputs": [],
   "source": [
    "W = np.array([[2/3, 1/3, 0],\n",
    "              [1/3, 1/3, 1/3],\n",
    "              [0, 1/3, 2/3]])\n",
    "np.linalg.eigvals(W)"
   ]
  }
 ],
 "metadata": {
  "kernelspec": {
   "display_name": "osbdo",
   "language": "python",
   "name": "python3"
  },
  "language_info": {
   "codemirror_mode": {
    "name": "ipython",
    "version": 3
   },
   "file_extension": ".py",
   "mimetype": "text/x-python",
   "name": "python",
   "nbconvert_exporter": "python",
   "pygments_lexer": "ipython3",
   "version": "3.10.13"
  }
 },
 "nbformat": 4,
 "nbformat_minor": 2
}
