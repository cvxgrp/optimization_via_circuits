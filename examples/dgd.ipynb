{
 "cells": [
  {
   "cell_type": "code",
   "execution_count": 1,
   "metadata": {},
   "outputs": [],
   "source": [
    "import ciropt as co\n",
    "import cvxpy as cp\n",
    "\n",
    "import numpy as np"
   ]
  },
  {
   "cell_type": "code",
   "execution_count": 2,
   "metadata": {},
   "outputs": [],
   "source": [
    "L_smooth = 1.\n",
    "mu = 0.001\n",
    "\n",
    "Capacitance = 1\n",
    "R = 2\n",
    "\n",
    "# solver = \"ipopt\"\n",
    "# solver = \"ipopt_qcqp\"\n",
    "solver = \"ipopt_qcqp_matrix\"\n",
    "# solver = \"qcqp_sni\"\n",
    "# solver = \"bisection_b\""
   ]
  },
  {
   "cell_type": "code",
   "execution_count": 3,
   "metadata": {},
   "outputs": [
    {
     "name": "stdout",
     "output_type": "stream",
     "text": [
      "dim_G=14, dim_F=10\n",
      "\n",
      "******************************************************************************\n",
      "This program contains Ipopt, a library for large-scale nonlinear optimization.\n",
      " Ipopt is released as open source code under the Eclipse Public License (EPL).\n",
      "         For more information visit https://github.com/coin-or/Ipopt\n",
      "******************************************************************************\n",
      "\n",
      "This is Ipopt version 3.14.11, running with linear solver MUMPS 5.4.1.\n",
      "\n",
      "Number of nonzeros in equality constraint Jacobian...:    29261\n",
      "Number of nonzeros in inequality constraint Jacobian.:     5324\n",
      "Number of nonzeros in Lagrangian Hessian.............:     9870\n",
      "\n",
      "Total number of variables............................:      240\n",
      "                     variables with only lower bounds:        0\n",
      "                variables with lower and upper bounds:        0\n",
      "                     variables with only upper bounds:        0\n",
      "Total number of equality constraints.................:      210\n",
      "Total number of inequality constraints...............:       42\n",
      "        inequality constraints with only lower bounds:       40\n",
      "   inequality constraints with lower and upper bounds:        0\n",
      "        inequality constraints with only upper bounds:        2\n",
      "\n",
      "iter    objective    inf_pr   inf_du lg(mu)  ||d||  lg(rg) alpha_du alpha_pr  ls\n",
      "   0 -0.0000000e+00 1.00e+00 1.00e+00  -1.0 0.00e+00    -  0.00e+00 0.00e+00   0\n",
      "   1 -2.4505003e+01 1.73e-01 1.21e+00  -1.7 5.00e+01  -2.0 9.90e-01 9.80e-01f  1\n",
      "   2 -2.4595413e+01 5.62e-02 2.62e+01  -1.7 2.93e-01   0.2 1.84e-01 5.98e-01h  1\n",
      "   3 -2.4612734e+01 2.79e-02 1.13e+01  -1.7 2.64e-01   0.7 1.00e+00 3.46e-01h  1\n",
      "   4 -2.4615094e+01 5.30e-03 1.96e+01  -1.7 6.33e-02   2.0 9.60e-01 8.33e-01h  1\n",
      "   5 -2.4614863e+01 1.94e-03 7.06e+01  -1.7 4.95e-02   2.4 1.00e+00 7.67e-01h  1\n",
      "   6 -2.4614937e+01 1.20e-03 2.00e+02  -1.7 2.52e-02   2.8 7.59e-01 4.16e-01h  1\n",
      "   7 -2.4614946e+01 8.46e-04 4.38e+02  -1.7 1.63e-02   3.3 1.00e+00 3.20e-01h  1\n",
      "   8 -2.4615024e+01 8.48e-04 2.46e+02  -1.7 6.61e-02   2.8 3.35e-01 2.76e-01f  2\n",
      "   9 -2.4615091e+01 3.09e-04 4.79e+01  -1.7 1.26e-02   3.2 7.99e-01 7.11e-01h  1\n",
      "iter    objective    inf_pr   inf_du lg(mu)  ||d||  lg(rg) alpha_du alpha_pr  ls\n",
      "  10 -2.4615321e+01 1.68e-04 1.24e+02  -1.7 1.10e-02   2.7 1.00e+00 6.76e-01h  1\n",
      "  11 -2.4616715e+01 2.08e-04 1.24e+01  -1.7 1.02e-02   2.3 1.00e+00 1.00e+00f  1\n",
      "  12 -2.4617165e+01 5.86e-05 7.90e+01  -1.7 5.76e-03   2.7 1.00e+00 9.16e-01h  1\n",
      "  13 -2.4618715e+01 2.51e-04 6.11e+00  -1.7 1.23e-02   2.2 1.00e+00 1.00e+00f  1\n",
      "  14 -2.4623359e+01 1.22e-03 1.91e+01  -1.7 2.76e-02   1.7 1.00e+00 1.00e+00f  1\n",
      "  15 -2.4637284e+01 4.39e-03 3.31e+01  -1.7 5.31e-02   1.3 1.00e+00 1.00e+00f  1\n",
      "  16 -2.4679048e+01 1.31e-02 3.91e+01  -1.7 9.13e-02   0.8 1.00e+00 1.00e+00f  1\n",
      "  17 -2.4804334e+01 4.19e-02 2.25e+02  -1.7 2.51e-01   0.3 8.33e-01 1.00e+00f  1\n",
      "  18 -2.5180182e+01 1.77e-02 3.65e+02  -1.7 7.52e-01  -0.2 5.75e-01 1.00e+00F  1\n",
      "  19 -2.6307742e+01 3.23e-01 1.41e+02  -1.7 2.26e+00  -0.7 8.65e-01 1.00e+00f  1\n",
      "iter    objective    inf_pr   inf_du lg(mu)  ||d||  lg(rg) alpha_du alpha_pr  ls\n",
      "  20 -2.9690370e+01 1.38e-01 1.21e+02  -1.7 6.77e+00  -1.1 5.68e-01 1.00e+00f  1\n",
      "  21 -3.9838243e+01 2.15e-01 3.55e+01  -1.7 2.03e+01  -1.6 7.68e-01 1.00e+00f  1\n",
      "  22 -7.0281879e+01 5.44e-01 1.87e+01  -1.7 6.09e+01  -2.1 6.45e-01 1.00e+00f  1\n",
      "  23 -1.6161278e+02 7.09e-01 5.79e+00  -1.7 1.83e+02  -2.6 8.03e-01 1.00e+00f  1\n",
      "  24 -4.3560549e+02 7.53e+00 5.85e+01  -1.7 5.48e+02  -3.0 7.31e-01 1.00e+00f  1\n",
      "  25 -1.2575836e+03 7.69e+00 1.70e+01  -1.7 1.64e+03  -3.5 8.39e-01 1.00e+00f  1\n",
      "  26 -3.7235180e+03 2.47e+00 6.49e+00  -1.7 4.93e+03  -4.0 9.24e-01 1.00e+00f  1\n",
      "  27 -1.1121321e+04 2.12e+01 1.28e+01  -1.7 1.48e+04  -4.5 8.63e-01 1.00e+00f  1\n",
      "  28 -3.3314731e+04 6.93e+00 2.93e+00  -1.7 4.44e+04  -4.9 9.18e-01 1.00e+00f  1\n",
      "  29 -9.9894960e+04 1.36e+01 6.79e+00  -1.7 1.33e+05  -5.4 8.94e-01 1.00e+00f  1\n"
     ]
    }
   ],
   "source": [
    "problem = co.decentralized_gradient_descent_line3(mu, L_smooth, R, Capacitance)\n",
    "problem.obj = problem.b + problem.d * 0.5\n",
    "\n",
    "bounds = { #'alpha': {\"ub\": 1, \"lb\": 1},\n",
    "            #'beta': {\"ub\": 1, \"lb\": 1},\n",
    "            'h': {\"ub\": 0.01, \"lb\": 0.0001},\n",
    "            'b': {\"ub\": 0.5, \"lb\": 0.0001}, }\n",
    "# res, sol = problem.solve(solver=solver, verbose=True)[:2]\n",
    "# params = {\"alpha\": 0, \"beta\": 1, \"h\": 0.01, \"b\": 1, \"d\":0., \"gamma\": 0 }\n",
    "res, sol = problem.solve(solver=solver, bounds=bounds, verbose=True)[:2]\n",
    "ca_vars = problem.vars "
   ]
  },
  {
   "cell_type": "code",
   "execution_count": null,
   "metadata": {},
   "outputs": [],
   "source": [
    "res"
   ]
  },
  {
   "cell_type": "markdown",
   "metadata": {},
   "source": [
    "# PEP verification"
   ]
  },
  {
   "cell_type": "code",
   "execution_count": null,
   "metadata": {},
   "outputs": [],
   "source": [
    "# res[\"b\"] -= 0.01\n",
    "# print(res[\"b\"])"
   ]
  },
  {
   "cell_type": "code",
   "execution_count": null,
   "metadata": {},
   "outputs": [
    {
     "name": "stdout",
     "output_type": "stream",
     "text": [
      "diff=None\n"
     ]
    }
   ],
   "source": [
    "problem = co.decentralized_gradient_descent_line3(mu, L_smooth, R, Capacitance, params=res)\n",
    "diff = problem.solve(verbose=0, solver=cp.MOSEK)\n",
    "print(f\"{diff=}\")"
   ]
  },
  {
   "cell_type": "code",
   "execution_count": null,
   "metadata": {},
   "outputs": [],
   "source": []
  }
 ],
 "metadata": {
  "kernelspec": {
   "display_name": "osbdo",
   "language": "python",
   "name": "python3"
  },
  "language_info": {
   "codemirror_mode": {
    "name": "ipython",
    "version": 3
   },
   "file_extension": ".py",
   "mimetype": "text/x-python",
   "name": "python",
   "nbconvert_exporter": "python",
   "pygments_lexer": "ipython3",
   "version": "3.10.13"
  }
 },
 "nbformat": 4,
 "nbformat_minor": 2
}
