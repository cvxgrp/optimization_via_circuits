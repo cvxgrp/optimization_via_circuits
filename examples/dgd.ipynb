{
 "cells": [
  {
   "cell_type": "code",
   "execution_count": 1,
   "metadata": {},
   "outputs": [],
   "source": [
    "import ciropt as co\n",
    "import cvxpy as cp\n",
    "\n",
    "import numpy as np"
   ]
  },
  {
   "cell_type": "code",
   "execution_count": 9,
   "metadata": {},
   "outputs": [],
   "source": [
    "L_smooth = 1.\n",
    "mu = 0.01\n",
    "\n",
    "Capacitance = 1\n",
    "R = 1.\n",
    "\n",
    "# solver = \"ipopt\"\n",
    "solver = \"ipopt_qcqp\"\n",
    "# solver = \"ipopt_qcqp _matrix\"\n",
    "# solver = \"qcqp_sni\"\n",
    "# solver = \"bisection_b\""
   ]
  },
  {
   "cell_type": "code",
   "execution_count": 10,
   "metadata": {},
   "outputs": [
    {
     "name": "stdout",
     "output_type": "stream",
     "text": [
      "dim_G=14, dim_F=10\n",
      "Ipopt total # of variables = 292\n",
      "Actual # of variables = 142\n",
      "Could not find a solution using Ipopt\n"
     ]
    }
   ],
   "source": [
    "problem = co.decentralized_gradient_descent_line3(mu, L_smooth, R, Capacitance)\n",
    "problem.obj = problem.b + problem.d * 0.5\n",
    "\n",
    "# bounds = { #'alpha': {\"ub\": 1, \"lb\": 1},\n",
    "#             #'beta': {\"ub\": 1, \"lb\": 1},\n",
    "#             'h': {\"ub\": 0.01, \"lb\": 0.0001},\n",
    "#             'b': {\"ub\": 0.5, \"lb\": 0.0001}, }\n",
    "res, sol = problem.solve(solver=solver, verbose=False)[:2]\n",
    "# ca_vars = problem.vars "
   ]
  },
  {
   "cell_type": "code",
   "execution_count": 11,
   "metadata": {},
   "outputs": [],
   "source": [
    "res"
   ]
  },
  {
   "cell_type": "markdown",
   "metadata": {},
   "source": [
    "# PEP verification"
   ]
  },
  {
   "cell_type": "code",
   "execution_count": null,
   "metadata": {},
   "outputs": [],
   "source": [
    "res[\"b\"] -= 0.06\n",
    "assert res[\"b\"] >= 1e-2"
   ]
  },
  {
   "cell_type": "code",
   "execution_count": null,
   "metadata": {},
   "outputs": [],
   "source": [
    "problem = co.decentralized_gradient_descent_line3(mu, L_smooth, R, Capacitance, params=res)\n",
    "diff = problem.solve(verbose=0, solver=cp.MOSEK)\n",
    "print(f\"{diff=}\")"
   ]
  },
  {
   "cell_type": "code",
   "execution_count": null,
   "metadata": {},
   "outputs": [],
   "source": []
  },
  {
   "cell_type": "code",
   "execution_count": null,
   "metadata": {},
   "outputs": [],
   "source": []
  }
 ],
 "metadata": {
  "kernelspec": {
   "display_name": "osbdo",
   "language": "python",
   "name": "python3"
  },
  "language_info": {
   "codemirror_mode": {
    "name": "ipython",
    "version": 3
   },
   "file_extension": ".py",
   "mimetype": "text/x-python",
   "name": "python",
   "nbconvert_exporter": "python",
   "pygments_lexer": "ipython3",
   "version": "3.9.18"
  }
 },
 "nbformat": 4,
 "nbformat_minor": 2
}
