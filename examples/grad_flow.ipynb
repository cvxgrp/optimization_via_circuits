{
 "cells": [
  {
   "cell_type": "code",
   "execution_count": 1,
   "metadata": {},
   "outputs": [],
   "source": [
    "import ciropt as co\n",
    "import cvxpy as cp"
   ]
  },
  {
   "cell_type": "code",
   "execution_count": 2,
   "metadata": {},
   "outputs": [],
   "source": [
    "L_smooth = 1.\n",
    "mu = 0.00001\n",
    "Capacitance = 1.\n",
    "\n",
    "\n",
    "solver = \"ca\"\n",
    "solver = \"ca_canonical\"\n",
    "# solver = \"ca_canonical_X\"\n",
    "# solver = \"gp_canonical_X\"\n",
    "# solver = \"qcqp_sni\"\n",
    "# solver = \"cvx_dccp\"\n",
    "\n",
    "time_limit = 100"
   ]
  },
  {
   "cell_type": "markdown",
   "metadata": {},
   "source": [
    "# Ciropt problem"
   ]
  },
  {
   "cell_type": "code",
   "execution_count": 3,
   "metadata": {},
   "outputs": [
    {
     "name": "stdout",
     "output_type": "stream",
     "text": [
      "dim_G=5, dim_F=4\n",
      "{'b': 0.9330127549898344, 'h': 1.000000007180752, 'd': 0.0, 'alpha': 0.4999999929957276, 'beta': 0.5000000065841887}\n"
     ]
    }
   ],
   "source": [
    "problem = co.gradient_flow_circuit(mu, L_smooth, Capacitance)\n",
    "problem.obj = problem.b\n",
    "bounds = {  \n",
    "            # 'b': {\"ub\": 10, \"lb\": 1},\n",
    "            # 'd': {\"ub\": 10, \"lb\": 0.},\n",
    "            'h': {\"ub\": 1, \"lb\": 1},\n",
    "            'alpha': {\"ub\": 0.5, \"lb\": 0.5},\n",
    "            'beta': {\"ub\": 0.5, \"lb\": 0.5},\n",
    "            }\n",
    "\n",
    "res, model, sp_exp = problem.solve(solver=solver, verbose=False, bounds=bounds, time_limit=100)[:3]\n",
    "print(res)"
   ]
  },
  {
   "cell_type": "markdown",
   "metadata": {},
   "source": [
    "# PEP verification"
   ]
  },
  {
   "cell_type": "code",
   "execution_count": 4,
   "metadata": {},
   "outputs": [
    {
     "data": {
      "text/plain": [
       "{'b': 0.9330127549898344,\n",
       " 'h': 1.000000007180752,\n",
       " 'd': 0.0,\n",
       " 'alpha': 0.4999999929957276,\n",
       " 'beta': 0.5000000065841887}"
      ]
     },
     "execution_count": 4,
     "metadata": {},
     "output_type": "execute_result"
    }
   ],
   "source": [
    "res"
   ]
  },
  {
   "cell_type": "code",
   "execution_count": 5,
   "metadata": {},
   "outputs": [],
   "source": [
    "# {'b': 0.9999999972740821,\n",
    "#  'h': 2.3476576020226845,\n",
    "#  'd': 0.0,\n",
    "#  'alpha': 0.42594920754454807,\n",
    "#  'beta': 0.42592981378027417}\n",
    "\n",
    "\n",
    "# {'alpha': 9.098402068796711e-05,\n",
    "#  'b': 0.9999999898240947,\n",
    "#  'beta': 0.5039539138113834,\n",
    "#  'd': 9497.932149988383,\n",
    "#  'h': 1.000108919758979}"
   ]
  },
  {
   "cell_type": "code",
   "execution_count": 6,
   "metadata": {},
   "outputs": [
    {
     "name": "stdout",
     "output_type": "stream",
     "text": [
      "diff=-2.690665634741407e-09\n"
     ]
    }
   ],
   "source": [
    "problem = co.gradient_flow_circuit(mu, L_smooth, Capacitance, params=res)\n",
    "diff = problem.solve(verbose=0, solver=cp.MOSEK)\n",
    "print(f\"{diff=}\")"
   ]
  },
  {
   "cell_type": "code",
   "execution_count": null,
   "metadata": {},
   "outputs": [],
   "source": []
  }
 ],
 "metadata": {
  "kernelspec": {
   "display_name": "osbdo",
   "language": "python",
   "name": "python3"
  },
  "language_info": {
   "codemirror_mode": {
    "name": "ipython",
    "version": 3
   },
   "file_extension": ".py",
   "mimetype": "text/x-python",
   "name": "python",
   "nbconvert_exporter": "python",
   "pygments_lexer": "ipython3",
   "version": "3.10.13"
  }
 },
 "nbformat": 4,
 "nbformat_minor": 2
}
