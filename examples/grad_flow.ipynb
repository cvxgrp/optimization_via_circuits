{
 "cells": [
  {
   "cell_type": "code",
   "execution_count": 1,
   "metadata": {},
   "outputs": [],
   "source": [
    "import ciropt as co\n",
    "import cvxpy as cp"
   ]
  },
  {
   "cell_type": "code",
   "execution_count": 2,
   "metadata": {},
   "outputs": [],
   "source": [
    "L_smooth = 1.\n",
    "mu = 0.00001\n",
    "Capacitance = 1.\n",
    "\n",
    "\n",
    "solver = \"ca\"\n",
    "solver = \"ca_canonical\"\n",
    "# solver = \"ca_canonical_X\"\n",
    "# solver = \"gp_canonical_X\"\n",
    "solver = \"qcqp_sni\"\n",
    "# solver = \"cvx_dccp\"\n",
    "\n",
    "time_limit = 100"
   ]
  },
  {
   "cell_type": "markdown",
   "metadata": {},
   "source": [
    "# Ciropt problem"
   ]
  },
  {
   "cell_type": "code",
   "execution_count": 3,
   "metadata": {},
   "outputs": [
    {
     "name": "stdout",
     "output_type": "stream",
     "text": [
      "dim_G=5, dim_F=4\n",
      "|x| = 47, |fs|=65\n"
     ]
    },
    {
     "name": "stderr",
     "output_type": "stream",
     "text": [
      "/Users/parshakova.tanya/opt/anaconda3/envs/circuits/lib/python3.10/site-packages/cvxpy/problems/problem.py:1403: UserWarning: Solution may be inaccurate. Try another solver, adjusting the solver settings, or solve with verbose=True for more information.\n",
      "  warnings.warn(\n",
      "/Users/parshakova.tanya/Documents/projects/Circuits/qcqp/qcqp/qcqp.py:392: RuntimeWarning: covariance is not symmetric positive-semidefinite.\n",
      "  x = np.random.multivariate_normal(self.mu.flatten(), self.Sigma)\n"
     ]
    },
    {
     "name": "stdout",
     "output_type": "stream",
     "text": [
      "SDR lower bound: -48.8870\n",
      "Penalty CCP: objective -2261.2684, violation 2527485.3183, v==0: 0\n",
      "SDR lower bound: -48.8870\n",
      "Penalty CCP + coordinate descent: objective 1137.3031, violation 1258878.7737\n"
     ]
    },
    {
     "ename": "KeyboardInterrupt",
     "evalue": "",
     "output_type": "error",
     "traceback": [
      "\u001b[0;31m---------------------------------------------------------------------------\u001b[0m",
      "\u001b[0;31mKeyboardInterrupt\u001b[0m                         Traceback (most recent call last)",
      "Input \u001b[0;32mIn [3]\u001b[0m, in \u001b[0;36m<cell line: 11>\u001b[0;34m()\u001b[0m\n\u001b[1;32m      2\u001b[0m problem\u001b[38;5;241m.\u001b[39mobj \u001b[38;5;241m=\u001b[39m problem\u001b[38;5;241m.\u001b[39mb\n\u001b[1;32m      3\u001b[0m bounds \u001b[38;5;241m=\u001b[39m {  \n\u001b[1;32m      4\u001b[0m             \u001b[38;5;66;03m# 'b': {\"ub\": 10, \"lb\": 1},\u001b[39;00m\n\u001b[1;32m      5\u001b[0m             \u001b[38;5;66;03m# 'd': {\"ub\": 10, \"lb\": 0.},\u001b[39;00m\n\u001b[0;32m   (...)\u001b[0m\n\u001b[1;32m      8\u001b[0m             \u001b[38;5;124m'\u001b[39m\u001b[38;5;124mbeta\u001b[39m\u001b[38;5;124m'\u001b[39m: {\u001b[38;5;124m\"\u001b[39m\u001b[38;5;124mub\u001b[39m\u001b[38;5;124m\"\u001b[39m: \u001b[38;5;241m0.5\u001b[39m, \u001b[38;5;124m\"\u001b[39m\u001b[38;5;124mlb\u001b[39m\u001b[38;5;124m\"\u001b[39m: \u001b[38;5;241m0.5\u001b[39m},\n\u001b[1;32m      9\u001b[0m             }\n\u001b[0;32m---> 11\u001b[0m res, model, sp_exp \u001b[38;5;241m=\u001b[39m \u001b[43mproblem\u001b[49m\u001b[38;5;241;43m.\u001b[39;49m\u001b[43msolve\u001b[49m\u001b[43m(\u001b[49m\u001b[43msolver\u001b[49m\u001b[38;5;241;43m=\u001b[39;49m\u001b[43msolver\u001b[49m\u001b[43m,\u001b[49m\u001b[43m \u001b[49m\u001b[43mverbose\u001b[49m\u001b[38;5;241;43m=\u001b[39;49m\u001b[38;5;28;43;01mFalse\u001b[39;49;00m\u001b[43m,\u001b[49m\u001b[43m \u001b[49m\u001b[43mbounds\u001b[49m\u001b[38;5;241;43m=\u001b[39;49m\u001b[43mbounds\u001b[49m\u001b[43m,\u001b[49m\u001b[43m \u001b[49m\u001b[43mtime_limit\u001b[49m\u001b[38;5;241;43m=\u001b[39;49m\u001b[38;5;241;43m100\u001b[39;49m\u001b[43m)\u001b[49m[:\u001b[38;5;241m3\u001b[39m]\n\u001b[1;32m     12\u001b[0m \u001b[38;5;28mprint\u001b[39m(res)\n",
      "File \u001b[0;32m~/Documents/projects/Circuits/optimization_via_circuits/ciropt/circuit_opt.py:1241\u001b[0m, in \u001b[0;36mCircuitOpt.solve\u001b[0;34m(self, solver, **kwargs)\u001b[0m\n\u001b[1;32m   1239\u001b[0m     \u001b[38;5;28;01mreturn\u001b[39;00m \u001b[38;5;28mself\u001b[39m\u001b[38;5;241m.\u001b[39msolve_dccp(\u001b[38;5;241m*\u001b[39m\u001b[38;5;241m*\u001b[39mkwargs)\n\u001b[1;32m   1240\u001b[0m \u001b[38;5;28;01melif\u001b[39;00m solver \u001b[38;5;241m==\u001b[39m \u001b[38;5;124m\"\u001b[39m\u001b[38;5;124mqcqp_sni\u001b[39m\u001b[38;5;124m\"\u001b[39m:\n\u001b[0;32m-> 1241\u001b[0m     \u001b[38;5;28;01mreturn\u001b[39;00m \u001b[38;5;28;43mself\u001b[39;49m\u001b[38;5;241;43m.\u001b[39;49m\u001b[43msolve_qcqp_sni\u001b[49m\u001b[43m(\u001b[49m\u001b[38;5;241;43m*\u001b[39;49m\u001b[38;5;241;43m*\u001b[39;49m\u001b[43mkwargs\u001b[49m\u001b[43m)\u001b[49m\n\u001b[1;32m   1242\u001b[0m \u001b[38;5;28;01melif\u001b[39;00m solver \u001b[38;5;241m==\u001b[39m \u001b[38;5;124m\"\u001b[39m\u001b[38;5;124mbisection_b\u001b[39m\u001b[38;5;124m\"\u001b[39m:\n\u001b[1;32m   1243\u001b[0m     \u001b[38;5;28;01mreturn\u001b[39;00m \u001b[38;5;28mself\u001b[39m\u001b[38;5;241m.\u001b[39msolve_bisection_b(\u001b[38;5;241m*\u001b[39m\u001b[38;5;241m*\u001b[39mkwargs)\n",
      "File \u001b[0;32m~/Documents/projects/Circuits/optimization_via_circuits/ciropt/circuit_opt.py:835\u001b[0m, in \u001b[0;36mCircuitOpt.solve_qcqp_sni\u001b[0;34m(self, verbose, max_iter, debug, bounds, **kwargs)\u001b[0m\n\u001b[1;32m    823\u001b[0m \u001b[38;5;66;03m# qcqp.suggest(sni.SDR, solver=cp.CLARABEL)\u001b[39;00m\n\u001b[1;32m    824\u001b[0m \u001b[38;5;66;03m# print(\"SDR lower bound: %.4f\" % qcqp.sdr_bound)\u001b[39;00m\n\u001b[1;32m    825\u001b[0m \u001b[38;5;66;03m# f_ipopt, v_ipopt = qcqp.improve(sni.COORD_DESCENT)\u001b[39;00m\n\u001b[0;32m   (...)\u001b[0m\n\u001b[1;32m    831\u001b[0m \u001b[38;5;66;03m# f_ipopt, v_ipopt = qcqp.improve(sni.IPOPT, max_iter=500000, verbose=True, init=False)\u001b[39;00m\n\u001b[1;32m    832\u001b[0m \u001b[38;5;66;03m# print(\"Ipopt: objective %.4f, violation %.4f\" % (f_ipopt, v_ipopt))\u001b[39;00m\n\u001b[1;32m    834\u001b[0m qcqp\u001b[38;5;241m.\u001b[39msuggest(sni\u001b[38;5;241m.\u001b[39mSDR, solver\u001b[38;5;241m=\u001b[39mcp\u001b[38;5;241m.\u001b[39mCLARABEL)\n\u001b[0;32m--> 835\u001b[0m f_admm, v_admm \u001b[38;5;241m=\u001b[39m \u001b[43mqcqp\u001b[49m\u001b[38;5;241;43m.\u001b[39;49m\u001b[43mimprove\u001b[49m\u001b[43m(\u001b[49m\u001b[43msni\u001b[49m\u001b[38;5;241;43m.\u001b[39;49m\u001b[43mCOORD_DESCENT\u001b[49m\u001b[43m)\u001b[49m\n\u001b[1;32m    836\u001b[0m f_admm, v_admm \u001b[38;5;241m=\u001b[39m qcqp\u001b[38;5;241m.\u001b[39mimprove(sni\u001b[38;5;241m.\u001b[39mADMM, phase1\u001b[38;5;241m=\u001b[39m\u001b[38;5;28;01mFalse\u001b[39;00m)\n\u001b[1;32m    837\u001b[0m \u001b[38;5;28mprint\u001b[39m(\u001b[38;5;124m\"\u001b[39m\u001b[38;5;124mCoordinate descent + nonconvex ADMM: objective \u001b[39m\u001b[38;5;132;01m%.4f\u001b[39;00m\u001b[38;5;124m, violation \u001b[39m\u001b[38;5;132;01m%.4f\u001b[39;00m\u001b[38;5;124m\"\u001b[39m \u001b[38;5;241m%\u001b[39m (f_admm, v_admm))\n",
      "File \u001b[0;32m~/Documents/projects/Circuits/qcqp/qcqp/qcqp.py:429\u001b[0m, in \u001b[0;36mQCQP.improve\u001b[0;34m(self, method, *args, **kwargs)\u001b[0m\n\u001b[1;32m    426\u001b[0m     \u001b[38;5;28mself\u001b[39m\u001b[38;5;241m.\u001b[39msuggest()\n\u001b[1;32m    428\u001b[0m \u001b[38;5;28;01mfor\u001b[39;00m method \u001b[38;5;129;01min\u001b[39;00m methods:\n\u001b[0;32m--> 429\u001b[0m     f, v \u001b[38;5;241m=\u001b[39m \u001b[38;5;28;43mself\u001b[39;49m\u001b[38;5;241;43m.\u001b[39;49m\u001b[43m_improve\u001b[49m\u001b[43m(\u001b[49m\u001b[43mmethod\u001b[49m\u001b[43m,\u001b[49m\u001b[43m \u001b[49m\u001b[38;5;241;43m*\u001b[39;49m\u001b[43margs\u001b[49m\u001b[43m,\u001b[49m\u001b[43m \u001b[49m\u001b[38;5;241;43m*\u001b[39;49m\u001b[38;5;241;43m*\u001b[39;49m\u001b[43mkwargs\u001b[49m\u001b[43m)\u001b[49m\n\u001b[1;32m    430\u001b[0m \u001b[38;5;28;01mreturn\u001b[39;00m (f, v)\n",
      "File \u001b[0;32m~/Documents/projects/Circuits/qcqp/qcqp/qcqp.py:404\u001b[0m, in \u001b[0;36mQCQP._improve\u001b[0;34m(self, method, *args, **kwargs)\u001b[0m\n\u001b[1;32m    402\u001b[0m x0 \u001b[38;5;241m=\u001b[39m \u001b[38;5;28mself\u001b[39m\u001b[38;5;241m.\u001b[39mprob\u001b[38;5;241m.\u001b[39mvariables()\u001b[38;5;241m.\u001b[39mvalue\u001b[38;5;241m.\u001b[39mflatten()\n\u001b[1;32m    403\u001b[0m \u001b[38;5;28;01mif\u001b[39;00m method \u001b[38;5;241m==\u001b[39m s\u001b[38;5;241m.\u001b[39mCOORD_DESCENT:\n\u001b[0;32m--> 404\u001b[0m     x \u001b[38;5;241m=\u001b[39m \u001b[43mimprove_coord_descent\u001b[49m\u001b[43m(\u001b[49m\u001b[43mx0\u001b[49m\u001b[43m,\u001b[49m\u001b[43m \u001b[49m\u001b[38;5;28;43mself\u001b[39;49m\u001b[38;5;241;43m.\u001b[39;49m\u001b[43mqcqp_form\u001b[49m\u001b[43m,\u001b[49m\u001b[43m \u001b[49m\u001b[38;5;241;43m*\u001b[39;49m\u001b[43margs\u001b[49m\u001b[43m,\u001b[49m\u001b[43m \u001b[49m\u001b[38;5;241;43m*\u001b[39;49m\u001b[38;5;241;43m*\u001b[39;49m\u001b[43mkwargs\u001b[49m\u001b[43m)\u001b[49m\n\u001b[1;32m    405\u001b[0m \u001b[38;5;28;01melif\u001b[39;00m method \u001b[38;5;241m==\u001b[39m s\u001b[38;5;241m.\u001b[39mADMM:\n\u001b[1;32m    406\u001b[0m     x \u001b[38;5;241m=\u001b[39m improve_admm(x0, \u001b[38;5;28mself\u001b[39m\u001b[38;5;241m.\u001b[39mqcqp_form, \u001b[38;5;241m*\u001b[39margs, \u001b[38;5;241m*\u001b[39m\u001b[38;5;241m*\u001b[39mkwargs)\n",
      "File \u001b[0;32m~/Documents/projects/Circuits/qcqp/qcqp/qcqp.py:191\u001b[0m, in \u001b[0;36mimprove_coord_descent\u001b[0;34m(x, prob, *args, **kwargs)\u001b[0m\n\u001b[1;32m    188\u001b[0m phase1 \u001b[38;5;241m=\u001b[39m kwargs\u001b[38;5;241m.\u001b[39mget(\u001b[38;5;124m'\u001b[39m\u001b[38;5;124mphase1\u001b[39m\u001b[38;5;124m'\u001b[39m, \u001b[38;5;28;01mTrue\u001b[39;00m)\n\u001b[1;32m    190\u001b[0m \u001b[38;5;28;01mif\u001b[39;00m phase1:\n\u001b[0;32m--> 191\u001b[0m     x \u001b[38;5;241m=\u001b[39m \u001b[43mcoord_descent_phase1\u001b[49m\u001b[43m(\u001b[49m\u001b[43mx\u001b[49m\u001b[43m,\u001b[49m\u001b[43m \u001b[49m\u001b[43mprob\u001b[49m\u001b[43m,\u001b[49m\u001b[43m \u001b[49m\u001b[43mnum_iters\u001b[49m\u001b[43m,\u001b[49m\u001b[43m \u001b[49m\u001b[43mviol_tol\u001b[49m\u001b[43m,\u001b[49m\u001b[43m \u001b[49m\u001b[43mtol\u001b[49m\u001b[43m)\u001b[49m\n\u001b[1;32m    192\u001b[0m \u001b[38;5;28;01mif\u001b[39;00m \u001b[38;5;28mmax\u001b[39m(prob\u001b[38;5;241m.\u001b[39mviolations(x)) \u001b[38;5;241m<\u001b[39m viol_tol:\n\u001b[1;32m    193\u001b[0m     x \u001b[38;5;241m=\u001b[39m coord_descent_phase2(x, prob, num_iters, viol_tol, tol)\n",
      "File \u001b[0;32m~/Documents/projects/Circuits/qcqp/qcqp/qcqp.py:117\u001b[0m, in \u001b[0;36mcoord_descent_phase1\u001b[0;34m(x0, prob, num_iters, viol_tol, tol)\u001b[0m\n\u001b[1;32m    115\u001b[0m \u001b[38;5;28;01mfor\u001b[39;00m i \u001b[38;5;129;01min\u001b[39;00m \u001b[38;5;28mrange\u001b[39m(prob\u001b[38;5;241m.\u001b[39mn):\n\u001b[1;32m    116\u001b[0m     obj \u001b[38;5;241m=\u001b[39m OneVarQuadraticFunction(\u001b[38;5;241m0\u001b[39m, \u001b[38;5;241m0\u001b[39m, \u001b[38;5;241m0\u001b[39m)\n\u001b[0;32m--> 117\u001b[0m     nfs \u001b[38;5;241m=\u001b[39m [f\u001b[38;5;241m.\u001b[39mget_onevar_func(x, i) \u001b[38;5;28;01mfor\u001b[39;00m f \u001b[38;5;129;01min\u001b[39;00m prob\u001b[38;5;241m.\u001b[39mfs]\n\u001b[1;32m    118\u001b[0m     nfs \u001b[38;5;241m=\u001b[39m [f \u001b[38;5;28;01mfor\u001b[39;00m f \u001b[38;5;129;01min\u001b[39;00m nfs \u001b[38;5;28;01mif\u001b[39;00m f\u001b[38;5;241m.\u001b[39mP \u001b[38;5;241m!=\u001b[39m \u001b[38;5;241m0\u001b[39m \u001b[38;5;129;01mor\u001b[39;00m f\u001b[38;5;241m.\u001b[39mq \u001b[38;5;241m!=\u001b[39m \u001b[38;5;241m0\u001b[39m]\n\u001b[1;32m    119\u001b[0m     \u001b[38;5;28;01mif\u001b[39;00m nfs \u001b[38;5;241m==\u001b[39m []: \u001b[38;5;28;01mcontinue\u001b[39;00m\n",
      "File \u001b[0;32m~/Documents/projects/Circuits/qcqp/qcqp/qcqp.py:117\u001b[0m, in \u001b[0;36m<listcomp>\u001b[0;34m(.0)\u001b[0m\n\u001b[1;32m    115\u001b[0m \u001b[38;5;28;01mfor\u001b[39;00m i \u001b[38;5;129;01min\u001b[39;00m \u001b[38;5;28mrange\u001b[39m(prob\u001b[38;5;241m.\u001b[39mn):\n\u001b[1;32m    116\u001b[0m     obj \u001b[38;5;241m=\u001b[39m OneVarQuadraticFunction(\u001b[38;5;241m0\u001b[39m, \u001b[38;5;241m0\u001b[39m, \u001b[38;5;241m0\u001b[39m)\n\u001b[0;32m--> 117\u001b[0m     nfs \u001b[38;5;241m=\u001b[39m [\u001b[43mf\u001b[49m\u001b[38;5;241;43m.\u001b[39;49m\u001b[43mget_onevar_func\u001b[49m\u001b[43m(\u001b[49m\u001b[43mx\u001b[49m\u001b[43m,\u001b[49m\u001b[43m \u001b[49m\u001b[43mi\u001b[49m\u001b[43m)\u001b[49m \u001b[38;5;28;01mfor\u001b[39;00m f \u001b[38;5;129;01min\u001b[39;00m prob\u001b[38;5;241m.\u001b[39mfs]\n\u001b[1;32m    118\u001b[0m     nfs \u001b[38;5;241m=\u001b[39m [f \u001b[38;5;28;01mfor\u001b[39;00m f \u001b[38;5;129;01min\u001b[39;00m nfs \u001b[38;5;28;01mif\u001b[39;00m f\u001b[38;5;241m.\u001b[39mP \u001b[38;5;241m!=\u001b[39m \u001b[38;5;241m0\u001b[39m \u001b[38;5;129;01mor\u001b[39;00m f\u001b[38;5;241m.\u001b[39mq \u001b[38;5;241m!=\u001b[39m \u001b[38;5;241m0\u001b[39m]\n\u001b[1;32m    119\u001b[0m     \u001b[38;5;28;01mif\u001b[39;00m nfs \u001b[38;5;241m==\u001b[39m []: \u001b[38;5;28;01mcontinue\u001b[39;00m\n",
      "File \u001b[0;32m~/Documents/projects/Circuits/qcqp/qcqp/utilities.py:128\u001b[0m, in \u001b[0;36mQuadraticFunction.get_onevar_func\u001b[0;34m(self, x, k)\u001b[0m\n\u001b[1;32m    126\u001b[0m \u001b[38;5;66;03m# print(f\"{type(self.P)=} \\n{self.P=}\")\u001b[39;00m\n\u001b[1;32m    127\u001b[0m t2 \u001b[38;5;241m=\u001b[39m \u001b[38;5;28mself\u001b[39m\u001b[38;5;241m.\u001b[39mP[k, k]\n\u001b[0;32m--> 128\u001b[0m t1 \u001b[38;5;241m=\u001b[39m \u001b[38;5;241m2\u001b[39m\u001b[38;5;241m*\u001b[39m\u001b[38;5;28;43mself\u001b[39;49m\u001b[38;5;241;43m.\u001b[39;49m\u001b[43mP\u001b[49m\u001b[43m[\u001b[49m\u001b[43mk\u001b[49m\u001b[43m,\u001b[49m\u001b[43m \u001b[49m\u001b[43m:\u001b[49m\u001b[43m]\u001b[49m\u001b[38;5;241;43m.\u001b[39;49m\u001b[43mdot\u001b[49m\u001b[43m(\u001b[49m\u001b[43mz\u001b[49m\u001b[43m)\u001b[49m[\u001b[38;5;241m0\u001b[39m] \u001b[38;5;241m+\u001b[39m \u001b[38;5;28mself\u001b[39m\u001b[38;5;241m.\u001b[39mqarray[k]\n\u001b[1;32m    129\u001b[0m t0 \u001b[38;5;241m=\u001b[39m (\u001b[38;5;28mself\u001b[39m\u001b[38;5;241m.\u001b[39mP\u001b[38;5;241m.\u001b[39mdot(z) \u001b[38;5;241m+\u001b[39m \u001b[38;5;28mself\u001b[39m\u001b[38;5;241m.\u001b[39mqarray)\u001b[38;5;241m.\u001b[39mdot(z) \u001b[38;5;241m+\u001b[39m \u001b[38;5;28mself\u001b[39m\u001b[38;5;241m.\u001b[39mr\n\u001b[1;32m    130\u001b[0m \u001b[38;5;28;01mreturn\u001b[39;00m OneVarQuadraticFunction(t2, t1, t0, \u001b[38;5;28mself\u001b[39m\u001b[38;5;241m.\u001b[39mrelop)\n",
      "File \u001b[0;32m~/opt/anaconda3/envs/circuits/lib/python3.10/site-packages/scipy/sparse/_base.py:411\u001b[0m, in \u001b[0;36m_spbase.dot\u001b[0;34m(self, other)\u001b[0m\n\u001b[1;32m    409\u001b[0m     \u001b[38;5;28;01mreturn\u001b[39;00m \u001b[38;5;28mself\u001b[39m \u001b[38;5;241m*\u001b[39m other\n\u001b[1;32m    410\u001b[0m \u001b[38;5;28;01melse\u001b[39;00m:\n\u001b[0;32m--> 411\u001b[0m     \u001b[38;5;28;01mreturn\u001b[39;00m \u001b[38;5;28;43mself\u001b[39;49m\u001b[43m \u001b[49m\u001b[38;5;241;43m@\u001b[39;49m\u001b[43m \u001b[49m\u001b[43mother\u001b[49m\n",
      "File \u001b[0;32m~/opt/anaconda3/envs/circuits/lib/python3.10/site-packages/scipy/sparse/_base.py:624\u001b[0m, in \u001b[0;36m_spbase.__matmul__\u001b[0;34m(self, other)\u001b[0m\n\u001b[1;32m    621\u001b[0m \u001b[38;5;28;01mif\u001b[39;00m isscalarlike(other):\n\u001b[1;32m    622\u001b[0m     \u001b[38;5;28;01mraise\u001b[39;00m \u001b[38;5;167;01mValueError\u001b[39;00m(\u001b[38;5;124m\"\u001b[39m\u001b[38;5;124mScalar operands are not allowed, \u001b[39m\u001b[38;5;124m\"\u001b[39m\n\u001b[1;32m    623\u001b[0m                      \u001b[38;5;124m\"\u001b[39m\u001b[38;5;124muse \u001b[39m\u001b[38;5;124m'\u001b[39m\u001b[38;5;124m*\u001b[39m\u001b[38;5;124m'\u001b[39m\u001b[38;5;124m instead\u001b[39m\u001b[38;5;124m\"\u001b[39m)\n\u001b[0;32m--> 624\u001b[0m \u001b[38;5;28;01mreturn\u001b[39;00m \u001b[38;5;28;43mself\u001b[39;49m\u001b[38;5;241;43m.\u001b[39;49m\u001b[43m_mul_dispatch\u001b[49m\u001b[43m(\u001b[49m\u001b[43mother\u001b[49m\u001b[43m)\u001b[49m\n",
      "File \u001b[0;32m~/opt/anaconda3/envs/circuits/lib/python3.10/site-packages/scipy/sparse/_base.py:522\u001b[0m, in \u001b[0;36m_spbase._mul_dispatch\u001b[0;34m(self, other)\u001b[0m\n\u001b[1;32m    519\u001b[0m \u001b[38;5;28;01mif\u001b[39;00m other\u001b[38;5;241m.\u001b[39m\u001b[38;5;18m__class__\u001b[39m \u001b[38;5;129;01mis\u001b[39;00m np\u001b[38;5;241m.\u001b[39mndarray:\n\u001b[1;32m    520\u001b[0m     \u001b[38;5;66;03m# Fast path for the most common case\u001b[39;00m\n\u001b[1;32m    521\u001b[0m     \u001b[38;5;28;01mif\u001b[39;00m other\u001b[38;5;241m.\u001b[39mshape \u001b[38;5;241m==\u001b[39m (N,):\n\u001b[0;32m--> 522\u001b[0m         \u001b[38;5;28;01mreturn\u001b[39;00m \u001b[38;5;28;43mself\u001b[39;49m\u001b[38;5;241;43m.\u001b[39;49m\u001b[43m_mul_vector\u001b[49m\u001b[43m(\u001b[49m\u001b[43mother\u001b[49m\u001b[43m)\u001b[49m\n\u001b[1;32m    523\u001b[0m     \u001b[38;5;28;01melif\u001b[39;00m other\u001b[38;5;241m.\u001b[39mshape \u001b[38;5;241m==\u001b[39m (N, \u001b[38;5;241m1\u001b[39m):\n\u001b[1;32m    524\u001b[0m         \u001b[38;5;28;01mreturn\u001b[39;00m \u001b[38;5;28mself\u001b[39m\u001b[38;5;241m.\u001b[39m_mul_vector(other\u001b[38;5;241m.\u001b[39mravel())\u001b[38;5;241m.\u001b[39mreshape(M, \u001b[38;5;241m1\u001b[39m)\n",
      "\u001b[0;31mKeyboardInterrupt\u001b[0m: "
     ]
    }
   ],
   "source": [
    "problem = co.gradient_flow_circuit(mu, L_smooth, Capacitance)\n",
    "problem.obj = problem.b\n",
    "bounds = {  \n",
    "            # 'b': {\"ub\": 10, \"lb\": 1},\n",
    "            # 'd': {\"ub\": 10, \"lb\": 0.},\n",
    "            'h': {\"ub\": 1, \"lb\": 1},\n",
    "            'alpha': {\"ub\": 0.5, \"lb\": 0.5},\n",
    "            'beta': {\"ub\": 0.5, \"lb\": 0.5},\n",
    "            }\n",
    "\n",
    "res, model, sp_exp = problem.solve(solver=solver, verbose=False, bounds=bounds, time_limit=100)[:3]\n",
    "print(res)"
   ]
  },
  {
   "cell_type": "markdown",
   "metadata": {},
   "source": [
    "# PEP verification"
   ]
  },
  {
   "cell_type": "code",
   "execution_count": null,
   "metadata": {},
   "outputs": [
    {
     "data": {
      "text/plain": [
       "{'b': 0.9330127549898344,\n",
       " 'h': 1.000000007180752,\n",
       " 'd': 0.0,\n",
       " 'alpha': 0.4999999929957276,\n",
       " 'beta': 0.5000000065841887}"
      ]
     },
     "execution_count": 4,
     "metadata": {},
     "output_type": "execute_result"
    }
   ],
   "source": [
    "res"
   ]
  },
  {
   "cell_type": "code",
   "execution_count": null,
   "metadata": {},
   "outputs": [],
   "source": [
    "# {'b': 0.9999999972740821,\n",
    "#  'h': 2.3476576020226845,\n",
    "#  'd': 0.0,\n",
    "#  'alpha': 0.42594920754454807,\n",
    "#  'beta': 0.42592981378027417}\n",
    "\n",
    "\n",
    "# {'alpha': 9.098402068796711e-05,\n",
    "#  'b': 0.9999999898240947,\n",
    "#  'beta': 0.5039539138113834,\n",
    "#  'd': 9497.932149988383,\n",
    "#  'h': 1.000108919758979}"
   ]
  },
  {
   "cell_type": "code",
   "execution_count": null,
   "metadata": {},
   "outputs": [
    {
     "name": "stdout",
     "output_type": "stream",
     "text": [
      "diff=-2.690665634741407e-09\n"
     ]
    }
   ],
   "source": [
    "problem = co.gradient_flow_circuit(mu, L_smooth, Capacitance, params=res)\n",
    "diff = problem.solve(verbose=0, solver=cp.MOSEK)\n",
    "print(f\"{diff=}\")"
   ]
  },
  {
   "cell_type": "code",
   "execution_count": null,
   "metadata": {},
   "outputs": [],
   "source": []
  }
 ],
 "metadata": {
  "kernelspec": {
   "display_name": "osbdo",
   "language": "python",
   "name": "python3"
  },
  "language_info": {
   "codemirror_mode": {
    "name": "ipython",
    "version": 3
   },
   "file_extension": ".py",
   "mimetype": "text/x-python",
   "name": "python",
   "nbconvert_exporter": "python",
   "pygments_lexer": "ipython3",
   "version": "3.10.13"
  }
 },
 "nbformat": 4,
 "nbformat_minor": 2
}
