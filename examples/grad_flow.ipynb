{
 "cells": [
  {
   "cell_type": "code",
   "execution_count": 2,
   "metadata": {},
   "outputs": [],
   "source": [
    "import ciropt as co\n",
    "import cvxpy as cp"
   ]
  },
  {
   "cell_type": "code",
   "execution_count": 3,
   "metadata": {},
   "outputs": [],
   "source": [
    "L_smooth = 1.\n",
    "mu = 0.0001\n",
    "Capacitance = 1.\n",
    "\n",
    "# solver = \"ca_canonical_X\"\n",
    "solver = \"gp_canonical_X\"\n",
    "\n",
    "time_limit = 100"
   ]
  },
  {
   "cell_type": "markdown",
   "metadata": {},
   "source": [
    "# Ciropt problem"
   ]
  },
  {
   "cell_type": "code",
   "execution_count": 4,
   "metadata": {},
   "outputs": [
    {
     "name": "stdout",
     "output_type": "stream",
     "text": [
      "dim_G=5, dim_F=4\n",
      "Set parameter Username\n",
      "Academic license - for non-commercial use only - expires 2024-03-29\n",
      "<class 'numpy.ndarray'> <class 'gurobipy.MQuadExpr'> <class 'numpy.ndarray'>\n"
     ]
    },
    {
     "name": "stderr",
     "output_type": "stream",
     "text": [
      "c:\\Users\\owner\\Documents\\GitHub\\optimization_via_circuits\\examples\\ciropt\\circuit_opt.py:495: RuntimeWarning: Chained matrix multiplications of MVars is inefficient, collect numeric terms first when building expressions\n",
      "  model.addConstr(  (M1 @ var_x).item()  - gp_trace(M2 @ var_X) == 0)\n"
     ]
    },
    {
     "name": "stdout",
     "output_type": "stream",
     "text": [
      "<class 'numpy.ndarray'> <class 'gurobipy.MQuadExpr'> <class 'numpy.ndarray'>\n",
      "<class 'numpy.ndarray'> <class 'gurobipy.MQuadExpr'> <class 'numpy.ndarray'>\n",
      "<class 'numpy.ndarray'> <class 'gurobipy.MQuadExpr'> <class 'numpy.ndarray'>\n"
     ]
    },
    {
     "name": "stderr",
     "output_type": "stream",
     "text": [
      "c:\\Users\\owner\\Documents\\GitHub\\optimization_via_circuits\\examples\\ciropt\\circuit_opt.py:509: RuntimeWarning: Chained matrix multiplications of MVars is inefficient, collect numeric terms first when building expressions\n",
      "  + gp_trace(M2 @ var_X) \\\n",
      "c:\\Users\\owner\\Documents\\GitHub\\optimization_via_circuits\\examples\\ciropt\\circuit_opt.py:510: RuntimeWarning: Chained matrix multiplications of MVars is inefficient, collect numeric terms first when building expressions\n",
      "  - gp_trace(M3 @ var_X) == 0)\n",
      "c:\\Users\\owner\\Documents\\GitHub\\optimization_via_circuits\\examples\\ciropt\\circuit_opt.py:525: RuntimeWarning: Chained matrix multiplications of MVars is inefficient, collect numeric terms first when building expressions\n",
      "  model.addConstr( gp_trace(M1 @ var_X) + (M2 @ var_x).item() == 0)\n"
     ]
    },
    {
     "name": "stdout",
     "output_type": "stream",
     "text": [
      "{'b': 0.9999999970141082, 'h': 2.33756135519335, 'd': 1000.0, 'alpha': 0.42778288607438625, 'beta': 0.4277463601699642}\n"
     ]
    }
   ],
   "source": [
    "problem = co.gradient_flow_circuit(mu, L_smooth, Capacitance)\n",
    "\n",
    "res, model, sp_exp = problem.solve(solver=solver, verbose=False, time_limit=100)[:3]\n",
    "print(res)"
   ]
  },
  {
   "cell_type": "code",
   "execution_count": 5,
   "metadata": {},
   "outputs": [
    {
     "name": "stdout",
     "output_type": "stream",
     "text": [
      "{'b': 0.9999999970141082, 'h': 2.33756135519335, 'd': 1000.0, 'alpha': 0.42778288607438625, 'beta': 0.4277463601699642}\n"
     ]
    }
   ],
   "source": [
    "print(res)"
   ]
  },
  {
   "cell_type": "code",
   "execution_count": 6,
   "metadata": {},
   "outputs": [
    {
     "data": {
      "text/plain": [
       "{'b': 0.9999999970141082,\n",
       " 'h': 2.33756135519335,\n",
       " 'd': 1000.0,\n",
       " 'alpha': 0.42778288607438625,\n",
       " 'beta': 0.4277463601699642}"
      ]
     },
     "execution_count": 6,
     "metadata": {},
     "output_type": "execute_result"
    }
   ],
   "source": [
    "res"
   ]
  },
  {
   "cell_type": "markdown",
   "metadata": {},
   "source": [
    "# PEP verification"
   ]
  },
  {
   "cell_type": "code",
   "execution_count": 7,
   "metadata": {},
   "outputs": [],
   "source": [
    "import PEPit\n",
    "from PEPit.functions import SmoothStronglyConvexFunction, SmoothConvexFunction\n",
    "from PEPit.primitive_steps import proximal_step\n",
    "\n",
    "b = res[\"b\"] \n",
    "h = res[\"h\"]\n",
    "alpha = res[\"alpha\"]\n",
    "beta = res[\"beta\"]"
   ]
  },
  {
   "cell_type": "code",
   "execution_count": 8,
   "metadata": {},
   "outputs": [
    {
     "name": "stdout",
     "output_type": "stream",
     "text": [
      "diff=-6.809414920816437e-09\n"
     ]
    }
   ],
   "source": [
    "problem = PEPit.PEP()\n",
    "func = problem.declare_function(\n",
    "                    SmoothStronglyConvexFunction,\n",
    "                    mu=mu,   # Strong convexity param.\n",
    "                    L=L_smooth) \n",
    "\n",
    "\n",
    "x_P_star = func.stationary_point()\n",
    "g_star, f_star = func.oracle(x_P_star)\n",
    "x_P_1 = problem.set_initial_point()\n",
    "\n",
    "g_1, f_1 = func.oracle(x_P_1)\n",
    "x_P_1p5 = x_P_1 - (alpha * h / Capacitance) * g_1 \n",
    "g_1p5, f_1p5 = func.oracle(x_P_1p5)\n",
    "x_P_2 = x_P_1  - (beta * h / Capacitance) * g_1 - ((1 - beta) * h / Capacitance) * g_1p5\n",
    "\n",
    "g_2, f_2 = func.oracle(x_P_2)\n",
    "\n",
    "# Set the performance metric to the function values accuracy\n",
    "E_1 = (Capacitance/2) * (x_P_1 - x_P_star)**2\n",
    "E_2 = (Capacitance/2) * (x_P_2 - x_P_star)**2\n",
    "Delta_1 = b * (f_1 - f_star)\n",
    "problem.set_performance_metric(E_2 - (E_1 - Delta_1))\n",
    "\n",
    "# Solve the PEP with verbose = 1\n",
    "verbose = 0\n",
    "diff = problem.solve(verbose=verbose, solver=cp.MOSEK)\n",
    "print(f\"{diff=}\")"
   ]
  },
  {
   "cell_type": "code",
   "execution_count": null,
   "metadata": {},
   "outputs": [],
   "source": []
  },
  {
   "cell_type": "code",
   "execution_count": null,
   "metadata": {},
   "outputs": [],
   "source": []
  }
 ],
 "metadata": {
  "kernelspec": {
   "display_name": "osbdo",
   "language": "python",
   "name": "python3"
  },
  "language_info": {
   "codemirror_mode": {
    "name": "ipython",
    "version": 3
   },
   "file_extension": ".py",
   "mimetype": "text/x-python",
   "name": "python",
   "nbconvert_exporter": "python",
   "pygments_lexer": "ipython3",
   "version": "3.9.16"
  }
 },
 "nbformat": 4,
 "nbformat_minor": 2
}
