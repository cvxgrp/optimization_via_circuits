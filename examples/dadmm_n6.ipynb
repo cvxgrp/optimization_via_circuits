{
 "cells": [
  {
   "cell_type": "code",
   "execution_count": 1,
   "metadata": {},
   "outputs": [],
   "source": [
    "import ciropt as co\n",
    "import cvxpy as cp"
   ]
  },
  {
   "cell_type": "code",
   "execution_count": 2,
   "metadata": {},
   "outputs": [],
   "source": [
    "import numpy as np"
   ]
  },
  {
   "cell_type": "code",
   "execution_count": 7,
   "metadata": {},
   "outputs": [],
   "source": [
    "# L_smooth = np.inf\n",
    "L_smooth = 2.#np.inf\n",
    "mu = 0.#0.0001\n",
    "\n",
    "# Inductance = 10; R = 18; coeff = 1; mu = 0.; L=2; solver = \"ipopt_qcqp\"\n",
    "# Inductance = 10; R = 18; coeff = 1/2; mu = 0.; L=1\n",
    "Inductance = 10\n",
    "R = 18\n",
    "\n",
    "solver = \"ipopt\"\n",
    "# solver = \"ipopt_qcqp\"\n",
    "# solver = \"ipopt_qcqp_matrix\""
   ]
  },
  {
   "cell_type": "markdown",
   "metadata": {},
   "source": [
    "# Ciropt problem"
   ]
  },
  {
   "cell_type": "code",
   "execution_count": 8,
   "metadata": {},
   "outputs": [
    {
     "name": "stdout",
     "output_type": "stream",
     "text": [
      "dim_G=28, dim_F=12\n",
      "Ipopt total # of variables = 818\n",
      "Actual # of variables = 439\n",
      "Could not find a solution using Ipopt\n"
     ]
    },
    {
     "ename": "TypeError",
     "evalue": "'NoneType' object is not subscriptable",
     "output_type": "error",
     "traceback": [
      "\u001b[1;31m---------------------------------------------------------------------------\u001b[0m",
      "\u001b[1;31mTypeError\u001b[0m                                 Traceback (most recent call last)",
      "Cell \u001b[1;32mIn[8], line 15\u001b[0m\n\u001b[0;32m     12\u001b[0m res, sol \u001b[38;5;241m=\u001b[39m problem\u001b[38;5;241m.\u001b[39msolve(solver\u001b[38;5;241m=\u001b[39msolver, extra_dim\u001b[38;5;241m=\u001b[39m\u001b[38;5;241m800\u001b[39m, verbose\u001b[38;5;241m=\u001b[39m\u001b[38;5;28;01mFalse\u001b[39;00m)[:\u001b[38;5;241m2\u001b[39m]\n\u001b[0;32m     14\u001b[0m ca_vars \u001b[38;5;241m=\u001b[39m problem\u001b[38;5;241m.\u001b[39mvars\n\u001b[1;32m---> 15\u001b[0m \u001b[38;5;28mprint\u001b[39m(res[\u001b[38;5;124m\"\u001b[39m\u001b[38;5;124mb\u001b[39m\u001b[38;5;124m\"\u001b[39m])\n",
      "\u001b[1;31mTypeError\u001b[0m: 'NoneType' object is not subscriptable"
     ]
    }
   ],
   "source": [
    "problem = co.decentralized_admm_graph6( mu, L_smooth, R, Inductance)\n",
    "problem.obj = problem.b + problem.d\n",
    "\n",
    "bounds = {  # 'd': {\"ub\": 100, \"lb\": 1e-4},\n",
    "            # 'b': {\"ub\": 100, \"lb\": 1e-4},\n",
    "            # 'h': {\"ub\": 100, \"lb\": 1e-4},\n",
    "            # 'gamma': {\"ub\": 10, \"lb\": 1e-5}\n",
    "            }\n",
    "\n",
    "# res, sol = problem.solve(solver=solver, bounds=bounds, extra_dim=530, verbose=True)[:2]\n",
    "# res, sol = problem.solve(solver=solver, extra_dim=530, verbose=False)[:2]\n",
    "res, sol = problem.solve(solver=solver, extra_dim=800, verbose=False)[:2]\n",
    "\n",
    "ca_vars = problem.vars\n",
    "print(res[\"b\"])"
   ]
  },
  {
   "cell_type": "code",
   "execution_count": null,
   "metadata": {},
   "outputs": [
    {
     "data": {
      "text/plain": [
       "{'b': 1.1167963584733396,\n",
       " 'h': 1.1054814693822324,\n",
       " 'd': 2.52924851391547e-07,\n",
       " 'alpha': 0.0,\n",
       " 'beta': 0.0,\n",
       " 'gamma': 0.06204424242127791,\n",
       " 'delta': 0.0}"
      ]
     },
     "execution_count": 5,
     "metadata": {},
     "output_type": "execute_result"
    }
   ],
   "source": [
    "res"
   ]
  },
  {
   "cell_type": "markdown",
   "metadata": {},
   "source": [
    "# PEP verification"
   ]
  },
  {
   "cell_type": "code",
   "execution_count": null,
   "metadata": {},
   "outputs": [],
   "source": [
    "# res[\"b\"] = 0.01\n",
    "res[\"d\"] = 0"
   ]
  },
  {
   "cell_type": "code",
   "execution_count": null,
   "metadata": {},
   "outputs": [
    {
     "name": "stdout",
     "output_type": "stream",
     "text": [
      "diff=-8.616833266882062e-11\n"
     ]
    }
   ],
   "source": [
    "problem = co.decentralized_admm_graph6( mu, L_smooth, R, Inductance, params=res)\n",
    "diff = problem.solve(verbose=0, solver=cp.MOSEK)\n",
    "print(f\"{diff=}\")"
   ]
  }
 ],
 "metadata": {
  "kernelspec": {
   "display_name": "osbdo",
   "language": "python",
   "name": "python3"
  },
  "language_info": {
   "codemirror_mode": {
    "name": "ipython",
    "version": 3
   },
   "file_extension": ".py",
   "mimetype": "text/x-python",
   "name": "python",
   "nbconvert_exporter": "python",
   "pygments_lexer": "ipython3",
   "version": "3.11.5"
  }
 },
 "nbformat": 4,
 "nbformat_minor": 2
}
