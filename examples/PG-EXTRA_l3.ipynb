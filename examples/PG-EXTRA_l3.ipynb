{
 "cells": [
  {
   "cell_type": "code",
   "execution_count": 2,
   "metadata": {},
   "outputs": [],
   "source": [
    "import ciropt as co\n",
    "import cvxpy as cp"
   ]
  },
  {
   "cell_type": "code",
   "execution_count": 3,
   "metadata": {},
   "outputs": [],
   "source": [
    "import numpy as np"
   ]
  },
  {
   "cell_type": "code",
   "execution_count": 8,
   "metadata": {},
   "outputs": [],
   "source": [
    "L_smooth_h = 0.1 #np.inf\n",
    "L_smooth_f = 10\n",
    "# mu = 1 #0.01\n",
    "mu = 0 #0.01\n",
    "\n",
    "# h = 1/2\n",
    "R = 1\n",
    "\n",
    "# W = np.array([\n",
    "#     [1/6, 1/2, 1/3],\n",
    "#     [1/2, 1/4, 1/4],\n",
    "#     [1/3, 1/4, 5/12]\n",
    "# ])\n",
    "\n",
    "W = np.array([\n",
    "    [1/3, 2/3, 0],\n",
    "    [2/3, 1/6, 1/6],\n",
    "    [0, 1/6, 5/6]\n",
    "])\n",
    "\n",
    "# W12, W13, W23 = 2/3, 0, 1/6\n",
    "# R12, R13, R13 = R * W[0][1], R * W[0][2], R * W[1][2]\n",
    "\n",
    "\n",
    "solver = \"ipopt\"\n",
    "# solver = \"ipopt_qcqp\"\n",
    "# solver = \"ipopt_qcqp_matrix\"\n",
    "# solver = \"cvx_dccp\"\n",
    "# solver = \"qcqp_sni\"\n",
    "# solver = \"bisection_b\""
   ]
  },
  {
   "cell_type": "markdown",
   "metadata": {},
   "source": [
    "# Ciropt problem"
   ]
  },
  {
   "cell_type": "code",
   "execution_count": 9,
   "metadata": {},
   "outputs": [
    {
     "name": "stdout",
     "output_type": "stream",
     "text": [
      "dim_G=20, dim_F=15\n",
      "Ipopt total # of variables = 448\n",
      "Actual # of variables = 257\n",
      "This is Ipopt version 3.14.11, running with linear solver MUMPS 5.4.1.\n",
      "\n",
      "Number of nonzeros in equality constraint Jacobian...:    17492\n",
      "Number of nonzeros in inequality constraint Jacobian.:       74\n",
      "Number of nonzeros in Lagrangian Hessian.............:     1541\n",
      "\n",
      "Total number of variables............................:      446\n",
      "                     variables with only lower bounds:        0\n",
      "                variables with lower and upper bounds:        0\n",
      "                     variables with only upper bounds:        0\n",
      "Total number of equality constraints.................:      416\n",
      "Total number of inequality constraints...............:       74\n",
      "        inequality constraints with only lower bounds:       68\n",
      "   inequality constraints with lower and upper bounds:        0\n",
      "        inequality constraints with only upper bounds:        6\n",
      "\n",
      "iter    objective    inf_pr   inf_du lg(mu)  ||d||  lg(rg) alpha_du alpha_pr  ls\n",
      "   0 -0.0000000e+00 1.00e+00 1.00e+00  -1.0 0.00e+00    -  0.00e+00 0.00e+00   0\n",
      "   1  2.5092146e-06 1.00e-02 8.10e+00  -1.0 1.10e+00  -2.0 9.91e-01 9.02e-01f  1\n",
      "   2 -5.0765490e-03 1.14e-02 1.13e+01  -1.0 9.20e-02   2.0 1.00e+00 9.60e-01f  1\n",
      "   3 -5.6778550e-03 9.80e-03 7.14e+02  -1.0 7.81e-02   1.6 5.03e-01 2.13e-01h  1\n",
      "   4 -6.5097546e-03 6.16e-03 1.20e+03  -1.0 5.52e-02   2.0 1.00e+00 5.93e-01h  1\n",
      "   5 -9.5793722e-03 4.79e-03 8.25e+02  -1.0 7.40e-02   1.5 7.56e-01 5.74e-01h  1\n",
      "   6 -2.2959505e-02 2.70e-02 2.73e+02  -1.0 2.39e-01   1.0 4.95e-01 5.53e-01f  1\n",
      "   7 -3.0678308e-02 1.51e-02 9.21e+02  -1.0 8.51e-02   1.5 9.28e-01 5.09e-01h  1\n",
      "   8 -4.4268382e-02 1.64e-02 7.09e+02  -1.0 1.07e-01   1.0 1.00e+00 6.48e-01f  1\n",
      "   9 -5.3820857e-02 5.53e-03 3.41e+02  -1.0 4.59e-02   1.4 1.00e+00 8.75e-01h  1\n",
      "iter    objective    inf_pr   inf_du lg(mu)  ||d||  lg(rg) alpha_du alpha_pr  ls\n",
      "  10 -8.1870428e-02 2.30e-02 4.79e+00  -1.0 1.02e-01   0.9 1.00e+00 1.00e+00f  1\n",
      "  11 -1.8006942e-01 9.43e-02 5.51e+02  -1.0 2.16e-01   0.5 7.14e-01 1.00e+00f  1\n",
      "  12 -3.7322162e-01 1.13e-01 1.73e+01  -1.0 2.36e-01  -0.0 1.00e+00 1.00e+00f  1\n",
      "  13 -3.6716822e-01 3.44e-02 1.06e+01  -1.0 1.59e-01   0.4 1.00e+00 1.00e+00h  1\n",
      "  14 -3.2739515e-01 5.31e-02 4.42e+00  -1.0 1.89e-01  -0.1 1.00e+00 1.00e+00h  1\n",
      "  15 -3.6448646e-01 7.47e-03 1.95e+01  -1.7 6.91e-02  -0.6 9.46e-01 1.00e+00h  1\n",
      "  16 -5.2515943e-01 5.63e-02 4.47e-01  -1.7 1.83e-01  -1.0 1.00e+00 1.00e+00h  1\n",
      "  17 -6.5470563e-01 6.08e-03 3.08e+01  -2.5 1.20e-01  -1.5 8.04e-01 1.00e+00h  1\n",
      "  18 -6.9430189e-01 9.04e-03 5.24e-01  -2.5 1.23e-01  -2.0 1.00e+00 1.00e+00h  1\n",
      "  19 -6.9604575e-01 1.58e-02 6.26e-02  -2.5 3.28e-01  -2.5 1.00e+00 1.00e+00h  1\n",
      "iter    objective    inf_pr   inf_du lg(mu)  ||d||  lg(rg) alpha_du alpha_pr  ls\n",
      "  20 -7.3820166e-01 2.70e-02 8.68e-01  -3.8 1.34e-01  -2.9 9.54e-01 9.76e-01h  1\n",
      "  21 -7.4113236e-01 4.62e-03 7.31e-02  -3.8 4.37e-02  -1.6 1.00e+00 1.00e+00h  1\n",
      "  22 -7.4133126e-01 5.33e-04 9.63e-02  -3.8 1.70e-02  -1.2 1.00e+00 1.00e+00h  1\n",
      "  23 -7.4152829e-01 1.75e-04 5.71e-02  -3.8 3.13e-02  -1.7 1.00e+00 1.00e+00H  1\n",
      "  24 -7.4161661e-01 2.95e-03 2.50e+01  -3.8 9.97e-02  -2.1 1.00e+00 5.00e-01h  2\n",
      "  25 -7.4166539e-01 2.84e-03 3.50e+01  -3.8 5.59e-02  -2.6 1.00e+00 2.50e-01h  3\n",
      "  26 -7.4174380e-01 1.73e-03 2.04e-01  -3.8 3.75e-02  -2.2 1.00e+00 1.00e+00h  1\n",
      "  27 -7.4176811e-01 6.81e-04 3.36e-02  -3.8 2.70e-02  -2.7 1.00e+00 1.00e+00h  1\n",
      "  28 -7.4174978e-01 1.35e-03 1.05e-03  -3.8 7.64e-02  -3.1 1.00e+00 1.00e+00h  1\n",
      "  29 -7.4451969e-01 3.89e-03 6.25e-02  -5.7 4.79e-02  -3.6 1.00e+00 1.00e+00h  1\n",
      "iter    objective    inf_pr   inf_du lg(mu)  ||d||  lg(rg) alpha_du alpha_pr  ls\n",
      "  30 -7.4458276e-01 5.84e-02 5.05e-02  -5.7 1.41e-01  -4.1 1.00e+00 1.00e+00h  1\n",
      "  31 -7.4457349e-01 2.10e-02 8.85e-03  -5.7 1.12e-01  -4.6 1.00e+00 1.00e+00h  1\n",
      "  32 -7.4457330e-01 2.72e-03 1.34e-02  -5.7 1.49e-01  -5.1 1.00e+00 1.00e+00H  1\n",
      "  33 -7.4457455e-01 2.41e-03 6.54e-04  -5.7 3.55e-02  -4.6 1.00e+00 1.00e+00h  1\n",
      "  34 -7.4457559e-01 3.49e-04 1.52e-03  -5.7 7.42e-02  -5.1 1.00e+00 1.00e+00H  1\n",
      "  35 -7.4457587e-01 4.78e-04 1.40e-04  -5.7 2.74e-02  -4.7 1.00e+00 1.00e+00h  1\n",
      "  36 -7.4457621e-01 1.07e-03 2.72e-04  -5.7 7.82e-02  -5.2 1.00e+00 1.00e+00h  1\n",
      "  37 -7.4457642e-01 6.75e-04 1.75e-04  -5.7 2.06e-01  -5.6 1.00e+00 1.00e+00h  1\n",
      "  38 -7.4457650e-01 9.43e-05 3.54e-05  -5.7 4.73e-01  -6.1 1.00e+00 1.00e+00h  1\n",
      "  39 -7.4457653e-01 6.08e-06 1.97e-05  -5.7 1.75e-01  -5.7 1.00e+00 1.00e+00h  1\n",
      "iter    objective    inf_pr   inf_du lg(mu)  ||d||  lg(rg) alpha_du alpha_pr  ls\n",
      "  40 -7.4460804e-01 1.48e-04 6.38e-02  -8.6 1.03e-02  -3.4 1.00e+00 1.00e+00h  1\n",
      "  41 -7.4460728e-01 9.16e-05 8.69e+01  -8.6 1.09e-02  -3.9 7.95e-01 1.00e+00H  1\n",
      "  42 -7.4460800e-01 4.83e-05 1.50e+02  -8.6 3.93e-03  -3.5 3.45e-01 1.00e+00h  1\n",
      "  43 -7.4460844e-01 3.90e-04 2.30e-04  -8.6 1.11e-02  -4.0 1.00e+00 1.00e+00h  1\n",
      "  44 -7.4460855e-01 4.96e-05 2.45e-05  -8.6 4.13e-03  -3.6 1.00e+00 1.00e+00h  1\n",
      "  45 -7.4460860e-01 6.82e-06 3.83e-06  -8.6 1.53e-03  -3.1 1.00e+00 1.00e+00h  1\n",
      "  46 -7.4460876e-01 5.71e-05 5.70e-06  -8.6 4.45e-03  -3.6 1.00e+00 1.00e+00h  1\n",
      "  47 -7.4460881e-01 7.68e-06 1.78e-06  -8.6 1.66e-03  -3.2 1.00e+00 1.00e+00h  1\n",
      "  48 -7.4460897e-01 6.33e-05 6.62e-06  -8.6 4.81e-03  -3.7 1.00e+00 1.00e+00h  1\n",
      "  49 -7.4460902e-01 8.45e-06 1.19e-06  -8.6 1.78e-03  -3.2 1.00e+00 1.00e+00h  1\n",
      "iter    objective    inf_pr   inf_du lg(mu)  ||d||  lg(rg) alpha_du alpha_pr  ls\n",
      "  50 -7.4460918e-01 6.89e-05 5.85e-06  -8.6 5.16e-03  -3.7 1.00e+00 1.00e+00h  1\n",
      "  51 -7.4460956e-01 4.60e-04 3.45e-05  -8.6 1.40e-02  -4.2 1.00e+00 1.00e+00h  1\n",
      "  52 -7.4460955e-01 1.48e-06 2.92e-06  -8.6 7.85e-04  -2.9 1.00e+00 1.00e+00h  1\n",
      "  53 -7.4460959e-01 8.21e-06 9.29e-07  -8.6 1.90e-03  -3.3 1.00e+00 1.00e+00h  1\n",
      "  54 -7.4460961e-01 1.13e-06 8.88e-07  -8.6 7.09e-04  -2.9 1.00e+00 1.00e+00h  1\n",
      "  55 -7.4460965e-01 9.74e-06 9.14e-07  -8.6 2.09e-03  -3.4 1.00e+00 1.00e+00h  1\n",
      "  56 -7.4460978e-01 7.55e-05 6.02e-06  -8.6 5.97e-03  -3.9 1.00e+00 1.00e+00h  1\n",
      "  57 -7.4460982e-01 1.00e-05 8.69e-07  -8.6 2.16e-03  -3.4 1.00e+00 1.00e+00h  1\n",
      "  58 -7.4460994e-01 7.84e-05 6.52e-06  -8.6 6.18e-03  -3.9 1.00e+00 1.00e+00h  1\n",
      "  59 -7.4460997e-01 1.07e-05 9.29e-07  -8.6 2.23e-03  -3.5 1.00e+00 1.00e+00h  1\n",
      "iter    objective    inf_pr   inf_du lg(mu)  ||d||  lg(rg) alpha_du alpha_pr  ls\n",
      "  60 -7.4461008e-01 8.29e-05 7.00e-06  -8.6 6.35e-03  -4.0 1.00e+00 1.00e+00h  1\n",
      "  61 -7.4461011e-01 1.13e-05 9.80e-07  -8.6 2.27e-03  -3.5 1.00e+00 1.00e+00h  1\n",
      "  62 -7.4461020e-01 8.67e-05 7.42e-06  -8.6 6.47e-03  -4.0 1.00e+00 1.00e+00h  1\n",
      "  63 -7.4461023e-01 1.17e-05 1.02e-06  -8.6 2.30e-03  -3.6 1.00e+00 1.00e+00h  1\n",
      "  64 -7.4461031e-01 8.98e-05 7.75e-06  -8.6 6.52e-03  -4.1 1.00e+00 1.00e+00h  1\n",
      "  65 -7.4461034e-01 1.21e-05 1.05e-06  -8.6 2.34e-03  -3.6 1.00e+00 1.00e+00h  1\n",
      "  66 -7.4461034e-01 1.66e-06 5.30e-07  -8.6 8.61e-04  -3.2 1.00e+00 1.00e+00h  1\n",
      "  67 -7.4461037e-01 1.40e-05 1.30e-06  -8.6 2.53e-03  -3.7 1.00e+00 1.00e+00h  1\n",
      "  68 -7.4461038e-01 1.94e-06 5.16e-07  -8.6 9.43e-04  -3.3 1.00e+00 1.00e+00h  1\n",
      "  69 -7.4461040e-01 1.63e-05 1.50e-06  -8.6 2.72e-03  -3.7 1.00e+00 1.00e+00h  1\n",
      "iter    objective    inf_pr   inf_du lg(mu)  ||d||  lg(rg) alpha_du alpha_pr  ls\n",
      "  70 -7.4461048e-01 1.22e-04 1.01e-05  -8.6 7.58e-03  -4.2 1.00e+00 1.00e+00h  1\n",
      "  71 -7.4461050e-01 1.62e-05 1.33e-06  -8.6 2.93e-03  -3.8 1.00e+00 1.00e+00h  1\n",
      "  72 -7.4461056e-01 1.19e-04 1.16e-05  -8.6 7.84e-03  -4.3 1.00e+00 1.00e+00h  1\n",
      "  73 -7.4461056e-01 2.94e-07 8.32e-07  -8.6 4.70e-04  -2.9 1.00e+00 1.00e+00h  1\n",
      "  74 -7.4461056e-01 2.29e-06 1.25e-06  -8.6 1.11e-03  -3.4 1.00e+00 1.00e+00h  1\n",
      "  75 -7.4461056e-01 3.21e-07 4.30e-07  -8.6 4.19e-04  -3.0 1.00e+00 1.00e+00h  1\n",
      "  76 -7.4461057e-01 2.80e-06 4.25e-07  -8.6 1.24e-03  -3.5 1.00e+00 1.00e+00h  1\n",
      "  77 -7.4461057e-01 3.90e-07 4.24e-07  -8.6 4.65e-04  -3.0 1.00e+00 1.00e+00h  1\n",
      "  78 -7.4461057e-01 3.39e-06 4.19e-07  -8.6 1.37e-03  -3.5 1.00e+00 1.00e+00h  1\n",
      "  79 -7.4461059e-01 2.78e-05 2.52e-06  -8.6 3.96e-03  -4.0 1.00e+00 1.00e+00h  1\n",
      "iter    objective    inf_pr   inf_du lg(mu)  ||d||  lg(rg) alpha_du alpha_pr  ls\n",
      "  80 -7.4461060e-01 3.79e-06 4.08e-07  -8.6 1.50e-03  -3.6 1.00e+00 1.00e+00h  1\n",
      "  81 -7.4461062e-01 3.09e-05 2.97e-06  -8.6 4.24e-03  -4.0 1.00e+00 1.00e+00h  1\n",
      "  82 -7.4461068e-01 2.13e-04 1.69e-05  -8.6 1.14e-02  -4.5 1.00e+00 1.00e+00h  1\n",
      "  83 -7.4461069e-01 2.76e-05 1.39e-06  -8.6 4.35e-03  -4.1 1.00e+00 1.00e+00h  1\n",
      "  84 -7.4461069e-01 3.74e-06 3.51e-07  -8.6 1.58e-03  -3.7 1.00e+00 1.00e+00h  1\n",
      "  85 -7.4461069e-01 5.18e-07 3.35e-07  -8.6 5.87e-04  -3.2 1.00e+00 1.00e+00h  1\n",
      "  86 -7.4461069e-01 4.48e-06 3.64e-07  -8.6 1.72e-03  -3.7 1.00e+00 1.00e+00h  1\n",
      "  87 -7.4461069e-01 6.22e-07 3.28e-07  -8.6 6.47e-04  -3.3 1.00e+00 1.00e+00h  1\n",
      "  88 -7.4461070e-01 5.36e-06 3.78e-07  -8.6 1.90e-03  -3.8 1.00e+00 1.00e+00h  1\n",
      "  89 -7.4461069e-01 7.42e-07 3.21e-07  -8.6 7.12e-04  -3.3 1.00e+00 1.00e+00h  1\n",
      "iter    objective    inf_pr   inf_du lg(mu)  ||d||  lg(rg) alpha_du alpha_pr  ls\n",
      "  90 -7.4461069e-01 1.04e-07 3.18e-07  -8.6 2.66e-04  -2.9 1.00e+00 1.00e+00h  1\n",
      "  91 -7.4461069e-01 5.16e-10 3.17e-07  -8.6 7.89e-04  -3.4 1.00e+00 1.00e+00H  1\n",
      "  92 -7.4461068e-01 2.76e-10 3.15e-07  -8.6 2.95e-04  -3.0 1.00e+00 1.00e+00H  1\n",
      "  93 -7.4461068e-01 2.76e-10 1.40e+02  -8.6 8.78e-04  -3.4 1.00e+00 7.81e-03h  8\n",
      "  94 -7.4461068e-01 1.60e-07 3.14e-07  -8.6 3.31e-04  -3.0 1.00e+00 1.00e+00s 22\n",
      "\n",
      "Number of Iterations....: 94\n",
      "\n",
      "                                   (scaled)                 (unscaled)\n",
      "Objective...............:  -7.4461067770604727e-01   -7.4461067770604727e-01\n",
      "Dual infeasibility......:   3.1357853913505096e-07    3.1357853913505096e-07\n",
      "Constraint violation....:   1.6042005768213130e-07    1.6042005768213130e-07\n",
      "Variable bound violation:   0.0000000000000000e+00    0.0000000000000000e+00\n",
      "Complementarity.........:   2.5059527678316260e-09    2.5059527678316260e-09\n",
      "Overall NLP error.......:   1.6042005768213130e-07    3.1357853913505096e-07\n",
      "\n",
      "\n",
      "Number of objective function evaluations             = 146\n",
      "Number of objective gradient evaluations             = 96\n",
      "Number of equality constraint evaluations            = 146\n",
      "Number of inequality constraint evaluations          = 146\n",
      "Number of equality constraint Jacobian evaluations   = 96\n",
      "Number of inequality constraint Jacobian evaluations = 96\n",
      "Number of Lagrangian Hessian evaluations             = 95\n",
      "Total seconds in IPOPT                               = 2.801\n",
      "\n",
      "EXIT: Solved To Acceptable Level.\n",
      "      solver  :   t_proc      (avg)   t_wall      (avg)    n_eval\n",
      "       nlp_f  |   1.00ms (  6.85us) 230.00us (  1.58us)       146\n",
      "       nlp_g  |  42.00ms (287.67us)  40.67ms (278.53us)       146\n",
      "  nlp_grad_f  |        0 (       0) 480.00us (  4.95us)        97\n",
      "  nlp_hess_l  |  14.00ms (147.37us)  11.03ms (116.11us)        95\n",
      "   nlp_jac_g  | 117.00ms (  1.21ms) 120.55ms (  1.24ms)        97\n",
      "       total  |   2.80 s (  2.80 s)   2.80 s (  2.80 s)         1\n",
      "0.5470025824558842\n"
     ]
    }
   ],
   "source": [
    "problem = co.pg_extra_line3(mu, L_smooth_h, L_smooth_f, R, W)\n",
    "problem.obj = problem.b + problem.d /2\n",
    "# problem.obj = problem.b\n",
    "\n",
    "bounds = {  \n",
    "            'd': {\"ub\": 100, \"lb\": 1e-4},\n",
    "            'b': {\"ub\": 100, \"lb\": 1e-4},\n",
    "            'h': {\"ub\": 100, \"lb\": 1e-4},\n",
    "            'gamma': {\"ub\": 100, \"lb\": 1e-4},\n",
    "            'alpha': {\"ub\": 1, \"lb\": 1},\n",
    "            'beta': {\"ub\": 0, \"lb\": 0},\n",
    "            }\n",
    "\n",
    "res, sol = problem.solve(solver=solver, bounds=bounds, verbose=True)[:2]\n",
    "\n",
    "vars = problem.vars\n",
    "print(res['b'])"
   ]
  },
  {
   "cell_type": "code",
   "execution_count": 10,
   "metadata": {},
   "outputs": [
    {
     "data": {
      "text/plain": [
       "{'b': 0.5470025824558842,\n",
       " 'h': 0.5470025928631261,\n",
       " 'd': 0.3952161905003262,\n",
       " 'alpha': 1.0,\n",
       " 'beta': 6.217248937642383e-15,\n",
       " 'gamma': 0.2734993082134527}"
      ]
     },
     "execution_count": 10,
     "metadata": {},
     "output_type": "execute_result"
    }
   ],
   "source": [
    "res"
   ]
  },
  {
   "cell_type": "markdown",
   "metadata": {},
   "source": [
    "# PEP verification"
   ]
  },
  {
   "cell_type": "code",
   "execution_count": 11,
   "metadata": {},
   "outputs": [
    {
     "name": "stdout",
     "output_type": "stream",
     "text": [
      "diff=-3.384883442980602e-09\n"
     ]
    }
   ],
   "source": [
    "problem = co.pg_extra_line3(mu, L_smooth_h, L_smooth_f, R, W, params=res)\n",
    "diff = problem.solve(verbose=0, solver=cp.MOSEK)\n",
    "print(f\"{diff=}\")"
   ]
  },
  {
   "cell_type": "code",
   "execution_count": null,
   "metadata": {},
   "outputs": [],
   "source": []
  }
 ],
 "metadata": {
  "kernelspec": {
   "display_name": "osbdo",
   "language": "python",
   "name": "python3"
  },
  "language_info": {
   "codemirror_mode": {
    "name": "ipython",
    "version": 3
   },
   "file_extension": ".py",
   "mimetype": "text/x-python",
   "name": "python",
   "nbconvert_exporter": "python",
   "pygments_lexer": "ipython3",
   "version": "3.11.5"
  }
 },
 "nbformat": 4,
 "nbformat_minor": 2
}
