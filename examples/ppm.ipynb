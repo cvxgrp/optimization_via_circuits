{
 "cells": [
  {
   "cell_type": "code",
   "execution_count": 12,
   "metadata": {},
   "outputs": [],
   "source": [
    "import ciropt as co\n",
    "import cvxpy as cp"
   ]
  },
  {
   "cell_type": "code",
   "execution_count": 15,
   "metadata": {},
   "outputs": [],
   "source": [
    "L_smooth = 1.\n",
    "mu = 0.001 #0\n",
    "\n",
    "\n",
    "Capacitance = 1.\n",
    "R = 1.\n",
    "\n",
    "# solver = \"ipopt\"\n",
    "solver = \"ipopt_qcqp\"\n",
    "# solver = \"ipopt_qcqp_matrix\"\n",
    "# solver = \"gp_qcqp_matrix\"\n",
    "# solver = \"qcqp_sni\"\n",
    "# solver = \"dccp\"\n",
    "\n",
    "time_limit = 100"
   ]
  },
  {
   "cell_type": "markdown",
   "metadata": {},
   "source": [
    "# Ciropt problem"
   ]
  },
  {
   "cell_type": "code",
   "execution_count": 16,
   "metadata": {},
   "outputs": [
    {
     "name": "stdout",
     "output_type": "stream",
     "text": [
      "dim_G=5, dim_F=4\n",
      "Ipopt total # of variables = 199\n",
      "Actual # of variables = 49\n"
     ]
    }
   ],
   "source": [
    "problem = co.ppm_circuit(mu, L_smooth, Capacitance, R)\n",
    "problem.obj = problem.b + problem.d\n",
    "\n",
    "res, model = problem.solve(solver=solver, verbose=False)[:2]"
   ]
  },
  {
   "cell_type": "code",
   "execution_count": 17,
   "metadata": {},
   "outputs": [
    {
     "data": {
      "text/plain": [
       "{'b': 6.917440729507574,\n",
       " 'h': 6.344329145653097,\n",
       " 'd': 1.4469019391616327,\n",
       " 'alpha': 0.4353278906314445,\n",
       " 'beta': 0.4614690400191063,\n",
       " 'gamma': 7.7832261151240925,\n",
       " 'delta': 0.0}"
      ]
     },
     "execution_count": 17,
     "metadata": {},
     "output_type": "execute_result"
    }
   ],
   "source": [
    "res"
   ]
  },
  {
   "cell_type": "markdown",
   "metadata": {},
   "source": [
    "# PEP verification"
   ]
  },
  {
   "cell_type": "code",
   "execution_count": 18,
   "metadata": {},
   "outputs": [],
   "source": [
    "res[\"b\"] -= 0.4\n",
    "assert res[\"b\"] >= 0.1"
   ]
  },
  {
   "cell_type": "code",
   "execution_count": 19,
   "metadata": {},
   "outputs": [
    {
     "name": "stdout",
     "output_type": "stream",
     "text": [
      "diff=-2.5553647783718136e-13\n"
     ]
    }
   ],
   "source": [
    "problem = co.ppm_circuit(mu, L_smooth, Capacitance, R, params=res)\n",
    "diff = problem.solve(verbose=0, solver=cp.MOSEK)\n",
    "print(f\"{diff=}\")"
   ]
  },
  {
   "cell_type": "code",
   "execution_count": null,
   "metadata": {},
   "outputs": [],
   "source": []
  }
 ],
 "metadata": {
  "kernelspec": {
   "display_name": "osbdo",
   "language": "python",
   "name": "python3"
  },
  "language_info": {
   "codemirror_mode": {
    "name": "ipython",
    "version": 3
   },
   "file_extension": ".py",
   "mimetype": "text/x-python",
   "name": "python",
   "nbconvert_exporter": "python",
   "pygments_lexer": "ipython3",
   "version": "3.9.18"
  }
 },
 "nbformat": 4,
 "nbformat_minor": 2
}
