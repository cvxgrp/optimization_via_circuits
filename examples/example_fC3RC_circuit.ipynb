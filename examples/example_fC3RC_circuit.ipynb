{
 "cells": [
  {
   "cell_type": "code",
   "execution_count": 7,
   "metadata": {},
   "outputs": [],
   "source": [
    "import ciropt as co\n",
    "import cvxpy as cp\n",
    "import numpy as np"
   ]
  },
  {
   "cell_type": "code",
   "execution_count": 16,
   "metadata": {},
   "outputs": [],
   "source": [
    "L_smooth = np.inf\n",
    "mu = 0\n",
    "\n",
    "\n",
    "Capacitance = 10.\n",
    "R = 1.\n",
    "\n",
    "solver = \"ipopt\"\n",
    "# solver = \"ipopt_qcqp\"\n",
    "# solver = \"ipopt_qcqp_matrix\"\n",
    "# solver = \"gp_qcqp_matrix\"\n",
    "# solver = \"qcqp_sni\"\n",
    "# solver = \"dccp\"\n",
    "\n",
    "time_limit = 100"
   ]
  },
  {
   "cell_type": "markdown",
   "metadata": {},
   "source": [
    "# Ciropt problem"
   ]
  },
  {
   "cell_type": "code",
   "execution_count": 20,
   "metadata": {},
   "outputs": [
    {
     "name": "stdout",
     "output_type": "stream",
     "text": [
      "dim_G=6, dim_F=4\n",
      "Ipopt total # of variables = 91\n",
      "Actual # of variables = 44\n"
     ]
    }
   ],
   "source": [
    "problem = co.example_fC3RC_circuit(mu, L_smooth, Capacitance, R)\n",
    "problem.obj = problem.b + problem.d * 1.1\n",
    "\n",
    "bounds = {  'alpha': {\"ub\": 0, \"lb\": 0},\n",
    "            'beta': {\"ub\": 1, \"lb\": 1},}\n",
    "res, sol = problem.solve(solver=solver, bounds=bounds, verbose=False)[:2]\n",
    "\n",
    "# res, model = problem.solve(solver=solver, verbose=False)[:2]"
   ]
  },
  {
   "cell_type": "code",
   "execution_count": 21,
   "metadata": {},
   "outputs": [
    {
     "data": {
      "text/plain": [
       "{'b': 6.36363634959385,\n",
       " 'h': 6.363636340916406,\n",
       " 'd': 0.28925621616506925,\n",
       " 'alpha': 1.5341400482135067e-19,\n",
       " 'beta': 1.0}"
      ]
     },
     "execution_count": 21,
     "metadata": {},
     "output_type": "execute_result"
    }
   ],
   "source": [
    "res"
   ]
  },
  {
   "cell_type": "markdown",
   "metadata": {},
   "source": [
    "# PEP verification"
   ]
  },
  {
   "cell_type": "code",
   "execution_count": 25,
   "metadata": {},
   "outputs": [],
   "source": [
    "res = {'b': 6.3,\n",
    " 'h': 6.3,\n",
    " 'd': 0.28,\n",
    " 'alpha': 0,\n",
    " 'beta': 1.0}"
   ]
  },
  {
   "cell_type": "code",
   "execution_count": 26,
   "metadata": {},
   "outputs": [
    {
     "name": "stdout",
     "output_type": "stream",
     "text": [
      "diff=-7.373462012934409e-09\n"
     ]
    }
   ],
   "source": [
    "problem = co.example_fC3RC_circuit(mu, L_smooth, Capacitance, R, params=res)\n",
    "diff = problem.solve(verbose=0, solver=cp.MOSEK)\n",
    "print(f\"{diff=}\")"
   ]
  },
  {
   "cell_type": "code",
   "execution_count": null,
   "metadata": {},
   "outputs": [],
   "source": []
  }
 ],
 "metadata": {
  "kernelspec": {
   "display_name": "osbdo",
   "language": "python",
   "name": "python3"
  },
  "language_info": {
   "codemirror_mode": {
    "name": "ipython",
    "version": 3
   },
   "file_extension": ".py",
   "mimetype": "text/x-python",
   "name": "python",
   "nbconvert_exporter": "python",
   "pygments_lexer": "ipython3",
   "version": "3.10.13"
  }
 },
 "nbformat": 4,
 "nbformat_minor": 2
}
