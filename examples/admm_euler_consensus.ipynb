{
 "cells": [
  {
   "cell_type": "code",
   "execution_count": 1,
   "metadata": {},
   "outputs": [],
   "source": [
    "import ciropt as co\n",
    "import cvxpy as cp"
   ]
  },
  {
   "cell_type": "code",
   "execution_count": 2,
   "metadata": {},
   "outputs": [],
   "source": [
    "import numpy as np"
   ]
  },
  {
   "cell_type": "code",
   "execution_count": 3,
   "metadata": {},
   "outputs": [],
   "source": [
    "L_smooth = 1. #np.inf\n",
    "mu = 0.0001 # 0.1, 0.01, 0.001, 0.0001\n",
    "\n",
    "Inductance = 1\n",
    "R = 1\n",
    "\n",
    "n_func = 3\n",
    "# solver = \"ipopt\" #mu = 0.0001\n",
    "solver = \"ipopt_qcqp\" #mu=0.1, 0.01, 0.001, 0.0001\n",
    "# solver = \"ipopt_qcqp_matrix\" #mu=0.1\n",
    "# solver = \"cvx_dccp\"\n",
    "# solver = \"qcqp_sni\"\n",
    "# solver = \"bisection_b\"\n",
    "# solver = \"fix_discr_sdp\""
   ]
  },
  {
   "cell_type": "markdown",
   "metadata": {},
   "source": [
    "# Ciropt problem"
   ]
  },
  {
   "cell_type": "code",
   "execution_count": 4,
   "metadata": {},
   "outputs": [
    {
     "name": "stdout",
     "output_type": "stream",
     "text": [
      "dim_G=9, dim_F=6\n",
      "Ipopt total # of variables = 210\n",
      "Actual # of variables = 60\n"
     ]
    }
   ],
   "source": [
    "problem = co.admm_euler_consensus(n_func, mu, L_smooth, R, Inductance)\n",
    "problem.obj = problem.b * 0.3 + problem.d \n",
    "# problem.obj = problem.b + problem.d \n",
    "\n",
    "# h = 2 * L_smooth/R - 0.1\n",
    "# params = {\"alpha\": 0, \"beta\": 1, \"h\": h, \"b\": 1, \"d\": 1 - h*R/(2*L_smooth) - 0.1, \"gamma\": 0 }\n",
    "# res, model = problem.solve(solver=solver, cvx_solver=cp.MOSEK, params=params, verbose=False)[:2]\n",
    "# print(f\"{params=}\")\n",
    "# bounds = { 'alpha': {\"ub\": 1, \"lb\": 1},\n",
    "#             'beta': {\"ub\": 1, \"lb\": 1}, }\n",
    "res, sol = problem.solve(solver=solver, verbose=False)[:2]\n",
    "# ca_vars = problem.vars"
   ]
  },
  {
   "cell_type": "code",
   "execution_count": 5,
   "metadata": {},
   "outputs": [
    {
     "data": {
      "text/plain": [
       "{'b': 2.088083673211459,\n",
       " 'h': 1.3522880089389906,\n",
       " 'd': 0.3083511034495736,\n",
       " 'alpha': 0.0,\n",
       " 'beta': 0.0,\n",
       " 'gamma': 51.64225082387838}"
      ]
     },
     "execution_count": 5,
     "metadata": {},
     "output_type": "execute_result"
    }
   ],
   "source": [
    "res"
   ]
  },
  {
   "cell_type": "markdown",
   "metadata": {},
   "source": [
    "# PEP verification"
   ]
  },
  {
   "cell_type": "code",
   "execution_count": 6,
   "metadata": {},
   "outputs": [],
   "source": [
    "res['b'] -= 1.2 #0.3\n",
    "assert res[\"b\"] >= 0.1"
   ]
  },
  {
   "cell_type": "code",
   "execution_count": 7,
   "metadata": {},
   "outputs": [
    {
     "name": "stdout",
     "output_type": "stream",
     "text": [
      "diff=2.485933237039717e-08\n"
     ]
    }
   ],
   "source": [
    "problem = co.admm_euler_consensus(n_func, mu, L_smooth, R, Inductance, params=res)\n",
    "diff = problem.solve(verbose=0, solver=cp.MOSEK)\n",
    "print(f\"{diff=}\")"
   ]
  },
  {
   "cell_type": "code",
   "execution_count": 9,
   "metadata": {},
   "outputs": [
    {
     "data": {
      "text/plain": [
       "0.8880836732114592"
      ]
     },
     "execution_count": 9,
     "metadata": {},
     "output_type": "execute_result"
    }
   ],
   "source": [
    "res[\"b\"]"
   ]
  }
 ],
 "metadata": {
  "kernelspec": {
   "display_name": "osbdo",
   "language": "python",
   "name": "python3"
  },
  "language_info": {
   "codemirror_mode": {
    "name": "ipython",
    "version": 3
   },
   "file_extension": ".py",
   "mimetype": "text/x-python",
   "name": "python",
   "nbconvert_exporter": "python",
   "pygments_lexer": "ipython3",
   "version": "3.10.13"
  }
 },
 "nbformat": 4,
 "nbformat_minor": 2
}
