{
 "cells": [
  {
   "cell_type": "code",
   "execution_count": 1,
   "metadata": {},
   "outputs": [],
   "source": [
    "import ciropt as co\n",
    "import cvxpy as cp"
   ]
  },
  {
   "cell_type": "code",
   "execution_count": 2,
   "metadata": {},
   "outputs": [],
   "source": [
    "import numpy as np"
   ]
  },
  {
   "cell_type": "code",
   "execution_count": 3,
   "metadata": {},
   "outputs": [],
   "source": [
    "L_smooth = 1. #np.inf\n",
    "mu = 0.001\n",
    "\n",
    "Inductance = 1\n",
    "R = 1\n",
    "\n",
    "n_func = 3\n",
    "solver = \"ipopt\"\n",
    "# solver = \"ipopt_canonical\"\n",
    "# solver = \"ipopt_canonical_X\"\n",
    "# solver = \"cvx_dccp\"\n",
    "# solver = \"qcqp_sni\"\n",
    "# solver = \"bisection_b\"\n",
    "# solver = \"fix_discr_sdp\""
   ]
  },
  {
   "cell_type": "markdown",
   "metadata": {},
   "source": [
    "# Ciropt problem"
   ]
  },
  {
   "cell_type": "code",
   "execution_count": 4,
   "metadata": {},
   "outputs": [
    {
     "ename": "TypeError",
     "evalue": "'NoneType' object is not subscriptable",
     "output_type": "error",
     "traceback": [
      "\u001b[0;31m---------------------------------------------------------------------------\u001b[0m",
      "\u001b[0;31mTypeError\u001b[0m                                 Traceback (most recent call last)",
      "Input \u001b[0;32mIn [4]\u001b[0m, in \u001b[0;36m<cell line: 10>\u001b[0;34m()\u001b[0m\n\u001b[1;32m      2\u001b[0m problem\u001b[38;5;241m.\u001b[39mobj \u001b[38;5;241m=\u001b[39m \u001b[38;5;241m0.5\u001b[39m \u001b[38;5;241m*\u001b[39m problem\u001b[38;5;241m.\u001b[39mb \u001b[38;5;241m+\u001b[39m problem\u001b[38;5;241m.\u001b[39md\n\u001b[1;32m      4\u001b[0m \u001b[38;5;66;03m# h = 2 * L_smooth/R - 0.1\u001b[39;00m\n\u001b[1;32m      5\u001b[0m \u001b[38;5;66;03m# params = {\"alpha\": 0, \"beta\": 1, \"h\": h, \"b\": 1, \"d\": 1 - h*R/(2*L_smooth) - 0.1, \"gamma\": 0 }\u001b[39;00m\n\u001b[1;32m      6\u001b[0m \u001b[38;5;66;03m# res, model = problem.solve(solver=solver, cvx_solver=cp.MOSEK, params=params, verbose=False)[:2]\u001b[39;00m\n\u001b[1;32m      7\u001b[0m \u001b[38;5;66;03m# print(f\"{params=}\")\u001b[39;00m\n\u001b[1;32m      8\u001b[0m \u001b[38;5;66;03m# bounds = { 'alpha': {\"ub\": 1, \"lb\": 1},\u001b[39;00m\n\u001b[1;32m      9\u001b[0m \u001b[38;5;66;03m#             'beta': {\"ub\": 1, \"lb\": 1}, }\u001b[39;00m\n\u001b[0;32m---> 10\u001b[0m res, sol \u001b[38;5;241m=\u001b[39m \u001b[43mproblem\u001b[49m\u001b[38;5;241;43m.\u001b[39;49m\u001b[43msolve\u001b[49m\u001b[43m(\u001b[49m\u001b[43msolver\u001b[49m\u001b[38;5;241;43m=\u001b[39;49m\u001b[43msolver\u001b[49m\u001b[43m,\u001b[49m\u001b[43m \u001b[49m\u001b[43mverbose\u001b[49m\u001b[38;5;241;43m=\u001b[39;49m\u001b[38;5;28;43;01mFalse\u001b[39;49;00m\u001b[43m)\u001b[49m\u001b[43m[\u001b[49m\u001b[43m:\u001b[49m\u001b[38;5;241;43m2\u001b[39;49m\u001b[43m]\u001b[49m\n\u001b[1;32m     11\u001b[0m ca_vars \u001b[38;5;241m=\u001b[39m problem\u001b[38;5;241m.\u001b[39mvars\n",
      "\u001b[0;31mTypeError\u001b[0m: 'NoneType' object is not subscriptable"
     ]
    }
   ],
   "source": [
    "problem = co.admm_euler_consensus(n_func, mu, L_smooth, R, Inductance)\n",
    "problem.obj = 0.5 * problem.b + problem.d\n",
    "\n",
    "# h = 2 * L_smooth/R - 0.1\n",
    "# params = {\"alpha\": 0, \"beta\": 1, \"h\": h, \"b\": 1, \"d\": 1 - h*R/(2*L_smooth) - 0.1, \"gamma\": 0 }\n",
    "# res, model = problem.solve(solver=solver, cvx_solver=cp.MOSEK, params=params, verbose=False)[:2]\n",
    "# print(f\"{params=}\")\n",
    "# bounds = { 'alpha': {\"ub\": 1, \"lb\": 1},\n",
    "#             'beta': {\"ub\": 1, \"lb\": 1}, }\n",
    "res, sol = problem.solve(solver=solver, verbose=False)[:2]\n",
    "ca_vars = problem.vars"
   ]
  },
  {
   "cell_type": "code",
   "execution_count": null,
   "metadata": {},
   "outputs": [
    {
     "data": {
      "text/plain": [
       "{'b': 3.000999731654612,\n",
       " 'h': 1.5004999675397444,\n",
       " 'd': 9.752774310368151e-08,\n",
       " 'alpha': 0.0,\n",
       " 'beta': 0.0,\n",
       " 'gamma': 1885.652679401891}"
      ]
     },
     "execution_count": 5,
     "metadata": {},
     "output_type": "execute_result"
    }
   ],
   "source": [
    "res"
   ]
  },
  {
   "cell_type": "code",
   "execution_count": null,
   "metadata": {},
   "outputs": [],
   "source": [
    "# {'b': 3.000999731710047,\n",
    "#  'h': 1.5004999674260875,\n",
    "#  'd': 9.752773973147027e-08,\n",
    "#  'alpha': 0.0,\n",
    "#  'beta': 0.0,\n",
    "#  'gamma': 2187.8108323125216}"
   ]
  },
  {
   "cell_type": "markdown",
   "metadata": {},
   "source": [
    "# PEP verification"
   ]
  },
  {
   "cell_type": "code",
   "execution_count": null,
   "metadata": {},
   "outputs": [
    {
     "name": "stdout",
     "output_type": "stream",
     "text": [
      "0.01\n"
     ]
    }
   ],
   "source": [
    "# res['b'] = 1\n",
    "# print(res[\"b\"])"
   ]
  },
  {
   "cell_type": "code",
   "execution_count": null,
   "metadata": {},
   "outputs": [
    {
     "name": "stdout",
     "output_type": "stream",
     "text": [
      "diff=3.5059599667874863e-09\n"
     ]
    }
   ],
   "source": [
    "problem = co.admm_euler_consensus(n_func, mu, L_smooth, R, Inductance, params=res)\n",
    "diff = problem.solve(verbose=0, solver=cp.MOSEK)\n",
    "print(f\"{diff=}\")"
   ]
  },
  {
   "cell_type": "code",
   "execution_count": null,
   "metadata": {},
   "outputs": [],
   "source": []
  },
  {
   "cell_type": "code",
   "execution_count": null,
   "metadata": {},
   "outputs": [],
   "source": []
  }
 ],
 "metadata": {
  "kernelspec": {
   "display_name": "osbdo",
   "language": "python",
   "name": "python3"
  },
  "language_info": {
   "codemirror_mode": {
    "name": "ipython",
    "version": 3
   },
   "file_extension": ".py",
   "mimetype": "text/x-python",
   "name": "python",
   "nbconvert_exporter": "python",
   "pygments_lexer": "ipython3",
   "version": "3.10.13"
  }
 },
 "nbformat": 4,
 "nbformat_minor": 2
}
