{
 "cells": [
  {
   "cell_type": "code",
   "execution_count": 1,
   "metadata": {},
   "outputs": [],
   "source": [
    "import ciropt as co\n",
    "import cvxpy as cp"
   ]
  },
  {
   "cell_type": "code",
   "execution_count": 2,
   "metadata": {},
   "outputs": [],
   "source": [
    "import numpy as np"
   ]
  },
  {
   "cell_type": "code",
   "execution_count": 3,
   "metadata": {},
   "outputs": [],
   "source": [
    "L_smooth = 1. #np.inf\n",
    "mu = 0.0001\n",
    "\n",
    "Inductance = 1\n",
    "R = 1\n",
    "\n",
    "n_func = 3\n",
    "# solver = \"ca\"\n",
    "solver = \"ca_canonical\"\n",
    "# solver = \"ca_canonical_X\"\n",
    "# solver = \"cvx_dccp\"\n",
    "# solver = \"qcqp_sni\"\n",
    "# solver = \"bisection_b\"\n",
    "# solver = \"fix_discr_sdp\""
   ]
  },
  {
   "cell_type": "markdown",
   "metadata": {},
   "source": [
    "# Ciropt problem"
   ]
  },
  {
   "cell_type": "code",
   "execution_count": 4,
   "metadata": {},
   "outputs": [
    {
     "name": "stdout",
     "output_type": "stream",
     "text": [
      "dim_G=9, dim_F=6\n"
     ]
    }
   ],
   "source": [
    "problem = co.admm_euler_consensus(n_func, mu, L_smooth, R, Inductance)\n",
    "problem.obj = problem.b + problem.d\n",
    "\n",
    "# h = 2 * L_smooth/R - 0.1\n",
    "# params = {\"alpha\": 0, \"beta\": 1, \"h\": h, \"b\": 1, \"d\": 1 - h*R/(2*L_smooth) - 0.1, \"gamma\": 0 }\n",
    "# res, model = problem.solve(solver=solver, cvx_solver=cp.MOSEK, params=params, verbose=False)[:2]\n",
    "# print(f\"{params=}\")\n",
    "# bounds = { 'alpha': {\"ub\": 1, \"lb\": 1},\n",
    "#             'beta': {\"ub\": 1, \"lb\": 1}, }\n",
    "res, sol = problem.solve(solver=solver, verbose=False)[:2]\n",
    "ca_vars = problem.vars"
   ]
  },
  {
   "cell_type": "code",
   "execution_count": 5,
   "metadata": {},
   "outputs": [
    {
     "data": {
      "text/plain": [
       "{'b': 3.000099752637984,\n",
       " 'h': 1.5000499695152063,\n",
       " 'd': 9.150362336009187e-08,\n",
       " 'alpha': 0.0,\n",
       " 'beta': 0.0,\n",
       " 'gamma': 9281.457733942701}"
      ]
     },
     "execution_count": 5,
     "metadata": {},
     "output_type": "execute_result"
    }
   ],
   "source": [
    "res"
   ]
  },
  {
   "cell_type": "markdown",
   "metadata": {},
   "source": [
    "# PEP verification"
   ]
  },
  {
   "cell_type": "code",
   "execution_count": 6,
   "metadata": {},
   "outputs": [
    {
     "name": "stdout",
     "output_type": "stream",
     "text": [
      "2.900099752637984\n"
     ]
    }
   ],
   "source": [
    "res['b'] -= 0.1\n",
    "print(res[\"b\"])"
   ]
  },
  {
   "cell_type": "code",
   "execution_count": 7,
   "metadata": {},
   "outputs": [
    {
     "name": "stdout",
     "output_type": "stream",
     "text": [
      "diff=2.02817318495363e-10\n"
     ]
    }
   ],
   "source": [
    "problem = co.admm_euler_consensus(n_func, mu, L_smooth, R, Inductance, params=res)\n",
    "diff = problem.solve(verbose=0, solver=cp.MOSEK)\n",
    "print(f\"{diff=}\")"
   ]
  },
  {
   "cell_type": "code",
   "execution_count": null,
   "metadata": {},
   "outputs": [],
   "source": []
  },
  {
   "cell_type": "code",
   "execution_count": null,
   "metadata": {},
   "outputs": [],
   "source": []
  }
 ],
 "metadata": {
  "kernelspec": {
   "display_name": "osbdo",
   "language": "python",
   "name": "python3"
  },
  "language_info": {
   "codemirror_mode": {
    "name": "ipython",
    "version": 3
   },
   "file_extension": ".py",
   "mimetype": "text/x-python",
   "name": "python",
   "nbconvert_exporter": "python",
   "pygments_lexer": "ipython3",
   "version": "3.10.13"
  }
 },
 "nbformat": 4,
 "nbformat_minor": 2
}
