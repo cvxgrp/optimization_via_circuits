{
 "cells": [
  {
   "cell_type": "code",
   "execution_count": 1,
   "metadata": {},
   "outputs": [],
   "source": [
    "import ciropt as co\n",
    "import cvxpy as cp"
   ]
  },
  {
   "cell_type": "code",
   "execution_count": 2,
   "metadata": {},
   "outputs": [],
   "source": [
    "import numpy as np"
   ]
  },
  {
   "cell_type": "code",
   "execution_count": 3,
   "metadata": {},
   "outputs": [],
   "source": [
    "L_smooth = 1. #np.inf\n",
    "mu = 0.1\n",
    "\n",
    "Inductance = 1\n",
    "R = 1\n",
    "\n",
    "n_func = 3\n",
    "# solver = \"ipopt\"\n",
    "# solver = \"ipopt_qcqp\"\n",
    "solver = \"ipopt_qcqp_matrix\"\n",
    "# solver = \"cvx_dccp\"\n",
    "# solver = \"qcqp_sni\"\n",
    "# solver = \"bisection_b\"\n",
    "# solver = \"fix_discr_sdp\""
   ]
  },
  {
   "cell_type": "markdown",
   "metadata": {},
   "source": [
    "# Ciropt problem"
   ]
  },
  {
   "cell_type": "code",
   "execution_count": 4,
   "metadata": {},
   "outputs": [
    {
     "name": "stdout",
     "output_type": "stream",
     "text": [
      "dim_G=9, dim_F=6\n"
     ]
    },
    {
     "name": "stderr",
     "output_type": "stream",
     "text": [
      "CasADi - 2024-02-23 22:40:48 WARNING(\"KeyboardInterruptException\") [.../casadi/interfaces/ipopt/ipopt_nlp.cpp:196]\n"
     ]
    },
    {
     "name": "stdout",
     "output_type": "stream",
     "text": [
      "Could not find a solution using Ipopt\n"
     ]
    }
   ],
   "source": [
    "problem = co.admm_euler_consensus(n_func, mu, L_smooth, R, Inductance)\n",
    "problem.obj = problem.b + problem.d\n",
    "\n",
    "# h = 2 * L_smooth/R - 0.1\n",
    "# params = {\"alpha\": 0, \"beta\": 1, \"h\": h, \"b\": 1, \"d\": 1 - h*R/(2*L_smooth) - 0.1, \"gamma\": 0 }\n",
    "# res, model = problem.solve(solver=solver, cvx_solver=cp.MOSEK, params=params, verbose=False)[:2]\n",
    "# print(f\"{params=}\")\n",
    "# bounds = { 'alpha': {\"ub\": 1, \"lb\": 1},\n",
    "#             'beta': {\"ub\": 1, \"lb\": 1}, }\n",
    "res, sol = problem.solve(solver=solver, verbose=False)[:2]\n",
    "# ca_vars = problem.vars"
   ]
  },
  {
   "cell_type": "code",
   "execution_count": 5,
   "metadata": {},
   "outputs": [],
   "source": [
    "res"
   ]
  },
  {
   "cell_type": "code",
   "execution_count": null,
   "metadata": {},
   "outputs": [],
   "source": [
    "# {'b': 3.000999731710047,\n",
    "#  'h': 1.5004999674260875,\n",
    "#  'd': 9.752773973147027e-08,\n",
    "#  'alpha': 0.0,\n",
    "#  'beta': 0.0,\n",
    "#  'gamma': 2187.8108323125216}"
   ]
  },
  {
   "cell_type": "markdown",
   "metadata": {},
   "source": [
    "# PEP verification"
   ]
  },
  {
   "cell_type": "code",
   "execution_count": null,
   "metadata": {},
   "outputs": [
    {
     "name": "stdout",
     "output_type": "stream",
     "text": [
      "2.799999759434238\n"
     ]
    }
   ],
   "source": [
    "res['b'] -= 0.3\n",
    "print(res[\"b\"])"
   ]
  },
  {
   "cell_type": "code",
   "execution_count": null,
   "metadata": {},
   "outputs": [
    {
     "name": "stdout",
     "output_type": "stream",
     "text": [
      "diff=-5.9756644077424426e-12\n"
     ]
    }
   ],
   "source": [
    "problem = co.admm_euler_consensus(n_func, mu, L_smooth, R, Inductance, params=res)\n",
    "diff = problem.solve(verbose=0, solver=cp.MOSEK)\n",
    "print(f\"{diff=}\")"
   ]
  },
  {
   "cell_type": "code",
   "execution_count": null,
   "metadata": {},
   "outputs": [],
   "source": []
  }
 ],
 "metadata": {
  "kernelspec": {
   "display_name": "osbdo",
   "language": "python",
   "name": "python3"
  },
  "language_info": {
   "codemirror_mode": {
    "name": "ipython",
    "version": 3
   },
   "file_extension": ".py",
   "mimetype": "text/x-python",
   "name": "python",
   "nbconvert_exporter": "python",
   "pygments_lexer": "ipython3",
   "version": "3.10.13"
  }
 },
 "nbformat": 4,
 "nbformat_minor": 2
}
