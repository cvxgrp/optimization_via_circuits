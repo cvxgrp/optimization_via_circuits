{
 "cells": [
  {
   "cell_type": "code",
   "execution_count": 1,
   "metadata": {},
   "outputs": [],
   "source": [
    "import ciropt as co\n",
    "import cvxpy as cp"
   ]
  },
  {
   "cell_type": "code",
   "execution_count": 2,
   "metadata": {},
   "outputs": [],
   "source": [
    "import numpy as np"
   ]
  },
  {
   "cell_type": "code",
   "execution_count": 3,
   "metadata": {},
   "outputs": [],
   "source": [
    "L_smooth = 1.\n",
    "mu = 0.0001 #0\n",
    "n_func = 3 #2\n",
    "\n",
    "Capacitance = 1\n",
    "\n",
    "# solver = \"ipopt\"\n",
    "# solver = \"ipopt_qcqp\"\n",
    "solver = \"ipopt_qcqp_matrix\"\n",
    "# solver = \"qcqp_sni\"\n",
    "# solver = \"bisection_b\""
   ]
  },
  {
   "cell_type": "markdown",
   "metadata": {},
   "source": [
    "# Ciropt problem"
   ]
  },
  {
   "cell_type": "code",
   "execution_count": 4,
   "metadata": {},
   "outputs": [
    {
     "name": "stdout",
     "output_type": "stream",
     "text": [
      "dim_G=10, dim_F=9\n",
      "Ipopt total # of variables = 190\n",
      "Actual # of variables = 90\n"
     ]
    }
   ],
   "source": [
    "problem = co.primal_decomposition(n_func, mu, L_smooth, Capacitance)\n",
    "problem.obj = problem.b\n",
    "\n",
    "res, sol = problem.solve(solver=solver, verbose=False)[:2]\n",
    "ca_vars = problem.vars"
   ]
  },
  {
   "cell_type": "code",
   "execution_count": 5,
   "metadata": {},
   "outputs": [
    {
     "data": {
      "text/plain": [
       "{'b': 0.16666666608466552,\n",
       " 'h': 0.40741157997552613,\n",
       " 'd': 0.0,\n",
       " 'alpha': 0.3424071611093663,\n",
       " 'beta': 0.565530099250739,\n",
       " 'gamma': 0.0}"
      ]
     },
     "execution_count": 5,
     "metadata": {},
     "output_type": "execute_result"
    }
   ],
   "source": [
    "res"
   ]
  },
  {
   "cell_type": "markdown",
   "metadata": {},
   "source": [
    "# PEP verification"
   ]
  },
  {
   "cell_type": "code",
   "execution_count": 6,
   "metadata": {},
   "outputs": [
    {
     "name": "stdout",
     "output_type": "stream",
     "text": [
      "diff=-3.7056736208219976e-09\n"
     ]
    }
   ],
   "source": [
    "problem = co.primal_decomposition(n_func, mu, L_smooth, Capacitance, params=res)\n",
    "# problem = co.primal_decomposition2(mu, L_smooth, Capacitance, params=res)\n",
    "diff = problem.solve(verbose=0, solver=cp.MOSEK)\n",
    "print(f\"{diff=}\")"
   ]
  }
 ],
 "metadata": {
  "kernelspec": {
   "display_name": "osbdo",
   "language": "python",
   "name": "python3"
  },
  "language_info": {
   "codemirror_mode": {
    "name": "ipython",
    "version": 3
   },
   "file_extension": ".py",
   "mimetype": "text/x-python",
   "name": "python",
   "nbconvert_exporter": "python",
   "pygments_lexer": "ipython3",
   "version": "3.10.13"
  }
 },
 "nbformat": 4,
 "nbformat_minor": 2
}
