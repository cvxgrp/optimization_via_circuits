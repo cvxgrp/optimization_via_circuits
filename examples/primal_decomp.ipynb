{
 "cells": [
  {
   "cell_type": "code",
   "execution_count": 1,
   "metadata": {},
   "outputs": [],
   "source": [
    "import ciropt as co\n",
    "import cvxpy as cp"
   ]
  },
  {
   "cell_type": "code",
   "execution_count": 2,
   "metadata": {},
   "outputs": [],
   "source": [
    "import numpy as np"
   ]
  },
  {
   "cell_type": "code",
   "execution_count": 3,
   "metadata": {},
   "outputs": [],
   "source": [
    "L_smooth = 1.\n",
    "mu = 0.0001 #0\n",
    "n_func = 3 #2\n",
    "\n",
    "Capacitance = 1\n",
    "\n",
    "# solver = \"ipopt\"\n",
    "# solver = \"ipopt_qcqp\"\n",
    "solver = \"ipopt_qcqp_matrix\"\n",
    "# solver = \"qcqp_sni\"\n",
    "# solver = \"bisection_b\""
   ]
  },
  {
   "cell_type": "markdown",
   "metadata": {},
   "source": [
    "# Ciropt problem"
   ]
  },
  {
   "cell_type": "code",
   "execution_count": 4,
   "metadata": {},
   "outputs": [
    {
     "name": "stdout",
     "output_type": "stream",
     "text": [
      "dim_G=10, dim_F=9\n",
      "Ipopt total # of variables = 190\n",
      "Actual # of variables = 90\n",
      "\n",
      "******************************************************************************\n",
      "This program contains Ipopt, a library for large-scale nonlinear optimization.\n",
      " Ipopt is released as open source code under the Eclipse Public License (EPL).\n",
      "         For more information visit https://github.com/coin-or/Ipopt\n",
      "******************************************************************************\n",
      "\n",
      "This is Ipopt version 3.14.11, running with linear solver MUMPS 5.4.1.\n",
      "\n",
      "Number of nonzeros in equality constraint Jacobian...:    10711\n",
      "Number of nonzeros in inequality constraint Jacobian.:     2520\n",
      "Number of nonzeros in Lagrangian Hessian.............:     4095\n",
      "\n",
      "Total number of variables............................:      190\n",
      "                     variables with only lower bounds:        0\n",
      "                variables with lower and upper bounds:        0\n",
      "                     variables with only upper bounds:        0\n",
      "Total number of equality constraints.................:      120\n",
      "Total number of inequality constraints...............:       28\n",
      "        inequality constraints with only lower bounds:       28\n",
      "   inequality constraints with lower and upper bounds:        0\n",
      "        inequality constraints with only upper bounds:        0\n",
      "\n",
      "iter    objective    inf_pr   inf_du lg(mu)  ||d||  lg(rg) alpha_du alpha_pr  ls\n",
      "   0 -0.0000000e+00 1.00e+00 1.00e+00  -1.0 0.00e+00    -  0.00e+00 0.00e+00   0\n",
      "   1 -5.0141375e-09 1.19e-01 3.33e-01  -1.7 1.00e+00  -2.0 9.90e-01 1.00e+00h  1\n",
      "   2 -8.3249096e-03 2.51e-02 1.04e+00  -1.7 1.82e-01   0.2 1.00e+00 7.00e-01h  1\n",
      "   3  1.0898453e-02 7.40e-03 1.63e+00  -1.7 1.11e-01   0.7 7.15e-01 5.62e-01f  1\n",
      "   4  1.1545721e-02 3.84e-03 1.52e+00  -1.7 4.57e-02   1.1 1.00e+00 1.00e+00f  1\n",
      "   5  1.3001237e-02 2.02e-03 1.20e+00  -1.7 3.56e-02   1.5 1.00e+00 1.00e+00h  1\n",
      "   6  1.5836085e-02 1.22e-03 1.11e+00  -1.7 2.44e-02   1.0 1.00e+00 1.00e+00h  1\n",
      "   7  2.2621990e-02 5.25e-03 1.20e+00  -1.7 5.17e-02   0.6 1.00e+00 1.00e+00f  1\n",
      "   8  3.3845496e-02 1.96e-02 1.13e+00  -1.7 1.06e-01   0.1 1.00e+00 1.00e+00f  1\n",
      "   9 -3.2190621e-02 7.02e-01 8.32e-01  -1.7 8.38e-01  -0.4 7.60e-01 1.00e+00f  1\n",
      "iter    objective    inf_pr   inf_du lg(mu)  ||d||  lg(rg) alpha_du alpha_pr  ls\n",
      "  10 -8.0549782e-02 1.38e-01 1.23e+00  -1.7 3.71e-01   0.0 1.00e+00 1.00e+00h  1\n",
      "  11 -1.6216813e-01 3.99e-02 4.66e-01  -1.7 2.00e-01  -0.4 1.00e+00 1.00e+00h  1\n",
      "  12 -1.5202465e-01 5.42e-03 1.19e-01  -2.5 6.27e-02  -0.0 1.00e+00 1.00e+00h  1\n",
      "  13 -1.5838055e-01 2.23e-03 4.94e-02  -2.5 4.28e-02  -0.5 1.00e+00 1.00e+00h  1\n",
      "  14 -1.6638390e-01 2.43e-03 1.91e-02  -3.8 3.87e-02  -1.0 1.00e+00 1.00e+00h  1\n",
      "  15 -1.6740159e-01 2.21e-03 1.28e-02  -3.8 3.64e-02  -1.5 1.00e+00 1.00e+00h  1\n",
      "  16 -1.6663035e-01 3.51e-04 4.88e-03  -3.8 1.66e-02  -1.9 1.00e+00 1.00e+00h  1\n",
      "  17 -1.6653580e-01 1.43e-05 1.52e-03  -3.8 2.93e-02  -2.4 1.00e+00 1.00e+00H  1\n",
      "  18 -1.6670429e-01 3.17e-04 4.59e-04  -5.7 1.47e-02  -2.9 1.00e+00 1.00e+00h  1\n",
      "  19 -1.6665567e-01 2.84e-05 1.71e-04  -5.7 1.66e-02  -3.4 1.00e+00 1.00e+00H  1\n",
      "iter    objective    inf_pr   inf_du lg(mu)  ||d||  lg(rg) alpha_du alpha_pr  ls\n",
      "  20 -1.6666138e-01 2.97e-04 2.11e-04  -5.7 5.11e-02  -3.8 1.00e+00 1.00e+00H  1\n",
      "  21 -1.6666267e-01 7.43e-06 2.01e-05  -5.7 1.63e-02  -3.4 1.00e+00 1.00e+00H  1\n",
      "  22 -1.6666489e-01 2.40e-03 1.68e-03  -8.6 3.60e-02  -3.9 9.65e-01 1.00e+00h  1\n",
      "  23 -1.6666514e-01 2.44e-04 4.63e-05  -8.6 1.39e-02  -3.5 1.00e+00 1.00e+00h  1\n",
      "  24 -1.6666587e-01 1.42e-03 4.04e-05  -8.6 2.98e-02  -3.9 1.00e+00 1.00e+00h  1\n",
      "  25 -1.6666599e-01 1.39e-04 7.49e-06  -8.6 1.06e-02  -3.5 1.00e+00 1.00e+00h  1\n",
      "  26 -1.6666635e-01 7.15e-04 2.35e-05  -8.6 2.21e-02  -4.0 1.00e+00 1.00e+00h  1\n",
      "  27 -1.6666670e-01 1.46e-03 6.56e-05  -8.6 3.23e-02  -4.5 1.00e+00 1.00e+00h  1\n",
      "  28 -1.6666664e-01 9.09e-05 7.96e-06  -8.6 8.35e-03  -4.0 1.00e+00 1.00e+00h  1\n",
      "  29 -1.6666667e-01 1.34e-04 1.25e-05  -8.6 1.04e-02  -4.5 1.00e+00 1.00e+00h  1\n",
      "iter    objective    inf_pr   inf_du lg(mu)  ||d||  lg(rg) alpha_du alpha_pr  ls\n",
      "  30 -1.6666667e-01 5.24e-05 7.39e-06  -8.6 6.65e-03  -5.0 1.00e+00 1.00e+00h  1\n",
      "  31 -1.6666667e-01 2.33e-05 2.69e-05  -8.6 6.15e-03  -5.5 1.00e+00 1.00e+00h  1\n",
      "  32 -1.6666667e-01 1.33e-08 2.46e-08  -8.6 1.14e-04  -4.1 1.00e+00 1.00e+00h  1\n",
      "  33 -1.6666667e-01 1.24e-09 1.76e-08  -9.0 1.43e-04  -4.6 1.00e+00 1.00e+00H  1\n",
      "\n",
      "Number of Iterations....: 33\n",
      "\n",
      "                                   (scaled)                 (unscaled)\n",
      "Objective...............:  -1.6666666608466552e-01   -1.6666666608466552e-01\n",
      "Dual infeasibility......:   1.7608934754775873e-08    1.7608934754775873e-08\n",
      "Constraint violation....:   1.2409281935354954e-09    1.2409281935354954e-09\n",
      "Variable bound violation:   0.0000000000000000e+00    0.0000000000000000e+00\n",
      "Complementarity.........:   1.1634712636894548e-09    1.1634712636894548e-09\n",
      "Overall NLP error.......:   6.2193423473345925e-09    1.7608934754775873e-08\n",
      "\n",
      "\n",
      "Number of objective function evaluations             = 39\n",
      "Number of objective gradient evaluations             = 34\n",
      "Number of equality constraint evaluations            = 39\n",
      "Number of inequality constraint evaluations          = 39\n",
      "Number of equality constraint Jacobian evaluations   = 34\n",
      "Number of inequality constraint Jacobian evaluations = 34\n",
      "Number of Lagrangian Hessian evaluations             = 33\n",
      "Total seconds in IPOPT                               = 304.462\n",
      "\n",
      "EXIT: Optimal Solution Found.\n",
      "      solver  :   t_proc      (avg)   t_wall      (avg)    n_eval\n",
      "       nlp_f  | 187.00us (  4.79us) 178.00us (  4.56us)        39\n",
      "       nlp_g  |   3.39 s ( 86.99ms)   3.53 s ( 90.63ms)        39\n",
      "  nlp_grad_f  | 197.00us (  5.63us) 170.42us (  4.87us)        35\n",
      "  nlp_hess_l  |   2.92 s ( 88.35ms)   3.04 s ( 92.02ms)        33\n",
      "   nlp_jac_g  | 282.72 s (  8.08 s) 297.67 s (  8.50 s)        35\n",
      "       total  | 289.23 s (289.23 s) 304.46 s (304.46 s)         1\n"
     ]
    }
   ],
   "source": [
    "problem = co.primal_decomposition(n_func, mu, L_smooth, Capacitance)\n",
    "# problem = co.primal_decomposition2(mu, L_smooth, Capacitance)\n",
    "problem.obj = problem.b\n",
    "\n",
    "res, sol = problem.solve(solver=solver, verbose=True)[:2]\n",
    "ca_vars = problem.vars"
   ]
  },
  {
   "cell_type": "code",
   "execution_count": 7,
   "metadata": {},
   "outputs": [
    {
     "data": {
      "text/plain": [
       "{'b': 0.16666666608466552,\n",
       " 'h': 0.40741157997552613,\n",
       " 'd': 0.0,\n",
       " 'alpha': 0.3424071611093663,\n",
       " 'beta': 0.565530099250739,\n",
       " 'gamma': 0.0}"
      ]
     },
     "execution_count": 7,
     "metadata": {},
     "output_type": "execute_result"
    }
   ],
   "source": [
    "res"
   ]
  },
  {
   "cell_type": "markdown",
   "metadata": {},
   "source": [
    "# PEP verification"
   ]
  },
  {
   "cell_type": "code",
   "execution_count": 8,
   "metadata": {},
   "outputs": [
    {
     "name": "stdout",
     "output_type": "stream",
     "text": [
      "diff=-3.7056736208219976e-09\n"
     ]
    }
   ],
   "source": [
    "problem = co.primal_decomposition(n_func, mu, L_smooth, Capacitance, params=res)\n",
    "# problem = co.primal_decomposition2(mu, L_smooth, Capacitance, params=res)\n",
    "diff = problem.solve(verbose=0, solver=cp.MOSEK)\n",
    "print(f\"{diff=}\")"
   ]
  }
 ],
 "metadata": {
  "kernelspec": {
   "display_name": "osbdo",
   "language": "python",
   "name": "python3"
  },
  "language_info": {
   "codemirror_mode": {
    "name": "ipython",
    "version": 3
   },
   "file_extension": ".py",
   "mimetype": "text/x-python",
   "name": "python",
   "nbconvert_exporter": "python",
   "pygments_lexer": "ipython3",
   "version": "3.10.13"
  }
 },
 "nbformat": 4,
 "nbformat_minor": 2
}
