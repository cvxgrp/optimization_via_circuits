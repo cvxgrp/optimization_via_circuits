{
 "cells": [
  {
   "cell_type": "code",
   "execution_count": 1,
   "metadata": {},
   "outputs": [],
   "source": [
    "import ciropt as co\n",
    "import cvxpy as cp"
   ]
  },
  {
   "cell_type": "code",
   "execution_count": 2,
   "metadata": {},
   "outputs": [],
   "source": [
    "import numpy as np"
   ]
  },
  {
   "cell_type": "code",
   "execution_count": 3,
   "metadata": {},
   "outputs": [],
   "source": [
    "L_smooth = 1.\n",
    "mu = 0.01\n",
    "n_func = 2\n",
    "\n",
    "Capacitance = 1\n",
    "\n",
    "# solver = \"ca\"\n",
    "solver = \"ca_canonical\"\n",
    "# solver = \"ca_canonical_X\"\n",
    "# solver = \"qcqp_sni\"\n",
    "# solver = \"bisection_b\""
   ]
  },
  {
   "cell_type": "markdown",
   "metadata": {},
   "source": [
    "# Ciropt problem"
   ]
  },
  {
   "cell_type": "code",
   "execution_count": 4,
   "metadata": {},
   "outputs": [
    {
     "name": "stdout",
     "output_type": "stream",
     "text": [
      "dim_G=7, dim_F=6\n"
     ]
    }
   ],
   "source": [
    "# problem = co.primal_decomposition(n_func, mu, L_smooth, Capacitance)\n",
    "problem = co.primal_decomposition2(mu, L_smooth, Capacitance)\n",
    "problem.obj = problem.b\n",
    "\n",
    "res, sol = problem.solve(solver=solver, verbose=False)[:2]\n",
    "ca_vars = problem.vars\n",
    "\n",
    "# res = params = {  'b': 10,\n",
    "#             'h': 0.1,\n",
    "#             'd': 0.,\n",
    "#             'alpha': 0,\n",
    "#             'beta': 1 }\n",
    "# params = {'b': 2*0.16666904648602282,\n",
    "#  'h': 0.8806822425821924,\n",
    "#  'd': 0,\n",
    "#  'alpha': 0.33574785189166423,\n",
    "#  'beta': 0.2991730389392338}\n",
    "# b = problem.solve(solver=solver, freq=1, max_iters=30, params=params, debug=True)\n",
    "# print(f\"{b = }\")\n",
    "# res[\"b\"] = b"
   ]
  },
  {
   "cell_type": "code",
   "execution_count": 5,
   "metadata": {},
   "outputs": [
    {
     "data": {
      "text/plain": [
       "{'b': 0.24999539016041478,\n",
       " 'h': 0.5536980953200994,\n",
       " 'd': 1.0021621098460742,\n",
       " 'alpha': 0.2072516777277608,\n",
       " 'beta': 0.5786482893615518}"
      ]
     },
     "execution_count": 5,
     "metadata": {},
     "output_type": "execute_result"
    }
   ],
   "source": [
    "res"
   ]
  },
  {
   "cell_type": "code",
   "execution_count": 6,
   "metadata": {},
   "outputs": [],
   "source": [
    "# {'b': 0.24997334536705224,\n",
    "#  'h': 0.9811699809609603,\n",
    "#  'd': 0.5341723209453267,\n",
    "#  'alpha': 0.4987025706770056,\n",
    "#  'beta': 0.49539109735481196}\n",
    "\n",
    "# {'b': 0.25000329799150683,\n",
    "#  'h': 0.5078347314876713,\n",
    "#  'd': 1.968069950493161,\n",
    "#  'alpha': 0.05553591258037289,\n",
    "#  'beta': 0.734059220580429}"
   ]
  },
  {
   "cell_type": "markdown",
   "metadata": {},
   "source": [
    "# PEP verification"
   ]
  },
  {
   "cell_type": "code",
   "execution_count": 7,
   "metadata": {},
   "outputs": [
    {
     "name": "stdout",
     "output_type": "stream",
     "text": [
      "diff=-3.919935734477595e-12\n"
     ]
    }
   ],
   "source": [
    "# problem = co.primal_decomposition(n_func, mu, L_smooth, Capacitance, params=res)\n",
    "problem = co.primal_decomposition2(mu, L_smooth, Capacitance, params=res)\n",
    "diff = problem.solve(verbose=0, solver=cp.MOSEK)\n",
    "print(f\"{diff=}\")"
   ]
  },
  {
   "cell_type": "code",
   "execution_count": 8,
   "metadata": {},
   "outputs": [],
   "source": [
    "# 0.1\n",
    "# {'b': 0.16666904648602282,\n",
    "#  'h': 0.8806822425821924,\n",
    "#  'alpha': 0.33574785189166423,\n",
    "#  'beta': 0.2991730389392338}\n",
    "\n",
    "# 0.01\n",
    "# {'b': 0.16666108866370208,\n",
    "#  'h': 0.9645908112392326,\n",
    "#  'alpha': 0.3054850722157486,\n",
    "#  'beta': 0.259441709886401}\n",
    "\n",
    "# 0.001\n",
    "# {'b': 0.16666221963953595,\n",
    "#  'h': 0.3363931410606121,\n",
    "#  'alpha': 0.031644307481982326,\n",
    "#  'beta': 0.7390963735105563}\n",
    "\n",
    "# 0.0001\n",
    "# {'b': 0.1666622650456863,\n",
    "#  'h': 0.34337691940513115,\n",
    "#  'alpha': 0.07818043341150366,\n",
    "#  'beta': 0.6497348567073953}\n",
    "\n",
    "# 0.00001\n",
    "# {'b': 0.16665475829841084,\n",
    "#  'h': 0.3360757767480016,\n",
    "#  'alpha': 0.027980779353076603,\n",
    "#  'beta': 0.737840994419099}\n",
    "\n",
    "# 0\n",
    "# {'b': 0.16666222497671335,\n",
    "#  'h': 0.3349634864212291,\n",
    "#  'alpha': 0.016063772793244946,\n",
    "#  'beta': 0.7441425336290728}"
   ]
  }
 ],
 "metadata": {
  "kernelspec": {
   "display_name": "osbdo",
   "language": "python",
   "name": "python3"
  },
  "language_info": {
   "codemirror_mode": {
    "name": "ipython",
    "version": 3
   },
   "file_extension": ".py",
   "mimetype": "text/x-python",
   "name": "python",
   "nbconvert_exporter": "python",
   "pygments_lexer": "ipython3",
   "version": "3.10.13"
  }
 },
 "nbformat": 4,
 "nbformat_minor": 2
}
