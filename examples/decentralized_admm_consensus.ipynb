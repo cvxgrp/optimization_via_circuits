{
 "cells": [
  {
   "cell_type": "code",
   "execution_count": 1,
   "metadata": {},
   "outputs": [],
   "source": [
    "import ciropt as co\n",
    "import cvxpy as cp"
   ]
  },
  {
   "cell_type": "code",
   "execution_count": 2,
   "metadata": {},
   "outputs": [],
   "source": [
    "import numpy as np"
   ]
  },
  {
   "cell_type": "code",
   "execution_count": 8,
   "metadata": {},
   "outputs": [],
   "source": [
    "L_smooth = 1 #np.inf\n",
    "mu = 0.001\n",
    "\n",
    "Inductance = 3.\n",
    "R = 1.\n",
    "\n",
    "solver = \"ipopt\"\n",
    "# solver = \"ipopt_qcqp\"\n",
    "# solver = \"ipopt_qcqp_matrix\"\n",
    "# solver = \"cvx_dccp\"\n",
    "# solver = \"qcqp_sni\"\n",
    "# solver = \"bisection_b\""
   ]
  },
  {
   "cell_type": "markdown",
   "metadata": {},
   "source": [
    "# Ciropt problem"
   ]
  },
  {
   "cell_type": "code",
   "execution_count": 9,
   "metadata": {},
   "outputs": [
    {
     "name": "stdout",
     "output_type": "stream",
     "text": [
      "dim_G=10, dim_F=6\n",
      "Ipopt total # of variables = 119\n",
      "Actual # of variables = 73\n"
     ]
    }
   ],
   "source": [
    "problem = co.decentralized_admm_consensus_l3( mu, L_smooth, R, Inductance)\n",
    "problem.obj = problem.b + problem.d * 2\n",
    "\n",
    "# bounds = {  'alpha': {\"ub\": 1, \"lb\": 0},\n",
    "#             # 'beta': {\"ub\": 1, \"lb\": 1},\n",
    "#             # 'h': {\"ub\": 0.01, \"lb\": 0.01}\n",
    "#             }\n",
    "\n",
    "# res, sol = problem.solve(solver=solver, bounds=bounds, verbose=False)[:2]\n",
    "res, model = problem.solve(solver=solver, verbose=False)[:2]\n",
    "ca_vars = problem.vars"
   ]
  },
  {
   "cell_type": "code",
   "execution_count": 5,
   "metadata": {},
   "outputs": [
    {
     "data": {
      "text/plain": [
       "{'b': 1.3672992711404315,\n",
       " 'h': 3.3309445712740433,\n",
       " 'd': 0.5316133229268564,\n",
       " 'alpha': 0.0,\n",
       " 'beta': 0.0,\n",
       " 'gamma': 2.1181830037990528}"
      ]
     },
     "execution_count": 5,
     "metadata": {},
     "output_type": "execute_result"
    }
   ],
   "source": [
    "res"
   ]
  },
  {
   "cell_type": "markdown",
   "metadata": {},
   "source": [
    "# PEP verification"
   ]
  },
  {
   "cell_type": "code",
   "execution_count": 6,
   "metadata": {},
   "outputs": [],
   "source": [
    "res['b'] -= 0.1\n",
    "assert res[\"b\"] >= 0.1 and res[\"h\"] >= 0.1 and res[\"d\"] >= 0.1"
   ]
  },
  {
   "cell_type": "code",
   "execution_count": 7,
   "metadata": {},
   "outputs": [
    {
     "name": "stdout",
     "output_type": "stream",
     "text": [
      "diff=-5.490065606283921e-12\n"
     ]
    }
   ],
   "source": [
    "problem = co.decentralized_admm_consensus_l3( mu, L_smooth, R, Inductance, params=res)\n",
    "diff = problem.solve(verbose=0, solver=cp.MOSEK)\n",
    "print(f\"{diff=}\")"
   ]
  }
 ],
 "metadata": {
  "kernelspec": {
   "display_name": "osbdo",
   "language": "python",
   "name": "python3"
  },
  "language_info": {
   "codemirror_mode": {
    "name": "ipython",
    "version": 3
   },
   "file_extension": ".py",
   "mimetype": "text/x-python",
   "name": "python",
   "nbconvert_exporter": "python",
   "pygments_lexer": "ipython3",
   "version": "3.10.13"
  }
 },
 "nbformat": 4,
 "nbformat_minor": 2
}
