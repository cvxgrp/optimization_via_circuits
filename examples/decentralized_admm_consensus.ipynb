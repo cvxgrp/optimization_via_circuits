{
 "cells": [
  {
   "cell_type": "code",
   "execution_count": 1,
   "metadata": {},
   "outputs": [],
   "source": [
    "import ciropt as co\n",
    "import cvxpy as cp"
   ]
  },
  {
   "cell_type": "code",
   "execution_count": 2,
   "metadata": {},
   "outputs": [],
   "source": [
    "import numpy as np"
   ]
  },
  {
   "cell_type": "code",
   "execution_count": 3,
   "metadata": {},
   "outputs": [],
   "source": [
    "L_smooth = 1 #np.inf\n",
    "mu = 0.001\n",
    "\n",
    "Inductance = 1\n",
    "R = 1\n",
    "\n",
    "# solver = \"ca\"\n",
    "solver = \"ca_canonical\"\n",
    "# solver = \"ca_canonical_X\"\n",
    "# solver = \"cvx_dccp\"\n",
    "# solver = \"qcqp_sni\"\n",
    "# solver = \"bisection_b\""
   ]
  },
  {
   "cell_type": "markdown",
   "metadata": {},
   "source": [
    "# Ciropt problem"
   ]
  },
  {
   "cell_type": "code",
   "execution_count": 4,
   "metadata": {},
   "outputs": [
    {
     "name": "stdout",
     "output_type": "stream",
     "text": [
      "dim_G=10, dim_F=6\n"
     ]
    },
    {
     "ename": "RuntimeError",
     "evalue": "Error in Opti::solve [OptiNode] at .../casadi/core/optistack.cpp:157:\n.../casadi/core/optistack_internal.cpp:998: Assertion \"return_success(accept_limit)\" failed:\nSolver failed. You may use opti.debug.value to investigate the latest values of variables. return_status is 'Restoration_Failed'",
     "output_type": "error",
     "traceback": [
      "\u001b[0;31m---------------------------------------------------------------------------\u001b[0m",
      "\u001b[0;31mRuntimeError\u001b[0m                              Traceback (most recent call last)",
      "Input \u001b[0;32mIn [4]\u001b[0m, in \u001b[0;36m<cell line: 9>\u001b[0;34m()\u001b[0m\n\u001b[1;32m      4\u001b[0m bounds \u001b[38;5;241m=\u001b[39m {  \u001b[38;5;124m'\u001b[39m\u001b[38;5;124malpha\u001b[39m\u001b[38;5;124m'\u001b[39m: {\u001b[38;5;124m\"\u001b[39m\u001b[38;5;124mub\u001b[39m\u001b[38;5;124m\"\u001b[39m: \u001b[38;5;241m0\u001b[39m, \u001b[38;5;124m\"\u001b[39m\u001b[38;5;124mlb\u001b[39m\u001b[38;5;124m\"\u001b[39m: \u001b[38;5;241m0\u001b[39m},\n\u001b[1;32m      5\u001b[0m             \u001b[38;5;124m'\u001b[39m\u001b[38;5;124mbeta\u001b[39m\u001b[38;5;124m'\u001b[39m: {\u001b[38;5;124m\"\u001b[39m\u001b[38;5;124mub\u001b[39m\u001b[38;5;124m\"\u001b[39m: \u001b[38;5;241m1\u001b[39m, \u001b[38;5;124m\"\u001b[39m\u001b[38;5;124mlb\u001b[39m\u001b[38;5;124m\"\u001b[39m: \u001b[38;5;241m1\u001b[39m},\n\u001b[1;32m      6\u001b[0m             \u001b[38;5;124m'\u001b[39m\u001b[38;5;124mh\u001b[39m\u001b[38;5;124m'\u001b[39m: {\u001b[38;5;124m\"\u001b[39m\u001b[38;5;124mub\u001b[39m\u001b[38;5;124m\"\u001b[39m: \u001b[38;5;241m0.01\u001b[39m, \u001b[38;5;124m\"\u001b[39m\u001b[38;5;124mlb\u001b[39m\u001b[38;5;124m\"\u001b[39m: \u001b[38;5;241m0.01\u001b[39m}}\n\u001b[1;32m      8\u001b[0m \u001b[38;5;66;03m# res, sol = problem.solve(solver=solver, bounds=bounds, verbose=False)[:2]\u001b[39;00m\n\u001b[0;32m----> 9\u001b[0m res, model \u001b[38;5;241m=\u001b[39m \u001b[43mproblem\u001b[49m\u001b[38;5;241;43m.\u001b[39;49m\u001b[43msolve\u001b[49m\u001b[43m(\u001b[49m\u001b[43msolver\u001b[49m\u001b[38;5;241;43m=\u001b[39;49m\u001b[43msolver\u001b[49m\u001b[43m,\u001b[49m\u001b[43m \u001b[49m\u001b[43mverbose\u001b[49m\u001b[38;5;241;43m=\u001b[39;49m\u001b[38;5;28;43;01mFalse\u001b[39;49;00m\u001b[43m)\u001b[49m[:\u001b[38;5;241m2\u001b[39m]\n\u001b[1;32m     10\u001b[0m ca_vars \u001b[38;5;241m=\u001b[39m problem\u001b[38;5;241m.\u001b[39mvars\n",
      "File \u001b[0;32m~/Documents/projects/Circuits/optimization_via_circuits/ciropt/circuit_opt.py:420\u001b[0m, in \u001b[0;36mCircuitOpt.solve\u001b[0;34m(self, solver, **kwargs)\u001b[0m\n\u001b[1;32m    418\u001b[0m     \u001b[38;5;28;01mreturn\u001b[39;00m \u001b[38;5;28mself\u001b[39m\u001b[38;5;241m.\u001b[39msolve_ca(\u001b[38;5;241m*\u001b[39m\u001b[38;5;241m*\u001b[39mkwargs)\n\u001b[1;32m    419\u001b[0m \u001b[38;5;28;01melif\u001b[39;00m solver \u001b[38;5;241m==\u001b[39m \u001b[38;5;124m\"\u001b[39m\u001b[38;5;124mca_canonical\u001b[39m\u001b[38;5;124m\"\u001b[39m:\n\u001b[0;32m--> 420\u001b[0m     \u001b[38;5;28;01mreturn\u001b[39;00m \u001b[38;5;28;43mself\u001b[39;49m\u001b[38;5;241;43m.\u001b[39;49m\u001b[43msolve_ca_canonical\u001b[49m\u001b[43m(\u001b[49m\u001b[38;5;241;43m*\u001b[39;49m\u001b[38;5;241;43m*\u001b[39;49m\u001b[43mkwargs\u001b[49m\u001b[43m)\u001b[49m\n\u001b[1;32m    421\u001b[0m \u001b[38;5;28;01melif\u001b[39;00m solver \u001b[38;5;241m==\u001b[39m \u001b[38;5;124m\"\u001b[39m\u001b[38;5;124mca_canonical_X\u001b[39m\u001b[38;5;124m\"\u001b[39m:\n\u001b[1;32m    422\u001b[0m     \u001b[38;5;28;01mreturn\u001b[39;00m \u001b[38;5;28mself\u001b[39m\u001b[38;5;241m.\u001b[39msolve_ca_canonical_X(\u001b[38;5;241m*\u001b[39m\u001b[38;5;241m*\u001b[39mkwargs)\n",
      "File \u001b[0;32m~/Documents/projects/Circuits/optimization_via_circuits/ciropt/circuit_opt.py:303\u001b[0m, in \u001b[0;36mCircuitOpt.solve_ca_canonical\u001b[0;34m(self, verbose, init_values, x0, bounds, debug, **kwargs)\u001b[0m\n\u001b[1;32m    301\u001b[0m     opti\u001b[38;5;241m.\u001b[39mset_initial(var_x, x0)\n\u001b[1;32m    302\u001b[0m opti\u001b[38;5;241m.\u001b[39msolver(\u001b[38;5;124m'\u001b[39m\u001b[38;5;124mipopt\u001b[39m\u001b[38;5;124m'\u001b[39m, opts)\n\u001b[0;32m--> 303\u001b[0m sol \u001b[38;5;241m=\u001b[39m \u001b[43mopti\u001b[49m\u001b[38;5;241;43m.\u001b[39;49m\u001b[43msolve\u001b[49m\u001b[43m(\u001b[49m\u001b[43m)\u001b[49m \u001b[38;5;66;03m# QCQP for solving CircuitOpt\u001b[39;00m\n\u001b[1;32m    304\u001b[0m \u001b[38;5;28;01massert\u001b[39;00m sol\u001b[38;5;241m.\u001b[39mstats()[\u001b[38;5;124m'\u001b[39m\u001b[38;5;124msuccess\u001b[39m\u001b[38;5;124m'\u001b[39m], \u001b[38;5;28mprint\u001b[39m(sol\u001b[38;5;241m.\u001b[39mstats())\n\u001b[1;32m    305\u001b[0m \u001b[38;5;28mself\u001b[39m\u001b[38;5;241m.\u001b[39mopti \u001b[38;5;241m=\u001b[39m opti\n",
      "File \u001b[0;32m~/opt/anaconda3/envs/circuits/lib/python3.10/site-packages/casadi/casadi.py:47860\u001b[0m, in \u001b[0;36mOpti.solve\u001b[0;34m(self, *args)\u001b[0m\n\u001b[1;32m  47840\u001b[0m \u001b[38;5;28;01mdef\u001b[39;00m \u001b[38;5;21msolve\u001b[39m(\u001b[38;5;28mself\u001b[39m, \u001b[38;5;241m*\u001b[39margs) \u001b[38;5;241m-\u001b[39m\u001b[38;5;241m>\u001b[39m \u001b[38;5;124m\"\u001b[39m\u001b[38;5;124mcasadi::OptiSol\u001b[39m\u001b[38;5;124m\"\u001b[39m:\n\u001b[1;32m  47841\u001b[0m \u001b[38;5;250m    \u001b[39m\u001b[38;5;124;03m\"\"\"\u001b[39;00m\n\u001b[1;32m  47842\u001b[0m \u001b[38;5;124;03m      [INTERNAL] \u001b[39;00m\n\u001b[1;32m  47843\u001b[0m \n\u001b[0;32m   (...)\u001b[0m\n\u001b[1;32m  47858\u001b[0m \n\u001b[1;32m  47859\u001b[0m \u001b[38;5;124;03m    \"\"\"\u001b[39;00m\n\u001b[0;32m> 47860\u001b[0m     \u001b[38;5;28;01mreturn\u001b[39;00m \u001b[43m_casadi\u001b[49m\u001b[38;5;241;43m.\u001b[39;49m\u001b[43mOpti_solve\u001b[49m\u001b[43m(\u001b[49m\u001b[38;5;28;43mself\u001b[39;49m\u001b[43m,\u001b[49m\u001b[43m \u001b[49m\u001b[38;5;241;43m*\u001b[39;49m\u001b[43margs\u001b[49m\u001b[43m)\u001b[49m\n",
      "\u001b[0;31mRuntimeError\u001b[0m: Error in Opti::solve [OptiNode] at .../casadi/core/optistack.cpp:157:\n.../casadi/core/optistack_internal.cpp:998: Assertion \"return_success(accept_limit)\" failed:\nSolver failed. You may use opti.debug.value to investigate the latest values of variables. return_status is 'Restoration_Failed'"
     ]
    }
   ],
   "source": [
    "problem = co.decentralized_admm_consensus_l3( mu, L_smooth, R, Inductance)\n",
    "problem.obj = problem.b + problem.d * 0.5\n",
    "\n",
    "bounds = {  'alpha': {\"ub\": 0, \"lb\": 0},\n",
    "            'beta': {\"ub\": 1, \"lb\": 1},\n",
    "            'h': {\"ub\": 0.01, \"lb\": 0.01}}\n",
    "\n",
    "# res, sol = problem.solve(solver=solver, bounds=bounds, verbose=False)[:2]\n",
    "res, model = problem.solve(solver=solver, verbose=False)[:2]\n",
    "ca_vars = problem.vars"
   ]
  },
  {
   "cell_type": "code",
   "execution_count": null,
   "metadata": {},
   "outputs": [
    {
     "data": {
      "text/plain": [
       "{'b': -7.705026305947063e-09,\n",
       " 'h': 1.7297220441421165e-13,\n",
       " 'd': -5.008733797028184e-09,\n",
       " 'gamma': 9.306218039836455e-12}"
      ]
     },
     "execution_count": 5,
     "metadata": {},
     "output_type": "execute_result"
    }
   ],
   "source": [
    "res"
   ]
  },
  {
   "cell_type": "markdown",
   "metadata": {},
   "source": [
    "# PEP verification"
   ]
  },
  {
   "cell_type": "code",
   "execution_count": null,
   "metadata": {},
   "outputs": [],
   "source": [
    "# res['b'] -= 0.1\n",
    "# print(res[\"b\"])"
   ]
  },
  {
   "cell_type": "code",
   "execution_count": null,
   "metadata": {},
   "outputs": [
    {
     "name": "stdout",
     "output_type": "stream",
     "text": [
      "diff=-1.99195046248758e-09\n"
     ]
    }
   ],
   "source": [
    "problem = co.decentralized_admm_consensus_l3( mu, L_smooth, R, Inductance, params=res)\n",
    "diff = problem.solve(verbose=0, solver=cp.MOSEK)\n",
    "print(f\"{diff=}\")"
   ]
  },
  {
   "cell_type": "code",
   "execution_count": null,
   "metadata": {},
   "outputs": [],
   "source": []
  }
 ],
 "metadata": {
  "kernelspec": {
   "display_name": "osbdo",
   "language": "python",
   "name": "python3"
  },
  "language_info": {
   "codemirror_mode": {
    "name": "ipython",
    "version": 3
   },
   "file_extension": ".py",
   "mimetype": "text/x-python",
   "name": "python",
   "nbconvert_exporter": "python",
   "pygments_lexer": "ipython3",
   "version": "3.10.13"
  }
 },
 "nbformat": 4,
 "nbformat_minor": 2
}
