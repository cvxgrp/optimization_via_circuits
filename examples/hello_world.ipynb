{
 "cells": [
  {
   "cell_type": "code",
   "execution_count": 1,
   "metadata": {},
   "outputs": [],
   "source": [
    "import numpy as np\n",
    "import ciropt as co"
   ]
  },
  {
   "cell_type": "code",
   "execution_count": 2,
   "metadata": {},
   "outputs": [],
   "source": [
    "problem = co.CircuitOpt()"
   ]
  },
  {
   "cell_type": "code",
   "execution_count": 3,
   "metadata": {},
   "outputs": [],
   "source": [
    "mu = 0\n",
    "M = np.inf\n",
    "f = co.def_function(problem, mu, M)"
   ]
  },
  {
   "cell_type": "code",
   "execution_count": 4,
   "metadata": {},
   "outputs": [
    {
     "data": {
      "text/plain": [
       "ciropt.function.ConvexFunction"
      ]
     },
     "execution_count": 4,
     "metadata": {},
     "output_type": "execute_result"
    }
   ],
   "source": [
    "type(f)"
   ]
  },
  {
   "cell_type": "code",
   "execution_count": 5,
   "metadata": {},
   "outputs": [],
   "source": [
    "x_star, y_star, f_star = f.stationary_point(return_gradient_and_function_value=True)"
   ]
  },
  {
   "cell_type": "code",
   "execution_count": 6,
   "metadata": {},
   "outputs": [],
   "source": [
    "h, b, d = problem.h, problem.b, problem.d"
   ]
  },
  {
   "cell_type": "code",
   "execution_count": 7,
   "metadata": {},
   "outputs": [],
   "source": [
    "R, C = 1, 10\n",
    "\n",
    "\n",
    "z_1 = problem.set_initial_point()\n",
    "e2_1 = problem.set_initial_point()\n",
    "x_1 = co.proximal_step(z_1, f, R/2)[0]\n",
    "y_1 = (2 / R) * (z_1 - x_1)\n",
    "\n",
    "\n",
    "e2_2 = e2_1  -  h / (2 * R * C) *  (R * y_1 + 3 * e2_1)  \n",
    "z_2 = z_1  -  h / (4 * R * C) *  (5 * R * y_1 + 3 * e2_1)\n",
    "x_2 = co.proximal_step(z_2, f, R/2)[0]\n",
    "y_2 = (2 / R) * (z_2 - x_2)\n",
    "\n",
    "v_C1_1 = e2_1 / 2 - z_1\n",
    "v_C1_2 = e2_2 / 2 - z_2\n",
    "v_C2_1 = e2_1; v_C2_2 = e2_2 \n",
    "e1_1 = (e2_1 - R * y_1) / 2"
   ]
  },
  {
   "cell_type": "code",
   "execution_count": 8,
   "metadata": {},
   "outputs": [],
   "source": [
    "E_1 = (C/2) * (v_C1_1 + x_star)**2 + (C/2) * (v_C2_1)**2\n",
    "E_2 = (C/2) * (v_C1_2 + x_star)**2 + (C/2) * (v_C2_2)**2\n",
    "Delta_1 = b * (x_1 - x_star) * (y_1 - y_star) \\\n",
    "        + d * (1/R) * ((e1_1)**2 + (e1_1 - e2_1)**2 + (e2_1)**2)\n",
    "\n",
    "\n",
    "problem.set_performance_metric(E_2 - (E_1 - Delta_1))"
   ]
  },
  {
   "cell_type": "code",
   "execution_count": 9,
   "metadata": {},
   "outputs": [
    {
     "name": "stdout",
     "output_type": "stream",
     "text": [
      "dim_G=5, dim_F=3\n",
      "Ipopt total # of variables = 42\n",
      "Actual # of variables = 31\n"
     ]
    }
   ],
   "source": [
    "problem.obj = problem.b + problem.d * 1.1\n",
    "\n",
    "params, sol = problem.solve(solver=\"ipopt\", verbose=False)[:2]"
   ]
  },
  {
   "cell_type": "code",
   "execution_count": 10,
   "metadata": {},
   "outputs": [
    {
     "data": {
      "text/plain": [
       "{'b': 6.363636345093333, 'h': 6.363636341231115, 'd': 0.2892562160635395}"
      ]
     },
     "execution_count": 10,
     "metadata": {},
     "output_type": "execute_result"
    }
   ],
   "source": [
    "params"
   ]
  },
  {
   "cell_type": "code",
   "execution_count": null,
   "metadata": {},
   "outputs": [],
   "source": []
  }
 ],
 "metadata": {
  "kernelspec": {
   "display_name": "circuits",
   "language": "python",
   "name": "python3"
  },
  "language_info": {
   "codemirror_mode": {
    "name": "ipython",
    "version": 3
   },
   "file_extension": ".py",
   "mimetype": "text/x-python",
   "name": "python",
   "nbconvert_exporter": "python",
   "pygments_lexer": "ipython3",
   "version": "3.10.13"
  }
 },
 "nbformat": 4,
 "nbformat_minor": 2
}
