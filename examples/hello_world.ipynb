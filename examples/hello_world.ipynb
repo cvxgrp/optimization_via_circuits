{
 "cells": [
  {
   "cell_type": "code",
   "execution_count": 1,
   "metadata": {},
   "outputs": [],
   "source": [
    "import numpy as np\n",
    "import ciropt as co\n",
    "\n",
    "np.random.seed(1)"
   ]
  },
  {
   "cell_type": "markdown",
   "metadata": {},
   "source": [
    "# Discretize the dynamics of DI using `ciropt`."
   ]
  },
  {
   "cell_type": "markdown",
   "metadata": {},
   "source": [
    "### 1. Define a problem."
   ]
  },
  {
   "cell_type": "code",
   "execution_count": 2,
   "metadata": {},
   "outputs": [],
   "source": [
    "problem = co.CircuitOpt()"
   ]
  },
  {
   "cell_type": "markdown",
   "metadata": {},
   "source": [
    "### 2. Define function classes for each $f_i$. \n",
    "In this example there is only single function with smoothness $M=\\infty$ and strong convexity $\\mu=1/2$."
   ]
  },
  {
   "cell_type": "code",
   "execution_count": 3,
   "metadata": {},
   "outputs": [],
   "source": [
    "mu = 0\n",
    "M = np.inf\n",
    "f = co.def_function(problem, mu, M)"
   ]
  },
  {
   "cell_type": "markdown",
   "metadata": {},
   "source": [
    "### 3. Define optimal points."
   ]
  },
  {
   "cell_type": "code",
   "execution_count": 4,
   "metadata": {},
   "outputs": [],
   "source": [
    "x_star, y_star, f_star = f.stationary_point(return_gradient_and_function_value=True)"
   ]
  },
  {
   "cell_type": "markdown",
   "metadata": {},
   "source": [
    "### 4. Define values for the RLC components and discretization parameters, here for simplicity we take $\\alpha=0$ and $\\beta=1$."
   ]
  },
  {
   "cell_type": "code",
   "execution_count": 5,
   "metadata": {},
   "outputs": [],
   "source": [
    "R, C = 1, 10\n",
    "h, eta = problem.h, problem.eta"
   ]
  },
  {
   "cell_type": "markdown",
   "metadata": {},
   "source": [
    "### 5. Define the one step transition for discretized V-I relations of given DI."
   ]
  },
  {
   "cell_type": "code",
   "execution_count": 6,
   "metadata": {},
   "outputs": [],
   "source": [
    "z_1 = problem.set_initial_point()\n",
    "e2_1 = problem.set_initial_point()\n",
    "x_1 = co.proximal_step(z_1, f, R/2)[0]\n",
    "y_1 = (2 / R) * (z_1 - x_1)\n",
    "e1_1 = (e2_1 - R * y_1) / 2\n",
    "v_C1_1 = e2_1 / 2 - z_1\n",
    "v_C2_1 = e2_1\n",
    "\n",
    "e2_2 = e2_1  -  h / (2 * R * C) *  (R * y_1 + 3 * e2_1)  \n",
    "z_2 = z_1  -  h / (4 * R * C) *  (5 * R * y_1 + 3 * e2_1)\n",
    "x_2 = co.proximal_step(z_2, f, R/2)[0]\n",
    "y_2 = (2 / R) * (z_2 - x_2)\n",
    "v_C1_2 = e2_2 / 2 - z_2\n",
    "v_C2_2 = e2_2 "
   ]
  },
  {
   "cell_type": "markdown",
   "metadata": {},
   "source": [
    "### 6. Define dissipative term and set the objective to maximize descent coefficients.\n",
    "Solve the final problem."
   ]
  },
  {
   "cell_type": "code",
   "execution_count": 7,
   "metadata": {},
   "outputs": [
    {
     "name": "stdout",
     "output_type": "stream",
     "text": [
      "dim_G=5, dim_F=3\n",
      "Ipopt total # of variables = 42\n",
      "Actual # of variables = 31\n"
     ]
    }
   ],
   "source": [
    "E_1 = (C/2) * (v_C1_1 + x_star)**2 + (C/2) * (v_C2_1)**2\n",
    "E_2 = (C/2) * (v_C1_2 + x_star)**2 + (C/2) * (v_C2_2)**2\n",
    "Delta_1 = eta * (x_1 - x_star) * (y_1 - y_star) \n",
    "\n",
    "problem.set_performance_metric(E_2 - (E_1 - Delta_1))\n",
    "params, sol = problem.solve()[:2]"
   ]
  },
  {
   "cell_type": "markdown",
   "metadata": {},
   "source": [
    "## Resulting parameters."
   ]
  },
  {
   "cell_type": "code",
   "execution_count": 8,
   "metadata": {},
   "outputs": [
    {
     "data": {
      "text/plain": [
       "(6.666666667638714, 6.6666666636820855)"
      ]
     },
     "execution_count": 8,
     "metadata": {},
     "output_type": "execute_result"
    }
   ],
   "source": [
    "params[\"eta\"], params[\"h\"]"
   ]
  },
  {
   "cell_type": "markdown",
   "metadata": {},
   "source": [
    "# Solve your problem using new algorithm. "
   ]
  },
  {
   "cell_type": "markdown",
   "metadata": {},
   "source": [
    "We consider the primal problem\n",
    "$$\n",
    "\\begin{array}{ll}\n",
    "\\text{minimize} & f(x) = \\sum_i\n",
    "\\begin{cases}\n",
    "(x_i - c_i)^2 & |x_i-c_i| \\leq 1 \\\\\n",
    "2(x_i-c_i)-1 & |x_i-c_i| > 1\n",
    "\\end{cases} \\\\\n",
    "\\text{subject to} & Ax = b\n",
    "\\end{array}\n",
    "$$\n",
    "and solve the dual problem\n",
    "$$\n",
    "\\begin{array}{ll}\n",
    "\\text{minimize} & g(y) = f^*(-A^T y ) + b^Ty\n",
    "\\end{array}\n",
    "$$\n",
    "\n",
    "The proximal operator $\\mathbf{prox}_{\\alpha g}(\\tilde y)$ is equivalent to\n",
    "$$\n",
    "x = \\arg\\min \\left( f(x) + (\\alpha/2)\\|Ax-b\\|_2^2 + \\tilde y^T(Ax-b) \\right),\n",
    "\\qquad y = \\tilde y + \\alpha(Ax-b)\n",
    "$$\n",
    "\n",
    "Note that for $f$ is huber loss, thus $f$ is $2$-smooth and $f^*$ is $1/2$-strongly convex. \n",
    "Then for wide matrix $A$ with full column space, $g$ is $\\lambda_{\\min}(AA^T)/2$-strongly convex, as shown below\n",
    "for $u_i \\in \\partial g(y_i)$.\n",
    "$$\n",
    "\\langle u_1 - u_1, y_1 - y_2 \\rangle \n",
    "= \\langle \\partial f^*(-A^T y_1) - \\partial f^*(-A^T y_2), -A^T(y_1 - y_2) \\rangle \\geq \\mu \\|A^T(y_1 - y_2)\\|^2  \\geq \\lambda_{\\min}(AA^T) \\mu \\|y_1 - y_2\\|^2\n",
    "$$"
   ]
  },
  {
   "cell_type": "code",
   "execution_count": 9,
   "metadata": {},
   "outputs": [],
   "source": [
    "import cvxpy as cp\n",
    "import matplotlib.pyplot as plt\n",
    "from scipy.special import huber as sp_huber"
   ]
  },
  {
   "cell_type": "code",
   "execution_count": 10,
   "metadata": {},
   "outputs": [],
   "source": [
    "n = 100\n",
    "m = 30\n",
    "A = np.random.randn(m, n)\n",
    "b = np.random.randn(m)\n",
    "c = np.random.randn(n) "
   ]
  },
  {
   "cell_type": "code",
   "execution_count": 11,
   "metadata": {},
   "outputs": [],
   "source": [
    "lambda_min = np.linalg.eigvals(A @ A.T).min()\n",
    "A /= np.sqrt(lambda_min)\n",
    "assert np.allclose(np.linalg.eigvals(A @ A.T).min(), 1)"
   ]
  },
  {
   "cell_type": "code",
   "execution_count": 12,
   "metadata": {},
   "outputs": [],
   "source": [
    "def prox_oracle_g(n, R, A, b, c, tilde_y, coeff=1):\n",
    "    x = cp.Variable(n) \n",
    "    f = coeff * cp.sum(cp.huber(x - c, M=1)) + tilde_y.T @ (A @ x - b) + (R/2) * cp.sum_squares(A @ x - b) \n",
    "    objective = cp.Minimize(f)\n",
    "    prob = cp.Problem(objective, [])\n",
    "    prob.solve()\n",
    "    y = tilde_y + R * (A @ x.value - b)\n",
    "    return y, x.value\n",
    "\n",
    "\n",
    "def dual_obj_cvx(n, A, b, c, y, coeff=1):\n",
    "    x = cp.Variable(n) \n",
    "    f = -coeff * cp.sum(cp.huber(x - c, M=1)) - x.T @ (A.T @ y)\n",
    "    prob = cp.Problem(cp.Maximize(f), [])\n",
    "    prob.solve(solver=cp.MOSEK) \n",
    "    return -(f.value + b @ y)\n",
    "\n",
    "\n",
    "def solve_primal_cvx(n, A, b, c, coeff=1):\n",
    "    x = cp.Variable(n) \n",
    "    f = coeff * cp.sum(cp.huber(x - c, M=1))\n",
    "    objective = cp.Minimize(f)\n",
    "    constraints = [A @ x == b]\n",
    "    prob = cp.Problem(objective, constraints)\n",
    "    prob.solve()\n",
    "    return f.value, x.value, constraints[0].dual_value"
   ]
  },
  {
   "cell_type": "code",
   "execution_count": 13,
   "metadata": {},
   "outputs": [
    {
     "name": "stdout",
     "output_type": "stream",
     "text": [
      "f_star=34.612948443117524, np.linalg.matrix_rank(A)=30\n"
     ]
    }
   ],
   "source": [
    "f_star, x_star, y_star = solve_primal_cvx(n, A, b, c)\n",
    "print(f\"{f_star=}, {np.linalg.matrix_rank(A)=}\")\n",
    "assert np.allclose(dual_obj_cvx(n, A, b, c, y_star), f_star)"
   ]
  },
  {
   "cell_type": "code",
   "execution_count": 14,
   "metadata": {},
   "outputs": [
    {
     "name": "stdout",
     "output_type": "stream",
     "text": [
      "0 0.3923268463276589 11.571264918582449\n",
      "10 1.7381851184987804e-05 16.220035621165138\n",
      "20 1.4331906249882631e-08 16.2616759381552\n",
      "30 9.149434288983474e-13 16.26278170291407\n",
      "40 2.1714151016060242e-11 16.262821832078856\n",
      "losses[-1]=2.1749459580065294e-11\n"
     ]
    }
   ],
   "source": [
    "losses = []\n",
    "z_0 = np.random.randn(m)\n",
    "e2_0 = np.zeros(m)\n",
    "for k in range(50):\n",
    "    x1, primal = prox_oracle_g(n, R/2, A, b, c, z_0)\n",
    "    g_x1 = (2 / R) * (z_0 - x1)\n",
    "    e2_1 = e2_0 - params[\"h\"] / (2 * R * C) * (R * g_x1 + 3 * e2_0)\n",
    "    z_1 = z_0 - params[\"h\"] / (4 * R * C) * (5 * R * g_x1 + 3 * e2_0)\n",
    "    losses += [np.abs(dual_obj_cvx(n, A, b, c, x1) - f_star) / f_star]\n",
    "    e2_0 = e2_1\n",
    "    z_0 = z_1\n",
    "    if k % 10 == 0:\n",
    "        print(k, losses[-1] , sp_huber(1, primal-c).sum())\n",
    "\n",
    "print(f\"{losses[-1]=}\")"
   ]
  },
  {
   "cell_type": "code",
   "execution_count": 15,
   "metadata": {},
   "outputs": [
    {
     "data": {
      "image/png": "[encoded data removed]",
      "text/plain": [
       "<Figure size 1000x600 with 1 Axes>"
      ]
     },
     "metadata": {},
     "output_type": "display_data"
    }
   ],
   "source": [
    "plt.figure(figsize=(10, 6))\n",
    "plt.rc('text', usetex=True)\n",
    "plt.rc('font', family='serif')\n",
    "plt.plot(losses[:40], label=r'$f(x^k)$', color='blue', marker='o', ms=5)\n",
    "\n",
    "plt.xlabel(r'$k$', fontsize=16)\n",
    "plt.ylabel(r\"$|f(x) - f^\\star|/|f^\\star|$\", fontsize=16)\n",
    "# plt.legend(fontsize=16) \n",
    "plt.xticks(fontsize=16, fontname='serif')\n",
    "plt.yticks(fontsize=16, fontname='serif')\n",
    "plt.grid(True)\n",
    "plt.tight_layout()\n",
    "plt.yscale('log')\n",
    "plt.savefig(f'figures/simple_hello_wrld.pdf')\n",
    "plt.show()"
   ]
  },
  {
   "cell_type": "code",
   "execution_count": 16,
   "metadata": {},
   "outputs": [
    {
     "data": {
      "text/plain": [
       "(0.3333333331841043, 0.16666666659205215)"
      ]
     },
     "execution_count": 16,
     "metadata": {},
     "output_type": "execute_result"
    }
   ],
   "source": [
    "params[\"h\"] / (2*C*R), params[\"h\"] / (4*C*R)"
   ]
  }
 ],
 "metadata": {
  "kernelspec": {
   "display_name": "circuits",
   "language": "python",
   "name": "python3"
  },
  "language_info": {
   "codemirror_mode": {
    "name": "ipython",
    "version": 3
   },
   "file_extension": ".py",
   "mimetype": "text/x-python",
   "name": "python",
   "nbconvert_exporter": "python",
   "pygments_lexer": "ipython3",
   "version": "3.10.13"
  }
 },
 "nbformat": 4,
 "nbformat_minor": 2
}
