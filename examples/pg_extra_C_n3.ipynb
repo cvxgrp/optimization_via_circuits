{
 "cells": [
  {
   "cell_type": "code",
   "execution_count": 1,
   "metadata": {},
   "outputs": [],
   "source": [
    "import ciropt as co\n",
    "import cvxpy as cp"
   ]
  },
  {
   "cell_type": "code",
   "execution_count": 2,
   "metadata": {},
   "outputs": [],
   "source": [
    "import numpy as np"
   ]
  },
  {
   "cell_type": "code",
   "execution_count": 3,
   "metadata": {},
   "outputs": [],
   "source": [
    "L_smooth_h = 0.1 #np.inf\n",
    "L_smooth_f = 10\n",
    "mu = 0.05\n",
    "\n",
    "C = 1\n",
    "\n",
    "R = 1\n",
    "\n",
    "W = np.array([\n",
    "    [1/3, 2/3, 0],\n",
    "    [2/3, 1/6, 1/6],\n",
    "    [0, 1/6, 5/6]\n",
    "])\n",
    "\n",
    "\n",
    "\n",
    "solver = \"ipopt\"\n",
    "# solver = \"ipopt_qcqp\"\n",
    "# solver = \"ipopt_qcqp_matrix\"\n",
    "# solver = \"cvx_dccp\"\n",
    "# solver = \"qcqp_sni\"\n",
    "# solver = \"bisection_b\""
   ]
  },
  {
   "cell_type": "markdown",
   "metadata": {},
   "source": [
    "# Ciropt problem"
   ]
  },
  {
   "cell_type": "code",
   "execution_count": 4,
   "metadata": {},
   "outputs": [
    {
     "name": "stdout",
     "output_type": "stream",
     "text": [
      "dim_G=22, dim_F=15\n",
      "Ipopt total # of variables = 534\n",
      "Actual # of variables = 300\n",
      "\n",
      "******************************************************************************\n",
      "This program contains Ipopt, a library for large-scale nonlinear optimization.\n",
      " Ipopt is released as open source code under the Eclipse Public License (EPL).\n",
      "         For more information visit https://github.com/coin-or/Ipopt\n",
      "******************************************************************************\n",
      "\n",
      "This is Ipopt version 3.14.11, running with linear solver MUMPS 5.4.1.\n",
      "\n",
      "Number of nonzeros in equality constraint Jacobian...:    22709\n",
      "Number of nonzeros in inequality constraint Jacobian.:       76\n",
      "Number of nonzeros in Lagrangian Hessian.............:     2027\n",
      "\n",
      "Total number of variables............................:      532\n",
      "                     variables with only lower bounds:        0\n",
      "                variables with lower and upper bounds:        0\n",
      "                     variables with only upper bounds:        0\n",
      "Total number of equality constraints.................:      502\n",
      "Total number of inequality constraints...............:       76\n",
      "        inequality constraints with only lower bounds:       70\n",
      "   inequality constraints with lower and upper bounds:        0\n",
      "        inequality constraints with only upper bounds:        6\n",
      "\n",
      "iter    objective    inf_pr   inf_du lg(mu)  ||d||  lg(rg) alpha_du alpha_pr  ls\n",
      "   0 -0.0000000e+00 1.00e+00 1.00e+00  -1.0 0.00e+00    -  0.00e+00 0.00e+00   0\n",
      "   1  1.6324952e-06 1.00e-02 8.75e+00  -1.0 1.10e+00  -2.0 9.91e-01 9.02e-01f  1\n",
      "   2 -4.8099954e-03 1.20e-02 9.59e+00  -1.0 9.20e-02   2.0 1.00e+00 9.60e-01f  1\n",
      "   3 -5.5463400e-03 1.09e-02 6.96e+02  -1.0 9.68e-02   1.6 4.96e-01 2.13e-01h  1\n",
      "   4 -6.7055430e-03 6.88e-03 1.13e+03  -1.0 5.38e-02   2.0 9.64e-01 5.90e-01h  1\n",
      "   5 -1.0033889e-02 5.31e-03 6.58e+02  -1.0 8.07e-02   1.5 6.66e-01 5.69e-01f  1\n",
      "   6 -2.2452731e-02 2.13e-02 5.44e+01  -1.0 1.84e-01   1.0 3.49e-01 5.38e-01f  1\n",
      "   7 -2.9875640e-02 1.23e-02 1.14e+03  -1.0 5.01e-02   1.5 1.00e+00 4.70e-01f  1\n",
      "   8 -4.5714466e-02 1.37e-02 7.04e+02  -1.0 1.13e-01   1.0 1.00e+00 6.58e-01f  1\n",
      "   9 -1.2075832e-01 9.32e-02 8.36e+01  -1.0 2.76e-01   0.5 7.53e-01 8.36e-01f  1\n",
      "iter    objective    inf_pr   inf_du lg(mu)  ||d||  lg(rg) alpha_du alpha_pr  ls\n",
      "  10 -1.7706027e-01 6.48e-03 2.90e+00  -1.0 7.50e-02   0.9 1.00e+00 1.00e+00f  1\n",
      "  11 -2.3349092e-01 3.01e-02 2.49e+00  -1.0 1.44e-01   0.5 1.00e+00 1.00e+00f  1\n",
      "  12 -2.8530007e-01 6.02e-03 3.48e+01  -1.7 6.51e-02  -0.0 9.25e-01 1.00e+00h  1\n",
      "  13 -4.6568503e-01 5.55e-02 2.99e-01  -1.7 2.13e-01  -0.5 1.00e+00 1.00e+00h  1\n",
      "  14 -6.4123280e-01 8.10e-02 3.28e+01  -2.5 2.01e-01  -1.0 7.11e-01 1.00e+00h  1\n",
      "  15 -7.6850954e-01 2.52e-01 1.62e+00  -2.5 5.10e-01  -1.5 8.59e-01 8.34e-01h  1\n",
      "  16 -7.4687442e-01 2.00e-01 1.27e-01  -2.5 2.93e-01  -1.9 1.00e+00 1.00e+00h  1\n",
      "  17 -7.3682757e-01 3.49e-02 1.91e-02  -2.5 3.21e-01  -2.4 1.00e+00 1.00e+00h  1\n",
      "  18 -7.3567538e-01 4.45e-03 1.02e-03  -2.5 5.69e-01  -2.9 1.00e+00 1.00e+00h  1\n",
      "  19 -7.7524317e-01 2.51e-01 5.87e-01  -3.8 4.99e-01  -3.4 9.70e-01 8.34e-01h  1\n",
      "iter    objective    inf_pr   inf_du lg(mu)  ||d||  lg(rg) alpha_du alpha_pr  ls\n",
      "  20 -7.7688485e-01 7.23e-02 9.34e-02  -3.8 2.78e-01  -3.8 1.00e+00 1.00e+00h  1\n",
      "  21 -7.7522137e-01 9.52e-02 6.44e-02  -3.8 2.29e-01  -2.5 1.00e+00 1.00e+00h  1\n",
      "  22 -7.7477462e-01 1.44e-02 1.04e-02  -3.8 1.07e-01  -3.0 1.00e+00 1.00e+00h  1\n",
      "  23 -7.7454886e-01 2.56e-03 2.14e-03  -3.8 1.09e-01  -3.5 1.00e+00 1.00e+00h  1\n",
      "  24 -7.7452507e-01 1.00e-04 5.24e-05  -3.8 2.83e-01  -3.9 1.00e+00 1.00e+00h  1\n",
      "  25 -7.7605571e-01 7.83e-03 1.92e-02  -5.7 6.21e-02  -4.4 9.40e-01 9.39e-01h  1\n",
      "  26 -7.7635269e-01 2.55e-02 2.13e+00  -5.7 1.10e-01  -4.0 8.88e-01 9.68e-01h  1\n",
      "  27 -7.7632406e-01 3.43e-03 5.62e-05  -5.7 5.09e-02  -4.5 1.00e+00 1.00e+00h  1\n",
      "  28 -7.7632226e-01 3.84e-04 3.38e-05  -5.7 3.49e-02  -4.9 1.00e+00 1.00e+00h  1\n",
      "  29 -7.7632216e-01 1.05e-05 7.19e-06  -5.7 1.00e-01  -5.4 1.00e+00 1.00e+00h  1\n",
      "iter    objective    inf_pr   inf_du lg(mu)  ||d||  lg(rg) alpha_du alpha_pr  ls\n",
      "  30 -7.7634856e-01 7.75e-04 1.86e+00  -8.6 2.52e-02  -5.0 9.87e-01 1.00e+00h  1\n",
      "  31 -7.7634872e-01 2.09e-04 5.26e-05  -8.6 1.34e-02  -4.6 1.00e+00 1.00e+00h  1\n",
      "  32 -7.7634871e-01 5.12e-05 7.99e-05  -8.6 6.62e-03  -4.1 1.00e+00 1.00e+00h  1\n",
      "  33 -7.7634869e-01 1.21e-05 1.93e-04  -8.6 3.18e-03  -4.6 1.00e+00 1.00e+00h  1\n",
      "  34 -7.7634862e-01 2.21e-06 1.13e+02  -8.6 1.38e-03  -5.1 1.90e-01 1.00e+00h  1\n",
      "  35 -7.7634863e-01 1.83e-06 1.13e+02  -8.6 2.43e-03  -3.8 1.00e+00 2.00e-01h  2\n",
      "  36 -7.7634863e-01 1.34e-07 4.93e-05  -8.6 3.25e-04  -4.2 1.00e+00 1.00e+00h  1\n",
      "  37 -7.7634862e-01 8.57e-09 1.71e-06  -8.6 8.93e-05  -4.7 1.00e+00 1.00e+00h  1\n",
      "  38 -7.7634862e-01 1.91e-10 1.69e-07  -8.6 1.27e-05  -4.3 1.00e+00 1.00e+00h  1\n",
      "  39 -7.7634862e-01 1.86e-11 6.81e-08  -8.6 3.84e-06  -3.9 1.00e+00 1.00e+00h  1\n",
      "iter    objective    inf_pr   inf_du lg(mu)  ||d||  lg(rg) alpha_du alpha_pr  ls\n",
      "  40 -7.7634864e-01 4.00e-07 1.17e-05  -9.0 5.77e-04  -4.4 1.00e+00 1.00e+00h  1\n",
      "  41 -7.7634864e-01 7.57e-09 3.84e-06  -9.0 7.14e-05  -3.0 1.00e+00 1.00e+00h  1\n",
      "  42 -7.7634864e-01 3.68e-10 1.47e-07  -9.0 1.81e-05  -3.5 1.00e+00 1.00e+00h  1\n",
      "  43 -7.7634864e-01 2.76e-11 1.18e-07  -9.0 3.61e-06  -4.0 1.00e+00 1.00e+00h  1\n",
      "  44 -7.7634864e-01 2.63e-11 1.04e-07  -9.0 5.29e-06  -4.5 1.00e+00 1.00e+00h  1\n",
      "  45 -7.7634864e-01 2.51e-11 9.17e-08  -9.0 2.92e-06  -4.0 1.00e+00 1.00e+00h  1\n",
      "  46 -7.7634864e-01 2.39e-11 8.07e-08  -9.0 2.87e-06  -3.6 1.00e+00 1.00e+00h  1\n",
      "  47 -7.7634864e-01 2.27e-11 7.12e-08  -9.0 2.93e-06  -4.1 1.00e+00 1.00e+00h  1\n",
      "  48 -7.7634864e-01 2.15e-11 6.24e-08  -9.0 6.70e-06  -4.6 1.00e+00 1.00e+00h  1\n",
      "  49 -7.7634864e-01 2.04e-11 5.50e-08  -9.0 2.78e-06  -4.1 1.00e+00 1.00e+00h  1\n",
      "iter    objective    inf_pr   inf_du lg(mu)  ||d||  lg(rg) alpha_du alpha_pr  ls\n",
      "  50 -7.7634864e-01 1.93e-11 4.82e-08  -9.0 2.71e-06  -3.7 1.00e+00 1.00e+00h  1\n",
      "  51 -7.7634864e-01 1.82e-11 4.24e-08  -9.0 2.83e-06  -4.2 1.00e+00 1.00e+00h  1\n",
      "  52 -7.7634864e-01 1.72e-11 3.74e-08  -9.0 2.59e-06  -3.8 1.00e+00 1.00e+00h  1\n",
      "  53 -7.7634864e-01 1.62e-11 3.23e-08  -9.0 3.18e-06  -4.2 1.00e+00 1.00e+00h  1\n",
      "\n",
      "Number of Iterations....: 53\n",
      "\n",
      "                                   (scaled)                 (unscaled)\n",
      "Objective...............:  -7.7634863705535062e-01   -7.7634863705535062e-01\n",
      "Dual infeasibility......:   3.2315586279591272e-08    3.2315586279591272e-08\n",
      "Constraint violation....:   1.6173079921062466e-11    1.6173079921062466e-11\n",
      "Variable bound violation:   0.0000000000000000e+00    0.0000000000000000e+00\n",
      "Complementarity.........:   9.0909090909090920e-10    9.0909090909090920e-10\n",
      "Overall NLP error.......:   9.0987893423004928e-09    3.2315586279591272e-08\n",
      "\n",
      "\n",
      "Number of objective function evaluations             = 57\n",
      "Number of objective gradient evaluations             = 54\n",
      "Number of equality constraint evaluations            = 57\n",
      "Number of inequality constraint evaluations          = 57\n",
      "Number of equality constraint Jacobian evaluations   = 54\n",
      "Number of inequality constraint Jacobian evaluations = 54\n",
      "Number of Lagrangian Hessian evaluations             = 53\n",
      "Total seconds in IPOPT                               = 2.488\n",
      "\n",
      "EXIT: Optimal Solution Found.\n",
      "      solver  :   t_proc      (avg)   t_wall      (avg)    n_eval\n",
      "       nlp_f  |        0 (       0) 119.00us (  2.09us)        57\n",
      "       nlp_g  |  33.00ms (578.95us)  28.65ms (502.63us)        57\n",
      "  nlp_grad_f  |        0 (       0) 307.00us (  5.58us)        55\n",
      "  nlp_hess_l  |   7.00ms (132.08us)   8.52ms (160.75us)        53\n",
      "   nlp_jac_g  | 124.00ms (  2.25ms) 125.39ms (  2.28ms)        55\n",
      "       total  |   2.49 s (  2.49 s)   2.49 s (  2.49 s)         1\n",
      "0.5374521248913471\n"
     ]
    }
   ],
   "source": [
    "problem = co.pg_extra_line3_C(mu, L_smooth_h, L_smooth_f, R, C, W)\n",
    "problem.obj = problem.b + problem.d /2\n",
    "# problem.obj = problem.b\n",
    "\n",
    "bounds = {  \n",
    "            'd': {\"ub\": 100, \"lb\": 1e-4},\n",
    "            'b': {\"ub\": 100, \"lb\": 1e-4},\n",
    "            'h': {\"ub\": 100, \"lb\": 1e-4},\n",
    "            'gamma': {\"ub\": 100, \"lb\": 1e-4},\n",
    "            'alpha': {\"ub\": 1, \"lb\": 1},\n",
    "            'beta': {\"ub\": 0, \"lb\": 0},\n",
    "            }\n",
    "\n",
    "res, sol = problem.solve(solver=solver, bounds=bounds, verbose=True)[:2]\n",
    "\n",
    "vars = problem.vars\n",
    "print(res['b'])"
   ]
  },
  {
   "cell_type": "code",
   "execution_count": 5,
   "metadata": {},
   "outputs": [
    {
     "data": {
      "text/plain": [
       "{'b': 0.5374521248913471,\n",
       " 'h': 0.5614550378794219,\n",
       " 'd': 0.4777930243280071,\n",
       " 'alpha': 1.0000000000004434,\n",
       " 'beta': -1.1266467308587288e-14,\n",
       " 'gamma': 0.27922495005195597}"
      ]
     },
     "execution_count": 5,
     "metadata": {},
     "output_type": "execute_result"
    }
   ],
   "source": [
    "res"
   ]
  },
  {
   "cell_type": "markdown",
   "metadata": {},
   "source": [
    "# PEP verification"
   ]
  },
  {
   "cell_type": "code",
   "execution_count": 15,
   "metadata": {},
   "outputs": [
    {
     "name": "stdout",
     "output_type": "stream",
     "text": [
      "diff=-1.468213120742537e-09\n"
     ]
    }
   ],
   "source": [
    "problem = co.pg_extra_line3_C(mu, L_smooth_h, L_smooth_f, R, C, W, params=res)\n",
    "diff = problem.solve(verbose=0, solver=cp.MOSEK)\n",
    "print(f\"{diff=}\")"
   ]
  },
  {
   "cell_type": "code",
   "execution_count": null,
   "metadata": {},
   "outputs": [],
   "source": []
  }
 ],
 "metadata": {
  "kernelspec": {
   "display_name": "osbdo",
   "language": "python",
   "name": "python3"
  },
  "language_info": {
   "codemirror_mode": {
    "name": "ipython",
    "version": 3
   },
   "file_extension": ".py",
   "mimetype": "text/x-python",
   "name": "python",
   "nbconvert_exporter": "python",
   "pygments_lexer": "ipython3",
   "version": "3.11.5"
  }
 },
 "nbformat": 4,
 "nbformat_minor": 2
}
