{
 "cells": [
  {
   "cell_type": "code",
   "execution_count": 1,
   "metadata": {},
   "outputs": [],
   "source": [
    "import ciropt as co\n",
    "import cvxpy as cp"
   ]
  },
  {
   "cell_type": "code",
   "execution_count": 2,
   "metadata": {},
   "outputs": [],
   "source": [
    "R = 0.8\n",
    "L_smooth = [100, 100]\n",
    "mu = [0., 2]\n",
    "Inductance = 2\n",
    "Capacitance = 15\n",
    "\n",
    "# R = 0.1\n",
    "# L_smooth = [100, 100]\n",
    "# mu = [0., 2]\n",
    "# Inductance = 2\n",
    "# Capacitance = 100\n",
    "\n",
    "solver = \"ipopt\"\n",
    "# solver = \"ipopt_qcqp\"\n",
    "# solver = \"ipopt_qcqp_matrix\""
   ]
  },
  {
   "cell_type": "markdown",
   "metadata": {},
   "source": [
    "# Ciropt problem"
   ]
  },
  {
   "cell_type": "code",
   "execution_count": 3,
   "metadata": {},
   "outputs": [
    {
     "name": "stdout",
     "output_type": "stream",
     "text": [
      "mu=[0.0, 2], L_smooth=[100, 100], R=0.8, Capacitance=15, Inductance=2, solver='ipopt'\n"
     ]
    }
   ],
   "source": [
    "print(f\"{mu=}, {L_smooth=}, {R=}, {Capacitance=}, {Inductance=}, {solver=}\")"
   ]
  },
  {
   "cell_type": "code",
   "execution_count": 4,
   "metadata": {},
   "outputs": [
    {
     "ename": "AttributeError",
     "evalue": "'CircuitOpt' object has no attribute 'eta'",
     "output_type": "error",
     "traceback": [
      "\u001b[1;31m---------------------------------------------------------------------------\u001b[0m",
      "\u001b[1;31mAttributeError\u001b[0m                            Traceback (most recent call last)",
      "Cell \u001b[1;32mIn[4], line 1\u001b[0m\n\u001b[1;32m----> 1\u001b[0m problem \u001b[38;5;241m=\u001b[39m \u001b[43mco\u001b[49m\u001b[38;5;241;43m.\u001b[39;49m\u001b[43mdadmm_C_graph6_rk\u001b[49m\u001b[43m(\u001b[49m\u001b[43m \u001b[49m\u001b[43mmu\u001b[49m\u001b[43m,\u001b[49m\u001b[43m \u001b[49m\u001b[43mL_smooth\u001b[49m\u001b[43m,\u001b[49m\u001b[43m \u001b[49m\u001b[43mR\u001b[49m\u001b[43m,\u001b[49m\u001b[43m \u001b[49m\u001b[43mCapacitance\u001b[49m\u001b[43m,\u001b[49m\u001b[43m \u001b[49m\u001b[43mInductance\u001b[49m\u001b[43m)\u001b[49m\n\u001b[0;32m      2\u001b[0m problem\u001b[38;5;241m.\u001b[39mobj \u001b[38;5;241m=\u001b[39m problem\u001b[38;5;241m.\u001b[39meta \u001b[38;5;241m+\u001b[39m problem\u001b[38;5;241m.\u001b[39mrho \u001b[38;5;241m*\u001b[39m \u001b[38;5;241m0.5\u001b[39m\n\u001b[0;32m      3\u001b[0m \u001b[38;5;66;03m# problem.obj = problem.eta + problem.rho * 0.1\u001b[39;00m\n",
      "File \u001b[1;32mc:\\Users\\owner\\Documents\\GitHub\\optimization_via_circuits\\240522_geom\\ciropt\\new_algorithms_vi.py:34\u001b[0m, in \u001b[0;36mdadmm_C_graph6_rk\u001b[1;34m(mus, L_smooths, R, Capacitance, Inductance, params)\u001b[0m\n\u001b[0;32m     32\u001b[0m     Constraint \u001b[38;5;241m=\u001b[39m co_constr\n\u001b[0;32m     33\u001b[0m     proximal_step \u001b[38;5;241m=\u001b[39m co_func\u001b[38;5;241m.\u001b[39mproximal_step \n\u001b[1;32m---> 34\u001b[0m     h, eta, rho, gamma, alpha, beta \u001b[38;5;241m=\u001b[39m problem\u001b[38;5;241m.\u001b[39mh, \u001b[43mproblem\u001b[49m\u001b[38;5;241;43m.\u001b[39;49m\u001b[43meta\u001b[49m, problem\u001b[38;5;241m.\u001b[39mrho, problem\u001b[38;5;241m.\u001b[39mgamma, problem\u001b[38;5;241m.\u001b[39malpha, problem\u001b[38;5;241m.\u001b[39mbeta\n\u001b[0;32m     36\u001b[0m f1 \u001b[38;5;241m=\u001b[39m define_function(problem, mus[\u001b[38;5;241m0\u001b[39m], L_smooths[\u001b[38;5;241m0\u001b[39m], package)\n\u001b[0;32m     37\u001b[0m f2 \u001b[38;5;241m=\u001b[39m define_function(problem, mus[\u001b[38;5;241m0\u001b[39m], L_smooths[\u001b[38;5;241m0\u001b[39m], package)\n",
      "\u001b[1;31mAttributeError\u001b[0m: 'CircuitOpt' object has no attribute 'eta'"
     ]
    }
   ],
   "source": [
    "problem = co.dadmm_C_graph6_rk( mu, L_smooth, R, Capacitance, Inductance)\n",
    "problem.obj = problem.eta + problem.rho * 0.5\n",
    "# problem.obj = problem.eta + problem.rho * 0.1\n",
    "\n",
    "bounds = {  \n",
    "            'alpha': {\"ub\": 1, \"lb\": 1},\n",
    "            'beta': {\"ub\": 0, \"lb\": 0},\n",
    "            }\n",
    "\n",
    "res, sol = problem.solve(solver=solver, bounds=bounds, extra_dim=530, verbose=False)[:2]\n",
    "\n",
    "# res, sol = problem.solve(solver=solver, extra_dim=530, verbose=False)[:2]"
   ]
  },
  {
   "cell_type": "code",
   "execution_count": null,
   "metadata": {},
   "outputs": [],
   "source": [
    "res"
   ]
  },
  {
   "cell_type": "markdown",
   "metadata": {},
   "source": [
    "# PEP verification"
   ]
  },
  {
   "cell_type": "code",
   "execution_count": null,
   "metadata": {},
   "outputs": [],
   "source": [
    "res[\"rho\"] = 0"
   ]
  },
  {
   "cell_type": "code",
   "execution_count": null,
   "metadata": {},
   "outputs": [],
   "source": [
    "problem = co.dadmm_C_graph6_rk( mu, L_smooth, R, Capacitance, Inductance, params=res)\n",
    "diff = problem.solve(verbose=0, solver=cp.MOSEK)\n",
    "print(f\"{diff=}\")"
   ]
  },
  {
   "cell_type": "code",
   "execution_count": null,
   "metadata": {},
   "outputs": [],
   "source": []
  }
 ],
 "metadata": {
  "kernelspec": {
   "display_name": "osbdo",
   "language": "python",
   "name": "python3"
  },
  "language_info": {
   "codemirror_mode": {
    "name": "ipython",
    "version": 3
   },
   "file_extension": ".py",
   "mimetype": "text/x-python",
   "name": "python",
   "nbconvert_exporter": "python",
   "pygments_lexer": "ipython3",
   "version": "3.10.14"
  }
 },
 "nbformat": 4,
 "nbformat_minor": 2
}
