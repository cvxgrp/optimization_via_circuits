{
 "cells": [
  {
   "cell_type": "code",
   "execution_count": 1,
   "metadata": {},
   "outputs": [],
   "source": [
    "import ciropt as co\n",
    "import cvxpy as cp"
   ]
  },
  {
   "cell_type": "code",
   "execution_count": 2,
   "metadata": {},
   "outputs": [],
   "source": [
    "# L_smooth = 1.\n",
    "mu = 0.0001\n",
    "\n",
    "Capacitance = 2.\n",
    "Inductance = 2.\n",
    "R = 1.\n",
    "# L_smooth = 1/(2*R)\n",
    "L_smooth = 1/R\n",
    "\n",
    "time_limit=100"
   ]
  },
  {
   "cell_type": "markdown",
   "metadata": {},
   "source": [
    "# Ciropt problem"
   ]
  },
  {
   "cell_type": "code",
   "execution_count": 3,
   "metadata": {},
   "outputs": [
    {
     "name": "stdout",
     "output_type": "stream",
     "text": [
      "dim_G=5, dim_F=3\n",
      "Restricted license - for non-production use only - expires 2024-10-28\n",
      "<class 'numpy.ndarray'> <class 'gurobipy.MQuadExpr'> <class 'numpy.ndarray'>\n"
     ]
    },
    {
     "name": "stderr",
     "output_type": "stream",
     "text": [
      "c:\\Users\\jacks\\GitHub\\optimization_via_circuits\\ciropt\\extra_methods.py:250: RuntimeWarning: Chained matrix multiplications of MVars is inefficient, collect numeric terms first when building expressions\n",
      "  model.addConstr(  (M1 @ var_x).item()  - gp_trace(M2 @ var_X) == 0)\n"
     ]
    },
    {
     "name": "stdout",
     "output_type": "stream",
     "text": [
      "<class 'numpy.ndarray'> <class 'gurobipy.MQuadExpr'> <class 'numpy.ndarray'>\n",
      "<class 'numpy.ndarray'> <class 'gurobipy.MQuadExpr'> <class 'numpy.ndarray'>\n"
     ]
    },
    {
     "name": "stderr",
     "output_type": "stream",
     "text": [
      "c:\\Users\\jacks\\GitHub\\optimization_via_circuits\\ciropt\\extra_methods.py:265: RuntimeWarning: Chained matrix multiplications of MVars is inefficient, collect numeric terms first when building expressions\n",
      "  + gp_trace(M2 @ var_X) \\\n",
      "c:\\Users\\jacks\\GitHub\\optimization_via_circuits\\ciropt\\extra_methods.py:266: RuntimeWarning: Chained matrix multiplications of MVars is inefficient, collect numeric terms first when building expressions\n",
      "  - gp_trace(M3 @ var_X) == 0)\n",
      "c:\\Users\\jacks\\GitHub\\optimization_via_circuits\\ciropt\\extra_methods.py:279: RuntimeWarning: Chained matrix multiplications of MVars is inefficient, collect numeric terms first when building expressions\n",
      "  model.addConstr( gp_trace(M1 @ var_X) + (M2 @ var_x).item() == 0)\n"
     ]
    },
    {
     "name": "stdout",
     "output_type": "stream",
     "text": [
      "Set parameter NonConvex to value 2\n",
      "Set parameter TimeLimit to value 100\n",
      "Set parameter FeasibilityTol to value 1e-09\n",
      "Set parameter Method to value 0\n",
      "Set parameter PoolSearchMode to value 1\n",
      "Set parameter Heuristics to value 0.001\n",
      "Gurobi Optimizer version 10.0.3 build v10.0.3rc0 (win64)\n",
      "\n",
      "CPU model: Intel(R) Core(TM) i5-8265U CPU @ 1.60GHz, instruction set [SSE2|AVX|AVX2]\n",
      "Thread count: 4 physical cores, 8 logical processors, using up to 8 threads\n",
      "\n",
      "Optimize a model with 30 rows, 60 columns and 30 nonzeros\n",
      "Model fingerprint: 0xb2e36bdb\n",
      "Model has 60 quadratic constraints\n",
      "Coefficient statistics:\n",
      "  Matrix range     [1e+00, 1e+00]\n",
      "  QMatrix range    [1e-05, 1e+00]\n",
      "  QLMatrix range   [6e-02, 1e+00]\n",
      "  Objective range  [1e+00, 1e+00]\n",
      "  Bounds range     [1e+03, 1e+03]\n",
      "  RHS range        [1e+00, 1e+01]\n",
      "Warning: Only barrier available for SOCP models\n",
      "Presolve removed 30 rows and 2 columns\n",
      "\n",
      "Continuous model is non-convex -- solving as a MIP\n",
      "\n",
      "Presolve removed 27 rows and 2 columns\n",
      "Presolve time: 0.00s\n",
      "Presolved: 296 rows, 97 columns, 847 nonzeros\n",
      "Presolved model has 75 bilinear constraint(s)\n",
      "Variable types: 97 continuous, 0 integer (0 binary)\n",
      "\n",
      "Root relaxation: objective -5.529067e+02, 118 iterations, 0.00 seconds (0.00 work units)\n",
      "\n",
      "    Nodes    |    Current Node    |     Objective Bounds      |     Work\n",
      " Expl Unexpl |  Obj  Depth IntInf | Incumbent    BestBd   Gap | It/Node Time\n",
      "\n",
      "     0     0 -552.90667    0   69          - -552.90667      -     -    0s\n",
      "     0     0 -542.53032    0   69          - -542.53032      -     -    0s\n",
      "     0     0 -542.52675    0   69          - -542.52675      -     -    0s\n",
      "     0     0 -469.55359    0   59          - -469.55359      -     -    0s\n",
      "     0     0 -467.18516    0   59          - -467.18516      -     -    0s\n",
      "     0     0 -436.65377    0   59          - -436.65377      -     -    0s\n",
      "     0     0 -436.65377    0   62          - -436.65377      -     -    0s\n",
      "     0     0 -368.46662    0   63          - -368.46662      -     -    0s\n",
      "     0     0 -368.46662    0   66          - -368.46662      -     -    0s\n",
      "     0     0 -368.46662    0   63          - -368.46662      -     -    0s\n",
      "     0     0 -368.46662    0   70          - -368.46662      -     -    0s\n",
      "     0     0 -368.46662    0   58          - -368.46662      -     -    0s\n",
      "     0     0 -368.46662    0   61          - -368.46662      -     -    0s\n",
      "     0     0 -368.46662    0   61          - -368.46662      -     -    0s\n",
      "     0     0 -368.46662    0   61          - -368.46662      -     -    0s\n",
      "     0     0 -368.46662    0   65          - -368.46662      -     -    0s\n",
      "     0     0 -368.46662    0   61          - -368.46662      -     -    0s\n",
      "     0     0 -368.46662    0   58          - -368.46662      -     -    0s\n",
      "     0     0 -328.74290    0   60          - -328.74290      -     -    0s\n",
      "     0     2 -328.74290    0   60          - -328.74290      -     -    0s\n",
      " 12462  5091 infeasible   30               -  -22.15429      -  34.7    5s\n",
      " 30567 13392 infeasible   40               -  -17.44434      -  30.0   10s\n",
      " 51598 22289   -6.19488   44   70          -  -15.88782      -  28.4   15s\n",
      "*67432 29194             134      -0.1578543  -15.01546  9412%  28.1   18s\n",
      " 70284 30000 infeasible   35        -0.15785  -14.83023  9295%  28.0   20s\n",
      " 91429 36035 infeasible   41        -0.15785  -14.06467  8810%  27.2   25s\n",
      " 110985 41611   -0.08090   46   66   -0.15785  -13.54229  8479%  27.0   30s\n",
      " 131511 47650   -4.36224   47   63   -0.15785  -13.19377  8258%  26.8   35s\n",
      " 152101 53561   -5.39498   39   59   -0.15785  -12.85265  8042%  26.5   40s\n",
      " 173122 59158   -1.23630   34   64   -0.15785  -12.55264  7852%  26.4   45s\n",
      " 193833 64570  -11.79158   35   72   -0.15785  -12.29223  7687%  26.3   50s\n",
      " 214442 69807 infeasible   46        -0.15785  -12.07126  7547%  26.1   55s\n",
      " 234815 75486   -3.01603   46   63   -0.15785  -11.88316  7428%  26.1   60s\n",
      "*251565 80205             194      -0.3009682  -11.72694  3796%  26.0   64s\n",
      " 254021 76445   -6.61118   31   72   -0.30097  -11.69392  3785%  26.0   65s\n",
      " 268883 79230     cutoff   45        -0.30097  -11.48686  3717%  26.4   70s\n",
      " 284120 82387   -1.86686   38   69   -0.30097  -11.31975  3661%  26.7   75s\n",
      " 299471 85337     cutoff   67        -0.30097  -11.15775  3607%  27.0   80s\n",
      " 315103 88502     cutoff   39        -0.30097  -10.99111  3552%  27.3   85s\n",
      " 330638 91714 infeasible   43        -0.30097  -10.82918  3498%  27.5   90s\n",
      " 344825 94221   -3.08644   36   60   -0.30097  -10.70125  3456%  27.8   95s\n",
      " 359798 96830 infeasible   42        -0.30097  -10.57363  3413%  28.0  100s\n",
      "\n",
      "Cutting planes:\n",
      "  RLT: 26\n",
      "  BQP: 1\n",
      "  PSD: 32\n",
      "\n",
      "Explored 359914 nodes (10071175 simplex iterations) in 100.01 seconds (34.62 work units)\n",
      "Thread count was 8 (of 8 available processors)\n",
      "\n",
      "Solution count 10: -0.300968 -0.300968 -0.300968 ... -0.300949\n",
      "\n",
      "Time limit reached\n",
      "Warning: max constraint violation (1.5480e-09) exceeds tolerance\n",
      "Best objective -3.009681809914e-01, best bound -1.057259329066e+01, gap 3412.8608%\n"
     ]
    }
   ],
   "source": [
    "problem = co.accelerated_gradient_circuit_no_moreau(mu, L_smooth, R, Capacitance, Inductance)\n",
    "problem.obj = problem.b + problem.d\n",
    "\n",
    "res, model = problem.solve(verbose=True, solver=\"gp_canonical_X\", max_iter=100, time_limit=time_limit)[:2]\n",
    "vars = problem.vars"
   ]
  },
  {
   "cell_type": "code",
   "execution_count": 4,
   "metadata": {},
   "outputs": [
    {
     "data": {
      "text/plain": [
       "(9,\n",
       " {'b': 0.252860394728079,\n",
       "  'h': 3.72607614556988,\n",
       "  'd': 0.04810778626330813,\n",
       "  'alpha': 0.829006465712016,\n",
       "  'beta': 0.3881444180870397})"
      ]
     },
     "execution_count": 4,
     "metadata": {},
     "output_type": "execute_result"
    }
   ],
   "source": [
    "model.status, res"
   ]
  },
  {
   "cell_type": "markdown",
   "metadata": {},
   "source": [
    "# PEP verification"
   ]
  },
  {
   "cell_type": "code",
   "execution_count": 5,
   "metadata": {},
   "outputs": [
    {
     "name": "stdout",
     "output_type": "stream",
     "text": [
      "diff=-4.0400494634117974e-12\n"
     ]
    }
   ],
   "source": [
    "problem = co.accelerated_gradient_circuit_no_moreau(mu, L_smooth, R, Capacitance, Inductance, params=res)\n",
    "diff = problem.solve(verbose=0, solver=cp.MOSEK)\n",
    "print(f\"{diff=}\")"
   ]
  }
 ],
 "metadata": {
  "kernelspec": {
   "display_name": "osbdo",
   "language": "python",
   "name": "python3"
  },
  "language_info": {
   "codemirror_mode": {
    "name": "ipython",
    "version": 3
   },
   "file_extension": ".py",
   "mimetype": "text/x-python",
   "name": "python",
   "nbconvert_exporter": "python",
   "pygments_lexer": "ipython3",
   "version": "3.11.5"
  }
 },
 "nbformat": 4,
 "nbformat_minor": 2
}
