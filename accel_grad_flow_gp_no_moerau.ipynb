{
 "cells": [
  {
   "cell_type": "code",
   "execution_count": 10,
   "metadata": {},
   "outputs": [],
   "source": [
    "import ciropt as co\n",
    "import cvxpy as cp"
   ]
  },
  {
   "cell_type": "code",
   "execution_count": 23,
   "metadata": {},
   "outputs": [],
   "source": [
    "# L_smooth = 1.\n",
    "# mu = 0.0001\n",
    "mu = 0\n",
    "\n",
    "Capacitance = 2.\n",
    "Inductance = 2.\n",
    "R = 1.\n",
    "L_smooth = 1/(4*R)\n",
    "\n",
    "time_limit=100"
   ]
  },
  {
   "cell_type": "markdown",
   "metadata": {},
   "source": [
    "# Ciropt problem"
   ]
  },
  {
   "cell_type": "code",
   "execution_count": 24,
   "metadata": {},
   "outputs": [],
   "source": [
    "# problem = co.accelerated_gradient_circuit(mu, L_smooth, R, Capacitance, Inductance)\n",
    "# problem.obj = problem.b + problem.d\n",
    "\n",
    "# bounds_names = ['alpha', 'beta', 'Z', \"lamb\"]\n",
    "# res, model = problem.solve(verbose=False, solver=\"sdp_relax\", var_bound=bounds_names[-1], max_iter=100, time_limit=time_limit)[:2]\n",
    "# vars = problem.vars\n",
    "# print(problem.bounds_vars)"
   ]
  },
  {
   "cell_type": "code",
   "execution_count": 25,
   "metadata": {},
   "outputs": [],
   "source": [
    "# problem = co.accelerated_gradient_circuit(mu, L_smooth, R, Capacitance, Inductance)\n",
    "# problem.obj = problem.b + problem.d\n",
    "\n",
    "# bounds_names = ['alpha', 'beta', 'Z', \"lamb\"]\n",
    "# res, model = problem.solve(verbose=True, solver=\"sdp_relax\", cvx_solver=cp.MOSEK, var_bound=bounds_names[2], max_iter=100, time_limit=time_limit)[:2]\n",
    "# vars = problem.vars\n",
    "# print(problem.bounds_vars)"
   ]
  },
  {
   "cell_type": "code",
   "execution_count": 26,
   "metadata": {},
   "outputs": [
    {
     "name": "stdout",
     "output_type": "stream",
     "text": [
      "dim_G=5, dim_F=3\n",
      "<class 'numpy.ndarray'> <class 'gurobipy.MQuadExpr'> <class 'numpy.ndarray'>\n",
      "<class 'numpy.ndarray'> <class 'gurobipy.MQuadExpr'> <class 'numpy.ndarray'>\n",
      "<class 'numpy.ndarray'> <class 'gurobipy.MQuadExpr'> <class 'numpy.ndarray'>\n",
      "Set parameter NonConvex to value 2\n",
      "Set parameter TimeLimit to value 100\n",
      "Set parameter FeasibilityTol to value 1e-09\n",
      "Set parameter Method to value 0\n",
      "Set parameter PoolSearchMode to value 1\n",
      "Set parameter Heuristics to value 0.001\n",
      "Gurobi Optimizer version 10.0.3 build v10.0.3rc0 (win64)\n",
      "\n",
      "CPU model: Intel(R) Core(TM) i5-8265U CPU @ 1.60GHz, instruction set [SSE2|AVX|AVX2]\n",
      "Thread count: 4 physical cores, 8 logical processors, using up to 8 threads\n",
      "\n",
      "Optimize a model with 19 rows, 60 columns and 19 nonzeros\n",
      "Model fingerprint: 0x7f1ecf38\n",
      "Model has 60 quadratic constraints\n",
      "Coefficient statistics:\n",
      "  Matrix range     [1e+00, 1e+00]\n",
      "  QMatrix range    [3e-01, 2e+00]\n",
      "  QLMatrix range   [6e-02, 1e+00]\n",
      "  Objective range  [1e+00, 1e+00]\n",
      "  Bounds range     [1e+03, 1e+03]\n",
      "  RHS range        [1e+00, 1e+00]\n",
      "Warning: Only barrier available for SOCP models\n",
      "Presolve removed 19 rows and 5 columns\n",
      "\n",
      "Continuous model is non-convex -- solving as a MIP\n",
      "\n",
      "Presolve removed 15 rows and 6 columns\n",
      "Presolve time: 0.00s\n",
      "Presolved: 223 rows, 79 columns, 596 nonzeros\n",
      "Presolved model has 57 bilinear constraint(s)\n",
      "Variable types: 79 continuous, 0 integer (0 binary)\n",
      "\n",
      "Root relaxation: objective -1.011213e+03, 68 iterations, 0.00 seconds (0.00 work units)\n",
      "\n",
      "    Nodes    |    Current Node    |     Objective Bounds      |     Work\n",
      " Expl Unexpl |  Obj  Depth IntInf | Incumbent    BestBd   Gap | It/Node Time\n",
      "\n",
      "     0     0 -1011.2131    0   49          - -1011.2131      -     -    0s\n",
      "     0     0 -908.43891    0   50          - -908.43891      -     -    0s\n",
      "     0     0 -908.19401    0   47          - -908.19401      -     -    0s\n",
      "     0     0 -908.19401    0   48          - -908.19401      -     -    0s\n",
      "     0     0 -892.95941    0   47          - -892.95941      -     -    0s\n",
      "     0     0 -892.95941    0   47          - -892.95941      -     -    0s\n",
      "     0     0 -873.13184    0   47          - -873.13184      -     -    0s\n",
      "     0     0 -873.13184    0   47          - -873.13184      -     -    0s\n",
      "     0     0 -731.03115    0   52          - -731.03115      -     -    0s\n",
      "     0     0 -731.03115    0   44          - -731.03115      -     -    0s\n",
      "     0     0 -554.76962    0   50          - -554.76962      -     -    0s\n",
      "     0     0 -554.76962    0   50          - -554.76962      -     -    0s\n",
      "     0     0 -554.76962    0   49          - -554.76962      -     -    0s\n",
      "     0     0 -554.76962    0   46          - -554.76962      -     -    0s\n",
      "     0     0 -554.76962    0   51          - -554.76962      -     -    0s\n",
      "     0     0 -554.76962    0   51          - -554.76962      -     -    0s\n",
      "     0     0 -554.76962    0   45          - -554.76962      -     -    0s\n",
      "     0     0 -554.76962    0   52          - -554.76962      -     -    0s\n",
      "     0     0 -554.76962    0   45          - -554.76962      -     -    0s\n",
      "     0     0 -554.76962    0   45          - -554.76962      -     -    0s\n",
      "     0     0 -554.76962    0   45          - -554.76962      -     -    0s\n",
      "     0     0 -517.89020    0   45          - -517.89020      -     -    0s\n",
      "     0     2 -517.89020    0   45          - -517.89020      -     -    0s\n",
      "* 5783  3666             121      -0.8576915 -517.89020      -  35.2    2s\n",
      "* 6398  4107             125      -1.2730902 -517.89020      -  34.5    2s\n",
      "* 8057  5320             251      -1.2959654 -517.89020      -  31.3    2s\n",
      "*12085  7468             170      -1.4292398 -517.89020      -  28.7    3s\n",
      "*14117  7576             222      -2.0872868 -517.89020      -  27.6    3s\n",
      "*14624  8277             440      -3.8074617 -517.89020      -  27.2    3s\n",
      " 18202 10879 -230.43404   39   40   -3.80746 -481.74777      -  26.7    5s\n",
      "*28120 14867             177      -3.8577069 -477.23805      -  27.9    7s\n",
      "*31400 15406             199      -3.9510371 -476.61327      -  27.6    8s\n",
      "*32615 16531             219      -3.9554509 -476.42713      -  27.5    9s\n",
      "*34006 14452             413      -4.0000015 -476.41518      -  27.2    9s\n",
      "*36686 15131             144      -4.0001301 -475.47738      -  26.9    9s\n",
      " 37087 15590   -4.00749  107   24   -4.00013 -475.39368      -  26.9   10s\n",
      " 52771 24082     cutoff   48        -4.00013 -473.23051      -  30.1   15s\n",
      "*58754 27334             185      -4.0001958 -472.51262      -  31.0   16s\n",
      " 67777 31916 infeasible   42        -4.00020 -471.36246      -  32.2   20s\n",
      "*73502 35025             140      -4.0001986 -470.60451      -  32.9   22s\n",
      " 81220 38967  -28.20159   43   52   -4.00020 -469.71341      -  34.1   25s\n",
      " 94792 44688  -14.69481   40   50   -4.00020 -465.39490      -  35.8   30s\n",
      "*102124 47825             195      -4.0003973 -462.60235      -  36.8   32s\n",
      " 106616 49675 infeasible   43        -4.00040 -460.67163      -  37.5   35s\n",
      "*108139 49923             112      -4.0063614 -459.75149      -  37.7   35s\n",
      " 117911 51902     cutoff   40        -4.00636 -428.36591      -  39.2   40s\n",
      " 128068 53511  -59.15887   33   51   -4.00636 -382.94002  9458%  40.2   45s\n",
      " 139451 59139  -34.45099   43   44   -4.00636 -374.65208  9251%  40.7   50s\n",
      " 150890 63168  -12.60975   36   51   -4.00636 -373.22741  9216%  41.4   55s\n",
      " 162161 68183  -76.70182   31   51   -4.00636 -371.92734  9183%  42.2   60s\n",
      " 171625 71713  -19.50291   49   45   -4.00636 -367.97110  9085%  43.1   65s\n",
      " 181439 74086 infeasible   40        -4.00636 -359.80292  8881%  44.2   70s\n",
      " 189270 74958     cutoff   34        -4.00636 -333.24662  8218%  45.1   75s\n",
      " 197740 76788     cutoff   45        -4.00636 -302.95469  7462%  45.5   80s\n",
      " 204789 78343     cutoff   42        -4.00636 -300.71666  7406%  45.8   85s\n",
      " 212753 79752 infeasible   32        -4.00636 -300.03072  7389%  46.2   90s\n",
      " 215843 79917 -296.31378   38   47   -4.00636 -299.81252  7383%  46.4 10419s\n",
      "\n",
      "Cutting planes:\n",
      "  RLT: 62\n",
      "  PSD: 199\n",
      "\n",
      "Explored 216411 nodes (10054015 simplex iterations) in 10419.92 seconds (34.75 work units)\n",
      "Thread count was 8 (of 8 available processors)\n",
      "\n",
      "Solution count 10: -4.00636 -4.00636 -4.00636 ... -4.00636\n",
      "\n",
      "Time limit reached\n",
      "Best objective -4.006361387111e+00, best bound -2.998001250398e+02, gap 7383.1024%\n"
     ]
    }
   ],
   "source": [
    "# problem = co.accelerated_gradient_circuit(mu, L_smooth, R, Capacitance, Inductance)\n",
    "problem = co.accelerated_gradient_circuit_no_moreau(mu, L_smooth, R, Capacitance, Inductance)\n",
    "problem.obj = problem.b + problem.d\n",
    "\n",
    "res, model = problem.solve(verbose=True, solver=\"gp_canonical_X\", max_iter=100, time_limit=time_limit)[:2]\n",
    "vars = problem.vars"
   ]
  },
  {
   "cell_type": "code",
   "execution_count": 27,
   "metadata": {},
   "outputs": [
    {
     "data": {
      "text/plain": [
       "(9,\n",
       " {'b': 3.869119686170734,\n",
       "  'h': 3.8706136415303414,\n",
       "  'd': 0.13724170094002755,\n",
       "  'alpha': 0.006377147007711124,\n",
       "  'beta': 2.0433136297230015e-05})"
      ]
     },
     "execution_count": 27,
     "metadata": {},
     "output_type": "execute_result"
    }
   ],
   "source": [
    "model.status, res"
   ]
  },
  {
   "cell_type": "code",
   "execution_count": 28,
   "metadata": {},
   "outputs": [],
   "source": [
    "# bounds = {  'b': {\"ub\": 10, \"lb\": 0.},\n",
    "#             'd': {\"ub\": 10, \"lb\": 0.},\n",
    "#             'h': {\"ub\": 10, \"lb\": 0},\n",
    "#             'alpha': {\"ub\": 1, \"lb\": -1},\n",
    "#             'beta': {\"ub\": 1, \"lb\": -1},}"
   ]
  },
  {
   "cell_type": "code",
   "execution_count": 29,
   "metadata": {},
   "outputs": [],
   "source": [
    "import numpy as np\n",
    "import pickle\n",
    "\n",
    "# res = vars\n",
    "\n",
    "# with open('AGD_dccp.pickle', 'wb') as handle:\n",
    "#     pickle.dump(res, handle, protocol=pickle.HIGHEST_PROTOCOL)\n",
    "\n",
    "# with open('AGD_dccp.pickle', 'rb') as handle:\n",
    "#     vars = pickle.load(handle)\n",
    "\n",
    "# P = co.cholseky_matrix(vars[\"Z\"])\n",
    "# P_flatten = co.flatten_lower_tri(P)\n",
    "# var_x = np.concatenate([vars[\"x\"], P_flatten.reshape(-1, 1)], axis=0)\n",
    "# print(var_x.shape)\n",
    "# init_values = {\"x\": var_x}\n",
    "\n",
    "\n",
    "# problem = co.accelerated_gradient_circuit(mu, L_smooth, R, Capacitance, Inductance)\n",
    "# problem.obj = problem.b + problem.d\n",
    "# res, model = problem.solve(verbose=True, solver=\"ca_canonical_X\", init_values=init_values)[:2]"
   ]
  },
  {
   "cell_type": "markdown",
   "metadata": {},
   "source": [
    "# PEP verification"
   ]
  },
  {
   "cell_type": "code",
   "execution_count": 30,
   "metadata": {},
   "outputs": [
    {
     "name": "stdout",
     "output_type": "stream",
     "text": [
      "diff=1.364427224492915e-09\n"
     ]
    }
   ],
   "source": [
    "# problem = co.accelerated_gradient_circuit(mu, L_smooth, R, Capacitance, Inductance, params=res)\n",
    "problem = co.accelerated_gradient_circuit_no_moreau(mu, L_smooth, R, Capacitance, Inductance, params=res)\n",
    "diff = problem.solve(verbose=0, solver=cp.MOSEK)\n",
    "print(f\"{diff=}\")"
   ]
  },
  {
   "cell_type": "code",
   "execution_count": null,
   "metadata": {},
   "outputs": [],
   "source": []
  }
 ],
 "metadata": {
  "kernelspec": {
   "display_name": "osbdo",
   "language": "python",
   "name": "python3"
  },
  "language_info": {
   "codemirror_mode": {
    "name": "ipython",
    "version": 3
   },
   "file_extension": ".py",
   "mimetype": "text/x-python",
   "name": "python",
   "nbconvert_exporter": "python",
   "pygments_lexer": "ipython3",
   "version": "3.11.5"
  }
 },
 "nbformat": 4,
 "nbformat_minor": 2
}
