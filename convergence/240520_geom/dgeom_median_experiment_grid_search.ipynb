{
 "cells": [
  {
   "cell_type": "code",
   "execution_count": 1,
   "metadata": {},
   "outputs": [],
   "source": [
    "import networkx as nx\n",
    "import numpy as np\n",
    "import matplotlib.pyplot as plt\n",
    "import networkx as nx\n",
    "import math\n",
    "import cvxpy as cp\n",
    "\n",
    "from decentr_geom_median import *\n",
    "import ciropt as co"
   ]
  },
  {
   "cell_type": "code",
   "execution_count": 2,
   "metadata": {},
   "outputs": [
    {
     "name": "stdout",
     "output_type": "stream",
     "text": [
      "{'n_node': 6, 'vector_size': 100, 'translation': 'b'}\n"
     ]
    }
   ],
   "source": [
    "# random seed\n",
    "np.random.seed(108)\n",
    "\n",
    "# data generation\n",
    "problem_spec = {}\n",
    "problem_spec['n_node'] = 6\n",
    "problem_spec['vector_size'] = 100\n",
    "problem_spec['translation'] = \"b\"\n",
    "print(problem_spec)\n",
    "problem_data = data_generation(problem_spec)\n",
    "network_data = graph_generation_nodes6()\n",
    "\n",
    "# problem_spec['sc_theta'] = 2\n",
    "problem_spec['sc_theta'] = 1\n",
    "# problem_spec['sc_theta'] = 0.7\n",
    "# problem_spec['sc_theta'] = 0.5\n",
    "# problem_spec['sc_theta'] = 0.3\n",
    "\n",
    "problem_data['itr_num'] = 1000"
   ]
  },
  {
   "cell_type": "code",
   "execution_count": 3,
   "metadata": {},
   "outputs": [
    {
     "data": {
      "image/png": "[encoded data removed]",
      "text/plain": [
       "<Figure size 432x288 with 1 Axes>"
      ]
     },
     "metadata": {},
     "output_type": "display_data"
    }
   ],
   "source": [
    "nx.draw(network_data[\"G\"], node_color='skyblue', with_labels=True, font_size=30, node_size=1500)\n",
    "# plt.savefig(\"plots/graph_n6.pdf\")"
   ]
  },
  {
   "cell_type": "code",
   "execution_count": 4,
   "metadata": {},
   "outputs": [
    {
     "name": "stdout",
     "output_type": "stream",
     "text": [
      "f_star=343088.1236365337, np.linalg.norm(x_opt_star)=950.1482942800134\n"
     ]
    }
   ],
   "source": [
    "f_star, x_opt_star = cvx_geom_median(problem_spec, problem_data)\n",
    "print(f\"{f_star=}, {np.linalg.norm(x_opt_star)=}\")"
   ]
  },
  {
   "cell_type": "code",
   "execution_count": 5,
   "metadata": {},
   "outputs": [],
   "source": [
    "b = problem_data['b']\n",
    "c = problem_data['c']\n",
    " \n",
    "vector_size = problem_spec['vector_size']\n",
    "n_node = problem_spec['n_node']\n",
    "theta = problem_spec['sc_theta']\n",
    "prox_operators = []\n",
    "fi_operators = []\n",
    "\n",
    "for jj in range(n_node):\n",
    "    bj = b[jj*vector_size : (jj+1)*vector_size]\n",
    "    cj = c[jj*vector_size : (jj+1)*vector_size]\n",
    "    if jj in [3, 4]:\n",
    "        prox_operators += [lambda z, rho, bj=bj, cj=cj:  prox_fj_geom_mean_sc(z, rho, bj, cj, theta=theta)]\n",
    "        fi_operators += [lambda x_kj, bj=bj, cj=cj: np.linalg.norm((x_kj - bj), ord=2) + theta*np.linalg.norm(x_kj - cj, ord=2)**2]\n",
    "    else:\n",
    "        prox_operators += [lambda z, rho, bj=bj:  prox_fj_geom_mean(z, rho, bj)]\n",
    "        fi_operators += [lambda x_kj, bj=bj: np.linalg.norm((x_kj - bj), ord=2)]\n",
    "\n",
    "    # Testing the validity of proximals\n",
    "    z = np.random.randn(vector_size)\n",
    "    a = 1\n",
    "    x1 = prox_fj_geom_mean(z, a, bj)\n",
    "    x2 = cvx_prox_fj_geom_mean(z, a, bj, vector_size)\n",
    "    assert np.linalg.norm(x1 - x2) / np.linalg.norm(x1) < 1e-5\n",
    "\n",
    "    x1 = prox_fj_geom_mean_sc(z, a, bj, cj, theta=theta)\n",
    "    x2 = cvx_prox_fj_geom_mean_sc(z, a, bj, cj, vector_size, theta=theta)\n",
    "    assert np.linalg.norm(x1 - x2) / np.linalg.norm(x1) < 1e-3"
   ]
  },
  {
   "cell_type": "markdown",
   "metadata": {},
   "source": [
    "## Find best parameter for DADMM"
   ]
  },
  {
   "cell_type": "code",
   "execution_count": 6,
   "metadata": {},
   "outputs": [
    {
     "name": "stdout",
     "output_type": "stream",
     "text": [
      "new best_R : 0.1 , new best_value : 0.003025604265700255\n",
      "new best_R : 0.15 , new best_value : 0.0005056991151478545\n",
      "new best_R : 0.2 , new best_value : 0.00010038056598075483\n",
      "new best_R : 0.25 , new best_value : 2.50369294860796e-05\n",
      "new best_R : 0.3 , new best_value : 8.817011650487582e-06\n",
      "new best_R : 0.35 , new best_value : 4.178984307888737e-06\n",
      "new best_R : 0.4 , new best_value : 2.1847981817733283e-06\n",
      "new best_R : 0.45 , new best_value : 1.061280175947543e-06\n",
      "new best_R : 0.5 , new best_value : 3.992485426585501e-07\n",
      "new best_R : 0.55 , new best_value : 5.4758129441465126e-08\n",
      "best_R : 0.55\n"
     ]
    }
   ],
   "source": [
    "find_best = True\n",
    "\n",
    "start, end, space = 0.1, 4, 0.05\n",
    "\n",
    "best_value = 1\n",
    "\n",
    "if find_best == True:\n",
    "    for r in np.arange(start, end, space) :\n",
    "        R = round(r, 2)\n",
    "        admm_err_opt_star, admm_err_opt_reldiff, admm_const_vio, admm_f_reldiff = co.dadmm(\"dadmm\", problem_spec, problem_data, \n",
    "                                                                                network_data, x_opt_star, f_star, prox_operators=prox_operators,\n",
    "                                                                                fi_operators=fi_operators,\n",
    "                                                                                params={\"R\":R}, printing=False, freq=200)\n",
    "        new_val = sum(admm_f_reldiff[50:350]) / 300\n",
    "        # new_val = sum(admm_f_reldiff[300:400]) / 100\n",
    "        if new_val < best_value:\n",
    "            print(\"new best_R :\", round(r, 2),  \", new best_value :\", new_val)\n",
    "            best_value = new_val\n",
    "            best_R = round(r, 2)\n",
    "\n",
    "print(\"best_R :\", best_R)"
   ]
  },
  {
   "cell_type": "code",
   "execution_count": 67,
   "metadata": {},
   "outputs": [
    {
     "name": "stdout",
     "output_type": "stream",
     "text": [
      "ii=0, f_reldiff[-1]=0.2726169118784817, err_opt_reldiff[-1]=0.9293149625443716\n",
      "ii=200, f_reldiff[-1]=2.1412372420126335e-11, err_opt_reldiff[-1]=4.936537236453564e-06\n",
      "ii=400, f_reldiff[-1]=2.1412372420126335e-11, err_opt_reldiff[-1]=4.936537236427239e-06\n",
      "ii=600, f_reldiff[-1]=2.1412372420126335e-11, err_opt_reldiff[-1]=4.9365372364309696e-06\n",
      "ii=800, f_reldiff[-1]=2.1412372420126335e-11, err_opt_reldiff[-1]=4.936537236445606e-06\n",
      "ii=999, f_reldiff[-1]=2.1412372420126335e-11, err_opt_reldiff[-1]=4.93653723644385e-06\n"
     ]
    }
   ],
   "source": [
    "# R = best_R\n",
    "R = 0.6\n",
    "admm_err_opt_star, admm_err_opt_reldiff, admm_const_vio, admm_f_reldiff = co.dadmm(\"dadmm\", problem_spec, problem_data, \n",
    "                                                                                network_data, x_opt_star, f_star, prox_operators=prox_operators,\n",
    "                                                                                fi_operators=fi_operators,\n",
    "                                                                                params={\"R\":R}, printing=True, freq=200)"
   ]
  },
  {
   "cell_type": "markdown",
   "metadata": {},
   "source": [
    "## Find best parameter of P-EXTRA"
   ]
  },
  {
   "cell_type": "code",
   "execution_count": 68,
   "metadata": {},
   "outputs": [
    {
     "name": "stdout",
     "output_type": "stream",
     "text": [
      "new best_rho : 0.05 new best_value : 0.0011937763853456305\n",
      "new best_rho : 0.1 new best_value : 0.0001544442522893114\n",
      "new best_rho : 0.15 new best_value : 8.819315601134425e-05\n",
      "best_rho : 0.15\n"
     ]
    }
   ],
   "source": [
    "# apply P-EXTRA \n",
    "find_best = True\n",
    "\n",
    "start, end, space = 0.05, 2, 0.05\n",
    "\n",
    "best_value = 1\n",
    "\n",
    "if find_best == True:\n",
    "    for r in np.arange(start, end, space) :\n",
    "        problem_data['rho'] = round(r, 2)\n",
    "        # print(\"Testing rho :\", r)\n",
    "        pg_op_norm, pg_err_opt_star, pg_err_opt_reldiff, pg_const_vio, pg_f_reldiff = p_extra_dgeom_median(None, problem_spec, problem_data, \n",
    "                                                                                                    network_data, x_opt_star, f_star, \n",
    "                                                                                                    printing=False, freq=200)\n",
    "        new_val = sum(pg_f_reldiff[50:350]) / 300\n",
    "        # new_val = sum(pg_f_reldiff[300:400]) / 100\n",
    "        if new_val < best_value:\n",
    "            print(\"new best_rho :\", round(r, 2),  \"new best_value :\", new_val)\n",
    "            best_value = new_val\n",
    "            best_rho = round(r, 2)\n",
    "\n",
    "print(\"best_rho :\", best_rho)"
   ]
  },
  {
   "cell_type": "code",
   "execution_count": 69,
   "metadata": {},
   "outputs": [
    {
     "name": "stdout",
     "output_type": "stream",
     "text": [
      "ii=0, f_reldiff[-1]=0.4929558409429687, err_opt_reldiff[-1]=0.6998802064475615\n",
      "ii=200, f_reldiff[-1]=4.149428815131869e-07, err_opt_reldiff[-1]=1.651640081076506e-05\n",
      "ii=400, f_reldiff[-1]=5.474118672668576e-11, err_opt_reldiff[-1]=3.0743782111467404e-06\n",
      "ii=600, f_reldiff[-1]=2.1410675839659006e-11, err_opt_reldiff[-1]=3.0743712755753635e-06\n",
      "ii=800, f_reldiff[-1]=2.141254207817307e-11, err_opt_reldiff[-1]=3.0743712604666394e-06\n",
      "ii=999, f_reldiff[-1]=2.1412372420126335e-11, err_opt_reldiff[-1]=3.0743712450903623e-06\n"
     ]
    }
   ],
   "source": [
    "# apply P-EXTRA \n",
    "problem_data['rho'] = best_rho\n",
    "# problem_data['rho'] = 1.3\n",
    "pg_op_norm, pg_err_opt_star, pg_err_opt_reldiff, pg_const_vio, pg_f_reldiff = p_extra_dgeom_median(None, problem_spec, problem_data, \n",
    "                                                                                            network_data, x_opt_star, f_star, \n",
    "                                                                                            printing=True, freq=200)"
   ]
  },
  {
   "cell_type": "markdown",
   "metadata": {},
   "source": [
    "## DADMM-C"
   ]
  },
  {
   "cell_type": "code",
   "execution_count": 88,
   "metadata": {},
   "outputs": [
    {
     "name": "stdout",
     "output_type": "stream",
     "text": [
      "ii=0, f_reldiff[-1]=0.4022784155959498, err_opt_reldiff[-1]=0.9283789205053392\n",
      "ii=200, f_reldiff[-1]=2.1412372420126335e-11, err_opt_reldiff[-1]=4.93653723611578e-06\n",
      "ii=400, f_reldiff[-1]=2.1412372420126335e-11, err_opt_reldiff[-1]=4.936537236208566e-06\n",
      "ii=600, f_reldiff[-1]=2.1412372420126335e-11, err_opt_reldiff[-1]=4.936537236138936e-06\n",
      "ii=800, f_reldiff[-1]=2.1412372420126335e-11, err_opt_reldiff[-1]=4.9365372362861905e-06\n",
      "ii=999, f_reldiff[-1]=2.1412372420126335e-11, err_opt_reldiff[-1]=4.936537236465443e-06\n"
     ]
    }
   ],
   "source": [
    "# params={\"R\":3, \"Inductance\":3, \"Capacitance\":8/3, \"h\":1.842939271898937}\n",
    "# params={\"R\":2, \"Inductance\":4, \"Capacitance\":4, \"h\":2.764408907848405}\n",
    "# params={\"R\":1, \"Inductance\":6, \"Capacitance\":8, \"h\":5.13906193644284}\n",
    "# params={\"R\":2, \"Inductance\":3, \"Capacitance\":0.5, \"h\":0.71692315906863}\n",
    "# params={\"R\":2, \"Inductance\":3, \"Capacitance\":4, \"h\":2.321989931}\n",
    "# params={\"R\":2, \"Inductance\":1, \"Capacitance\":1, \"h\":0.665836807162538}\n",
    "# params={\"R\":1.5, \"Inductance\":4.5, \"Capacitance\":6, \"h\":3.50141019655701}\n",
    "# params={\"R\":1, \"Inductance\":8, \"Capacitance\":8, \"h\":5.5409883749567}\n",
    "# params={\"R\":0.8, \"Inductance\":2, \"Capacitance\":15, \"h\":3.515416990114254}\n",
    "# params={\"R\":0.5, \"Inductance\":4, \"Capacitance\":16, \"h\":2.764408907848405}\n",
    "\n",
    "### not verified parameters\n",
    "# params={\"R\":3, \"Inductance\":3, \"Capacitance\":8/3, \"h\":2.4} # Work well for theta=0.3\n",
    "# params={\"R\":2, \"Inductance\":3, \"Capacitance\":4, \"h\":3} # Work great for theta=0.5\n",
    "# params={\"R\":2, \"Inductance\":3.1, \"Capacitance\":47, \"h\":3} \n",
    "# params={\"R\":2, \"Inductance\":3.3, \"Capacitance\":17, \"h\":3}  # Dont work well for theta=0.5\n",
    "# params={\"R\":2, \"Inductance\":3, \"Capacitance\":3, \"h\":3} # Work well for theta=0.5\n",
    "# params={\"R\":2, \"Inductance\":3, \"Capacitance\":4, \"h\":2.1785158094003885} # from solver\n",
    "# params={\"R\":0.85, \"Inductance\":2, \"Capacitance\":14, \"h\":4.8} # not bad for theta=1, good for theta=2\n",
    "params={\"R\":0.8, \"Inductance\":2, \"Capacitance\":12, \"h\":4.5} # good for theta=1\n",
    "# params={\"R\":1.3, \"Inductance\":2, \"Capacitance\":8, \"h\":3.5}\n",
    "# params={\"R\":1.2, \"Inductance\":2, \"Capacitance\":14, \"h\":4.7} # works no bad for theta=2\n",
    "\n",
    "dadmm_c_err_opt_star, dadmm_c_err_opt_reldiff, dadmm_c_const_vio, dadmm_c_f_reldiff = co.dadmm(\"cir_dadmm_c\", problem_spec, problem_data, \n",
    "                                                                                network_data, x_opt_star, f_star, prox_operators=prox_operators,\n",
    "                                                                                fi_operators=fi_operators,\n",
    "                                                                                params=params, printing=True, freq=200)"
   ]
  },
  {
   "cell_type": "markdown",
   "metadata": {},
   "source": [
    "## Plots"
   ]
  },
  {
   "cell_type": "code",
   "execution_count": 89,
   "metadata": {},
   "outputs": [],
   "source": [
    "fname = \"n6_circuit_dadmm_c_theta%s\"%str(problem_spec['sc_theta'])"
   ]
  },
  {
   "cell_type": "code",
   "execution_count": 90,
   "metadata": {},
   "outputs": [
    {
     "data": {
      "image/png": "[encoded data removed]",
      "text/plain": [
       "<Figure size 360x288 with 1 Axes>"
      ]
     },
     "metadata": {
      "needs_background": "light"
     },
     "output_type": "display_data"
    }
   ],
   "source": [
    "co.plot_methods([pg_f_reldiff,admm_f_reldiff,dadmm_c_f_reldiff],\n",
    "                ['P-EXTRA', 'DADMM','Circuit DADMM+C'], 1e-10, 2e-0, fname)"
   ]
  },
  {
   "cell_type": "code",
   "execution_count": 82,
   "metadata": {},
   "outputs": [
    {
     "data": {
      "text/plain": [
       "52"
      ]
     },
     "execution_count": 82,
     "metadata": {},
     "output_type": "execute_result"
    }
   ],
   "source": [
    "np.where(np.array(dadmm_c_f_reldiff) < 1e-8)[0][0]"
   ]
  },
  {
   "cell_type": "code",
   "execution_count": 83,
   "metadata": {},
   "outputs": [
    {
     "data": {
      "text/plain": [
       "63"
      ]
     },
     "execution_count": 83,
     "metadata": {},
     "output_type": "execute_result"
    }
   ],
   "source": [
    "np.where(np.array(admm_f_reldiff) < 1e-8)[0][0]"
   ]
  },
  {
   "cell_type": "code",
   "execution_count": 84,
   "metadata": {},
   "outputs": [
    {
     "data": {
      "text/plain": [
       "212"
      ]
     },
     "execution_count": 84,
     "metadata": {},
     "output_type": "execute_result"
    }
   ],
   "source": [
    "np.where(np.array(pg_f_reldiff) < 1e-8)[0][0]"
   ]
  },
  {
   "cell_type": "code",
   "execution_count": null,
   "metadata": {},
   "outputs": [],
   "source": []
  },
  {
   "cell_type": "code",
   "execution_count": null,
   "metadata": {},
   "outputs": [],
   "source": []
  }
 ],
 "metadata": {
  "kernelspec": {
   "display_name": "circuits",
   "language": "python",
   "name": "python3"
  },
  "language_info": {
   "codemirror_mode": {
    "name": "ipython",
    "version": 3
   },
   "file_extension": ".py",
   "mimetype": "text/x-python",
   "name": "python",
   "nbconvert_exporter": "python",
   "pygments_lexer": "ipython3",
   "version": "3.8.5"
  }
 },
 "nbformat": 4,
 "nbformat_minor": 2
}
