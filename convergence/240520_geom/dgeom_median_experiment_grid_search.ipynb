{
 "cells": [
  {
   "cell_type": "code",
   "execution_count": 1,
   "metadata": {},
   "outputs": [],
   "source": [
    "import networkx as nx\n",
    "import numpy as np\n",
    "import matplotlib.pyplot as plt\n",
    "import networkx as nx\n",
    "import math\n",
    "import cvxpy as cp\n",
    "\n",
    "from decentr_geom_median import *\n",
    "import ciropt as co"
   ]
  },
  {
   "cell_type": "code",
   "execution_count": 2,
   "metadata": {},
   "outputs": [
    {
     "name": "stdout",
     "output_type": "stream",
     "text": [
      "{'n_node': 6, 'vector_size': 100, 'translation': 'b'}\n"
     ]
    }
   ],
   "source": [
    "# random seed\n",
    "np.random.seed(108)\n",
    "\n",
    "# data generation\n",
    "problem_spec = {}\n",
    "problem_spec['n_node'] = 6\n",
    "problem_spec['vector_size'] = 100\n",
    "problem_spec['translation'] = \"b\"\n",
    "print(problem_spec)\n",
    "problem_data = data_generation(problem_spec)\n",
    "network_data = graph_generation_nodes6()\n",
    "\n",
    "# problem_spec['sc_theta'] = 2\n",
    "# problem_spec['sc_theta'] = 1\n",
    "# problem_spec['sc_theta'] = 0.7\n",
    "problem_spec['sc_theta'] = 0.5\n",
    "# problem_spec['sc_theta'] = 0.3\n",
    "\n",
    "problem_data['itr_num'] = 1000"
   ]
  },
  {
   "cell_type": "code",
   "execution_count": 3,
   "metadata": {},
   "outputs": [
    {
     "data": {
      "image/png": "[encoded data removed]",
      "text/plain": [
       "<Figure size 640x480 with 1 Axes>"
      ]
     },
     "metadata": {},
     "output_type": "display_data"
    }
   ],
   "source": [
    "nx.draw(network_data[\"G\"], node_color='skyblue', with_labels=True, font_size=30, node_size=1500)\n",
    "# plt.savefig(\"plots/graph_n6.pdf\")"
   ]
  },
  {
   "cell_type": "code",
   "execution_count": 4,
   "metadata": {},
   "outputs": [
    {
     "name": "stdout",
     "output_type": "stream",
     "text": [
      "f_star=173364.7465675602, np.linalg.norm(x_opt_star)=948.8196891687014\n"
     ]
    }
   ],
   "source": [
    "f_star, x_opt_star = cvx_geom_median(problem_spec, problem_data)\n",
    "print(f\"{f_star=}, {np.linalg.norm(x_opt_star)=}\")"
   ]
  },
  {
   "cell_type": "code",
   "execution_count": 5,
   "metadata": {},
   "outputs": [],
   "source": [
    "b = problem_data['b']\n",
    "c = problem_data['c']\n",
    " \n",
    "vector_size = problem_spec['vector_size']\n",
    "n_node = problem_spec['n_node']\n",
    "theta = problem_spec['sc_theta']\n",
    "prox_operators = []\n",
    "fi_operators = []\n",
    "\n",
    "for jj in range(n_node):\n",
    "    bj = b[jj*vector_size : (jj+1)*vector_size]\n",
    "    cj = c[jj*vector_size : (jj+1)*vector_size]\n",
    "    if jj in [3, 4]:\n",
    "        prox_operators += [lambda z, rho, bj=bj, cj=cj:  prox_fj_geom_mean_sc(z, rho, bj, cj, theta=theta)]\n",
    "        fi_operators += [lambda x_kj, bj=bj, cj=cj: np.linalg.norm((x_kj - bj), ord=2) + theta*np.linalg.norm(x_kj - cj, ord=2)**2]\n",
    "    else:\n",
    "        prox_operators += [lambda z, rho, bj=bj:  prox_fj_geom_mean(z, rho, bj)]\n",
    "        fi_operators += [lambda x_kj, bj=bj: np.linalg.norm((x_kj - bj), ord=2)]\n",
    "\n",
    "    # Testing the validity of proximals\n",
    "    z = np.random.randn(vector_size)\n",
    "    a = 1\n",
    "    x1 = prox_fj_geom_mean(z, a, bj)\n",
    "    x2 = cvx_prox_fj_geom_mean(z, a, bj, vector_size)\n",
    "    assert np.linalg.norm(x1 - x2) / np.linalg.norm(x1) < 1e-5\n",
    "\n",
    "    x1 = prox_fj_geom_mean_sc(z, a, bj, cj, theta=theta)\n",
    "    x2 = cvx_prox_fj_geom_mean_sc(z, a, bj, cj, vector_size, theta=theta)\n",
    "    assert np.linalg.norm(x1 - x2) / np.linalg.norm(x1) < 1e-3"
   ]
  },
  {
   "cell_type": "markdown",
   "metadata": {},
   "source": [
    "## Find best parameter for DADMM"
   ]
  },
  {
   "cell_type": "code",
   "execution_count": 6,
   "metadata": {},
   "outputs": [
    {
     "name": "stdout",
     "output_type": "stream",
     "text": [
      "new best_R : 0.1 , new best_value : 0.024209324797232985\n",
      "new best_R : 0.15 , new best_value : 0.007973637815391146\n",
      "new best_R : 0.2 , new best_value : 0.0029668737551810462\n",
      "new best_R : 0.25 , new best_value : 0.0011830762669745025\n",
      "new best_R : 0.3 , new best_value : 0.0004949212920522846\n",
      "new best_R : 0.35 , new best_value : 0.000215727334638959\n",
      "new best_R : 0.4 , new best_value : 9.83161002630272e-05\n",
      "new best_R : 0.45 , new best_value : 4.743420362154653e-05\n",
      "new best_R : 0.5 , new best_value : 2.4670143983354776e-05\n",
      "new best_R : 0.55 , new best_value : 1.4044512187187424e-05\n",
      "new best_R : 0.6 , new best_value : 8.764999007931532e-06\n",
      "new best_R : 0.65 , new best_value : 5.90074593845189e-06\n",
      "new best_R : 0.7 , new best_value : 4.172885413690207e-06\n",
      "new best_R : 0.75 , new best_value : 3.017313597596501e-06\n",
      "new best_R : 0.8 , new best_value : 2.1811115017681906e-06\n",
      "new best_R : 0.85 , new best_value : 1.5471970134546035e-06\n",
      "new best_R : 0.9 , new best_value : 1.0578782790545408e-06\n",
      "new best_R : 0.95 , new best_value : 6.815736103733185e-07\n",
      "new best_R : 1.0 , new best_value : 3.984196352467574e-07\n",
      "new best_R : 1.05 , new best_value : 1.9410593673343602e-07\n",
      "new best_R : 1.1 , new best_value : 5.732471493343791e-08\n",
      "new best_R : 1.15 , new best_value : 2.991447339186587e-08\n",
      "best_R : 1.15\n"
     ]
    }
   ],
   "source": [
    "find_best = True\n",
    "\n",
    "start, end, space = 0.1, 4, 0.05\n",
    "\n",
    "best_value = 1\n",
    "\n",
    "if find_best == True:\n",
    "    for r in np.arange(start, end, space) :\n",
    "        R = round(r, 2)\n",
    "        admm_err_opt_star, admm_err_opt_reldiff, admm_const_vio, admm_f_reldiff = co.dadmm(\"dadmm\", problem_spec, problem_data, \n",
    "                                                                                network_data, x_opt_star, f_star, prox_operators=prox_operators,\n",
    "                                                                                fi_operators=fi_operators,\n",
    "                                                                                params={\"R\":R}, printing=False, freq=200)\n",
    "        new_val = sum(admm_f_reldiff[50:350]) / 300\n",
    "        # new_val = sum(admm_f_reldiff[300:400]) / 100\n",
    "        if new_val < best_value:\n",
    "            print(\"new best_R :\", round(r, 2),  \", new best_value :\", new_val)\n",
    "            best_value = new_val\n",
    "            best_R = round(r, 2)\n",
    "\n",
    "print(\"best_R :\", best_R)"
   ]
  },
  {
   "cell_type": "code",
   "execution_count": 7,
   "metadata": {},
   "outputs": [
    {
     "name": "stdout",
     "output_type": "stream",
     "text": [
      "ii=0, f_reldiff[-1]=0.0524118858267237, err_opt_reldiff[-1]=0.9401694234925271\n",
      "ii=200, f_reldiff[-1]=4.11822698844746e-09, err_opt_reldiff[-1]=7.075588175057602e-05\n",
      "ii=400, f_reldiff[-1]=4.347891825635815e-09, err_opt_reldiff[-1]=7.074222680261878e-05\n",
      "ii=600, f_reldiff[-1]=4.347891825635815e-09, err_opt_reldiff[-1]=7.074222680269417e-05\n",
      "ii=800, f_reldiff[-1]=4.347891825635815e-09, err_opt_reldiff[-1]=7.074222680261236e-05\n",
      "ii=999, f_reldiff[-1]=4.347891825635815e-09, err_opt_reldiff[-1]=7.074222680266575e-05\n"
     ]
    }
   ],
   "source": [
    "# R = best_R\n",
    "R = 0.6\n",
    "admm_err_opt_star, admm_err_opt_reldiff, admm_const_vio, admm_f_reldiff = co.dadmm(\"dadmm\", problem_spec, problem_data, \n",
    "                                                                                network_data, x_opt_star, f_star, prox_operators=prox_operators,\n",
    "                                                                                fi_operators=fi_operators,\n",
    "                                                                                params={\"R\":R}, printing=True, freq=200)"
   ]
  },
  {
   "cell_type": "markdown",
   "metadata": {},
   "source": [
    "## Find best parameter of P-EXTRA"
   ]
  },
  {
   "cell_type": "code",
   "execution_count": 8,
   "metadata": {},
   "outputs": [
    {
     "name": "stdout",
     "output_type": "stream",
     "text": [
      "new best_rho : 0.05 new best_value : 0.011636190117803131\n",
      "new best_rho : 0.1 new best_value : 0.0011724852820519031\n",
      "new best_rho : 0.15 new best_value : 0.00024495038808436544\n",
      "new best_rho : 0.2 new best_value : 0.00014925151671356897\n",
      "new best_rho : 0.25 new best_value : 0.00010951305414663092\n",
      "new best_rho : 0.3 new best_value : 8.851637102649839e-05\n",
      "new best_rho : 0.35 new best_value : 8.809588202362398e-05\n",
      "best_rho : 0.35\n"
     ]
    }
   ],
   "source": [
    "# apply P-EXTRA \n",
    "find_best = True\n",
    "\n",
    "start, end, space = 0.05, 2, 0.05\n",
    "\n",
    "best_value = 1\n",
    "\n",
    "if find_best == True:\n",
    "    for r in np.arange(start, end, space) :\n",
    "        problem_data['rho'] = round(r, 2)\n",
    "        # print(\"Testing rho :\", r)\n",
    "        pg_op_norm, pg_err_opt_star, pg_err_opt_reldiff, pg_const_vio, pg_f_reldiff = p_extra_dgeom_median(None, problem_spec, problem_data, \n",
    "                                                                                                    network_data, x_opt_star, f_star, \n",
    "                                                                                                    printing=False, freq=200)\n",
    "        new_val = sum(pg_f_reldiff[50:350]) / 300\n",
    "        # new_val = sum(pg_f_reldiff[300:400]) / 100\n",
    "        if new_val < best_value:\n",
    "            print(\"new best_rho :\", round(r, 2),  \"new best_value :\", new_val)\n",
    "            best_value = new_val\n",
    "            best_rho = round(r, 2)\n",
    "\n",
    "print(\"best_rho :\", best_rho)"
   ]
  },
  {
   "cell_type": "code",
   "execution_count": 9,
   "metadata": {},
   "outputs": [
    {
     "name": "stdout",
     "output_type": "stream",
     "text": [
      "ii=0, f_reldiff[-1]=0.5291986499705408, err_opt_reldiff[-1]=0.6998896953448035\n",
      "ii=200, f_reldiff[-1]=7.120087555847533e-07, err_opt_reldiff[-1]=4.7001791544059314e-05\n",
      "ii=400, f_reldiff[-1]=4.384372014940654e-09, err_opt_reldiff[-1]=4.402016318154236e-05\n",
      "ii=600, f_reldiff[-1]=4.347890482625496e-09, err_opt_reldiff[-1]=4.402016123994443e-05\n",
      "ii=800, f_reldiff[-1]=4.347891825635815e-09, err_opt_reldiff[-1]=4.402016122516434e-05\n",
      "ii=999, f_reldiff[-1]=4.347891993512105e-09, err_opt_reldiff[-1]=4.402016121006041e-05\n"
     ]
    }
   ],
   "source": [
    "# apply P-EXTRA \n",
    "problem_data['rho'] = best_rho\n",
    "# problem_data['rho'] = 1.3\n",
    "pg_op_norm, pg_err_opt_star, pg_err_opt_reldiff, pg_const_vio, pg_f_reldiff = p_extra_dgeom_median(None, problem_spec, problem_data, \n",
    "                                                                                            network_data, x_opt_star, f_star, \n",
    "                                                                                            printing=True, freq=200)"
   ]
  },
  {
   "cell_type": "markdown",
   "metadata": {},
   "source": [
    "## DADMM-C"
   ]
  },
  {
   "cell_type": "code",
   "execution_count": 10,
   "metadata": {},
   "outputs": [
    {
     "name": "stdout",
     "output_type": "stream",
     "text": [
      "ii=0, f_reldiff[-1]=0.4940229278932225, err_opt_reldiff[-1]=0.9293979985849904\n",
      "ii=200, f_reldiff[-1]=4.347891993512105e-09, err_opt_reldiff[-1]=7.074222680097322e-05\n",
      "ii=400, f_reldiff[-1]=4.347891993512105e-09, err_opt_reldiff[-1]=7.074222680098548e-05\n",
      "ii=600, f_reldiff[-1]=4.347891825635815e-09, err_opt_reldiff[-1]=7.0742226800941e-05\n",
      "ii=800, f_reldiff[-1]=4.347891825635815e-09, err_opt_reldiff[-1]=7.07422268009381e-05\n",
      "ii=999, f_reldiff[-1]=4.347891825635815e-09, err_opt_reldiff[-1]=7.074222680092939e-05\n"
     ]
    }
   ],
   "source": [
    "# params={\"R\":3, \"Inductance\":3, \"Capacitance\":8/3, \"h\":1.842939271898937}\n",
    "# params={\"R\":2, \"Inductance\":4, \"Capacitance\":4, \"h\":2.764408907848405}\n",
    "# params={\"R\":1, \"Inductance\":6, \"Capacitance\":8, \"h\":5.13906193644284}\n",
    "# params={\"R\":2, \"Inductance\":3, \"Capacitance\":0.5, \"h\":0.71692315906863}\n",
    "# params={\"R\":2, \"Inductance\":3, \"Capacitance\":4, \"h\":2.321989931}\n",
    "# params={\"R\":2, \"Inductance\":1, \"Capacitance\":1, \"h\":0.665836807162538}\n",
    "# params={\"R\":1.5, \"Inductance\":4.5, \"Capacitance\":6, \"h\":3.50141019655701}\n",
    "# params={\"R\":1, \"Inductance\":8, \"Capacitance\":8, \"h\":5.5409883749567}\n",
    "# params={\"R\":0.8, \"Inductance\":2, \"Capacitance\":15, \"h\":3.515416990114254}\n",
    "# params={\"R\":0.5, \"Inductance\":4, \"Capacitance\":16, \"h\":2.764408907848405}\n",
    "\n",
    "### not verified parameters\n",
    "# params={\"R\":3, \"Inductance\":3, \"Capacitance\":8/3, \"h\":2.4} # Work well for theta=0.3\n",
    "params={\"R\":2, \"Inductance\":3, \"Capacitance\":4, \"h\":3} # Work great for theta=0.5\n",
    "# params={\"R\":2, \"Inductance\":3.1, \"Capacitance\":47, \"h\":3} \n",
    "# params={\"R\":2, \"Inductance\":3.3, \"Capacitance\":17, \"h\":3}  # Dont work well for theta=0.5\n",
    "# params={\"R\":2, \"Inductance\":3, \"Capacitance\":3, \"h\":3} # Work well for theta=0.5\n",
    "# params={\"R\":2, \"Inductance\":3, \"Capacitance\":4, \"h\":2.1785158094003885} # from solver\n",
    "# params={\"R\":0.85, \"Inductance\":2, \"Capacitance\":14, \"h\":4.8} # not bad for theta=1, good for theta=2\n",
    "# params={\"R\":0.8, \"Inductance\":2, \"Capacitance\":12, \"h\":4.5} # good for theta=1\n",
    "# params={\"R\":1.3, \"Inductance\":2, \"Capacitance\":8, \"h\":3.5}\n",
    "# params={\"R\":1.2, \"Inductance\":2, \"Capacitance\":14, \"h\":4.7} # works no bad for theta=2\n",
    "\n",
    "dadmm_c_err_opt_star, dadmm_c_err_opt_reldiff, dadmm_c_const_vio, dadmm_c_f_reldiff = co.dadmm(\"cir_dadmm_c\", problem_spec, problem_data, \n",
    "                                                                                network_data, x_opt_star, f_star, prox_operators=prox_operators,\n",
    "                                                                                fi_operators=fi_operators,\n",
    "                                                                                params=params, printing=True, freq=200)"
   ]
  },
  {
   "cell_type": "markdown",
   "metadata": {},
   "source": [
    "## Plots"
   ]
  },
  {
   "cell_type": "code",
   "execution_count": 11,
   "metadata": {},
   "outputs": [],
   "source": [
    "fname = \"n6_circuit_dadmm_c_theta%s\"%str(problem_spec['sc_theta'])"
   ]
  },
  {
   "cell_type": "code",
   "execution_count": 12,
   "metadata": {},
   "outputs": [
    {
     "data": {
      "image/png": "[encoded data removed]",
      "text/plain": [
       "<Figure size 500x400 with 1 Axes>"
      ]
     },
     "metadata": {},
     "output_type": "display_data"
    }
   ],
   "source": [
    "co.plot_methods([pg_f_reldiff,admm_f_reldiff,dadmm_c_f_reldiff],\n",
    "                ['P-EXTRA', 'DADMM','Circuit DADMM+C'], 1e-10, 2e-0, fname)"
   ]
  },
  {
   "cell_type": "code",
   "execution_count": 13,
   "metadata": {},
   "outputs": [
    {
     "data": {
      "text/plain": [
       "52"
      ]
     },
     "execution_count": 13,
     "metadata": {},
     "output_type": "execute_result"
    }
   ],
   "source": [
    "np.where(np.array(dadmm_c_f_reldiff) < 1e-8)[0][0]"
   ]
  },
  {
   "cell_type": "code",
   "execution_count": 14,
   "metadata": {},
   "outputs": [
    {
     "data": {
      "text/plain": [
       "154"
      ]
     },
     "execution_count": 14,
     "metadata": {},
     "output_type": "execute_result"
    }
   ],
   "source": [
    "np.where(np.array(admm_f_reldiff) < 1e-8)[0][0]"
   ]
  },
  {
   "cell_type": "code",
   "execution_count": 15,
   "metadata": {},
   "outputs": [
    {
     "data": {
      "text/plain": [
       "224"
      ]
     },
     "execution_count": 15,
     "metadata": {},
     "output_type": "execute_result"
    }
   ],
   "source": [
    "np.where(np.array(pg_f_reldiff) < 1e-8)[0][0]"
   ]
  },
  {
   "cell_type": "code",
   "execution_count": null,
   "metadata": {},
   "outputs": [],
   "source": []
  },
  {
   "cell_type": "code",
   "execution_count": null,
   "metadata": {},
   "outputs": [],
   "source": []
  }
 ],
 "metadata": {
  "kernelspec": {
   "display_name": "circuits",
   "language": "python",
   "name": "python3"
  },
  "language_info": {
   "codemirror_mode": {
    "name": "ipython",
    "version": 3
   },
   "file_extension": ".py",
   "mimetype": "text/x-python",
   "name": "python",
   "nbconvert_exporter": "python",
   "pygments_lexer": "ipython3",
   "version": "3.11.5"
  }
 },
 "nbformat": 4,
 "nbformat_minor": 2
}
