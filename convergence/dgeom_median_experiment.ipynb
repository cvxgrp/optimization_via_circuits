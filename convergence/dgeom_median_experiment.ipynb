{
 "cells": [
  {
   "cell_type": "code",
   "execution_count": 1,
   "metadata": {},
   "outputs": [],
   "source": [
    "import networkx as nx\n",
    "import numpy as np\n",
    "import matplotlib.pyplot as plt\n",
    "import networkx as nx\n",
    "import math\n",
    "import cvxpy as cp\n",
    "\n",
    "from decentr_geom_median import *\n",
    "import ciropt as co"
   ]
  },
  {
   "cell_type": "code",
   "execution_count": 2,
   "metadata": {},
   "outputs": [
    {
     "name": "stdout",
     "output_type": "stream",
     "text": [
      "{'n_node': 6, 'vector_size': 10, 'translation': 'b'}\n"
     ]
    }
   ],
   "source": [
    "# random seed\n",
    "np.random.seed(108)\n",
    "\n",
    "# data generation\n",
    "problem_spec = {}\n",
    "problem_spec['n_node'] = 6\n",
    "problem_spec['vector_size'] = 10\n",
    "problem_spec['translation'] = \"b\"\n",
    "# problem_spec['translation'] = False\n",
    "print(problem_spec)\n",
    "problem_data = data_generation(problem_spec)\n",
    "network_data = graph_generation_nodes6()\n",
    "\n",
    "# problem_data['rho'] = 0.01\n",
    "\n",
    "# problem_spec['sc_mu'] = 10\n",
    "# problem_spec['sc_mu'] = 1\n",
    "# problem_spec['sc_mu'] = 1e-1\n",
    "problem_spec['sc_mu'] = 0\n",
    "\n",
    "# PG-EXTRA hyperparameters\n",
    "problem_data['rho'] = 2.5\n",
    "problem_data['itr_num'] = 1000"
   ]
  },
  {
   "cell_type": "code",
   "execution_count": 3,
   "metadata": {},
   "outputs": [
    {
     "data": {
      "image/png": "[encoded data removed]",
      "text/plain": [
       "<Figure size 432x288 with 1 Axes>"
      ]
     },
     "metadata": {},
     "output_type": "display_data"
    }
   ],
   "source": [
    "nx.draw(network_data[\"G\"], node_color='skyblue', with_labels=True)\n",
    "plt.savefig(\"plots/graph_n6.pdf\")"
   ]
  },
  {
   "cell_type": "code",
   "execution_count": 4,
   "metadata": {},
   "outputs": [
    {
     "name": "stdout",
     "output_type": "stream",
     "text": [
      "f_star=859.1571264643361, np.linalg.norm(x_opt_star)=257.1270659998069\n"
     ]
    }
   ],
   "source": [
    "f_star, x_opt_star = cvx_geom_median(problem_spec, problem_data)\n",
    "print(f\"{f_star=}, {np.linalg.norm(x_opt_star)=}\")"
   ]
  },
  {
   "cell_type": "code",
   "execution_count": 5,
   "metadata": {},
   "outputs": [],
   "source": [
    "b = problem_data['b']\n",
    "c = problem_data['c']\n",
    " \n",
    "vector_size = problem_spec['vector_size']\n",
    "n_node = problem_spec['n_node']\n",
    "mu = problem_spec['sc_mu']\n",
    "prox_operators = []\n",
    "fi_operators = []\n",
    "\n",
    "for jj in range(n_node):\n",
    "    bj = b[jj*vector_size : (jj+1)*vector_size]\n",
    "    cj = c[jj*vector_size : (jj+1)*vector_size]\n",
    "    if jj in [3, 4]:\n",
    "        prox_operators += [lambda z, rho, bj=bj, cj=cj:  prox_fj_geom_mean_sc(z, rho, bj, cj, mu=mu)]\n",
    "        # prox_operators += [lambda z, rho, bj=bj, cj=cj:  cvx_prox_fj_geom_mean_sc(z, rho, bj, cj, vector_size, mu=mu)]\n",
    "        fi_operators += [lambda x_kj, bj=bj, cj=cj: np.linalg.norm((x_kj - bj), ord=2) + mu*np.linalg.norm(x_kj - cj, ord=2)**2]\n",
    "    else:\n",
    "        prox_operators += [lambda z, rho, bj=bj:  prox_fj_geom_mean(z, rho, bj)]\n",
    "        fi_operators += [lambda x_kj, bj=bj: np.linalg.norm((x_kj - bj), ord=2)]\n",
    "\n",
    "    # Testing the validity of proximals\n",
    "    z = np.random.randn(vector_size)\n",
    "    a = 1\n",
    "    x1 = prox_fj_geom_mean(z, a, bj)\n",
    "    x2 = cvx_prox_fj_geom_mean(z, a, bj, vector_size)\n",
    "    assert np.linalg.norm(x1 - x2) / np.linalg.norm(x1) < 1e-5\n",
    "\n",
    "    x1 = prox_fj_geom_mean_sc(z, a, bj, cj, mu=mu)\n",
    "    x2 = cvx_prox_fj_geom_mean_sc(z, a, bj, cj, vector_size, mu=mu)\n",
    "    assert np.linalg.norm(x1 - x2) / np.linalg.norm(x1) < 1e-3"
   ]
  },
  {
   "cell_type": "code",
   "execution_count": 6,
   "metadata": {},
   "outputs": [
    {
     "name": "stdout",
     "output_type": "stream",
     "text": [
      "ii=0, f_reldiff[-1]=0.23243742022156968, err_opt_reldiff[-1]=0.6980305324245227\n",
      "ii=200, f_reldiff[-1]=0.03139493519952751, err_opt_reldiff[-1]=0.2411978277364902\n",
      "ii=400, f_reldiff[-1]=0.0030393457381685716, err_opt_reldiff[-1]=0.07726612001967571\n",
      "ii=600, f_reldiff[-1]=0.0003298718913207685, err_opt_reldiff[-1]=0.02761258517416637\n",
      "ii=800, f_reldiff[-1]=4.925813006453724e-05, err_opt_reldiff[-1]=0.011654179294844198\n",
      "ii=999, f_reldiff[-1]=1.0040407810096294e-05, err_opt_reldiff[-1]=0.00553174727596954\n"
     ]
    }
   ],
   "source": [
    "# R = 18\n",
    "R = 2\n",
    "admm_err_opt_star, admm_err_opt_reldiff, admm_const_vio, admm_f_reldiff = co.dadmm(\"dadmm\", problem_spec, problem_data, \n",
    "                                                                                network_data, x_opt_star, f_star, prox_operators=prox_operators,\n",
    "                                                                                fi_operators=fi_operators,\n",
    "                                                                                params={\"R\":R}, printing=True, freq=200)"
   ]
  },
  {
   "cell_type": "code",
   "execution_count": 7,
   "metadata": {},
   "outputs": [
    {
     "name": "stdout",
     "output_type": "stream",
     "text": [
      "ii=0, f_reldiff[-1]=0.27232621055654754, err_opt_reldiff[-1]=0.49465990580684094\n",
      "ii=200, f_reldiff[-1]=0.0017315874679366835, err_opt_reldiff[-1]=0.06523736836516555\n",
      "ii=400, f_reldiff[-1]=0.0005974400921003359, err_opt_reldiff[-1]=0.0390754453109672\n",
      "ii=600, f_reldiff[-1]=0.00021418969508075686, err_opt_reldiff[-1]=0.023975231416002465\n",
      "ii=800, f_reldiff[-1]=8.065787331288023e-05, err_opt_reldiff[-1]=0.015042187221767755\n",
      "ii=999, f_reldiff[-1]=3.190817649017281e-05, err_opt_reldiff[-1]=0.009637049692763234\n"
     ]
    }
   ],
   "source": [
    "# apply P-EXTRA \n",
    "# problem_data['rho'] = 2\n",
    "problem_data['rho'] = 0.5\n",
    "pg_op_norm, pg_err_opt_star, pg_err_opt_reldiff, pg_const_vio, pg_f_reldiff = p_extra_dgeom_median(None, problem_spec, problem_data, network_data, x_opt_star, f_star, printing=True, freq=200)"
   ]
  },
  {
   "cell_type": "code",
   "execution_count": 8,
   "metadata": {},
   "outputs": [
    {
     "name": "stdout",
     "output_type": "stream",
     "text": [
      "ii=0, f_reldiff[-1]=0.23243742022156968, err_opt_reldiff[-1]=0.6980305324245227\n",
      "ii=200, f_reldiff[-1]=0.0359879185128791, err_opt_reldiff[-1]=0.2583360046989749\n",
      "ii=400, f_reldiff[-1]=0.004023148500027083, err_opt_reldiff[-1]=0.08829612610731122\n",
      "ii=600, f_reldiff[-1]=0.0004823011428717599, err_opt_reldiff[-1]=0.032821168671120504\n",
      "ii=800, f_reldiff[-1]=7.531825207528446e-05, err_opt_reldiff[-1]=0.01414412115660068\n",
      "ii=999, f_reldiff[-1]=1.5847250743672793e-05, err_opt_reldiff[-1]=0.006872577972277801\n"
     ]
    }
   ],
   "source": [
    "params={\"R\":2, \"Inductance\":4, \"Capacitance\":4, \"h\":2.764408907848405}\n",
    "# params={\"R\":18, \"Inductance\":10, \"Capacitance\":1, \"h\":1.0541046971920436}\n",
    "dadmm_c_err_opt_star, dadmm_c_err_opt_reldiff, dadmm_c_const_vio, dadmm_c_f_reldiff = co.dadmm(\"cir_dadmm_c\", problem_spec, problem_data, \n",
    "                                                                                network_data, x_opt_star, f_star, prox_operators=prox_operators,\n",
    "                                                                                fi_operators=fi_operators,\n",
    "                                                                                params=params, printing=True, freq=200)"
   ]
  },
  {
   "cell_type": "code",
   "execution_count": 10,
   "metadata": {},
   "outputs": [
    {
     "data": {
      "image/png": "[encoded data removed]",
      "text/plain": [
       "<Figure size 360x288 with 1 Axes>"
      ]
     },
     "metadata": {
      "needs_background": "light"
     },
     "output_type": "display_data"
    }
   ],
   "source": [
    "fname = \"n6_circuit_dadmm_c\"\n",
    "\n",
    "plt.rc('text', usetex=True)\n",
    "plt.rc('font', family='serif')\n",
    "plt.rcParams[\"legend.fontsize\"] = 10\n",
    "plt.rcParams[\"lines.linewidth\"] = 2\n",
    "plt.rcParams[\"lines.markersize\"] = 4\n",
    "plt.rcParams[\"legend.framealpha\"] = 0.0\n",
    "plt.rcParams[\"xtick.labelsize\"] = 10\n",
    "plt.rcParams[\"ytick.labelsize\"] = 10\n",
    "plt.rcParams[\"mathtext.fontset\"] = 'cm' # default = 'dejavusans', other options = 'cm', 'stixsans', 'dejavuserif'\n",
    "black, red, blue, green = 'dimgrey', 'coral', 'deepskyblue', 'gold'\n",
    "\n",
    "# operator norm plot (log-log plot)\n",
    "plt.figure(figsize=(5,4))\n",
    "plt.minorticks_off()\n",
    "plt.xscale(\"log\")\n",
    "plt.yscale(\"log\")\n",
    "plt.plot(pg_f_reldiff, label='P-EXTRA', color=black, linewidth=1)\n",
    "plt.plot(admm_f_reldiff, label='DADMM', color=blue, linewidth=1)\n",
    "# plt.plot(ciradmm_f_reldiff, label='Circuit DADMM',  color=green, linewidth=2)\n",
    "plt.plot(dadmm_c_f_reldiff, label='Circuit DADMM + C',  color=red, linewidth=2)\n",
    "plt.xlabel(r\"$k$\")\n",
    "plt.ylabel(r\"$|f(x^k) - f^\\star|/f^\\star$\")\n",
    "# plt.ylabel(r\"$\\|\\tilde{\\mathbf{A}}x_k\\|^2_M$\")\n",
    "plt.ylim(1e-11, 1e0)\n",
    "plt.legend()\n",
    "plt.savefig(f'plots/freldif_{fname}.pdf', dpi=300)"
   ]
  },
  {
   "cell_type": "code",
   "execution_count": null,
   "metadata": {},
   "outputs": [],
   "source": []
  }
 ],
 "metadata": {
  "kernelspec": {
   "display_name": "circuits",
   "language": "python",
   "name": "python3"
  },
  "language_info": {
   "codemirror_mode": {
    "name": "ipython",
    "version": 3
   },
   "file_extension": ".py",
   "mimetype": "text/x-python",
   "name": "python",
   "nbconvert_exporter": "python",
   "pygments_lexer": "ipython3",
   "version": "3.8.5"
  }
 },
 "nbformat": 4,
 "nbformat_minor": 2
}
