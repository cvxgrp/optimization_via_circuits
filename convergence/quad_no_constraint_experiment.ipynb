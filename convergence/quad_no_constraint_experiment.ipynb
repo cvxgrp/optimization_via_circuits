{
 "cells": [
  {
   "cell_type": "code",
   "execution_count": 1,
   "metadata": {},
   "outputs": [],
   "source": [
    "import networkx as nx\n",
    "import numpy as np\n",
    "import matplotlib.pyplot as plt\n",
    "import networkx as nx\n",
    "import math\n",
    "import cvxpy as cp\n",
    "\n",
    "from decentr_quad_no_constraint import *\n",
    "import ciropt as co"
   ]
  },
  {
   "cell_type": "code",
   "execution_count": 2,
   "metadata": {},
   "outputs": [
    {
     "name": "stdout",
     "output_type": "stream",
     "text": [
      "{'n_node': 6, 'vector_size': 50, 'sc_theta': 1, 'sc_perturb': True}\n"
     ]
    }
   ],
   "source": [
    "# random seed\n",
    "np.random.seed(108)\n",
    "\n",
    "# data generation\n",
    "problem_spec = {}\n",
    "problem_spec['n_node'] = 6\n",
    "# problem_spec['vector_size'] = 10\n",
    "problem_spec['vector_size'] = 50\n",
    "problem_spec['sc_theta'] = 1\n",
    "problem_spec['sc_perturb'] = True\n",
    "print(problem_spec)\n",
    "problem_data = data_generation(problem_spec)\n",
    "network_data = graph_generation_nodes6()\n",
    "problem_data['itr_num'] = 1000"
   ]
  },
  {
   "cell_type": "code",
   "execution_count": 3,
   "metadata": {},
   "outputs": [
    {
     "name": "stdout",
     "output_type": "stream",
     "text": [
      "[0.5486775703114297, 0.1614201006834665, 1.7800854717920743e-06]\n",
      "[0.6640265857673097, 0.16075196873618725, 5.0895862662585666e-05]\n",
      "[0.6332673964293951, 0.16825257214924896, 0.0003698134298903907]\n",
      "[30.868401511493477, 8.579627133217702, 0.006145278273150111]\n",
      "[32.00152919707241, 8.319404700690912, 8.344109784509626e-05]\n",
      "[0.6592994331941643, 0.16798815433281247, 9.924808285058558e-06]\n"
     ]
    }
   ],
   "source": [
    "Q = problem_data['Q']\n",
    "b = problem_data['b']\n",
    "n_node = problem_spec['n_node']\n",
    "vector_size = problem_spec['vector_size']\n",
    "\n",
    "for j in range(n_node):\n",
    "    U, s, V = np.linalg.svd(Q[j])\n",
    "    print([np.max(s), np.average(s), np.min(s)])"
   ]
  },
  {
   "cell_type": "code",
   "execution_count": 4,
   "metadata": {},
   "outputs": [
    {
     "data": {
      "image/png": "[encoded data removed]",
      "text/plain": [
       "<Figure size 640x480 with 1 Axes>"
      ]
     },
     "metadata": {},
     "output_type": "display_data"
    }
   ],
   "source": [
    "nx.draw(network_data[\"G\"], node_color='skyblue', with_labels=True)\n",
    "plt.savefig(\"plots/graph_n6.pdf\")"
   ]
  },
  {
   "cell_type": "code",
   "execution_count": 5,
   "metadata": {},
   "outputs": [
    {
     "name": "stdout",
     "output_type": "stream",
     "text": [
      "f_star=-8.774589694512048e-05, np.linalg.norm(x_opt_star)=0.00452408499828768\n"
     ]
    }
   ],
   "source": [
    "f_star, x_opt_star = min_cvx_quad_no_constraint(problem_spec, problem_data)\n",
    "print(f\"{f_star=}, {np.linalg.norm(x_opt_star)=}\")"
   ]
  },
  {
   "cell_type": "code",
   "execution_count": 6,
   "metadata": {},
   "outputs": [
    {
     "name": "stdout",
     "output_type": "stream",
     "text": [
      "f_star=-8.774589694512052e-05, np.linalg.norm(x_opt_star)=0.004524084998287679\n"
     ]
    }
   ],
   "source": [
    "f_star, x_opt_star = min_quad_no_constraint(problem_spec, problem_data)\n",
    "print(f\"{f_star=}, {np.linalg.norm(x_opt_star)=}\")"
   ]
  },
  {
   "cell_type": "code",
   "execution_count": 7,
   "metadata": {},
   "outputs": [],
   "source": [
    "Q = problem_data['Q']\n",
    "b = problem_data['b']\n",
    " \n",
    "vector_size = problem_spec['vector_size']\n",
    "n_node = problem_spec['n_node']\n",
    "prox_operators = []\n",
    "fi_operators = []\n",
    "\n",
    "# Define functions and proximal operators to implement the method\n",
    "for jj in range(n_node):\n",
    "    Qj = Q[jj]\n",
    "    bj = b[jj]\n",
    "    # prox_operators += [lambda z, rho: cvx_prox_fj_quad_no_constraint(z, rho, problem_spec, problem_data, jj) ]\n",
    "    prox_operators += [lambda z, rho, Qj=Qj, bj=bj, vector_size=vector_size : prox_fj_quad_no_constraint(z, rho, Qj, bj, vector_size) ]\n",
    "    fi_operators += [lambda x_kj, Qj=Qj, bj=bj : 1/2 * x_kj @ Qj @ x_kj.T + np.dot(bj[0], x_kj) ]\n",
    "\n",
    "    c = np.random.randn(vector_size)\n",
    "    x1 = prox_operators[-1](c, 1/5)\n",
    "    x2 = cvx_prox_fj_quad_no_constraint(c, 1/5, problem_spec, problem_data, jj, eps=1e-4)\n",
    "    assert np.linalg.norm(x1 - x2) / np.linalg.norm(x1) < 1e-5"
   ]
  },
  {
   "cell_type": "code",
   "execution_count": 8,
   "metadata": {},
   "outputs": [
    {
     "name": "stdout",
     "output_type": "stream",
     "text": [
      "new best_R : 0.5 , new best_value : 2.8882519484300507e-16\n",
      "new best_R : 1.0 , new best_value : 2.291037641802802e-16\n",
      "best_R : 1.0\n"
     ]
    }
   ],
   "source": [
    "best_R = 1\n",
    "find_best = True\n",
    "\n",
    "# R = 18\n",
    "# R = 0.1\n",
    "# R = 2\n",
    "# R = 3\n",
    "# R = 1\n",
    "start = 0.5\n",
    "end = 5\n",
    "space = 0.5\n",
    "\n",
    "best_value = 1\n",
    "\n",
    "if find_best == True:\n",
    "    for r in np.arange(start, end, space) :\n",
    "        R = round(r, 2)\n",
    "        # print(\"Testing R :\", r)\n",
    "        admm_err_opt_star, admm_err_opt_reldiff, admm_const_vio, admm_f_reldiff = co.dadmm(\"dadmm\", problem_spec, problem_data, \n",
    "                                                                                network_data, x_opt_star, f_star, prox_operators=prox_operators,\n",
    "                                                                                fi_operators=fi_operators,\n",
    "                                                                                params={\"R\":R}, printing=False, freq=200)\n",
    "        # new_val = sum(admm_f_reldiff[-10:]) / 10\n",
    "        new_val = sum(admm_f_reldiff[-300:]) / 300\n",
    "        if new_val < best_value:\n",
    "            print(\"new best_R :\", r,  \", new best_value :\", new_val)\n",
    "            best_value = new_val\n",
    "            best_R = r\n",
    "\n",
    "print(\"best_R :\", best_R)"
   ]
  },
  {
   "cell_type": "code",
   "execution_count": 9,
   "metadata": {},
   "outputs": [
    {
     "name": "stdout",
     "output_type": "stream",
     "text": [
      "ii=0, f_reldiff[-1]=10.35625484232959\n",
      "ii=200, f_reldiff[-1]=9.649128010118729e-07\n",
      "ii=400, f_reldiff[-1]=1.479341024709252e-12\n",
      "ii=600, f_reldiff[-1]=4.633559275556229e-16\n",
      "ii=800, f_reldiff[-1]=3.089039517037486e-16\n",
      "ii=999, f_reldiff[-1]=0.0\n"
     ]
    }
   ],
   "source": [
    "R = best_R\n",
    "# R = 2\n",
    "admm_err_opt_star, admm_err_opt_reldiff, admm_const_vio, admm_f_reldiff = co.dadmm(\"dadmm\", problem_spec, problem_data, \n",
    "                                                                        network_data, x_opt_star, f_star, prox_operators=prox_operators,\n",
    "                                                                        fi_operators=fi_operators,\n",
    "                                                                        params={\"R\":R}, printing=True, freq=200)\n"
   ]
  },
  {
   "cell_type": "code",
   "execution_count": 10,
   "metadata": {},
   "outputs": [
    {
     "name": "stdout",
     "output_type": "stream",
     "text": [
      "new best_rho : 0.1 new best_value : 1.7308918093800083e-15\n",
      "new best_rho : 0.3 new best_value : 1.1388259019478253e-15\n",
      "best_rho : 0.3\n"
     ]
    }
   ],
   "source": [
    "# apply P-EXTRA \n",
    "best_rho = 1\n",
    "find_best = True\n",
    "\n",
    "# problem_data['rho'] = 0.01\n",
    "# problem_data['rho'] = 0.1\n",
    "# problem_data['rho'] = 0.2\n",
    "# problem_data['rho'] = 0.5\n",
    "\n",
    "start = 0.1\n",
    "end = 2\n",
    "space = 0.1\n",
    "\n",
    "best_value = 1\n",
    "\n",
    "if find_best == True:\n",
    "    for r in np.arange(start, end, space) :\n",
    "        problem_data['rho'] = round(r, 2)\n",
    "        # print(\"Testing rho :\", r)\n",
    "        pg_op_norm, pg_err_opt_star, pg_err_opt_reldiff, pg_const_vio, pg_f_reldiff = p_extra_quad_no_constraint(problem_spec, problem_data, network_data, x_opt_star, f_star, printing=False, freq=200)\n",
    "        # new_val = sum(pg_f_reldiff[-10:]) / 10\n",
    "        new_val = sum(pg_f_reldiff[-300:]) / 300\n",
    "        if new_val < best_value:\n",
    "            print(\"new best_rho :\", round(r, 2),  \"new best_value :\", new_val)\n",
    "            best_value = new_val\n",
    "            best_rho = round(r, 2)\n",
    "\n",
    "print(\"best_rho :\",best_rho)"
   ]
  },
  {
   "cell_type": "code",
   "execution_count": 11,
   "metadata": {},
   "outputs": [
    {
     "name": "stdout",
     "output_type": "stream",
     "text": [
      "ii=0, f_reldiff[-1]=5.573123798850552, err_opt_reldiff[-1]=0.45846049011967116\n",
      "ii=200, f_reldiff[-1]=5.630799425395399e-05, err_opt_reldiff[-1]=1.978868729674025e-05\n",
      "ii=400, f_reldiff[-1]=6.782783540755148e-09, err_opt_reldiff[-1]=2.0197978032191033e-09\n",
      "ii=600, f_reldiff[-1]=6.582743210806883e-13, err_opt_reldiff[-1]=2.509004662939258e-13\n",
      "ii=800, f_reldiff[-1]=3.089039517037486e-16, err_opt_reldiff[-1]=1.2726038978992109e-14\n",
      "ii=999, f_reldiff[-1]=6.178079034074972e-16, err_opt_reldiff[-1]=1.4406784108373598e-14\n"
     ]
    }
   ],
   "source": [
    "problem_data['rho'] = best_rho\n",
    "pg_op_norm, pg_err_opt_star, pg_err_opt_reldiff, pg_const_vio, pg_f_reldiff = p_extra_quad_no_constraint(problem_spec, problem_data, network_data, x_opt_star, f_star, printing=True, freq=200)"
   ]
  },
  {
   "cell_type": "code",
   "execution_count": 12,
   "metadata": {},
   "outputs": [],
   "source": [
    "# params={\"R\":2, \"Inductance\":4, \"Capacitance\":4, \"h\":2.764408907848405}\n",
    "# params={\"R\":18, \"Inductance\":10, \"Capacitance\":1, \"h\":1.0541046971920436}\n",
    "# params={\"R\":18, \"Inductance\":10, \"h\":1.1054814693822324}\n",
    "# dadmm_c_all_err_opt_star, dadmm_c_all_err_opt_reldiff, dadmm_c_all_const_vio, dadmm_c_all_f_reldiff = co.dadmm(\"cir_dadmm_c\", problem_spec, problem_data, \n",
    "#                                                                                 network_data, x_opt_star, f_star, prox_operators=prox_operators,\n",
    "#                                                                                 fi_operators=fi_operators,\n",
    "#                                                                                 params=params, printing=True, sc_index_set={1,2,3,4,5,6}, freq=200)"
   ]
  },
  {
   "cell_type": "code",
   "execution_count": 49,
   "metadata": {},
   "outputs": [
    {
     "name": "stdout",
     "output_type": "stream",
     "text": [
      "ii=0, f_reldiff[-1]=10.35625484232959\n",
      "ii=200, f_reldiff[-1]=5.811297695035388e-08\n",
      "ii=400, f_reldiff[-1]=2.4015737725207935e-12\n",
      "ii=600, f_reldiff[-1]=6.178079034074972e-16\n",
      "ii=800, f_reldiff[-1]=0.0\n",
      "ii=999, f_reldiff[-1]=3.089039517037486e-16\n"
     ]
    }
   ],
   "source": [
    "# params={\"R\":0.5, \"Inductance\":4, \"Capacitance\":16, \"h\":2.764408907848405}\n",
    "# params={\"R\":1, \"Inductance\":4, \"Capacitance\":8, \"h\":2.764408907848405}\n",
    "# params={\"R\":1, \"Inductance\":4, \"Capacitance\":4, \"h\":1.382204453924203}\n",
    "\n",
    "# params={\"R\":3, \"Inductance\":3, \"Capacitance\":8/3, \"h\":1.842939271898937} # worked good for R=3, N(0.5,1)\n",
    "\n",
    "params={\"R\":1, \"Inductance\":6, \"Capacitance\":8, \"h\":5.52881781569681} # worked good for Q[j] = Q[j]*50\n",
    "# params={\"R\":1, \"Inductance\":6, \"Capacitance\":20, \"h\":5.52881781569681} # worked good for Q[j] = Q[j]*50\n",
    "\n",
    "# params={\"R\":2, \"Inductance\":3, \"Capacitance\":4, \"h\":2.764408907848405} # this also works\n",
    "# params={\"R\":2, \"Inductance\":3, \"Capacitance\":3, \"h\":2.764408907848405} # this also works\n",
    "\n",
    "# params={\"R\":2, \"Inductance\":4, \"Capacitance\":4, \"h\":2.764408907848405}\n",
    "# params={\"R\":18, \"Inductance\":10, \"Capacitance\":1, \"h\":1.0541046971920436}\n",
    "# params={\"R\":18, \"Inductance\":10, \"h\":1.1054814693822324}\n",
    "dadmm_c_err_opt_star, dadmm_c_err_opt_reldiff, dadmm_c_const_vio, dadmm_c_f_reldiff  = co.dadmm(\"cir_dadmm_c\", problem_spec, problem_data, \n",
    "                                                                                network_data, x_opt_star, f_star, prox_operators=prox_operators,\n",
    "                                                                                fi_operators=fi_operators,\n",
    "                                                                                params=params, printing=True, sc_index_set={3,4}, freq=200)"
   ]
  },
  {
   "cell_type": "code",
   "execution_count": 50,
   "metadata": {},
   "outputs": [
    {
     "data": {
      "image/png": "[encoded data removed]",
      "text/plain": [
       "<Figure size 500x400 with 1 Axes>"
      ]
     },
     "metadata": {},
     "output_type": "display_data"
    }
   ],
   "source": [
    "fname = \"n6_qp_circuit_dadmm_c\"\n",
    "\n",
    "plt.rc('text', usetex=True)\n",
    "plt.rc('font', family='serif')\n",
    "plt.rcParams[\"legend.fontsize\"] = 10\n",
    "plt.rcParams[\"lines.linewidth\"] = 2\n",
    "plt.rcParams[\"lines.markersize\"] = 4\n",
    "plt.rcParams[\"legend.framealpha\"] = 0.0\n",
    "plt.rcParams[\"xtick.labelsize\"] = 10\n",
    "plt.rcParams[\"ytick.labelsize\"] = 10\n",
    "plt.rcParams[\"mathtext.fontset\"] = 'cm' # default = 'dejavusans', other options = 'cm', 'stixsans', 'dejavuserif'\n",
    "black, red, blue, green = 'dimgrey', 'coral', 'deepskyblue', 'green'\n",
    "\n",
    "# operator norm plot (log-log plot)\n",
    "plt.figure(figsize=(5,4))\n",
    "plt.minorticks_off()\n",
    "plt.xscale(\"log\")\n",
    "plt.yscale(\"log\")\n",
    "plt.plot(pg_f_reldiff, label='P-EXTRA', color=black, linewidth=1)\n",
    "plt.plot(admm_f_reldiff, label='DADMM', color=blue, linewidth=1)\n",
    "# plt.plot(dadmm_c_all_f_reldiff, label='Circuit DADMM + C-All',  color=green, linewidth=1)\n",
    "plt.plot(dadmm_c_f_reldiff, label='Circuit DADMM + C',  color=red, linewidth=2)\n",
    "plt.xlabel(r\"$k$\")\n",
    "plt.ylabel(r\"$|f(x^k) - f^\\star|/|f^\\star|$\")\n",
    "# plt.ylabel(r\"$\\|\\tilde{\\mathbf{A}}x_k\\|^2_M$\")\n",
    "plt.ylim(1e-15, 1e+2)\n",
    "# plt.autoscale(enable=True, axis='y', tight=None)\n",
    "plt.legend()\n",
    "plt.savefig(f'plots/freldif_{fname}.pdf', dpi=300)"
   ]
  },
  {
   "cell_type": "code",
   "execution_count": null,
   "metadata": {},
   "outputs": [],
   "source": []
  }
 ],
 "metadata": {
  "kernelspec": {
   "display_name": "circuits",
   "language": "python",
   "name": "python3"
  },
  "language_info": {
   "codemirror_mode": {
    "name": "ipython",
    "version": 3
   },
   "file_extension": ".py",
   "mimetype": "text/x-python",
   "name": "python",
   "nbconvert_exporter": "python",
   "pygments_lexer": "ipython3",
   "version": "3.11.5"
  }
 },
 "nbformat": 4,
 "nbformat_minor": 2
}
