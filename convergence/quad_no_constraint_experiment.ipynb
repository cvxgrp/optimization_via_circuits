{
 "cells": [
  {
   "cell_type": "code",
   "execution_count": 1,
   "metadata": {},
   "outputs": [],
   "source": [
    "import networkx as nx\n",
    "import numpy as np\n",
    "import matplotlib.pyplot as plt\n",
    "import networkx as nx\n",
    "import math\n",
    "import cvxpy as cp\n",
    "\n",
    "from decentr_quad_no_constraint import *\n",
    "import ciropt as co"
   ]
  },
  {
   "cell_type": "code",
   "execution_count": 2,
   "metadata": {},
   "outputs": [
    {
     "name": "stdout",
     "output_type": "stream",
     "text": [
      "{'n_node': 6, 'vector_size': 10}\n"
     ]
    }
   ],
   "source": [
    "# random seed\n",
    "np.random.seed(108)\n",
    "\n",
    "# data generation\n",
    "problem_spec = {}\n",
    "problem_spec['n_node'] = 6\n",
    "# problem_spec['vector_size'] = 10\n",
    "problem_spec['vector_size'] = 10\n",
    "print(problem_spec)\n",
    "problem_data = data_generation(problem_spec)\n",
    "network_data = graph_generation_nodes6()\n",
    "\n",
    "# problem_data['rho'] = 0.01\n",
    "\n",
    "problem_spec['sc_eps'] = 1\n",
    "\n",
    "# PG-EXTRA hyperparameters\n",
    "problem_data['alpha'] = 2.5\n",
    "problem_data['itr_num'] = 10000"
   ]
  },
  {
   "cell_type": "code",
   "execution_count": 3,
   "metadata": {},
   "outputs": [
    {
     "name": "stdout",
     "output_type": "stream",
     "text": [
      "[0.010018240051248373, 0.010000009426217265]\n",
      "[0.010020333473900297, 0.01000000151481438]\n",
      "[0.010016787631051067, 0.01000001012816897]\n",
      "[0.010018687326139345, 0.010000000919375683]\n",
      "[0.010015290187466348, 0.010000001759092096]\n",
      "[0.010017347156888498, 0.010000009988645107]\n"
     ]
    }
   ],
   "source": [
    "x = cp.Variable(problem_spec['vector_size'])\n",
    "\n",
    "Q = problem_data['Q']\n",
    "b = problem_data['b']\n",
    "\n",
    "for j in range(problem_spec['n_node']):\n",
    "    U, s, V = np.linalg.svd(Q[j])\n",
    "    print([np.max(s), np.min(s)])"
   ]
  },
  {
   "cell_type": "code",
   "execution_count": 4,
   "metadata": {},
   "outputs": [],
   "source": [
    "# nx.draw(network_data[\"G\"], node_color='skyblue', with_labels=True)\n",
    "# plt.savefig(\"plots/graph_n6.pdf\")"
   ]
  },
  {
   "cell_type": "code",
   "execution_count": 5,
   "metadata": {},
   "outputs": [
    {
     "name": "stdout",
     "output_type": "stream",
     "text": [
      "f_star=-726.1590205278219, np.linalg.norm(x_opt_star)=380.78241850349747\n"
     ]
    }
   ],
   "source": [
    "f_star, x_opt_star = min_cvx_quad_no_constraint(problem_spec, problem_data)\n",
    "print(f\"{f_star=}, {np.linalg.norm(x_opt_star)=}\")"
   ]
  },
  {
   "cell_type": "code",
   "execution_count": 6,
   "metadata": {},
   "outputs": [
    {
     "name": "stdout",
     "output_type": "stream",
     "text": [
      "f_star=-726.1590205278219, np.linalg.norm(x_opt_star)=155.45377139274808\n"
     ]
    }
   ],
   "source": [
    "f_star, x_opt_star = min_quad_no_constraint(problem_spec, problem_data)\n",
    "print(f\"{f_star=}, {np.linalg.norm(x_opt_star)=}\")"
   ]
  },
  {
   "cell_type": "code",
   "execution_count": 7,
   "metadata": {},
   "outputs": [],
   "source": [
    "Q = problem_data['Q']\n",
    "b = problem_data['b']\n",
    " \n",
    "vector_size = problem_spec['vector_size']\n",
    "n_node = problem_spec['n_node']\n",
    "eps = problem_spec['sc_eps']\n",
    "prox_operators = []\n",
    "fi_operators = []\n",
    "\n",
    "# Define functions and proximal operators to implement the method\n",
    "for jj in range(n_node):\n",
    "    # prox_operators += [lambda z, alpha: np.squeeze( np.dot( np.linalg.inv(Q[jj] + 1/alpha * np.eye(vector_size)) , ( z - 1/alpha * b[jj] ).T ) ) ]\n",
    "    prox_operators += [lambda z, alpha: prox_fj_quad_no_constraint(z, alpha, problem_spec, problem_data, jj) ]\n",
    "    # prox_operators += [lambda z, alpha:  cvx_prox_fj_quad_no_constraint(z, alpha, problem_spec, problem_data, jj, eps=1e-4)]\n",
    "    fi_operators += [lambda x_kj : (1/2 * x_kj @ Q[jj] @ x_kj.T + b[jj] @ x_kj)[0] ]\n",
    "\n",
    "    z = np.random.randn(vector_size)\n",
    "    x1 = prox_fj_quad_no_constraint(z, 1/5, problem_spec, problem_data, jj)\n",
    "    x2 = cvx_prox_fj_quad_no_constraint(z, 1/5, problem_spec, problem_data, jj, eps=1e-4)\n",
    "    assert np.linalg.norm(x1 - x2) / np.linalg.norm(x1) < 1e-5"
   ]
  },
  {
   "cell_type": "code",
   "execution_count": 8,
   "metadata": {},
   "outputs": [],
   "source": [
    "# params={\"R\":18, \"Inductance\":10, \"Capacitance\":1, \"h\":1.0541046971920436}\n",
    "# dadmm_c_err_opt_star, dadmm_c_err_opt_reldiff, dadmm_c_const_vio, dadmm_c_f_reldiff = co.dadmm(\"cir_dadmm_c\", problem_spec, problem_data, \n",
    "#                                                                                 network_data, x_opt_star, f_star, prox_operators=prox_operators,\n",
    "#                                                                                 fi_operators=fi_operators,\n",
    "#                                                                                 params=params, printing=True, freq=200)"
   ]
  },
  {
   "cell_type": "code",
   "execution_count": 9,
   "metadata": {},
   "outputs": [
    {
     "name": "stdout",
     "output_type": "stream",
     "text": [
      "ii=0, f_reldiff[-1]=0.9877761938785525, err_opt_reldiff[-1]=0.9926277424374973\n",
      "ii=200, f_reldiff[-1]=0.47378621350626215, err_opt_reldiff[-1]=0.5461287214071036\n",
      "ii=400, f_reldiff[-1]=0.45298662458057387, err_opt_reldiff[-1]=0.4926938872445658\n",
      "ii=600, f_reldiff[-1]=0.45215069224960497, err_opt_reldiff[-1]=0.4847418526486671\n",
      "ii=800, f_reldiff[-1]=0.45211709607661643, err_opt_reldiff[-1]=0.48327490345775265\n",
      "ii=1000, f_reldiff[-1]=0.4521157458370925, err_opt_reldiff[-1]=0.48298671922512093\n",
      "ii=1200, f_reldiff[-1]=0.4521156915703001, err_opt_reldiff[-1]=0.48292932192697013\n",
      "ii=1400, f_reldiff[-1]=0.4521156893892793, err_opt_reldiff[-1]=0.48291785809987336\n",
      "ii=1600, f_reldiff[-1]=0.45211568930162216, err_opt_reldiff[-1]=0.482915567182423\n",
      "ii=1800, f_reldiff[-1]=0.4521156892980991, err_opt_reldiff[-1]=0.4829151093212636\n",
      "ii=2000, f_reldiff[-1]=0.4521156892979575, err_opt_reldiff[-1]=0.4829150178124299\n",
      "ii=2200, f_reldiff[-1]=0.45211568929795176, err_opt_reldiff[-1]=0.482914999523476\n",
      "ii=2400, f_reldiff[-1]=0.45211568929795165, err_opt_reldiff[-1]=0.4829149958682845\n",
      "ii=2600, f_reldiff[-1]=0.45211568929795165, err_opt_reldiff[-1]=0.482914995137781\n",
      "ii=2800, f_reldiff[-1]=0.45211568929795165, err_opt_reldiff[-1]=0.4829149949917873\n",
      "ii=3000, f_reldiff[-1]=0.45211568929795165, err_opt_reldiff[-1]=0.48291499496259715\n",
      "ii=3200, f_reldiff[-1]=0.4521156892979515, err_opt_reldiff[-1]=0.48291499495676454\n",
      "ii=3400, f_reldiff[-1]=0.4521156892979515, err_opt_reldiff[-1]=0.4829149949555992\n",
      "ii=3600, f_reldiff[-1]=0.45211568929795154, err_opt_reldiff[-1]=0.48291499495537094\n",
      "ii=3800, f_reldiff[-1]=0.45211568929795154, err_opt_reldiff[-1]=0.4829149949553187\n",
      "ii=4000, f_reldiff[-1]=0.45211568929795154, err_opt_reldiff[-1]=0.48291499495530166\n",
      "ii=4200, f_reldiff[-1]=0.45211568929795165, err_opt_reldiff[-1]=0.4829149949552954\n",
      "ii=4400, f_reldiff[-1]=0.4521156892979515, err_opt_reldiff[-1]=0.4829149949552963\n",
      "ii=4600, f_reldiff[-1]=0.4521156892979515, err_opt_reldiff[-1]=0.4829149949552924\n",
      "ii=4800, f_reldiff[-1]=0.45211568929795165, err_opt_reldiff[-1]=0.48291499495529144\n",
      "ii=5000, f_reldiff[-1]=0.4521156892979515, err_opt_reldiff[-1]=0.48291499495529083\n",
      "ii=5200, f_reldiff[-1]=0.4521156892979515, err_opt_reldiff[-1]=0.48291499495529083\n",
      "ii=5400, f_reldiff[-1]=0.4521156892979515, err_opt_reldiff[-1]=0.48291499495529083\n",
      "ii=5600, f_reldiff[-1]=0.4521156892979515, err_opt_reldiff[-1]=0.48291499495529083\n",
      "ii=5800, f_reldiff[-1]=0.4521156892979515, err_opt_reldiff[-1]=0.48291499495529083\n",
      "ii=6000, f_reldiff[-1]=0.4521156892979515, err_opt_reldiff[-1]=0.48291499495529083\n",
      "ii=6200, f_reldiff[-1]=0.4521156892979515, err_opt_reldiff[-1]=0.48291499495529083\n",
      "ii=6400, f_reldiff[-1]=0.4521156892979515, err_opt_reldiff[-1]=0.48291499495529083\n",
      "ii=6600, f_reldiff[-1]=0.4521156892979515, err_opt_reldiff[-1]=0.48291499495529083\n",
      "ii=6800, f_reldiff[-1]=0.4521156892979515, err_opt_reldiff[-1]=0.48291499495529083\n",
      "ii=7000, f_reldiff[-1]=0.4521156892979515, err_opt_reldiff[-1]=0.48291499495529083\n",
      "ii=7200, f_reldiff[-1]=0.4521156892979515, err_opt_reldiff[-1]=0.48291499495529083\n",
      "ii=7400, f_reldiff[-1]=0.4521156892979515, err_opt_reldiff[-1]=0.48291499495529083\n",
      "ii=7600, f_reldiff[-1]=0.4521156892979515, err_opt_reldiff[-1]=0.48291499495529083\n",
      "ii=7800, f_reldiff[-1]=0.4521156892979515, err_opt_reldiff[-1]=0.48291499495529083\n",
      "ii=8000, f_reldiff[-1]=0.4521156892979515, err_opt_reldiff[-1]=0.48291499495529083\n",
      "ii=8200, f_reldiff[-1]=0.4521156892979515, err_opt_reldiff[-1]=0.48291499495529083\n",
      "ii=8400, f_reldiff[-1]=0.4521156892979515, err_opt_reldiff[-1]=0.48291499495529083\n",
      "ii=8600, f_reldiff[-1]=0.4521156892979515, err_opt_reldiff[-1]=0.48291499495529083\n",
      "ii=8800, f_reldiff[-1]=0.4521156892979515, err_opt_reldiff[-1]=0.48291499495529083\n",
      "ii=9000, f_reldiff[-1]=0.4521156892979515, err_opt_reldiff[-1]=0.48291499495529083\n",
      "ii=9200, f_reldiff[-1]=0.4521156892979515, err_opt_reldiff[-1]=0.48291499495529083\n",
      "ii=9400, f_reldiff[-1]=0.4521156892979515, err_opt_reldiff[-1]=0.48291499495529083\n",
      "ii=9600, f_reldiff[-1]=0.4521156892979515, err_opt_reldiff[-1]=0.48291499495529083\n",
      "ii=9800, f_reldiff[-1]=0.4521156892979515, err_opt_reldiff[-1]=0.48291499495529083\n",
      "ii=9999, f_reldiff[-1]=0.4521156892979515, err_opt_reldiff[-1]=0.4829149949552908\n"
     ]
    }
   ],
   "source": [
    "params={\"R\":2, \"Inductance\":4, \"Capacitance\":4, \"h\":2.764408907848405}\n",
    "dadmm_c_err_opt_star, dadmm_c_err_opt_reldiff, dadmm_c_const_vio, dadmm_c_f_reldiff = co.dadmm(\"cir_dadmm_c\", problem_spec, problem_data, \n",
    "                                                                                network_data, x_opt_star, f_star, prox_operators=prox_operators,\n",
    "                                                                                fi_operators=fi_operators,\n",
    "                                                                                params=params, printing=True, freq=200)"
   ]
  },
  {
   "cell_type": "code",
   "execution_count": 10,
   "metadata": {},
   "outputs": [],
   "source": [
    "# R = 10\n",
    "# admm_err_opt_star, admm_err_opt_reldiff, admm_const_vio, admm_f_reldiff = co.dadmm(\"dadmm\", problem_spec, problem_data, \n",
    "#                                                                                 network_data, x_opt_star, f_star, prox_operators=prox_operators,\n",
    "#                                                                                 fi_operators=fi_operators,\n",
    "#                                                                                 params={\"R\":R}, printing=True, freq=200)"
   ]
  },
  {
   "cell_type": "code",
   "execution_count": 11,
   "metadata": {},
   "outputs": [
    {
     "name": "stdout",
     "output_type": "stream",
     "text": [
      "ii=0, f_reldiff[-1]=0.9877761938785525, err_opt_reldiff[-1]=0.9926277424374973\n",
      "ii=200, f_reldiff[-1]=0.46976305015206193, err_opt_reldiff[-1]=0.5385091909214765\n",
      "ii=400, f_reldiff[-1]=0.4526938138406181, err_opt_reldiff[-1]=0.4907602429606619\n",
      "ii=600, f_reldiff[-1]=0.4521346286739542, err_opt_reldiff[-1]=0.4842516842562634\n",
      "ii=800, f_reldiff[-1]=0.4521163097561854, err_opt_reldiff[-1]=0.4831535387973362\n",
      "ii=1000, f_reldiff[-1]=0.4521157096244267, err_opt_reldiff[-1]=0.4829579463002173\n",
      "ii=1200, f_reldiff[-1]=0.4521156899638597, err_opt_reldiff[-1]=0.482922741206725\n",
      "ii=1400, f_reldiff[-1]=0.45211568931976737, err_opt_reldiff[-1]=0.4829163923859469\n",
      "ii=1600, f_reldiff[-1]=0.45211568929866625, err_opt_reldiff[-1]=0.4829152470633325\n",
      "ii=1800, f_reldiff[-1]=0.45211568929797513, err_opt_reldiff[-1]=0.48291504043750194\n",
      "ii=2000, f_reldiff[-1]=0.45211568929795226, err_opt_reldiff[-1]=0.4829150031605288\n",
      "ii=2200, f_reldiff[-1]=0.45211568929795165, err_opt_reldiff[-1]=0.48291499643554464\n",
      "ii=2400, f_reldiff[-1]=0.45211568929795165, err_opt_reldiff[-1]=0.4829149952223302\n",
      "ii=2600, f_reldiff[-1]=0.45211568929795165, err_opt_reldiff[-1]=0.4829149950034665\n",
      "ii=2800, f_reldiff[-1]=0.45211568929795165, err_opt_reldiff[-1]=0.4829149949639866\n",
      "ii=3000, f_reldiff[-1]=0.4521156892979515, err_opt_reldiff[-1]=0.48291499495686013\n",
      "ii=3200, f_reldiff[-1]=0.45211568929795154, err_opt_reldiff[-1]=0.4829149949555726\n",
      "ii=3400, f_reldiff[-1]=0.45211568929795165, err_opt_reldiff[-1]=0.48291499495533863\n",
      "ii=3600, f_reldiff[-1]=0.45211568929795165, err_opt_reldiff[-1]=0.4829149949552876\n",
      "ii=3800, f_reldiff[-1]=0.45211568929795176, err_opt_reldiff[-1]=0.48291499495526635\n",
      "ii=4000, f_reldiff[-1]=0.45211568929795165, err_opt_reldiff[-1]=0.4829149949552538\n",
      "ii=4200, f_reldiff[-1]=0.45211568929795165, err_opt_reldiff[-1]=0.48291499495523926\n",
      "ii=4400, f_reldiff[-1]=0.4521156892979515, err_opt_reldiff[-1]=0.4829149949552269\n",
      "ii=4600, f_reldiff[-1]=0.45211568929795165, err_opt_reldiff[-1]=0.48291499495521567\n",
      "ii=4800, f_reldiff[-1]=0.45211568929795165, err_opt_reldiff[-1]=0.48291499495520546\n",
      "ii=5000, f_reldiff[-1]=0.45211568929795154, err_opt_reldiff[-1]=0.4829149949551991\n",
      "ii=5200, f_reldiff[-1]=0.45211568929795165, err_opt_reldiff[-1]=0.48291499495519774\n",
      "ii=5400, f_reldiff[-1]=0.45211568929795165, err_opt_reldiff[-1]=0.48291499495519685\n",
      "ii=5600, f_reldiff[-1]=0.4521156892979515, err_opt_reldiff[-1]=0.48291499495519746\n",
      "ii=5800, f_reldiff[-1]=0.45211568929795154, err_opt_reldiff[-1]=0.4829149949551993\n",
      "ii=6000, f_reldiff[-1]=0.45211568929795165, err_opt_reldiff[-1]=0.48291499495520096\n",
      "ii=6200, f_reldiff[-1]=0.4521156892979515, err_opt_reldiff[-1]=0.48291499495520285\n",
      "ii=6400, f_reldiff[-1]=0.45211568929795154, err_opt_reldiff[-1]=0.4829149949552046\n",
      "ii=6600, f_reldiff[-1]=0.45211568929795165, err_opt_reldiff[-1]=0.4829149949552064\n",
      "ii=6800, f_reldiff[-1]=0.4521156892979515, err_opt_reldiff[-1]=0.4829149949552092\n",
      "ii=7000, f_reldiff[-1]=0.4521156892979515, err_opt_reldiff[-1]=0.4829149949552172\n",
      "ii=7200, f_reldiff[-1]=0.45211568929795165, err_opt_reldiff[-1]=0.48291499495522905\n",
      "ii=7400, f_reldiff[-1]=0.45211568929795165, err_opt_reldiff[-1]=0.4829149949552408\n",
      "ii=7600, f_reldiff[-1]=0.45211568929795165, err_opt_reldiff[-1]=0.48291499495525264\n",
      "ii=7800, f_reldiff[-1]=0.45211568929795165, err_opt_reldiff[-1]=0.4829149949552644\n",
      "ii=8000, f_reldiff[-1]=0.45211568929795154, err_opt_reldiff[-1]=0.48291499495527596\n",
      "ii=8200, f_reldiff[-1]=0.45211568929795165, err_opt_reldiff[-1]=0.48291499495528756\n",
      "ii=8400, f_reldiff[-1]=0.45211568929795154, err_opt_reldiff[-1]=0.482914994955299\n",
      "ii=8600, f_reldiff[-1]=0.45211568929795165, err_opt_reldiff[-1]=0.48291499495531076\n",
      "ii=8800, f_reldiff[-1]=0.45211568929795165, err_opt_reldiff[-1]=0.4829149949553223\n",
      "ii=9000, f_reldiff[-1]=0.45211568929795165, err_opt_reldiff[-1]=0.48291499495533396\n",
      "ii=9200, f_reldiff[-1]=0.45211568929795165, err_opt_reldiff[-1]=0.48291499495534534\n",
      "ii=9400, f_reldiff[-1]=0.45211568929795165, err_opt_reldiff[-1]=0.4829149949553567\n",
      "ii=9600, f_reldiff[-1]=0.45211568929795165, err_opt_reldiff[-1]=0.48291499495536755\n",
      "ii=9800, f_reldiff[-1]=0.45211568929795165, err_opt_reldiff[-1]=0.4829149949553699\n",
      "ii=9999, f_reldiff[-1]=0.45211568929795154, err_opt_reldiff[-1]=0.4829149949553684\n"
     ]
    }
   ],
   "source": [
    "R = 2\n",
    "admm_err_opt_star, admm_err_opt_reldiff, admm_const_vio, admm_f_reldiff = co.dadmm(\"dadmm\", problem_spec, problem_data, \n",
    "                                                                                network_data, x_opt_star, f_star, prox_operators=prox_operators,\n",
    "                                                                                fi_operators=fi_operators,\n",
    "                                                                                params={\"R\":R}, printing=True, freq=200)"
   ]
  },
  {
   "cell_type": "code",
   "execution_count": 12,
   "metadata": {},
   "outputs": [],
   "source": [
    "# R = 1\n",
    "# admm_err_opt_star, admm_err_opt_reldiff, admm_const_vio, admm_f_reldiff = co.dadmm(\"dadmm\", problem_spec, problem_data, \n",
    "#                                                                                 network_data, x_opt_star, f_star, prox_operators=prox_operators,\n",
    "#                                                                                 fi_operators=fi_operators,\n",
    "#                                                                                 params={\"R\":R}, printing=True, freq=200)"
   ]
  },
  {
   "cell_type": "code",
   "execution_count": 13,
   "metadata": {},
   "outputs": [],
   "source": [
    "# params={\"R\":18, \"Inductance\":10, \"h\":1.1054814693822324}\n",
    "# ciradmm_err_opt_star, ciradmm_err_opt_reldiff, ciradmm_const_vio, ciradmm_f_reldiff = co.dadmm(\"cir_dadmm\", problem_spec, problem_data, \n",
    "#                                                                                 network_data, x_opt_star, f_star, prox_operators=prox_operators,\n",
    "#                                                                                 fi_operators=fi_operators,\n",
    "#                                                                                 params=params, printing=True, freq=200)"
   ]
  },
  {
   "cell_type": "code",
   "execution_count": 14,
   "metadata": {},
   "outputs": [],
   "source": [
    "# apply P-EXTRA \n",
    "# problem_data['alpha'] = 0.5\n",
    "# pg_op_norm, pg_err_opt_star, pg_err_opt_reldiff, pg_const_vio, pg_f_reldiff = p_extra_quad_no_constraint( problem_spec, problem_data, network_data, x_opt_star, f_star, printing=True, freq=200)\n",
    "\n",
    "# p_extra_quad_no_constraint(problem_spec, problem_data, network_data, x_opt_star, f_star, printing=False, freq=200, params=None)"
   ]
  },
  {
   "cell_type": "code",
   "execution_count": 15,
   "metadata": {},
   "outputs": [
    {
     "name": "stdout",
     "output_type": "stream",
     "text": [
      "ii=0, f_reldiff[-1]=0.9742234248342336, err_opt_reldiff[-1]=0.9900982253217001\n",
      "ii=200, f_reldiff[-1]=0.018196495910063917, err_opt_reldiff[-1]=0.13489446355935109\n",
      "ii=400, f_reldiff[-1]=0.00033778122982673956, err_opt_reldiff[-1]=0.018378801268003772\n",
      "ii=600, f_reldiff[-1]=6.270370440846026e-06, err_opt_reldiff[-1]=0.0025040373287154517\n",
      "ii=800, f_reldiff[-1]=1.164180102574201e-07, err_opt_reldiff[-1]=0.00034116539921923443\n",
      "ii=1000, f_reldiff[-1]=2.16395350144972e-09, err_opt_reldiff[-1]=4.6482525398812e-05\n",
      "ii=1200, f_reldiff[-1]=4.056197035582877e-11, err_opt_reldiff[-1]=6.333079247202318e-06\n",
      "ii=1400, f_reldiff[-1]=8.062796133011616e-13, err_opt_reldiff[-1]=8.628589979865026e-07\n",
      "ii=1600, f_reldiff[-1]=2.191828074993449e-14, err_opt_reldiff[-1]=1.1755955193585469e-07\n",
      "ii=1800, f_reldiff[-1]=1.2524731857105424e-15, err_opt_reldiff[-1]=1.6014556629220174e-08\n",
      "ii=2000, f_reldiff[-1]=0.0, err_opt_reldiff[-1]=2.1790406023274436e-09\n",
      "ii=2200, f_reldiff[-1]=0.0, err_opt_reldiff[-1]=2.9367664738016714e-10\n",
      "ii=2400, f_reldiff[-1]=1.565591482138178e-16, err_opt_reldiff[-1]=3.6488561160974534e-11\n",
      "ii=2600, f_reldiff[-1]=0.0, err_opt_reldiff[-1]=1.1428134284790585e-12\n",
      "ii=2800, f_reldiff[-1]=0.0, err_opt_reldiff[-1]=4.0032639056285564e-12\n",
      "ii=3000, f_reldiff[-1]=0.0, err_opt_reldiff[-1]=5.0184643050989954e-12\n",
      "ii=3200, f_reldiff[-1]=0.0, err_opt_reldiff[-1]=5.474589204173977e-12\n",
      "ii=3400, f_reldiff[-1]=0.0, err_opt_reldiff[-1]=5.8499331366080926e-12\n",
      "ii=3600, f_reldiff[-1]=1.565591482138178e-16, err_opt_reldiff[-1]=6.213039427662704e-12\n",
      "ii=3800, f_reldiff[-1]=0.0, err_opt_reldiff[-1]=6.57489054927189e-12\n",
      "ii=4000, f_reldiff[-1]=0.0, err_opt_reldiff[-1]=6.936933814718072e-12\n",
      "ii=4200, f_reldiff[-1]=3.131182964276356e-16, err_opt_reldiff[-1]=7.301063638535075e-12\n",
      "ii=4400, f_reldiff[-1]=0.0, err_opt_reldiff[-1]=7.662025581298843e-12\n",
      "ii=4600, f_reldiff[-1]=0.0, err_opt_reldiff[-1]=8.023496036223732e-12\n",
      "ii=4800, f_reldiff[-1]=0.0, err_opt_reldiff[-1]=8.385074301455923e-12\n",
      "ii=5000, f_reldiff[-1]=1.565591482138178e-16, err_opt_reldiff[-1]=8.74582135180686e-12\n",
      "ii=5200, f_reldiff[-1]=0.0, err_opt_reldiff[-1]=9.108891523471227e-12\n",
      "ii=5400, f_reldiff[-1]=0.0, err_opt_reldiff[-1]=9.473650171426107e-12\n",
      "ii=5600, f_reldiff[-1]=4.696774446414534e-16, err_opt_reldiff[-1]=9.836212743178621e-12\n",
      "ii=5800, f_reldiff[-1]=3.131182964276356e-16, err_opt_reldiff[-1]=1.019959436787705e-11\n",
      "ii=6000, f_reldiff[-1]=1.565591482138178e-16, err_opt_reldiff[-1]=1.0563089602310778e-11\n",
      "ii=6200, f_reldiff[-1]=0.0, err_opt_reldiff[-1]=1.092484369043035e-11\n",
      "ii=6400, f_reldiff[-1]=0.0, err_opt_reldiff[-1]=1.128769967427969e-11\n",
      "ii=6600, f_reldiff[-1]=0.0, err_opt_reldiff[-1]=1.1653718165792262e-11\n",
      "ii=6800, f_reldiff[-1]=1.565591482138178e-16, err_opt_reldiff[-1]=1.202010317602085e-11\n",
      "ii=7000, f_reldiff[-1]=1.565591482138178e-16, err_opt_reldiff[-1]=1.238572281680418e-11\n",
      "ii=7200, f_reldiff[-1]=1.565591482138178e-16, err_opt_reldiff[-1]=1.2749048315125021e-11\n",
      "ii=7400, f_reldiff[-1]=1.565591482138178e-16, err_opt_reldiff[-1]=1.3109997164477881e-11\n",
      "ii=7600, f_reldiff[-1]=0.0, err_opt_reldiff[-1]=1.347405522548314e-11\n",
      "ii=7800, f_reldiff[-1]=1.565591482138178e-16, err_opt_reldiff[-1]=1.383792116229779e-11\n",
      "ii=8000, f_reldiff[-1]=1.565591482138178e-16, err_opt_reldiff[-1]=1.420270054580995e-11\n",
      "ii=8200, f_reldiff[-1]=1.565591482138178e-16, err_opt_reldiff[-1]=1.45679115679583e-11\n",
      "ii=8400, f_reldiff[-1]=1.565591482138178e-16, err_opt_reldiff[-1]=1.4933181860915382e-11\n",
      "ii=8600, f_reldiff[-1]=0.0, err_opt_reldiff[-1]=1.529859817495221e-11\n",
      "ii=8800, f_reldiff[-1]=1.565591482138178e-16, err_opt_reldiff[-1]=1.5660339496150666e-11\n",
      "ii=9000, f_reldiff[-1]=1.565591482138178e-16, err_opt_reldiff[-1]=1.6025009227682578e-11\n",
      "ii=9200, f_reldiff[-1]=1.565591482138178e-16, err_opt_reldiff[-1]=1.6390649831074925e-11\n",
      "ii=9400, f_reldiff[-1]=0.0, err_opt_reldiff[-1]=1.675551124040348e-11\n",
      "ii=9600, f_reldiff[-1]=1.565591482138178e-16, err_opt_reldiff[-1]=1.711873669388984e-11\n",
      "ii=9800, f_reldiff[-1]=0.0, err_opt_reldiff[-1]=1.7482512570397487e-11\n",
      "ii=9999, f_reldiff[-1]=1.565591482138178e-16, err_opt_reldiff[-1]=1.7844283779016332e-11\n"
     ]
    }
   ],
   "source": [
    "# apply P-EXTRA \n",
    "problem_data['alpha'] = 1\n",
    "pg_op_norm, pg_err_opt_star, pg_err_opt_reldiff, pg_const_vio, pg_f_reldiff = p_extra_quad_no_constraint(problem_spec, problem_data, network_data, x_opt_star, f_star, printing=True, freq=200)"
   ]
  },
  {
   "cell_type": "code",
   "execution_count": 16,
   "metadata": {},
   "outputs": [
    {
     "data": {
      "text/plain": [
       "<matplotlib.legend.Legend at 0x27d7639d850>"
      ]
     },
     "execution_count": 16,
     "metadata": {},
     "output_type": "execute_result"
    },
    {
     "data": {
      "image/png": "[encoded data removed]",
      "text/plain": [
       "<Figure size 500x400 with 1 Axes>"
      ]
     },
     "metadata": {},
     "output_type": "display_data"
    }
   ],
   "source": [
    "fname = \"n6_circuit_dadmm_c\"\n",
    "\n",
    "\n",
    "\n",
    "plt.rc('text', usetex=True)\n",
    "plt.rc('font', family='serif')\n",
    "plt.rcParams[\"legend.fontsize\"] = 10\n",
    "plt.rcParams[\"lines.linewidth\"] = 2\n",
    "plt.rcParams[\"lines.markersize\"] = 4\n",
    "plt.rcParams[\"legend.framealpha\"] = 0.0\n",
    "plt.rcParams[\"xtick.labelsize\"] = 10\n",
    "plt.rcParams[\"ytick.labelsize\"] = 10\n",
    "plt.rcParams[\"mathtext.fontset\"] = 'cm' # default = 'dejavusans', other options = 'cm', 'stixsans', 'dejavuserif'\n",
    "black, red, blue, green = 'dimgrey', 'coral', 'deepskyblue', 'gold'\n",
    "\n",
    "# operator norm plot (log-log plot)\n",
    "plt.figure(figsize=(5,4))\n",
    "plt.minorticks_off()\n",
    "plt.xscale(\"log\")\n",
    "# plt.yscale(\"log\")\n",
    "plt.plot(pg_f_reldiff, label='P-EXTRA', color=black, linewidth=3)\n",
    "plt.plot(admm_f_reldiff, label='DADMM', color=blue, linewidth=3)\n",
    "# plt.plot(ciradmm_f_reldiff, label='Circuit DADMM',  color=green, linewidth=2)\n",
    "plt.plot(dadmm_c_f_reldiff, label='Circuit DADMM + C',  color=red, linewidth=2)\n",
    "plt.xlabel(r\"$k$\")\n",
    "plt.ylabel(r\"$|f(x^k) - f^\\star|/|f^\\star|$\")\n",
    "# plt.ylabel(r\"$\\|\\tilde{\\mathbf{A}}x_k\\|^2_M$\")\n",
    "plt.ylim(1e-10, 1e0)\n",
    "plt.legend()\n",
    "# plt.savefig(f'plots/freldif_{fname}.pdf', dpi=300)"
   ]
  },
  {
   "cell_type": "code",
   "execution_count": null,
   "metadata": {},
   "outputs": [],
   "source": []
  }
 ],
 "metadata": {
  "kernelspec": {
   "display_name": "circuits",
   "language": "python",
   "name": "python3"
  },
  "language_info": {
   "codemirror_mode": {
    "name": "ipython",
    "version": 3
   },
   "file_extension": ".py",
   "mimetype": "text/x-python",
   "name": "python",
   "nbconvert_exporter": "python",
   "pygments_lexer": "ipython3",
   "version": "3.11.5"
  }
 },
 "nbformat": 4,
 "nbformat_minor": 2
}
