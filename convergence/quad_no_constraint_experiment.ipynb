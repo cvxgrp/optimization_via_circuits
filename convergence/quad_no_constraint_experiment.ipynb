{
 "cells": [
  {
   "cell_type": "code",
   "execution_count": 1,
   "metadata": {},
   "outputs": [],
   "source": [
    "import networkx as nx\n",
    "import numpy as np\n",
    "import matplotlib.pyplot as plt\n",
    "import networkx as nx\n",
    "import math\n",
    "import cvxpy as cp\n",
    "\n",
    "from decentr_quad_no_constraint import *\n",
    "import ciropt as co"
   ]
  },
  {
   "cell_type": "code",
   "execution_count": 2,
   "metadata": {},
   "outputs": [
    {
     "name": "stdout",
     "output_type": "stream",
     "text": [
      "{'n_node': 6, 'vector_size': 1}\n"
     ]
    }
   ],
   "source": [
    "# random seed\n",
    "np.random.seed(108)\n",
    "\n",
    "# data generation\n",
    "problem_spec = {}\n",
    "problem_spec['n_node'] = 6\n",
    "# problem_spec['vector_size'] = 10\n",
    "# problem_spec['vector_size'] = 50\n",
    "problem_spec['vector_size'] = 1\n",
    "print(problem_spec)\n",
    "problem_data = data_generation(problem_spec)\n",
    "network_data = graph_generation_nodes6()\n",
    "\n",
    "problem_spec['sc_eps'] = 1\n",
    "\n",
    "# PG-EXTRA hyperparameters\n",
    "problem_data['rho'] = 2.5\n",
    "problem_data['itr_num'] = 1000"
   ]
  },
  {
   "cell_type": "code",
   "execution_count": 3,
   "metadata": {},
   "outputs": [
    {
     "name": "stdout",
     "output_type": "stream",
     "text": [
      "[0.007884780763549431, 0.007884780763549431]\n",
      "[0.024088320716741357, 0.024088320716741357]\n",
      "[0.0007126931518394324, 0.0007126931518394324]\n",
      "[0.11528402360213955, 0.11528402360213955]\n",
      "[0.10385398673276386, 0.10385398673276386]\n",
      "[0.0037484982153688498, 0.0037484982153688498]\n"
     ]
    }
   ],
   "source": [
    "Q = problem_data['Q']\n",
    "b = problem_data['b']\n",
    "n_node = problem_spec['n_node']\n",
    "vector_size = problem_spec['vector_size']\n",
    "\n",
    "for j in range(n_node):\n",
    "    U, s, V = np.linalg.svd(Q[j])\n",
    "    print([np.max(s), np.min(s)])"
   ]
  },
  {
   "cell_type": "code",
   "execution_count": 4,
   "metadata": {},
   "outputs": [
    {
     "data": {
      "image/png": "[encoded data removed]",
      "text/plain": [
       "<Figure size 432x288 with 1 Axes>"
      ]
     },
     "metadata": {},
     "output_type": "display_data"
    }
   ],
   "source": [
    "nx.draw(network_data[\"G\"], node_color='skyblue', with_labels=True)\n",
    "plt.savefig(\"plots/graph_n6.pdf\")"
   ]
  },
  {
   "cell_type": "code",
   "execution_count": 5,
   "metadata": {},
   "outputs": [
    {
     "name": "stdout",
     "output_type": "stream",
     "text": [
      "f_star=-70.43016702460658, np.linalg.norm(x_opt_star)=57.50599056975996\n"
     ]
    }
   ],
   "source": [
    "f_star, x_opt_star = min_cvx_quad_no_constraint(problem_spec, problem_data)\n",
    "print(f\"{f_star=}, {np.linalg.norm(x_opt_star)=}\")"
   ]
  },
  {
   "cell_type": "code",
   "execution_count": 6,
   "metadata": {},
   "outputs": [
    {
     "name": "stdout",
     "output_type": "stream",
     "text": [
      "[[0.2555723]]\n",
      "[[6.]]\n",
      "[-23.47672234]\n",
      "f_star=array([-70.43016702]), np.linalg.norm(x_opt_star)=23.476722341535535\n"
     ]
    }
   ],
   "source": [
    "f_star, x_opt_star = min_quad_no_constraint(problem_spec, problem_data)\n",
    "print(f\"{f_star=}, {np.linalg.norm(x_opt_star)=}\")"
   ]
  },
  {
   "cell_type": "code",
   "execution_count": 7,
   "metadata": {},
   "outputs": [
    {
     "data": {
      "text/plain": [
       "array([1.31446859])"
      ]
     },
     "execution_count": 7,
     "metadata": {},
     "output_type": "execute_result"
    }
   ],
   "source": [
    "c = np.random.randn(vector_size)\n",
    "c"
   ]
  },
  {
   "cell_type": "code",
   "execution_count": 8,
   "metadata": {},
   "outputs": [
    {
     "data": {
      "text/plain": [
       "[array([[1.]]),\n",
       " array([[1.]]),\n",
       " array([[1.]]),\n",
       " array([[1.]]),\n",
       " array([[1.]]),\n",
       " array([[1.]])]"
      ]
     },
     "execution_count": 8,
     "metadata": {},
     "output_type": "execute_result"
    }
   ],
   "source": [
    "b"
   ]
  },
  {
   "cell_type": "code",
   "execution_count": 9,
   "metadata": {},
   "outputs": [
    {
     "name": "stdout",
     "output_type": "stream",
     "text": [
      "1.3212803575560326\n",
      "1.3352788198538645\n",
      "1.3150842918617893\n",
      "1.4140640490231278\n",
      "1.4041894820679441\n",
      "1.317706965848347\n"
     ]
    }
   ],
   "source": [
    "def fi(x,jj):\n",
    "    return 1/2 * x @ Q[jj] @ x.T + np.dot(b[jj][0], x)\n",
    "\n",
    "\n",
    "# fi(c,1)\n",
    "\n",
    "fi_operators = []\n",
    "for jj in range(n_node):\n",
    "    fi_operators += [lambda x_kj : fi(x_kj,jj) ]\n",
    "    print(fi_operators[-1](c))"
   ]
  },
  {
   "cell_type": "code",
   "execution_count": 10,
   "metadata": {},
   "outputs": [
    {
     "name": "stdout",
     "output_type": "stream",
     "text": [
      "[1.31446859]\n",
      "[[0.00788478]]\n",
      "[1.]\n"
     ]
    }
   ],
   "source": [
    "print(c)\n",
    "print(Q[0])\n",
    "print(b[0][0])"
   ]
  },
  {
   "cell_type": "code",
   "execution_count": 11,
   "metadata": {},
   "outputs": [
    {
     "name": "stdout",
     "output_type": "stream",
     "text": [
      "1.3144685863897279\n",
      "0.006811771166304635\n",
      "1.317706965848347\n"
     ]
    }
   ],
   "source": [
    "print(np.dot(b[jj][0], c))\n",
    "print(1/2 * c @ Q[0] @ c.T)\n",
    "print(fi_operators[0](c))"
   ]
  },
  {
   "cell_type": "code",
   "execution_count": 12,
   "metadata": {},
   "outputs": [
    {
     "data": {
      "text/plain": [
       "array([1.31446859])"
      ]
     },
     "execution_count": 12,
     "metadata": {},
     "output_type": "execute_result"
    }
   ],
   "source": [
    "c.T"
   ]
  },
  {
   "cell_type": "code",
   "execution_count": 13,
   "metadata": {},
   "outputs": [
    {
     "name": "stdout",
     "output_type": "stream",
     "text": [
      "1.3144685863897279\n",
      "1.3144685863897279\n"
     ]
    }
   ],
   "source": [
    "print(np.dot(b[0][0],c))\n",
    "print( b[0][0] @ c )"
   ]
  },
  {
   "cell_type": "code",
   "execution_count": 14,
   "metadata": {},
   "outputs": [
    {
     "name": "stdout",
     "output_type": "stream",
     "text": [
      "1.3212803575560326\n",
      "1.3352788198538645\n",
      "1.3150842918617893\n",
      "1.4140640490231278\n",
      "1.4041894820679441\n",
      "1.317706965848347\n"
     ]
    }
   ],
   "source": [
    "Q = problem_data['Q']\n",
    "b = problem_data['b']\n",
    " \n",
    "vector_size = problem_spec['vector_size']\n",
    "n_node = problem_spec['n_node']\n",
    "eps = problem_spec['sc_eps']\n",
    "prox_operators = []\n",
    "fi_operators = []\n",
    "\n",
    "# Define functions and proximal operators to implement the method\n",
    "for jj in range(n_node):\n",
    "    # prox_operators += [lambda z, rho: cvx_prox_fj_quad_no_constraint(z, rho, problem_spec, problem_data, jj) ]\n",
    "    prox_operators += [lambda z, rho, problem_spec=problem_spec, problem_data=problem_data: prox_fj_quad_no_constraint(z, rho, problem_spec, problem_data, jj=jj) ]\n",
    "    # fi_operators += [lambda x_kj : (1/2 * x_kj @ Q[jj] @ x_kj.T + b[jj] @ x_kj)[0] ]\n",
    "    fi_operators += [lambda x_kj : fi(x_kj, jj) ]\n",
    "\n",
    "    # c = np.random.randn(vector_size)\n",
    "    x1 = prox_operators[-1](c, 1/5)\n",
    "    x2 = cvx_prox_fj_quad_no_constraint(c, 1/5, problem_spec, problem_data, jj, eps=1e-4)\n",
    "    print(fi_operators[-1](c))\n",
    "    assert np.linalg.norm(x1 - x2) / np.linalg.norm(x1) < 1e-5"
   ]
  },
  {
   "cell_type": "code",
   "execution_count": 15,
   "metadata": {},
   "outputs": [
    {
     "name": "stdout",
     "output_type": "stream",
     "text": [
      "ii=0, f_reldiff[-1]=array([0.90377961]), err_opt_reldiff[-1]=0.9132245254600895\n",
      "ii=200, f_reldiff[-1]=array([6.98246651]), err_opt_reldiff[-1]=3.9949506205513083\n",
      "ii=400, f_reldiff[-1]=array([9.35136685]), err_opt_reldiff[-1]=6.68742735960585\n",
      "ii=600, f_reldiff[-1]=array([10.06042324]), err_opt_reldiff[-1]=8.160482330206731\n",
      "ii=800, f_reldiff[-1]=array([10.27265714]), err_opt_reldiff[-1]=8.966391222495698\n",
      "ii=999, f_reldiff[-1]=array([10.33601857]), err_opt_reldiff[-1]=9.405695657809678\n"
     ]
    }
   ],
   "source": [
    "params={\"R\":2, \"Inductance\":4, \"Capacitance\":4, \"h\":2.764408907848405}\n",
    "# params={\"R\":18, \"Inductance\":10, \"Capacitance\":1, \"h\":1.0541046971920436}\n",
    "# params={\"R\":18, \"Inductance\":10, \"h\":1.1054814693822324}\n",
    "dadmm_c_err_opt_star, dadmm_c_err_opt_reldiff, dadmm_c_const_vio, dadmm_c_f_reldiff = co.dadmm(\"cir_dadmm_c\", problem_spec, problem_data, \n",
    "                                                                                network_data, x_opt_star, f_star, prox_operators=prox_operators,\n",
    "                                                                                fi_operators=fi_operators,\n",
    "                                                                                params=params, printing=True, freq=200)"
   ]
  },
  {
   "cell_type": "code",
   "execution_count": 16,
   "metadata": {},
   "outputs": [
    {
     "name": "stdout",
     "output_type": "stream",
     "text": [
      "ii=0, f_reldiff[-1]=array([0.90377961]), err_opt_reldiff[-1]=0.9132245254600895\n",
      "ii=200, f_reldiff[-1]=array([7.23388555]), err_opt_reldiff[-1]=4.220271224008714\n",
      "ii=400, f_reldiff[-1]=array([9.49595413]), err_opt_reldiff[-1]=6.928736502291473\n",
      "ii=600, f_reldiff[-1]=array([10.12291748]), err_opt_reldiff[-1]=8.354644367019489\n",
      "ii=800, f_reldiff[-1]=array([10.29668897]), err_opt_reldiff[-1]=9.105332682886715\n",
      "ii=999, f_reldiff[-1]=array([10.34473326]), err_opt_reldiff[-1]=9.499130869975366\n"
     ]
    }
   ],
   "source": [
    "# R = 18\n",
    "# R = 1\n",
    "R = 2\n",
    "admm_err_opt_star, admm_err_opt_reldiff, admm_const_vio, admm_f_reldiff = co.dadmm(\"dadmm\", problem_spec, problem_data, \n",
    "                                                                                network_data, x_opt_star, f_star, prox_operators=prox_operators,\n",
    "                                                                                fi_operators=fi_operators,\n",
    "                                                                                params={\"R\":R}, printing=True, freq=200)"
   ]
  },
  {
   "cell_type": "code",
   "execution_count": 17,
   "metadata": {},
   "outputs": [
    {
     "name": "stdout",
     "output_type": "stream",
     "text": [
      "ii=0, f_reldiff[-1]=array([1.04214286]), err_opt_reldiff[-1]=0.9791574536484051\n",
      "ii=200, f_reldiff[-1]=array([9.29754743e-05]), err_opt_reldiff[-1]=0.014208954644992297\n",
      "ii=400, f_reldiff[-1]=array([1.81835272e-06]), err_opt_reldiff[-1]=0.0002061745203983488\n",
      "ii=600, f_reldiff[-1]=array([2.70511672e-08]), err_opt_reldiff[-1]=2.9916282007217365e-06\n",
      "ii=800, f_reldiff[-1]=array([3.92657111e-10]), err_opt_reldiff[-1]=4.340847281972047e-08\n",
      "ii=999, f_reldiff[-1]=array([5.81951583e-12]), err_opt_reldiff[-1]=6.426005671580582e-10\n"
     ]
    }
   ],
   "source": [
    "# apply P-EXTRA \n",
    "# problem_data['rho'] = 1\n",
    "problem_data['rho'] = 0.5\n",
    "pg_op_norm, pg_err_opt_star, pg_err_opt_reldiff, pg_const_vio, pg_f_reldiff = p_extra_quad_no_constraint(problem_spec, problem_data, network_data, x_opt_star, f_star, printing=True, freq=200)"
   ]
  },
  {
   "cell_type": "code",
   "execution_count": 18,
   "metadata": {},
   "outputs": [
    {
     "data": {
      "text/plain": [
       "<matplotlib.legend.Legend at 0x195c24a0f70>"
      ]
     },
     "execution_count": 18,
     "metadata": {},
     "output_type": "execute_result"
    },
    {
     "data": {
      "image/png": "[encoded data removed]",
      "text/plain": [
       "<Figure size 360x288 with 1 Axes>"
      ]
     },
     "metadata": {
      "needs_background": "light"
     },
     "output_type": "display_data"
    }
   ],
   "source": [
    "fname = \"n6_circuit_dadmm_c\"\n",
    "\n",
    "plt.rc('text', usetex=True)\n",
    "plt.rc('font', family='serif')\n",
    "plt.rcParams[\"legend.fontsize\"] = 10\n",
    "plt.rcParams[\"lines.linewidth\"] = 2\n",
    "plt.rcParams[\"lines.markersize\"] = 4\n",
    "plt.rcParams[\"legend.framealpha\"] = 0.0\n",
    "plt.rcParams[\"xtick.labelsize\"] = 10\n",
    "plt.rcParams[\"ytick.labelsize\"] = 10\n",
    "plt.rcParams[\"mathtext.fontset\"] = 'cm' # default = 'dejavusans', other options = 'cm', 'stixsans', 'dejavuserif'\n",
    "black, red, blue, green = 'dimgrey', 'coral', 'deepskyblue', 'gold'\n",
    "\n",
    "# operator norm plot (log-log plot)\n",
    "plt.figure(figsize=(5,4))\n",
    "plt.minorticks_off()\n",
    "plt.xscale(\"log\")\n",
    "plt.yscale(\"log\")\n",
    "plt.plot(pg_f_reldiff, label='P-EXTRA', color=black, linewidth=3)\n",
    "plt.plot(admm_f_reldiff, label='DADMM', color=blue, linewidth=3)\n",
    "# plt.plot(ciradmm_f_reldiff, label='Circuit DADMM',  color=green, linewidth=2)\n",
    "plt.plot(dadmm_c_f_reldiff, label='Circuit DADMM + C',  color=red, linewidth=2)\n",
    "plt.xlabel(r\"$k$\")\n",
    "plt.ylabel(r\"$|f(x^k) - f^\\star|/|f^\\star|$\")\n",
    "# plt.ylabel(r\"$\\|\\tilde{\\mathbf{A}}x_k\\|^2_M$\")\n",
    "# plt.ylim(1e-7, 1e0)\n",
    "plt.autoscale(enable=True, axis='y', tight=None)\n",
    "plt.legend()\n",
    "# plt.savefig(f'plots/freldif_{fname}.pdf', dpi=300)"
   ]
  },
  {
   "cell_type": "code",
   "execution_count": 19,
   "metadata": {},
   "outputs": [
    {
     "data": {
      "text/plain": [
       "2"
      ]
     },
     "execution_count": 19,
     "metadata": {},
     "output_type": "execute_result"
    }
   ],
   "source": [
    "a = []\n",
    "a.append(1)\n",
    "a[0] += 1\n",
    "a[0]"
   ]
  },
  {
   "cell_type": "code",
   "execution_count": null,
   "metadata": {},
   "outputs": [],
   "source": []
  },
  {
   "cell_type": "code",
   "execution_count": null,
   "metadata": {},
   "outputs": [],
   "source": []
  },
  {
   "cell_type": "code",
   "execution_count": null,
   "metadata": {},
   "outputs": [],
   "source": []
  },
  {
   "cell_type": "code",
   "execution_count": null,
   "metadata": {},
   "outputs": [],
   "source": []
  }
 ],
 "metadata": {
  "kernelspec": {
   "display_name": "circuits",
   "language": "python",
   "name": "python3"
  },
  "language_info": {
   "codemirror_mode": {
    "name": "ipython",
    "version": 3
   },
   "file_extension": ".py",
   "mimetype": "text/x-python",
   "name": "python",
   "nbconvert_exporter": "python",
   "pygments_lexer": "ipython3",
   "version": "3.8.5"
  }
 },
 "nbformat": 4,
 "nbformat_minor": 2
}
