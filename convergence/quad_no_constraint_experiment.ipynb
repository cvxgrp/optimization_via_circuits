{
 "cells": [
  {
   "cell_type": "code",
   "execution_count": 5,
   "metadata": {},
   "outputs": [],
   "source": [
    "import networkx as nx\n",
    "import numpy as np\n",
    "import matplotlib.pyplot as plt\n",
    "import networkx as nx\n",
    "import math\n",
    "import cvxpy as cp\n",
    "\n",
    "from decentr_quad_no_constraint import *\n",
    "import ciropt as co"
   ]
  },
  {
   "cell_type": "code",
   "execution_count": 6,
   "metadata": {},
   "outputs": [
    {
     "name": "stdout",
     "output_type": "stream",
     "text": [
      "{'n_node': 6, 'vector_size': 50, 'sc_theta': 1, 'sc_perturb': True}\n"
     ]
    },
    {
     "ename": "KeyError",
     "evalue": "'sc_index_set'",
     "output_type": "error",
     "traceback": [
      "\u001b[1;31m---------------------------------------------------------------------------\u001b[0m",
      "\u001b[1;31mKeyError\u001b[0m                                  Traceback (most recent call last)",
      "Cell \u001b[1;32mIn[6], line 12\u001b[0m\n\u001b[0;32m     10\u001b[0m problem_spec[\u001b[38;5;124m'\u001b[39m\u001b[38;5;124msc_perturb\u001b[39m\u001b[38;5;124m'\u001b[39m] \u001b[38;5;241m=\u001b[39m \u001b[38;5;28;01mTrue\u001b[39;00m\n\u001b[0;32m     11\u001b[0m \u001b[38;5;28mprint\u001b[39m(problem_spec)\n\u001b[1;32m---> 12\u001b[0m problem_data \u001b[38;5;241m=\u001b[39m \u001b[43mdata_generation\u001b[49m\u001b[43m(\u001b[49m\u001b[43mproblem_spec\u001b[49m\u001b[43m)\u001b[49m\n\u001b[0;32m     13\u001b[0m network_data \u001b[38;5;241m=\u001b[39m graph_generation_nodes6()\n\u001b[0;32m     14\u001b[0m problem_data[\u001b[38;5;124m'\u001b[39m\u001b[38;5;124mitr_num\u001b[39m\u001b[38;5;124m'\u001b[39m] \u001b[38;5;241m=\u001b[39m \u001b[38;5;241m1000\u001b[39m\n",
      "File \u001b[1;32mc:\\Users\\owner\\Documents\\GitHub\\optimization_via_circuits\\convergence\\decentr_quad_no_constraint.py:90\u001b[0m, in \u001b[0;36mdata_generation\u001b[1;34m(problem_spec)\u001b[0m\n\u001b[0;32m     88\u001b[0m theta \u001b[38;5;241m=\u001b[39m problem_spec[\u001b[38;5;124m'\u001b[39m\u001b[38;5;124msc_theta\u001b[39m\u001b[38;5;124m'\u001b[39m] \n\u001b[0;32m     89\u001b[0m sc_perturb \u001b[38;5;241m=\u001b[39m problem_spec[\u001b[38;5;124m'\u001b[39m\u001b[38;5;124msc_perturb\u001b[39m\u001b[38;5;124m'\u001b[39m] \n\u001b[1;32m---> 90\u001b[0m sc_index_set \u001b[38;5;241m=\u001b[39m \u001b[43mproblem_spec\u001b[49m\u001b[43m[\u001b[49m\u001b[38;5;124;43m'\u001b[39;49m\u001b[38;5;124;43msc_index_set\u001b[39;49m\u001b[38;5;124;43m'\u001b[39;49m\u001b[43m]\u001b[49m \n\u001b[0;32m     92\u001b[0m Q, b \u001b[38;5;241m=\u001b[39m [], []\n\u001b[0;32m     93\u001b[0m \u001b[38;5;28;01mfor\u001b[39;00m j \u001b[38;5;129;01min\u001b[39;00m \u001b[38;5;28mrange\u001b[39m(n_node):\n",
      "\u001b[1;31mKeyError\u001b[0m: 'sc_index_set'"
     ]
    }
   ],
   "source": [
    "# random seed\n",
    "np.random.seed(108)\n",
    "\n",
    "# data generation\n",
    "problem_spec = {}\n",
    "problem_spec['n_node'] = 6\n",
    "# problem_spec['vector_size'] = 10\n",
    "problem_spec['vector_size'] = 50\n",
    "problem_spec['sc_theta'] = 1\n",
    "problem_spec['sc_perturb'] = True\n",
    "print(problem_spec)\n",
    "problem_data = data_generation(problem_spec)\n",
    "network_data = graph_generation_nodes6()\n",
    "problem_data['itr_num'] = 1000"
   ]
  },
  {
   "cell_type": "code",
   "execution_count": 7,
   "metadata": {},
   "outputs": [
    {
     "ename": "NameError",
     "evalue": "name 'problem_data' is not defined",
     "output_type": "error",
     "traceback": [
      "\u001b[1;31m---------------------------------------------------------------------------\u001b[0m",
      "\u001b[1;31mNameError\u001b[0m                                 Traceback (most recent call last)",
      "Cell \u001b[1;32mIn[7], line 1\u001b[0m\n\u001b[1;32m----> 1\u001b[0m Q \u001b[38;5;241m=\u001b[39m \u001b[43mproblem_data\u001b[49m[\u001b[38;5;124m'\u001b[39m\u001b[38;5;124mQ\u001b[39m\u001b[38;5;124m'\u001b[39m]\n\u001b[0;32m      2\u001b[0m b \u001b[38;5;241m=\u001b[39m problem_data[\u001b[38;5;124m'\u001b[39m\u001b[38;5;124mb\u001b[39m\u001b[38;5;124m'\u001b[39m]\n\u001b[0;32m      3\u001b[0m n_node \u001b[38;5;241m=\u001b[39m problem_spec[\u001b[38;5;124m'\u001b[39m\u001b[38;5;124mn_node\u001b[39m\u001b[38;5;124m'\u001b[39m]\n",
      "\u001b[1;31mNameError\u001b[0m: name 'problem_data' is not defined"
     ]
    }
   ],
   "source": [
    "Q = problem_data['Q']\n",
    "b = problem_data['b']\n",
    "n_node = problem_spec['n_node']\n",
    "vector_size = problem_spec['vector_size']\n",
    "\n",
    "for j in range(n_node):\n",
    "    U, s, V = np.linalg.svd(Q[j])\n",
    "    print([np.max(s), np.average(s), np.min(s)])"
   ]
  },
  {
   "cell_type": "code",
   "execution_count": null,
   "metadata": {},
   "outputs": [],
   "source": [
    "nx.draw(network_data[\"G\"], node_color='skyblue', with_labels=True)\n",
    "plt.savefig(\"plots/graph_n6.pdf\")"
   ]
  },
  {
   "cell_type": "code",
   "execution_count": null,
   "metadata": {},
   "outputs": [],
   "source": [
    "f_star, x_opt_star = min_cvx_quad_no_constraint(problem_spec, problem_data)\n",
    "print(f\"{f_star=}, {np.linalg.norm(x_opt_star)=}\")"
   ]
  },
  {
   "cell_type": "code",
   "execution_count": null,
   "metadata": {},
   "outputs": [],
   "source": [
    "f_star, x_opt_star = min_quad_no_constraint(problem_spec, problem_data)\n",
    "print(f\"{f_star=}, {np.linalg.norm(x_opt_star)=}\")"
   ]
  },
  {
   "cell_type": "code",
   "execution_count": null,
   "metadata": {},
   "outputs": [],
   "source": [
    "Q = problem_data['Q']\n",
    "b = problem_data['b']\n",
    " \n",
    "vector_size = problem_spec['vector_size']\n",
    "n_node = problem_spec['n_node']\n",
    "prox_operators = []\n",
    "fi_operators = []\n",
    "\n",
    "# Define functions and proximal operators to implement the method\n",
    "for jj in range(n_node):\n",
    "    Qj = Q[jj]\n",
    "    bj = b[jj]\n",
    "    # prox_operators += [lambda z, rho: cvx_prox_fj_quad_no_constraint(z, rho, problem_spec, problem_data, jj) ]\n",
    "    prox_operators += [lambda z, rho, Qj=Qj, bj=bj, vector_size=vector_size : prox_fj_quad_no_constraint(z, rho, Qj, bj, vector_size) ]\n",
    "    fi_operators += [lambda x_kj, Qj=Qj, bj=bj : 1/2 * x_kj @ Qj @ x_kj.T + np.dot(bj[0], x_kj) ]\n",
    "\n",
    "    c = np.random.randn(vector_size)\n",
    "    x1 = prox_operators[-1](c, 1/5)\n",
    "    x2 = cvx_prox_fj_quad_no_constraint(c, 1/5, problem_spec, problem_data, jj, eps=1e-4)\n",
    "    assert np.linalg.norm(x1 - x2) / np.linalg.norm(x1) < 1e-5"
   ]
  },
  {
   "cell_type": "code",
   "execution_count": null,
   "metadata": {},
   "outputs": [],
   "source": [
    "best_R = 1\n",
    "find_best = True\n",
    "\n",
    "# R = 18\n",
    "start = 0.2\n",
    "end = 4\n",
    "space = 0.2\n",
    "# end = 2\n",
    "# space = 0.1\n",
    "\n",
    "best_value = 1\n",
    "\n",
    "if find_best == True:\n",
    "    for r in np.arange(start, end, space) :\n",
    "        R = round(r, 2)\n",
    "        # print(\"Testing R :\", r)\n",
    "        admm_err_opt_star, admm_err_opt_reldiff, admm_const_vio, admm_f_reldiff = co.dadmm(\"dadmm\", problem_spec, problem_data, \n",
    "                                                                                network_data, x_opt_star, f_star, prox_operators=prox_operators,\n",
    "                                                                                fi_operators=fi_operators,\n",
    "                                                                                params={\"R\":R}, printing=False, freq=200)\n",
    "        # new_val = sum(admm_f_reldiff[-10:]) / 10\n",
    "        # new_val = sum(admm_f_reldiff[-300:]) / 300\n",
    "        # new_val = sum(admm_f_reldiff[-300:-200]) / 100\n",
    "        new_val = sum(admm_f_reldiff[300:400]) / 100\n",
    "        if new_val < best_value:\n",
    "            print(\"new best_R :\", round(r, 2),  \", new best_value :\", new_val)\n",
    "            best_value = new_val\n",
    "            best_R = round(r, 2)\n",
    "\n",
    "print(\"best_R :\", best_R)"
   ]
  },
  {
   "cell_type": "code",
   "execution_count": null,
   "metadata": {},
   "outputs": [],
   "source": [
    "R = best_R\n",
    "# R = 3\n",
    "# R = 2\n",
    "# R = 1\n",
    "# R = 0.5\n",
    "admm_err_opt_star, admm_err_opt_reldiff, admm_const_vio, admm_f_reldiff = co.dadmm(\"dadmm\", problem_spec, problem_data, \n",
    "                                                                        network_data, x_opt_star, f_star, prox_operators=prox_operators,\n",
    "                                                                        fi_operators=fi_operators,\n",
    "                                                                        params={\"R\":R}, printing=True, freq=200)\n"
   ]
  },
  {
   "cell_type": "code",
   "execution_count": null,
   "metadata": {},
   "outputs": [],
   "source": [
    "# apply P-EXTRA \n",
    "best_rho = 1\n",
    "find_best = True\n",
    "\n",
    "# problem_data['rho'] = 0.01\n",
    "# problem_data['rho'] = 0.1\n",
    "# problem_data['rho'] = 0.2\n",
    "# problem_data['rho'] = 0.5\n",
    "\n",
    "# start = 0.2\n",
    "start = 0.1\n",
    "end = 2\n",
    "space = 0.1\n",
    "\n",
    "best_value = 1\n",
    "\n",
    "if find_best == True:\n",
    "    for r in np.arange(start, end, space) :\n",
    "        problem_data['rho'] = round(r, 2)\n",
    "        # print(\"Testing rho :\", r)\n",
    "        pg_op_norm, pg_err_opt_star, pg_err_opt_reldiff, pg_const_vio, pg_f_reldiff = p_extra_quad_no_constraint(problem_spec, problem_data, network_data, x_opt_star, f_star, printing=False, freq=200)\n",
    "        # new_val = sum(pg_f_reldiff[-10:]) / 10\n",
    "        # new_val = sum(pg_f_reldiff[-300:]) / 300\n",
    "        # new_val = sum(pg_f_reldiff[-300:-200]) / 100\n",
    "        new_val = sum(pg_f_reldiff[300:400]) / 100\n",
    "        if new_val < best_value:\n",
    "            print(\"new best_rho :\", round(r, 2),  \"new best_value :\", new_val)\n",
    "            best_value = new_val\n",
    "            best_rho = round(r, 2)\n",
    "\n",
    "print(\"best_rho :\",best_rho)"
   ]
  },
  {
   "cell_type": "code",
   "execution_count": null,
   "metadata": {},
   "outputs": [],
   "source": [
    "problem_data['rho'] = best_rho\n",
    "# problem_data['rho'] = 1\n",
    "pg_op_norm, pg_err_opt_star, pg_err_opt_reldiff, pg_const_vio, pg_f_reldiff = p_extra_quad_no_constraint(problem_spec, problem_data, network_data, x_opt_star, f_star, printing=True, freq=200)"
   ]
  },
  {
   "cell_type": "code",
   "execution_count": null,
   "metadata": {},
   "outputs": [],
   "source": [
    "# params={\"R\":2, \"Inductance\":4, \"Capacitance\":4, \"h\":2.764408907848405}\n",
    "# params={\"R\":18, \"Inductance\":10, \"Capacitance\":1, \"h\":1.0541046971920436}\n",
    "# params={\"R\":18, \"Inductance\":10, \"h\":1.1054814693822324}\n",
    "# dadmm_c_all_err_opt_star, dadmm_c_all_err_opt_reldiff, dadmm_c_all_const_vio, dadmm_c_all_f_reldiff = co.dadmm(\"cir_dadmm_c\", problem_spec, problem_data, \n",
    "#                                                                                 network_data, x_opt_star, f_star, prox_operators=prox_operators,\n",
    "#                                                                                 fi_operators=fi_operators,\n",
    "#                                                                                 params=params, printing=True, sc_index_set={1,2,3,4,5,6}, freq=200)"
   ]
  },
  {
   "cell_type": "code",
   "execution_count": null,
   "metadata": {},
   "outputs": [],
   "source": [
    "# params={\"R\":0.5, \"Inductance\":4, \"Capacitance\":16, \"h\":2.764408907848405}\n",
    "# params={\"R\":1, \"Inductance\":4, \"Capacitance\":8, \"h\":2.764408907848405}\n",
    "# params={\"R\":1, \"Inductance\":4, \"Capacitance\":4, \"h\":1.382204453924203}\n",
    "\n",
    "# params={\"R\":3, \"Inductance\":3, \"Capacitance\":8/3, \"h\":1.6540863202464} # worked good for R=3, N(0.5,1)\n",
    "# params={\"R\":3, \"Inductance\":3, \"Capacitance\":8/3, \"h\":1.842939271898937} # worked good for R=3, N(0.5,1)\n",
    "\n",
    "\n",
    "\n",
    "# params={\"R\":1, \"Inductance\":6, \"Capacitance\":8, \"h\":5.52881781569681} # worked good for Q[j] = Q[j]*50\n",
    "# params={\"R\":1, \"Inductance\":6, \"Capacitance\":20, \"h\":5.52881781569681} # worked good for Q[j] = Q[j]*50\n",
    "\n",
    "# params={\"R\":1, \"Inductance\":8, \"Capacitance\":8, \"h\":5.5409883749567} # worked good for Q[j] = Q[j]*50\n",
    "\n",
    "# params={\"R\":0.5, \"Inductance\":11, \"Capacitance\":24, \"h\":10} # only test\n",
    "# params={\"R\":1, \"Inductance\":6, \"Capacitance\":8, \"h\":5.13906193644284} # verified\n",
    "params={\"R\":2, \"Inductance\":3, \"Capacitance\":4, \"h\":2.321989931} # verified\n",
    "# params={\"R\":3, \"Inductance\":3, \"Capacitance\":8/3, \"h\":1.6540863202464} # verified\n",
    "\n",
    "\n",
    "# params={\"R\":4, \"Inductance\":2, \"Capacitance\":2, \"h\":1} # not verified, but worked well\n",
    "\n",
    "# params={\"R\":2, \"Inductance\":4, \"Capacitance\":4, \"h\":2.764408907848405} # verified\n",
    "\n",
    "\n",
    "# params={\"R\":0.5, \"Inductance\":11, \"Capacitance\":20, \"h\":10} # only test\n",
    "# params={\"R\":2, \"Inductance\":3, \"Capacitance\":4, \"h\":3.4} # not verified, but worked well for [2.5,3.5]\n",
    "\n",
    "\n",
    "# params={\"R\":1.5, \"Inductance\":4.5, \"Capacitance\":6, \"h\":4} # not verified, but worked well\n",
    "\n",
    "# params={\"R\":2, \"Inductance\":3, \"Capacitance\":4, \"h\":2.764408907848405} # this also works\n",
    "# params={\"R\":2, \"Inductance\":3, \"Capacitance\":3, \"h\":2.764408907848405} # this also works\n",
    "\n",
    "# params={\"R\":2, \"Inductance\":4, \"Capacitance\":4, \"h\":2.764408907848405}\n",
    "# params={\"R\":18, \"Inductance\":10, \"Capacitance\":1, \"h\":1.0541046971920436}\n",
    "# params={\"R\":18, \"Inductance\":10, \"h\":1.1054814693822324}\n",
    "\n",
    "\n",
    "# params={\"R\":3, \"Inductance\":2, \"Capacitance\":8/3, \"h\":1.6540863202464} # fail\n",
    "\n",
    "dadmm_c_err_opt_star, dadmm_c_err_opt_reldiff, dadmm_c_const_vio, dadmm_c_f_reldiff  = co.dadmm(\"cir_dadmm_c\", problem_spec, problem_data, \n",
    "                                                                                network_data, x_opt_star, f_star, prox_operators=prox_operators,\n",
    "                                                                                fi_operators=fi_operators,\n",
    "                                                                                params=params, printing=True, sc_index_set={3,4}, freq=200)"
   ]
  },
  {
   "cell_type": "code",
   "execution_count": null,
   "metadata": {},
   "outputs": [],
   "source": [
    "fname = \"n6_qp_circuit_dadmm_c\"\n",
    "\n",
    "plt.rc('text', usetex=True)\n",
    "plt.rc('font', family='serif')\n",
    "plt.rcParams[\"legend.fontsize\"] = 10\n",
    "plt.rcParams[\"lines.linewidth\"] = 2\n",
    "plt.rcParams[\"lines.markersize\"] = 4\n",
    "plt.rcParams[\"legend.framealpha\"] = 0.0\n",
    "plt.rcParams[\"xtick.labelsize\"] = 10\n",
    "plt.rcParams[\"ytick.labelsize\"] = 10\n",
    "plt.rcParams[\"mathtext.fontset\"] = 'cm' # default = 'dejavusans', other options = 'cm', 'stixsans', 'dejavuserif'\n",
    "black, red, blue, green = 'dimgrey', 'coral', 'deepskyblue', 'green'\n",
    "\n",
    "# operator norm plot (log-log plot)\n",
    "plt.figure(figsize=(5,4))\n",
    "plt.minorticks_off()\n",
    "plt.xscale(\"log\")\n",
    "plt.yscale(\"log\")\n",
    "plt.plot(pg_f_reldiff, label='P-EXTRA', color=black, linewidth=1)\n",
    "plt.plot(admm_f_reldiff, label='DADMM', color=blue, linewidth=1)\n",
    "# plt.plot(dadmm_c_all_f_reldiff, label='Circuit DADMM + C-All',  color=green, linewidth=1)\n",
    "plt.plot(dadmm_c_f_reldiff, label='Circuit DADMM + C',  color=red, linewidth=2)\n",
    "plt.xlabel(r\"$k$\")\n",
    "plt.ylabel(r\"$|f(x^k) - f^\\star|/|f^\\star|$\")\n",
    "# plt.ylabel(r\"$\\|\\tilde{\\mathbf{A}}x_k\\|^2_M$\")\n",
    "plt.ylim(1e-15, 1e+2)\n",
    "# plt.autoscale(enable=True, axis='y', tight=None)\n",
    "plt.legend()\n",
    "plt.savefig(f'plots/freldif_{fname}.pdf', dpi=300)"
   ]
  },
  {
   "cell_type": "code",
   "execution_count": null,
   "metadata": {},
   "outputs": [],
   "source": []
  },
  {
   "cell_type": "code",
   "execution_count": null,
   "metadata": {},
   "outputs": [],
   "source": []
  }
 ],
 "metadata": {
  "kernelspec": {
   "display_name": "circuits",
   "language": "python",
   "name": "python3"
  },
  "language_info": {
   "codemirror_mode": {
    "name": "ipython",
    "version": 3
   },
   "file_extension": ".py",
   "mimetype": "text/x-python",
   "name": "python",
   "nbconvert_exporter": "python",
   "pygments_lexer": "ipython3",
   "version": "3.10.14"
  }
 },
 "nbformat": 4,
 "nbformat_minor": 2
}
