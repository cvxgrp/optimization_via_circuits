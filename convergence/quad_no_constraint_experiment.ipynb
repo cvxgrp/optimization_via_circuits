{
 "cells": [
  {
   "cell_type": "code",
   "execution_count": 1,
   "metadata": {},
   "outputs": [],
   "source": [
    "import networkx as nx\n",
    "import numpy as np\n",
    "import matplotlib.pyplot as plt\n",
    "import networkx as nx\n",
    "import math\n",
    "import cvxpy as cp\n",
    "\n",
    "from decentr_quad_no_constraint import *\n",
    "import ciropt as co"
   ]
  },
  {
   "cell_type": "code",
   "execution_count": 2,
   "metadata": {},
   "outputs": [
    {
     "name": "stdout",
     "output_type": "stream",
     "text": [
      "{'n_node': 6, 'vector_size': 50, 'sc_theta': 1, 'sc_perturb': True}\n"
     ]
    }
   ],
   "source": [
    "# random seed\n",
    "np.random.seed(108)\n",
    "\n",
    "# data generation\n",
    "problem_spec = {}\n",
    "problem_spec['n_node'] = 6\n",
    "# problem_spec['vector_size'] = 10\n",
    "problem_spec['vector_size'] = 50\n",
    "problem_spec['sc_theta'] = 1\n",
    "problem_spec['sc_perturb'] = True\n",
    "print(problem_spec)\n",
    "problem_data = data_generation(problem_spec)\n",
    "network_data = graph_generation_nodes6()\n",
    "problem_data['itr_num'] = 1000"
   ]
  },
  {
   "cell_type": "code",
   "execution_count": 3,
   "metadata": {},
   "outputs": [
    {
     "name": "stdout",
     "output_type": "stream",
     "text": [
      "[0.2743387851557149, 8.900427358929977e-07]\n",
      "[0.33201329288365505, 2.5447931331303133e-05]\n",
      "[0.3166336982146978, 0.000184906714945188]\n",
      "[7.2628638820982685, 2.1536915291452326e-05]\n",
      "[9.732612799968809, 1.797493978897121e-05]\n",
      "[0.32964971659708214, 4.962404142515691e-06]\n"
     ]
    }
   ],
   "source": [
    "Q = problem_data['Q']\n",
    "b = problem_data['b']\n",
    "n_node = problem_spec['n_node']\n",
    "vector_size = problem_spec['vector_size']\n",
    "\n",
    "for j in range(n_node):\n",
    "    U, s, V = np.linalg.svd(Q[j])\n",
    "    print([np.max(s), np.min(s)])"
   ]
  },
  {
   "cell_type": "code",
   "execution_count": 4,
   "metadata": {},
   "outputs": [
    {
     "data": {
      "image/png": "[encoded data removed]",
      "text/plain": [
       "<Figure size 432x288 with 1 Axes>"
      ]
     },
     "metadata": {},
     "output_type": "display_data"
    }
   ],
   "source": [
    "nx.draw(network_data[\"G\"], node_color='skyblue', with_labels=True)\n",
    "plt.savefig(\"plots/graph_n6.pdf\")"
   ]
  },
  {
   "cell_type": "code",
   "execution_count": 5,
   "metadata": {},
   "outputs": [
    {
     "name": "stdout",
     "output_type": "stream",
     "text": [
      "f_star=-0.0001513672177013481, np.linalg.norm(x_opt_star)=0.01551626219337485\n"
     ]
    }
   ],
   "source": [
    "f_star, x_opt_star = min_cvx_quad_no_constraint(problem_spec, problem_data)\n",
    "print(f\"{f_star=}, {np.linalg.norm(x_opt_star)=}\")"
   ]
  },
  {
   "cell_type": "code",
   "execution_count": 6,
   "metadata": {},
   "outputs": [
    {
     "name": "stdout",
     "output_type": "stream",
     "text": [
      "f_star=-0.00015136721770134815, np.linalg.norm(x_opt_star)=0.01551626219337485\n"
     ]
    }
   ],
   "source": [
    "f_star, x_opt_star = min_quad_no_constraint(problem_spec, problem_data)\n",
    "print(f\"{f_star=}, {np.linalg.norm(x_opt_star)=}\")"
   ]
  },
  {
   "cell_type": "code",
   "execution_count": 7,
   "metadata": {},
   "outputs": [],
   "source": [
    "Q = problem_data['Q']\n",
    "b = problem_data['b']\n",
    " \n",
    "vector_size = problem_spec['vector_size']\n",
    "n_node = problem_spec['n_node']\n",
    "prox_operators = []\n",
    "fi_operators = []\n",
    "\n",
    "# Define functions and proximal operators to implement the method\n",
    "for jj in range(n_node):\n",
    "    Qj = Q[jj]\n",
    "    bj = b[jj]\n",
    "    # prox_operators += [lambda z, rho: cvx_prox_fj_quad_no_constraint(z, rho, problem_spec, problem_data, jj) ]\n",
    "    prox_operators += [lambda z, rho, Qj=Qj, bj=bj, vector_size=vector_size : prox_fj_quad_no_constraint(z, rho, Qj, bj, vector_size) ]\n",
    "    fi_operators += [lambda x_kj, Qj=Qj, bj=bj : 1/2 * x_kj @ Qj @ x_kj.T + np.dot(bj[0], x_kj) ]\n",
    "\n",
    "    c = np.random.randn(vector_size)\n",
    "    x1 = prox_operators[-1](c, 1/5)\n",
    "    x2 = cvx_prox_fj_quad_no_constraint(c, 1/5, problem_spec, problem_data, jj, eps=1e-4)\n",
    "    assert np.linalg.norm(x1 - x2) / np.linalg.norm(x1) < 1e-5"
   ]
  },
  {
   "cell_type": "code",
   "execution_count": 8,
   "metadata": {},
   "outputs": [
    {
     "name": "stdout",
     "output_type": "stream",
     "text": [
      "ii=0, f_reldiff[-1]=2.519775843389846\n",
      "ii=200, f_reldiff[-1]=2.0551691370336018e-08\n",
      "ii=400, f_reldiff[-1]=7.699932344145457e-15\n",
      "ii=600, f_reldiff[-1]=1.7906819404989432e-16\n",
      "ii=800, f_reldiff[-1]=5.37204582149683e-16\n",
      "ii=999, f_reldiff[-1]=5.37204582149683e-16\n"
     ]
    }
   ],
   "source": [
    "params={\"R\":2, \"Inductance\":4, \"Capacitance\":4, \"h\":2.764408907848405}\n",
    "# params={\"R\":18, \"Inductance\":10, \"Capacitance\":1, \"h\":1.0541046971920436}\n",
    "# params={\"R\":18, \"Inductance\":10, \"h\":1.1054814693822324}\n",
    "dadmm_c_err_opt_star, dadmm_c_err_opt_reldiff, dadmm_c_const_vio, dadmm_c_f_reldiff = co.dadmm(\"cir_dadmm_c\", problem_spec, problem_data, \n",
    "                                                                                network_data, x_opt_star, f_star, prox_operators=prox_operators,\n",
    "                                                                                fi_operators=fi_operators,\n",
    "                                                                                params=params, printing=True, sc_index_set={3,4}, freq=200)"
   ]
  },
  {
   "cell_type": "code",
   "execution_count": 9,
   "metadata": {},
   "outputs": [
    {
     "name": "stdout",
     "output_type": "stream",
     "text": [
      "ii=0, f_reldiff[-1]=2.519775843389846\n",
      "ii=200, f_reldiff[-1]=3.2341844787169975e-08\n",
      "ii=400, f_reldiff[-1]=1.1872221265507994e-13\n",
      "ii=600, f_reldiff[-1]=5.37204582149683e-16\n",
      "ii=800, f_reldiff[-1]=5.37204582149683e-16\n",
      "ii=999, f_reldiff[-1]=5.37204582149683e-16\n"
     ]
    }
   ],
   "source": [
    "params={\"R\":2, \"Inductance\":4, \"Capacitance\":4, \"h\":2.764408907848405}\n",
    "# params={\"R\":18, \"Inductance\":10, \"Capacitance\":1, \"h\":1.0541046971920436}\n",
    "# params={\"R\":18, \"Inductance\":10, \"h\":1.1054814693822324}\n",
    "dadmm_c_all_err_opt_star, dadmm_c_all_err_opt_reldiff, dadmm_c_all_const_vio, dadmm_c_all_f_reldiff = co.dadmm(\"cir_dadmm_c\", problem_spec, problem_data, \n",
    "                                                                                network_data, x_opt_star, f_star, prox_operators=prox_operators,\n",
    "                                                                                fi_operators=fi_operators,\n",
    "                                                                                params=params, printing=True, sc_index_set={1,2,3,4,5,6}, freq=200)"
   ]
  },
  {
   "cell_type": "code",
   "execution_count": 10,
   "metadata": {},
   "outputs": [
    {
     "name": "stdout",
     "output_type": "stream",
     "text": [
      "new best_R : 0.5 , new best_value : 1.8444023987139115e-14\n",
      "new best_R : 1.0 , new best_value : 5.37204582149683e-16\n",
      "new best_R : 1.5 , new best_value : 3.5813638809978864e-16\n",
      "new best_R : 2.0 , new best_value : 1.7906819404989432e-16\n",
      "ii=0, f_reldiff[-1]=2.519775843389846\n",
      "ii=200, f_reldiff[-1]=1.6435683313761072e-07\n",
      "ii=400, f_reldiff[-1]=8.720621050229854e-14\n",
      "ii=600, f_reldiff[-1]=5.37204582149683e-16\n",
      "ii=800, f_reldiff[-1]=1.7906819404989432e-16\n",
      "ii=999, f_reldiff[-1]=5.37204582149683e-16\n",
      "best_R : 2.0\n"
     ]
    }
   ],
   "source": [
    "best_R = 1\n",
    "find_best = True\n",
    "\n",
    "# R = 18\n",
    "# R = 0.1\n",
    "R = 2\n",
    "# R = 3\n",
    "# R = 1\n",
    "start = 0.5\n",
    "end = 5\n",
    "space = 0.5\n",
    "\n",
    "best_value = 1\n",
    "\n",
    "if find_best == True:\n",
    "    for r in np.arange(start, end, space) :\n",
    "        R = round(r, 2)\n",
    "        # print(\"Testing R :\", r)\n",
    "        admm_err_opt_star, admm_err_opt_reldiff, admm_const_vio, admm_f_reldiff = co.dadmm(\"dadmm\", problem_spec, problem_data, \n",
    "                                                                                network_data, x_opt_star, f_star, prox_operators=prox_operators,\n",
    "                                                                                fi_operators=fi_operators,\n",
    "                                                                                params={\"R\":R}, printing=False, freq=200)\n",
    "        if admm_f_reldiff[-2] < best_value:\n",
    "            print(\"new best_R :\", r,  \", new best_value :\", admm_f_reldiff[-2])\n",
    "            best_value = admm_f_reldiff[-2]\n",
    "            best_R = r\n",
    "\n",
    "R = best_R\n",
    "admm_err_opt_star, admm_err_opt_reldiff, admm_const_vio, admm_f_reldiff = co.dadmm(\"dadmm\", problem_spec, problem_data, \n",
    "                                                                        network_data, x_opt_star, f_star, prox_operators=prox_operators,\n",
    "                                                                        fi_operators=fi_operators,\n",
    "                                                                        params={\"R\":R}, printing=True, freq=200)\n",
    "print(\"best_R :\", best_R)"
   ]
  },
  {
   "cell_type": "code",
   "execution_count": 18,
   "metadata": {},
   "outputs": [
    {
     "name": "stdout",
     "output_type": "stream",
     "text": [
      "new best_rho : 0.1 new best_value : 1.1508554356234975e-08\n",
      "new best_rho : 0.2 new best_value : 3.9663604982051595e-13\n",
      "new best_rho : 0.30000000000000004 new best_value : 1.7906819404989432e-16\n",
      "new best_rho : 1.0 new best_value : 0.0\n",
      "ii=0, f_reldiff[-1]=0.9673970849594243, err_opt_reldiff[-1]=0.7806643895035265\n",
      "ii=200, f_reldiff[-1]=8.749986862928875e-06, err_opt_reldiff[-1]=1.6602728865653018e-05\n",
      "ii=400, f_reldiff[-1]=4.4166722391921313e-10, err_opt_reldiff[-1]=6.352919948457503e-10\n",
      "ii=600, f_reldiff[-1]=2.3278865226486264e-15, err_opt_reldiff[-1]=6.002490771663626e-14\n",
      "ii=800, f_reldiff[-1]=1.7906819404989432e-16, err_opt_reldiff[-1]=7.719583353161804e-14\n",
      "ii=999, f_reldiff[-1]=1.7906819404989432e-16, err_opt_reldiff[-1]=9.660306554470701e-14\n",
      "best_rho : 1.0\n"
     ]
    }
   ],
   "source": [
    "# apply P-EXTRA \n",
    "best_rho = 1\n",
    "find_best = True\n",
    "\n",
    "# problem_data['rho'] = 0.01\n",
    "# problem_data['rho'] = 0.1\n",
    "# problem_data['rho'] = 0.2\n",
    "# problem_data['rho'] = 0.5\n",
    "\n",
    "start = 0.1\n",
    "end = 2\n",
    "space = 0.1\n",
    "\n",
    "best_value = 1\n",
    "\n",
    "if find_best == True:\n",
    "    for r in np.arange(start, end, space) :\n",
    "        problem_data['rho'] = round(r, 2)\n",
    "        # print(\"Testing rho :\", r)\n",
    "        pg_op_norm, pg_err_opt_star, pg_err_opt_reldiff, pg_const_vio, pg_f_reldiff = p_extra_quad_no_constraint(problem_spec, problem_data, network_data, x_opt_star, f_star, printing=False, freq=200)\n",
    "        if pg_f_reldiff[-2] < best_value:\n",
    "            print(\"new best_rho :\", round(r, 2),  \"new best_value :\", pg_f_reldiff[-2])\n",
    "            best_value = pg_f_reldiff[-2]\n",
    "            best_rho = round(r, 2)\n",
    "\n",
    "problem_data['rho'] = best_rho\n",
    "pg_op_norm, pg_err_opt_star, pg_err_opt_reldiff, pg_const_vio, pg_f_reldiff = p_extra_quad_no_constraint(problem_spec, problem_data, network_data, x_opt_star, f_star, printing=True, freq=200)\n",
    "print(\"best_rho :\",best_rho)"
   ]
  },
  {
   "cell_type": "code",
   "execution_count": 19,
   "metadata": {},
   "outputs": [
    {
     "data": {
      "image/png": "[encoded data removed]",
      "text/plain": [
       "<Figure size 360x288 with 1 Axes>"
      ]
     },
     "metadata": {
      "needs_background": "light"
     },
     "output_type": "display_data"
    }
   ],
   "source": [
    "fname = \"n6_qp_circuit_dadmm_c\"\n",
    "\n",
    "plt.rc('text', usetex=True)\n",
    "plt.rc('font', family='serif')\n",
    "plt.rcParams[\"legend.fontsize\"] = 10\n",
    "plt.rcParams[\"lines.linewidth\"] = 2\n",
    "plt.rcParams[\"lines.markersize\"] = 4\n",
    "plt.rcParams[\"legend.framealpha\"] = 0.0\n",
    "plt.rcParams[\"xtick.labelsize\"] = 10\n",
    "plt.rcParams[\"ytick.labelsize\"] = 10\n",
    "plt.rcParams[\"mathtext.fontset\"] = 'cm' # default = 'dejavusans', other options = 'cm', 'stixsans', 'dejavuserif'\n",
    "black, red, blue, green = 'dimgrey', 'coral', 'deepskyblue', 'green'\n",
    "\n",
    "# operator norm plot (log-log plot)\n",
    "plt.figure(figsize=(5,4))\n",
    "plt.minorticks_off()\n",
    "plt.xscale(\"log\")\n",
    "plt.yscale(\"log\")\n",
    "plt.plot(pg_f_reldiff, label='P-EXTRA', color=black, linewidth=1)\n",
    "plt.plot(admm_f_reldiff, label='DADMM', color=blue, linewidth=1)\n",
    "# plt.plot(dadmm_c_all_f_reldiff, label='Circuit DADMM + C-All',  color=green, linewidth=1)\n",
    "plt.plot(dadmm_c_f_reldiff, label='Circuit DADMM + C',  color=red, linewidth=2)\n",
    "plt.xlabel(r\"$k$\")\n",
    "plt.ylabel(r\"$|f(x^k) - f^\\star|/|f^\\star|$\")\n",
    "# plt.ylabel(r\"$\\|\\tilde{\\mathbf{A}}x_k\\|^2_M$\")\n",
    "plt.ylim(1e-15, 1e+2)\n",
    "# plt.autoscale(enable=True, axis='y', tight=None)\n",
    "plt.legend()\n",
    "plt.savefig(f'plots/freldif_{fname}.pdf', dpi=300)"
   ]
  },
  {
   "cell_type": "code",
   "execution_count": null,
   "metadata": {},
   "outputs": [],
   "source": []
  }
 ],
 "metadata": {
  "kernelspec": {
   "display_name": "circuits",
   "language": "python",
   "name": "python3"
  },
  "language_info": {
   "codemirror_mode": {
    "name": "ipython",
    "version": 3
   },
   "file_extension": ".py",
   "mimetype": "text/x-python",
   "name": "python",
   "nbconvert_exporter": "python",
   "pygments_lexer": "ipython3",
   "version": "3.11.5"
  }
 },
 "nbformat": 4,
 "nbformat_minor": 2
}
