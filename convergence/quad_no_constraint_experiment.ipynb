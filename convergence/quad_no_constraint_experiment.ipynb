{
 "cells": [
  {
   "cell_type": "code",
   "execution_count": 1,
   "metadata": {},
   "outputs": [],
   "source": [
    "import networkx as nx\n",
    "import numpy as np\n",
    "import matplotlib.pyplot as plt\n",
    "import networkx as nx\n",
    "import math\n",
    "import cvxpy as cp\n",
    "\n",
    "from decentr_quad_no_constraint import *\n",
    "import ciropt as co"
   ]
  },
  {
   "cell_type": "code",
   "execution_count": 2,
   "metadata": {},
   "outputs": [
    {
     "name": "stdout",
     "output_type": "stream",
     "text": [
      "{'n_node': 6, 'vector_size': 10}\n"
     ]
    }
   ],
   "source": [
    "# random seed\n",
    "np.random.seed(108)\n",
    "\n",
    "# data generation\n",
    "problem_spec = {}\n",
    "problem_spec['n_node'] = 6\n",
    "problem_spec['vector_size'] = 10\n",
    "print(problem_spec)\n",
    "problem_data = data_generation(problem_spec)\n",
    "network_data = graph_generation_nodes6()\n",
    "\n",
    "problem_data['rho'] = 0.01\n",
    "\n",
    "problem_spec['sc_eps'] = 1\n",
    "\n",
    "# PG-EXTRA hyperparameters\n",
    "problem_data['alpha'] = 2.5\n",
    "problem_data['itr_num'] = 1000"
   ]
  },
  {
   "cell_type": "code",
   "execution_count": 3,
   "metadata": {},
   "outputs": [
    {
     "name": "stdout",
     "output_type": "stream",
     "text": [
      "[26.26567379766173, 0.013573752867480244]\n",
      "[29.280202416421186, 0.002181332707638855]\n",
      "[24.174188713545213, 0.014584563320790805]\n",
      "[26.90974964065195, 0.0013239009890112412]\n",
      "[22.017869951539062, 0.002533092625330057]\n",
      "[24.979905919445166, 0.01438364895100382]\n"
     ]
    }
   ],
   "source": [
    "# print(problem_data['Q'][1])\n",
    "# print(problem_data['b'][1])\n",
    "\n",
    "x = cp.Variable(problem_spec['vector_size'])\n",
    "# f = problem_data['b'][1] @ x\n",
    "\n",
    "Q = problem_data['Q']\n",
    "b = problem_data['b']\n",
    "\n",
    "# print(x @ Q[1] @ x.T)\n",
    "# print(b[1] @ x.T)\n",
    "for j in range(problem_spec['n_node']):\n",
    "    U, s, V = np.linalg.svd(Q[j])\n",
    "    print([np.max(s), np.min(s)])"
   ]
  },
  {
   "cell_type": "code",
   "execution_count": null,
   "metadata": {},
   "outputs": [],
   "source": [
    "nx.draw(network_data[\"G\"], node_color='skyblue', with_labels=True)\n",
    "# plt.savefig(\"plots/graph_n6.pdf\")"
   ]
  },
  {
   "cell_type": "code",
   "execution_count": null,
   "metadata": {},
   "outputs": [],
   "source": [
    "f_star, x_opt_star = cvx_quad_no_constraint(problem_spec, problem_data)\n",
    "print(f\"{f_star=}, {np.linalg.norm(x_opt_star)=}\")"
   ]
  },
  {
   "cell_type": "code",
   "execution_count": null,
   "metadata": {},
   "outputs": [],
   "source": [
    "Q = problem_data['Q']\n",
    "b = problem_data['b']\n",
    " \n",
    "vector_size = problem_spec['vector_size']\n",
    "n_node = problem_spec['n_node']\n",
    "eps = problem_spec['sc_eps']\n",
    "prox_operators = []\n",
    "fi_operators = []\n",
    "\n",
    "# Define functions and proximal operators to implement the method\n",
    "for jj in range(n_node):\n",
    "    # bj = b[jj*vector_size : (jj+1)*vector_size]\n",
    "    prox_operators += [lambda z, alpha:  cvx_prox_fj_quad_no_constraint(z, alpha, problem_spec, problem_data, jj, eps=1e-4)]\n",
    "    fi_operators += [lambda x_kj : (1/2 * x_kj @ Q[jj] @ x_kj.T + b[jj] @ x_kj)[0] ]\n",
    "\n",
    "    # z = np.random.randn(vector_size)\n",
    "    # x1 = prox_fj_geom_mean(z, 1, bj)\n",
    "    # x2 = cvx_prox_fj_quad_no_constraint(z, 1, bj, vector_size)\n",
    "    # assert np.linalg.norm(x1 - x2) / np.linalg.norm(x1) < 1e-5"
   ]
  },
  {
   "cell_type": "code",
   "execution_count": null,
   "metadata": {},
   "outputs": [],
   "source": [
    "# params={\"R\":18, \"Inductance\":10, \"Capacitance\":1, \"h\":1.0541046971920436}\n",
    "# dadmm_c_err_opt_star, dadmm_c_err_opt_reldiff, dadmm_c_const_vio, dadmm_c_f_reldiff = co.dadmm(\"cir_dadmm_c\", problem_spec, problem_data, \n",
    "#                                                                                 network_data, x_opt_star, f_star, prox_operators=prox_operators,\n",
    "#                                                                                 fi_operators=fi_operators,\n",
    "#                                                                                 params=params, printing=True, freq=200)"
   ]
  },
  {
   "cell_type": "code",
   "execution_count": null,
   "metadata": {},
   "outputs": [],
   "source": [
    "params={\"R\":2, \"Inductance\":4, \"Capacitance\":4, \"h\":2.764408907848405}\n",
    "dadmm_c_err_opt_star, dadmm_c_err_opt_reldiff, dadmm_c_const_vio, dadmm_c_f_reldiff = co.dadmm(\"cir_dadmm_c\", problem_spec, problem_data, \n",
    "                                                                                network_data, x_opt_star, f_star, prox_operators=prox_operators,\n",
    "                                                                                fi_operators=fi_operators,\n",
    "                                                                                params=params, printing=True, freq=200)"
   ]
  },
  {
   "cell_type": "code",
   "execution_count": null,
   "metadata": {},
   "outputs": [],
   "source": [
    "# R = 10\n",
    "# admm_err_opt_star, admm_err_opt_reldiff, admm_const_vio, admm_f_reldiff = co.dadmm(\"dadmm\", problem_spec, problem_data, \n",
    "#                                                                                 network_data, x_opt_star, f_star, prox_operators=prox_operators,\n",
    "#                                                                                 fi_operators=fi_operators,\n",
    "#                                                                                 params={\"R\":R}, printing=True, freq=200)"
   ]
  },
  {
   "cell_type": "code",
   "execution_count": null,
   "metadata": {},
   "outputs": [],
   "source": [
    "R = 2\n",
    "admm_err_opt_star, admm_err_opt_reldiff, admm_const_vio, admm_f_reldiff = co.dadmm(\"dadmm\", problem_spec, problem_data, \n",
    "                                                                                network_data, x_opt_star, f_star, prox_operators=prox_operators,\n",
    "                                                                                fi_operators=fi_operators,\n",
    "                                                                                params={\"R\":R}, printing=True, freq=200)"
   ]
  },
  {
   "cell_type": "code",
   "execution_count": null,
   "metadata": {},
   "outputs": [],
   "source": [
    "# R = 1\n",
    "# admm_err_opt_star, admm_err_opt_reldiff, admm_const_vio, admm_f_reldiff = co.dadmm(\"dadmm\", problem_spec, problem_data, \n",
    "#                                                                                 network_data, x_opt_star, f_star, prox_operators=prox_operators,\n",
    "#                                                                                 fi_operators=fi_operators,\n",
    "#                                                                                 params={\"R\":R}, printing=True, freq=200)"
   ]
  },
  {
   "cell_type": "code",
   "execution_count": null,
   "metadata": {},
   "outputs": [],
   "source": [
    "# params={\"R\":18, \"Inductance\":10, \"h\":1.1054814693822324}\n",
    "# ciradmm_err_opt_star, ciradmm_err_opt_reldiff, ciradmm_const_vio, ciradmm_f_reldiff = co.dadmm(\"cir_dadmm\", problem_spec, problem_data, \n",
    "#                                                                                 network_data, x_opt_star, f_star, prox_operators=prox_operators,\n",
    "#                                                                                 fi_operators=fi_operators,\n",
    "#                                                                                 params=params, printing=True, freq=200)"
   ]
  },
  {
   "cell_type": "code",
   "execution_count": null,
   "metadata": {},
   "outputs": [],
   "source": [
    "# apply P-EXTRA \n",
    "problem_data['alpha'] = 0.5\n",
    "pg_op_norm, pg_err_opt_star, pg_err_opt_reldiff, pg_const_vio, pg_f_reldiff = p_extra_quad_no_constraint( problem_spec, problem_data, network_data, x_opt_star, f_star, printing=True, freq=200)\n",
    "\n",
    "# p_extra_quad_no_constraint(problem_spec, problem_data, network_data, x_opt_star, f_star, printing=False, freq=200, params=None)"
   ]
  },
  {
   "cell_type": "code",
   "execution_count": null,
   "metadata": {},
   "outputs": [],
   "source": [
    "# apply P-EXTRA \n",
    "problem_data['alpha'] = 1\n",
    "pg_op_norm, pg_err_opt_star, pg_err_opt_reldiff, pg_const_vio, pg_f_reldiff = p_extra_quad_no_constraint(problem_spec, problem_data, network_data, x_opt_star, f_star, printing=True, freq=200)"
   ]
  },
  {
   "cell_type": "code",
   "execution_count": null,
   "metadata": {},
   "outputs": [],
   "source": [
    "fname = \"n6_circuit_dadmm_c\"\n",
    "\n",
    "\n",
    "\n",
    "plt.rc('text', usetex=True)\n",
    "plt.rc('font', family='serif')\n",
    "plt.rcParams[\"legend.fontsize\"] = 10\n",
    "plt.rcParams[\"lines.linewidth\"] = 2\n",
    "plt.rcParams[\"lines.markersize\"] = 4\n",
    "plt.rcParams[\"legend.framealpha\"] = 0.0\n",
    "plt.rcParams[\"xtick.labelsize\"] = 10\n",
    "plt.rcParams[\"ytick.labelsize\"] = 10\n",
    "plt.rcParams[\"mathtext.fontset\"] = 'cm' # default = 'dejavusans', other options = 'cm', 'stixsans', 'dejavuserif'\n",
    "black, red, blue, green = 'dimgrey', 'coral', 'deepskyblue', 'gold'\n",
    "\n",
    "# operator norm plot (log-log plot)\n",
    "plt.figure(figsize=(5,4))\n",
    "plt.minorticks_off()\n",
    "plt.xscale(\"log\")\n",
    "plt.yscale(\"log\")\n",
    "# plt.plot(pg_f_reldiff, label='P-EXTRA', color=black, linewidth=3)\n",
    "plt.plot(admm_f_reldiff, label='DADMM', color=blue, linewidth=3)\n",
    "# plt.plot(ciradmm_f_reldiff, label='Circuit DADMM',  color=green, linewidth=2)\n",
    "plt.plot(dadmm_c_f_reldiff, label='Circuit DADMM + C',  color=red, linewidth=2)\n",
    "plt.xlabel(r\"$k$\")\n",
    "plt.ylabel(r\"$|f(x^k) - f^\\star|/f^\\star$\")\n",
    "# plt.ylabel(r\"$\\|\\tilde{\\mathbf{A}}x_k\\|^2_M$\")\n",
    "plt.ylim(1e-10, 1e0)\n",
    "plt.legend()\n",
    "plt.savefig(f'plots/freldif_{fname}.pdf', dpi=300)"
   ]
  },
  {
   "cell_type": "code",
   "execution_count": null,
   "metadata": {},
   "outputs": [],
   "source": []
  }
 ],
 "metadata": {
  "kernelspec": {
   "display_name": "circuits",
   "language": "python",
   "name": "python3"
  },
  "language_info": {
   "codemirror_mode": {
    "name": "ipython",
    "version": 3
   },
   "file_extension": ".py",
   "mimetype": "text/x-python",
   "name": "python",
   "nbconvert_exporter": "python",
   "pygments_lexer": "ipython3",
   "version": "3.11.5"
  }
 },
 "nbformat": 4,
 "nbformat_minor": 2
}
