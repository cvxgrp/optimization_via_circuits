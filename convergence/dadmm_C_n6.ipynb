{
 "cells": [
  {
   "cell_type": "code",
   "execution_count": 1,
   "metadata": {},
   "outputs": [],
   "source": [
    "import ciropt as co\n",
    "import cvxpy as cp"
   ]
  },
  {
   "cell_type": "code",
   "execution_count": 46,
   "metadata": {},
   "outputs": [],
   "source": [
    "# R = 2\n",
    "# L_smooth = 0.1 #np.inf\n",
    "# Inductance = 4\n",
    "# Capacitance = 4 # 5\n",
    "\n",
    "mu = 0\n",
    "\n",
    "# R, L_smooth, Inductance, Capacitance = 3, 0.1, 3, 8/3\n",
    "# R, L_smooth, Inductance, Capacitance = 2, 0.1, 4, 4\n",
    "# R, L_smooth, Inductance, Capacitance = 1, 0.1, 8, 8\n",
    "# R, L_smooth, Inductance, Capacitance = 0.5, 0.1, 16, 16\n",
    "# R, L_smooth, Inductance, Capacitance = 1, 0.1, 6, 8\n",
    "\n",
    "# R, L_smooth, Inductance, Capacitance = 0.5, 0.01, 11, 24\n",
    "\n",
    "R, L_smooth, Inductance, Capacitance = 1.5, 0.1, 4.5, 6\n",
    "\n",
    "\n",
    "solver = \"ipopt\"\n",
    "# solver = \"ipopt_qcqp\"\n",
    "# solver = \"ipopt_qcqp_matrix\""
   ]
  },
  {
   "cell_type": "code",
   "execution_count": 47,
   "metadata": {},
   "outputs": [],
   "source": [
    "### Case that worked\n",
    "# R, L_smooth, Inductance, Capacitance = 2, 0.1, 4, 4  # took 10 min\n",
    "# R, L_smooth, Inductance, Capacitance = 1, 0.1, 8, 8  # took 1 hour\n",
    "# R, L_smooth, Inductance, Capacitance = 1, 0.1, 6, 8 # took 28m, problem.obj = problem.b\n",
    "# R, L_smooth, Inductance, Capacitance = 2, 0.01, 3, 4 # took 12m, problem.obj = problem.b, fails verification"
   ]
  },
  {
   "cell_type": "markdown",
   "metadata": {},
   "source": [
    "# Ciropt problem"
   ]
  },
  {
   "cell_type": "code",
   "execution_count": 48,
   "metadata": {},
   "outputs": [
    {
     "name": "stdout",
     "output_type": "stream",
     "text": [
      "mu=0, L_smooth=0.1, R=1.5, Capacitance=6, Inductance=4.5, solver='ipopt'\n"
     ]
    }
   ],
   "source": [
    "print(f\"{mu=}, {L_smooth=}, {R=}, {Capacitance=}, {Inductance=}, {solver=}\")"
   ]
  },
  {
   "cell_type": "code",
   "execution_count": 49,
   "metadata": {},
   "outputs": [
    {
     "name": "stdout",
     "output_type": "stream",
     "text": [
      "dim_G=29, dim_F=12\n",
      "Ipopt total # of variables = 879\n",
      "Actual # of variables = 468\n",
      "3.7360633847098423\n"
     ]
    }
   ],
   "source": [
    "problem = co.dadmm_C_graph6( mu, L_smooth, R, Capacitance, Inductance)\n",
    "problem.obj = problem.b + problem.d \n",
    "# problem.obj = problem.b\n",
    "\n",
    "bounds = {  # 'd': {\"ub\": 100, \"lb\": 1e-4},\n",
    "            # 'b': {\"ub\": 100, \"lb\": 1e-4},\n",
    "            # 'h': {\"ub\": 100, \"lb\": 1e-4},\n",
    "            # 'gamma': {\"ub\": 10, \"lb\": 1e-5}\n",
    "            }\n",
    "\n",
    "# res, sol = problem.solve(solver=solver, bounds=bounds, extra_dim=530, verbose=True)[:2]\n",
    "res, sol = problem.solve(solver=solver, extra_dim=530, verbose=False)[:2]\n",
    "\n",
    "ca_vars = problem.vars\n",
    "print(res[\"b\"])"
   ]
  },
  {
   "cell_type": "code",
   "execution_count": 34,
   "metadata": {},
   "outputs": [
    {
     "data": {
      "text/plain": [
       "{'b': 4.698738838145043,\n",
       " 'h': 3.5014101965570195,\n",
       " 'd': -4.653505817436102e-09,\n",
       " 'gamma': 2.4600253319327394}"
      ]
     },
     "execution_count": 34,
     "metadata": {},
     "output_type": "execute_result"
    }
   ],
   "source": [
    "res"
   ]
  },
  {
   "cell_type": "code",
   "execution_count": 35,
   "metadata": {},
   "outputs": [],
   "source": [
    "# mu=0.0, L_smooth=0.1, R=2, Capacitance=4, Inductance=4, solver='ipopt'\n",
    "# {'b': 2.7644089027398016, 'h': 2.764408907848405, 'd': 0.07044237664742883, 'gamma': 1.3822044539230276} \n",
    "\n",
    "# mu=0.0, L_smooth=0.5, R=50, Capacitance=1, Inductance=10, solver='ipopt_qcqp'\n",
    "# {'b': 0.3978152863640579, 'h': 0.3978152934397974, 'd': 0.0003904411732310108, 'alpha': 0.0, 'beta': 0.0, 'gamma': 0.007956305939653716, 'delta': 0.0}\n",
    "\n",
    "# mu=0.0, L_smooth=0.5, R=18, Capacitance=1, Inductance=5, solver='ipopt_qcqp'\n",
    "# {'b': 0.5425479142544587, 'h': 0.5425477172429249, 'd': 0.0018205564359045578, 'alpha': 0.0, 'beta': 0.0, 'gamma': 0.030141488274104795, 'delta': 0.0}\n",
    "\n",
    "# mu=0.0, L_smooth=0.5, R=18, Capacitance=1, Inductance=10, solver='ipopt_qcqp'\n",
    "# {'b': 1.0541047016940057, 'h': 1.0541046971920436, 'd': 0.005040260539486683, 'alpha': 0.0, 'beta': 0.0, 'gamma': 0.05856137206621561, 'delta': 0.0}"
   ]
  },
  {
   "cell_type": "markdown",
   "metadata": {},
   "source": [
    "# PEP verification"
   ]
  },
  {
   "cell_type": "code",
   "execution_count": 36,
   "metadata": {},
   "outputs": [],
   "source": [
    "# res[\"b\"] = 1.\n",
    "res[\"d\"] = 0\n",
    "# res[\"d\"] = -9.040457075280738e-09"
   ]
  },
  {
   "cell_type": "code",
   "execution_count": 37,
   "metadata": {},
   "outputs": [
    {
     "name": "stdout",
     "output_type": "stream",
     "text": [
      "diff=1.8442955752005774e-09\n"
     ]
    }
   ],
   "source": [
    "problem = co.dadmm_C_graph6( mu, L_smooth, R, Capacitance, Inductance, params=res)\n",
    "diff = problem.solve(verbose=0, solver=cp.MOSEK)\n",
    "print(f\"{diff=}\")"
   ]
  },
  {
   "cell_type": "code",
   "execution_count": null,
   "metadata": {},
   "outputs": [],
   "source": []
  },
  {
   "cell_type": "markdown",
   "metadata": {},
   "source": [
    "# Just for test"
   ]
  },
  {
   "cell_type": "code",
   "execution_count": null,
   "metadata": {},
   "outputs": [],
   "source": [
    "# R, L_smooth, Inductance, Capacitance = 1, 0.1, 8, 8\n",
    "# res = { 'b': 5.5409883698753974, 'h': 5.5409883749567, 'd': 0.17881074671227212, 'gamma': 5.540988374956701 }\n",
    "\n",
    "# R, L_smooth, Inductance, Capacitance = 2, 0.1, 4, 4\n",
    "# res = {'b': 2.7644089027398016, 'h': 2.764408907848405, 'd': 0.07044237664742883, 'gamma': 1.3822044539230276 }\n",
    "\n",
    "# R, L_smooth, Inductance, Capacitance = 2, 0.1, 3, 4\n",
    "# res = { 'b': 2.3, 'h': 2.3, 'd': 0, 'gamma': 1.15 }"
   ]
  },
  {
   "cell_type": "code",
   "execution_count": 27,
   "metadata": {},
   "outputs": [],
   "source": [
    "R, mu, L_smooth, Inductance, Capacitance = 2, 0.01, 1, 4, 4\n",
    "res = { 'b': 2.7644089078484, 'h': 2.7644089078484, 'd': 0, 'gamma': 1.38220445392302 }"
   ]
  },
  {
   "cell_type": "code",
   "execution_count": 28,
   "metadata": {},
   "outputs": [],
   "source": [
    "# R, L_smooth, Inductance, Capacitance = 2, 0.1, 4, 4\n",
    "# res = {'b': 1, 'h': 2.764408907848405, 'd': 0, 'gamma': 2.764408907848405 }\n",
    "\n",
    "# R, L_smooth, Inductance, Capacitance = 3, 1000, 4, 8/9\n",
    "# res = { 'b': 4/3, 'h': 4/3, 'd': 0, 'gamma': 4/9 }\n",
    "\n",
    "# R, L_smooth, Inductance, Capacitance = 3, 10**(100), 4, 8/9\n",
    "# res = { 'b': 4/3, 'h': 4/3, 'd': 0, 'gamma': 4/9 }\n",
    "\n",
    "# R, L_smooth, Inductance, Capacitance = 2, 100, 4, 4\n",
    "# res = { 'b': 2.7644089078484, 'h': 2.7644089078484, 'd': 0, 'gamma': 1.38220445392302 }"
   ]
  },
  {
   "cell_type": "code",
   "execution_count": 29,
   "metadata": {},
   "outputs": [
    {
     "name": "stdout",
     "output_type": "stream",
     "text": [
      "diff=5.854229950071442e-13\n"
     ]
    }
   ],
   "source": [
    "problem = co.dadmm_C_graph6( mu, L_smooth, R, Capacitance, Inductance, params=res)\n",
    "diff = problem.solve(verbose=0, solver=cp.MOSEK)\n",
    "print(f\"{diff=}\")"
   ]
  },
  {
   "cell_type": "code",
   "execution_count": null,
   "metadata": {},
   "outputs": [],
   "source": []
  },
  {
   "cell_type": "code",
   "execution_count": null,
   "metadata": {},
   "outputs": [],
   "source": []
  }
 ],
 "metadata": {
  "kernelspec": {
   "display_name": "osbdo",
   "language": "python",
   "name": "python3"
  },
  "language_info": {
   "codemirror_mode": {
    "name": "ipython",
    "version": 3
   },
   "file_extension": ".py",
   "mimetype": "text/x-python",
   "name": "python",
   "nbconvert_exporter": "python",
   "pygments_lexer": "ipython3",
   "version": "3.11.5"
  }
 },
 "nbformat": 4,
 "nbformat_minor": 2
}
