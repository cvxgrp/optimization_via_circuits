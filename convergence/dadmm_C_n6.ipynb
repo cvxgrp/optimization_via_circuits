{
 "cells": [
  {
   "cell_type": "code",
   "execution_count": 1,
   "metadata": {},
   "outputs": [],
   "source": [
    "import ciropt as co\n",
    "import cvxpy as cp"
   ]
  },
  {
   "cell_type": "code",
   "execution_count": 2,
   "metadata": {},
   "outputs": [],
   "source": [
    "# R = 2\n",
    "# L_smooth = 0.1 #np.inf\n",
    "# Inductance = 4\n",
    "# Capacitance = 4 # 5\n",
    "\n",
    "mu = 0.\n",
    "\n",
    "# R, L_smooth, Inductance, Capacitance = 3, 0.1, 3, 8/3\n",
    "# R, L_smooth, Inductance, Capacitance = 2, 0.1, 4, 4\n",
    "# R, L_smooth, Inductance, Capacitance = 1, 0.1, 8, 8\n",
    "# R, L_smooth, Inductance, Capacitance = 0.5, 0.1, 16, 16\n",
    "# R, L_smooth, Inductance, Capacitance = 1, 0.1, 6, 8\n",
    "\n",
    "# R, L_smooth, Inductance, Capacitance = 0.5, 0.01, 11, 24\n",
    "\n",
    "R, L_smooth, Inductance, Capacitance = 1.5, 0.1, 4.5, 6\n",
    "\n",
    "\n",
    "solver = \"ipopt\"\n",
    "# solver = \"ipopt_qcqp\"\n",
    "# solver = \"ipopt_qcqp_matrix\""
   ]
  },
  {
   "cell_type": "code",
   "execution_count": 3,
   "metadata": {},
   "outputs": [],
   "source": [
    "### Case that worked\n",
    "# R, L_smooth, Inductance, Capacitance = 2, 0.1, 4, 4  # took 10 min\n",
    "# R, L_smooth, Inductance, Capacitance = 1, 0.1, 8, 8  # took 1 hour\n",
    "# R, L_smooth, Inductance, Capacitance = 1, 0.1, 6, 8 # took 28m, problem.obj = problem.b\n",
    "# R, L_smooth, Inductance, Capacitance = 2, 0.01, 3, 4 # took 12m, problem.obj = problem.b, fails verification"
   ]
  },
  {
   "cell_type": "markdown",
   "metadata": {},
   "source": [
    "# Ciropt problem"
   ]
  },
  {
   "cell_type": "code",
   "execution_count": 278,
   "metadata": {},
   "outputs": [
    {
     "name": "stdout",
     "output_type": "stream",
     "text": [
      "mu=0.0, L_smooth=0.1, R=1.5, Capacitance=6, Inductance=4.5, solver='ipopt'\n"
     ]
    }
   ],
   "source": [
    "print(f\"{mu=}, {L_smooth=}, {R=}, {Capacitance=}, {Inductance=}, {solver=}\")"
   ]
  },
  {
   "cell_type": "code",
   "execution_count": 287,
   "metadata": {},
   "outputs": [
    {
     "name": "stdout",
     "output_type": "stream",
     "text": [
      "dim_G=29, dim_F=12\n"
     ]
    }
   ],
   "source": [
    "problem = co.dadmm_C_graph6( mu, L_smooth, R, Capacitance, Inductance)\n",
    "problem.obj = problem.b + problem.d \n",
    "# problem.obj = problem.b\n",
    "\n",
    "bounds = {  # 'd': {\"ub\": 100, \"lb\": 1e-4},\n",
    "            # 'b': {\"ub\": 100, \"lb\": 1e-4},\n",
    "            # 'h': {\"ub\": 100, \"lb\": 1e-4},\n",
    "            # 'gamma': {\"ub\": 10, \"lb\": 1e-5}\n",
    "            }\n",
    "\n",
    "# res, sol = problem.solve(solver=solver, bounds=bounds, extra_dim=530, verbose=True)[:2]\n",
    "res, sol = problem.solve(solver=solver, extra_dim=530, verbose=False)[:2]\n",
    "\n",
    "ca_vars = problem.vars\n",
    "print(res[\"b\"])"
   ]
  },
  {
   "cell_type": "code",
   "execution_count": 286,
   "metadata": {},
   "outputs": [
    {
     "data": {
      "text/plain": [
       "{'b': 3.8361256468330485,\n",
       " 'h': 3.8361257015293804,\n",
       " 'd': -7.352231050516314e-09,\n",
       " 'gamma': 2.5574171343500285}"
      ]
     },
     "execution_count": 286,
     "metadata": {},
     "output_type": "execute_result"
    }
   ],
   "source": [
    "res"
   ]
  },
  {
   "cell_type": "code",
   "execution_count": 164,
   "metadata": {},
   "outputs": [],
   "source": [
    "# mu=0.0, L_smooth=0.1, R=2, Capacitance=4, Inductance=4, solver='ipopt'\n",
    "# {'b': 2.7644089027398016, 'h': 2.764408907848405, 'd': 0.07044237664742883, 'gamma': 1.3822044539230276} \n",
    "\n",
    "# mu=0.0, L_smooth=0.5, R=50, Capacitance=1, Inductance=10, solver='ipopt_qcqp'\n",
    "# {'b': 0.3978152863640579, 'h': 0.3978152934397974, 'd': 0.0003904411732310108, 'alpha': 0.0, 'beta': 0.0, 'gamma': 0.007956305939653716, 'delta': 0.0}\n",
    "\n",
    "# mu=0.0, L_smooth=0.5, R=18, Capacitance=1, Inductance=5, solver='ipopt_qcqp'\n",
    "# {'b': 0.5425479142544587, 'h': 0.5425477172429249, 'd': 0.0018205564359045578, 'alpha': 0.0, 'beta': 0.0, 'gamma': 0.030141488274104795, 'delta': 0.0}\n",
    "\n",
    "# mu=0.0, L_smooth=0.5, R=18, Capacitance=1, Inductance=10, solver='ipopt_qcqp'\n",
    "# {'b': 1.0541047016940057, 'h': 1.0541046971920436, 'd': 0.005040260539486683, 'alpha': 0.0, 'beta': 0.0, 'gamma': 0.05856137206621561, 'delta': 0.0}"
   ]
  },
  {
   "cell_type": "markdown",
   "metadata": {},
   "source": [
    "# PEP verification"
   ]
  },
  {
   "cell_type": "code",
   "execution_count": 283,
   "metadata": {},
   "outputs": [],
   "source": [
    "# res[\"b\"] = 1.\n",
    "res[\"d\"] = 0\n",
    "# res[\"d\"] = -9.040457075280738e-09"
   ]
  },
  {
   "cell_type": "code",
   "execution_count": 284,
   "metadata": {},
   "outputs": [
    {
     "name": "stdout",
     "output_type": "stream",
     "text": [
      "diff=7.0846954969283615e-09\n"
     ]
    }
   ],
   "source": [
    "problem = co.dadmm_C_graph6( mu, L_smooth, R, Capacitance, Inductance, params=res)\n",
    "diff = problem.solve(verbose=0, solver=cp.MOSEK)\n",
    "print(f\"{diff=}\")"
   ]
  },
  {
   "cell_type": "code",
   "execution_count": null,
   "metadata": {},
   "outputs": [],
   "source": []
  },
  {
   "cell_type": "markdown",
   "metadata": {},
   "source": [
    "# Just for test"
   ]
  },
  {
   "cell_type": "code",
   "execution_count": 58,
   "metadata": {},
   "outputs": [],
   "source": [
    "# R, L_smooth, Inductance, Capacitance = 1, 0.1, 8, 8\n",
    "# res = { 'b': 5.5409883698753974, 'h': 5.5409883749567, 'd': 0.17881074671227212, 'gamma': 5.540988374956701 }\n",
    "\n",
    "# R, L_smooth, Inductance, Capacitance = 2, 0.1, 4, 4\n",
    "# res = {'b': 2.7644089027398016, 'h': 2.764408907848405, 'd': 0.07044237664742883, 'gamma': 1.3822044539230276 }\n",
    "\n",
    "# R, L_smooth, Inductance, Capacitance = 2, 0.1, 3, 4\n",
    "# res = { 'b': 2.3, 'h': 2.3, 'd': 0, 'gamma': 1.15 }"
   ]
  },
  {
   "cell_type": "code",
   "execution_count": 10,
   "metadata": {},
   "outputs": [],
   "source": [
    "R, L_smooth, Inductance, Capacitance = 2, 100, 4, 4\n",
    "res = { 'b': 2.7644089078484, 'h': 2.7644089078484, 'd': 0, 'gamma': 1.38220445392302 }"
   ]
  },
  {
   "cell_type": "code",
   "execution_count": 11,
   "metadata": {},
   "outputs": [],
   "source": [
    "# R, L_smooth, Inductance, Capacitance = 2, 0.1, 4, 4\n",
    "# res = {'b': 1, 'h': 2.764408907848405, 'd': 0, 'gamma': 2.764408907848405 }\n",
    "\n",
    "# R, L_smooth, Inductance, Capacitance = 3, 1000, 4, 8/9\n",
    "# res = { 'b': 4/3, 'h': 4/3, 'd': 0, 'gamma': 4/9 }\n",
    "\n",
    "# R, L_smooth, Inductance, Capacitance = 3, 10**(100), 4, 8/9\n",
    "# res = { 'b': 4/3, 'h': 4/3, 'd': 0, 'gamma': 4/9 }\n",
    "\n",
    "# R, L_smooth, Inductance, Capacitance = 2, 100, 4, 4\n",
    "# res = { 'b': 2.7644089078484, 'h': 2.7644089078484, 'd': 0, 'gamma': 1.38220445392302 }"
   ]
  },
  {
   "cell_type": "code",
   "execution_count": 12,
   "metadata": {},
   "outputs": [
    {
     "ename": "UserWarning",
     "evalue": "PEPit didn't find any nontrivial worst-case guarantee. It seems that the optimal value of your problem is unbounded.",
     "output_type": "error",
     "traceback": [
      "\u001b[1;31m---------------------------------------------------------------------------\u001b[0m",
      "\u001b[1;31mUserWarning\u001b[0m                               Traceback (most recent call last)",
      "\u001b[1;32m<ipython-input-12-66a31aad676d>\u001b[0m in \u001b[0;36m<module>\u001b[1;34m\u001b[0m\n\u001b[0;32m      1\u001b[0m \u001b[0mproblem\u001b[0m \u001b[1;33m=\u001b[0m \u001b[0mco\u001b[0m\u001b[1;33m.\u001b[0m\u001b[0mdadmm_C_graph6\u001b[0m\u001b[1;33m(\u001b[0m \u001b[0mmu\u001b[0m\u001b[1;33m,\u001b[0m \u001b[0mL_smooth\u001b[0m\u001b[1;33m,\u001b[0m \u001b[0mR\u001b[0m\u001b[1;33m,\u001b[0m \u001b[0mCapacitance\u001b[0m\u001b[1;33m,\u001b[0m \u001b[0mInductance\u001b[0m\u001b[1;33m,\u001b[0m \u001b[0mparams\u001b[0m\u001b[1;33m=\u001b[0m\u001b[0mres\u001b[0m\u001b[1;33m)\u001b[0m\u001b[1;33m\u001b[0m\u001b[1;33m\u001b[0m\u001b[0m\n\u001b[1;32m----> 2\u001b[1;33m \u001b[0mdiff\u001b[0m \u001b[1;33m=\u001b[0m \u001b[0mproblem\u001b[0m\u001b[1;33m.\u001b[0m\u001b[0msolve\u001b[0m\u001b[1;33m(\u001b[0m\u001b[0mverbose\u001b[0m\u001b[1;33m=\u001b[0m\u001b[1;36m0\u001b[0m\u001b[1;33m,\u001b[0m \u001b[0msolver\u001b[0m\u001b[1;33m=\u001b[0m\u001b[0mcp\u001b[0m\u001b[1;33m.\u001b[0m\u001b[0mMOSEK\u001b[0m\u001b[1;33m)\u001b[0m\u001b[1;33m\u001b[0m\u001b[1;33m\u001b[0m\u001b[0m\n\u001b[0m\u001b[0;32m      3\u001b[0m \u001b[0mprint\u001b[0m\u001b[1;33m(\u001b[0m\u001b[1;34mf\"{diff=}\"\u001b[0m\u001b[1;33m)\u001b[0m\u001b[1;33m\u001b[0m\u001b[1;33m\u001b[0m\u001b[0m\n",
      "\u001b[1;32mc:\\Users\\owner\\anaconda3\\lib\\site-packages\\PEPit\\pep.py\u001b[0m in \u001b[0;36msolve\u001b[1;34m(self, verbose, return_full_cvxpy_problem, dimension_reduction_heuristic, eig_regularization, tol_dimension_reduction, **kwargs)\u001b[0m\n\u001b[0;32m    494\u001b[0m         \u001b[1;31m# Raise explicit error when wc_value in infinite\u001b[0m\u001b[1;33m\u001b[0m\u001b[1;33m\u001b[0m\u001b[1;33m\u001b[0m\u001b[0m\n\u001b[0;32m    495\u001b[0m         \u001b[1;32mif\u001b[0m \u001b[0mwc_value\u001b[0m \u001b[1;33m==\u001b[0m \u001b[0mnp\u001b[0m\u001b[1;33m.\u001b[0m\u001b[0minf\u001b[0m\u001b[1;33m:\u001b[0m\u001b[1;33m\u001b[0m\u001b[1;33m\u001b[0m\u001b[0m\n\u001b[1;32m--> 496\u001b[1;33m             raise UserWarning(\"PEPit didn't find any nontrivial worst-case guarantee. \"\n\u001b[0m\u001b[0;32m    497\u001b[0m                               \"It seems that the optimal value of your problem is unbounded.\")\n\u001b[0;32m    498\u001b[0m \u001b[1;33m\u001b[0m\u001b[0m\n",
      "\u001b[1;31mUserWarning\u001b[0m: PEPit didn't find any nontrivial worst-case guarantee. It seems that the optimal value of your problem is unbounded."
     ]
    }
   ],
   "source": [
    "problem = co.dadmm_C_graph6( mu, L_smooth, R, Capacitance, Inductance, params=res)\n",
    "diff = problem.solve(verbose=0, solver=cp.MOSEK)\n",
    "print(f\"{diff=}\")"
   ]
  },
  {
   "cell_type": "code",
   "execution_count": null,
   "metadata": {},
   "outputs": [],
   "source": []
  },
  {
   "cell_type": "code",
   "execution_count": null,
   "metadata": {},
   "outputs": [],
   "source": []
  }
 ],
 "metadata": {
  "kernelspec": {
   "display_name": "osbdo",
   "language": "python",
   "name": "python3"
  },
  "language_info": {
   "codemirror_mode": {
    "name": "ipython",
    "version": 3
   },
   "file_extension": ".py",
   "mimetype": "text/x-python",
   "name": "python",
   "nbconvert_exporter": "python",
   "pygments_lexer": "ipython3",
   "version": "3.8.5"
  }
 },
 "nbformat": 4,
 "nbformat_minor": 2
}
