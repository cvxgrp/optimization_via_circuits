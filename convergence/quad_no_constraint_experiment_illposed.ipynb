{
 "cells": [
  {
   "cell_type": "code",
   "execution_count": 20,
   "metadata": {},
   "outputs": [],
   "source": [
    "import networkx as nx\n",
    "import numpy as np\n",
    "import matplotlib.pyplot as plt\n",
    "import networkx as nx\n",
    "import math\n",
    "import cvxpy as cp\n",
    "\n",
    "from decentr_quad_no_constraint_illposed import *\n",
    "# from decentr_quad_no_constraint import *\n",
    "import ciropt as co"
   ]
  },
  {
   "cell_type": "code",
   "execution_count": 21,
   "metadata": {},
   "outputs": [
    {
     "name": "stdout",
     "output_type": "stream",
     "text": [
      "{'n_node': 6, 'vector_size': 50, 'sc_theta': 1e-05, 'sc_perturb': True, 'sc_index_set': {0, 1, 2, 3, 4, 5}}\n"
     ]
    }
   ],
   "source": [
    "# random seed\n",
    "np.random.seed(108)\n",
    "\n",
    "# data generation\n",
    "problem_spec = {}\n",
    "problem_spec['n_node'] = 6\n",
    "# problem_spec['vector_size'] = 10\n",
    "problem_spec['vector_size'] = 50\n",
    "# problem_spec['sc_theta'] = 1\n",
    "# problem_spec['sc_theta'] = 0.1\n",
    "problem_spec['sc_theta'] = 1e-5\n",
    "problem_spec['sc_perturb'] = True\n",
    "# problem_spec['sc_index_set'] = {3,4}\n",
    "problem_spec['sc_index_set'] = {0,1,2,3,4,5}\n",
    "print(problem_spec)\n",
    "problem_data = data_generation(problem_spec)\n",
    "network_data = graph_generation_nodes6()\n",
    "problem_data['itr_num'] = 1000"
   ]
  },
  {
   "cell_type": "code",
   "execution_count": 22,
   "metadata": {},
   "outputs": [
    {
     "name": "stdout",
     "output_type": "stream",
     "text": [
      "[0.9999999999999992, 0.33673795921734706, 9.999997360412787e-11]\n",
      "[0.9999999999999998, 0.336737959217347, 9.999997879956517e-11]\n",
      "[1.0000000000000002, 0.33673795921734706, 1.0000006746955478e-10]\n",
      "[1.000000000000001, 0.33673795921734717, 9.99999466609377e-11]\n",
      "[0.9999999999999999, 0.33673795921734706, 1.0000002070150072e-10]\n",
      "[0.9999999999999998, 0.33673795921734706, 1.0000004377337162e-10]\n"
     ]
    }
   ],
   "source": [
    "Q = problem_data['Q']\n",
    "b = problem_data['b']\n",
    "n_node = problem_spec['n_node']\n",
    "vector_size = problem_spec['vector_size']\n",
    "sc_index_set = problem_spec['sc_index_set']\n",
    "\n",
    "for j in range(n_node):\n",
    "    U, s, V = np.linalg.svd(Q[j])\n",
    "    print([np.max(s), np.average(s), np.min(s)])"
   ]
  },
  {
   "cell_type": "code",
   "execution_count": 23,
   "metadata": {},
   "outputs": [
    {
     "data": {
      "image/png": "[encoded data removed]",
      "text/plain": [
       "<Figure size 640x480 with 1 Axes>"
      ]
     },
     "metadata": {},
     "output_type": "display_data"
    }
   ],
   "source": [
    "nx.draw(network_data[\"G\"], node_color='skyblue', with_labels=True)\n",
    "plt.savefig(\"plots/graph_n6.pdf\")"
   ]
  },
  {
   "cell_type": "code",
   "execution_count": 24,
   "metadata": {},
   "outputs": [
    {
     "name": "stdout",
     "output_type": "stream",
     "text": [
      "f_star=-8985702.948345037, np.linalg.norm(x_opt_star)=3381.7725206812497\n"
     ]
    }
   ],
   "source": [
    "f_star, x_opt_star = min_cvx_quad_no_constraint(problem_spec, problem_data)\n",
    "print(f\"{f_star=}, {np.linalg.norm(x_opt_star)=}\")"
   ]
  },
  {
   "cell_type": "code",
   "execution_count": 25,
   "metadata": {},
   "outputs": [
    {
     "name": "stdout",
     "output_type": "stream",
     "text": [
      "f_star=-8985702.948345035, np.linalg.norm(x_opt_star)=3381.7725206812493\n"
     ]
    }
   ],
   "source": [
    "f_star, x_opt_star = min_quad_no_constraint(problem_spec, problem_data)\n",
    "print(f\"{f_star=}, {np.linalg.norm(x_opt_star)=}\")"
   ]
  },
  {
   "cell_type": "code",
   "execution_count": 26,
   "metadata": {},
   "outputs": [],
   "source": [
    "Q = problem_data['Q']\n",
    "b = problem_data['b']\n",
    " \n",
    "vector_size = problem_spec['vector_size']\n",
    "n_node = problem_spec['n_node']\n",
    "prox_operators = []\n",
    "fi_operators = []\n",
    "\n",
    "# Define functions and proximal operators to implement the method\n",
    "for jj in range(n_node):\n",
    "    Qj = Q[jj]\n",
    "    bj = b[jj]\n",
    "    # prox_operators += [lambda z, rho: cvx_prox_fj_quad_no_constraint(z, rho, problem_spec, problem_data, jj) ]\n",
    "    prox_operators += [lambda z, rho, Qj=Qj, bj=bj, vector_size=vector_size : prox_fj_quad_no_constraint(z, rho, Qj, bj, vector_size) ]\n",
    "    fi_operators += [lambda x_kj, Qj=Qj, bj=bj : 1/2 * x_kj @ Qj @ x_kj.T + np.dot(bj[0], x_kj) ]\n",
    "\n",
    "    c = np.random.randn(vector_size)\n",
    "    x1 = prox_operators[-1](c, 1/5)\n",
    "    x2 = cvx_prox_fj_quad_no_constraint(c, 1/5, problem_spec, problem_data, jj, eps=1e-4)\n",
    "    assert np.linalg.norm(x1 - x2) / np.linalg.norm(x1) < 1e-5"
   ]
  },
  {
   "cell_type": "code",
   "execution_count": 36,
   "metadata": {},
   "outputs": [
    {
     "name": "stdout",
     "output_type": "stream",
     "text": [
      "new best_R : 0.2 , new best_value : 1.8500173768224127e-05\n",
      "new best_R : 0.4 , new best_value : 2.1200078930593313e-07\n",
      "new best_R : 0.6 , new best_value : 8.725781709996327e-09\n",
      "new best_R : 0.8 , new best_value : 3.465495860127907e-10\n",
      "new best_R : 1.0 , new best_value : 1.3663942600738025e-11\n",
      "new best_R : 1.2 , new best_value : 5.198643248125807e-13\n",
      "new best_R : 1.4 , new best_value : 1.8668525223242078e-14\n",
      "new best_R : 1.6 , new best_value : 8.540342429464501e-16\n",
      "new best_R : 1.8 , new best_value : 2.446020404555365e-16\n",
      "new best_R : 2.0 , new best_value : 2.300917499200386e-16\n",
      "new best_R : 2.2 , new best_value : 1.9485247290525791e-16\n",
      "best_R : 2.2\n"
     ]
    }
   ],
   "source": [
    "best_R = 1\n",
    "find_best = True\n",
    "\n",
    "# R = 18\n",
    "start, end, space = 0.2, 4, 0.2\n",
    "# start, end, space = 0.02, 0.4, 0.02\n",
    "# start, end, space = 0.001, 0.02, 0.001\n",
    "# start, end, space = 0.0001, 0.002, 0.0001\n",
    "\n",
    "\n",
    "best_value = 1\n",
    "\n",
    "if find_best == True:\n",
    "    for r in np.arange(start, end, space) :\n",
    "        R = round(r, 5)\n",
    "        # print(\"Testing R :\", r)\n",
    "        admm_err_opt_star, admm_err_opt_reldiff, admm_const_vio, admm_f_reldiff = co.dadmm(\"dadmm\", problem_spec, problem_data, \n",
    "                                                                                network_data, x_opt_star, f_star, prox_operators=prox_operators,\n",
    "                                                                                fi_operators=fi_operators,\n",
    "                                                                                params={\"R\":R}, printing=False, freq=200)\n",
    "        # new_val = sum(admm_f_reldiff[-10:]) / 10\n",
    "        # new_val = sum(admm_f_reldiff[-300:]) / 300\n",
    "        # new_val = sum(admm_f_reldiff[-300:-200]) / 100\n",
    "        new_val = sum(admm_f_reldiff[300:400]) / 100\n",
    "        if new_val < best_value:\n",
    "            print(\"new best_R :\", round(r, 5),  \", new best_value :\", new_val)\n",
    "            best_value = new_val\n",
    "            best_R = round(r, 5)\n",
    "\n",
    "print(\"best_R :\", best_R)"
   ]
  },
  {
   "cell_type": "code",
   "execution_count": 37,
   "metadata": {},
   "outputs": [
    {
     "name": "stdout",
     "output_type": "stream",
     "text": [
      "ii=0, f_reldiff[-1]=0.43986104973886264\n",
      "ii=200, f_reldiff[-1]=2.4667493910346514e-14\n",
      "ii=400, f_reldiff[-1]=2.0728986479282786e-16\n",
      "ii=600, f_reldiff[-1]=2.0728986479282786e-16\n",
      "ii=800, f_reldiff[-1]=2.0728986479282786e-16\n",
      "ii=999, f_reldiff[-1]=0.0\n"
     ]
    }
   ],
   "source": [
    "R = best_R\n",
    "# R = 3\n",
    "# R = 2\n",
    "# R = 1\n",
    "# R = 0.5\n",
    "admm_err_opt_star, admm_err_opt_reldiff, admm_const_vio, admm_f_reldiff = co.dadmm(\"dadmm\", problem_spec, problem_data, \n",
    "                                                                        network_data, x_opt_star, f_star, prox_operators=prox_operators,\n",
    "                                                                        fi_operators=fi_operators,\n",
    "                                                                        params={\"R\":R}, printing=True, freq=200)\n"
   ]
  },
  {
   "cell_type": "code",
   "execution_count": 39,
   "metadata": {},
   "outputs": [
    {
     "name": "stdout",
     "output_type": "stream",
     "text": [
      "new best_rho : 0.1 new best_value : 2.0566025473471577e-06\n",
      "new best_rho : 0.2 new best_value : 1.7696103968324393e-07\n",
      "new best_rho : 0.3 new best_value : 3.8172022935333835e-09\n",
      "new best_rho : 0.4 new best_value : 1.1583531353529914e-10\n",
      "new best_rho : 0.5 new best_value : 7.58689777147963e-11\n",
      "new best_rho : 0.6 new best_value : 6.608234021254193e-11\n",
      "new best_rho : 0.7 new best_value : 5.904422743323106e-11\n",
      "new best_rho : 0.8 new best_value : 5.343160352322885e-11\n",
      "new best_rho : 0.9 new best_value : 4.813610201287991e-11\n",
      "new best_rho : 1.0 new best_value : 4.323767045723762e-11\n",
      "new best_rho : 1.1 new best_value : 3.8651728372770506e-11\n",
      "new best_rho : 1.2 new best_value : 3.44914995565271e-11\n",
      "new best_rho : 1.3 new best_value : 3.123005057344428e-11\n",
      "new best_rho : 1.4 new best_value : 2.8282699630887456e-11\n",
      "new best_rho : 1.5 new best_value : 2.6088016114494733e-11\n",
      "new best_rho : 1.6 new best_value : 2.4247619997614052e-11\n",
      "new best_rho : 1.7 new best_value : 2.3220730882214157e-11\n",
      "best_rho : 1.7\n"
     ]
    }
   ],
   "source": [
    "# apply P-EXTRA \n",
    "best_rho = 1\n",
    "find_best = True\n",
    "\n",
    "# problem_data['rho'] = 0.01\n",
    "# problem_data['rho'] = 0.1\n",
    "# problem_data['rho'] = 0.2\n",
    "# problem_data['rho'] = 0.5\n",
    "\n",
    "# start = 0.2\n",
    "start, end, space = 0.1, 2, 0.1\n",
    "# start, end, space = 0.0005, 0.01, 0.0005\n",
    "# start, end, space = 0.0001, 0.002, 0.0001\n",
    "# start, end, space = 0.00001, 0.0002, 0.00001\n",
    "\n",
    "best_value = 1\n",
    "\n",
    "if find_best == True:\n",
    "    for r in np.arange(start, end, space) :\n",
    "        problem_data['rho'] = round(r, 5)\n",
    "        # print(\"Testing rho :\", r)\n",
    "        pg_op_norm, pg_err_opt_star, pg_err_opt_reldiff, pg_const_vio, pg_f_reldiff = p_extra_quad_no_constraint(problem_spec, problem_data, network_data, x_opt_star, f_star, printing=False, freq=200)\n",
    "        # new_val = sum(pg_f_reldiff[-10:]) / 10\n",
    "        # new_val = sum(pg_f_reldiff[-300:]) / 300\n",
    "        # new_val = sum(pg_f_reldiff[-300:-200]) / 100\n",
    "        new_val = sum(pg_f_reldiff[300:400]) / 100\n",
    "        if new_val < best_value:\n",
    "            print(\"new best_rho :\", round(r, 5),  \"new best_value :\", new_val)\n",
    "            best_value = new_val\n",
    "            best_rho = round(r, 5)\n",
    "\n",
    "print(\"best_rho :\",best_rho)"
   ]
  },
  {
   "cell_type": "code",
   "execution_count": 40,
   "metadata": {},
   "outputs": [
    {
     "name": "stdout",
     "output_type": "stream",
     "text": [
      "ii=0, f_reldiff[-1]=0.2393525128371782, err_opt_reldiff[-1]=0.7155643878082208\n",
      "ii=200, f_reldiff[-1]=5.2124691504437074e-08, err_opt_reldiff[-1]=3.6919763321594267e-07\n",
      "ii=400, f_reldiff[-1]=4.5375751403150017e-13, err_opt_reldiff[-1]=1.5047833073555282e-12\n",
      "ii=600, f_reldiff[-1]=6.218695943784836e-16, err_opt_reldiff[-1]=2.2014150446229174e-14\n",
      "ii=800, f_reldiff[-1]=4.145797295856557e-16, err_opt_reldiff[-1]=2.8245661293219515e-14\n",
      "ii=999, f_reldiff[-1]=4.145797295856557e-16, err_opt_reldiff[-1]=3.467556361942148e-14\n"
     ]
    }
   ],
   "source": [
    "problem_data['rho'] = best_rho\n",
    "# problem_data['rho'] = 1\n",
    "pg_op_norm, pg_err_opt_star, pg_err_opt_reldiff, pg_const_vio, pg_f_reldiff = p_extra_quad_no_constraint(problem_spec, problem_data, network_data, x_opt_star, f_star, printing=True, freq=200)"
   ]
  },
  {
   "cell_type": "code",
   "execution_count": 41,
   "metadata": {},
   "outputs": [],
   "source": [
    "# params={\"R\":2, \"Inductance\":4, \"Capacitance\":4, \"h\":2.764408907848405}\n",
    "# params={\"R\":18, \"Inductance\":10, \"Capacitance\":1, \"h\":1.0541046971920436}\n",
    "# params={\"R\":18, \"Inductance\":10, \"h\":1.1054814693822324}\n",
    "# dadmm_c_all_err_opt_star, dadmm_c_all_err_opt_reldiff, dadmm_c_all_const_vio, dadmm_c_all_f_reldiff = co.dadmm(\"cir_dadmm_c\", problem_spec, problem_data, \n",
    "#                                                                                 network_data, x_opt_star, f_star, prox_operators=prox_operators,\n",
    "#                                                                                 fi_operators=fi_operators,\n",
    "#                                                                                 params=params, printing=True, sc_index_set={1,2,3,4,5,6}, freq=200)"
   ]
  },
  {
   "cell_type": "code",
   "execution_count": 49,
   "metadata": {},
   "outputs": [
    {
     "name": "stdout",
     "output_type": "stream",
     "text": [
      "ii=0, f_reldiff[-1]=0.34100126785014795\n",
      "ii=200, f_reldiff[-1]=3.0579400854237967e-12\n",
      "ii=400, f_reldiff[-1]=2.0728986479282786e-16\n",
      "ii=600, f_reldiff[-1]=4.145797295856557e-16\n",
      "ii=800, f_reldiff[-1]=2.0728986479282786e-16\n",
      "ii=999, f_reldiff[-1]=2.0728986479282786e-16\n"
     ]
    }
   ],
   "source": [
    "# params={\"R\":0.5, \"Inductance\":4, \"Capacitance\":16, \"h\":2.764408907848405}\n",
    "# params={\"R\":1, \"Inductance\":4, \"Capacitance\":8, \"h\":2.764408907848405}\n",
    "# params={\"R\":1, \"Inductance\":4, \"Capacitance\":4, \"h\":1.382204453924203}\n",
    "\n",
    "# params={\"R\":3, \"Inductance\":3, \"Capacitance\":8/3, \"h\":1.6540863202464} # worked good for R=3, N(0.5,1)\n",
    "# params={\"R\":3, \"Inductance\":3, \"Capacitance\":8/3, \"h\":1.842939271898937} # worked good for R=3, N(0.5,1)\n",
    "\n",
    "\n",
    "\n",
    "# params={\"R\":1, \"Inductance\":6, \"Capacitance\":8, \"h\":5.52881781569681} # worked good for Q[j] = Q[j]*50\n",
    "# params={\"R\":1, \"Inductance\":6, \"Capacitance\":20, \"h\":5.52881781569681} # worked good for Q[j] = Q[j]*50\n",
    "\n",
    "# params={\"R\":1, \"Inductance\":8, \"Capacitance\":8, \"h\":5.5409883749567} # worked good for Q[j] = Q[j]*50\n",
    "\n",
    "# params={\"R\":0.5, \"Inductance\":11, \"Capacitance\":24, \"h\":10} # only test\n",
    "# params={\"R\":1, \"Inductance\":6, \"Capacitance\":8, \"h\":5.13906193644284} # verified\n",
    "# params={\"R\":2, \"Inductance\":3, \"Capacitance\":4, \"h\":2.321989931} # verified\n",
    "# params={\"R\":3, \"Inductance\":3, \"Capacitance\":8/3, \"h\":1.6540863202464} # verified\n",
    "\n",
    "\n",
    "# params={\"R\":4, \"Inductance\":2, \"Capacitance\":2, \"h\":1} # not verified, but worked well\n",
    "\n",
    "# params={\"R\":2, \"Inductance\":4, \"Capacitance\":4, \"h\":2.764408907848405} # verified\n",
    "\n",
    "\n",
    "# params={\"R\":0.5, \"Inductance\":11, \"Capacitance\":20, \"h\":10} # only test\n",
    "# params={\"R\":2, \"Inductance\":3, \"Capacitance\":4, \"h\":3.4} # not verified, but worked well for [2.5,3.5]\n",
    "\n",
    "\n",
    "# params={\"R\":1.5, \"Inductance\":4.5, \"Capacitance\":6, \"h\":4} # not verified, but worked well\n",
    "\n",
    "# params={\"R\":2, \"Inductance\":3, \"Capacitance\":4, \"h\":2.764408907848405} # this also works\n",
    "params={\"R\":2, \"Inductance\":3, \"Capacitance\":3, \"h\":2.764408907848405} # this also works\n",
    "\n",
    "# params={\"R\":2, \"Inductance\":4, \"Capacitance\":4, \"h\":2.764408907848405}\n",
    "# params={\"R\":18, \"Inductance\":10, \"Capacitance\":1, \"h\":1.0541046971920436}\n",
    "# params={\"R\":18, \"Inductance\":10, \"h\":1.1054814693822324}\n",
    "\n",
    "\n",
    "# params={\"R\":3, \"Inductance\":2, \"Capacitance\":8/3, \"h\":1.6540863202464} # fail\n",
    "\n",
    "\n",
    "# params={\"R\":0.005, \"Inductance\":0.005, \"Capacitance\":400, \"h\":1} # Same as DADMM\n",
    "# params={\"R\":0.007, \"Inductance\":0.0044, \"Capacitance\":340, \"h\":1.2} # works well\n",
    "\n",
    "# params={\"R\":0.0003, \"Inductance\":0.0003, \"Capacitance\":6666, \"h\":1} # Same as DADMM\n",
    "# params={\"R\":0.0003, \"Inductance\":0.0003, \"Capacitance\":6666, \"h\":1.2} # Work better\n",
    "# params={\"R\":0.0004, \"Inductance\":0.0003, \"Capacitance\":6666, \"h\":1.3} # Work better\n",
    "# params={\"R\":0.0003, \"Inductance\":0.0003, \"Capacitance\":7000, \"h\":1.2} # Work better # for now best\n",
    "# params={\"R\":0.0004, \"Inductance\":0.0003, \"Capacitance\":6666, \"h\":1.3} # Work better\n",
    "\n",
    "\n",
    "\n",
    "# params={\"R\":0.005, \"Inductance\":0.005, \"Capacitance\":400, \"h\":1} # Same as DADMM\n",
    "\n",
    "dadmm_c_err_opt_star, dadmm_c_err_opt_reldiff, dadmm_c_const_vio, dadmm_c_f_reldiff  = co.dadmm(\"cir_dadmm_c\", problem_spec, problem_data, \n",
    "                                                                                network_data, x_opt_star, f_star, prox_operators=prox_operators,\n",
    "                                                                                fi_operators=fi_operators,\n",
    "                                                                                params=params, printing=True, sc_index_set=sc_index_set, freq=200)"
   ]
  },
  {
   "cell_type": "code",
   "execution_count": 50,
   "metadata": {},
   "outputs": [
    {
     "data": {
      "image/png": "[encoded data removed]",
      "text/plain": [
       "<Figure size 500x400 with 1 Axes>"
      ]
     },
     "metadata": {},
     "output_type": "display_data"
    }
   ],
   "source": [
    "fname = \"n6_qp_circuit_dadmm_c\"\n",
    "\n",
    "plt.rc('text', usetex=True)\n",
    "plt.rc('font', family='serif')\n",
    "plt.rcParams[\"legend.fontsize\"] = 10\n",
    "plt.rcParams[\"lines.linewidth\"] = 2\n",
    "plt.rcParams[\"lines.markersize\"] = 4\n",
    "plt.rcParams[\"legend.framealpha\"] = 0.0\n",
    "plt.rcParams[\"xtick.labelsize\"] = 10\n",
    "plt.rcParams[\"ytick.labelsize\"] = 10\n",
    "plt.rcParams[\"mathtext.fontset\"] = 'cm' # default = 'dejavusans', other options = 'cm', 'stixsans', 'dejavuserif'\n",
    "black, red, blue, green = 'dimgrey', 'coral', 'deepskyblue', 'green'\n",
    "\n",
    "# operator norm plot (log-log plot)\n",
    "plt.figure(figsize=(5,4))\n",
    "plt.minorticks_off()\n",
    "plt.xscale(\"log\")\n",
    "plt.yscale(\"log\")\n",
    "plt.plot(pg_f_reldiff, label='P-EXTRA', color=black, linewidth=1)\n",
    "plt.plot(admm_f_reldiff, label='DADMM', color=blue, linewidth=1)\n",
    "# plt.plot(dadmm_c_all_f_reldiff, label='Circuit DADMM + C-All',  color=green, linewidth=1)\n",
    "plt.plot(dadmm_c_f_reldiff, label='Circuit DADMM + C',  color=red, linewidth=2)\n",
    "plt.xlabel(r\"$k$\")\n",
    "plt.ylabel(r\"$|f(x^k) - f^\\star|/|f^\\star|$\")\n",
    "# plt.ylabel(r\"$\\|\\tilde{\\mathbf{A}}x_k\\|^2_M$\")\n",
    "plt.ylim(1e-15, 1e+2)\n",
    "# plt.autoscale(enable=True, axis='y', tight=None)\n",
    "plt.legend()\n",
    "plt.savefig(f'plots/freldif_{fname}.pdf', dpi=300)"
   ]
  },
  {
   "cell_type": "code",
   "execution_count": null,
   "metadata": {},
   "outputs": [],
   "source": []
  },
  {
   "cell_type": "code",
   "execution_count": null,
   "metadata": {},
   "outputs": [],
   "source": []
  }
 ],
 "metadata": {
  "kernelspec": {
   "display_name": "circuits",
   "language": "python",
   "name": "python3"
  },
  "language_info": {
   "codemirror_mode": {
    "name": "ipython",
    "version": 3
   },
   "file_extension": ".py",
   "mimetype": "text/x-python",
   "name": "python",
   "nbconvert_exporter": "python",
   "pygments_lexer": "ipython3",
   "version": "3.10.14"
  }
 },
 "nbformat": 4,
 "nbformat_minor": 2
}
