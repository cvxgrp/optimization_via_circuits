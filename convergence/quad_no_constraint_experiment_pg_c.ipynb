{
 "cells": [
  {
   "cell_type": "code",
   "execution_count": 1,
   "metadata": {},
   "outputs": [],
   "source": [
    "import networkx as nx\n",
    "import numpy as np\n",
    "import matplotlib.pyplot as plt\n",
    "import networkx as nx\n",
    "import math\n",
    "import cvxpy as cp\n",
    "\n",
    "from decentr_quad_no_constraint import *\n",
    "import ciropt as co"
   ]
  },
  {
   "cell_type": "code",
   "execution_count": 2,
   "metadata": {},
   "outputs": [
    {
     "name": "stdout",
     "output_type": "stream",
     "text": [
      "{'n_node': 6, 'vector_size': 10, 'sc_theta': 0.5, 'sc_perturb': True, 'sc_index_set': {0, 1, 2, 3, 4, 5}}\n"
     ]
    }
   ],
   "source": [
    "# random seed\n",
    "np.random.seed(108)\n",
    "\n",
    "# data generation\n",
    "problem_spec = {}\n",
    "problem_spec['n_node'] = 6\n",
    "problem_spec['vector_size'] = 10\n",
    "# problem_spec['vector_size'] = 50\n",
    "problem_spec['sc_theta'] = 0.5\n",
    "problem_spec['sc_perturb'] = True\n",
    "problem_spec['sc_index_set'] = {0,1,2,3,4,5}\n",
    "# problem_spec['sc_index_set'] = {3,4}\n",
    "# problem_spec['sc_index_set'] = {}\n",
    "print(problem_spec)\n",
    "problem_data = data_generation(problem_spec)\n",
    "network_data = graph_generation_nodes6()\n",
    "problem_data['itr_num'] = 1000\n"
   ]
  },
  {
   "cell_type": "code",
   "execution_count": 3,
   "metadata": {},
   "outputs": [
    {
     "name": "stdout",
     "output_type": "stream",
     "text": [
      "[2.22244360208879, 0.9614927485949888, 0.03776225093236773]\n",
      "[2.797373714405503, 1.053305637300958, 0.0036908268624107872]\n",
      "[4.475898105285475, 1.1459669089702413, 0.018770219533008947]\n",
      "[4.806210985840071, 1.1454892970861046, 0.005851122480356822]\n",
      "[2.8359765001002106, 0.8567381308275891, 0.03777071906243162]\n",
      "[2.3239537103097625, 0.6608619104559805, 0.020410838550668137]\n"
     ]
    }
   ],
   "source": [
    "Q = problem_data['Q']\n",
    "b = problem_data['b']\n",
    "n_node = problem_spec['n_node']\n",
    "vector_size = problem_spec['vector_size']\n",
    "sc_index_set = problem_spec['sc_index_set']\n",
    "\n",
    "for j in range(n_node):\n",
    "    U, s, V = np.linalg.svd(Q[j])\n",
    "    print([np.max(s), np.average(s), np.min(s)])"
   ]
  },
  {
   "cell_type": "code",
   "execution_count": 4,
   "metadata": {},
   "outputs": [
    {
     "data": {
      "image/png": "[encoded data removed]",
      "text/plain": [
       "<Figure size 640x480 with 1 Axes>"
      ]
     },
     "metadata": {},
     "output_type": "display_data"
    }
   ],
   "source": [
    "nx.draw(network_data[\"G\"], node_color='skyblue', with_labels=True)\n",
    "plt.savefig(\"plots/graph_n6.pdf\")"
   ]
  },
  {
   "cell_type": "code",
   "execution_count": 5,
   "metadata": {},
   "outputs": [
    {
     "name": "stdout",
     "output_type": "stream",
     "text": [
      "f_star=-0.0029070664889455427, np.linalg.norm(x_opt_star)=0.0390010435054993\n"
     ]
    }
   ],
   "source": [
    "f_star, x_opt_star = min_cvx_quad_no_constraint(problem_spec, problem_data)\n",
    "print(f\"{f_star=}, {np.linalg.norm(x_opt_star)=}\")"
   ]
  },
  {
   "cell_type": "code",
   "execution_count": 6,
   "metadata": {},
   "outputs": [
    {
     "name": "stdout",
     "output_type": "stream",
     "text": [
      "f_star=-0.0029070664889455427, np.linalg.norm(x_opt_star)=0.0390010435054993\n"
     ]
    }
   ],
   "source": [
    "f_star, x_opt_star = min_quad_no_constraint(problem_spec, problem_data)\n",
    "print(f\"{f_star=}, {np.linalg.norm(x_opt_star)=}\")"
   ]
  },
  {
   "cell_type": "code",
   "execution_count": 7,
   "metadata": {},
   "outputs": [],
   "source": [
    "Q = problem_data['Q']\n",
    "b = problem_data['b']\n",
    " \n",
    "vector_size = problem_spec['vector_size']\n",
    "n_node = problem_spec['n_node']\n",
    "prox_operators = []\n",
    "fi_operators = []\n",
    "\n",
    "# Define functions and proximal operators to implement the method\n",
    "for jj in range(n_node):\n",
    "    Qj = Q[jj]\n",
    "    bj = b[jj]\n",
    "    # prox_operators += [lambda z, rho: cvx_prox_fj_quad_no_constraint(z, rho, problem_spec, problem_data, jj) ]\n",
    "    prox_operators += [lambda z, rho, Qj=Qj, bj=bj, vector_size=vector_size : prox_fj_quad_no_constraint(z, rho, Qj, bj, vector_size) ]\n",
    "    fi_operators += [lambda x_kj, Qj=Qj, bj=bj : 1/2 * x_kj @ Qj @ x_kj.T + np.dot(bj[0], x_kj) ]\n",
    "\n",
    "    c = np.random.randn(vector_size)\n",
    "    x1 = prox_operators[-1](c, 1/5)\n",
    "    x2 = cvx_prox_fj_quad_no_constraint(c, 1/5, problem_spec, problem_data, jj, eps=1e-4)\n",
    "    assert np.linalg.norm(x1 - x2) / np.linalg.norm(x1) < 1e-5"
   ]
  },
  {
   "cell_type": "code",
   "execution_count": 8,
   "metadata": {},
   "outputs": [],
   "source": [
    "# problem_data['rho'] = 1\n",
    "# params={\"R\":1, \"Capacitance\":1, \"h\":0.561455037879421}\n",
    "\n",
    "# pg_c_op_norm, pg_c_err_opt_star, pg_c_err_opt_reldiff, pg_c_const_vio, pg_c_f_reldiff = co.pg_extra(\"pg_extra_c\", problem_spec, problem_data, \n",
    "#                                                                         network_data, x_opt_star, f_star, prox_operators=prox_operators,\n",
    "#                                                                         fi_operators=fi_operators,\n",
    "#                                                                         params=params, printing=True, sc_index_set = sc_index_set, freq=200)"
   ]
  },
  {
   "cell_type": "code",
   "execution_count": 9,
   "metadata": {},
   "outputs": [
    {
     "name": "stdout",
     "output_type": "stream",
     "text": [
      "new best_rho : 0.1 new best_value : 9.765108521054144e-10\n",
      "new best_rho : 0.2 new best_value : 7.302480253487754e-12\n",
      "new best_rho : 0.3 new best_value : 1.7702591396044362e-12\n",
      "new best_rho : 0.4 new best_value : 6.741069563341564e-13\n",
      "new best_rho : 0.5 new best_value : 6.256109974598982e-13\n",
      "new best_rho : 0.6 new best_value : 5.604410096592966e-13\n",
      "best_rho : 0.6\n"
     ]
    }
   ],
   "source": [
    "# apply P-EXTRA \n",
    "best_rho = 1\n",
    "find_best = True\n",
    "\n",
    "# problem_data['rho'] = 0.01\n",
    "# problem_data['rho'] = 0.1\n",
    "# problem_data['rho'] = 0.2\n",
    "# problem_data['rho'] = 0.5\n",
    "\n",
    "# start = 0.2\n",
    "start = 0.1\n",
    "end = 2\n",
    "space = 0.1\n",
    "\n",
    "best_value = 1\n",
    "\n",
    "if find_best == True:\n",
    "    for r in np.arange(start, end, space) :\n",
    "        problem_data['rho'] = round(r, 2)\n",
    "        # print(\"Testing rho :\", r)\n",
    "        pg_op_norm, pg_err_opt_star, pg_err_opt_reldiff, pg_const_vio, pg_f_reldiff = co.pg_extra(\"pg_extra\", problem_spec, problem_data, \n",
    "                                                                        network_data, x_opt_star, f_star, prox_operators=prox_operators,\n",
    "                                                                        fi_operators=fi_operators,\n",
    "                                                                        printing=False, freq=200)\n",
    "        # new_val = sum(pg_f_reldiff[-10:]) / 10\n",
    "        # new_val = sum(pg_f_reldiff[-300:]) / 300\n",
    "        # new_val = sum(pg_f_reldiff[-300:-200]) / 100\n",
    "        new_val = sum(pg_f_reldiff[300:400]) / 100\n",
    "        if new_val < best_value:\n",
    "            print(\"new best_rho :\", round(r, 2),  \"new best_value :\", new_val)\n",
    "            best_value = new_val\n",
    "            best_rho = round(r, 2)\n",
    "\n",
    "print(\"best_rho :\",best_rho)"
   ]
  },
  {
   "cell_type": "code",
   "execution_count": 10,
   "metadata": {},
   "outputs": [
    {
     "name": "stdout",
     "output_type": "stream",
     "text": [
      "ii=0, f_reldiff[-1]=0.3128773657478983, err_opt_reldiff[-1]=0.5790194439025571\n",
      "ii=200, f_reldiff[-1]=9.117007843406775e-09, err_opt_reldiff[-1]=3.35665354913859e-08\n",
      "ii=400, f_reldiff[-1]=2.2377242005471334e-15, err_opt_reldiff[-1]=1.2159752073444726e-14\n",
      "ii=600, f_reldiff[-1]=1.0442712935886622e-15, err_opt_reldiff[-1]=1.243571901706274e-14\n",
      "ii=800, f_reldiff[-1]=8.950896802188533e-16, err_opt_reldiff[-1]=1.4944840158273307e-14\n",
      "ii=999, f_reldiff[-1]=5.967264534792356e-16, err_opt_reldiff[-1]=1.7418238067692437e-14\n"
     ]
    }
   ],
   "source": [
    "problem_data['rho'] = best_rho\n",
    "# problem_data['rho'] = 1\n",
    "\n",
    "\n",
    "# pg_op_norm, pg_err_opt_star, pg_err_opt_reldiff, pg_const_vio, pg_f_reldiff = p_extra_quad_no_constraint(problem_spec, problem_data, network_data, x_opt_star, f_star, printing=True, freq=200)\n",
    "\n",
    "pg_op_norm, pg_err_opt_star, pg_err_opt_reldiff, pg_const_vio, pg_f_reldiff = co.pg_extra(\"pg_extra\", problem_spec, problem_data, \n",
    "                                                                        network_data, x_opt_star, f_star, prox_operators=prox_operators,\n",
    "                                                                        fi_operators=fi_operators,\n",
    "                                                                        printing=True, freq=200)"
   ]
  },
  {
   "cell_type": "code",
   "execution_count": 11,
   "metadata": {},
   "outputs": [
    {
     "name": "stdout",
     "output_type": "stream",
     "text": [
      "new best_R : 0.2 , new best_value : 2.6710927564992344e-09\n",
      "new best_R : 0.4 , new best_value : 1.0747043427161027e-14\n",
      "new best_R : 0.6 , new best_value : 1.9542791351444964e-16\n",
      "new best_R : 1.0 , new best_value : 1.9095246511335515e-16\n",
      "best_R : 1.0\n"
     ]
    }
   ],
   "source": [
    "best_R = 1\n",
    "find_best = True\n",
    "\n",
    "# R = 18\n",
    "start = 0.2\n",
    "end = 4\n",
    "space = 0.2\n",
    "# end = 2\n",
    "# space = 0.1\n",
    "\n",
    "best_value = 1\n",
    "\n",
    "if find_best == True:\n",
    "    for r in np.arange(start, end, space) :\n",
    "        R = round(r, 2)\n",
    "        # print(\"Testing R :\", r)\n",
    "        admm_err_opt_star, admm_err_opt_reldiff, admm_const_vio, admm_f_reldiff = co.dadmm(\"dadmm\", problem_spec, problem_data, \n",
    "                                                                                network_data, x_opt_star, f_star, prox_operators=prox_operators,\n",
    "                                                                                fi_operators=fi_operators,\n",
    "                                                                                params={\"R\":R}, printing=False, freq=200)\n",
    "        # new_val = sum(admm_f_reldiff[-10:]) / 10\n",
    "        # new_val = sum(admm_f_reldiff[-300:]) / 300\n",
    "        # new_val = sum(admm_f_reldiff[-300:-200]) / 100\n",
    "        new_val = sum(admm_f_reldiff[300:400]) / 100\n",
    "        if new_val < best_value:\n",
    "            print(\"new best_R :\", round(r, 2),  \", new best_value :\", new_val)\n",
    "            best_value = new_val\n",
    "            best_R = round(r, 2)\n",
    "\n",
    "print(\"best_R :\", best_R)"
   ]
  },
  {
   "cell_type": "code",
   "execution_count": 12,
   "metadata": {},
   "outputs": [
    {
     "name": "stdout",
     "output_type": "stream",
     "text": [
      "ii=0, f_reldiff[-1]=1.3616068652749476\n",
      "ii=200, f_reldiff[-1]=1.491816133698089e-16\n",
      "ii=400, f_reldiff[-1]=1.491816133698089e-16\n",
      "ii=600, f_reldiff[-1]=1.491816133698089e-16\n",
      "ii=800, f_reldiff[-1]=1.491816133698089e-16\n",
      "ii=999, f_reldiff[-1]=1.491816133698089e-16\n"
     ]
    }
   ],
   "source": [
    "R = best_R\n",
    "# R = 3\n",
    "# R = 2\n",
    "# R = 1\n",
    "# R = 0.5\n",
    "admm_err_opt_star, admm_err_opt_reldiff, admm_const_vio, admm_f_reldiff = co.dadmm(\"dadmm\", problem_spec, problem_data, \n",
    "                                                                        network_data, x_opt_star, f_star, prox_operators=prox_operators,\n",
    "                                                                        fi_operators=fi_operators,\n",
    "                                                                        params={\"R\":R}, printing=True, freq=200)\n"
   ]
  },
  {
   "cell_type": "code",
   "execution_count": 15,
   "metadata": {},
   "outputs": [
    {
     "name": "stdout",
     "output_type": "stream",
     "text": [
      "ii=0, f_reldiff[-1]=0.22194554327961005, err_opt_reldiff[-1]=0.44384399150104237\n",
      "ii=200, f_reldiff[-1]=5.6151601812365e-06, err_opt_reldiff[-1]=4.044231607937921e-05\n",
      "ii=400, f_reldiff[-1]=2.173473320666504e-09, err_opt_reldiff[-1]=1.9436320854309568e-08\n",
      "ii=600, f_reldiff[-1]=5.83150926662583e-13, err_opt_reldiff[-1]=8.45256734627563e-12\n",
      "ii=800, f_reldiff[-1]=0.0, err_opt_reldiff[-1]=7.613732466475998e-15\n",
      "ii=999, f_reldiff[-1]=4.475448401094266e-16, err_opt_reldiff[-1]=1.9882912554647247e-16\n"
     ]
    }
   ],
   "source": [
    "problem_data['rho'] = best_rho\n",
    "# params={\"R\":1, \"Capacitance\":1, \"h\":0.561455037879421}\n",
    "params={\"R\":best_rho, \"Capacitance\":1, \"h\":0.561455037879421}\n",
    "# params={\"R\":best_rho, \"Capacitance\":0.1, \"h\":0.7}\n",
    "\n",
    "# problem_data['rho'] = 0.0001\n",
    "# params={\"R\":best_rho, \"Capacitance\":0.1, \"h\":0.7}\n",
    "\n",
    "\n",
    "\n",
    "pg_c_op_norm, pg_c_err_opt_star, pg_c_err_opt_reldiff, pg_c_const_vio, pg_c_f_reldiff = co.pg_extra(\"pg_extra_c\", problem_spec, problem_data, \n",
    "                                                                        network_data, x_opt_star, f_star, prox_operators=prox_operators,\n",
    "                                                                        fi_operators=fi_operators,\n",
    "                                                                        params=params, printing=True, sc_index_set = sc_index_set, freq=200)"
   ]
  },
  {
   "cell_type": "code",
   "execution_count": 16,
   "metadata": {},
   "outputs": [
    {
     "data": {
      "image/png": "[encoded data removed]",
      "text/plain": [
       "<Figure size 500x400 with 1 Axes>"
      ]
     },
     "metadata": {},
     "output_type": "display_data"
    }
   ],
   "source": [
    "fname = \"n6_qp_circuit_pg_c\"\n",
    "\n",
    "plt.rc('text', usetex=True)\n",
    "plt.rc('font', family='serif')\n",
    "plt.rcParams[\"legend.fontsize\"] = 10\n",
    "plt.rcParams[\"lines.linewidth\"] = 2\n",
    "plt.rcParams[\"lines.markersize\"] = 4\n",
    "plt.rcParams[\"legend.framealpha\"] = 0.0\n",
    "plt.rcParams[\"xtick.labelsize\"] = 10\n",
    "plt.rcParams[\"ytick.labelsize\"] = 10\n",
    "plt.rcParams[\"mathtext.fontset\"] = 'cm' # default = 'dejavusans', other options = 'cm', 'stixsans', 'dejavuserif'\n",
    "black, red, blue, green = 'dimgrey', 'coral', 'deepskyblue', 'green'\n",
    "\n",
    "# operator norm plot (log-log plot)\n",
    "plt.figure(figsize=(5,4))\n",
    "plt.minorticks_off()\n",
    "plt.xscale(\"log\")\n",
    "plt.yscale(\"log\")\n",
    "plt.plot(pg_f_reldiff, label='P-EXTRA', color=black, linewidth=1)\n",
    "plt.plot(admm_f_reldiff, label='DADMM', color=blue, linewidth=1)\n",
    "# plt.plot(dadmm_c_all_f_reldiff, label='Circuit DADMM + C-All',  color=green, linewidth=1)\n",
    "# plt.plot(dadmm_c_f_reldiff, label='Circuit DADMM + C',  color=red, linewidth=2)\n",
    "plt.plot(pg_c_f_reldiff, label='PG-EXTRA + C',  color=red, linewidth=2)\n",
    "plt.xlabel(r\"$k$\")\n",
    "plt.ylabel(r\"$|f(x^k) - f^\\star|/|f^\\star|$\")\n",
    "# plt.ylabel(r\"$\\|\\tilde{\\mathbf{A}}x_k\\|^2_M$\")\n",
    "plt.ylim(1e-15, 1e+2)\n",
    "# plt.autoscale(enable=True, axis='y', tight=None)\n",
    "plt.legend()\n",
    "plt.savefig(f'plots/freldif_{fname}.pdf', dpi=300)"
   ]
  },
  {
   "cell_type": "code",
   "execution_count": null,
   "metadata": {},
   "outputs": [],
   "source": []
  },
  {
   "cell_type": "code",
   "execution_count": null,
   "metadata": {},
   "outputs": [],
   "source": []
  }
 ],
 "metadata": {
  "kernelspec": {
   "display_name": "base",
   "language": "python",
   "name": "python3"
  },
  "language_info": {
   "codemirror_mode": {
    "name": "ipython",
    "version": 3
   },
   "file_extension": ".py",
   "mimetype": "text/x-python",
   "name": "python",
   "nbconvert_exporter": "python",
   "pygments_lexer": "ipython3",
   "version": "3.11.5"
  }
 },
 "nbformat": 4,
 "nbformat_minor": 2
}
