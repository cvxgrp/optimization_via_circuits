{
 "cells": [
  {
   "cell_type": "code",
   "execution_count": 66,
   "metadata": {},
   "outputs": [],
   "source": [
    "import networkx as nx\n",
    "import numpy as np\n",
    "import matplotlib.pyplot as plt\n",
    "import networkx as nx\n",
    "import math\n",
    "import cvxpy as cp\n",
    "\n",
    "from decentr_quad_no_constraint import *\n",
    "import ciropt as co"
   ]
  },
  {
   "cell_type": "code",
   "execution_count": 67,
   "metadata": {},
   "outputs": [
    {
     "name": "stdout",
     "output_type": "stream",
     "text": [
      "{'n_node': 6, 'vector_size': 10, 'sc_theta': 1, 'sc_perturb': True, 'sc_index_set': {3, 4}}\n"
     ]
    }
   ],
   "source": [
    "# random seed\n",
    "np.random.seed(108)\n",
    "\n",
    "# data generation\n",
    "problem_spec = {}\n",
    "problem_spec['n_node'] = 6\n",
    "problem_spec['vector_size'] = 10\n",
    "# problem_spec['vector_size'] = 50\n",
    "problem_spec['sc_theta'] = 1\n",
    "problem_spec['sc_perturb'] = True\n",
    "# problem_spec['sc_index_set'] = {0,1,2,3,4,5}\n",
    "problem_spec['sc_index_set'] = {3,4}\n",
    "# problem_spec['sc_index_set'] = {}\n",
    "print(problem_spec)\n",
    "problem_data = data_generation(problem_spec)\n",
    "network_data = graph_generation_nodes6()\n",
    "problem_data['itr_num'] = 1000\n"
   ]
  },
  {
   "cell_type": "code",
   "execution_count": 68,
   "metadata": {},
   "outputs": [
    {
     "name": "stdout",
     "output_type": "stream",
     "text": [
      "[0.3405863206927442, 0.12957518461608636, 0.0025719666384295685]\n",
      "[0.5274069977190222, 0.13768501945306097, 9.742616763465557e-06]\n",
      "[0.6264536969032102, 0.17410177421890888, 0.0010103525990530571]\n",
      "[8.88977440835516, 3.845970994379955, 0.15104900372947092]\n",
      "[11.189494857622012, 4.213222549203832, 0.014763307449643149]\n",
      "[0.45764700697092076, 0.15487248278006713, 1.3259541451736755e-06]\n"
     ]
    }
   ],
   "source": [
    "Q = problem_data['Q']\n",
    "b = problem_data['b']\n",
    "n_node = problem_spec['n_node']\n",
    "vector_size = problem_spec['vector_size']\n",
    "sc_index_set = problem_spec['sc_index_set']\n",
    "\n",
    "for j in range(n_node):\n",
    "    U, s, V = np.linalg.svd(Q[j])\n",
    "    print([np.max(s), np.average(s), np.min(s)])"
   ]
  },
  {
   "cell_type": "code",
   "execution_count": 69,
   "metadata": {},
   "outputs": [
    {
     "data": {
      "image/png": "[encoded data removed]",
      "text/plain": [
       "<Figure size 640x480 with 1 Axes>"
      ]
     },
     "metadata": {},
     "output_type": "display_data"
    }
   ],
   "source": [
    "nx.draw(network_data[\"G\"], node_color='skyblue', with_labels=True)\n",
    "plt.savefig(\"plots/graph_n6.pdf\")"
   ]
  },
  {
   "cell_type": "code",
   "execution_count": 70,
   "metadata": {},
   "outputs": [
    {
     "name": "stdout",
     "output_type": "stream",
     "text": [
      "f_star=-0.001898028963149634, np.linalg.norm(x_opt_star)=0.02793032433972044\n"
     ]
    }
   ],
   "source": [
    "f_star, x_opt_star = min_cvx_quad_no_constraint(problem_spec, problem_data)\n",
    "print(f\"{f_star=}, {np.linalg.norm(x_opt_star)=}\")"
   ]
  },
  {
   "cell_type": "code",
   "execution_count": 71,
   "metadata": {},
   "outputs": [
    {
     "name": "stdout",
     "output_type": "stream",
     "text": [
      "f_star=-0.0018980289631496338, np.linalg.norm(x_opt_star)=0.027930324339720446\n"
     ]
    }
   ],
   "source": [
    "f_star, x_opt_star = min_quad_no_constraint(problem_spec, problem_data)\n",
    "print(f\"{f_star=}, {np.linalg.norm(x_opt_star)=}\")"
   ]
  },
  {
   "cell_type": "code",
   "execution_count": 72,
   "metadata": {},
   "outputs": [],
   "source": [
    "Q = problem_data['Q']\n",
    "b = problem_data['b']\n",
    " \n",
    "vector_size = problem_spec['vector_size']\n",
    "n_node = problem_spec['n_node']\n",
    "prox_operators = []\n",
    "fi_operators = []\n",
    "\n",
    "# Define functions and proximal operators to implement the method\n",
    "for jj in range(n_node):\n",
    "    Qj = Q[jj]\n",
    "    bj = b[jj]\n",
    "    # prox_operators += [lambda z, rho: cvx_prox_fj_quad_no_constraint(z, rho, problem_spec, problem_data, jj) ]\n",
    "    prox_operators += [lambda z, rho, Qj=Qj, bj=bj, vector_size=vector_size : prox_fj_quad_no_constraint(z, rho, Qj, bj, vector_size) ]\n",
    "    fi_operators += [lambda x_kj, Qj=Qj, bj=bj : 1/2 * x_kj @ Qj @ x_kj.T + np.dot(bj[0], x_kj) ]\n",
    "\n",
    "    c = np.random.randn(vector_size)\n",
    "    x1 = prox_operators[-1](c, 1/5)\n",
    "    x2 = cvx_prox_fj_quad_no_constraint(c, 1/5, problem_spec, problem_data, jj, eps=1e-4)\n",
    "    assert np.linalg.norm(x1 - x2) / np.linalg.norm(x1) < 1e-5"
   ]
  },
  {
   "cell_type": "code",
   "execution_count": 73,
   "metadata": {},
   "outputs": [],
   "source": [
    "# problem_data['rho'] = 1\n",
    "# params={\"R\":1, \"Capacitance\":1, \"h\":0.561455037879421}\n",
    "\n",
    "# pg_c_op_norm, pg_c_err_opt_star, pg_c_err_opt_reldiff, pg_c_const_vio, pg_c_f_reldiff = co.pg_extra(\"pg_extra_c\", problem_spec, problem_data, \n",
    "#                                                                         network_data, x_opt_star, f_star, prox_operators=prox_operators,\n",
    "#                                                                         fi_operators=fi_operators,\n",
    "#                                                                         params=params, printing=True, sc_index_set = sc_index_set, freq=200)"
   ]
  },
  {
   "cell_type": "code",
   "execution_count": 74,
   "metadata": {},
   "outputs": [
    {
     "name": "stdout",
     "output_type": "stream",
     "text": [
      "new best_rho : 0.1 new best_value : 2.8761421701612842e-08\n",
      "new best_rho : 0.2 new best_value : 2.9948433862874194e-09\n",
      "new best_rho : 0.3 new best_value : 1.9437944513755308e-09\n",
      "new best_rho : 0.4 new best_value : 1.2917523347072415e-09\n",
      "new best_rho : 0.5 new best_value : 7.908347396234756e-10\n",
      "best_rho : 0.5\n"
     ]
    }
   ],
   "source": [
    "# apply P-EXTRA \n",
    "best_rho = 1\n",
    "find_best = True\n",
    "\n",
    "# problem_data['rho'] = 0.01\n",
    "# problem_data['rho'] = 0.1\n",
    "# problem_data['rho'] = 0.2\n",
    "# problem_data['rho'] = 0.5\n",
    "\n",
    "# start = 0.2\n",
    "start = 0.1\n",
    "end = 2\n",
    "space = 0.1\n",
    "\n",
    "best_value = 1\n",
    "\n",
    "if find_best == True:\n",
    "    for r in np.arange(start, end, space) :\n",
    "        problem_data['rho'] = round(r, 2)\n",
    "        # print(\"Testing rho :\", r)\n",
    "        pg_op_norm, pg_err_opt_star, pg_err_opt_reldiff, pg_const_vio, pg_f_reldiff = co.pg_extra(\"pg_extra\", problem_spec, problem_data, \n",
    "                                                                        network_data, x_opt_star, f_star, prox_operators=prox_operators,\n",
    "                                                                        fi_operators=fi_operators,\n",
    "                                                                        printing=False, freq=200)\n",
    "        # new_val = sum(pg_f_reldiff[-10:]) / 10\n",
    "        # new_val = sum(pg_f_reldiff[-300:]) / 300\n",
    "        # new_val = sum(pg_f_reldiff[-300:-200]) / 100\n",
    "        new_val = sum(pg_f_reldiff[300:400]) / 100\n",
    "        if new_val < best_value:\n",
    "            print(\"new best_rho :\", round(r, 2),  \"new best_value :\", new_val)\n",
    "            best_value = new_val\n",
    "            best_rho = round(r, 2)\n",
    "\n",
    "print(\"best_rho :\",best_rho)"
   ]
  },
  {
   "cell_type": "code",
   "execution_count": 75,
   "metadata": {},
   "outputs": [
    {
     "name": "stdout",
     "output_type": "stream",
     "text": [
      "ii=0, f_reldiff[-1]=0.328782951985841, err_opt_reldiff[-1]=0.5434653346771497\n",
      "ii=200, f_reldiff[-1]=1.666946206408054e-06, err_opt_reldiff[-1]=1.4713887436506506e-06\n",
      "ii=400, f_reldiff[-1]=1.6332016926932285e-11, err_opt_reldiff[-1]=1.950360717454476e-11\n",
      "ii=600, f_reldiff[-1]=2.056411096314818e-15, err_opt_reldiff[-1]=1.2974254302342628e-14\n",
      "ii=800, f_reldiff[-1]=1.599430852689303e-15, err_opt_reldiff[-1]=1.6936411761363487e-14\n",
      "ii=999, f_reldiff[-1]=1.3709407308765454e-15, err_opt_reldiff[-1]=2.035062834413069e-14\n"
     ]
    }
   ],
   "source": [
    "problem_data['rho'] = best_rho\n",
    "# problem_data['rho'] = 1\n",
    "\n",
    "\n",
    "# pg_op_norm, pg_err_opt_star, pg_err_opt_reldiff, pg_const_vio, pg_f_reldiff = p_extra_quad_no_constraint(problem_spec, problem_data, network_data, x_opt_star, f_star, printing=True, freq=200)\n",
    "\n",
    "pg_op_norm, pg_err_opt_star, pg_err_opt_reldiff, pg_const_vio, pg_f_reldiff = co.pg_extra(\"pg_extra\", problem_spec, problem_data, \n",
    "                                                                        network_data, x_opt_star, f_star, prox_operators=prox_operators,\n",
    "                                                                        fi_operators=fi_operators,\n",
    "                                                                        printing=True, freq=200)"
   ]
  },
  {
   "cell_type": "code",
   "execution_count": 76,
   "metadata": {},
   "outputs": [
    {
     "name": "stdout",
     "output_type": "stream",
     "text": [
      "new best_R : 3.0 , new best_value : 1.26527557526536e-08\n",
      "best_R : 3.0\n"
     ]
    }
   ],
   "source": [
    "best_R = 1\n",
    "find_best = True\n",
    "\n",
    "# R = 18\n",
    "start = 1\n",
    "end = 4\n",
    "space = 0.2\n",
    "# end = 2\n",
    "# space = 0.1\n",
    "\n",
    "best_value = 1\n",
    "\n",
    "if find_best == True:\n",
    "    for r in np.arange(start, end, space) :\n",
    "        R = round(r, 2)\n",
    "        # print(\"Testing R :\", r)\n",
    "        admm_err_opt_star, admm_err_opt_reldiff, admm_const_vio, admm_f_reldiff = co.dadmm(\"dadmm\", problem_spec, problem_data, \n",
    "                                                                                network_data, x_opt_star, f_star, prox_operators=prox_operators,\n",
    "                                                                                fi_operators=fi_operators,\n",
    "                                                                                params={\"R\":R}, printing=False, freq=200)\n",
    "        # new_val = sum(admm_f_reldiff[-10:]) / 10\n",
    "        # new_val = sum(admm_f_reldiff[-300:]) / 300\n",
    "        # new_val = sum(admm_f_reldiff[-300:-200]) / 100\n",
    "        new_val = sum(admm_f_reldiff[300:400]) / 100\n",
    "        if new_val < best_value:\n",
    "            print(\"new best_R :\", round(r, 2),  \", new best_value :\", new_val)\n",
    "            best_value = new_val\n",
    "            best_R = round(r, 2)\n",
    "\n",
    "print(\"best_R :\", best_R)"
   ]
  },
  {
   "cell_type": "code",
   "execution_count": 77,
   "metadata": {},
   "outputs": [
    {
     "name": "stdout",
     "output_type": "stream",
     "text": [
      "ii=0, f_reldiff[-1]=7.861145528126219\n",
      "ii=200, f_reldiff[-1]=1.0379383004536044e-05\n",
      "ii=400, f_reldiff[-1]=4.096201821168976e-10\n",
      "ii=600, f_reldiff[-1]=1.8964680110458878e-14\n",
      "ii=800, f_reldiff[-1]=4.569802436255151e-16\n",
      "ii=999, f_reldiff[-1]=1.1424506090637878e-16\n"
     ]
    }
   ],
   "source": [
    "R = best_R\n",
    "# R = 3\n",
    "# R = 2\n",
    "# R = 1\n",
    "# R = 0.5\n",
    "admm_err_opt_star, admm_err_opt_reldiff, admm_const_vio, admm_f_reldiff = co.dadmm(\"dadmm\", problem_spec, problem_data, \n",
    "                                                                        network_data, x_opt_star, f_star, prox_operators=prox_operators,\n",
    "                                                                        fi_operators=fi_operators,\n",
    "                                                                        params={\"R\":R}, printing=True, freq=200)\n"
   ]
  },
  {
   "cell_type": "code",
   "execution_count": 116,
   "metadata": {},
   "outputs": [
    {
     "name": "stdout",
     "output_type": "stream",
     "text": [
      "new best_C : 0.2 new best_R : 0.1 , new best_value : 1.26527557526536e-08\n",
      "ii=0, f_reldiff[-1]=6.150620238634933, err_opt_reldiff[-1]=0.6791315479780898\n",
      "ii=200, f_reldiff[-1]=nan, err_opt_reldiff[-1]=inf\n",
      "ii=400, f_reldiff[-1]=nan, err_opt_reldiff[-1]=nan\n",
      "ii=600, f_reldiff[-1]=nan, err_opt_reldiff[-1]=nan\n",
      "ii=800, f_reldiff[-1]=nan, err_opt_reldiff[-1]=nan\n",
      "ii=999, f_reldiff[-1]=nan, err_opt_reldiff[-1]=nan\n"
     ]
    }
   ],
   "source": [
    "problem_data['rho'] = best_rho\n",
    "# params={\"R\":1, \"Capacitance\":1, \"h\":0.561455037879421}\n",
    "# params={\"R\":best_rho, \"Capacitance\":1, \"h\":0.561455037879421}\n",
    "# params={\"R\":1, \"Capacitance\":0.1, \"h\":0.5}\n",
    "params={\"R\":best_rho, \"Capacitance\":0.2, \"h\":0.5}\n",
    "\n",
    "# problem_data['rho'] = 0.0001\n",
    "# params={\"R\":best_rho, \"Capacitance\":0.1, \"h\":0.7}\n",
    "\n",
    "best_value = 1\n",
    "\n",
    "best_C = 0.2\n",
    "start_C = 0.2\n",
    "space_C = 0.2\n",
    "end_C = 20\n",
    "\n",
    "best_R = 0.2\n",
    "start_R = 0.1\n",
    "space_R = 0.1\n",
    "end_R = 2\n",
    "\n",
    "if find_best == True:\n",
    "    for R in np.arange(start_R, end_R, space_R) :\n",
    "        for c in np.arange(start_C, end_C, space_C) :\n",
    "            C = round(c, 2)\n",
    "            params={\"R\":R, \"Capacitance\":C, \"h\":0.5}\n",
    "            # print(\"Testing R :\", r)\n",
    "            pg_c_op_norm, pg_c_err_opt_star, pg_c_err_opt_reldiff, pg_c_const_vio, pg_c_f_reldiff = co.pg_extra(\"pg_extra_c\", problem_spec, problem_data, \n",
    "                                                                            network_data, x_opt_star, f_star, prox_operators=prox_operators,\n",
    "                                                                            fi_operators=fi_operators,\n",
    "                                                                            params=params, printing=False, sc_index_set = sc_index_set, freq=200)\n",
    "            # new_val = sum(admm_f_reldiff[-10:]) / 10\n",
    "            # new_val = sum(admm_f_reldiff[-300:]) / 300\n",
    "            # new_val = sum(admm_f_reldiff[-300:-200]) / 100\n",
    "            new_val = sum(admm_f_reldiff[300:400]) / 100\n",
    "            if new_val < best_value:\n",
    "                print(\"new best_C :\", round(C, 2), \"new best_R :\", round(R, 2),  \", new best_value :\", new_val)\n",
    "                best_value = new_val\n",
    "                best_C = round(C, 2)\n",
    "                best_R = round(R, 2)\n",
    "\n",
    "params={\"R\":best_R, \"Capacitance\":best_C, \"h\":0.5}\n",
    "\n",
    "pg_c_op_norm, pg_c_err_opt_star, pg_c_err_opt_reldiff, pg_c_const_vio, pg_c_f_reldiff = co.pg_extra(\"pg_extra_c\", problem_spec, problem_data, \n",
    "                                                                        network_data, x_opt_star, f_star, prox_operators=prox_operators,\n",
    "                                                                        fi_operators=fi_operators,\n",
    "                                                                        params=params, printing=True, sc_index_set = sc_index_set, freq=200)"
   ]
  },
  {
   "cell_type": "code",
   "execution_count": 79,
   "metadata": {},
   "outputs": [],
   "source": [
    "# problem_data['rho'] = best_rho\n",
    "# params['S'] = 1\n",
    "# params['S'] = -0.1\n",
    "\n",
    "# pg_R_op_norm, pg_R_err_opt_star, pg_R_err_opt_reldiff, pg_R_const_vio, pg_R_f_reldiff = co.pg_extra(\"pg_extra_R\", problem_spec, problem_data, \n",
    "#                                                                         network_data, x_opt_star, f_star, prox_operators=prox_operators,\n",
    "#                                                                         fi_operators=fi_operators,\n",
    "#                                                                         params=params, printing=True, sc_index_set = sc_index_set, freq=200)"
   ]
  },
  {
   "cell_type": "code",
   "execution_count": 115,
   "metadata": {},
   "outputs": [
    {
     "name": "stderr",
     "output_type": "stream",
     "text": [
      "c:\\Users\\jacks\\anaconda3\\Lib\\site-packages\\matplotlib\\scale.py:253: RuntimeWarning: overflow encountered in power\n",
      "  return np.power(self.base, a)\n"
     ]
    },
    {
     "data": {
      "image/png": "[encoded data removed]",
      "text/plain": [
       "<Figure size 500x400 with 1 Axes>"
      ]
     },
     "metadata": {},
     "output_type": "display_data"
    }
   ],
   "source": [
    "fname = \"n6_qp_circuit_pg_c\"\n",
    "\n",
    "plt.rc('text', usetex=True)\n",
    "plt.rc('font', family='serif')\n",
    "plt.rcParams[\"legend.fontsize\"] = 10\n",
    "plt.rcParams[\"lines.linewidth\"] = 2\n",
    "plt.rcParams[\"lines.markersize\"] = 4\n",
    "plt.rcParams[\"legend.framealpha\"] = 0.0\n",
    "plt.rcParams[\"xtick.labelsize\"] = 10\n",
    "plt.rcParams[\"ytick.labelsize\"] = 10\n",
    "plt.rcParams[\"mathtext.fontset\"] = 'cm' # default = 'dejavusans', other options = 'cm', 'stixsans', 'dejavuserif'\n",
    "black, red, blue, green = 'dimgrey', 'coral', 'deepskyblue', 'green'\n",
    "\n",
    "# operator norm plot (log-log plot)\n",
    "plt.figure(figsize=(5,4))\n",
    "plt.minorticks_off()\n",
    "plt.xscale(\"log\")\n",
    "plt.yscale(\"log\")\n",
    "plt.plot(pg_f_reldiff, label='P-EXTRA', color=black, linewidth=1)\n",
    "plt.plot(admm_f_reldiff, label='DADMM', color=blue, linewidth=1)\n",
    "# plt.plot(dadmm_c_all_f_reldiff, label='Circuit DADMM + C-All',  color=green, linewidth=1)\n",
    "# plt.plot(dadmm_c_f_reldiff, label='Circuit DADMM + C',  color=red, linewidth=2)\n",
    "plt.plot(pg_c_f_reldiff, label='PG-EXTRA + C',  color=red, linewidth=2)\n",
    "# plt.plot(pg_R_f_reldiff, label='PG-EXTRA + R',  color=red, linewidth=2)\n",
    "plt.xlabel(r\"$k$\")\n",
    "plt.ylabel(r\"$|f(x^k) - f^\\star|/|f^\\star|$\")\n",
    "# plt.ylabel(r\"$\\|\\tilde{\\mathbf{A}}x_k\\|^2_M$\")\n",
    "plt.ylim(1e-15, 1e+2)\n",
    "# plt.autoscale(enable=True, axis='y', tight=None)\n",
    "plt.legend()\n",
    "plt.savefig(f'plots/freldif_{fname}.pdf', dpi=300)"
   ]
  },
  {
   "cell_type": "code",
   "execution_count": null,
   "metadata": {},
   "outputs": [],
   "source": []
  },
  {
   "cell_type": "code",
   "execution_count": null,
   "metadata": {},
   "outputs": [],
   "source": []
  }
 ],
 "metadata": {
  "kernelspec": {
   "display_name": "base",
   "language": "python",
   "name": "python3"
  },
  "language_info": {
   "codemirror_mode": {
    "name": "ipython",
    "version": 3
   },
   "file_extension": ".py",
   "mimetype": "text/x-python",
   "name": "python",
   "nbconvert_exporter": "python",
   "pygments_lexer": "ipython3",
   "version": "3.11.5"
  }
 },
 "nbformat": 4,
 "nbformat_minor": 2
}
