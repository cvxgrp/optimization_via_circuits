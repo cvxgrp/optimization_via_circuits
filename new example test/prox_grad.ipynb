{
 "cells": [
  {
   "cell_type": "code",
   "execution_count": 15,
   "metadata": {},
   "outputs": [],
   "source": [
    "import ciropt as co\n",
    "import cvxpy as cp"
   ]
  },
  {
   "cell_type": "code",
   "execution_count": 19,
   "metadata": {},
   "outputs": [],
   "source": [
    "L_smooth = 1.\n",
    "mu = 0.0001\n",
    "\n",
    "Capacitance = 2.\n",
    "Inductance = 2.\n",
    "R = 1\n",
    "\n",
    "solver = \"ca\"\n",
    "# solver = \"ca_canonical\"\n",
    "# solver = \"ca_canonical_X\"\n",
    "# solver = \"gp_canonical_X\"\n",
    "\n",
    "time_limit = 200"
   ]
  },
  {
   "cell_type": "markdown",
   "metadata": {},
   "source": [
    "# Ciropt problem"
   ]
  },
  {
   "cell_type": "code",
   "execution_count": 27,
   "metadata": {},
   "outputs": [],
   "source": [
    "from ciropt.circuit_algorithms import define_function\n",
    "from ciropt.circuit_opt import CircuitOpt\n",
    "from ciropt.function import SmoothStronglyConvexFunction, StronglyConvexFunction, \\\n",
    "                            SmoothConvexFunction, ConvexFunction\n",
    "\n",
    "problem = CircuitOpt()\n",
    "func_f = define_function(problem, mu, L_smooth) \n",
    "func_g = define_function(problem, mu, L_smooth) \n",
    "h, alpha, beta, b, d = problem.h, problem.alpha, problem.beta, problem.b, problem.d\n",
    "\n",
    "x1_star, y1_star, g_star = func_g.stationary_point()\n",
    "x2_star, y2_star, f_star = func_f.stationary_point()\n",
    "\n",
    "\n",
    "x_2_1 = problem.set_initial_point()\n",
    "y_2_1, f_2_1 = func_f.oracle(x_2_1)\n",
    "\n",
    "x_1_1 = x_2_1 - R * y_2_1\n",
    "v_C_1 = -x_1_1\n",
    "\n",
    "# x_2_2 = func_g.proximal_step(x_1_1, R)\n",
    "y_1_1, g_1_1 = func_g.oracle(x_1_1)\n",
    "x_2_2 = x_2_1 - R * y_1_1\n",
    "\n",
    "\n",
    "y_2_2, f_2_2 = func_f.oracle(x_2_2)\n",
    "x_1_2 = x_2_2 - R * y_2_2\n",
    "v_C_2 = -x_1_2\n",
    "\n",
    "\n",
    "E_1 = (Capacitance/2) * (v_C_1 - x1_star)**2\n",
    "E_2 = (Capacitance/2) * (v_C_2 - x1_star)**2\n",
    "Delta_1 = b * (f_2_1 + g_1_1 - f_star - g_star) - (y1_star + y2_star) * ( x_1_1 + x_2_1 -  x1_star - x2_star)\n",
    "problem.set_energy(E_1 = E_1, E_2 = E_2)\n",
    "problem.set_delta( Delta_1 )\n",
    "problem.obj = b #+ d"
   ]
  },
  {
   "cell_type": "code",
   "execution_count": 28,
   "metadata": {},
   "outputs": [
    {
     "name": "stdout",
     "output_type": "stream",
     "text": [
      "dim_G=6, dim_F=5\n",
      "opts={'ipopt.max_iter': 50000, 'ipopt.print_level': 0, 'print_time': 0, 'ipopt.sb': 'yes'}\n",
      "None\n"
     ]
    }
   ],
   "source": [
    "# problem = co.gradient_flow_circuit(mu, L_smooth, Capacitance)\n",
    "\n",
    "res, model, sp_exp = problem.solve(solver=solver, verbose=False, time_limit=100)[:3]\n",
    "print(res)"
   ]
  },
  {
   "cell_type": "code",
   "execution_count": 24,
   "metadata": {},
   "outputs": [],
   "source": [
    "res"
   ]
  },
  {
   "cell_type": "markdown",
   "metadata": {},
   "source": [
    "# PEP verification"
   ]
  },
  {
   "cell_type": "code",
   "execution_count": 5,
   "metadata": {},
   "outputs": [],
   "source": [
    "import PEPit\n",
    "from PEPit.functions import SmoothStronglyConvexFunction, SmoothConvexFunction\n",
    "from PEPit.primitive_steps import proximal_step\n",
    "\n",
    "b = res[\"b\"] \n",
    "h = res[\"h\"]\n",
    "alpha = res[\"alpha\"]\n",
    "beta = res[\"beta\"]"
   ]
  },
  {
   "cell_type": "code",
   "execution_count": 6,
   "metadata": {},
   "outputs": [
    {
     "name": "stdout",
     "output_type": "stream",
     "text": [
      "diff=-1.3067190662852113e-09\n"
     ]
    }
   ],
   "source": [
    "problem = PEPit.PEP()\n",
    "func = problem.declare_function(\n",
    "                    SmoothStronglyConvexFunction,\n",
    "                    mu=mu,   # Strong convexity param.\n",
    "                    L=L_smooth) \n",
    "\n",
    "\n",
    "x_P_star = func.stationary_point()\n",
    "g_star, f_star = func.oracle(x_P_star)\n",
    "x_P_1 = problem.set_initial_point()\n",
    "\n",
    "g_1, f_1 = func.oracle(x_P_1)\n",
    "x_P_1p5 = x_P_1 - (alpha * h / Capacitance) * g_1 \n",
    "g_1p5, f_1p5 = func.oracle(x_P_1p5)\n",
    "x_P_2 = x_P_1  - (beta * h / Capacitance) * g_1 - ((1 - beta) * h / Capacitance) * g_1p5\n",
    "\n",
    "g_2, f_2 = func.oracle(x_P_2)\n",
    "\n",
    "# Set the performance metric to the function values accuracy\n",
    "E_1 = (Capacitance/2) * (x_P_1 - x_P_star)**2\n",
    "E_2 = (Capacitance/2) * (x_P_2 - x_P_star)**2\n",
    "Delta_1 = b * (f_1 - f_star)\n",
    "problem.set_performance_metric(E_2 - (E_1 - Delta_1))\n",
    "\n",
    "# Solve the PEP with verbose = 1\n",
    "verbose = 0\n",
    "diff = problem.solve(verbose=verbose, solver=cp.MOSEK)\n",
    "print(f\"{diff=}\")"
   ]
  },
  {
   "cell_type": "code",
   "execution_count": null,
   "metadata": {},
   "outputs": [],
   "source": []
  }
 ],
 "metadata": {
  "kernelspec": {
   "display_name": "osbdo",
   "language": "python",
   "name": "python3"
  },
  "language_info": {
   "codemirror_mode": {
    "name": "ipython",
    "version": 3
   },
   "file_extension": ".py",
   "mimetype": "text/x-python",
   "name": "python",
   "nbconvert_exporter": "python",
   "pygments_lexer": "ipython3",
   "version": "3.11.5"
  }
 },
 "nbformat": 4,
 "nbformat_minor": 2
}
