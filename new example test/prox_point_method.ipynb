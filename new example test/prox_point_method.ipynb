{
 "cells": [
  {
   "cell_type": "code",
   "execution_count": 54,
   "metadata": {},
   "outputs": [],
   "source": [
    "import ciropt as co\n",
    "import cvxpy as cp"
   ]
  },
  {
   "cell_type": "code",
   "execution_count": 55,
   "metadata": {},
   "outputs": [],
   "source": [
    "L_smooth = 1.\n",
    "mu = 0.0001\n",
    "\n",
    "Capacitance = 2.\n",
    "Inductance = 2.\n",
    "R = 1\n",
    "\n",
    "# solver = \"ca\"\n",
    "solver = \"ca_canonical\"\n",
    "# solver = \"ca_canonical_X\"\n",
    "# solver = \"gp_canonical_X\"\n",
    "\n",
    "time_limit = 200"
   ]
  },
  {
   "cell_type": "markdown",
   "metadata": {},
   "source": [
    "# Ciropt problem"
   ]
  },
  {
   "cell_type": "code",
   "execution_count": 56,
   "metadata": {},
   "outputs": [],
   "source": [
    "from ciropt.circuit_algorithms import define_function\n",
    "from ciropt.circuit_opt import CircuitOpt\n",
    "from ciropt.function import SmoothStronglyConvexFunction, StronglyConvexFunction, \\\n",
    "                            SmoothConvexFunction, ConvexFunction\n",
    "\n",
    "problem = CircuitOpt()\n",
    "func = define_function(problem, mu, L_smooth)\n",
    "\n",
    "h, alpha, beta, b = problem.h, problem.alpha, problem.beta, problem.b\n",
    "x_star, y_star, f_star = func.stationary_point()\n",
    "\n",
    "\n",
    "# stepsize : CR\n",
    "\n",
    "# x_1 = problem.set_initial_point()\n",
    "# v_C_1 = x_1 + R * y_1\n",
    "# y_1, f_1 = func.oracle(x_1)\n",
    "\n",
    "v_C_1 = problem.set_initial_point()\n",
    "x_1, y_1, f_1 = func.proximal_step(v_C_1, R)\n",
    "i_C_1 = 1/R * (x_1 - v_C_1)\n",
    "\n",
    "v_C_1p5 = v_C_1 + alpha * R * h  * i_C_1\n",
    "x_1p5, y_1p5, f_1p5 = func.proximal_step(v_C_1p5, R)\n",
    "i_C_1p5 = 1/R * (x_1p5 - v_C_1p5)\n",
    "\n",
    "v_C_2 = v_C_1p5 + beta * R * h  * i_C_1 + (1 - beta) * R * h * i_C_1p5\n",
    "\n",
    "\n",
    "E_1 = (Capacitance/2) * (v_C_1 - x_star)**2\n",
    "E_2 = (Capacitance/2) * (v_C_2 - x_star)**2\n",
    "Delta_1 = b * (f_1 - f_star)\n",
    "problem.set_energy(E_1 = E_1, E_2 = E_2)\n",
    "problem.set_delta( Delta_1 )\n",
    "problem.obj = b\n"
   ]
  },
  {
   "cell_type": "code",
   "execution_count": 57,
   "metadata": {},
   "outputs": [
    {
     "name": "stdout",
     "output_type": "stream",
     "text": [
      "dim_G=4, dim_F=3\n",
      "{'b': 6.000200008379675, 'h': 2.5975637852687723, 'd': 0.0, 'alpha': 0.15488002295233472, 'beta': 0.28695288407585734}\n"
     ]
    }
   ],
   "source": [
    "# problem = co.gradient_flow_circuit(mu, L_smooth, Capacitance)\n",
    "\n",
    "res, model, sp_exp = problem.solve(solver=solver, verbose=False, time_limit=100)[:3]\n",
    "print(res)"
   ]
  },
  {
   "cell_type": "code",
   "execution_count": 58,
   "metadata": {},
   "outputs": [
    {
     "data": {
      "text/plain": [
       "{'b': 6.000200008379675,\n",
       " 'h': 2.5975637852687723,\n",
       " 'd': 0.0,\n",
       " 'alpha': 0.15488002295233472,\n",
       " 'beta': 0.28695288407585734}"
      ]
     },
     "execution_count": 58,
     "metadata": {},
     "output_type": "execute_result"
    }
   ],
   "source": [
    "res"
   ]
  },
  {
   "cell_type": "markdown",
   "metadata": {},
   "source": [
    "# PEP verification"
   ]
  },
  {
   "cell_type": "code",
   "execution_count": 65,
   "metadata": {},
   "outputs": [],
   "source": [
    "import PEPit\n",
    "from PEPit.functions import SmoothStronglyConvexFunction, SmoothConvexFunction\n",
    "from PEPit.primitive_steps import proximal_step\n",
    "\n",
    "b = res[\"b\"] - 3\n",
    "h = res[\"h\"]\n",
    "alpha = res[\"alpha\"]\n",
    "beta = res[\"beta\"]"
   ]
  },
  {
   "cell_type": "code",
   "execution_count": 66,
   "metadata": {},
   "outputs": [
    {
     "name": "stdout",
     "output_type": "stream",
     "text": [
      "diff=-1.5267189849540714e-12\n"
     ]
    }
   ],
   "source": [
    "problem = PEPit.PEP()\n",
    "func_P = problem.declare_function(\n",
    "                    SmoothStronglyConvexFunction,\n",
    "                    mu=mu,   # Strong convexity param.\n",
    "                    L=L_smooth) \n",
    "\n",
    "\n",
    "x_P_star = func_P.stationary_point()\n",
    "g_star, f_star = func_P.oracle(x_P_star)\n",
    "\n",
    "\n",
    "# x_P_1 = problem.set_initial_point()\n",
    "# g_1, f_1 = func.oracle(x_P_1)\n",
    "# v_P_C_1 = x_P_1 + R * g_1\n",
    "\n",
    "v_P_C_1 = problem.set_initial_point()\n",
    "x_P_1, y_P_1, f_P_1 = proximal_step(v_P_C_1, func_P, R)\n",
    "# x_P_1, y_P_1, f_P_1 = func.proximal_step(v_P_C_1, R)\n",
    "i_P_C_1 = 1/R * (x_P_1 - v_P_C_1)\n",
    "\n",
    "v_P_C_1 = x_P_1 + R * y_P_1\n",
    "i_P_C_1 = 1/R * (x_P_1 - v_P_C_1)\n",
    "\n",
    "v_P_C_1p5 = v_P_C_1 + alpha * R * h  * i_P_C_1\n",
    "x_P_1p5, y_P_1p5, f_P_1p5 = proximal_step(v_P_C_1p5, func_P, R)\n",
    "# x_1p5, y_1p5, f_1p5 = func.proximal_step(v_C_1p5, R)\n",
    "i_P_C_1p5 = 1/R * (x_P_1p5 - v_P_C_1p5)\n",
    "\n",
    "v_P_C_2 = v_P_C_1p5 + beta * R * h  * i_P_C_1 + (1 - beta) * R * h * i_P_C_1p5\n",
    "\n",
    "\n",
    "# Set the performance metric to the function values accuracy\n",
    "E_1 = (Capacitance/2) * (v_P_C_1 - x_P_star)**2\n",
    "E_2 = (Capacitance/2) * (v_P_C_2 - x_P_star)**2\n",
    "Delta_1 = b * (f_P_1 - f_star)\n",
    "problem.set_performance_metric(E_2 - (E_1 - Delta_1))\n",
    "\n",
    "# Solve the PEP with verbose = 1\n",
    "verbose = 0\n",
    "diff = problem.solve(verbose=verbose, solver=cp.MOSEK)\n",
    "print(f\"{diff=}\")"
   ]
  },
  {
   "cell_type": "code",
   "execution_count": null,
   "metadata": {},
   "outputs": [],
   "source": []
  }
 ],
 "metadata": {
  "kernelspec": {
   "display_name": "osbdo",
   "language": "python",
   "name": "python3"
  },
  "language_info": {
   "codemirror_mode": {
    "name": "ipython",
    "version": 3
   },
   "file_extension": ".py",
   "mimetype": "text/x-python",
   "name": "python",
   "nbconvert_exporter": "python",
   "pygments_lexer": "ipython3",
   "version": "3.11.5"
  }
 },
 "nbformat": 4,
 "nbformat_minor": 2
}
