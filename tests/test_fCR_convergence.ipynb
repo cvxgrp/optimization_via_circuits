{
 "cells": [
  {
   "cell_type": "code",
   "execution_count": 1,
   "metadata": {},
   "outputs": [],
   "source": [
    "import cvxpy as cp\n",
    "import numpy as np\n",
    "import matplotlib.pyplot as plt\n",
    "\n",
    "np.random.seed(1)"
   ]
  },
  {
   "cell_type": "code",
   "execution_count": 2,
   "metadata": {},
   "outputs": [],
   "source": [
    "res = {'b': 1.5, 'h': 1.5, 'd': 0.3, 'alpha': 0, 'beta': 1.}\n",
    "\n",
    "R = C = 1"
   ]
  },
  {
   "cell_type": "code",
   "execution_count": 3,
   "metadata": {},
   "outputs": [
    {
     "name": "stdout",
     "output_type": "stream",
     "text": [
      "7.286302893185397 optimal\n"
     ]
    }
   ],
   "source": [
    "n = 50\n",
    "m = 30 \n",
    "A = np.random.randn(m, n)\n",
    "b = np.random.randn(m)\n",
    "\n",
    "\n",
    "x = cp.Variable(n) \n",
    "f = cp.norm(A @ x - b, p=1)\n",
    "objective = cp.Minimize(f)\n",
    "constraints = [0 <= x, x <= 1]\n",
    "prob = cp.Problem(objective, constraints)\n",
    "prob.solve()\n",
    "\n",
    "f_star = f.value\n",
    "\n",
    "print(f.value, prob.status)"
   ]
  },
  {
   "cell_type": "code",
   "execution_count": 4,
   "metadata": {},
   "outputs": [],
   "source": [
    "def prox_oracle(n, A, b, R, tilde_x):\n",
    "    x = cp.Variable(n) \n",
    "    f = cp.norm(A @ x - b, p=1)\n",
    "    objective = cp.Minimize(f + (1/(2*R)) * cp.sum_squares(x - tilde_x))\n",
    "    constraints = [0 <= x, x <= 1]\n",
    "    prob = cp.Problem(objective, constraints)\n",
    "    prob.solve()\n",
    "    return x.value\n",
    "\n",
    "\n",
    "def subgrad_oracle(n, A, b, tilde_x):\n",
    "    x = cp.Variable(n) \n",
    "    f = cp.norm(A @ x - b, p=1)\n",
    "    objective = cp.Minimize(f)\n",
    "    constraints = [x == tilde_x, 0 <= x, x <= 1]\n",
    "    prob = cp.Problem(objective, constraints)\n",
    "    prob.solve()\n",
    "    return -constraints[0].dual_value"
   ]
  },
  {
   "cell_type": "code",
   "execution_count": 5,
   "metadata": {},
   "outputs": [
    {
     "name": "stdout",
     "output_type": "stream",
     "text": [
      "PASSED subgradient test\n"
     ]
    }
   ],
   "source": [
    "for _ in range(20):\n",
    "    x1 = np.random.rand(n)\n",
    "    f_x1 = np.linalg.norm(A @ x1 - b, ord=1)\n",
    "    g_x1 = subgrad_oracle(n, A, b, x1)\n",
    "\n",
    "    x2 = prox_oracle(n, A, b, R, x1)\n",
    "    g_x2 = (1/R) * (x1 - x2)\n",
    "    f_x2 = np.linalg.norm(A @ x2 - b, ord=1)\n",
    "    for _ in range(50):\n",
    "        y = np.random.rand(n)\n",
    "        f_y = np.linalg.norm(A @ y - b, ord=1)\n",
    "        assert f_x1 + g_x1.T @ (y - x1) - 1e-6 <= f_y\n",
    "        assert f_x2 + g_x2.T @ (y - x2) - 1e-6 <= f_y\n",
    "\n",
    "print(\"PASSED subgradient test\")"
   ]
  },
  {
   "cell_type": "code",
   "execution_count": 6,
   "metadata": {},
   "outputs": [
    {
     "name": "stdout",
     "output_type": "stream",
     "text": [
      "losses[-1]=7.286302891180716, f_star=7.286302893185397\n"
     ]
    }
   ],
   "source": [
    "losses = []\n",
    "v_C_0 = np.zeros(n)\n",
    "for k in range(100):\n",
    "    x1 = prox_oracle(n, A, b, R, v_C_0)\n",
    "    g_x1 = (1/R) * (v_C_0 - x1)\n",
    "    v_C_1 = v_C_0 - 1.5 * g_x1\n",
    "    losses += [np.linalg.norm(A @ x1 - b, ord=1)]\n",
    "    v_C_0 = v_C_1\n",
    "\n",
    "print(f\"{losses[-1]=}, {f_star=}\")"
   ]
  },
  {
   "cell_type": "code",
   "execution_count": 7,
   "metadata": {},
   "outputs": [
    {
     "data": {
      "text/plain": [
       "[<matplotlib.lines.Line2D at 0x16d5a31f0>]"
      ]
     },
     "execution_count": 7,
     "metadata": {},
     "output_type": "execute_result"
    },
    {
     "data": {
      "image/png": "[encoded data removed]",
      "text/plain": [
       "<Figure size 640x480 with 1 Axes>"
      ]
     },
     "metadata": {},
     "output_type": "display_data"
    }
   ],
   "source": [
    "plt.plot(losses)"
   ]
  },
  {
   "cell_type": "code",
   "execution_count": null,
   "metadata": {},
   "outputs": [],
   "source": []
  }
 ],
 "metadata": {
  "kernelspec": {
   "display_name": "circuits",
   "language": "python",
   "name": "python3"
  },
  "language_info": {
   "codemirror_mode": {
    "name": "ipython",
    "version": 3
   },
   "file_extension": ".py",
   "mimetype": "text/x-python",
   "name": "python",
   "nbconvert_exporter": "python",
   "pygments_lexer": "ipython3",
   "version": "3.10.13"
  }
 },
 "nbformat": 4,
 "nbformat_minor": 2
}
