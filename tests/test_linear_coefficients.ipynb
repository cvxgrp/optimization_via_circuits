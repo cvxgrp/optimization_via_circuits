{
 "cells": [
  {
   "cell_type": "code",
   "execution_count": 1,
   "metadata": {},
   "outputs": [],
   "source": [
    "import casadi as ca\n",
    "import numpy as np\n",
    "import ciropt as co\n",
    "import sympy as sp"
   ]
  },
  {
   "cell_type": "code",
   "execution_count": null,
   "metadata": {},
   "outputs": [],
   "source": []
  },
  {
   "cell_type": "code",
   "execution_count": 2,
   "metadata": {},
   "outputs": [],
   "source": [
    "L_smooth = 1.\n",
    "mu = 0.001\n",
    "Capacitance = 2.\n",
    "Inductance = 1.\n",
    "R = 1.\n",
    "\n",
    "# solver = \"ipopt_qcqp\"\n",
    "solver = \"ipopt_qcqp_matrix\""
   ]
  },
  {
   "cell_type": "code",
   "execution_count": 3,
   "metadata": {},
   "outputs": [
    {
     "name": "stdout",
     "output_type": "stream",
     "text": [
      "dim_G=6, dim_F=4\n"
     ]
    }
   ],
   "source": [
    "problem = co.accelerated_gradient_circuit(mu, L_smooth, R, Capacitance, Inductance)\n",
    "problem.obj = problem.b + problem.d\n",
    "res, sol, sp_exp = problem.solve(solver=solver, verbose=False, debug=True)[:3]"
   ]
  },
  {
   "cell_type": "code",
   "execution_count": 4,
   "metadata": {},
   "outputs": [
    {
     "data": {
      "text/plain": [
       "{'b': 0.254953282743574,\n",
       " 'h': 1.0430952971308518,\n",
       " 'd': 0.1730517223843674,\n",
       " 'alpha': 1.3604244213479477,\n",
       " 'beta': 0.4239585737318982,\n",
       " 'gamma': 0.0}"
      ]
     },
     "execution_count": 4,
     "metadata": {},
     "output_type": "execute_result"
    }
   ],
   "source": [
    "res"
   ]
  },
  {
   "cell_type": "code",
   "execution_count": 5,
   "metadata": {},
   "outputs": [],
   "source": [
    "core_vars = sorted(['alpha', 'beta', 'h', 'b', 'd'])\n",
    "\n",
    "if 'ca_vars' in globals():\n",
    "    v = []\n",
    "    core_vars_set = set(core_vars)\n",
    "    for name in sorted(ca_vars.keys()):\n",
    "        if \"lamb\" not in name and \"P\" not in name:\n",
    "            v += [name]\n",
    "            assert set(name.split(\"_\")).issubset(core_vars_set)\n",
    "    print(\"PASSED\")\n",
    "    v = sorted(v)\n",
    "    sp_v = np.array([1] + [sp.symbols(name) for name in v])\n",
    "    name2idx = {var.name:idx+1 for idx, var in enumerate(sp_v[1:])}\n",
    "    name2idx[1] = 0\n",
    "else:\n",
    "    sp_v = np.array([1] + [sp.symbols(name) for name in problem.v_names[1:]])\n",
    "    name2idx = problem.name2idx"
   ]
  },
  {
   "cell_type": "code",
   "execution_count": 6,
   "metadata": {},
   "outputs": [
    {
     "data": {
      "text/plain": [
       "odict_keys([(0, 0, 0, 1), (0, 0, 0, 2), (0, 0, 0, 3), (0, 0, 1, 0), (0, 0, 1, 2), (0, 0, 1, 3), (0, 0, 2, 0), (0, 0, 2, 1), (0, 0, 2, 3), (0, 0, 3, 0), (0, 0, 3, 1), (0, 0, 3, 2), 'FG_d'])"
      ]
     },
     "execution_count": 6,
     "metadata": {},
     "output_type": "execute_result"
    }
   ],
   "source": [
    "sp_exp.keys()"
   ]
  },
  {
   "cell_type": "code",
   "execution_count": 7,
   "metadata": {},
   "outputs": [
    {
     "name": "stdout",
     "output_type": "stream",
     "text": [
      "PASSED\n"
     ]
    }
   ],
   "source": [
    "for k in sp_exp.keys():\n",
    "    for mat_expr in sp_exp[k].values():\n",
    "        coeff_matrix = co.linear_matrix_expr_to_coeff_matrix(co.simplify_matrix(mat_expr), name2idx)\n",
    "        assert co.equal_sp_arrays(co.coeff_matrix_to_linear_matrix_expr(coeff_matrix, \\\n",
    "                                                                sp_v, mat_expr.shape), mat_expr)\n",
    "    \n",
    "print(\"PASSED\")"
   ]
  },
  {
   "cell_type": "code",
   "execution_count": 8,
   "metadata": {},
   "outputs": [
    {
     "data": {
      "text/plain": [
       "dict_keys([1, 'alpha', 'b', 'beta', 'd', 'gamma', 'h', 'alpha_h', 'alpha_alpha', 'alpha_alpha_h', 'alpha_alpha_h_h', 'alpha_beta', 'alpha_beta_h', 'alpha_beta_h_h', 'alpha_h_h', 'beta_h', 'alpha_alpha_beta', 'alpha_alpha_beta_beta', 'alpha_alpha_beta_beta_h', 'alpha_alpha_beta_beta_h_h', 'alpha_alpha_beta_beta_h_h_h', 'alpha_alpha_beta_beta_h_h_h_h', 'alpha_alpha_beta_h', 'alpha_alpha_beta_h_h', 'alpha_alpha_beta_h_h_h', 'alpha_alpha_beta_h_h_h_h', 'alpha_alpha_h_h_h', 'alpha_alpha_h_h_h_h', 'alpha_beta_h_h_h', 'alpha_h_h_h', 'h_h', 'alpha_beta_beta', 'alpha_beta_beta_h', 'alpha_beta_beta_h_h', 'alpha_beta_beta_h_h_h', 'beta_h_h', 'beta_beta', 'beta_beta_h', 'beta_beta_h_h'])"
      ]
     },
     "execution_count": 8,
     "metadata": {},
     "output_type": "execute_result"
    }
   ],
   "source": [
    "name2idx.keys()"
   ]
  },
  {
   "cell_type": "code",
   "execution_count": 9,
   "metadata": {},
   "outputs": [
    {
     "name": "stdout",
     "output_type": "stream",
     "text": [
      "PASSED\n"
     ]
    }
   ],
   "source": [
    "# check coefficient matrices, ie, A @ v == \\nabla l(F, G)\n",
    "v_coeffs, v_names, name2idx2, v_k_list = co.sp_v_coeff_matrix(sp_exp, core_vars)\n",
    "sp_v2 = np.array([1] + [sp.symbols(name) for name in v_names[1:]])\n",
    "\n",
    "for i, k in enumerate(v_k_list):\n",
    "    for mtype, mat_expr in sp_exp[k].items():\n",
    "        coeff_matrix = v_coeffs[mtype][i]\n",
    "        assert co.equal_sp_arrays(co.coeff_matrix_to_linear_matrix_expr(coeff_matrix, sp_v2, mat_expr.shape), mat_expr)\n",
    "    \n",
    "print(\"PASSED\")"
   ]
  },
  {
   "cell_type": "code",
   "execution_count": 10,
   "metadata": {},
   "outputs": [
    {
     "name": "stdout",
     "output_type": "stream",
     "text": [
      "[[ 0.  0.  0.  0.  0.  0.  0.  0.  0.  0.]\n",
      " [ 1.  2.  0.  0.  0.  0.  0.  0.  0.  0.]\n",
      " [ 3.  4.  5.  0.  0.  0.  0.  0.  0.  0.]\n",
      " [ 6.  7.  8.  9.  0.  0.  0.  0.  0.  0.]\n",
      " [10. 11. 12. 13. 14.  0.  0.  0.  0.  0.]\n",
      " [15. 16. 17. 18. 19. 20.  0.  0.  0.  0.]\n",
      " [21. 22. 23. 24. 25. 26. 27.  0.  0.  0.]\n",
      " [28. 29. 30. 31. 32. 33. 34. 35.  0.  0.]\n",
      " [36. 37. 38. 39. 40. 41. 42. 43. 44.  0.]\n",
      " [45. 46. 47. 48. 49. 50. 51. 52. 53. 54.]]\n",
      "PASSED\n"
     ]
    }
   ],
   "source": [
    "def get_start_idx(k):\n",
    "    if k == 0:\n",
    "        return 0\n",
    "    return k * (k-1) // 2 + 1\n",
    "a = np.zeros((10, 10))\n",
    "count = 0\n",
    "for i in range(10):\n",
    "    a[i, :i+1] = np.arange(count, count + i + 1)\n",
    "    count += i + 1\n",
    "print(a)\n",
    "vec_diag_P_idx = np.cumsum(np.arange(10 + 1))[1:] - 1\n",
    "Q = np.zeros((10, 10 * (10 + 1) // 2))\n",
    "np.put_along_axis(Q, vec_diag_P_idx.reshape(-1, 1), 1, axis=1)\n",
    "vec_a = np.arange(10 * (10 + 1) // 2)\n",
    "diag_a = Q @ vec_a\n",
    "\n",
    "assert np.allclose(diag_a, np.diag(a))\n",
    "\n",
    "for k1 in range(10):\n",
    "    for k2 in range(10):\n",
    "        assert np.allclose( (a @ a.T)[k1, k2], co.get_PPt_element(vec_a, k1, k2))\n",
    "\n",
    "print(\"PASSED\")\n"
   ]
  },
  {
   "cell_type": "code",
   "execution_count": 11,
   "metadata": {},
   "outputs": [],
   "source": [
    "a2 = co.flatten_lower_tri(a)\n",
    "assert np.allclose(a2, np.arange(0, a.shape[0] * (a.shape[0]+1)//2))"
   ]
  },
  {
   "cell_type": "code",
   "execution_count": 12,
   "metadata": {},
   "outputs": [
    {
     "name": "stdout",
     "output_type": "stream",
     "text": [
      "PASSED\n"
     ]
    }
   ],
   "source": [
    "for _ in range(10):\n",
    "    dim_G = 6\n",
    "    x = np.random.randn(100, 1)\n",
    "    vec_indices = { \"v\"   : [0, 9],\\\n",
    "                            \"lamb\": [10, 70], \\\n",
    "                            \"P\"  : [71, 71 + dim_G * (dim_G + 1)//2]} \n",
    "    var_name = \"P\"\n",
    "    l = co.get_vec_var(x, var_name, vec_indices, matrix=False)\n",
    "    S = co.get_vec_var(x, var_name, vec_indices, matrix=True)\n",
    "    vec_P = co.get_vec_var(x, \"P\", vec_indices)\n",
    "    for k1 in range(dim_G):\n",
    "        for k2 in range(dim_G):\n",
    "            val = co.get_PPt_element(vec_P, k1, k2)\n",
    "            S1, S2 = co.get_PPt_matrix(x, vec_indices, k1, k2)\n",
    "            assert np.allclose(val, x.T @ S1.T @ S2 @ x)\n",
    "    assert np.allclose(S @ x, l)\n",
    "print(\"PASSED\")"
   ]
  },
  {
   "cell_type": "code",
   "execution_count": null,
   "metadata": {},
   "outputs": [],
   "source": []
  }
 ],
 "metadata": {
  "kernelspec": {
   "display_name": "circuits",
   "language": "python",
   "name": "python3"
  },
  "language_info": {
   "codemirror_mode": {
    "name": "ipython",
    "version": 3
   },
   "file_extension": ".py",
   "mimetype": "text/x-python",
   "name": "python",
   "nbconvert_exporter": "python",
   "pygments_lexer": "ipython3",
   "version": "3.10.13"
  }
 },
 "nbformat": 4,
 "nbformat_minor": 2
}
