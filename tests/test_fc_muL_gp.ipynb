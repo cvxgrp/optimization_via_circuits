{
 "cells": [
  {
   "cell_type": "code",
   "execution_count": 1,
   "metadata": {},
   "outputs": [],
   "source": [
    "import gurobipy as gp\n",
    "import numpy as np\n",
    "import ciropt as co\n",
    "import sympy as sp"
   ]
  },
  {
   "cell_type": "code",
   "execution_count": 2,
   "metadata": {},
   "outputs": [],
   "source": [
    "L_smooth = 1.\n",
    "mu = 0.0001\n",
    "Capacitance = 1.\n",
    "\n",
    "time_limit = 500\n",
    "ps = 10\n",
    "psm = 1\n",
    "\n",
    "solver = \"gp\""
   ]
  },
  {
   "cell_type": "code",
   "execution_count": 3,
   "metadata": {},
   "outputs": [],
   "source": [
    "def gp_print_solutions(model, gp_vars):\n",
    "    for i in range(model.SolCount):\n",
    "        model.Params.SolutionNumber = i\n",
    "        # print(ns, gp_vars)\n",
    "        print(f\"{i+1}: obj = {model.PoolObjVal}\")\n",
    "        print(model.printQuality())\n",
    "        # print(gp_vars[\"b\"].Xn, gp_vars[\"h\"].Xn,  gp_vars[\"alpha\"].Xn,  gp_vars[\"beta\"].Xn)\n",
    "        print(co.dict_parameters_ciropt_gp(model, gp_vars, all=True, Xn=True))\n",
    "    model.Params.SolutionNumber = 0"
   ]
  },
  {
   "cell_type": "code",
   "execution_count": 4,
   "metadata": {},
   "outputs": [
    {
     "name": "stdout",
     "output_type": "stream",
     "text": [
      "dim_G=5, dim_F=4\n",
      "Set parameter Username\n",
      "Academic license - for non-commercial use only - expires 2024-10-31\n",
      "{}\n"
     ]
    }
   ],
   "source": [
    "problem = co.gradient_flow_circuit(mu, L_smooth, Capacitance)\n",
    "problem.obj = problem.b\n",
    "res, co_model, sp_exp = problem.solve(solver=solver, verbose=False, debug=True, time_limit=time_limit, psm=psm, ps=ps)\n",
    "gp_vars = problem.vars\n",
    "print(res)"
   ]
  },
  {
   "cell_type": "code",
   "execution_count": 5,
   "metadata": {},
   "outputs": [],
   "source": [
    "co_vars = co.dict_parameters_ciropt_gp(co_model, gp_vars, all=True)"
   ]
  },
  {
   "cell_type": "code",
   "execution_count": 6,
   "metadata": {},
   "outputs": [
    {
     "data": {
      "text/plain": [
       "{}"
      ]
     },
     "execution_count": 6,
     "metadata": {},
     "output_type": "execute_result"
    }
   ],
   "source": [
    "co_vars"
   ]
  },
  {
   "cell_type": "code",
   "execution_count": 7,
   "metadata": {},
   "outputs": [],
   "source": [
    "# gp_print_solutions(problem.model, gp_vars)"
   ]
  },
  {
   "cell_type": "code",
   "execution_count": 8,
   "metadata": {},
   "outputs": [
    {
     "name": "stdout",
     "output_type": "stream",
     "text": [
      "Set parameter NonConvex to value 2\n",
      "Set parameter TimeLimit to value 500\n",
      "Set parameter PoolSearchMode to value 1\n",
      "Set parameter FeasibilityTol to value 1e-09\n",
      "Set parameter Method to value 0\n",
      "Set parameter Heuristics to value 0.001\n"
     ]
    }
   ],
   "source": [
    "size_I = 4          # I = { star, 1, 1.5, 2 }\n",
    "dim_G = 5           # { x_star, x_P_1, g_1, g_1p5, g_2 }\n",
    "dim_F = 4           # { f_star, f_1, f_1p5, f_2 }\n",
    "model = gp.Model()\n",
    "\n",
    "b = model.addVar(name='b', lb=0., ub=2)\n",
    "h = model.addVar(name='h', lb=0., ub=10)\n",
    "alpha = model.addVar(name='alpha', lb=-100, ub=100) #lb=-1.*gp.GRB.INFINITY, ub=gp.GRB.INFINITY)\n",
    "beta = model.addVar(name='beta', lb=-100, ub=100) #lb=-1.*gp.GRB.INFINITY, ub=gp.GRB.INFINITY)\n",
    "alpha_h = model.addVar(name='alpha_h', lb=-1000, ub=1000)\n",
    "beta_h = model.addVar(name='beta_h', lb=-1000, ub=1000)\n",
    "P = model.addMVar((dim_G, dim_G), name='P', lb=-1.*gp.GRB.INFINITY, ub=gp.GRB.INFINITY)\n",
    "lamb0 = model.addMVar((size_I, size_I), name='lamb0', lb=0, ub=gp.GRB.INFINITY)\n",
    "model.update()\n",
    "\n",
    "gram_gp_vars = {'b': b,\n",
    "                'h': h,\n",
    "                'alpha': alpha,\n",
    "                'beta': beta, \n",
    "                'P': P, \n",
    "                'lamb0': lamb0}\n",
    "\n",
    "g_star = np.zeros(dim_G).reshape(-1, 1)\n",
    "g_1 = co.one_hot(dim_G, 2)\n",
    "g_1p5 = co.one_hot(dim_G, 3) \n",
    "g_2 = co.one_hot(dim_G, 4) \n",
    "Gs = [g_star, g_1, g_1p5, g_2]\n",
    "\n",
    "f_star = co.one_hot(dim_F, 0) # np.zeros((dim_F, 1))\n",
    "f_1   = co.one_hot(dim_F, 1) \n",
    "f_1p5 = co.one_hot(dim_F, 2)\n",
    "f_2   = co.one_hot(dim_F, 3)\n",
    "F = [f_star, f_1, f_1p5, f_2]\n",
    "\n",
    "x_P_star = co.one_hot(dim_G, 0)\n",
    "x_P_1    = co.one_hot(dim_G, 1)\n",
    "x_P_1p5 = x_P_1 - (alpha_h / Capacitance) * g_1\n",
    "x_P_2   = x_P_1 - (beta_h / Capacitance) * g_1 - ((h - beta_h) / Capacitance) * g_1p5 \n",
    "Xs = [x_P_star, x_P_1, x_P_1p5, x_P_2]\n",
    "\n",
    "sp_vars = {name : sp.symbols(name) for name in gp_vars.keys()}\n",
    "sp_x_P_1p5 = x_P_1 - (sp_vars[\"alpha_h\"] / Capacitance) * g_1\n",
    "sp_x_P_2   = x_P_1 - (sp_vars[\"beta_h\"] / Capacitance) * g_1 - ((sp_vars[\"h\"] - sp_vars[\"beta_h\"]) / Capacitance) * g_1p5 \n",
    "sp_Xs = [x_P_star, x_P_1, sp_x_P_1p5, sp_x_P_2]\n",
    "\n",
    "star_idx = 4\n",
    "A = lambda i,j: co.symm_prod(Gs[j], Xs[i] - Xs[j])\n",
    "B = lambda i,j: co.symm_prod(Xs[i] - Xs[j], Xs[i] - Xs[j])\n",
    "C = lambda i,j: co.symm_prod(Gs[i] - Gs[j], Gs[i] - Gs[j])\n",
    "# D = lambda i,j: co.symm_prod(Xs[i] - Xs[j] - (1/L_smooth) * (Gs[i] - Gs[j]))\n",
    "a = lambda i,j: F[j] - F[i]\n",
    "\n",
    "sp_A = lambda i,j: co.symm_prod(Gs[j], sp_Xs[i] - sp_Xs[j])\n",
    "sp_B = lambda i,j: co.symm_prod(sp_Xs[i] - sp_Xs[j], sp_Xs[i] - sp_Xs[j])\n",
    "sp_C = lambda i,j: co.symm_prod(Gs[i] - Gs[j], Gs[i] - Gs[j])\n",
    "sp_D = lambda i,j: co.symm_prod(sp_Xs[i] - sp_Xs[j] - (1/L_smooth) * (Gs[i] - Gs[j]))\n",
    "\n",
    "D = lambda i,j: co.sympy_matrix_to_gurobi(co.simplify_matrix(sp_D(i, j)), gram_gp_vars, model)\n",
    "assert (dim_G, dim_G) == A(1, 2).shape == B(1, 2).shape == C(1, 2).shape\n",
    "assert a(1, 2).shape == (dim_F, 1)\n",
    "\n",
    "model.addConstr( alpha_h == alpha * h )\n",
    "model.addConstr( beta_h == beta * h )\n",
    "model.addConstr( lamb0.diagonal() == np.zeros(size_I) )\n",
    "model.addConstr( P.diagonal() >= np.zeros(dim_G) )\n",
    "for i in range(dim_G):\n",
    "            # model.addConstr( P[i, i] >= 0 )\n",
    "            for j in range(i+1, dim_G):\n",
    "                model.addConstr( P[i, j] == 0 )\n",
    "\n",
    "model.setObjective( -b )\n",
    "# star:0, 1:1, 1p5:2, 2:3\n",
    "sum_ij_La = np.zeros((dim_F, 1), dtype=object)\n",
    "sum_ij_AC  = np.zeros((dim_G, dim_G), dtype=object)\n",
    "for i in range(size_I):\n",
    "    for j in range(size_I):\n",
    "        if i == j: continue\n",
    "        sum_ij_La += lamb0[i, j].item() * a(i, j)\n",
    "        sum_ij_AC += lamb0[i, j].item() * (A(i, j) + (1./(2 * L_smooth)) * C(i, j) + mu / (2 * (1 - mu / L_smooth)) * D(i, j))\n",
    "\n",
    "Fweights_d = - b * a(1, 0)\n",
    "Gweights_d = (Capacitance / 2) * (B(3, 0) - B(1, 0))\n",
    "# model.addConstr( sum_ij_La == Fweights_d ) \n",
    "# print(sum_ij_La, \"\\n\", Fweights_d)\n",
    "# model.addConstr( sum_ij_AC  - P @ P.T - Gweights_d == np.zeros((dim_G, dim_G)))\n",
    "z1 = sum_ij_La - Fweights_d\n",
    "z2 = sum_ij_AC - Gweights_d\n",
    "PPt = P @ P.T\n",
    "model.addConstrs(sum_ij_La[i, 0] - Fweights_d[i, 0] == 0 for i in range(dim_F))\n",
    "model.addConstrs(sum_ij_AC[i, j] - Gweights_d[i, j] - PPt[i, j].item() == 0 for i in range(dim_G) for j in range(dim_G))\n",
    "\n",
    "model.params.NonConvex = 2\n",
    "model.params.TimeLimit = time_limit\n",
    "model.Params.PoolSearchMode = 1\n",
    "model.Params.FeasibilityTol = 1e-9\n",
    "model.Params.Method = 0\n",
    "model.Params.PoolSearchMode = 1\n",
    "model.Params.Heuristics = 0.001\n",
    "model.Params.LogToConsole = 0\n",
    "model.update()\n",
    "model.optimize()"
   ]
  },
  {
   "cell_type": "code",
   "execution_count": 9,
   "metadata": {},
   "outputs": [
    {
     "data": {
      "text/plain": [
       "dict_keys(['b', 'h', 'alpha', 'beta', 'P', 'lamb0', 'alpha_h', 'alpha_alpha', 'alpha_alpha_h', 'alpha_alpha_h_h', 'beta_h', 'beta_beta', 'beta_beta_h', 'beta_beta_h_h', 'beta_h_h', 'h_h', 'alpha_beta', 'alpha_beta_h', 'alpha_beta_h_h', 'alpha_h_h'])"
      ]
     },
     "execution_count": 9,
     "metadata": {},
     "output_type": "execute_result"
    }
   ],
   "source": [
    "gram_gp_vars.keys()"
   ]
  },
  {
   "cell_type": "code",
   "execution_count": 10,
   "metadata": {},
   "outputs": [
    {
     "data": {
      "text/plain": [
       "{'b': 0.9373437511894736,\n",
       " 'h': 1.25,\n",
       " 'alpha': -75.0,\n",
       " 'beta': 1.0,\n",
       " 'P': array([[ 0.00883884,  0.        ,  0.        ,  0.        ,  0.        ],\n",
       "        [-0.00883883,  0.        ,  0.        ,  0.        ,  0.        ],\n",
       "        [ 0.        ,  0.        ,  0.        ,  0.        ,  0.        ],\n",
       "        [ 0.        ,  0.        ,  0.        ,  0.        ,  0.        ],\n",
       "        [ 0.        ,  0.        ,  0.        ,  0.        ,  0.        ]]),\n",
       " 'lamb0': array([[-0.        ,  1.24984375,  0.        ,  0.        ],\n",
       "        [ 0.3125    , -0.        ,  0.        ,  0.        ],\n",
       "        [ 0.        ,  0.        , -0.        ,  0.        ],\n",
       "        [ 0.        ,  0.        ,  0.        , -0.        ]]),\n",
       " 'alpha_h': -93.75,\n",
       " 'alpha_alpha': 5625.0,\n",
       " 'alpha_alpha_h': 7031.25,\n",
       " 'alpha_alpha_h_h': 8789.0625,\n",
       " 'beta_h': 1.25,\n",
       " 'beta_beta': 1.0,\n",
       " 'beta_beta_h': 1.25,\n",
       " 'beta_beta_h_h': 1.5625,\n",
       " 'beta_h_h': 1.5625,\n",
       " 'h_h': 1.5625,\n",
       " 'alpha_beta': -75.0,\n",
       " 'alpha_beta_h': -93.75,\n",
       " 'alpha_beta_h_h': -117.1875,\n",
       " 'alpha_h_h': -117.1875}"
      ]
     },
     "execution_count": 10,
     "metadata": {},
     "output_type": "execute_result"
    }
   ],
   "source": [
    "sol = co.dict_parameters_ciropt_gp(model, gram_gp_vars, all=True)\n",
    "sol"
   ]
  },
  {
   "cell_type": "code",
   "execution_count": 11,
   "metadata": {},
   "outputs": [],
   "source": [
    "# gp_print_solutions(model, gram_gp_vars)"
   ]
  },
  {
   "cell_type": "code",
   "execution_count": 12,
   "metadata": {},
   "outputs": [],
   "source": [
    "# compare matrices\n",
    "size_I_function = size_I\n",
    "for i in range(size_I_function):\n",
    "    for j in range(size_I_function):\n",
    "        if i == j: continue\n",
    "        F1, G1 = sp_exp[(0,i,j)][\"F\"], sp_exp[(0,i,j)][\"G\"]\n",
    "        F2 = a(i, j)\n",
    "        G2 = co.simplify_matrix(sp_A(i, j) + (1./(2*L_smooth)) * sp_C(i, j) + mu / (2 * (1 - mu / L_smooth)) * sp_D(i, j))\n",
    "        assert co.equal_sp_arrays(G1, G2), print(f\"{i=}, {j=} \\n{G1=} \\n{G2=}\")\n",
    "        assert co.equal_sp_arrays(F1, F2[:, 0]), print(f\"{i=}, {j=} \\n{F1=} \\n{F2=}\\n\")\n",
    "\n",
    "F1, G1 = sp_exp[\"FG_d\"][\"F\"], sp_exp[\"FG_d\"][\"G\"]\n",
    "F2 = -sp_vars[\"b\"] * a(1, 0)\n",
    "G2 = (Capacitance / 2) * (sp_B(3, 0) - sp_B(1, 0))\n",
    "assert co.equal_sp_arrays(G1, G2), print(f\"{G1=} \\n{G2=}\")\n",
    "assert co.equal_sp_arrays(F1, F2[:,0]), print(f\"{F1=} \\n{F2=}\\n\")"
   ]
  },
  {
   "cell_type": "code",
   "execution_count": 13,
   "metadata": {},
   "outputs": [
    {
     "ename": "GurobiError",
     "evalue": "No solution information available",
     "output_type": "error",
     "traceback": [
      "\u001b[0;31m---------------------------------------------------------------------------\u001b[0m",
      "\u001b[0;31mGurobiError\u001b[0m                               Traceback (most recent call last)",
      "\u001b[1;32m/Users/parshakova.tanya/Documents/projects/Circuits/optimization_via_circuits/tests/test_fc_muL_gp.ipynb Cell 13\u001b[0m line \u001b[0;36m<cell line: 1>\u001b[0;34m()\u001b[0m\n\u001b[0;32m----> <a href='vscode-notebook-cell:/Users/parshakova.tanya/Documents/projects/Circuits/optimization_via_circuits/tests/test_fc_muL_gp.ipynb#X15sZmlsZQ%3D%3D?line=0'>1</a>\u001b[0m problem\u001b[39m.\u001b[39;49mmodel\u001b[39m.\u001b[39;49mprintQuality()\n",
      "File \u001b[0;32msrc/gurobipy/model.pxi:2553\u001b[0m, in \u001b[0;36mgurobipy.Model.printQuality\u001b[0;34m()\u001b[0m\n",
      "\u001b[0;31mGurobiError\u001b[0m: No solution information available"
     ]
    }
   ],
   "source": [
    "problem.model.printQuality()"
   ]
  },
  {
   "cell_type": "code",
   "execution_count": null,
   "metadata": {},
   "outputs": [],
   "source": [
    "h_init = co_vars[\"h\"]\n",
    "b_init = co_vars[\"b\"]\n",
    "alpha_init = co_vars[\"alpha\"]\n",
    "beta_init = co_vars[\"beta\"]\n",
    "lamb_init = co_vars[\"lamb0\"]\n",
    "P_init = co_vars[\"P\"]\n",
    "alpha_h_init = alpha_init * h_init\n",
    "beta_h_init = beta_init * h_init"
   ]
  },
  {
   "cell_type": "code",
   "execution_count": null,
   "metadata": {},
   "outputs": [
    {
     "data": {
      "text/plain": [
       "(61, -0.9373437511894736)"
      ]
     },
     "execution_count": 19,
     "metadata": {},
     "output_type": "execute_result"
    }
   ],
   "source": [
    "model.NumVars, model.objVal"
   ]
  },
  {
   "cell_type": "code",
   "execution_count": null,
   "metadata": {},
   "outputs": [
    {
     "data": {
      "text/plain": [
       "dict_keys(['b', 'd', 'h', 'alpha', 'beta', 'P', 'lamb0', 'alpha_h', 'beta_h', 'alpha_alpha', 'alpha_alpha_h', 'alpha_alpha_h_h', 'alpha_beta', 'alpha_beta_h', 'alpha_beta_h_h', 'beta_beta', 'beta_beta_h', 'beta_beta_h_h', 'alpha_h_h', 'beta_h_h', 'h_h'])"
      ]
     },
     "execution_count": 20,
     "metadata": {},
     "output_type": "execute_result"
    }
   ],
   "source": [
    "gp_vars.keys()"
   ]
  },
  {
   "cell_type": "code",
   "execution_count": null,
   "metadata": {},
   "outputs": [
    {
     "name": "stdout",
     "output_type": "stream",
     "text": [
      "Gurobi Optimizer version 10.0.3 build v10.0.3rc0 (mac64[rosetta2])\n",
      "\n",
      "CPU model: Apple M2\n",
      "Thread count: 8 physical cores, 8 logical processors, using up to 8 threads\n",
      "\n",
      "Optimize a model with 23 rows, 61 columns and 45 nonzeros\n",
      "Model fingerprint: 0xee54c009\n",
      "Model has 41 quadratic constraints\n",
      "Variable types: 61 continuous, 0 integer (0 binary)\n",
      "Coefficient statistics:\n",
      "  Matrix range     [1e+00, 1e+00]\n",
      "  QMatrix range    [5e-05, 1e+00]\n",
      "  QLMatrix range   [5e-05, 1e+00]\n",
      "  Objective range  [1e+00, 1e+00]\n",
      "  Bounds range     [6e-11, 1e-02]\n",
      "  RHS range        [0e+00, 0e+00]\n",
      "\n",
      "Loaded MIP start from previous solve with objective -0.000254343\n",
      "\n",
      "Presolve removed 23 rows and 61 columns\n",
      "Presolve time: 0.00s\n",
      "Presolve: All rows and columns removed\n",
      "\n",
      "Explored 0 nodes (0 simplex iterations) in 0.01 seconds (0.00 work units)\n",
      "Thread count was 1 (of 8 available processors)\n",
      "\n",
      "Solution count 1: -0.000254343 \n",
      "\n",
      "Optimal solution found (tolerance 1.00e-04)\n",
      "Best objective -2.543433807196e-04, best bound -2.543433807196e-04, gap 0.0000%\n"
     ]
    }
   ],
   "source": [
    "vars = [b, h, alpha, beta, alpha_h, beta_h, P, lamb0]\n",
    "eval_vars = [b_init, h_init, alpha_init, beta_init, alpha_h_init, beta_h_init, P_init, lamb_init]\n",
    "\n",
    "for v, v_val in zip(vars, eval_vars):\n",
    "    v.setAttr(gp.GRB.Attr.LB, v_val) \n",
    "    v.setAttr(gp.GRB.Attr.UB, v_val)\n",
    "model.update()\n",
    "model.optimize()"
   ]
  },
  {
   "cell_type": "code",
   "execution_count": null,
   "metadata": {},
   "outputs": [
    {
     "data": {
      "text/plain": [
       "(0.000254343380719592,\n",
       " 0.00029409076480068567,\n",
       " -5.251989913458371e-05,\n",
       " -2.0043067959985508e-07)"
      ]
     },
     "execution_count": 22,
     "metadata": {},
     "output_type": "execute_result"
    }
   ],
   "source": [
    "b.X, h.X, alpha.X, beta.X"
   ]
  },
  {
   "cell_type": "code",
   "execution_count": null,
   "metadata": {},
   "outputs": [
    {
     "name": "stdout",
     "output_type": "stream",
     "text": [
      "PASSED\n"
     ]
    }
   ],
   "source": [
    "for name in ['h', 'b', 'alpha', 'beta', 'P', 'lamb0']:\n",
    "    v_eval = globals()[name].X\n",
    "    assert np.allclose(v_eval, co_vars[name]), print(name, v_eval, co_vars[name])\n",
    "\n",
    "for name in ['sum_ij_AC', 'sum_ij_La', 'Fweights_d', 'Gweights_d']:\n",
    "    v_eval = co.gurobi_to_numpy(globals()[name])\n",
    "    assert np.allclose(0, np.linalg.norm(v_eval.flatten()-\\\n",
    "            co.gurobi_to_numpy(problem.gp_expressions[name]).flatten())), print(name)\n",
    "\n",
    "sum1 = co.gurobi_to_numpy(sum_ij_La - Fweights_d)\n",
    "sum2 = co.gurobi_to_numpy(sum_ij_AC - Gweights_d) - co.gurobi_to_numpy(PPt)\n",
    "\n",
    "assert np.allclose(0, np.linalg.norm(sum1.flatten())) and np.allclose(0, np.linalg.norm(sum2.flatten()))\n",
    "\n",
    "print(\"PASSED\")"
   ]
  },
  {
   "cell_type": "code",
   "execution_count": null,
   "metadata": {},
   "outputs": [],
   "source": []
  }
 ],
 "metadata": {
  "kernelspec": {
   "display_name": "Python 3 (ipykernel)",
   "language": "python",
   "name": "python3"
  },
  "language_info": {
   "codemirror_mode": {
    "name": "ipython",
    "version": 3
   },
   "file_extension": ".py",
   "mimetype": "text/x-python",
   "name": "python",
   "nbconvert_exporter": "python",
   "pygments_lexer": "ipython3",
   "version": "3.10.13"
  }
 },
 "nbformat": 4,
 "nbformat_minor": 2
}
