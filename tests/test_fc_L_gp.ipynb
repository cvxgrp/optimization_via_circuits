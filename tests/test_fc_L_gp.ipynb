{
 "cells": [
  {
   "cell_type": "code",
   "execution_count": 1,
   "metadata": {},
   "outputs": [],
   "source": [
    "import gurobipy as gp\n",
    "import numpy as np\n",
    "import ciropt as co\n",
    "import sympy as sp"
   ]
  },
  {
   "cell_type": "code",
   "execution_count": 2,
   "metadata": {},
   "outputs": [],
   "source": [
    "L_smooth = 1.\n",
    "mu = 0.\n",
    "Capacitance = 1.\n",
    "\n",
    "time_limit = 300\n",
    "ps = 10\n",
    "psm = 1\n",
    "heur = 0.001\n",
    "\n",
    "solver = \"gp\""
   ]
  },
  {
   "cell_type": "code",
   "execution_count": 3,
   "metadata": {},
   "outputs": [],
   "source": [
    "def gp_print_solutions(model, gp_vars):\n",
    "    for i in range(model.SolCount):\n",
    "        model.Params.SolutionNumber = i\n",
    "        # print(ns, gp_vars)\n",
    "        print(f\"{i+1}: obj = {model.PoolObjVal}\")\n",
    "        print(model.printQuality())\n",
    "        # print(gp_vars[\"b\"].Xn, gp_vars[\"h\"].Xn,  gp_vars[\"alpha\"].Xn,  gp_vars[\"beta\"].Xn)\n",
    "        print(co.dict_parameters_ciropt_gp(model, gp_vars, all=True, Xn=True))\n",
    "    model.Params.SolutionNumber = 0\n",
    "    model.update()"
   ]
  },
  {
   "cell_type": "code",
   "execution_count": 4,
   "metadata": {},
   "outputs": [
    {
     "name": "stdout",
     "output_type": "stream",
     "text": [
      "dim_G=5, dim_F=4\n",
      "Set parameter Username\n",
      "Academic license - for non-commercial use only - expires 2024-10-31\n",
      "{'b': 1.0000004010112338, 'h': 1.000057693928346, 'd': 0.0, 'alpha': 7.794641180673609e-08, 'beta': 0.7468309943392725}\n"
     ]
    }
   ],
   "source": [
    "problem = co.gradient_flow_circuit(mu, L_smooth, Capacitance)\n",
    "problem.obj = problem.b\n",
    "res, co_model, sp_exp = problem.solve(solver=solver, verbose=False, debug=True, time_limit=time_limit, psm=psm, ps=ps)\n",
    "gp_vars = problem.vars\n",
    "print(res)"
   ]
  },
  {
   "cell_type": "code",
   "execution_count": 5,
   "metadata": {},
   "outputs": [],
   "source": [
    "co_vars = co.dict_parameters_ciropt_gp(co_model, gp_vars, all=True)"
   ]
  },
  {
   "cell_type": "code",
   "execution_count": 6,
   "metadata": {},
   "outputs": [],
   "source": [
    "# co_vars"
   ]
  },
  {
   "cell_type": "code",
   "execution_count": 7,
   "metadata": {},
   "outputs": [
    {
     "data": {
      "text/plain": [
       "(5.858258176466979e-13, 4.988086185498642e-07)"
      ]
     },
     "execution_count": 7,
     "metadata": {},
     "output_type": "execute_result"
    }
   ],
   "source": [
    "np.linalg.norm((co.gurobi_to_numpy(problem.gp_expressions[\"sum_ij_La\"])-co.gurobi_to_numpy(problem.gp_expressions[\"Fweights_d\"])).flatten()), \\\n",
    "np.linalg.norm((co.gurobi_to_numpy(problem.gp_expressions[\"sum_ij_AC\"]) - co.gurobi_to_numpy(problem.gp_expressions[\"Gweights_d\"]) - co_vars[\"P\"] @ co_vars[\"P\"].T).flatten())"
   ]
  },
  {
   "cell_type": "code",
   "execution_count": 8,
   "metadata": {},
   "outputs": [
    {
     "name": "stdout",
     "output_type": "stream",
     "text": [
      "Set parameter NonConvex to value 2\n",
      "Set parameter TimeLimit to value 300\n",
      "Set parameter PoolSearchMode to value 1\n",
      "Set parameter Heuristics to value 0.001\n",
      "None\n"
     ]
    }
   ],
   "source": [
    "size_I = 4          # I = { star, 1, 1.5, 2 }\n",
    "dim_G = 5           # { x_star, x_1, y_1, y_1p5, y_2 }\n",
    "dim_F = 4           # { f_star, f_1, f_1p5, f_2 }\n",
    "model = gp.Model()\n",
    "\n",
    "b = model.addVar(name='b', lb=0., ub=10)\n",
    "h = model.addVar(name='h', lb=0., ub=10)\n",
    "alpha = model.addVar(name='alpha', lb=-100, ub=100) #lb=-1.*gp.GRB.INFINITY, ub=gp.GRB.INFINITY)\n",
    "beta = model.addVar(name='beta', lb=-100, ub=100) #lb=-1.*gp.GRB.INFINITY, ub=gp.GRB.INFINITY)\n",
    "alpha_h = model.addVar(name='alpha_h', lb=-1000, ub=1000)\n",
    "beta_h = model.addVar(name='beta_h', lb=-1000, ub=1000)\n",
    "P = model.addMVar((dim_G, dim_G), name='P', lb=-1.*gp.GRB.INFINITY, ub=gp.GRB.INFINITY)\n",
    "lamb0 = model.addMVar((size_I, size_I), name='lamb0', lb=0, ub=gp.GRB.INFINITY)\n",
    "model.update()\n",
    "\n",
    "y_star = np.zeros(dim_G).reshape(-1, 1)\n",
    "y_1 = co.one_hot(dim_G, 2)\n",
    "y_1p5 = co.one_hot(dim_G, 3) \n",
    "y_2 = co.one_hot(dim_G, 4) \n",
    "Gs = [y_star, y_1, y_1p5, y_2]\n",
    "\n",
    "f_star = co.one_hot(dim_F, 0) # np.zeros((dim_F, 1))\n",
    "f_1   = co.one_hot(dim_F, 1) \n",
    "f_1p5 = co.one_hot(dim_F, 2)\n",
    "f_2   = co.one_hot(dim_F, 3)\n",
    "F = [f_star, f_1, f_1p5, f_2]\n",
    "\n",
    "x_star = co.one_hot(dim_G, 0)\n",
    "x_1    = co.one_hot(dim_G, 1)\n",
    "x_1p5 = x_1 - (alpha_h / Capacitance) * y_1\n",
    "x_2   = x_1 - (beta_h / Capacitance) * y_1 - ((h - beta_h) / Capacitance) * y_1p5 \n",
    "Xs = [x_star, x_1, x_1p5, x_2]\n",
    "\n",
    "sp_vars = {name : sp.symbols(name) for name in gp_vars.keys()}\n",
    "sp_x_1p5 = x_1 - (sp_vars[\"alpha_h\"] / Capacitance) * y_1\n",
    "sp_x_2   = x_1 - (sp_vars[\"beta_h\"] / Capacitance) * y_1 - ((sp_vars[\"h\"] - sp_vars[\"beta_h\"]) / Capacitance) * y_1p5 \n",
    "sp_Xs = [x_star, x_1, sp_x_1p5, sp_x_2]\n",
    "\n",
    "star_idx = 4\n",
    "A = lambda i,j: co.symm_prod(Gs[j], Xs[i] - Xs[j])\n",
    "B = lambda i,j: co.symm_prod(Xs[i] - Xs[j], Xs[i] - Xs[j])\n",
    "C = lambda i,j: co.symm_prod(Gs[i] - Gs[j], Gs[i] - Gs[j])\n",
    "a = lambda i,j: F[j] - F[i]\n",
    "\n",
    "sp_A = lambda i,j: co.symm_prod(Gs[j], sp_Xs[i] - sp_Xs[j])\n",
    "sp_B = lambda i,j: co.symm_prod(sp_Xs[i] - sp_Xs[j], sp_Xs[i] - sp_Xs[j])\n",
    "sp_C = lambda i,j: co.symm_prod(Gs[i] - Gs[j], Gs[i] - Gs[j])\n",
    "\n",
    "assert (dim_G, dim_G) == A(1, 2).shape == B(1, 2).shape == C(1, 2).shape\n",
    "assert a(1, 2).shape == (dim_F, 1)\n",
    "\n",
    "model.addConstr( alpha_h == alpha * h )\n",
    "model.addConstr( beta_h == beta * h )\n",
    "model.addConstr( lamb0.diagonal() == np.zeros(size_I) )\n",
    "model.addConstr( P.diagonal() >= np.zeros(dim_G) )\n",
    "for i in range(dim_G):\n",
    "            # model.addConstr( P[i, i] >= 0 )\n",
    "            for j in range(i+1, dim_G):\n",
    "                model.addConstr( P[i, j] == 0 )\n",
    "\n",
    "model.setObjective( -b )\n",
    "# star:0, 1:1, 1p5:2, 2:3\n",
    "sum_ij_La = np.zeros((dim_F, 1), dtype=object)\n",
    "sum_ij_AC  = np.zeros((dim_G, dim_G), dtype=object)\n",
    "for i in range(size_I):\n",
    "    for j in range(size_I):\n",
    "        if i == j: continue\n",
    "        sum_ij_La += lamb0[i, j].item() * a(i, j)\n",
    "        sum_ij_AC += lamb0[i, j].item() * (A(i, j) + (1./(2 * L_smooth)) * C(i, j))\n",
    "\n",
    "Fweights_d = - b * a(1, 0)\n",
    "Gweights_d = (Capacitance / 2) * (B(3, 0) - B(1, 0))\n",
    "# model.addConstr( sum_ij_La == Fweights_d ) \n",
    "# print(sum_ij_La, \"\\n\", Fweights_d)\n",
    "# model.addConstr( sum_ij_AC  - P @ P.T - Gweights_d == np.zeros((dim_G, dim_G)))\n",
    "z1 = sum_ij_La - Fweights_d\n",
    "z2 = sum_ij_AC - Gweights_d\n",
    "PPt = P @ P.T\n",
    "model.addConstrs(sum_ij_La[i, 0] - Fweights_d[i, 0] == 0 for i in range(dim_F))\n",
    "model.addConstrs(sum_ij_AC[i, j] - Gweights_d[i, j] - PPt[i, j].item() == 0 for i in range(dim_G) for j in range(dim_G))\n",
    "\n",
    "model.params.NonConvex = 2\n",
    "model.params.TimeLimit = time_limit\n",
    "model.params.PoolSolutions = ps\n",
    "model.Params.PoolSearchMode = 1\n",
    "# model.Params.FeasibilityTol = 1e-9\n",
    "model.Params.Heuristics = heur\n",
    "model.Params.LogToConsole = 0\n",
    "model.update()\n",
    "model.optimize()\n",
    "print(model.printQuality())"
   ]
  },
  {
   "cell_type": "code",
   "execution_count": 9,
   "metadata": {},
   "outputs": [
    {
     "data": {
      "text/plain": [
       "2.777164555957505e-07"
      ]
     },
     "execution_count": 9,
     "metadata": {},
     "output_type": "execute_result"
    }
   ],
   "source": [
    "np.linalg.norm((co.gurobi_to_numpy(sum_ij_AC) - co.gurobi_to_numpy(Gweights_d) - P.X @ P.X.T).flatten())"
   ]
  },
  {
   "cell_type": "code",
   "execution_count": 10,
   "metadata": {},
   "outputs": [],
   "source": [
    "gram_gp_vars = {'b': b,\n",
    "                'h': h,\n",
    "                'alpha': alpha,\n",
    "                'beta': beta, \n",
    "                'P': P, \n",
    "                'lamb0': lamb0}"
   ]
  },
  {
   "cell_type": "code",
   "execution_count": 11,
   "metadata": {},
   "outputs": [],
   "source": [
    "# for name, val in co_vars.items():\n",
    "#     if type(val) == np.ndarray:\n",
    "#         print(name, val.min(), val.max())\n",
    "#     else:\n",
    "#         print(name, val)"
   ]
  },
  {
   "cell_type": "code",
   "execution_count": 12,
   "metadata": {},
   "outputs": [
    {
     "data": {
      "text/plain": [
       "{'b': 1.000000092397201,\n",
       " 'h': 1.0005480447881754,\n",
       " 'alpha': -100.0,\n",
       " 'beta': 1.0,\n",
       " 'P': array([[ 0.        ,  0.        ,  0.        ,  0.        ,  0.        ],\n",
       "        [ 0.        ,  0.        ,  0.        ,  0.        ,  0.        ],\n",
       "        [ 0.        ,  0.        ,  0.        ,  0.        ,  0.        ],\n",
       "        [ 0.        ,  0.        , -0.00044314,  0.        ,  0.        ],\n",
       "        [ 0.        ,  0.        ,  0.        ,  0.        ,  0.        ]]),\n",
       " 'lamb0': array([[-0.00000000e+00,  1.00054804e+00,  0.00000000e+00,\n",
       "          0.00000000e+00],\n",
       "        [ 5.47952391e-04, -0.00000000e+00,  0.00000000e+00,\n",
       "          0.00000000e+00],\n",
       "        [ 0.00000000e+00,  0.00000000e+00, -0.00000000e+00,\n",
       "          0.00000000e+00],\n",
       "        [ 0.00000000e+00,  0.00000000e+00,  0.00000000e+00,\n",
       "         -0.00000000e+00]])}"
      ]
     },
     "execution_count": 12,
     "metadata": {},
     "output_type": "execute_result"
    }
   ],
   "source": [
    "sol = co.dict_parameters_ciropt_gp(model, gram_gp_vars, all=True)\n",
    "sol"
   ]
  },
  {
   "cell_type": "code",
   "execution_count": 13,
   "metadata": {},
   "outputs": [],
   "source": [
    "# gp_print_solutions(model, gram_gp_vars)"
   ]
  },
  {
   "cell_type": "code",
   "execution_count": 14,
   "metadata": {},
   "outputs": [],
   "source": [
    "# compare matrices\n",
    "size_I_function = size_I\n",
    "for i in range(size_I_function):\n",
    "    for j in range(size_I_function):\n",
    "        if i == j: continue\n",
    "        F1, G1 = sp_exp[(0,i,j)][\"F\"], sp_exp[(0,i,j)][\"G\"]\n",
    "        F2 = a(i, j)\n",
    "        G2 = sp_A(i, j) + (1./(2*L_smooth)) * sp_C(i, j)\n",
    "        assert co.equal_sp_arrays(G1, G2), print(f\"{i=}, {j=} \\n{G1=} \\n{G2=}\")\n",
    "        assert co.equal_sp_arrays(F1, F2[:, 0]), print(f\"{i=}, {j=} \\n{F1=} \\n{F2=}\\n\")\n",
    "\n",
    "F1, G1 = sp_exp[\"FG_d\"][\"F\"], sp_exp[\"FG_d\"][\"G\"]\n",
    "F2 = -sp_vars[\"b\"] * a(1, 0)\n",
    "G2 = (Capacitance / 2) * (sp_B(3, 0) - sp_B(1, 0))\n",
    "assert co.equal_sp_arrays(G1, G2), print(f\"{G1=} \\n{G2=}\")\n",
    "assert co.equal_sp_arrays(F1, F2[:,0]), print(f\"{F1=} \\n{F2=}\\n\")"
   ]
  },
  {
   "cell_type": "code",
   "execution_count": 15,
   "metadata": {},
   "outputs": [
    {
     "data": {
      "text/plain": [
       "(None, None)"
      ]
     },
     "execution_count": 15,
     "metadata": {},
     "output_type": "execute_result"
    }
   ],
   "source": [
    "problem.model.printQuality(), model.printQuality()"
   ]
  },
  {
   "cell_type": "code",
   "execution_count": 16,
   "metadata": {},
   "outputs": [],
   "source": [
    "# def evaluate_model_vals(model, names, vars, vals):\n",
    "#     for name in names:\n",
    "#         v = vars[name]\n",
    "#         v_val = vals[name].X\n",
    "#         v.setAttr(gp.GRB.Attr.LB, v_val) \n",
    "#         v.setAttr(gp.GRB.Attr.UB, v_val)\n",
    "#     model.update()\n",
    "#     model.optimize()\n",
    "\n",
    "# main_names = [\"h\", \"b\", \"alpha\", \"beta\", \"P\", \"lamb0\"]\n",
    "# evaluate_model_vals(problem.model, main_names, \\\n",
    "#                     vars=gp_vars, vals=gram_gp_vars)\n",
    "\n",
    "\n",
    "# for name in main_names:\n",
    "#     v_eval = gp_vars[name].X\n",
    "#     assert np.allclose(v_eval, gram_gp_vars[name].X), print(name, v_eval, gram_gp_vars[name].X)\n",
    "\n",
    "# for name in ['sum_ij_AC', 'sum_ij_La', 'Fweights_d', 'Gweights_d']:\n",
    "#     v_eval = co.gurobi_to_numpy(problem.gp_expressions[name]) \n",
    "#     v_eval_gram = co.gurobi_to_numpy(globals()[name])\n",
    "#     assert np.allclose(0, np.linalg.norm(v_eval.flatten()-v_eval_gram.flatten())), print(name)\n",
    "\n",
    "# sum1 = co.gurobi_to_numpy(problem.gp_expressions['sum_ij_La'] - \\\n",
    "#                           problem.gp_expressions['Fweights_d'])\n",
    "# sum2 = co.gurobi_to_numpy(problem.gp_expressions['sum_ij_AC'] - \\\n",
    "#                           problem.gp_expressions['Gweights_d']) - \\\n",
    "#                           gp_vars['P'].X @ gp_vars['P'].X.T\n",
    "\n",
    "# assert np.allclose(0, np.linalg.norm(sum1.flatten())) and np.allclose(0, np.linalg.norm(sum2.flatten()))\n",
    "\n",
    "# print(\"PASSED\")"
   ]
  },
  {
   "cell_type": "code",
   "execution_count": 17,
   "metadata": {},
   "outputs": [],
   "source": [
    "h_init = co_vars[\"h\"]\n",
    "b_init = co_vars[\"b\"]\n",
    "alpha_init = co_vars[\"alpha\"]\n",
    "beta_init = co_vars[\"beta\"]\n",
    "lamb_init = co_vars[\"lamb0\"]\n",
    "P_init = co_vars[\"P\"]\n",
    "alpha_h_init = alpha_init * h_init\n",
    "beta_h_init = beta_init * h_init"
   ]
  },
  {
   "cell_type": "code",
   "execution_count": 18,
   "metadata": {},
   "outputs": [
    {
     "data": {
      "text/plain": [
       "(47, -1.000000092397201)"
      ]
     },
     "execution_count": 18,
     "metadata": {},
     "output_type": "execute_result"
    }
   ],
   "source": [
    "model.NumVars, model.objVal"
   ]
  },
  {
   "cell_type": "code",
   "execution_count": 19,
   "metadata": {},
   "outputs": [
    {
     "data": {
      "text/plain": [
       "dict_keys(['b', 'd', 'h', 'alpha', 'beta', 'P', 'lamb0', 'beta_h', 'alpha_h', 'beta_beta', 'beta_beta_h', 'beta_beta_h_h', 'beta_h_h', 'h_h'])"
      ]
     },
     "execution_count": 19,
     "metadata": {},
     "output_type": "execute_result"
    }
   ],
   "source": [
    "gp_vars.keys()"
   ]
  },
  {
   "cell_type": "code",
   "execution_count": null,
   "metadata": {},
   "outputs": [],
   "source": []
  },
  {
   "cell_type": "code",
   "execution_count": 20,
   "metadata": {},
   "outputs": [
    {
     "data": {
      "text/plain": [
       "(1.0000004010112338,\n",
       " 1.000057693928346,\n",
       " 7.794641180673609e-08,\n",
       " 0.7468309943392725)"
      ]
     },
     "execution_count": 20,
     "metadata": {},
     "output_type": "execute_result"
    }
   ],
   "source": [
    "vars = [b, h, alpha, beta, alpha_h, beta_h, P, lamb0]\n",
    "eval_vars = [b_init, h_init, alpha_init, beta_init, alpha_h_init, beta_h_init, P_init, lamb_init]\n",
    "\n",
    "for v, v_val in zip(vars, eval_vars):\n",
    "    v.setAttr(gp.GRB.Attr.LB, v_val) \n",
    "    v.setAttr(gp.GRB.Attr.UB, v_val)\n",
    "model.update()\n",
    "model.optimize()\n",
    "\n",
    "\n",
    "b.X, h.X, alpha.X, beta.X"
   ]
  },
  {
   "cell_type": "code",
   "execution_count": 22,
   "metadata": {},
   "outputs": [
    {
     "name": "stdout",
     "output_type": "stream",
     "text": [
      "PASSED\n"
     ]
    }
   ],
   "source": [
    "for name in ['h', 'b', 'alpha', 'beta', 'P', 'lamb0']:\n",
    "    v_eval = globals()[name].X\n",
    "    assert np.allclose(v_eval, co_vars[name]), print(name, v_eval, co_vars[name])\n",
    "\n",
    "for name in ['sum_ij_AC', 'sum_ij_La', 'Fweights_d', 'Gweights_d']:\n",
    "    v_eval = co.gurobi_to_numpy(globals()[name])\n",
    "    assert np.allclose(0, np.linalg.norm(v_eval.flatten()-\\\n",
    "            co.gurobi_to_numpy(problem.gp_expressions[name]).flatten())), print(name)\n",
    "\n",
    "sum1 = co.gurobi_to_numpy(sum_ij_La - Fweights_d).flatten()\n",
    "sum2 = (co.gurobi_to_numpy(sum_ij_AC - Gweights_d) - co.gurobi_to_numpy(PPt)).flatten()\n",
    "\n",
    "co_sum1 = (co.gurobi_to_numpy(problem.gp_expressions[\"sum_ij_La\"])-co.gurobi_to_numpy(problem.gp_expressions[\"Fweights_d\"])).flatten()\n",
    "co_sum2 = (co.gurobi_to_numpy(problem.gp_expressions[\"sum_ij_AC\"]) - co.gurobi_to_numpy(problem.gp_expressions[\"Gweights_d\"]) - co_vars[\"P\"] @ co_vars[\"P\"].T).flatten()\n",
    "\n",
    "# assert np.allclose(0, np.linalg.norm(sum1.flatten())) and np.allclose(0, np.linalg.norm(sum2.flatten()))\n",
    "assert np.allclose(0, np.linalg.norm(sum1-co_sum1)) and np.allclose(0, np.linalg.norm(sum2-co_sum2))\n",
    "\n",
    "print(\"PASSED\")"
   ]
  },
  {
   "cell_type": "code",
   "execution_count": null,
   "metadata": {},
   "outputs": [],
   "source": []
  }
 ],
 "metadata": {
  "kernelspec": {
   "display_name": "Python 3 (ipykernel)",
   "language": "python",
   "name": "python3"
  },
  "language_info": {
   "codemirror_mode": {
    "name": "ipython",
    "version": 3
   },
   "file_extension": ".py",
   "mimetype": "text/x-python",
   "name": "python",
   "nbconvert_exporter": "python",
   "pygments_lexer": "ipython3",
   "version": "3.10.13"
  }
 },
 "nbformat": 4,
 "nbformat_minor": 2
}
