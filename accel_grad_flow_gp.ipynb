{
 "cells": [
  {
   "cell_type": "code",
   "execution_count": 1,
   "metadata": {},
   "outputs": [],
   "source": [
    "import ciropt as co\n",
    "import cvxpy as cp"
   ]
  },
  {
   "cell_type": "code",
   "execution_count": 2,
   "metadata": {},
   "outputs": [],
   "source": [
    "# L_smooth = 1.\n",
    "# mu = 0.0001\n",
    "mu = 0.\n",
    "\n",
    "Capacitance = 2.\n",
    "Inductance = 2.\n",
    "R = 1.\n",
    "L_smooth = 1/(2*R)\n",
    "\n",
    "time_limit=100"
   ]
  },
  {
   "cell_type": "markdown",
   "metadata": {},
   "source": [
    "# Ciropt problem"
   ]
  },
  {
   "cell_type": "code",
   "execution_count": 3,
   "metadata": {},
   "outputs": [],
   "source": [
    "# problem = co.accelerated_gradient_circuit(mu, L_smooth, R, Capacitance, Inductance)\n",
    "# problem.obj = problem.b + problem.d\n",
    "\n",
    "# bounds_names = ['alpha', 'beta', 'Z', \"lamb\"]\n",
    "# res, model = problem.solve(verbose=False, solver=\"sdp_relax\", var_bound=bounds_names[-1], max_iter=100, time_limit=time_limit)[:2]\n",
    "# vars = problem.vars\n",
    "# print(problem.bounds_vars)"
   ]
  },
  {
   "cell_type": "code",
   "execution_count": 4,
   "metadata": {},
   "outputs": [],
   "source": [
    "# problem = co.accelerated_gradient_circuit(mu, L_smooth, R, Capacitance, Inductance)\n",
    "# problem.obj = problem.b + problem.d\n",
    "\n",
    "# bounds_names = ['alpha', 'beta', 'Z', \"lamb\"]\n",
    "# res, model = problem.solve(verbose=True, solver=\"sdp_relax\", cvx_solver=cp.MOSEK, var_bound=bounds_names[2], max_iter=100, time_limit=time_limit)[:2]\n",
    "# vars = problem.vars\n",
    "# print(problem.bounds_vars)"
   ]
  },
  {
   "cell_type": "code",
   "execution_count": 5,
   "metadata": {},
   "outputs": [
    {
     "name": "stdout",
     "output_type": "stream",
     "text": [
      "dim_G=6, dim_F=4\n",
      "Restricted license - for non-production use only - expires 2024-10-28\n",
      "<class 'numpy.ndarray'> <class 'gurobipy.MQuadExpr'> <class 'numpy.ndarray'>\n"
     ]
    },
    {
     "name": "stderr",
     "output_type": "stream",
     "text": [
      "c:\\Users\\jacks\\GitHub\\optimization_via_circuits\\ciropt\\extra_methods.py:250: RuntimeWarning: Chained matrix multiplications of MVars is inefficient, collect numeric terms first when building expressions\n",
      "  model.addConstr(  (M1 @ var_x).item()  - gp_trace(M2 @ var_X) == 0)\n"
     ]
    },
    {
     "name": "stdout",
     "output_type": "stream",
     "text": [
      "<class 'numpy.ndarray'> <class 'gurobipy.MQuadExpr'> <class 'numpy.ndarray'>\n",
      "<class 'numpy.ndarray'> <class 'gurobipy.MQuadExpr'> <class 'numpy.ndarray'>\n",
      "<class 'numpy.ndarray'> <class 'gurobipy.MQuadExpr'> <class 'numpy.ndarray'>\n"
     ]
    },
    {
     "name": "stderr",
     "output_type": "stream",
     "text": [
      "c:\\Users\\jacks\\GitHub\\optimization_via_circuits\\ciropt\\extra_methods.py:265: RuntimeWarning: Chained matrix multiplications of MVars is inefficient, collect numeric terms first when building expressions\n",
      "  + gp_trace(M2 @ var_X) \\\n",
      "c:\\Users\\jacks\\GitHub\\optimization_via_circuits\\ciropt\\extra_methods.py:266: RuntimeWarning: Chained matrix multiplications of MVars is inefficient, collect numeric terms first when building expressions\n",
      "  - gp_trace(M3 @ var_X) == 0)\n",
      "c:\\Users\\jacks\\GitHub\\optimization_via_circuits\\ciropt\\extra_methods.py:279: RuntimeWarning: Chained matrix multiplications of MVars is inefficient, collect numeric terms first when building expressions\n",
      "  model.addConstr( gp_trace(M1 @ var_X) + (M2 @ var_x).item() == 0)\n"
     ]
    },
    {
     "name": "stdout",
     "output_type": "stream",
     "text": [
      "Set parameter NonConvex to value 2\n",
      "Set parameter TimeLimit to value 100\n",
      "Set parameter FeasibilityTol to value 1e-09\n",
      "Set parameter Method to value 0\n",
      "Set parameter PoolSearchMode to value 1\n",
      "Set parameter Heuristics to value 0.001\n",
      "Gurobi Optimizer version 10.0.3 build v10.0.3rc0 (win64)\n",
      "\n",
      "CPU model: Intel(R) Core(TM) i5-8265U CPU @ 1.60GHz, instruction set [SSE2|AVX|AVX2]\n",
      "Thread count: 4 physical cores, 8 logical processors, using up to 8 threads\n",
      "\n",
      "Optimize a model with 44 rows, 72 columns and 44 nonzeros\n",
      "Model fingerprint: 0xa1ae9e57\n",
      "Model has 72 quadratic constraints\n",
      "Coefficient statistics:\n",
      "  Matrix range     [1e+00, 1e+00]\n",
      "  QMatrix range    [1e-01, 2e+00]\n",
      "  QLMatrix range   [6e-02, 1e+00]\n",
      "  Objective range  [1e+00, 1e+00]\n",
      "  Bounds range     [1e+03, 1e+03]\n",
      "  RHS range        [1e+00, 1e+01]\n",
      "Warning: Only barrier available for SOCP models\n",
      "Presolve removed 44 rows and 5 columns\n",
      "\n",
      "Continuous model is non-convex -- solving as a MIP\n",
      "\n",
      "Presolve removed 39 rows and 7 columns\n",
      "Presolve time: 0.00s\n",
      "Presolved: 350 rows, 122 columns, 959 nonzeros\n",
      "Presolved model has 89 bilinear constraint(s)\n",
      "Variable types: 122 continuous, 0 integer (0 binary)\n",
      "\n",
      "Root relaxation: objective -8.107000e+02, 143 iterations, 0.00 seconds (0.00 work units)\n",
      "\n",
      "    Nodes    |    Current Node    |     Objective Bounds      |     Work\n",
      " Expl Unexpl |  Obj  Depth IntInf | Incumbent    BestBd   Gap | It/Node Time\n",
      "\n",
      "     0     0 -810.70000    0   77          - -810.70000      -     -    0s\n",
      "     0     0 -773.55289    0   78          - -773.55289      -     -    0s\n",
      "     0     0 -766.61947    0   73          - -766.61947      -     -    0s\n",
      "     0     0 -761.80200    0   75          - -761.80200      -     -    0s\n",
      "     0     0 -538.08953    0   75          - -538.08953      -     -    0s\n",
      "     0     0 -538.08953    0   78          - -538.08953      -     -    0s\n",
      "     0     0 -538.08953    0   78          - -538.08953      -     -    0s\n",
      "     0     0 -443.80410    0   82          - -443.80410      -     -    0s\n",
      "     0     0 -443.80410    0   78          - -443.80410      -     -    0s\n",
      "     0     0 -443.80410    0   81          - -443.80410      -     -    0s\n",
      "     0     0 -443.80410    0   81          - -443.80410      -     -    0s\n",
      "     0     0 -443.80410    0   84          - -443.80410      -     -    0s\n",
      "     0     0 -443.80410    0   84          - -443.80410      -     -    0s\n",
      "     0     0 -443.80410    0   86          - -443.80410      -     -    0s\n",
      "     0     0 -443.80410    0   86          - -443.80410      -     -    0s\n",
      "     0     0 -401.75152    0   84          - -401.75152      -     -    0s\n",
      "     0     0 -401.75152    0   84          - -401.75152      -     -    0s\n",
      "     0     0 -401.75152    0   78          - -401.75152      -     -    0s\n",
      "     0     0 -328.99058    0   83          - -328.99058      -     -    0s\n",
      "     0     0 -328.99058    0   81          - -328.99058      -     -    0s\n",
      "     0     0 -328.99058    0   81          - -328.99058      -     -    0s\n",
      "     0     0 -328.99058    0   76          - -328.99058      -     -    0s\n",
      "     0     0 -328.99058    0   79          - -328.99058      -     -    0s\n",
      "     0     0 -328.99058    0   79          - -328.99058      -     -    0s\n",
      "     0     0 -328.99058    0   79          - -328.99058      -     -    0s\n",
      "     0     0 -328.99058    0   79          - -328.99058      -     -    0s\n",
      "     0     0 -328.99058    0   78          - -328.99058      -     -    0s\n",
      "     0     2 -328.99058    0   78          - -328.99058      -     -    0s\n",
      " 11093  7920  -14.29811   48   81          -  -78.68308      -  50.0    5s\n",
      "*13362  9837             167      -2.3412695  -75.72070  3134%  49.9    6s\n",
      "*13363  9837             167      -2.3412705  -75.72070  3134%  49.9    6s\n",
      "*14993 11004             163      -2.9170583  -75.72070  2496%  47.0    6s\n",
      "*15078 11600             236      -3.2066765  -75.72070  2261%  46.8    6s\n",
      "*15645  9603             175      -3.2336302  -75.72070  2242%  45.6    6s\n",
      "*16508 10437             338      -3.3605509  -75.72070  2153%  44.0    6s\n",
      "*17245 10418             292      -3.4228600  -75.72070  2112%  42.9    6s\n",
      " 25917 14225  -40.71888   40   49   -3.42286  -61.92951  1709%  40.8   10s\n",
      " 38624 21052 infeasible   44        -3.42286  -55.94456  1534%  39.6   15s\n",
      " 52095 26072  -54.13635   34   72   -3.42286  -55.38457  1518%  39.3   20s\n",
      " 65056 33264     cutoff   41        -3.42286  -54.21516  1484%  39.2   25s\n",
      "*71580 36740             321      -3.9643360  -53.85711  1259%  38.6   27s\n",
      "*72372 36291             212      -4.0187530  -53.85711  1240%  38.4   27s\n",
      " 79167 40209   -7.40664   62   45   -4.01875  -53.06952  1221%  38.4   30s\n",
      " 91435 45773  -19.59291   41   71   -4.01875  -51.88232  1191%  38.5   35s\n",
      " 104611 53260     cutoff   48        -4.01875  -51.61132  1184%  38.6   40s\n",
      " 117129 59246  -26.80438   41   70   -4.01875  -49.37601  1129%  38.5   45s\n",
      "*118680 59784             277      -4.0454262  -48.98677  1111%  38.4   45s\n",
      " 130020 64263  -28.95239   43   66   -4.04543  -47.39835  1072%  38.2   50s\n",
      " 143674 71847   -7.09514   51   68   -4.04543  -47.39835  1072%  37.9   55s\n",
      " 157047 79067  -14.60735   58   67   -4.04543  -47.39835  1072%  37.7   60s\n",
      " 168835 84675  -29.06728   41   84   -4.04543  -46.97946  1061%  38.0   65s\n",
      " 179983 91347  -20.28381   41   63   -4.04543  -46.75315  1056%  38.3   70s\n",
      " 194145 98513   -6.44042   55   67   -4.04543  -46.68548  1054%  38.2   75s\n",
      "*203153 103267             123      -4.0476479  -46.08256  1039%  38.2   78s\n",
      " 206522 105188  -35.38116   36   65   -4.04765  -45.92654  1035%  38.1   80s\n",
      " 219710 112465   -5.64795   47   67   -4.04765  -45.73963  1030%  37.9   85s\n",
      " 231762 119188  -13.91163   56   66   -4.04765  -45.65109  1028%  37.9   90s\n",
      " 244419 125396   -8.44806   48   69   -4.04765  -45.59043  1026%  38.0   95s\n",
      " 257420 132076  -20.85096   47   72   -4.04765  -45.29949  1019%  37.9  100s\n",
      "\n",
      "Cutting planes:\n",
      "  RLT: 30\n",
      "  BQP: 3\n",
      "  PSD: 46\n",
      "\n",
      "Explored 257828 nodes (9784927 simplex iterations) in 100.01 seconds (44.29 work units)\n",
      "Thread count was 8 (of 8 available processors)\n",
      "\n",
      "Solution count 10: -4.04765 -4.04765 -4.04765 ... -4.04543\n",
      "\n",
      "Time limit reached\n",
      "Best objective -4.047647934068e+00, best bound -4.529948741576e+01, gap 1019.1558%\n"
     ]
    }
   ],
   "source": [
    "problem = co.accelerated_gradient_circuit(mu, L_smooth, R, Capacitance, Inductance)\n",
    "problem.obj = problem.b + problem.d\n",
    "\n",
    "res, model = problem.solve(verbose=True, solver=\"gp_canonical_X\", max_iter=100, time_limit=time_limit)[:2]\n",
    "vars = problem.vars"
   ]
  },
  {
   "cell_type": "code",
   "execution_count": 6,
   "metadata": {},
   "outputs": [
    {
     "data": {
      "text/plain": [
       "(9,\n",
       " {'b': 3.675472304370966,\n",
       "  'h': 8.110491667561545,\n",
       "  'd': 0.3721756296967076,\n",
       "  'alpha': 0.43525122143627804,\n",
       "  'beta': 0.4624541785915574})"
      ]
     },
     "execution_count": 6,
     "metadata": {},
     "output_type": "execute_result"
    }
   ],
   "source": [
    "model.status, res"
   ]
  },
  {
   "cell_type": "markdown",
   "metadata": {},
   "source": [
    "# PEP verification"
   ]
  },
  {
   "cell_type": "code",
   "execution_count": 9,
   "metadata": {},
   "outputs": [
    {
     "name": "stdout",
     "output_type": "stream",
     "text": [
      "diff=3.975666156962737e-10\n"
     ]
    }
   ],
   "source": [
    "problem = co.accelerated_gradient_circuit(mu, L_smooth, R, Capacitance, Inductance, params=res)\n",
    "diff = problem.solve(verbose=0, solver=cp.MOSEK)\n",
    "print(f\"{diff=}\")"
   ]
  }
 ],
 "metadata": {
  "kernelspec": {
   "display_name": "osbdo",
   "language": "python",
   "name": "python3"
  },
  "language_info": {
   "codemirror_mode": {
    "name": "ipython",
    "version": 3
   },
   "file_extension": ".py",
   "mimetype": "text/x-python",
   "name": "python",
   "nbconvert_exporter": "python",
   "pygments_lexer": "ipython3",
   "version": "3.11.5"
  }
 },
 "nbformat": 4,
 "nbformat_minor": 2
}
