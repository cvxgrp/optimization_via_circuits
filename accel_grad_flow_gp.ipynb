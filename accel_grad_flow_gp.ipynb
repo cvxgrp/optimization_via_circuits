{
 "cells": [
  {
   "cell_type": "code",
   "execution_count": 1,
   "metadata": {},
   "outputs": [],
   "source": [
    "import ciropt as co\n",
    "import cvxpy as cp"
   ]
  },
  {
   "cell_type": "code",
   "execution_count": 2,
   "metadata": {},
   "outputs": [],
   "source": [
    "# L_smooth = 1.\n",
    "mu = 0.0001\n",
    "\n",
    "Capacitance = 2.\n",
    "Inductance = 2.\n",
    "R = 1.\n",
    "L_smooth = 1/(2*R)\n",
    "\n",
    "time_limit=100"
   ]
  },
  {
   "cell_type": "markdown",
   "metadata": {},
   "source": [
    "# Ciropt problem"
   ]
  },
  {
   "cell_type": "code",
   "execution_count": 3,
   "metadata": {},
   "outputs": [],
   "source": [
    "# problem = co.accelerated_gradient_circuit(mu, L_smooth, R, Capacitance, Inductance)\n",
    "# problem.obj = problem.b + problem.d\n",
    "\n",
    "# bounds_names = ['alpha', 'beta', 'Z', \"lamb\"]\n",
    "# res, model = problem.solve(verbose=False, solver=\"sdp_relax\", var_bound=bounds_names[-1], max_iter=100, time_limit=time_limit)[:2]\n",
    "# vars = problem.vars\n",
    "# print(problem.bounds_vars)"
   ]
  },
  {
   "cell_type": "code",
   "execution_count": 4,
   "metadata": {},
   "outputs": [],
   "source": [
    "# problem = co.accelerated_gradient_circuit(mu, L_smooth, R, Capacitance, Inductance)\n",
    "# problem.obj = problem.b + problem.d\n",
    "\n",
    "# bounds_names = ['alpha', 'beta', 'Z', \"lamb\"]\n",
    "# res, model = problem.solve(verbose=True, solver=\"sdp_relax\", cvx_solver=cp.MOSEK, var_bound=bounds_names[2], max_iter=100, time_limit=time_limit)[:2]\n",
    "# vars = problem.vars\n",
    "# print(problem.bounds_vars)"
   ]
  },
  {
   "cell_type": "code",
   "execution_count": 5,
   "metadata": {},
   "outputs": [
    {
     "name": "stdout",
     "output_type": "stream",
     "text": [
      "dim_G=6, dim_F=4\n",
      "Restricted license - for non-production use only - expires 2024-10-28\n",
      "<class 'numpy.ndarray'> <class 'gurobipy.MQuadExpr'> <class 'numpy.ndarray'>\n"
     ]
    },
    {
     "name": "stderr",
     "output_type": "stream",
     "text": [
      "c:\\Users\\jacks\\GitHub\\optimization_via_circuits\\ciropt\\extra_methods.py:250: RuntimeWarning: Chained matrix multiplications of MVars is inefficient, collect numeric terms first when building expressions\n",
      "  model.addConstr(  (M1 @ var_x).item()  - gp_trace(M2 @ var_X) == 0)\n"
     ]
    },
    {
     "name": "stdout",
     "output_type": "stream",
     "text": [
      "<class 'numpy.ndarray'> <class 'gurobipy.MQuadExpr'> <class 'numpy.ndarray'>\n",
      "<class 'numpy.ndarray'> <class 'gurobipy.MQuadExpr'> <class 'numpy.ndarray'>\n",
      "<class 'numpy.ndarray'> <class 'gurobipy.MQuadExpr'> <class 'numpy.ndarray'>\n"
     ]
    },
    {
     "name": "stderr",
     "output_type": "stream",
     "text": [
      "c:\\Users\\jacks\\GitHub\\optimization_via_circuits\\ciropt\\extra_methods.py:265: RuntimeWarning: Chained matrix multiplications of MVars is inefficient, collect numeric terms first when building expressions\n",
      "  + gp_trace(M2 @ var_X) \\\n",
      "c:\\Users\\jacks\\GitHub\\optimization_via_circuits\\ciropt\\extra_methods.py:266: RuntimeWarning: Chained matrix multiplications of MVars is inefficient, collect numeric terms first when building expressions\n",
      "  - gp_trace(M3 @ var_X) == 0)\n",
      "c:\\Users\\jacks\\GitHub\\optimization_via_circuits\\ciropt\\extra_methods.py:279: RuntimeWarning: Chained matrix multiplications of MVars is inefficient, collect numeric terms first when building expressions\n",
      "  model.addConstr( gp_trace(M1 @ var_X) + (M2 @ var_x).item() == 0)\n"
     ]
    },
    {
     "name": "stdout",
     "output_type": "stream",
     "text": [
      "Set parameter NonConvex to value 2\n",
      "Set parameter TimeLimit to value 100\n",
      "Set parameter FeasibilityTol to value 1e-09\n",
      "Set parameter Method to value 0\n",
      "Set parameter PoolSearchMode to value 1\n",
      "Set parameter Heuristics to value 0.001\n",
      "Gurobi Optimizer version 10.0.3 build v10.0.3rc0 (win64)\n",
      "\n",
      "CPU model: Intel(R) Core(TM) i5-8265U CPU @ 1.60GHz, instruction set [SSE2|AVX|AVX2]\n",
      "Thread count: 4 physical cores, 8 logical processors, using up to 8 threads\n",
      "\n",
      "Optimize a model with 26 rows, 72 columns and 26 nonzeros\n",
      "Model fingerprint: 0x4a199235\n",
      "Model has 72 quadratic constraints\n",
      "Coefficient statistics:\n",
      "  Matrix range     [1e+00, 1e+00]\n",
      "  QMatrix range    [3e-06, 2e+00]\n",
      "  QLMatrix range   [6e-02, 1e+00]\n",
      "  Objective range  [1e+00, 1e+00]\n",
      "  Bounds range     [1e+03, 1e+03]\n",
      "  RHS range        [1e+00, 1e+00]\n",
      "Warning: Only barrier available for SOCP models\n",
      "Presolve removed 26 rows and 2 columns\n",
      "\n",
      "Continuous model is non-convex -- solving as a MIP\n",
      "\n",
      "Presolve removed 22 rows and 2 columns\n",
      "Presolve time: 0.00s\n",
      "Presolved: 629 rows, 192 columns, 1875 nonzeros\n",
      "Presolved model has 158 bilinear constraint(s)\n",
      "Variable types: 192 continuous, 0 integer (0 binary)\n",
      "\n",
      "Root relaxation: objective -1.274637e+03, 449 iterations, 0.01 seconds (0.01 work units)\n",
      "\n",
      "    Nodes    |    Current Node    |     Objective Bounds      |     Work\n",
      " Expl Unexpl |  Obj  Depth IntInf | Incumbent    BestBd   Gap | It/Node Time\n",
      "\n",
      "     0     0 -1274.6366    0  106          - -1274.6366      -     -    0s\n",
      "     0     0 -1241.5956    0  110          - -1241.5956      -     -    0s\n",
      "     0     0 -1141.4323    0  124          - -1141.4323      -     -    0s\n",
      "     0     0 -1141.1141    0  124          - -1141.1141      -     -    0s\n",
      "     0     0 -1081.1412    0  114          - -1081.1412      -     -    0s\n",
      "     0     0 -1080.5710    0  119          - -1080.5710      -     -    0s\n",
      "     0     0 -1046.7190    0  124          - -1046.7190      -     -    0s\n",
      "     0     0 -1044.3035    0  126          - -1044.3035      -     -    0s\n",
      "     0     0 -999.03839    0  126          - -999.03839      -     -    0s\n",
      "     0     0 -998.34606    0  120          - -998.34606      -     -    0s\n",
      "     0     0 -991.92964    0  117          - -991.92964      -     -    0s\n",
      "     0     0 -990.48526    0  117          - -990.48526      -     -    0s\n",
      "     0     0 -970.80556    0  124          - -970.80556      -     -    0s\n",
      "     0     0 -970.07197    0  122          - -970.07197      -     -    0s\n",
      "     0     0 -961.42752    0  123          - -961.42752      -     -    0s\n",
      "     0     0 -961.31456    0  122          - -961.31456      -     -    0s\n",
      "     0     0 -816.15813    0  120          - -816.15813      -     -    0s\n",
      "     0     0 -814.65821    0  122          - -814.65821      -     -    0s\n",
      "     0     0 -807.26773    0  127          - -807.26773      -     -    0s\n",
      "     0     0 -806.02737    0  122          - -806.02737      -     -    0s\n",
      "     0     0 -804.53277    0  127          - -804.53277      -     -    0s\n",
      "     0     0 -803.00147    0  122          - -803.00147      -     -    0s\n",
      "     0     0 -794.35770    0  116          - -794.35770      -     -    0s\n",
      "     0     0 -793.92587    0  119          - -793.92587      -     -    0s\n",
      "     0     0 -792.64252    0  124          - -792.64252      -     -    0s\n",
      "     0     0 -791.85936    0  118          - -791.85936      -     -    0s\n",
      "     0     0 -782.14307    0  122          - -782.14307      -     -    0s\n",
      "     0     0 -781.52570    0  119          - -781.52570      -     -    0s\n",
      "     0     0 -779.49312    0  123          - -779.49312      -     -    0s\n",
      "     0     0 -779.42638    0  122          - -779.42638      -     -    0s\n",
      "     0     0 -778.34849    0  117          - -778.34849      -     -    0s\n",
      "     0     0 -754.43654    0  115          - -754.43654      -     -    0s\n",
      "     0     2 -754.43654    0  115          - -754.43654      -     -    0s\n",
      "  1270   942 -238.13880   16    0   -4.13503 -586.73390      -  76.8    5s\n",
      "  3314  1628  -18.89732   71  102   -4.13503 -576.96377      -   103   10s\n",
      "  7446  3751 -211.85736   65  130   -4.13503 -573.44321      -   113   15s\n",
      " 11207  6498  -67.30175   82  120   -4.13503 -570.90552      -   117   20s\n",
      " 15676  9151 infeasible   80        -4.13503 -566.30257      -   113   25s\n",
      " 20030 11685 -146.37663   88  114   -4.13503 -563.74235      -   110   30s\n",
      " 24685 14510 -377.53486   51  128   -4.13503 -560.26752      -   112   35s\n",
      " 28842 16994 -407.06317   53  119   -4.13503 -556.55941      -   112   40s\n",
      " 32846 19747  -20.05753   83  131   -4.13503 -553.98876      -   113   45s\n",
      " 37059 22302 infeasible  110        -4.13503 -552.75495      -   113   50s\n",
      " 42351 25705  -21.52483   94  112   -4.13503 -551.55041      -   111   55s\n",
      " 46378 28051 -459.54422   62  110   -4.13503 -550.13454      -   111   60s\n",
      " 50768 30892   -1.14088   74  116   -4.13503 -549.28524      -   110   65s\n",
      " 56444 34068   -2.48936  102   25   -4.13503 -548.04924      -   108   70s\n",
      " 60430 36791 infeasible   73        -4.13503 -547.86805      -   109   75s\n",
      " 64902 39685 infeasible   89        -4.13503 -547.05278      -   110   80s\n",
      " 68781 42527   -5.48716  108   97   -4.13503 -546.55704      -   110   85s\n",
      " 73106 45123 -127.25503   51   89   -4.13503 -545.86531      -   110   90s\n",
      " 78161 48640   -5.89427  113  126   -4.13503 -545.20935      -   110   95s\n",
      " 82475 51234 -205.90750   64  117   -4.13503 -543.93915      -   109  100s\n",
      "\n",
      "Cutting planes:\n",
      "  RLT: 79\n",
      "  PSD: 82\n",
      "\n",
      "Explored 83256 nodes (9061677 simplex iterations) in 100.01 seconds (58.22 work units)\n",
      "Thread count was 8 (of 8 available processors)\n",
      "\n",
      "Solution count 1: -4.13503 \n",
      "\n",
      "Time limit reached\n",
      "Warning: max constraint violation (3.1033e-07) exceeds tolerance\n",
      "Best objective -4.135032122677e+00, best bound -5.438366862569e+02, gap 13051.9338%\n"
     ]
    }
   ],
   "source": [
    "problem = co.accelerated_gradient_circuit(mu, L_smooth, R, Capacitance, Inductance)\n",
    "problem.obj = problem.b + problem.d\n",
    "\n",
    "res, model = problem.solve(verbose=True, solver=\"gp_canonical_X\", max_iter=100, time_limit=time_limit)[:2]\n",
    "vars = problem.vars"
   ]
  },
  {
   "cell_type": "code",
   "execution_count": 6,
   "metadata": {},
   "outputs": [
    {
     "data": {
      "text/plain": [
       "(9,\n",
       " {'b': 3.6786286743792855,\n",
       "  'h': 6.865730556397848,\n",
       "  'd': 0.45640344829796037,\n",
       "  'alpha': 0.4757694368909072,\n",
       "  'beta': 0.4974618751231015})"
      ]
     },
     "execution_count": 6,
     "metadata": {},
     "output_type": "execute_result"
    }
   ],
   "source": [
    "model.status, res"
   ]
  },
  {
   "cell_type": "code",
   "execution_count": 7,
   "metadata": {},
   "outputs": [],
   "source": [
    "# bounds = {  'b': {\"ub\": 10, \"lb\": 0.},\n",
    "#             'd': {\"ub\": 10, \"lb\": 0.},\n",
    "#             'h': {\"ub\": 10, \"lb\": 0},\n",
    "#             'alpha': {\"ub\": 1, \"lb\": -1},\n",
    "#             'beta': {\"ub\": 1, \"lb\": -1},}"
   ]
  },
  {
   "cell_type": "code",
   "execution_count": 8,
   "metadata": {},
   "outputs": [],
   "source": [
    "import numpy as np\n",
    "import pickle\n",
    "\n",
    "# res = vars\n",
    "\n",
    "# with open('AGD_dccp.pickle', 'wb') as handle:\n",
    "#     pickle.dump(res, handle, protocol=pickle.HIGHEST_PROTOCOL)\n",
    "\n",
    "# with open('AGD_dccp.pickle', 'rb') as handle:\n",
    "#     vars = pickle.load(handle)\n",
    "\n",
    "# P = co.cholseky_matrix(vars[\"Z\"])\n",
    "# P_flatten = co.flatten_lower_tri(P)\n",
    "# var_x = np.concatenate([vars[\"x\"], P_flatten.reshape(-1, 1)], axis=0)\n",
    "# print(var_x.shape)\n",
    "# init_values = {\"x\": var_x}\n",
    "\n",
    "\n",
    "# problem = co.accelerated_gradient_circuit(mu, L_smooth, R, Capacitance, Inductance)\n",
    "# problem.obj = problem.b + problem.d\n",
    "# res, model = problem.solve(verbose=True, solver=\"ca_canonical_X\", init_values=init_values)[:2]"
   ]
  },
  {
   "cell_type": "markdown",
   "metadata": {},
   "source": [
    "# PEP verification"
   ]
  },
  {
   "cell_type": "code",
   "execution_count": 9,
   "metadata": {},
   "outputs": [
    {
     "name": "stdout",
     "output_type": "stream",
     "text": [
      "diff=4.865115421637256e-09\n"
     ]
    }
   ],
   "source": [
    "problem = co.accelerated_gradient_circuit(mu, L_smooth, R, Capacitance, Inductance, params=res)\n",
    "diff = problem.solve(verbose=0, solver=cp.MOSEK)\n",
    "print(f\"{diff=}\")"
   ]
  },
  {
   "cell_type": "code",
   "execution_count": null,
   "metadata": {},
   "outputs": [],
   "source": []
  },
  {
   "cell_type": "code",
   "execution_count": null,
   "metadata": {},
   "outputs": [],
   "source": []
  }
 ],
 "metadata": {
  "kernelspec": {
   "display_name": "osbdo",
   "language": "python",
   "name": "python3"
  },
  "language_info": {
   "codemirror_mode": {
    "name": "ipython",
    "version": 3
   },
   "file_extension": ".py",
   "mimetype": "text/x-python",
   "name": "python",
   "nbconvert_exporter": "python",
   "pygments_lexer": "ipython3",
   "version": "3.11.5"
  }
 },
 "nbformat": 4,
 "nbformat_minor": 2
}
