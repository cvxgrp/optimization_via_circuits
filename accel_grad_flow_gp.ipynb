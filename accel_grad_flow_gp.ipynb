{
 "cells": [
  {
   "cell_type": "code",
   "execution_count": 26,
   "metadata": {},
   "outputs": [],
   "source": [
    "import ciropt as co\n",
    "import cvxpy as cp"
   ]
  },
  {
   "cell_type": "code",
   "execution_count": 27,
   "metadata": {},
   "outputs": [],
   "source": [
    "# L_smooth = 1.\n",
    "mu = 0.0001\n",
    "\n",
    "Capacitance = 2.\n",
    "Inductance = 2.\n",
    "R = 1.\n",
    "L_smooth = 1/(2*R)\n",
    "\n",
    "time_limit=100"
   ]
  },
  {
   "cell_type": "markdown",
   "metadata": {},
   "source": [
    "# Ciropt problem"
   ]
  },
  {
   "cell_type": "code",
   "execution_count": 28,
   "metadata": {},
   "outputs": [
    {
     "name": "stdout",
     "output_type": "stream",
     "text": [
      "dim_G=6, dim_F=4\n",
      "<class 'numpy.ndarray'> <class 'gurobipy.MQuadExpr'> <class 'numpy.ndarray'>\n",
      "<class 'numpy.ndarray'> <class 'gurobipy.MQuadExpr'> <class 'numpy.ndarray'>\n",
      "<class 'numpy.ndarray'> <class 'gurobipy.MQuadExpr'> <class 'numpy.ndarray'>\n",
      "<class 'numpy.ndarray'> <class 'gurobipy.MQuadExpr'> <class 'numpy.ndarray'>\n"
     ]
    }
   ],
   "source": [
    "problem = co.accelerated_gradient_circuit(mu, L_smooth, R, Capacitance, Inductance)\n",
    "problem.obj = problem.b + problem.d\n",
    "\n",
    "bounds_names = ['alpha', 'beta', 'Z', \"lamb\"]\n",
    "# res, model = problem.solve(verbose=False, solver=\"sdp_relax\", var_bound=bounds_names[-1], max_iter=100, time_limit=time_limit)[:2]\n",
    "res, model = problem.solve(verbose=False, solver=\"gp_canonical_X\", var_bound=bounds_names[-1], max_iter=100, time_limit=time_limit)[:2]\n",
    "vars = problem.vars\n",
    "# print(problem.bounds_vars)"
   ]
  },
  {
   "cell_type": "code",
   "execution_count": 29,
   "metadata": {},
   "outputs": [
    {
     "data": {
      "text/plain": [
       "(9,\n",
       " {'b': 3.678628719323824,\n",
       "  'h': 6.860055561006623,\n",
       "  'd': 0.45640340333825563,\n",
       "  'alpha': 0.4760476210948134,\n",
       "  'beta': 0.4977590858221894})"
      ]
     },
     "execution_count": 29,
     "metadata": {},
     "output_type": "execute_result"
    }
   ],
   "source": [
    "model.status, res"
   ]
  },
  {
   "cell_type": "code",
   "execution_count": 30,
   "metadata": {},
   "outputs": [],
   "source": [
    "# problem = co.accelerated_gradient_circuit(mu, L_smooth, R, Capacitance, Inductance)\n",
    "# problem.obj = problem.b + problem.d\n",
    "\n",
    "# bounds_names = ['alpha', 'beta', 'Z', \"lamb\"]\n",
    "# res, model = problem.solve(verbose=True, solver=\"sdp_relax\", cvx_solver=cp.MOSEK, var_bound=bounds_names[2], max_iter=100, time_limit=time_limit)[:2]\n",
    "# vars = problem.vars\n",
    "# print(problem.bounds_vars)"
   ]
  },
  {
   "cell_type": "code",
   "execution_count": 31,
   "metadata": {},
   "outputs": [],
   "source": [
    "# problem = co.accelerated_gradient_circuit(mu, L_smooth, R, Capacitance, Inductance)\n",
    "# problem.obj = problem.b + problem.d\n",
    "\n",
    "# res, model = problem.solve(verbose=True, solver=\"gp_canonical_X\", max_iter=100, time_limit=time_limit)[:2]\n",
    "# vars = problem.vars"
   ]
  },
  {
   "cell_type": "code",
   "execution_count": 32,
   "metadata": {},
   "outputs": [
    {
     "data": {
      "text/plain": [
       "(9,\n",
       " {'b': 3.678628719323824,\n",
       "  'h': 6.860055561006623,\n",
       "  'd': 0.45640340333825563,\n",
       "  'alpha': 0.4760476210948134,\n",
       "  'beta': 0.4977590858221894})"
      ]
     },
     "execution_count": 32,
     "metadata": {},
     "output_type": "execute_result"
    }
   ],
   "source": [
    "model.status, res"
   ]
  },
  {
   "cell_type": "code",
   "execution_count": 33,
   "metadata": {},
   "outputs": [],
   "source": [
    "# bounds = {  'b': {\"ub\": 10, \"lb\": 0.},\n",
    "#             'd': {\"ub\": 10, \"lb\": 0.},\n",
    "#             'h': {\"ub\": 10, \"lb\": 0},\n",
    "#             'alpha': {\"ub\": 1, \"lb\": -1},\n",
    "#             'beta': {\"ub\": 1, \"lb\": -1},}"
   ]
  },
  {
   "cell_type": "code",
   "execution_count": 34,
   "metadata": {},
   "outputs": [],
   "source": [
    "import numpy as np\n",
    "import pickle\n",
    "\n",
    "# res = vars\n",
    "\n",
    "# with open('AGD_dccp.pickle', 'wb') as handle:\n",
    "#     pickle.dump(res, handle, protocol=pickle.HIGHEST_PROTOCOL)\n",
    "\n",
    "# with open('AGD_dccp.pickle', 'rb') as handle:\n",
    "#     vars = pickle.load(handle)\n",
    "\n",
    "# P = co.cholseky_matrix(vars[\"Z\"])\n",
    "# P_flatten = co.flatten_lower_tri(P)\n",
    "# var_x = np.concatenate([vars[\"x\"], P_flatten.reshape(-1, 1)], axis=0)\n",
    "# print(var_x.shape)\n",
    "# init_values = {\"x\": var_x}\n",
    "\n",
    "\n",
    "# problem = co.accelerated_gradient_circuit(mu, L_smooth, R, Capacitance, Inductance)\n",
    "# problem.obj = problem.b + problem.d\n",
    "# res, model = problem.solve(verbose=True, solver=\"ca_canonical_X\", init_values=init_values)[:2]"
   ]
  },
  {
   "cell_type": "markdown",
   "metadata": {},
   "source": [
    "# PEP verification"
   ]
  },
  {
   "cell_type": "code",
   "execution_count": 35,
   "metadata": {},
   "outputs": [
    {
     "name": "stdout",
     "output_type": "stream",
     "text": [
      "diff=1.3049468172710021e-09\n"
     ]
    }
   ],
   "source": [
    "problem = co.accelerated_gradient_circuit(mu, L_smooth, R, Capacitance, Inductance, params=res)\n",
    "diff = problem.solve(verbose=0, solver=cp.MOSEK)\n",
    "print(f\"{diff=}\")"
   ]
  },
  {
   "cell_type": "code",
   "execution_count": null,
   "metadata": {},
   "outputs": [],
   "source": []
  },
  {
   "cell_type": "code",
   "execution_count": null,
   "metadata": {},
   "outputs": [],
   "source": []
  }
 ],
 "metadata": {
  "kernelspec": {
   "display_name": "osbdo",
   "language": "python",
   "name": "python3"
  },
  "language_info": {
   "codemirror_mode": {
    "name": "ipython",
    "version": 3
   },
   "file_extension": ".py",
   "mimetype": "text/x-python",
   "name": "python",
   "nbconvert_exporter": "python",
   "pygments_lexer": "ipython3",
   "version": "3.9.18"
  }
 },
 "nbformat": 4,
 "nbformat_minor": 2
}
